{
 "cells": [
  {
   "cell_type": "markdown",
   "metadata": {},
   "source": [
    "## Feature Engineering and CV, continued from eda_4_22\n",
    "\n",
    "New train and test generation, features include:\n",
    "- customer info in the second month\n",
    "- products in the first month\n",
    "- combination of first and second month `ind_actividad_cliente`\n",
    "- combination of first and second month `tiprel_1mes`\n",
    "- combination of first month product by using binary number (`target_combine`)\n",
    "- encoding `target_combine` with \n",
    "    - mean number of new products\n",
    "    - mean number of customers with new products\n",
    "    - mean number of customers with each new products\n",
    "- Count patterns in the last `max_lag` months\n",
    "\n",
    "\n",
    "#### CV@2015-12-28:\n",
    "- benchmark: val = 1.62857\n",
    "- with only `ind_actividad_client_combine`, `tiprel_1mes_combine`, `target_combine`, mlogloss=1.57141\n",
    "- with `ind_actividad_client_combine`, `tiprel_1mes_combine`, `target_combine`, `n_products` and patterns: val = 1.31122\n",
    "- Private score: 0.0302475, public score: 0.0299266"
   ]
  },
  {
   "cell_type": "code",
   "execution_count": 1,
   "metadata": {},
   "outputs": [],
   "source": [
    "from santander_helper import *"
   ]
  },
  {
   "cell_type": "markdown",
   "metadata": {},
   "source": [
    "### New pattern couting function\n",
    "\n",
    "For train sets, only count patterns for customers who add new products in the next/second month.\n",
    "For test set, count all patterns.\n",
    "Save pattern counting data for later use. \n",
    "\n",
    "The function is moved to santander_helper.py"
   ]
  },
  {
   "cell_type": "code",
   "execution_count": 5,
   "metadata": {},
   "outputs": [
    {
     "name": "stdout",
     "output_type": "stream",
     "text": [
      "\n",
      "Start counting patterns:\n"
     ]
    }
   ],
   "source": [
    "x_train, y_train = create_train('2015-06-28', pattern_flag=True)"
   ]
  },
  {
   "cell_type": "code",
   "execution_count": 8,
   "metadata": {},
   "outputs": [
    {
     "name": "stdout",
     "output_type": "stream",
     "text": [
      "\n",
      "Start counting patterns:\n"
     ]
    }
   ],
   "source": [
    "x_val, y_val = create_train('2015-12-28', pattern_flag=True)"
   ]
  },
  {
   "cell_type": "code",
   "execution_count": 9,
   "metadata": {},
   "outputs": [
    {
     "name": "stdout",
     "output_type": "stream",
     "text": [
      "\n",
      "Start counting patterns:\n"
     ]
    }
   ],
   "source": [
    "x_test = create_test(pattern_flag=True)"
   ]
  },
  {
   "cell_type": "markdown",
   "metadata": {},
   "source": [
    "### Train model"
   ]
  },
  {
   "cell_type": "code",
   "execution_count": 10,
   "metadata": {},
   "outputs": [
    {
     "name": "stdout",
     "output_type": "stream",
     "text": [
      "[0]\ttrain-mlogloss:2.70705\tval-mlogloss:2.73845\n",
      "[1]\ttrain-mlogloss:2.53978\tval-mlogloss:2.59421\n",
      "[2]\ttrain-mlogloss:2.40165\tval-mlogloss:2.47167\n",
      "[3]\ttrain-mlogloss:2.2863\tval-mlogloss:2.36808\n",
      "[4]\ttrain-mlogloss:2.18682\tval-mlogloss:2.29041\n",
      "[5]\ttrain-mlogloss:2.10001\tval-mlogloss:2.21372\n",
      "[6]\ttrain-mlogloss:2.02277\tval-mlogloss:2.14565\n",
      "[7]\ttrain-mlogloss:1.95338\tval-mlogloss:2.09042\n",
      "[8]\ttrain-mlogloss:1.89002\tval-mlogloss:2.03509\n",
      "[9]\ttrain-mlogloss:1.83277\tval-mlogloss:1.98523\n",
      "[10]\ttrain-mlogloss:1.77963\tval-mlogloss:1.93927\n",
      "[11]\ttrain-mlogloss:1.73166\tval-mlogloss:1.89692\n",
      "[12]\ttrain-mlogloss:1.68653\tval-mlogloss:1.85732\n",
      "[13]\ttrain-mlogloss:1.64425\tval-mlogloss:1.82003\n",
      "[14]\ttrain-mlogloss:1.60524\tval-mlogloss:1.78635\n",
      "[15]\ttrain-mlogloss:1.56854\tval-mlogloss:1.75496\n",
      "[16]\ttrain-mlogloss:1.53421\tval-mlogloss:1.72568\n",
      "[17]\ttrain-mlogloss:1.50157\tval-mlogloss:1.70161\n",
      "[18]\ttrain-mlogloss:1.47061\tval-mlogloss:1.67457\n",
      "[19]\ttrain-mlogloss:1.4418\tval-mlogloss:1.65358\n",
      "[20]\ttrain-mlogloss:1.41461\tval-mlogloss:1.63332\n",
      "[21]\ttrain-mlogloss:1.38885\tval-mlogloss:1.61047\n",
      "[22]\ttrain-mlogloss:1.36462\tval-mlogloss:1.58847\n",
      "[23]\ttrain-mlogloss:1.34148\tval-mlogloss:1.56838\n",
      "[24]\ttrain-mlogloss:1.31954\tval-mlogloss:1.55071\n",
      "[25]\ttrain-mlogloss:1.29883\tval-mlogloss:1.53351\n",
      "[26]\ttrain-mlogloss:1.27901\tval-mlogloss:1.51626\n",
      "[27]\ttrain-mlogloss:1.25995\tval-mlogloss:1.5009\n",
      "[28]\ttrain-mlogloss:1.24189\tval-mlogloss:1.48792\n",
      "[29]\ttrain-mlogloss:1.22469\tval-mlogloss:1.47312\n",
      "[30]\ttrain-mlogloss:1.20851\tval-mlogloss:1.46001\n",
      "[31]\ttrain-mlogloss:1.19276\tval-mlogloss:1.44693\n",
      "[32]\ttrain-mlogloss:1.17786\tval-mlogloss:1.43462\n",
      "[33]\ttrain-mlogloss:1.1637\tval-mlogloss:1.42234\n",
      "[34]\ttrain-mlogloss:1.14988\tval-mlogloss:1.41067\n",
      "[35]\ttrain-mlogloss:1.13666\tval-mlogloss:1.39916\n",
      "[36]\ttrain-mlogloss:1.12429\tval-mlogloss:1.38828\n",
      "[37]\ttrain-mlogloss:1.11227\tval-mlogloss:1.37825\n",
      "[38]\ttrain-mlogloss:1.10067\tval-mlogloss:1.36825\n",
      "[39]\ttrain-mlogloss:1.08952\tval-mlogloss:1.35911\n",
      "[40]\ttrain-mlogloss:1.07891\tval-mlogloss:1.35028\n",
      "[41]\ttrain-mlogloss:1.06871\tval-mlogloss:1.34284\n",
      "[42]\ttrain-mlogloss:1.05888\tval-mlogloss:1.33534\n",
      "[43]\ttrain-mlogloss:1.04969\tval-mlogloss:1.3282\n",
      "[44]\ttrain-mlogloss:1.04078\tval-mlogloss:1.32085\n",
      "[45]\ttrain-mlogloss:1.03202\tval-mlogloss:1.31388\n",
      "[46]\ttrain-mlogloss:1.02372\tval-mlogloss:1.30728\n",
      "[47]\ttrain-mlogloss:1.01588\tval-mlogloss:1.30098\n",
      "[48]\ttrain-mlogloss:1.00813\tval-mlogloss:1.29464\n",
      "[49]\ttrain-mlogloss:1.00073\tval-mlogloss:1.28925\n"
     ]
    }
   ],
   "source": [
    "param = {'objective': 'multi:softprob', \n",
    "         'eta': 0.05, \n",
    "         'max_depth': 8, \n",
    "         'silent': 1, \n",
    "         'num_class': len(target_cols),\n",
    "         'eval_metric': 'mlogloss',\n",
    "         'min_child_weight': 1,\n",
    "         'subsample': 0.7,\n",
    "         'colsample_bytree': 0.7,\n",
    "         'seed': 0}\n",
    "num_rounds = 50\n",
    "\n",
    "dtrain = xgb.DMatrix(x_train.values, y_train.values)\n",
    "dval = xgb.DMatrix(x_val.values, y_val.values)\n",
    "model = xgb.train(param, dtrain, num_rounds, evals=[(dtrain, 'train'), (dval, 'val')], verbose_eval=True)"
   ]
  },
  {
   "cell_type": "code",
   "execution_count": 11,
   "metadata": {},
   "outputs": [],
   "source": [
    "preds = model.predict(xgb.DMatrix(x_test.values))\n",
    "\n",
    "df_preds = pd.DataFrame(preds, index=x_test.index, columns=target_cols)\n",
    "# Remove already bought products \n",
    "df_preds[x_test[target_cols]==1] = 0 \n",
    "preds = df_preds.values\n",
    "preds = np.argsort(preds, axis=1)\n",
    "preds = np.fliplr(preds)[:, :7]"
   ]
  },
  {
   "cell_type": "code",
   "execution_count": 12,
   "metadata": {},
   "outputs": [],
   "source": [
    "test_id = x_test.loc[:, 'ncodpers'].values\n",
    "final_preds = [' '.join([target_cols[k] for k in pred]) for pred in preds]\n",
    "\n",
    "out_df = pd.DataFrame({'ncodpers': test_id, 'added_products': final_preds})\n",
    "out_df.to_csv('eda_4_23.csv.gz', compression='gzip', index=False)"
   ]
  },
  {
   "cell_type": "code",
   "execution_count": null,
   "metadata": {},
   "outputs": [],
   "source": []
  }
 ],
 "metadata": {
  "kernelspec": {
   "display_name": "Python 3",
   "language": "python",
   "name": "python3"
  },
  "language_info": {
   "codemirror_mode": {
    "name": "ipython",
    "version": 3
   },
   "file_extension": ".py",
   "mimetype": "text/x-python",
   "name": "python",
   "nbconvert_exporter": "python",
   "pygments_lexer": "ipython3",
   "version": "3.6.6"
  }
 },
 "nbformat": 4,
 "nbformat_minor": 2
}
