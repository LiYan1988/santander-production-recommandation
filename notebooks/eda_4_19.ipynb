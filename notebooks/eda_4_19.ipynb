{
 "cells": [
  {
   "cell_type": "markdown",
   "metadata": {},
   "source": [
    "## Feature Engineering in RAM-Limited Data, Part 5\n",
    "\n",
    "#### CV for mean encoding of `target_combine`\n",
    "\n",
    "#### CV@2015-12-28:\n",
    "- benchmark: val = 1.62857\n",
    "- with only `ind_actividad_client_combine`, `tiprel_1mes_combine`, `target_combine`, mlogloss=1.57141\n",
    "- with `ind_actividad_client_combine`, `tiprel_1mes_combine`, `target_combine`, `n_products` and patterns: val = 1.31122\n",
    "    - Private score: 0.0302475, public score: 0.0299266\n",
    "\n",
    "- with all above and mean encoding of target indicator and target #products: mlogloss=1.30756\n",
    "    - Private score: 0.0302597, public score: 0.0299519"
   ]
  },
  {
   "cell_type": "code",
   "execution_count": 1,
   "metadata": {},
   "outputs": [],
   "source": [
    "from santander_helper import *\n",
    "%matplotlib inline"
   ]
  },
  {
   "cell_type": "markdown",
   "metadata": {},
   "source": [
    "Generate data"
   ]
  },
  {
   "cell_type": "code",
   "execution_count": 2,
   "metadata": {},
   "outputs": [
    {
     "name": "stdout",
     "output_type": "stream",
     "text": [
      "Loading 2015-05-28 data\n",
      "Loading 2015-06-28 data\n",
      "Products in 2015-06-28\n",
      "Products in 2015-05-28\n",
      "New products added in 2015-06-28\n",
      "Join customer features and previous month products for 2015-06-28\n",
      "Concatenate this and previous months ind_activadad_cliente\n",
      "Concatenate this and previous months tiprel_1mes\n",
      "Combine all products for each customer\n",
      "\n",
      "Start counting patterns:\n",
      "Encoding pattern...\n"
     ]
    },
    {
     "name": "stderr",
     "output_type": "stream",
     "text": [
      "100%|████████████████████████████████████████████████████████████████████████| 640825/640825 [01:40<00:00, 6375.32it/s]\n"
     ]
    },
    {
     "name": "stdout",
     "output_type": "stream",
     "text": [
      "Finding pattern...\n",
      "Counting pattern...\n"
     ]
    },
    {
     "name": "stderr",
     "output_type": "stream",
     "text": [
      "100%|████████████████████████████████████████████████████████████████████████| 634760/634760 [03:09<00:00, 3346.86it/s]\n"
     ]
    },
    {
     "name": "stdout",
     "output_type": "stream",
     "text": [
      "Prepare target\n",
      "Time used: 5.906 min\n"
     ]
    }
   ],
   "source": [
    "x_train, y_train = create_train_test('2015-06-28', target_flag=True, pattern_flag=True)"
   ]
  },
  {
   "cell_type": "code",
   "execution_count": 3,
   "metadata": {},
   "outputs": [
    {
     "name": "stdout",
     "output_type": "stream",
     "text": [
      "Loading 2015-11-28 data\n",
      "Loading 2015-12-28 data\n",
      "Products in 2015-12-28\n",
      "Products in 2015-11-28\n",
      "New products added in 2015-12-28\n",
      "Join customer features and previous month products for 2015-12-28\n",
      "Concatenate this and previous months ind_activadad_cliente\n",
      "Concatenate this and previous months tiprel_1mes\n",
      "Combine all products for each customer\n",
      "\n",
      "Start counting patterns:\n",
      "Encoding pattern...\n"
     ]
    },
    {
     "name": "stderr",
     "output_type": "stream",
     "text": [
      "100%|████████████████████████████████████████████████████████████████████████| 912728/912728 [02:22<00:00, 6418.74it/s]\n"
     ]
    },
    {
     "name": "stdout",
     "output_type": "stream",
     "text": [
      "Finding pattern...\n",
      "Counting pattern...\n"
     ]
    },
    {
     "name": "stderr",
     "output_type": "stream",
     "text": [
      "100%|████████████████████████████████████████████████████████████████████████| 893990/893990 [04:28<00:00, 3331.70it/s]\n"
     ]
    },
    {
     "name": "stdout",
     "output_type": "stream",
     "text": [
      "Prepare target\n",
      "Time used: 8.372 min\n"
     ]
    }
   ],
   "source": [
    "x_val, y_val = create_train_test('2015-12-28', max_lag=5, target_flag=True, pattern_flag=True)"
   ]
  },
  {
   "cell_type": "code",
   "execution_count": 4,
   "metadata": {},
   "outputs": [
    {
     "name": "stdout",
     "output_type": "stream",
     "text": [
      "Loading 2016-05-28 data\n",
      "Loading 2016-06-28 data\n",
      "Products in 2016-06-28\n",
      "Products in 2016-05-28\n",
      "New products added in 2016-06-28\n",
      "Join customer features and previous month products for 2016-06-28\n",
      "Concatenate this and previous months ind_activadad_cliente\n",
      "Concatenate this and previous months tiprel_1mes\n",
      "Combine all products for each customer\n",
      "\n",
      "Start counting patterns:\n",
      "Encoding pattern...\n"
     ]
    },
    {
     "name": "stderr",
     "output_type": "stream",
     "text": [
      "100%|████████████████████████████████████████████████████████████████████████| 938423/938423 [02:28<00:00, 6320.78it/s]\n"
     ]
    },
    {
     "name": "stdout",
     "output_type": "stream",
     "text": [
      "Finding pattern...\n",
      "Counting pattern...\n"
     ]
    },
    {
     "name": "stderr",
     "output_type": "stream",
     "text": [
      "100%|████████████████████████████████████████████████████████████████████████| 930436/930436 [04:37<00:00, 3347.48it/s]\n"
     ]
    },
    {
     "name": "stdout",
     "output_type": "stream",
     "text": [
      "Time used: 7.497 min\n"
     ]
    }
   ],
   "source": [
    "x_test = create_train_test('2016-06-28', max_lag=5, target_flag=False, pattern_flag=True)"
   ]
  },
  {
   "cell_type": "markdown",
   "metadata": {},
   "source": [
    "## Train model\n",
    "\n",
    "- benchmark: val = 1.62857\n",
    "- with only `ind_actividad_client_combine`, `tiprel_1mes_combine`, `target_combine`, mlogloss=1.57141\n",
    "- with `ind_actividad_client_combine`, `tiprel_1mes_combine`, `target_combine`, `n_products` and patterns: val = 1.31122\n",
    "- with all above and mean encoding of target indicator and target #products: mlogloss=1.30756"
   ]
  },
  {
   "cell_type": "code",
   "execution_count": 5,
   "metadata": {
    "scrolled": true
   },
   "outputs": [
    {
     "name": "stdout",
     "output_type": "stream",
     "text": [
      "[0]\ttrain-mlogloss:2.71354\tval-mlogloss:2.74444\n",
      "[1]\ttrain-mlogloss:2.54524\tval-mlogloss:2.59113\n",
      "[2]\ttrain-mlogloss:2.40977\tval-mlogloss:2.47023\n",
      "[3]\ttrain-mlogloss:2.29495\tval-mlogloss:2.36964\n",
      "[4]\ttrain-mlogloss:2.19653\tval-mlogloss:2.29106\n",
      "[5]\ttrain-mlogloss:2.11073\tval-mlogloss:2.21567\n",
      "[6]\ttrain-mlogloss:2.03448\tval-mlogloss:2.14852\n",
      "[7]\ttrain-mlogloss:1.96661\tval-mlogloss:2.088\n",
      "[8]\ttrain-mlogloss:1.90395\tval-mlogloss:2.03256\n",
      "[9]\ttrain-mlogloss:1.84637\tval-mlogloss:1.98301\n",
      "[10]\ttrain-mlogloss:1.79486\tval-mlogloss:1.94186\n",
      "[11]\ttrain-mlogloss:1.74657\tval-mlogloss:1.89943\n",
      "[12]\ttrain-mlogloss:1.70227\tval-mlogloss:1.86011\n",
      "[13]\ttrain-mlogloss:1.66079\tval-mlogloss:1.82434\n",
      "[14]\ttrain-mlogloss:1.62202\tval-mlogloss:1.79044\n",
      "[15]\ttrain-mlogloss:1.58557\tval-mlogloss:1.75826\n",
      "[16]\ttrain-mlogloss:1.55158\tval-mlogloss:1.7281\n",
      "[17]\ttrain-mlogloss:1.52018\tval-mlogloss:1.70258\n",
      "[18]\ttrain-mlogloss:1.49019\tval-mlogloss:1.67687\n",
      "[19]\ttrain-mlogloss:1.46195\tval-mlogloss:1.65208\n",
      "[20]\ttrain-mlogloss:1.43545\tval-mlogloss:1.62991\n",
      "[21]\ttrain-mlogloss:1.41053\tval-mlogloss:1.61084\n",
      "[22]\ttrain-mlogloss:1.38654\tval-mlogloss:1.59017\n",
      "[23]\ttrain-mlogloss:1.36394\tval-mlogloss:1.57339\n",
      "[24]\ttrain-mlogloss:1.34241\tval-mlogloss:1.5556\n",
      "[25]\ttrain-mlogloss:1.32212\tval-mlogloss:1.53847\n",
      "[26]\ttrain-mlogloss:1.3026\tval-mlogloss:1.52258\n",
      "[27]\ttrain-mlogloss:1.28403\tval-mlogloss:1.50642\n",
      "[28]\ttrain-mlogloss:1.2665\tval-mlogloss:1.49142\n",
      "[29]\ttrain-mlogloss:1.24956\tval-mlogloss:1.47661\n",
      "[30]\ttrain-mlogloss:1.23351\tval-mlogloss:1.46354\n",
      "[31]\ttrain-mlogloss:1.21823\tval-mlogloss:1.45232\n",
      "[32]\ttrain-mlogloss:1.20331\tval-mlogloss:1.43985\n",
      "[33]\ttrain-mlogloss:1.18922\tval-mlogloss:1.42912\n",
      "[34]\ttrain-mlogloss:1.17582\tval-mlogloss:1.41919\n",
      "[35]\ttrain-mlogloss:1.16277\tval-mlogloss:1.40844\n",
      "[36]\ttrain-mlogloss:1.15052\tval-mlogloss:1.39948\n",
      "[37]\ttrain-mlogloss:1.13857\tval-mlogloss:1.39063\n",
      "[38]\ttrain-mlogloss:1.12724\tval-mlogloss:1.38151\n",
      "[39]\ttrain-mlogloss:1.11639\tval-mlogloss:1.37295\n",
      "[40]\ttrain-mlogloss:1.10586\tval-mlogloss:1.36498\n",
      "[41]\ttrain-mlogloss:1.0957\tval-mlogloss:1.35709\n",
      "[42]\ttrain-mlogloss:1.08626\tval-mlogloss:1.34948\n",
      "[43]\ttrain-mlogloss:1.07705\tval-mlogloss:1.34219\n",
      "[44]\ttrain-mlogloss:1.06828\tval-mlogloss:1.33623\n",
      "[45]\ttrain-mlogloss:1.05973\tval-mlogloss:1.33037\n",
      "[46]\ttrain-mlogloss:1.05145\tval-mlogloss:1.32402\n",
      "[47]\ttrain-mlogloss:1.04327\tval-mlogloss:1.31844\n",
      "[48]\ttrain-mlogloss:1.03562\tval-mlogloss:1.31257\n",
      "[49]\ttrain-mlogloss:1.02828\tval-mlogloss:1.30756\n"
     ]
    }
   ],
   "source": [
    "param = {'objective': 'multi:softprob', \n",
    "         'eta': 0.05, \n",
    "         'max_depth': 8, \n",
    "         'silent': 1, \n",
    "         'num_class': len(target_cols),\n",
    "         'eval_metric': 'mlogloss',\n",
    "         'min_child_weight': 1,\n",
    "         'subsample': 0.7,\n",
    "         'colsample_bytree': 0.7,\n",
    "         'seed': 0}\n",
    "num_rounds = 50\n",
    "\n",
    "dtrain = xgb.DMatrix(x_train.values, y_train.values)\n",
    "dval = xgb.DMatrix(x_val.values, y_val.values)\n",
    "model = xgb.train(param, dtrain, num_rounds, evals=[(dtrain, 'train'), (dval, 'val')], verbose_eval=True)"
   ]
  },
  {
   "cell_type": "markdown",
   "metadata": {},
   "source": [
    "Prediction from my model"
   ]
  },
  {
   "cell_type": "code",
   "execution_count": 6,
   "metadata": {},
   "outputs": [],
   "source": [
    "preds = model.predict(xgb.DMatrix(x_test.values))\n",
    "\n",
    "df_preds = pd.DataFrame(preds, index=x_test.index, columns=target_cols)\n",
    "# Remove already bought products \n",
    "df_preds[x_test[target_cols]==1] = 0 \n",
    "preds = df_preds.values\n",
    "preds = np.argsort(preds, axis=1)\n",
    "preds = np.fliplr(preds)[:, :7]"
   ]
  },
  {
   "cell_type": "markdown",
   "metadata": {},
   "source": [
    "Write out prediction results from my model"
   ]
  },
  {
   "cell_type": "code",
   "execution_count": 7,
   "metadata": {},
   "outputs": [],
   "source": [
    "test_id = x_test.loc[:, 'ncodpers'].values\n",
    "final_preds = [' '.join([target_cols[k] for k in pred]) for pred in preds]\n",
    "\n",
    "out_df = pd.DataFrame({'ncodpers': test_id, 'added_products': final_preds})\n",
    "out_df.to_csv('eda_4_19.csv.gz', compression='gzip', index=False)"
   ]
  }
 ],
 "metadata": {
  "kernelspec": {
   "display_name": "Python 3",
   "language": "python",
   "name": "python3"
  },
  "language_info": {
   "codemirror_mode": {
    "name": "ipython",
    "version": 3
   },
   "file_extension": ".py",
   "mimetype": "text/x-python",
   "name": "python",
   "nbconvert_exporter": "python",
   "pygments_lexer": "ipython3",
   "version": "3.6.6"
  }
 },
 "nbformat": 4,
 "nbformat_minor": 2
}
