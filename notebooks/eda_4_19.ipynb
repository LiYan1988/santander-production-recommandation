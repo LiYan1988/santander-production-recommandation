{
 "cells": [
  {
   "cell_type": "markdown",
   "metadata": {},
   "source": [
    "## Feature Engineering in RAM-Limited Data, Part 5\n",
    "\n",
    "#### CV for mean encoding of `target_combine`\n",
    "\n",
    "#### CV@2015-12-28:\n",
    "- benchmark: val = 1.62857\n",
    "- with only `ind_actividad_client_combine`, `tiprel_1mes_combine`, `target_combine`, mlogloss=1.57141\n",
    "- with `ind_actividad_client_combine`, `tiprel_1mes_combine`, `target_combine`, `n_products` and patterns: val = 1.31122\n",
    "    - Private score: 0.0302475, public score: 0.0299266\n",
    "\n",
    "- with all above and mean encoding of target indicator and target #products: mlogloss=1.30756\n",
    "    - Private score: 0.0302597, public score: 0.0299519"
   ]
  },
  {
   "cell_type": "code",
   "execution_count": 1,
   "metadata": {},
   "outputs": [],
   "source": [
    "from santander_helper import *\n",
    "%matplotlib inline"
   ]
  },
  {
   "cell_type": "markdown",
   "metadata": {},
   "source": [
    "Generate data"
   ]
  },
  {
   "cell_type": "code",
   "execution_count": 2,
   "metadata": {},
   "outputs": [
    {
     "name": "stdout",
     "output_type": "stream",
     "text": [
      "Loading 2015-05-28 data\n",
      "Loading 2015-06-28 data\n",
      "Products in 2015-06-28\n",
      "Products in 2015-05-28\n",
      "New products added in 2015-06-28\n",
      "Join customer features and previous month products for 2015-06-28\n",
      "Concatenate this and previous months ind_activadad_cliente\n",
      "Concatenate this and previous months tiprel_1mes\n",
      "Combine all products for each customer\n",
      "\n",
      "Start counting patterns:\n",
      "Encoding pattern...\n"
     ]
    },
    {
     "name": "stderr",
     "output_type": "stream",
     "text": [
      "100%|████████████████████████████████████████████████████████████████████████| 640825/640825 [01:42<00:00, 6249.66it/s]\n"
     ]
    },
    {
     "name": "stdout",
     "output_type": "stream",
     "text": [
      "Finding pattern...\n",
      "Counting pattern...\n"
     ]
    },
    {
     "name": "stderr",
     "output_type": "stream",
     "text": [
      "100%|████████████████████████████████████████████████████████████████████████| 634760/634760 [03:13<00:00, 3286.08it/s]\n"
     ]
    },
    {
     "name": "stdout",
     "output_type": "stream",
     "text": [
      "Prepare target\n",
      "Time used: 6.167 min\n"
     ]
    }
   ],
   "source": [
    "x_train, y_train = create_train_test('2015-06-28', target_flag=True, pattern_flag=True)"
   ]
  },
  {
   "cell_type": "code",
   "execution_count": 3,
   "metadata": {},
   "outputs": [
    {
     "name": "stdout",
     "output_type": "stream",
     "text": [
      "Loading 2015-11-28 data\n",
      "Loading 2015-12-28 data\n",
      "Products in 2015-12-28\n",
      "Products in 2015-11-28\n",
      "New products added in 2015-12-28\n",
      "Join customer features and previous month products for 2015-12-28\n",
      "Concatenate this and previous months ind_activadad_cliente\n",
      "Concatenate this and previous months tiprel_1mes\n",
      "Combine all products for each customer\n",
      "\n",
      "Start counting patterns:\n",
      "Encoding pattern...\n"
     ]
    },
    {
     "name": "stderr",
     "output_type": "stream",
     "text": [
      "100%|████████████████████████████████████████████████████████████████████████| 912728/912728 [02:22<00:00, 6398.12it/s]\n"
     ]
    },
    {
     "name": "stdout",
     "output_type": "stream",
     "text": [
      "Finding pattern...\n",
      "Counting pattern...\n"
     ]
    },
    {
     "name": "stderr",
     "output_type": "stream",
     "text": [
      "100%|████████████████████████████████████████████████████████████████████████| 893990/893990 [04:29<00:00, 3318.78it/s]\n"
     ]
    },
    {
     "name": "stdout",
     "output_type": "stream",
     "text": [
      "Prepare target\n",
      "Time used: 8.612 min\n"
     ]
    }
   ],
   "source": [
    "x_val, y_val = create_train_test('2015-12-28', max_lag=5, target_flag=True, pattern_flag=True)"
   ]
  },
  {
   "cell_type": "code",
   "execution_count": 4,
   "metadata": {},
   "outputs": [
    {
     "name": "stdout",
     "output_type": "stream",
     "text": [
      "Loading 2016-05-28 data\n",
      "Loading 2016-06-28 data\n",
      "Products in 2016-06-28\n",
      "Products in 2016-05-28\n",
      "New products added in 2016-06-28\n",
      "Join customer features and previous month products for 2016-06-28\n",
      "Concatenate this and previous months ind_activadad_cliente\n",
      "Concatenate this and previous months tiprel_1mes\n",
      "Combine all products for each customer\n",
      "\n",
      "Start counting patterns:\n",
      "Encoding pattern...\n"
     ]
    },
    {
     "name": "stderr",
     "output_type": "stream",
     "text": [
      "100%|████████████████████████████████████████████████████████████████████████| 938423/938423 [02:28<00:00, 6321.45it/s]\n"
     ]
    },
    {
     "name": "stdout",
     "output_type": "stream",
     "text": [
      "Finding pattern...\n",
      "Counting pattern...\n"
     ]
    },
    {
     "name": "stderr",
     "output_type": "stream",
     "text": [
      "100%|████████████████████████████████████████████████████████████████████████| 930436/930436 [04:41<00:00, 3300.62it/s]\n"
     ]
    },
    {
     "name": "stdout",
     "output_type": "stream",
     "text": [
      "Time used: 7.568 min\n"
     ]
    }
   ],
   "source": [
    "x_test = create_train_test('2016-06-28', max_lag=5, target_flag=False, pattern_flag=True)"
   ]
  },
  {
   "cell_type": "markdown",
   "metadata": {},
   "source": [
    "## Train model\n",
    "\n",
    "- benchmark: val = 1.62857\n",
    "- with only `ind_actividad_client_combine`, `tiprel_1mes_combine`, `target_combine`, mlogloss=1.57141\n",
    "- with `ind_actividad_client_combine`, `tiprel_1mes_combine`, `target_combine`, `n_products` and patterns: val = 1.31122\n",
    "- with all above and mean encoding of target indicator and target #products: mlogloss=1.30756\n",
    "- with all above and mean encoding of each product: mlogloss=1.29115"
   ]
  },
  {
   "cell_type": "code",
   "execution_count": 5,
   "metadata": {
    "scrolled": true
   },
   "outputs": [
    {
     "name": "stdout",
     "output_type": "stream",
     "text": [
      "[0]\ttrain-mlogloss:2.70789\tval-mlogloss:2.73135\n",
      "[1]\ttrain-mlogloss:2.536\tval-mlogloss:2.57759\n",
      "[2]\ttrain-mlogloss:2.39973\tval-mlogloss:2.45778\n",
      "[3]\ttrain-mlogloss:2.2849\tval-mlogloss:2.35812\n",
      "[4]\ttrain-mlogloss:2.18635\tval-mlogloss:2.27274\n",
      "[5]\ttrain-mlogloss:2.0994\tval-mlogloss:2.19884\n",
      "[6]\ttrain-mlogloss:2.02227\tval-mlogloss:2.13235\n",
      "[7]\ttrain-mlogloss:1.95316\tval-mlogloss:2.07493\n",
      "[8]\ttrain-mlogloss:1.89008\tval-mlogloss:2.02052\n",
      "[9]\ttrain-mlogloss:1.83238\tval-mlogloss:1.97003\n",
      "[10]\ttrain-mlogloss:1.77957\tval-mlogloss:1.9238\n",
      "[11]\ttrain-mlogloss:1.7306\tval-mlogloss:1.88683\n",
      "[12]\ttrain-mlogloss:1.68535\tval-mlogloss:1.84988\n",
      "[13]\ttrain-mlogloss:1.6435\tval-mlogloss:1.81391\n",
      "[14]\ttrain-mlogloss:1.60427\tval-mlogloss:1.78027\n",
      "[15]\ttrain-mlogloss:1.56761\tval-mlogloss:1.75104\n",
      "[16]\ttrain-mlogloss:1.53337\tval-mlogloss:1.72214\n",
      "[17]\ttrain-mlogloss:1.50111\tval-mlogloss:1.69432\n",
      "[18]\ttrain-mlogloss:1.47095\tval-mlogloss:1.66778\n",
      "[19]\ttrain-mlogloss:1.4421\tval-mlogloss:1.64345\n",
      "[20]\ttrain-mlogloss:1.41485\tval-mlogloss:1.62001\n",
      "[21]\ttrain-mlogloss:1.38902\tval-mlogloss:1.59834\n",
      "[22]\ttrain-mlogloss:1.36481\tval-mlogloss:1.57775\n",
      "[23]\ttrain-mlogloss:1.34158\tval-mlogloss:1.55778\n",
      "[24]\ttrain-mlogloss:1.31957\tval-mlogloss:1.54176\n",
      "[25]\ttrain-mlogloss:1.29869\tval-mlogloss:1.52498\n",
      "[26]\ttrain-mlogloss:1.27894\tval-mlogloss:1.50835\n",
      "[27]\ttrain-mlogloss:1.26014\tval-mlogloss:1.49207\n",
      "[28]\ttrain-mlogloss:1.24231\tval-mlogloss:1.4797\n",
      "[29]\ttrain-mlogloss:1.22534\tval-mlogloss:1.46762\n",
      "[30]\ttrain-mlogloss:1.20879\tval-mlogloss:1.45561\n",
      "[31]\ttrain-mlogloss:1.19326\tval-mlogloss:1.44264\n",
      "[32]\ttrain-mlogloss:1.17845\tval-mlogloss:1.43008\n",
      "[33]\ttrain-mlogloss:1.16395\tval-mlogloss:1.41752\n",
      "[34]\ttrain-mlogloss:1.15029\tval-mlogloss:1.40627\n",
      "[35]\ttrain-mlogloss:1.13723\tval-mlogloss:1.39563\n",
      "[36]\ttrain-mlogloss:1.12473\tval-mlogloss:1.38511\n",
      "[37]\ttrain-mlogloss:1.11265\tval-mlogloss:1.37569\n",
      "[38]\ttrain-mlogloss:1.10119\tval-mlogloss:1.36627\n",
      "[39]\ttrain-mlogloss:1.09017\tval-mlogloss:1.35816\n",
      "[40]\ttrain-mlogloss:1.07954\tval-mlogloss:1.34932\n",
      "[41]\ttrain-mlogloss:1.06927\tval-mlogloss:1.3416\n",
      "[42]\ttrain-mlogloss:1.05953\tval-mlogloss:1.33439\n",
      "[43]\ttrain-mlogloss:1.05008\tval-mlogloss:1.32797\n",
      "[44]\ttrain-mlogloss:1.04131\tval-mlogloss:1.32115\n",
      "[45]\ttrain-mlogloss:1.03264\tval-mlogloss:1.3144\n",
      "[46]\ttrain-mlogloss:1.02435\tval-mlogloss:1.30899\n",
      "[47]\ttrain-mlogloss:1.01621\tval-mlogloss:1.30223\n",
      "[48]\ttrain-mlogloss:1.00841\tval-mlogloss:1.29634\n",
      "[49]\ttrain-mlogloss:1.001\tval-mlogloss:1.29115\n"
     ]
    }
   ],
   "source": [
    "param = {'objective': 'multi:softprob', \n",
    "         'eta': 0.05, \n",
    "         'max_depth': 8, \n",
    "         'silent': 1, \n",
    "         'num_class': len(target_cols),\n",
    "         'eval_metric': 'mlogloss',\n",
    "         'min_child_weight': 1,\n",
    "         'subsample': 0.7,\n",
    "         'colsample_bytree': 0.7,\n",
    "         'seed': 0}\n",
    "num_rounds = 50\n",
    "\n",
    "dtrain = xgb.DMatrix(x_train.values, y_train.values)\n",
    "dval = xgb.DMatrix(x_val.values, y_val.values)\n",
    "model = xgb.train(param, dtrain, num_rounds, evals=[(dtrain, 'train'), (dval, 'val')], verbose_eval=True)"
   ]
  },
  {
   "cell_type": "markdown",
   "metadata": {},
   "source": [
    "Prediction from my model"
   ]
  },
  {
   "cell_type": "code",
   "execution_count": 6,
   "metadata": {},
   "outputs": [],
   "source": [
    "preds = model.predict(xgb.DMatrix(x_test.values))\n",
    "\n",
    "df_preds = pd.DataFrame(preds, index=x_test.index, columns=target_cols)\n",
    "# Remove already bought products \n",
    "df_preds[x_test[target_cols]==1] = 0 \n",
    "preds = df_preds.values\n",
    "preds = np.argsort(preds, axis=1)\n",
    "preds = np.fliplr(preds)[:, :7]"
   ]
  },
  {
   "cell_type": "markdown",
   "metadata": {},
   "source": [
    "Write out prediction results from my model"
   ]
  },
  {
   "cell_type": "code",
   "execution_count": 7,
   "metadata": {},
   "outputs": [],
   "source": [
    "test_id = x_test.loc[:, 'ncodpers'].values\n",
    "final_preds = [' '.join([target_cols[k] for k in pred]) for pred in preds]\n",
    "\n",
    "out_df = pd.DataFrame({'ncodpers': test_id, 'added_products': final_preds})\n",
    "out_df.to_csv('eda_4_19.csv.gz', compression='gzip', index=False)"
   ]
  },
  {
   "cell_type": "code",
   "execution_count": 8,
   "metadata": {},
   "outputs": [],
   "source": [
    "#pd.Series(x_train.columns).to_csv('x_train_cols.csv')"
   ]
  }
 ],
 "metadata": {
  "kernelspec": {
   "display_name": "Python 3",
   "language": "python",
   "name": "python3"
  },
  "language_info": {
   "codemirror_mode": {
    "name": "ipython",
    "version": 3
   },
   "file_extension": ".py",
   "mimetype": "text/x-python",
   "name": "python",
   "nbconvert_exporter": "python",
   "pygments_lexer": "ipython3",
   "version": "3.6.6"
  }
 },
 "nbformat": 4,
 "nbformat_minor": 2
}
