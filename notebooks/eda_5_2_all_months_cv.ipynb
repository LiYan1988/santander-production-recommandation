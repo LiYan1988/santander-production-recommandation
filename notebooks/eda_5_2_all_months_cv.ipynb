{
 "cells": [
  {
   "cell_type": "markdown",
   "metadata": {},
   "source": [
    "## Feature Engineering and CV based on 5-th Place Solutions\n",
    "\n",
    "For all months, deeper trees are better. Just compare the results below with eda_4_33_1"
   ]
  },
  {
   "cell_type": "code",
   "execution_count": 1,
   "metadata": {},
   "outputs": [],
   "source": [
    "from santander_helper import *"
   ]
  },
  {
   "cell_type": "markdown",
   "metadata": {},
   "source": [
    "Create all months' data"
   ]
  },
  {
   "cell_type": "markdown",
   "metadata": {},
   "source": [
    "Load all months' data"
   ]
  },
  {
   "cell_type": "code",
   "execution_count": null,
   "metadata": {},
   "outputs": [
    {
     "data": {
      "application/vnd.jupyter.widget-view+json": {
       "model_id": "d9c7f8d835ac4165869a031dfec18c9c",
       "version_major": 2,
       "version_minor": 0
      },
      "text/plain": [
       "HBox(children=(IntProgress(value=0, max=18), HTML(value='')))"
      ]
     },
     "metadata": {},
     "output_type": "display_data"
    },
    {
     "name": "stdout",
     "output_type": "stream",
     "text": [
      "\n"
     ]
    },
    {
     "data": {
      "text/plain": [
       "203"
      ]
     },
     "execution_count": 2,
     "metadata": {},
     "output_type": "execute_result"
    }
   ],
   "source": [
    "x_train = []\n",
    "y_train = []\n",
    "w_train = []\n",
    "fixed_lag = 6\n",
    "for i, m in tqdm.tqdm_notebook(enumerate(month_list), total=len(month_list)):\n",
    "    if m in ['2015-01-28', '2016-06-28']:\n",
    "        continue\n",
    "    x_tmp, y_tmp, w_tmp = create_train(m, max_lag=i, fixed_lag=fixed_lag, pattern_flag=True)\n",
    "    x_train.append(x_tmp)\n",
    "    y_train.append(y_tmp)\n",
    "    w_train.append(w_tmp)\n",
    "del x_tmp, y_tmp, w_tmp\n",
    "gc.collect()\n",
    "\n",
    "# Prepare for train and validation\n",
    "x_val = x_train[-1]\n",
    "y_val = y_train[-1]\n",
    "w_val = w_train[-1]\n",
    "\n",
    "x_train = pd.concat(x_train[:-1], axis=0, ignore_index=True, sort=False)\n",
    "y_train = pd.concat(y_train[:-1], axis=0, ignore_index=True, sort=False)\n",
    "w_train = pd.concat(w_train[:-1], axis=0, ignore_index=True, sort=False)\n",
    "\n",
    "gc.collect()"
   ]
  },
  {
   "cell_type": "code",
   "execution_count": null,
   "metadata": {
    "scrolled": true
   },
   "outputs": [
    {
     "name": "stdout",
     "output_type": "stream",
     "text": [
      "[0]\ttrain-merror:0.261372\tval-merror:0.280895\ttrain-MAP@7:0\tval-MAP@7:0.893906\n",
      "[1]\ttrain-merror:0.257111\tval-merror:0.275118\ttrain-MAP@7:0\tval-MAP@7:0.89982\n",
      "[2]\ttrain-merror:0.254575\tval-merror:0.272422\ttrain-MAP@7:0\tval-MAP@7:0.902363\n",
      "[3]\ttrain-merror:0.253303\tval-merror:0.27156\ttrain-MAP@7:0\tval-MAP@7:0.903421\n",
      "[4]\ttrain-merror:0.252443\tval-merror:0.271376\ttrain-MAP@7:0\tval-MAP@7:0.904222\n",
      "[5]\ttrain-merror:0.251706\tval-merror:0.270898\ttrain-MAP@7:0\tval-MAP@7:0.904928\n",
      "[6]\ttrain-merror:0.251122\tval-merror:0.270422\ttrain-MAP@7:0\tval-MAP@7:0.905355\n",
      "[7]\ttrain-merror:0.250526\tval-merror:0.269961\ttrain-MAP@7:0\tval-MAP@7:0.905956\n",
      "[8]\ttrain-merror:0.250252\tval-merror:0.269655\ttrain-MAP@7:0\tval-MAP@7:0.906238\n",
      "[9]\ttrain-merror:0.249577\tval-merror:0.269234\ttrain-MAP@7:0\tval-MAP@7:0.906717\n",
      "[10]\ttrain-merror:0.249202\tval-merror:0.269208\ttrain-MAP@7:0\tval-MAP@7:0.906805\n",
      "[11]\ttrain-merror:0.248813\tval-merror:0.268972\ttrain-MAP@7:0\tval-MAP@7:0.907019\n",
      "[12]\ttrain-merror:0.248341\tval-merror:0.268948\ttrain-MAP@7:0\tval-MAP@7:0.907104\n",
      "[13]\ttrain-merror:0.248006\tval-merror:0.268423\ttrain-MAP@7:0\tval-MAP@7:0.907469\n",
      "[14]\ttrain-merror:0.247734\tval-merror:0.268444\ttrain-MAP@7:0\tval-MAP@7:0.907507\n",
      "[15]\ttrain-merror:0.247397\tval-merror:0.268308\ttrain-MAP@7:0\tval-MAP@7:0.907802\n",
      "[16]\ttrain-merror:0.247075\tval-merror:0.268008\ttrain-MAP@7:0\tval-MAP@7:0.908027\n",
      "[17]\ttrain-merror:0.246738\tval-merror:0.267966\ttrain-MAP@7:0\tval-MAP@7:0.908075\n",
      "[18]\ttrain-merror:0.246357\tval-merror:0.267564\ttrain-MAP@7:0\tval-MAP@7:0.908399\n",
      "[19]\ttrain-merror:0.246082\tval-merror:0.26753\ttrain-MAP@7:0\tval-MAP@7:0.908512\n",
      "[20]\ttrain-merror:0.245685\tval-merror:0.267594\ttrain-MAP@7:0\tval-MAP@7:0.908504\n",
      "[21]\ttrain-merror:0.245421\tval-merror:0.267538\ttrain-MAP@7:0\tval-MAP@7:0.908578\n",
      "[22]\ttrain-merror:0.245092\tval-merror:0.267468\ttrain-MAP@7:0\tval-MAP@7:0.908712\n",
      "[23]\ttrain-merror:0.244951\tval-merror:0.267313\ttrain-MAP@7:0\tval-MAP@7:0.908847\n",
      "[24]\ttrain-merror:0.244677\tval-merror:0.267133\ttrain-MAP@7:0\tval-MAP@7:0.908867\n",
      "[25]\ttrain-merror:0.244421\tval-merror:0.266817\ttrain-MAP@7:0\tval-MAP@7:0.909127\n",
      "[26]\ttrain-merror:0.244248\tval-merror:0.266446\ttrain-MAP@7:0\tval-MAP@7:0.90934\n",
      "[27]\ttrain-merror:0.244017\tval-merror:0.266231\ttrain-MAP@7:0\tval-MAP@7:0.9095\n",
      "[28]\ttrain-merror:0.243778\tval-merror:0.266041\ttrain-MAP@7:0\tval-MAP@7:0.909745\n",
      "[29]\ttrain-merror:0.243549\tval-merror:0.266093\ttrain-MAP@7:0\tval-MAP@7:0.909664\n",
      "[30]\ttrain-merror:0.243311\tval-merror:0.266293\ttrain-MAP@7:0\tval-MAP@7:0.909566\n",
      "[31]\ttrain-merror:0.243122\tval-merror:0.266125\ttrain-MAP@7:0\tval-MAP@7:0.909683\n",
      "[32]\ttrain-merror:0.242994\tval-merror:0.266198\ttrain-MAP@7:0\tval-MAP@7:0.909671\n",
      "[33]\ttrain-merror:0.242788\tval-merror:0.265891\ttrain-MAP@7:0\tval-MAP@7:0.909895\n",
      "[34]\ttrain-merror:0.242605\tval-merror:0.265977\ttrain-MAP@7:0\tval-MAP@7:0.909843\n",
      "[35]\ttrain-merror:0.242382\tval-merror:0.265699\ttrain-MAP@7:0\tval-MAP@7:0.910016\n",
      "[36]\ttrain-merror:0.242214\tval-merror:0.26588\ttrain-MAP@7:0\tval-MAP@7:0.909927\n",
      "[37]\ttrain-merror:0.24199\tval-merror:0.265835\ttrain-MAP@7:0\tval-MAP@7:0.909975\n",
      "[38]\ttrain-merror:0.241858\tval-merror:0.265733\ttrain-MAP@7:0\tval-MAP@7:0.910139\n",
      "[39]\ttrain-merror:0.241633\tval-merror:0.265669\ttrain-MAP@7:0\tval-MAP@7:0.910136\n",
      "[40]\ttrain-merror:0.241442\tval-merror:0.265489\ttrain-MAP@7:0\tval-MAP@7:0.910254\n",
      "[41]\ttrain-merror:0.241239\tval-merror:0.265386\ttrain-MAP@7:0\tval-MAP@7:0.910269\n",
      "[42]\ttrain-merror:0.241126\tval-merror:0.265003\ttrain-MAP@7:0\tval-MAP@7:0.910575\n",
      "[43]\ttrain-merror:0.240932\tval-merror:0.264979\ttrain-MAP@7:0\tval-MAP@7:0.91057\n",
      "[44]\ttrain-merror:0.240826\tval-merror:0.26502\ttrain-MAP@7:0\tval-MAP@7:0.910534\n",
      "[45]\ttrain-merror:0.240625\tval-merror:0.264903\ttrain-MAP@7:0\tval-MAP@7:0.910592\n",
      "[46]\ttrain-merror:0.240437\tval-merror:0.265124\ttrain-MAP@7:0\tval-MAP@7:0.910486\n",
      "[47]\ttrain-merror:0.240306\tval-merror:0.265172\ttrain-MAP@7:0\tval-MAP@7:0.910457\n",
      "[48]\ttrain-merror:0.240137\tval-merror:0.265162\ttrain-MAP@7:0\tval-MAP@7:0.910529\n",
      "[49]\ttrain-merror:0.240003\tval-merror:0.265142\ttrain-MAP@7:0\tval-MAP@7:0.910465\n",
      "[50]\ttrain-merror:0.239842\tval-merror:0.265215\ttrain-MAP@7:0\tval-MAP@7:0.910437\n",
      "[51]\ttrain-merror:0.239645\tval-merror:0.264832\ttrain-MAP@7:0\tval-MAP@7:0.910669\n",
      "[52]\ttrain-merror:0.239515\tval-merror:0.264813\ttrain-MAP@7:0\tval-MAP@7:0.910663\n",
      "[53]\ttrain-merror:0.23931\tval-merror:0.264804\ttrain-MAP@7:0\tval-MAP@7:0.910645\n",
      "[54]\ttrain-merror:0.239158\tval-merror:0.264952\ttrain-MAP@7:0\tval-MAP@7:0.910676\n"
     ]
    }
   ],
   "source": [
    "param = {'objective': 'multi:softprob', \n",
    "         'eta': 0.1, \n",
    "         'max_depth': 10,\n",
    "         'silent': 1, \n",
    "         'num_class': len(target_cols),\n",
    "         'eval_metric': 'merror',\n",
    "         'min_child_weight': 10,\n",
    "         'min_split_loss': 1,\n",
    "         'subsample': 0.7,\n",
    "         'colsample_bytree': 0.7,\n",
    "         'seed': 0}\n",
    "\n",
    "n_rows = None # number of rows in train dataset, to simplify testing, always set to None\n",
    "n_repeats = 5\n",
    "n_trees = 100\n",
    "train = {'x': x_train.iloc[:n_rows, :], 'y': y_train.iloc[:n_rows], 'w': w_train.iloc[:n_rows]}\n",
    "val = {'x': x_val.iloc[:n_rows, :], 'y': y_val.iloc[:n_rows], 'w': w_val.iloc[:n_rows]}\n",
    "df, clfs, running_time = cv_all_month(param, train, val, n_features=350, num_boost_round=n_trees, \n",
    "    n_repeats=n_repeats, random_state=0, verbose_eval=True)"
   ]
  }
 ],
 "metadata": {
  "kernelspec": {
   "display_name": "Python 3",
   "language": "python",
   "name": "python3"
  },
  "language_info": {
   "codemirror_mode": {
    "name": "ipython",
    "version": 3
   },
   "file_extension": ".py",
   "mimetype": "text/x-python",
   "name": "python",
   "nbconvert_exporter": "python",
   "pygments_lexer": "ipython3",
   "version": "3.7.0"
  }
 },
 "nbformat": 4,
 "nbformat_minor": 2
}
