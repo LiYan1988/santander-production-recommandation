{
 "cells": [
  {
   "cell_type": "markdown",
   "metadata": {},
   "source": [
    "## Feature Engineering and CV based on 5-th Place Solutions\n",
    "\n",
    "For all months, deeper trees are better. Just compare the results below with eda_4_"
   ]
  },
  {
   "cell_type": "code",
   "execution_count": 1,
   "metadata": {},
   "outputs": [],
   "source": [
    "from santander_helper import *"
   ]
  },
  {
   "cell_type": "markdown",
   "metadata": {},
   "source": [
    "Create all months' data"
   ]
  },
  {
   "cell_type": "markdown",
   "metadata": {},
   "source": [
    "Load all months' data"
   ]
  },
  {
   "cell_type": "code",
   "execution_count": 2,
   "metadata": {},
   "outputs": [
    {
     "data": {
      "application/vnd.jupyter.widget-view+json": {
       "model_id": "4bb36b64fb744382b6567a38b51dd24a",
       "version_major": 2,
       "version_minor": 0
      },
      "text/plain": [
       "HBox(children=(IntProgress(value=0, max=18), HTML(value='')))"
      ]
     },
     "metadata": {},
     "output_type": "display_data"
    },
    {
     "name": "stdout",
     "output_type": "stream",
     "text": [
      "\n"
     ]
    },
    {
     "data": {
      "text/plain": [
       "203"
      ]
     },
     "execution_count": 2,
     "metadata": {},
     "output_type": "execute_result"
    }
   ],
   "source": [
    "x_train = []\n",
    "y_train = []\n",
    "w_train = []\n",
    "fixed_lag = 6\n",
    "for i, m in tqdm.tqdm_notebook(enumerate(month_list), total=len(month_list)):\n",
    "    if m in ['2015-01-28', '2016-06-28']:\n",
    "        continue\n",
    "    x_tmp, y_tmp, w_tmp = create_train(m, max_lag=i, fixed_lag=fixed_lag, pattern_flag=True)\n",
    "    x_train.append(x_tmp)\n",
    "    y_train.append(y_tmp)\n",
    "    w_train.append(w_tmp)\n",
    "del x_tmp, y_tmp, w_tmp\n",
    "gc.collect()\n",
    "\n",
    "# Prepare for train and validation\n",
    "x_val = x_train[-1]\n",
    "y_val = y_train[-1]\n",
    "w_val = w_train[-1]\n",
    "\n",
    "x_train = pd.concat(x_train[:-1], axis=0, ignore_index=True, sort=False)\n",
    "y_train = pd.concat(y_train[:-1], axis=0, ignore_index=True, sort=False)\n",
    "w_train = pd.concat(w_train[:-1], axis=0, ignore_index=True, sort=False)\n",
    "\n",
    "gc.collect()"
   ]
  },
  {
   "cell_type": "code",
   "execution_count": 6,
   "metadata": {
    "scrolled": true
   },
   "outputs": [
    {
     "name": "stdout",
     "output_type": "stream",
     "text": [
      "[0]\ttrain-merror:0.260873\tval-merror:0.278662\ttrain-MAP@7:0\tval-MAP@7:0.896164\n",
      "[1]\ttrain-merror:0.256894\tval-merror:0.27414\ttrain-MAP@7:0\tval-MAP@7:0.900834\n",
      "[2]\ttrain-merror:0.255019\tval-merror:0.273065\ttrain-MAP@7:0\tval-MAP@7:0.902252\n",
      "[3]\ttrain-merror:0.254127\tval-merror:0.271597\ttrain-MAP@7:0\tval-MAP@7:0.903714\n",
      "[4]\ttrain-merror:0.253212\tval-merror:0.270477\ttrain-MAP@7:0\tval-MAP@7:0.904849\n",
      "[5]\ttrain-merror:0.252595\tval-merror:0.270347\ttrain-MAP@7:0\tval-MAP@7:0.905144\n",
      "[6]\ttrain-merror:0.251775\tval-merror:0.269792\ttrain-MAP@7:0\tval-MAP@7:0.905595\n",
      "[7]\ttrain-merror:0.251075\tval-merror:0.269697\ttrain-MAP@7:0\tval-MAP@7:0.905804\n",
      "[8]\ttrain-merror:0.250523\tval-merror:0.269496\ttrain-MAP@7:0\tval-MAP@7:0.906154\n",
      "[9]\ttrain-merror:0.250077\tval-merror:0.269254\ttrain-MAP@7:0\tval-MAP@7:0.906381\n",
      "[10]\ttrain-merror:0.249608\tval-merror:0.269046\ttrain-MAP@7:0\tval-MAP@7:0.906562\n",
      "[11]\ttrain-merror:0.249229\tval-merror:0.268839\ttrain-MAP@7:0\tval-MAP@7:0.906771\n",
      "[12]\ttrain-merror:0.248843\tval-merror:0.268904\ttrain-MAP@7:0\tval-MAP@7:0.906856\n",
      "[13]\ttrain-merror:0.248468\tval-merror:0.268532\ttrain-MAP@7:0\tval-MAP@7:0.907144\n",
      "[14]\ttrain-merror:0.248007\tval-merror:0.268505\ttrain-MAP@7:0\tval-MAP@7:0.907338\n",
      "[15]\ttrain-merror:0.247656\tval-merror:0.267836\ttrain-MAP@7:0\tval-MAP@7:0.907738\n",
      "[16]\ttrain-merror:0.247285\tval-merror:0.267727\ttrain-MAP@7:0\tval-MAP@7:0.907928\n",
      "[17]\ttrain-merror:0.246939\tval-merror:0.267762\ttrain-MAP@7:0\tval-MAP@7:0.908133\n",
      "[18]\ttrain-merror:0.246573\tval-merror:0.267511\ttrain-MAP@7:0\tval-MAP@7:0.908254\n",
      "[19]\ttrain-merror:0.246326\tval-merror:0.267144\ttrain-MAP@7:0\tval-MAP@7:0.908571\n",
      "[20]\ttrain-merror:0.246033\tval-merror:0.267042\ttrain-MAP@7:0\tval-MAP@7:0.908662\n",
      "[21]\ttrain-merror:0.245804\tval-merror:0.267172\ttrain-MAP@7:0\tval-MAP@7:0.908699\n",
      "[22]\ttrain-merror:0.245539\tval-merror:0.267105\ttrain-MAP@7:0\tval-MAP@7:0.908823\n",
      "[23]\ttrain-merror:0.245313\tval-merror:0.267224\ttrain-MAP@7:0\tval-MAP@7:0.908853\n",
      "[24]\ttrain-merror:0.245002\tval-merror:0.266824\ttrain-MAP@7:0\tval-MAP@7:0.909141\n",
      "[25]\ttrain-merror:0.244703\tval-merror:0.266615\ttrain-MAP@7:0\tval-MAP@7:0.909281\n",
      "[26]\ttrain-merror:0.244493\tval-merror:0.26652\ttrain-MAP@7:0\tval-MAP@7:0.909342\n",
      "[27]\ttrain-merror:0.244267\tval-merror:0.266676\ttrain-MAP@7:0\tval-MAP@7:0.909288\n",
      "[28]\ttrain-merror:0.244041\tval-merror:0.266804\ttrain-MAP@7:0\tval-MAP@7:0.909236\n",
      "[29]\ttrain-merror:0.243839\tval-merror:0.266751\ttrain-MAP@7:0\tval-MAP@7:0.909259\n",
      "[30]\ttrain-merror:0.243605\tval-merror:0.266906\ttrain-MAP@7:0\tval-MAP@7:0.909239\n",
      "[31]\ttrain-merror:0.243343\tval-merror:0.266686\ttrain-MAP@7:0\tval-MAP@7:0.909444\n",
      "[32]\ttrain-merror:0.243142\tval-merror:0.266637\ttrain-MAP@7:0\tval-MAP@7:0.909411\n",
      "[33]\ttrain-merror:0.242926\tval-merror:0.266589\ttrain-MAP@7:0\tval-MAP@7:0.909551\n",
      "[34]\ttrain-merror:0.242718\tval-merror:0.266136\ttrain-MAP@7:0\tval-MAP@7:0.909778\n",
      "[35]\ttrain-merror:0.242573\tval-merror:0.265882\ttrain-MAP@7:0\tval-MAP@7:0.90993\n",
      "[36]\ttrain-merror:0.242384\tval-merror:0.265814\ttrain-MAP@7:0\tval-MAP@7:0.90997\n",
      "[37]\ttrain-merror:0.242198\tval-merror:0.265624\ttrain-MAP@7:0\tval-MAP@7:0.910039\n",
      "[38]\ttrain-merror:0.242068\tval-merror:0.265658\ttrain-MAP@7:0\tval-MAP@7:0.910068\n",
      "[39]\ttrain-merror:0.241854\tval-merror:0.265574\ttrain-MAP@7:0\tval-MAP@7:0.910126\n",
      "[40]\ttrain-merror:0.241678\tval-merror:0.265352\ttrain-MAP@7:0\tval-MAP@7:0.910239\n",
      "[41]\ttrain-merror:0.241529\tval-merror:0.265081\ttrain-MAP@7:0\tval-MAP@7:0.910435\n",
      "[42]\ttrain-merror:0.241283\tval-merror:0.265093\ttrain-MAP@7:0\tval-MAP@7:0.910459\n",
      "[43]\ttrain-merror:0.241094\tval-merror:0.264958\ttrain-MAP@7:0\tval-MAP@7:0.910551\n",
      "[44]\ttrain-merror:0.240898\tval-merror:0.26479\ttrain-MAP@7:0\tval-MAP@7:0.91061\n",
      "[45]\ttrain-merror:0.240765\tval-merror:0.264992\ttrain-MAP@7:0\tval-MAP@7:0.91039\n",
      "[46]\ttrain-merror:0.240575\tval-merror:0.264906\ttrain-MAP@7:0\tval-MAP@7:0.910531\n",
      "[47]\ttrain-merror:0.240417\tval-merror:0.26471\ttrain-MAP@7:0\tval-MAP@7:0.910718\n",
      "[48]\ttrain-merror:0.240271\tval-merror:0.264517\ttrain-MAP@7:0\tval-MAP@7:0.910827\n"
     ]
    },
    {
     "ename": "KeyboardInterrupt",
     "evalue": "",
     "output_type": "error",
     "traceback": [
      "\u001b[1;31m---------------------------------------------------------------------------\u001b[0m",
      "\u001b[1;31mKeyboardInterrupt\u001b[0m                         Traceback (most recent call last)",
      "\u001b[1;32m<ipython-input-6-bccaf68c6947>\u001b[0m in \u001b[0;36m<module>\u001b[1;34m\u001b[0m\n\u001b[0;32m     17\u001b[0m \u001b[0mval\u001b[0m \u001b[1;33m=\u001b[0m \u001b[1;33m{\u001b[0m\u001b[1;34m'x'\u001b[0m\u001b[1;33m:\u001b[0m \u001b[0mx_val\u001b[0m\u001b[1;33m.\u001b[0m\u001b[0miloc\u001b[0m\u001b[1;33m[\u001b[0m\u001b[1;33m:\u001b[0m\u001b[0mn_rows\u001b[0m\u001b[1;33m,\u001b[0m \u001b[1;33m:\u001b[0m\u001b[1;33m]\u001b[0m\u001b[1;33m,\u001b[0m \u001b[1;34m'y'\u001b[0m\u001b[1;33m:\u001b[0m \u001b[0my_val\u001b[0m\u001b[1;33m.\u001b[0m\u001b[0miloc\u001b[0m\u001b[1;33m[\u001b[0m\u001b[1;33m:\u001b[0m\u001b[0mn_rows\u001b[0m\u001b[1;33m]\u001b[0m\u001b[1;33m,\u001b[0m \u001b[1;34m'w'\u001b[0m\u001b[1;33m:\u001b[0m \u001b[0mw_val\u001b[0m\u001b[1;33m.\u001b[0m\u001b[0miloc\u001b[0m\u001b[1;33m[\u001b[0m\u001b[1;33m:\u001b[0m\u001b[0mn_rows\u001b[0m\u001b[1;33m]\u001b[0m\u001b[1;33m}\u001b[0m\u001b[1;33m\u001b[0m\u001b[1;33m\u001b[0m\u001b[0m\n\u001b[0;32m     18\u001b[0m df, clfs, running_time = cv_all_month(param, train, val, n_features=350, num_boost_round=n_trees, \n\u001b[1;32m---> 19\u001b[1;33m     n_repeats=n_repeats, random_state=0, verbose_eval=True)\n\u001b[0m",
      "\u001b[1;32m~\\Desktop\\santander-production-recommandation\\notebooks\\santander_helper.py\u001b[0m in \u001b[0;36mcv_all_month\u001b[1;34m(params, train, val, n_features, num_boost_round, n_repeats, random_state, verbose_eval)\u001b[0m\n\u001b[0;32m   1559\u001b[0m                             \u001b[0mevals_result\u001b[0m\u001b[1;33m=\u001b[0m\u001b[0mcv_results\u001b[0m\u001b[1;33m[\u001b[0m\u001b[0mm\u001b[0m\u001b[1;33m]\u001b[0m\u001b[1;33m,\u001b[0m\u001b[1;33m\u001b[0m\u001b[1;33m\u001b[0m\u001b[0m\n\u001b[0;32m   1560\u001b[0m                             \u001b[0mverbose_eval\u001b[0m\u001b[1;33m=\u001b[0m\u001b[0mverbose_eval\u001b[0m\u001b[1;33m,\u001b[0m \u001b[0mfeval\u001b[0m\u001b[1;33m=\u001b[0m\u001b[0meval_map\u001b[0m\u001b[1;33m,\u001b[0m\u001b[1;33m\u001b[0m\u001b[1;33m\u001b[0m\u001b[0m\n\u001b[1;32m-> 1561\u001b[1;33m                             gt=ground_truth, ts=data_len)\n\u001b[0m\u001b[0;32m   1562\u001b[0m \u001b[1;33m\u001b[0m\u001b[0m\n\u001b[0;32m   1563\u001b[0m         \u001b[0mrunning_time\u001b[0m\u001b[1;33m[\u001b[0m\u001b[0mm\u001b[0m\u001b[1;33m]\u001b[0m \u001b[1;33m=\u001b[0m \u001b[0mtime\u001b[0m\u001b[1;33m.\u001b[0m\u001b[0mtime\u001b[0m\u001b[1;33m(\u001b[0m\u001b[1;33m)\u001b[0m \u001b[1;33m-\u001b[0m \u001b[0mstart_time\u001b[0m\u001b[1;33m\u001b[0m\u001b[1;33m\u001b[0m\u001b[0m\n",
      "\u001b[1;32m~\\AppData\\Local\\Continuum\\miniconda3\\envs\\kaggle\\lib\\site-packages\\xgboost\\training.py\u001b[0m in \u001b[0;36mtrain\u001b[1;34m(params, dtrain, num_boost_round, evals, obj, feval, maximize, early_stopping_rounds, evals_result, verbose_eval, xgb_model, callbacks, learning_rates, **kwargs_eval)\u001b[0m\n\u001b[0;32m    202\u001b[0m                            \u001b[0mevals\u001b[0m\u001b[1;33m=\u001b[0m\u001b[0mevals\u001b[0m\u001b[1;33m,\u001b[0m\u001b[1;33m\u001b[0m\u001b[1;33m\u001b[0m\u001b[0m\n\u001b[0;32m    203\u001b[0m                            \u001b[0mobj\u001b[0m\u001b[1;33m=\u001b[0m\u001b[0mobj\u001b[0m\u001b[1;33m,\u001b[0m \u001b[0mfeval\u001b[0m\u001b[1;33m=\u001b[0m\u001b[0mfeval\u001b[0m\u001b[1;33m,\u001b[0m\u001b[1;33m\u001b[0m\u001b[1;33m\u001b[0m\u001b[0m\n\u001b[1;32m--> 204\u001b[1;33m                            xgb_model=xgb_model, callbacks=callbacks, **kwargs_eval)\n\u001b[0m\u001b[0;32m    205\u001b[0m \u001b[1;33m\u001b[0m\u001b[0m\n\u001b[0;32m    206\u001b[0m \u001b[1;33m\u001b[0m\u001b[0m\n",
      "\u001b[1;32m~\\AppData\\Local\\Continuum\\miniconda3\\envs\\kaggle\\lib\\site-packages\\xgboost\\training.py\u001b[0m in \u001b[0;36m_train_internal\u001b[1;34m(params, dtrain, num_boost_round, evals, obj, feval, xgb_model, callbacks, **kwargs_eval)\u001b[0m\n\u001b[0;32m     72\u001b[0m         \u001b[1;31m# Skip the first update if it is a recovery step.\u001b[0m\u001b[1;33m\u001b[0m\u001b[1;33m\u001b[0m\u001b[1;33m\u001b[0m\u001b[0m\n\u001b[0;32m     73\u001b[0m         \u001b[1;32mif\u001b[0m \u001b[0mversion\u001b[0m \u001b[1;33m%\u001b[0m \u001b[1;36m2\u001b[0m \u001b[1;33m==\u001b[0m \u001b[1;36m0\u001b[0m\u001b[1;33m:\u001b[0m\u001b[1;33m\u001b[0m\u001b[1;33m\u001b[0m\u001b[0m\n\u001b[1;32m---> 74\u001b[1;33m             \u001b[0mbst\u001b[0m\u001b[1;33m.\u001b[0m\u001b[0mupdate\u001b[0m\u001b[1;33m(\u001b[0m\u001b[0mdtrain\u001b[0m\u001b[1;33m,\u001b[0m \u001b[0mi\u001b[0m\u001b[1;33m,\u001b[0m \u001b[0mobj\u001b[0m\u001b[1;33m)\u001b[0m\u001b[1;33m\u001b[0m\u001b[1;33m\u001b[0m\u001b[0m\n\u001b[0m\u001b[0;32m     75\u001b[0m             \u001b[0mbst\u001b[0m\u001b[1;33m.\u001b[0m\u001b[0msave_rabit_checkpoint\u001b[0m\u001b[1;33m(\u001b[0m\u001b[1;33m)\u001b[0m\u001b[1;33m\u001b[0m\u001b[1;33m\u001b[0m\u001b[0m\n\u001b[0;32m     76\u001b[0m             \u001b[0mversion\u001b[0m \u001b[1;33m+=\u001b[0m \u001b[1;36m1\u001b[0m\u001b[1;33m\u001b[0m\u001b[1;33m\u001b[0m\u001b[0m\n",
      "\u001b[1;32m~\\AppData\\Local\\Continuum\\miniconda3\\envs\\kaggle\\lib\\site-packages\\xgboost\\core.py\u001b[0m in \u001b[0;36mupdate\u001b[1;34m(self, dtrain, iteration, fobj)\u001b[0m\n\u001b[0;32m    892\u001b[0m         \u001b[1;32mif\u001b[0m \u001b[0mfobj\u001b[0m \u001b[1;32mis\u001b[0m \u001b[1;32mNone\u001b[0m\u001b[1;33m:\u001b[0m\u001b[1;33m\u001b[0m\u001b[1;33m\u001b[0m\u001b[0m\n\u001b[0;32m    893\u001b[0m             _check_call(_LIB.XGBoosterUpdateOneIter(self.handle, ctypes.c_int(iteration),\n\u001b[1;32m--> 894\u001b[1;33m                                                     dtrain.handle))\n\u001b[0m\u001b[0;32m    895\u001b[0m         \u001b[1;32melse\u001b[0m\u001b[1;33m:\u001b[0m\u001b[1;33m\u001b[0m\u001b[1;33m\u001b[0m\u001b[0m\n\u001b[0;32m    896\u001b[0m             \u001b[0mpred\u001b[0m \u001b[1;33m=\u001b[0m \u001b[0mself\u001b[0m\u001b[1;33m.\u001b[0m\u001b[0mpredict\u001b[0m\u001b[1;33m(\u001b[0m\u001b[0mdtrain\u001b[0m\u001b[1;33m)\u001b[0m\u001b[1;33m\u001b[0m\u001b[1;33m\u001b[0m\u001b[0m\n",
      "\u001b[1;31mKeyboardInterrupt\u001b[0m: "
     ]
    }
   ],
   "source": [
    "param = {'objective': 'multi:softprob', \n",
    "         'eta': 0.1, \n",
    "         'max_depth': 10,\n",
    "         'silent': 1, \n",
    "         'num_class': len(target_cols),\n",
    "         'eval_metric': 'merror',\n",
    "         'min_child_weight': 10,\n",
    "         'min_split_loss': 1,\n",
    "         'subsample': 0.7,\n",
    "         'colsample_bytree': 0.7,\n",
    "         'seed': 0}\n",
    "\n",
    "n_rows = None # number of rows in train dataset, to simplify testing, always set to None\n",
    "n_repeats = 5\n",
    "n_trees = 100\n",
    "train = {'x': x_train.iloc[:n_rows, :], 'y': y_train.iloc[:n_rows], 'w': w_train.iloc[:n_rows]}\n",
    "val = {'x': x_val.iloc[:n_rows, :], 'y': y_val.iloc[:n_rows], 'w': w_val.iloc[:n_rows]}\n",
    "df, clfs, running_time = cv_all_month(param, train, val, n_features=350, num_boost_round=n_trees, \n",
    "    n_repeats=n_repeats, random_state=0, verbose_eval=True)"
   ]
  }
 ],
 "metadata": {
  "kernelspec": {
   "display_name": "Python 3",
   "language": "python",
   "name": "python3"
  },
  "language_info": {
   "codemirror_mode": {
    "name": "ipython",
    "version": 3
   },
   "file_extension": ".py",
   "mimetype": "text/x-python",
   "name": "python",
   "nbconvert_exporter": "python",
   "pygments_lexer": "ipython3",
   "version": "3.6.7"
  }
 },
 "nbformat": 4,
 "nbformat_minor": 2
}
