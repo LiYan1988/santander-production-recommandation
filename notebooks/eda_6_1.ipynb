{
 "cells": [
  {
   "cell_type": "markdown",
   "metadata": {},
   "source": [
    "# Binary Classification\n",
    "\n",
    "Prepare data for binary classification\n",
    "- Need to calculate customer product pair again. Include also customer-product pairs that potentially can be 1 but is 0"
   ]
  },
  {
   "cell_type": "code",
   "execution_count": 1,
   "metadata": {},
   "outputs": [],
   "source": [
    "from santander_helper import *"
   ]
  },
  {
   "cell_type": "code",
   "execution_count": 22,
   "metadata": {},
   "outputs": [
    {
     "name": "stderr",
     "output_type": "stream",
     "text": [
      "100%|██████████████████████████████████████████████████████████████████████████████████| 16/16 [01:45<00:00,  7.43s/it]\n"
     ]
    }
   ],
   "source": [
    "target = []\n",
    "for m1, m2 in tqdm.tqdm(list(zip(month_list[:-2], month_list[1:-1]))):\n",
    "    df1 = pd.read_hdf('../input/data_month_{}.hdf'.format(m1)).loc[:, ['ncodpers'] + target_cols]\n",
    "    df2 = pd.read_hdf('../input/data_month_{}.hdf'.format(m2)).loc[:, ['ncodpers'] + target_cols]\n",
    "\n",
    "    df1.set_index('ncodpers', inplace=True)\n",
    "    df2.set_index('ncodpers', inplace=True)\n",
    "\n",
    "    dt = df2.join(df1, how='left', lsuffix='_2', rsuffix='_1').fillna(0.0)\n",
    "    dt = pd.DataFrame(dt.values[:, :19] - dt.values[:, 19:], index=df2.index, columns=target_cols)\n",
    "    dt.reset_index(inplace=True)\n",
    "    dt = dt.melt(id_vars='ncodpers')\n",
    "    dt['variable'] = dt['variable'].map({k: i for i, k in enumerate(target_cols)})\n",
    "    \n",
    "    dt2 = df2.copy()\n",
    "    dt2.reset_index(inplace=True)\n",
    "    dt2 = dt2.melt(id_vars='ncodpers')\n",
    "    dt2['variable'] = dt2['variable'].map({k: i for i, k in enumerate(target_cols)})\n",
    "    \n",
    "    dt = dt.loc[dt2['value'] == 0.0]\n",
    "    dt.drop('value', axis=1, inplace=True)\n",
    "    dt.reset_index(drop=True, inplace=True)\n",
    "    dt['fecha_dato'] = m2\n",
    "\n",
    "    target.append(dt)"
   ]
  },
  {
   "cell_type": "code",
   "execution_count": null,
   "metadata": {},
   "outputs": [
    {
     "name": "stderr",
     "output_type": "stream",
     "text": [
      "100%|██████████████████████████████████████████████████████████████████████████████████| 16/16 [01:44<00:00,  7.33s/it]\n"
     ]
    }
   ],
   "source": [
    "target = calculate_customer_product_pair_binary()"
   ]
  }
 ],
 "metadata": {
  "kernelspec": {
   "display_name": "Python 3",
   "language": "python",
   "name": "python3"
  },
  "language_info": {
   "codemirror_mode": {
    "name": "ipython",
    "version": 3
   },
   "file_extension": ".py",
   "mimetype": "text/x-python",
   "name": "python",
   "nbconvert_exporter": "python",
   "pygments_lexer": "ipython3",
   "version": "3.6.7"
  }
 },
 "nbformat": 4,
 "nbformat_minor": 2
}
