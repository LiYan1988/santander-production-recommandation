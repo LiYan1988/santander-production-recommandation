{
 "cells": [
  {
   "cell_type": "markdown",
   "metadata": {},
   "source": [
    "### Verify\n",
    "\n",
    "Verify if `target_combine` is okay to be used as keys in `pd.merge`. Because unlike categorical features, `target_combine` is a numerical features with fine granularity. For example, in my code, `target_combine` ranges from 0 to $2^{11}$ with step size of $2^{-11}$. Is it find to use such `target_combine` as the key for `pd.groupby` and `pd.merge`?\n",
    "\n",
    "The result below shows that it is okay to use float number as keys in `np.groupby`. I think it is also okay for `pd.merge` as well."
   ]
  },
  {
   "cell_type": "code",
   "execution_count": 1,
   "metadata": {},
   "outputs": [],
   "source": [
    "import pandas as pd\n",
    "import numpy as np"
   ]
  },
  {
   "cell_type": "code",
   "execution_count": 26,
   "metadata": {},
   "outputs": [],
   "source": [
    "v = np.float_power(2, np.arange(-20, 20, 1))\n",
    "\n",
    "x = np.random.choice(v, (1000, 2))\n",
    "x[:, 1] = 1\n",
    "\n",
    "df = pd.DataFrame(x, columns=['rnd', 'dum'])\n",
    "\n",
    "y = df.groupby('rnd')['dum'].count()"
   ]
  },
  {
   "cell_type": "code",
   "execution_count": 28,
   "metadata": {},
   "outputs": [],
   "source": [
    "a, b = np.unique(x[:, 0], return_counts=True)"
   ]
  },
  {
   "cell_type": "code",
   "execution_count": 29,
   "metadata": {},
   "outputs": [
    {
     "data": {
      "text/plain": [
       "array([0, 0, 0, 0, 0, 0, 0, 0, 0, 0, 0, 0, 0, 0, 0, 0, 0, 0, 0, 0, 0, 0,\n",
       "       0, 0, 0, 0, 0, 0, 0, 0, 0, 0, 0, 0, 0, 0, 0, 0, 0, 0], dtype=int64)"
      ]
     },
     "execution_count": 29,
     "metadata": {},
     "output_type": "execute_result"
    }
   ],
   "source": [
    "b-y.values"
   ]
  }
 ],
 "metadata": {
  "kernelspec": {
   "display_name": "Python 3",
   "language": "python",
   "name": "python3"
  },
  "language_info": {
   "codemirror_mode": {
    "name": "ipython",
    "version": 3
   },
   "file_extension": ".py",
   "mimetype": "text/x-python",
   "name": "python",
   "nbconvert_exporter": "python",
   "pygments_lexer": "ipython3",
   "version": "3.6.6"
  }
 },
 "nbformat": 4,
 "nbformat_minor": 2
}
