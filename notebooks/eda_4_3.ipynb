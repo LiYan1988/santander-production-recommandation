{
 "cells": [
  {
   "cell_type": "code",
   "execution_count": 1,
   "metadata": {},
   "outputs": [],
   "source": [
    "import os\n",
    "if os.name=='nt':\n",
    "    try:\n",
    "        mingw_path = 'C:\\\\Program Files\\\\mingw-w64\\\\x86_64-8.1.0-posix-seh-rt_v6-rev0\\\\mingw64\\\\bin'\n",
    "        os.environ['PATH'] = mingw_path + ';' + os.environ['PATH']\n",
    "    except:\n",
    "        pass\n",
    "    \n",
    "import numpy as np\n",
    "import pandas as pd\n",
    "import seaborn as sns\n",
    "import matplotlib.pyplot as plt\n",
    "import tqdm\n",
    "import gc\n",
    "import xgboost as xgb\n",
    "from sklearn.preprocessing import LabelEncoder\n",
    "\n",
    "tqdm.tqdm.pandas()\n",
    "\n",
    "%matplotlib inline"
   ]
  },
  {
   "cell_type": "code",
   "execution_count": 2,
   "metadata": {},
   "outputs": [],
   "source": [
    "df = pd.read_hdf('../input/data_all.hdf', 'train_test_converted')"
   ]
  },
  {
   "cell_type": "code",
   "execution_count": 9,
   "metadata": {},
   "outputs": [],
   "source": [
    "month_cols = df.fecha_dato.unique()"
   ]
  },
  {
   "cell_type": "code",
   "execution_count": 6,
   "metadata": {},
   "outputs": [
    {
     "data": {
      "text/plain": [
       "array([  0,  31,  59,  90, 120, 151, 181, 212, 243, 273, 304, 334, 365,\n",
       "       396, 425, 456, 486, 517], dtype=int64)"
      ]
     },
     "execution_count": 6,
     "metadata": {},
     "output_type": "execute_result"
    }
   ],
   "source": [
    "month_cols"
   ]
  },
  {
   "cell_type": "code",
   "execution_count": 144,
   "metadata": {},
   "outputs": [],
   "source": [
    "train_X = np.load('train_X.npy')"
   ]
  },
  {
   "cell_type": "code",
   "execution_count": 145,
   "metadata": {},
   "outputs": [],
   "source": [
    "train_y = np.load('train_y.npy')"
   ]
  },
  {
   "cell_type": "code",
   "execution_count": 146,
   "metadata": {},
   "outputs": [],
   "source": [
    "test_X = np.load('test_X.npy')"
   ]
  },
  {
   "cell_type": "code",
   "execution_count": 19,
   "metadata": {},
   "outputs": [],
   "source": [
    "target_cols = ['ind_cco_fin_ult1','ind_cder_fin_ult1',\n",
    "               'ind_cno_fin_ult1','ind_ctju_fin_ult1',\n",
    "               'ind_ctma_fin_ult1','ind_ctop_fin_ult1',\n",
    "               'ind_ctpp_fin_ult1',\n",
    "               'ind_deco_fin_ult1',\n",
    "               'ind_deme_fin_ult1',\n",
    "               'ind_dela_fin_ult1',\n",
    "               'ind_ecue_fin_ult1','ind_fond_fin_ult1',\n",
    "               'ind_hip_fin_ult1','ind_plan_fin_ult1',\n",
    "               'ind_pres_fin_ult1','ind_reca_fin_ult1',\n",
    "               'ind_tjcr_fin_ult1','ind_valo_fin_ult1',\n",
    "               'ind_viv_fin_ult1',\n",
    "               'ind_nomina_ult1',\n",
    "               'ind_nom_pens_ult1','ind_recibo_ult1']\n",
    "target_cols = sorted(target_cols)"
   ]
  },
  {
   "cell_type": "code",
   "execution_count": 20,
   "metadata": {},
   "outputs": [],
   "source": [
    "target_cols_map = {c+'_t':n for n, c in enumerate(target_cols)}\n",
    "target_cols_map_reverse = {n:c for n, c in enumerate(target_cols)}"
   ]
  },
  {
   "cell_type": "code",
   "execution_count": 48,
   "metadata": {},
   "outputs": [],
   "source": [
    "feature_cols = ['ind_empleado',\n",
    "                'sexo', 'ind_nuevo', \n",
    "                'indrel', 'indrel_1mes', \n",
    "                'tiprel_1mes', 'indresi', \n",
    "                'indext', 'conyuemp', \n",
    "                'indfall', 'tipodom', \n",
    "                'ind_actividad_cliente', 'segmento', \n",
    "                'pais_residencia', 'canal_entrada', \n",
    "                'age', 'renta', 'antiguedad']\n",
    "feature_cols = sorted(feature_cols)"
   ]
  },
  {
   "cell_type": "code",
   "execution_count": 49,
   "metadata": {},
   "outputs": [
    {
     "data": {
      "text/plain": [
       "18"
      ]
     },
     "execution_count": 49,
     "metadata": {},
     "output_type": "execute_result"
    }
   ],
   "source": [
    "len(feature_cols)"
   ]
  },
  {
   "cell_type": "code",
   "execution_count": 32,
   "metadata": {},
   "outputs": [
    {
     "data": {
      "text/plain": [
       "array([  0,  31,  59,  90, 120, 151, 181, 212, 243, 273, 304, 334, 365,\n",
       "       396, 425, 456, 486, 517], dtype=int64)"
      ]
     },
     "execution_count": 32,
     "metadata": {},
     "output_type": "execute_result"
    }
   ],
   "source": [
    "month_cols"
   ]
  },
  {
   "cell_type": "code",
   "execution_count": 152,
   "metadata": {},
   "outputs": [],
   "source": [
    "def prepare_data(m1, m2, train=True):\n",
    "    '''m1 is the first month, m2 is the second month\n",
    "    '''    \n",
    "    m1 = month_cols[m1]\n",
    "    m2 = month_cols[m2]\n",
    "\n",
    "    # customer id in m2\n",
    "    customer_m2 = df.loc[df.fecha_dato==m2, 'ncodpers'].values.tolist()\n",
    "    customer_m2 = sorted(customer_m2)\n",
    "    \n",
    "    # sales in m1 for customers in both m1 and m2\n",
    "    sales_m1 = df.loc[(df.fecha_dato==m1) & \n",
    "                      (df.ncodpers.isin(customer_m2)), \n",
    "                      ['ncodpers']+target_cols]\n",
    "    #sales_m1.set_index('ncodpers', drop=True, inplace=True)\n",
    "    #sales_m1.sort_index(inplace=True)\n",
    "\n",
    "    # information of customers in m2\n",
    "    feature_m2 = df.loc[df.fecha_dato==m2, ['ncodpers']+feature_cols].copy()\n",
    "    #feature_m2.set_index('ncodpers', drop=False, inplace=True)\n",
    "    #feature_m2.sort_index(inplace=True)\n",
    "\n",
    "    # customer features in m2, including sales in m1\n",
    "    #u = feature_m2.join(sales_m1)\n",
    "    u = pd.merge(feature_m2, sales_m1, how='left', on='ncodpers')\n",
    "    u[target_cols] = u[target_cols].fillna(0.0)\n",
    "\n",
    "    x_train = u.copy()\n",
    "\n",
    "    # generate target only for train dataset\n",
    "    if train:\n",
    "        # sales in m2 \n",
    "        sales_m2 = df.loc[df.fecha_dato==m2, ['ncodpers']+target_cols].copy()\n",
    "        sales_m2.fillna(0.0, inplace=True)\n",
    "        #sales_m2.set_index('ncodpers', inplace=True)\n",
    "        #sales_m2.sort_index(inplace=True)\n",
    "\n",
    "        # sales in m1 for customers in m2, fill NAN with 0.0 for customers only m2\n",
    "        n = pd.DataFrame(sales_m2.loc[:, 'ncodpers'])\n",
    "        n = pd.merge(n, sales_m1, how='left', on='ncodpers')\n",
    "        #n.loc[n.ncodpers.isin(sales_m1.index), target_cols] = sales_m1\n",
    "        #n.loc[~n.index.isin(sales_m1.index), target_cols] = np.zeros(n.loc[~n.index.isin(sales_m1.index), target_cols].shape)\n",
    "        n.fillna(0.0, inplace=True)\n",
    "\n",
    "        # new products from m1 to m2\n",
    "        #sales_m2 = sales_m2.subtract(n)\n",
    "        sales_m2.set_index('ncodpers', inplace=True, drop=True)\n",
    "        n.set_index('ncodpers', inplace=True, drop=True)\n",
    "        w = sales_m2.subtract(n)\n",
    "\n",
    "        # for each newly purchased product, generate one sample, so one customer can have 0, 1, or multiple samples\n",
    "        n = pd.merge(x_train, w, how='left', left_on='ncodpers', right_index=True, suffixes=('', '_t'))\n",
    "        \n",
    "        #n = x_train.join(sales_m2, rsuffix='_t')\n",
    "        n = n.melt(id_vars=x_train.columns)\n",
    "        n.variable.replace(target_cols_map, inplace=True)\n",
    "        n = n.loc[n.value>0].copy() # only keep added products\n",
    "        n.drop('value', axis=1, inplace=True)\n",
    "        n.reset_index(inplace=True, drop=True)\n",
    "\n",
    "        x_train = n.iloc[:, :-1].copy()\n",
    "        y_train = n.iloc[:, -1].copy()\n",
    "        \n",
    "        return x_train, y_train\n",
    "    else:\n",
    "        return x_train"
   ]
  },
  {
   "cell_type": "code",
   "execution_count": 158,
   "metadata": {},
   "outputs": [],
   "source": [
    "x_train_june, y_train_june = prepare_data(4, 5)\n",
    "x_test = prepare_data(-2, -1, train=False)\n",
    "x_train_july, y_train_july = prepare_data(5, 6)"
   ]
  },
  {
   "cell_type": "code",
   "execution_count": null,
   "metadata": {},
   "outputs": [],
   "source": [
    "param = {'objective': 'multi:softprob', \n",
    "         'eta': 0.5, \n",
    "         'max_depth': 8, \n",
    "         'silent': 0, \n",
    "         'num_class': len(target_cols),\n",
    "         'eval_metric': 'mlogloss',\n",
    "         'min_child_weight': 1,\n",
    "         'subsample': 0.7,\n",
    "         'colsample_bytree': 0.7,\n",
    "         'seed': 1}\n",
    "num_rounds = 12\n",
    "\n",
    "dtrain = xgb.DMatrix(x_train_june.values, y_train_june.values)\n",
    "dval = xgb.DMatrix(x_train_july.values, y_train_july.values)\n",
    "model = xgb.train(param, dtrain, num_rounds, evals=[(dtrain, 'train'), (dval, 'val')], verbose_eval=True)"
   ]
  }
 ],
 "metadata": {
  "kernelspec": {
   "display_name": "Python 3",
   "language": "python",
   "name": "python3"
  },
  "language_info": {
   "codemirror_mode": {
    "name": "ipython",
    "version": 3
   },
   "file_extension": ".py",
   "mimetype": "text/x-python",
   "name": "python",
   "nbconvert_exporter": "python",
   "pygments_lexer": "ipython3",
   "version": "3.6.6"
  }
 },
 "nbformat": 4,
 "nbformat_minor": 2
}
