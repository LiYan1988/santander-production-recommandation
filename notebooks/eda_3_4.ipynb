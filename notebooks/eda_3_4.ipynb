{
 "cells": [
  {
   "cell_type": "code",
   "execution_count": 1,
   "metadata": {},
   "outputs": [],
   "source": [
    "import os\n",
    "if os.name=='nt':\n",
    "    try:\n",
    "        mingw_path = 'C:\\\\Program Files\\\\mingw-w64\\\\x86_64-8.1.0-posix-seh-rt_v6-rev0\\\\mingw64\\\\bin'\n",
    "        os.environ['PATH'] = mingw_path + ';' + os.environ['PATH']\n",
    "    except:\n",
    "        pass\n",
    "    \n",
    "import numpy as np\n",
    "import pandas as pd\n",
    "import seaborn as sns\n",
    "import matplotlib.pyplot as plt\n",
    "import tqdm\n",
    "\n",
    "tqdm.tqdm.pandas()\n",
    "\n",
    "%matplotlib inline"
   ]
  },
  {
   "cell_type": "code",
   "execution_count": 2,
   "metadata": {},
   "outputs": [
    {
     "name": "stderr",
     "output_type": "stream",
     "text": [
      "C:\\Users\\home\\Anaconda3\\envs\\kaggle\\lib\\site-packages\\IPython\\core\\interactiveshell.py:2785: DtypeWarning: Columns (5,8,11,15) have mixed types. Specify dtype option on import or set low_memory=False.\n",
      "  interactivity=interactivity, compiler=compiler, result=result)\n"
     ]
    }
   ],
   "source": [
    "df = pd.read_csv('../input/train_ver2.csv')\n",
    "df2 = df.copy()"
   ]
  },
  {
   "cell_type": "code",
   "execution_count": 3,
   "metadata": {},
   "outputs": [],
   "source": [
    "ult_null = pd.read_hdf('../input/data.hdf', 'train_ult_null_count')"
   ]
  },
  {
   "cell_type": "code",
   "execution_count": 4,
   "metadata": {},
   "outputs": [],
   "source": [
    "ncodpers_mixnull = ult_null.loc[(ult_null.count_ult_notnull>0) & (ult_null.count_ult_null>0)].index.tolist()"
   ]
  },
  {
   "cell_type": "code",
   "execution_count": 5,
   "metadata": {},
   "outputs": [],
   "source": [
    "df.ult_fec_cli_1t = pd.to_datetime(df.ult_fec_cli_1t)\n",
    "df.fecha_dato = pd.to_datetime(df.fecha_dato)\n",
    "df.fecha_alta = pd.to_datetime(df.fecha_alta)"
   ]
  },
  {
   "cell_type": "code",
   "execution_count": 6,
   "metadata": {},
   "outputs": [],
   "source": [
    "df.sort_values(['ncodpers', 'fecha_dato'], inplace=True)"
   ]
  },
  {
   "cell_type": "code",
   "execution_count": 7,
   "metadata": {},
   "outputs": [],
   "source": [
    "df.loc[df.ncodpers.isin(ncodpers_mixnull), 'ult_fec_cli_1t'] = \\\n",
    "    df.loc[df.ncodpers.isin(ncodpers_mixnull), 'ult_fec_cli_1t'].fillna(method='bfill')"
   ]
  },
  {
   "cell_type": "code",
   "execution_count": 8,
   "metadata": {},
   "outputs": [
    {
     "data": {
      "text/html": [
       "<div>\n",
       "<style scoped>\n",
       "    .dataframe tbody tr th:only-of-type {\n",
       "        vertical-align: middle;\n",
       "    }\n",
       "\n",
       "    .dataframe tbody tr th {\n",
       "        vertical-align: top;\n",
       "    }\n",
       "\n",
       "    .dataframe thead th {\n",
       "        text-align: right;\n",
       "    }\n",
       "</style>\n",
       "<table border=\"1\" class=\"dataframe\">\n",
       "  <thead>\n",
       "    <tr style=\"text-align: right;\">\n",
       "      <th></th>\n",
       "      <th>ncodpers</th>\n",
       "      <th>ult_fec_cli_1t</th>\n",
       "    </tr>\n",
       "  </thead>\n",
       "  <tbody>\n",
       "    <tr>\n",
       "      <th>4078994</th>\n",
       "      <td>15891</td>\n",
       "      <td>2015-08-05</td>\n",
       "    </tr>\n",
       "    <tr>\n",
       "      <th>5319232</th>\n",
       "      <td>15891</td>\n",
       "      <td>2015-08-05</td>\n",
       "    </tr>\n",
       "    <tr>\n",
       "      <th>4079035</th>\n",
       "      <td>16136</td>\n",
       "      <td>2016-03-17</td>\n",
       "    </tr>\n",
       "    <tr>\n",
       "      <th>5319290</th>\n",
       "      <td>16136</td>\n",
       "      <td>2016-03-17</td>\n",
       "    </tr>\n",
       "    <tr>\n",
       "      <th>5705240</th>\n",
       "      <td>16136</td>\n",
       "      <td>2016-03-17</td>\n",
       "    </tr>\n",
       "  </tbody>\n",
       "</table>\n",
       "</div>"
      ],
      "text/plain": [
       "         ncodpers ult_fec_cli_1t\n",
       "4078994     15891     2015-08-05\n",
       "5319232     15891     2015-08-05\n",
       "4079035     16136     2016-03-17\n",
       "5319290     16136     2016-03-17\n",
       "5705240     16136     2016-03-17"
      ]
     },
     "execution_count": 8,
     "metadata": {},
     "output_type": "execute_result"
    }
   ],
   "source": [
    "df.loc[df.ncodpers.isin(ncodpers_mixnull), ['ncodpers', 'ult_fec_cli_1t']].head()"
   ]
  },
  {
   "cell_type": "code",
   "execution_count": 9,
   "metadata": {},
   "outputs": [],
   "source": [
    "df.age = pd.to_numeric(df.age, errors='coerce')"
   ]
  },
  {
   "cell_type": "code",
   "execution_count": 10,
   "metadata": {},
   "outputs": [],
   "source": [
    "df.antiguedad = pd.to_numeric(df.antiguedad, errors='coerce')"
   ]
  },
  {
   "cell_type": "code",
   "execution_count": 11,
   "metadata": {},
   "outputs": [],
   "source": [
    "fecha_dato = pd.DatetimeIndex(df.fecha_dato)\n",
    "fecha_alta = pd.DatetimeIndex(df.fecha_alta)\n",
    "fecha_diff = (fecha_dato.year-fecha_alta.year)*12 + (fecha_dato.month-fecha_alta.month)"
   ]
  },
  {
   "cell_type": "code",
   "execution_count": 20,
   "metadata": {},
   "outputs": [
    {
     "data": {
      "text/plain": [
       "[1.0, '1.0', '1', nan, '3.0', 3.0, '3', 'P', '2', '2.0', 2.0, '4.0', 4.0, '4']"
      ]
     },
     "execution_count": 20,
     "metadata": {},
     "output_type": "execute_result"
    }
   ],
   "source": [
    "df.indrel_1mes.value_counts(dropna=False).index.tolist()"
   ]
  },
  {
   "cell_type": "code",
   "execution_count": 22,
   "metadata": {},
   "outputs": [],
   "source": [
    "indrel_1mes_map = {1.0:1, '1.0':1, '1':1, 'nan':np.nan, \n",
    "    '3.0':3, 3.0:3, '3':3, 'P':0, '2':2, '2.0':2, 2.0:2, '4.0':4, 4.0:4, '4':4}"
   ]
  },
  {
   "cell_type": "code",
   "execution_count": 23,
   "metadata": {},
   "outputs": [],
   "source": [
    "df.indrel_1mes = df.indrel_1mes.map(indrel_1mes_map)"
   ]
  },
  {
   "cell_type": "code",
   "execution_count": 24,
   "metadata": {},
   "outputs": [
    {
     "data": {
      "text/plain": [
       " 1.0    13490681\n",
       "NaN       149781\n",
       " 3.0        4350\n",
       " 2.0        1317\n",
       " 0.0         874\n",
       " 4.0         306\n",
       "Name: indrel_1mes, dtype: int64"
      ]
     },
     "execution_count": 24,
     "metadata": {},
     "output_type": "execute_result"
    }
   ],
   "source": [
    "df.indrel_1mes.value_counts(dropna=False)"
   ]
  },
  {
   "cell_type": "code",
   "execution_count": 25,
   "metadata": {},
   "outputs": [
    {
     "data": {
      "text/plain": [
       "I      7304875\n",
       "A      6187123\n",
       "NaN     149781\n",
       "P         4656\n",
       "R          870\n",
       "N            4\n",
       "Name: tiprel_1mes, dtype: int64"
      ]
     },
     "execution_count": 25,
     "metadata": {},
     "output_type": "execute_result"
    }
   ],
   "source": [
    "df.tiprel_1mes.value_counts(dropna=False)"
   ]
  },
  {
   "cell_type": "code",
   "execution_count": 26,
   "metadata": {},
   "outputs": [
    {
     "data": {
      "text/plain": [
       "NaN    13645501\n",
       "N          1791\n",
       "S            17\n",
       "Name: conyuemp, dtype: int64"
      ]
     },
     "execution_count": 26,
     "metadata": {},
     "output_type": "execute_result"
    }
   ],
   "source": [
    "df.conyuemp.value_counts(dropna=False)"
   ]
  },
  {
   "cell_type": "code",
   "execution_count": 30,
   "metadata": {},
   "outputs": [],
   "source": [
    "id_null = df.loc[df.ind_empleado.isnull()].index.tolist()"
   ]
  },
  {
   "cell_type": "code",
   "execution_count": 31,
   "metadata": {},
   "outputs": [
    {
     "ename": "AttributeError",
     "evalue": "'DataFrame' object has no attribute 'ncodpers_null'",
     "output_type": "error",
     "traceback": [
      "\u001b[1;31m---------------------------------------------------------------------------\u001b[0m",
      "\u001b[1;31mAttributeError\u001b[0m                            Traceback (most recent call last)",
      "\u001b[1;32m<ipython-input-31-d3770bfb3bb6>\u001b[0m in \u001b[0;36m<module>\u001b[1;34m()\u001b[0m\n\u001b[1;32m----> 1\u001b[1;33m \u001b[0mncodpers_null\u001b[0m \u001b[1;33m=\u001b[0m \u001b[0mdf\u001b[0m\u001b[1;33m.\u001b[0m\u001b[0mloc\u001b[0m\u001b[1;33m[\u001b[0m\u001b[0mdf\u001b[0m\u001b[1;33m.\u001b[0m\u001b[0mind_empleado\u001b[0m\u001b[1;33m.\u001b[0m\u001b[0misnull\u001b[0m\u001b[1;33m(\u001b[0m\u001b[1;33m)\u001b[0m\u001b[1;33m]\u001b[0m\u001b[1;33m.\u001b[0m\u001b[0mncodpers_null\u001b[0m\u001b[1;33m.\u001b[0m\u001b[0munique\u001b[0m\u001b[1;33m(\u001b[0m\u001b[1;33m)\u001b[0m\u001b[1;33m.\u001b[0m\u001b[0mtolist\u001b[0m\u001b[1;33m(\u001b[0m\u001b[1;33m)\u001b[0m\u001b[1;33m\u001b[0m\u001b[0m\n\u001b[0m",
      "\u001b[1;32m~\\Anaconda3\\envs\\kaggle\\lib\\site-packages\\pandas\\core\\generic.py\u001b[0m in \u001b[0;36m__getattr__\u001b[1;34m(self, name)\u001b[0m\n\u001b[0;32m   4374\u001b[0m             \u001b[1;32mif\u001b[0m \u001b[0mself\u001b[0m\u001b[1;33m.\u001b[0m\u001b[0m_info_axis\u001b[0m\u001b[1;33m.\u001b[0m\u001b[0m_can_hold_identifiers_and_holds_name\u001b[0m\u001b[1;33m(\u001b[0m\u001b[0mname\u001b[0m\u001b[1;33m)\u001b[0m\u001b[1;33m:\u001b[0m\u001b[1;33m\u001b[0m\u001b[0m\n\u001b[0;32m   4375\u001b[0m                 \u001b[1;32mreturn\u001b[0m \u001b[0mself\u001b[0m\u001b[1;33m[\u001b[0m\u001b[0mname\u001b[0m\u001b[1;33m]\u001b[0m\u001b[1;33m\u001b[0m\u001b[0m\n\u001b[1;32m-> 4376\u001b[1;33m             \u001b[1;32mreturn\u001b[0m \u001b[0mobject\u001b[0m\u001b[1;33m.\u001b[0m\u001b[0m__getattribute__\u001b[0m\u001b[1;33m(\u001b[0m\u001b[0mself\u001b[0m\u001b[1;33m,\u001b[0m \u001b[0mname\u001b[0m\u001b[1;33m)\u001b[0m\u001b[1;33m\u001b[0m\u001b[0m\n\u001b[0m\u001b[0;32m   4377\u001b[0m \u001b[1;33m\u001b[0m\u001b[0m\n\u001b[0;32m   4378\u001b[0m     \u001b[1;32mdef\u001b[0m \u001b[0m__setattr__\u001b[0m\u001b[1;33m(\u001b[0m\u001b[0mself\u001b[0m\u001b[1;33m,\u001b[0m \u001b[0mname\u001b[0m\u001b[1;33m,\u001b[0m \u001b[0mvalue\u001b[0m\u001b[1;33m)\u001b[0m\u001b[1;33m:\u001b[0m\u001b[1;33m\u001b[0m\u001b[0m\n",
      "\u001b[1;31mAttributeError\u001b[0m: 'DataFrame' object has no attribute 'ncodpers_null'"
     ]
    }
   ],
   "source": [
    "ncodpers_null = df.loc[df.ind_empleado.isnull()].ncodpers.unique().tolist()"
   ]
  },
  {
   "cell_type": "code",
   "execution_count": 18,
   "metadata": {},
   "outputs": [
    {
     "data": {
      "text/plain": [
       "fecha_dato                      0\n",
       "ncodpers                        0\n",
       "ind_empleado                27734\n",
       "pais_residencia             27734\n",
       "sexo                        27804\n",
       "age                         27734\n",
       "fecha_alta                  27734\n",
       "ind_nuevo                   27734\n",
       "antiguedad                  27734\n",
       "indrel                      27734\n",
       "ult_fec_cli_1t           13518739\n",
       "indrel_1mes                149781\n",
       "tiprel_1mes                149781\n",
       "indresi                     27734\n",
       "indext                      27734\n",
       "conyuemp                 13645501\n",
       "canal_entrada              186126\n",
       "indfall                     27734\n",
       "tipodom                     27735\n",
       "cod_prov                    93591\n",
       "nomprov                     93591\n",
       "ind_actividad_cliente       27734\n",
       "renta                     2794375\n",
       "segmento                   189368\n",
       "ind_ahor_fin_ult1               0\n",
       "ind_aval_fin_ult1               0\n",
       "ind_cco_fin_ult1                0\n",
       "ind_cder_fin_ult1               0\n",
       "ind_cno_fin_ult1                0\n",
       "ind_ctju_fin_ult1               0\n",
       "ind_ctma_fin_ult1               0\n",
       "ind_ctop_fin_ult1               0\n",
       "ind_ctpp_fin_ult1               0\n",
       "ind_deco_fin_ult1               0\n",
       "ind_deme_fin_ult1               0\n",
       "ind_dela_fin_ult1               0\n",
       "ind_ecue_fin_ult1               0\n",
       "ind_fond_fin_ult1               0\n",
       "ind_hip_fin_ult1                0\n",
       "ind_plan_fin_ult1               0\n",
       "ind_pres_fin_ult1               0\n",
       "ind_reca_fin_ult1               0\n",
       "ind_tjcr_fin_ult1               0\n",
       "ind_valo_fin_ult1               0\n",
       "ind_viv_fin_ult1                0\n",
       "ind_nomina_ult1             16063\n",
       "ind_nom_pens_ult1           16063\n",
       "ind_recibo_ult1                 0\n",
       "dtype: int64"
      ]
     },
     "execution_count": 18,
     "metadata": {},
     "output_type": "execute_result"
    }
   ],
   "source": [
    "df.isnull().sum()"
   ]
  }
 ],
 "metadata": {
  "kernelspec": {
   "display_name": "Python 3",
   "language": "python",
   "name": "python3"
  },
  "language_info": {
   "codemirror_mode": {
    "name": "ipython",
    "version": 3
   },
   "file_extension": ".py",
   "mimetype": "text/x-python",
   "name": "python",
   "nbconvert_exporter": "python",
   "pygments_lexer": "ipython3",
   "version": "3.6.6"
  }
 },
 "nbformat": 4,
 "nbformat_minor": 2
}
