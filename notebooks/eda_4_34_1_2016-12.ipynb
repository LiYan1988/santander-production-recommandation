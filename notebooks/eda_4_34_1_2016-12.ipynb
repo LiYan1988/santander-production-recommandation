{
 "cells": [
  {
   "cell_type": "markdown",
   "metadata": {},
   "source": [
    "## Feature Engineering and CV based on 5-th Place Solutions\n",
    "\n",
    "`param = {'objective': 'multi:softprob', \n",
    "         'eta': 0.05, \n",
    "         'max_depth': 8,\n",
    "         'silent': 1, \n",
    "         'num_class': len(target_cols),\n",
    "         'eval_metric': 'mlogloss',\n",
    "         'min_child_weight': 1,\n",
    "         'subsample': 0.7,\n",
    "         'colsample_bytree': 0.7,\n",
    "         'seed': 0}`\n",
    "         \n",
    "`n_repeats=2\n",
    "n_trees = 150`\n",
    "\n",
    "Train on the last three months\n",
    "\n",
    "New in this notebook:\n",
    "- Create training data for all months (2015-02-28 to 2016-04-28) and validate on 2016-05-28"
   ]
  },
  {
   "cell_type": "code",
   "execution_count": 1,
   "metadata": {},
   "outputs": [],
   "source": [
    "from santander_helper import *"
   ]
  },
  {
   "cell_type": "markdown",
   "metadata": {},
   "source": [
    "Load all months' data"
   ]
  },
  {
   "cell_type": "code",
   "execution_count": 3,
   "metadata": {},
   "outputs": [
    {
     "data": {
      "application/vnd.jupyter.widget-view+json": {
       "model_id": "6b3a580efaaa4c66b6a0ddeacee994dc",
       "version_major": 2,
       "version_minor": 0
      },
      "text/plain": [
       "HBox(children=(IntProgress(value=0, max=18), HTML(value='')))"
      ]
     },
     "metadata": {},
     "output_type": "display_data"
    },
    {
     "name": "stdout",
     "output_type": "stream",
     "text": [
      "1 2015-02-28\n",
      "2 2015-03-28\n",
      "3 2015-04-28\n",
      "4 2015-05-28\n",
      "5 2015-06-28\n",
      "6 2015-07-28\n",
      "7 2015-08-28\n",
      "8 2015-09-28\n",
      "9 2015-10-28\n",
      "10 2015-11-28\n",
      "11 2015-12-28\n",
      "12 2016-01-28\n",
      "13 2016-02-28\n",
      "14 2016-03-28\n",
      "15 2016-04-28\n",
      "16 2016-05-28\n",
      "\n"
     ]
    },
    {
     "data": {
      "text/plain": [
       "268"
      ]
     },
     "execution_count": 3,
     "metadata": {},
     "output_type": "execute_result"
    }
   ],
   "source": [
    "x_train_list = []\n",
    "y_train_list = []\n",
    "w_train_list = []\n",
    "fixed_lag = 6\n",
    "for i, m in tqdm.tqdm_notebook(enumerate(month_list), total=len(month_list)):\n",
    "    if m in ['2015-01-28', '2016-06-28']:\n",
    "        continue\n",
    "    x_tmp, y_tmp, w_tmp = create_train(m, max_lag=i, fixed_lag=fixed_lag, pattern_flag=True)\n",
    "    x_train_list.append(x_tmp)\n",
    "    y_train_list.append(y_tmp)\n",
    "    w_train_list.append(w_tmp)\n",
    "    print(len(x_train_list), m)\n",
    "del x_tmp, y_tmp, w_tmp\n",
    "gc.collect()"
   ]
  },
  {
   "cell_type": "markdown",
   "metadata": {},
   "source": [
    "Prepare the last few months for train and validation"
   ]
  },
  {
   "cell_type": "code",
   "execution_count": 5,
   "metadata": {},
   "outputs": [
    {
     "data": {
      "text/plain": [
       "0"
      ]
     },
     "execution_count": 5,
     "metadata": {},
     "output_type": "execute_result"
    }
   ],
   "source": [
    "# Prepare for train and validation\n",
    "x_val = x_train_list[-1]\n",
    "y_val = y_train_list[-1]\n",
    "w_val = w_train_list[-1]\n",
    "\n",
    "x_train = x_train_list[10]\n",
    "y_train = y_train_list[10]\n",
    "w_train = w_train_list[10]\n",
    "\n",
    "gc.collect()"
   ]
  },
  {
   "cell_type": "code",
   "execution_count": 6,
   "metadata": {
    "scrolled": true
   },
   "outputs": [
    {
     "name": "stdout",
     "output_type": "stream",
     "text": [
      "[0]\ttrain-merror:0.312874\tval-merror:0.322783\ttrain-MAP@7:0\tval-MAP@7:0.858613\n",
      "[1]\ttrain-merror:0.306694\tval-merror:0.316606\ttrain-MAP@7:0\tval-MAP@7:0.86648\n",
      "[2]\ttrain-merror:0.302832\tval-merror:0.31373\ttrain-MAP@7:0\tval-MAP@7:0.869181\n",
      "[3]\ttrain-merror:0.300315\tval-merror:0.311853\ttrain-MAP@7:0\tval-MAP@7:0.870595\n",
      "[4]\ttrain-merror:0.299282\tval-merror:0.310692\ttrain-MAP@7:0\tval-MAP@7:0.871565\n",
      "[5]\ttrain-merror:0.296887\tval-merror:0.311568\ttrain-MAP@7:0\tval-MAP@7:0.871126\n",
      "[6]\ttrain-merror:0.294884\tval-merror:0.311915\ttrain-MAP@7:0\tval-MAP@7:0.871086\n",
      "[7]\ttrain-merror:0.294178\tval-merror:0.312029\ttrain-MAP@7:0\tval-MAP@7:0.871132\n",
      "[8]\ttrain-merror:0.292392\tval-merror:0.310079\ttrain-MAP@7:0\tval-MAP@7:0.872557\n",
      "[9]\ttrain-merror:0.291014\tval-merror:0.308935\ttrain-MAP@7:0\tval-MAP@7:0.873403\n",
      "Repeat 0, validate score = 0.309, running time = 1.248 min\n",
      "Score mean = 0.309, std = nan\n"
     ]
    }
   ],
   "source": [
    "param = {'objective': 'multi:softprob', \n",
    "         'eta': 0.1, \n",
    "         'max_depth': 8,\n",
    "         'silent': 1, \n",
    "         'num_class': len(target_cols),\n",
    "         'eval_metric': 'merror',\n",
    "         'min_child_weight': 10,\n",
    "         'lambda': 5,\n",
    "         'subsample': 0.7,\n",
    "         'colsample_bytree': 0.7,\n",
    "         'seed': 0}\n",
    "\n",
    "n_rows = None # number of rows in train dataset, to simplify testing, always set to None\n",
    "n_repeats = 1\n",
    "n_trees = 10\n",
    "train = {'x': x_train.iloc[:n_rows, :], 'y': y_train.iloc[:n_rows], 'w': w_train.iloc[:n_rows]}\n",
    "val = {'x': x_val.iloc[:n_rows, :], 'y': y_val.iloc[:n_rows], 'w': w_val.iloc[:n_rows]}\n",
    "df, clfs, running_time = cv_all_month(param, train, val, n_features=350, num_boost_round=n_trees, \n",
    "    n_repeats=n_repeats, random_state=0, verbose_eval=True)"
   ]
  },
  {
   "cell_type": "markdown",
   "metadata": {},
   "source": [
    "Train on 1603-1605"
   ]
  },
  {
   "cell_type": "code",
   "execution_count": null,
   "metadata": {},
   "outputs": [
    {
     "name": "stdout",
     "output_type": "stream",
     "text": [
      "[0]\ttrain-merror:0.312713\ttrain-MAP@7:0\n",
      "[1]\ttrain-merror:0.306654\ttrain-MAP@7:0\n",
      "[2]\ttrain-merror:0.30352\ttrain-MAP@7:0\n"
     ]
    }
   ],
   "source": [
    "n_rows = None # number of rows in train dataset, to simplify testing, always set to None\n",
    "n_repeats = 1\n",
    "n_trees = 5\n",
    "train = {'x': x_train.iloc[:n_rows, :], 'y': y_train.iloc[:n_rows], 'w': w_train.iloc[:n_rows]}\n",
    "# val = {'x': x_val.iloc[:n_rows, :], 'y': y_val.iloc[:n_rows], 'w': w_val.iloc[:n_rows]}\n",
    "clfs, running_time = cv_all_month(param, train, n_features=350, num_boost_round=n_trees, \n",
    "    n_repeats=n_repeats, random_state=47, verbose_eval=True)"
   ]
  },
  {
   "cell_type": "markdown",
   "metadata": {},
   "source": [
    "Predict on 1606"
   ]
  },
  {
   "cell_type": "code",
   "execution_count": 5,
   "metadata": {},
   "outputs": [],
   "source": [
    "x_test = create_test(month='2016-06-28', max_lag=17, fixed_lag=6, pattern_flag=True)"
   ]
  },
  {
   "cell_type": "code",
   "execution_count": 6,
   "metadata": {},
   "outputs": [],
   "source": [
    "simulation_name = 'p2'\n",
    "y_pred, y_sub = predict_all_month(model_dict=clfs, x_test=x_test, \n",
    "    sub_name='eda_4_34_{}.csv.gz'.format(simulation_name), n_features=350, n_trees=n_trees)\n",
    "save_pickle('eda_4_34_results_{}.pickle'.format(simulation_name), (clfs, running_time, y_pred, y_sub))"
   ]
  },
  {
   "cell_type": "markdown",
   "metadata": {},
   "source": [
    "Load predictions based on 1506 and all months"
   ]
  },
  {
   "cell_type": "code",
   "execution_count": 7,
   "metadata": {},
   "outputs": [],
   "source": [
    "y_pred2 = load_pickle('parameter_tune_eda_4_32_p4.pickle')\n",
    "y_pred2 = y_pred2[-4]\n",
    "\n",
    "y_pred3 = load_pickle('eda_4_33_results_p2.pickle')\n",
    "y_pred3 = y_pred3[2]\n",
    "\n",
    "y_pred4 = load_pickle('eda_4_34_results_p1.pickle')\n",
    "y_pred4 = y_pred4[2]"
   ]
  },
  {
   "cell_type": "markdown",
   "metadata": {},
   "source": [
    "Combine three models"
   ]
  },
  {
   "cell_type": "code",
   "execution_count": 18,
   "metadata": {},
   "outputs": [],
   "source": [
    "y_pred_final = np.concatenate((y_pred, y_pred2, y_pred3))"
   ]
  },
  {
   "cell_type": "code",
   "execution_count": 20,
   "metadata": {},
   "outputs": [],
   "source": [
    "y_pred_final = np.mean(y_pred_final, axis=0)"
   ]
  },
  {
   "cell_type": "code",
   "execution_count": 22,
   "metadata": {},
   "outputs": [],
   "source": [
    "y_sub = np.argsort(y_pred_final, axis=1)\n",
    "y_sub = np.fliplr(y_sub)[:, :7]\n",
    "# Prepare submission\n",
    "test_id = x_test.loc[:, 'ncodpers'].values\n",
    "y_sub = [' '.join([target_cols[k] for k in pred]) for pred in y_sub]\n",
    "y_sub = pd.DataFrame({'ncodpers': test_id, 'added_products': y_sub})\n",
    "y_sub.to_csv('eda_4_34_p1+eda_4_33_p1+eda_4_32_p4.csv.gz', compression='gzip', index=False)"
   ]
  }
 ],
 "metadata": {
  "kernelspec": {
   "display_name": "Python 3",
   "language": "python",
   "name": "python3"
  },
  "language_info": {
   "codemirror_mode": {
    "name": "ipython",
    "version": 3
   },
   "file_extension": ".py",
   "mimetype": "text/x-python",
   "name": "python",
   "nbconvert_exporter": "python",
   "pygments_lexer": "ipython3",
   "version": "3.6.7"
  }
 },
 "nbformat": 4,
 "nbformat_minor": 2
}
