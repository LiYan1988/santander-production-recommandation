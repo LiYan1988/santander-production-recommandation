{
 "cells": [
  {
   "cell_type": "code",
   "execution_count": 1,
   "metadata": {},
   "outputs": [],
   "source": [
    "import os\n",
    "if os.name=='nt':\n",
    "    try:\n",
    "        mingw_path = 'C:\\\\Program Files\\\\mingw-w64\\\\x86_64-8.1.0-posix-seh-rt_v6-rev0\\\\mingw64\\\\bin'\n",
    "        os.environ['PATH'] = mingw_path + ';' + os.environ['PATH']\n",
    "    except:\n",
    "        pass\n",
    "    \n",
    "import numpy as np\n",
    "import pandas as pd\n",
    "import seaborn as sns\n",
    "import matplotlib.pyplot as plt\n",
    "import tqdm\n",
    "import gc\n",
    "import xgboost as xgb\n",
    "from sklearn.preprocessing import LabelEncoder\n",
    "\n",
    "tqdm.tqdm.pandas()\n",
    "\n",
    "%matplotlib inline"
   ]
  },
  {
   "cell_type": "code",
   "execution_count": 2,
   "metadata": {},
   "outputs": [],
   "source": [
    "df = pd.read_hdf('../input/data_all.hdf', 'train_test')"
   ]
  },
  {
   "cell_type": "code",
   "execution_count": 3,
   "metadata": {},
   "outputs": [
    {
     "data": {
      "application/vnd.jupyter.widget-view+json": {
       "model_id": "c1f2bed500ed4dcbb441244423211698",
       "version_major": 2,
       "version_minor": 0
      },
      "text/plain": [
       "HBox(children=(IntProgress(value=0, max=48), HTML(value='')))"
      ]
     },
     "metadata": {},
     "output_type": "display_data"
    },
    {
     "name": "stdout",
     "output_type": "stream",
     "text": [
      "\n"
     ]
    }
   ],
   "source": [
    "# Convert data types\n",
    "for c in tqdm.tqdm_notebook(df.columns):\n",
    "    if df[c].dtype.name=='category':\n",
    "        le = LabelEncoder()\n",
    "        df[c] = le.fit_transform(df[c])\n",
    "    elif df[c].dtype.name=='datetime64[ns]':\n",
    "        df[c] = (df[c] - df[c].min()).dt.days"
   ]
  },
  {
   "cell_type": "code",
   "execution_count": 4,
   "metadata": {},
   "outputs": [
    {
     "name": "stderr",
     "output_type": "stream",
     "text": [
      "C:\\Users\\home\\Anaconda3\\envs\\kaggle\\lib\\site-packages\\tables\\leaf.py:357: RuntimeWarning: overflow encountered in long_scalars\n",
      "  expected_mb = (expectedrows * rowsize) // MB\n"
     ]
    }
   ],
   "source": [
    "df.to_hdf('../input/data_all.hdf', 'train_test_converted', complib='blosc:lz4', complevel=9, format='t')"
   ]
  },
  {
   "cell_type": "markdown",
   "metadata": {},
   "source": [
    "Use 2015-05 and 2015-06 data to train a model, and predict on 2016-05 for 2016-06\n",
    "\n",
    "1. Use two months data to create one dataset\n",
    "    1. For each user in 2015-06, extract all the history data"
   ]
  },
  {
   "cell_type": "code",
   "execution_count": 5,
   "metadata": {},
   "outputs": [],
   "source": [
    "target_cols = ['ind_ahor_fin_ult1','ind_aval_fin_ult1',\n",
    "               'ind_cco_fin_ult1','ind_cder_fin_ult1',\n",
    "               'ind_cno_fin_ult1','ind_ctju_fin_ult1',\n",
    "               'ind_ctma_fin_ult1','ind_ctop_fin_ult1',\n",
    "               'ind_ctpp_fin_ult1',\n",
    "               #'ind_deco_fin_ult1',\n",
    "               #'ind_deme_fin_ult1',\n",
    "               'ind_dela_fin_ult1',\n",
    "               'ind_ecue_fin_ult1','ind_fond_fin_ult1',\n",
    "               'ind_hip_fin_ult1','ind_plan_fin_ult1',\n",
    "               'ind_pres_fin_ult1','ind_reca_fin_ult1',\n",
    "               'ind_tjcr_fin_ult1','ind_valo_fin_ult1',\n",
    "               #'ind_viv_fin_ult1',\n",
    "               'ind_nomina_ult1',\n",
    "               'ind_nom_pens_ult1','ind_recibo_ult1']\n",
    "target_cols = sorted(target_cols)"
   ]
  },
  {
   "cell_type": "code",
   "execution_count": 6,
   "metadata": {},
   "outputs": [],
   "source": [
    "feature_cols = ['fecha_dato', 'ncodpers', 'ind_empleado', 'pais_residencia', 'sexo',\n",
    "                'age', 'fecha_alta', 'ind_nuevo', 'antiguedad', 'indrel',\n",
    "                'ult_fec_cli_1t', 'indrel_1mes', 'tiprel_1mes', 'indresi', 'indext',\n",
    "                'conyuemp', 'canal_entrada', 'indfall', 'tipodom', 'cod_prov',\n",
    "                'nomprov', 'ind_actividad_cliente', 'renta', 'segmento']\n",
    "feature_cols = sorted(feature_cols)"
   ]
  },
  {
   "cell_type": "code",
   "execution_count": 7,
   "metadata": {},
   "outputs": [],
   "source": [
    "month_cols = df.fecha_dato.unique()"
   ]
  },
  {
   "cell_type": "code",
   "execution_count": 8,
   "metadata": {},
   "outputs": [],
   "source": [
    "df_pivot = df.pivot_table(index='ncodpers', columns='fecha_dato', \n",
    "                          values=target_cols, aggfunc=np.sum)"
   ]
  },
  {
   "cell_type": "code",
   "execution_count": 9,
   "metadata": {},
   "outputs": [
    {
     "name": "stderr",
     "output_type": "stream",
     "text": [
      "C:\\Users\\home\\Anaconda3\\envs\\kaggle\\lib\\site-packages\\tables\\leaf.py:357: RuntimeWarning: overflow encountered in long_scalars\n",
      "  expected_mb = (expectedrows * rowsize) // MB\n"
     ]
    }
   ],
   "source": [
    "df_pivot.to_hdf('../input/data_all.hdf_all.hdf', 'train_test_converted_pivot', complib='blosc:lz4', complevel=9, format='t')"
   ]
  },
  {
   "cell_type": "code",
   "execution_count": 10,
   "metadata": {},
   "outputs": [],
   "source": [
    "def calculate_max_score(df, df_pivot, m1, m2):\n",
    "    '''Calculate the maximum possible score for each month, also return the new products in this month\n",
    "    m2 is the late month, m1 is the month before it\n",
    "    '''\n",
    "    \n",
    "    # sales of m2\n",
    "    tmp2 = df_pivot.loc[:, (slice(None), m2)].copy()\n",
    "    # sales of m1\n",
    "    tmp1 = df_pivot.loc[:, (slice(None), m1)].copy()\n",
    "\n",
    "    # customer ids in m2\n",
    "    tmp2_ncodpers = df.loc[df.fecha_dato==m2].ncodpers\n",
    "    # keep customers existing in m2, and remove irrelavent customers\n",
    "    tmp2 = tmp2.loc[tmp2.index.isin(tmp2_ncodpers)]    \n",
    "    # replace NAN with 0.0\n",
    "    tmp2.fillna(0.0, inplace=True)\n",
    "\n",
    "    # customers in m2 should also in tmp1, even though some of them\n",
    "    # are new in m2 and do not exist in m1 (they will be NAN)\n",
    "    tmp1 = tmp1.loc[tmp1.index.isin(tmp2.index)]\n",
    "    # replace NAN with 0.0\n",
    "    tmp1.fillna(0.0, inplace=True)\n",
    "\n",
    "    # change column names so that subtract works\n",
    "    tmp1.columns = target_cols\n",
    "    tmp2.columns = target_cols\n",
    "\n",
    "    # sales in m2 - sales in m1\n",
    "    tmp_diff = tmp2.subtract(tmp1)\n",
    "\n",
    "    # replace negative values with 0.0\n",
    "    tmp_diff[tmp_diff<0] = 0\n",
    "    # replace NAN with 0.0\n",
    "    tmp_diff.fillna(0.0, inplace=True)\n",
    "    \n",
    "    # maximum possible score\n",
    "    score_max = tmp_diff.max(axis=1).sum()/tmp_diff.shape[0]\n",
    "    \n",
    "    return tmp_diff, score_max"
   ]
  },
  {
   "cell_type": "code",
   "execution_count": 11,
   "metadata": {},
   "outputs": [
    {
     "name": "stdout",
     "output_type": "stream",
     "text": [
      "0 31 0.0438368871873177\n",
      "31 59 0.04537284113863597\n",
      "59 90 0.045397363757937834\n",
      "90 120 0.03886656845323337\n",
      "120 151 0.05748050181139359\n",
      "151 181 0.046959751366867634\n",
      "181 212 0.041536952636441374\n",
      "212 243 0.05104686633388796\n",
      "243 273 0.0539904130115853\n",
      "273 304 0.04038035159125447\n",
      "304 334 0.04067340554658281\n",
      "334 365 0.0331016328174368\n",
      "365 396 0.04224001633177834\n",
      "396 425 0.03301350375536713\n",
      "425 456 0.030922981792013995\n",
      "456 486 0.0319006970829446\n"
     ]
    }
   ],
   "source": [
    "month_cols = df.fecha_dato.unique()\n",
    "best_score = {}\n",
    "for n, m in enumerate(month_cols[:-2]):\n",
    "    m1 = m\n",
    "    m2 = month_cols[n+1]\n",
    "    tmp_diff, score_max = calculate_max_score(df, df_pivot, m1, m2)\n",
    "    print(m1, m2, score_max)"
   ]
  },
  {
   "cell_type": "markdown",
   "metadata": {},
   "source": [
    "Train on 2015-05 to 2015-06"
   ]
  },
  {
   "cell_type": "code",
   "execution_count": 12,
   "metadata": {},
   "outputs": [],
   "source": [
    "# the two months\n",
    "m1 = month_cols[4] # numpy.datetime64('2015-05-28T00:00:00.000000000')\n",
    "m2 = month_cols[5] # numpy.datetime64('2015-06-28T00:00:00.000000000')\n",
    "\n",
    "# target is the increment between 2015-06 and 2015-05\n",
    "target, score_max = calculate_max_score(df, df_pivot, m1, m2)\n",
    "\n",
    "# use customer features in 2015-06\n",
    "x_train = df.loc[df.fecha_dato==m2, feature_cols].copy()\n",
    "# set customer id as row index\n",
    "x_train.set_index('ncodpers', inplace=True)\n",
    "# customer ids in 2015-06\n",
    "customer_id = x_train.index.tolist()\n",
    "\n",
    "# add sales in the previous month (2015-05)\n",
    "prev_target = df_pivot.loc[df_pivot.index.isin(customer_id), (slice(None), m1)]\n",
    "# change column names\n",
    "prev_target.columns = target_cols\n",
    "# join features\n",
    "x_train = x_train.join(prev_target)\n",
    "# replace NAN in previous target_cols with 0.0\n",
    "x_train.loc[:, target_cols].fillna(0.0, inplace=True)\n",
    "# sort x_train by ncodpers\n",
    "x_train.sort_index(inplace=True)"
   ]
  },
  {
   "cell_type": "code",
   "execution_count": 13,
   "metadata": {},
   "outputs": [],
   "source": [
    "# set ncodpers as both the index and a column\n",
    "x_train.reset_index(inplace=True)\n",
    "x_train.set_index('ncodpers', drop=False, inplace=True)\n",
    "x_train.sort_index(inplace=True)"
   ]
  },
  {
   "cell_type": "code",
   "execution_count": 14,
   "metadata": {},
   "outputs": [],
   "source": [
    "# Convert target from multiple columns to single column, with value equals the column index\n",
    "\n",
    "# convert 0/1 target to column index, starting from 1 since 0 cannot differentiate 0 and 1\n",
    "u = target.values\n",
    "u = u*np.arange(1, target.shape[1]+1)\n",
    "target[target.columns] = u\n",
    "\n",
    "# join target with train data\n",
    "u = x_train.join(target, rsuffix='_t')\n",
    "# get train data column name\n",
    "x_train_col = x_train.columns.tolist()\n",
    "# melt the joined data\n",
    "u = u.melt(id_vars=x_train_col)\n",
    "# remove zero rows and keep new products\n",
    "u = u.loc[u.value>0]\n",
    "# drop the variable column\n",
    "u.drop(['variable'], inplace=True, axis=1)"
   ]
  },
  {
   "cell_type": "code",
   "execution_count": 44,
   "metadata": {},
   "outputs": [],
   "source": [
    "# Prepare results for xgboost\n",
    "x_train = u.iloc[:, :-1].copy()\n",
    "# xgboost requires values of y_train in [0, num_class)\n",
    "y_train = pd.DataFrame(u.iloc[:, -1].copy())\n",
    "y_train['all_zero'] = np.zeros(y_train.shape)\n",
    "y_train['value'] = y_train['value']-1\n",
    "y_train = y_train.max(axis=1)"
   ]
  },
  {
   "cell_type": "markdown",
   "metadata": {},
   "source": [
    "run XGBoost"
   ]
  },
  {
   "cell_type": "code",
   "execution_count": 25,
   "metadata": {},
   "outputs": [],
   "source": [
    "# x_train.drop(['fecha_dato', 'fecha_alta', 'ult_fec_cli_1t'], axis=1, inplace=True)"
   ]
  },
  {
   "cell_type": "code",
   "execution_count": 46,
   "metadata": {
    "scrolled": true
   },
   "outputs": [
    {
     "name": "stdout",
     "output_type": "stream",
     "text": [
      "[0]\ttrain-mlogloss:2.88034\n",
      "[1]\ttrain-mlogloss:2.72684\n",
      "[2]\ttrain-mlogloss:2.61254\n",
      "[3]\ttrain-mlogloss:2.51241\n",
      "[4]\ttrain-mlogloss:2.42313\n",
      "[5]\ttrain-mlogloss:2.35193\n",
      "[6]\ttrain-mlogloss:2.28651\n",
      "[7]\ttrain-mlogloss:2.22772\n",
      "[8]\ttrain-mlogloss:2.17241\n",
      "[9]\ttrain-mlogloss:2.12307\n",
      "[10]\ttrain-mlogloss:2.07692\n",
      "[11]\ttrain-mlogloss:2.02938\n",
      "[12]\ttrain-mlogloss:1.98781\n",
      "[13]\ttrain-mlogloss:1.94965\n",
      "[14]\ttrain-mlogloss:1.9163\n",
      "[15]\ttrain-mlogloss:1.88056\n",
      "[16]\ttrain-mlogloss:1.84806\n",
      "[17]\ttrain-mlogloss:1.81657\n",
      "[18]\ttrain-mlogloss:1.78765\n",
      "[19]\ttrain-mlogloss:1.76201\n",
      "[20]\ttrain-mlogloss:1.73461\n",
      "[21]\ttrain-mlogloss:1.71128\n",
      "[22]\ttrain-mlogloss:1.68732\n",
      "[23]\ttrain-mlogloss:1.66754\n",
      "[24]\ttrain-mlogloss:1.64663\n",
      "[25]\ttrain-mlogloss:1.62556\n",
      "[26]\ttrain-mlogloss:1.60527\n",
      "[27]\ttrain-mlogloss:1.58546\n",
      "[28]\ttrain-mlogloss:1.56728\n",
      "[29]\ttrain-mlogloss:1.54993\n",
      "[30]\ttrain-mlogloss:1.53337\n",
      "[31]\ttrain-mlogloss:1.51793\n",
      "[32]\ttrain-mlogloss:1.50347\n",
      "[33]\ttrain-mlogloss:1.48873\n",
      "[34]\ttrain-mlogloss:1.47609\n",
      "[35]\ttrain-mlogloss:1.46256\n",
      "[36]\ttrain-mlogloss:1.45081\n",
      "[37]\ttrain-mlogloss:1.43888\n",
      "[38]\ttrain-mlogloss:1.42681\n",
      "[39]\ttrain-mlogloss:1.41539\n",
      "[40]\ttrain-mlogloss:1.40444\n",
      "[41]\ttrain-mlogloss:1.3939\n",
      "[42]\ttrain-mlogloss:1.38436\n",
      "[43]\ttrain-mlogloss:1.37472\n",
      "[44]\ttrain-mlogloss:1.36457\n",
      "[45]\ttrain-mlogloss:1.35497\n",
      "[46]\ttrain-mlogloss:1.34605\n",
      "[47]\ttrain-mlogloss:1.33725\n",
      "[48]\ttrain-mlogloss:1.32953\n",
      "[49]\ttrain-mlogloss:1.32132\n"
     ]
    }
   ],
   "source": [
    "param = {'objective': 'multi:softprob', \n",
    "         'eta': 0.05, \n",
    "         'max_depth': 8, \n",
    "         'silent': 0, \n",
    "         'num_class': len(target_cols),\n",
    "         'eval_metric': 'mlogloss',\n",
    "         'min_child_weight': 1,\n",
    "         'subsample': 0.7,\n",
    "         'colsample_bytree': 0.7,\n",
    "         'seed': 1}\n",
    "num_rounds = 50\n",
    "\n",
    "dtrain = xgb.DMatrix(x_train.values, y_train.values-1)\n",
    "model = xgb.train(param, dtrain, num_rounds, evals=[(dtrain, 'train')], verbose_eval=True)"
   ]
  },
  {
   "cell_type": "code",
   "execution_count": 54,
   "metadata": {},
   "outputs": [],
   "source": [
    "# the two months\n",
    "m1 = month_cols[-2] # numpy.datetime64('2015-05-28T00:00:00.000000000')\n",
    "m2 = month_cols[-1] # numpy.datetime64('2015-06-28T00:00:00.000000000')\n",
    "\n",
    "# use customer features in 2015-06 \n",
    "x_train = df.loc[df.fecha_dato==m2, feature_cols].copy()\n",
    "# set customer id as row index\n",
    "x_train.set_index('ncodpers', inplace=True)\n",
    "# customer ids in 2015-06\n",
    "customer_id = x_train.index.tolist()\n",
    "\n",
    "# add sales in the previous month (2015-05)\n",
    "prev_target = df_pivot.loc[df_pivot.index.isin(customer_id), (slice(None), m1)]\n",
    "# change column names\n",
    "prev_target.columns = target_cols\n",
    "# join features\n",
    "x_train = x_train.join(prev_target)\n",
    "# replace NAN in previous target_cols with 0.0\n",
    "x_train.loc[:, target_cols].fillna(0.0, inplace=True)\n",
    "# reset index to include ncodpers as one column\n",
    "x_train.reset_index(inplace=True)\n",
    "x_train.set_index('ncodpers', drop=False, inplace=True)\n",
    "x_train.sort_index(inplace=True)"
   ]
  },
  {
   "cell_type": "code",
   "execution_count": 65,
   "metadata": {},
   "outputs": [],
   "source": [
    "preds = model.predict(xgb.DMatrix(x_train.values))\n",
    "preds = np.argsort(preds, axis=1)\n",
    "preds = np.fliplr(preds)[:, :7]"
   ]
  },
  {
   "cell_type": "code",
   "execution_count": 59,
   "metadata": {},
   "outputs": [],
   "source": [
    "test_id = df.loc[df.fecha_dato==m2, 'ncodpers'].values\n",
    "final_preds = [' '.join([target_cols[k] for k in pred]) for pred in preds]\n",
    "out_df = pd.DataFrame({'ncodpers': test_id, 'added_products': final_preds})\n",
    "out_df.to_csv('../input/eda_4_1.csv.gz', compression='gzip', index=False)"
   ]
  },
  {
   "cell_type": "code",
   "execution_count": 67,
   "metadata": {},
   "outputs": [
    {
     "data": {
      "text/plain": [
       "(929615, 7)"
      ]
     },
     "execution_count": 67,
     "metadata": {},
     "output_type": "execute_result"
    }
   ],
   "source": [
    "preds.shape"
   ]
  },
  {
   "cell_type": "code",
   "execution_count": 135,
   "metadata": {},
   "outputs": [
    {
     "data": {
      "text/plain": [
       "{}"
      ]
     },
     "execution_count": 135,
     "metadata": {},
     "output_type": "execute_result"
    }
   ],
   "source": [
    "x"
   ]
  }
 ],
 "metadata": {
  "kernelspec": {
   "display_name": "Python 3",
   "language": "python",
   "name": "python3"
  },
  "language_info": {
   "codemirror_mode": {
    "name": "ipython",
    "version": 3
   },
   "file_extension": ".py",
   "mimetype": "text/x-python",
   "name": "python",
   "nbconvert_exporter": "python",
   "pygments_lexer": "ipython3",
   "version": "3.6.6"
  }
 },
 "nbformat": 4,
 "nbformat_minor": 2
}
