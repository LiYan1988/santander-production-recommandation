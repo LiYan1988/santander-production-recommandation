{
 "cells": [
  {
   "cell_type": "markdown",
   "metadata": {},
   "source": [
    "# MAP\n",
    "\n",
    "Improve MAP evaluation speed"
   ]
  },
  {
   "cell_type": "code",
   "execution_count": 10,
   "metadata": {},
   "outputs": [],
   "source": [
    "import numpy as np\n",
    "from numba import jit\n",
    "import os\n",
    "import timeit\n",
    "\n",
    "if os.name=='nt':\n",
    "    try:\n",
    "        mingw_path = 'C:\\\\Program Files\\\\mingw-w64\\\\x86_64-8.1.0-posix-seh-rt_v6-rev0\\\\mingw64\\\\bin'\n",
    "        os.environ['PATH'] = mingw_path + ';' + os.environ['PATH']\n",
    "    except:\n",
    "        pass\n",
    "    \n",
    "import xgboost as xgb"
   ]
  },
  {
   "cell_type": "code",
   "execution_count": 22,
   "metadata": {},
   "outputs": [],
   "source": [
    "@jit\n",
    "def apk(actual, predicted, k=7, default=0.0):\n",
    "    if predicted.size>k:\n",
    "        predicted = predicted[:k]\n",
    "    score = 0.0\n",
    "    num_hits = 0.0\n",
    "    \n",
    "    for i,p in enumerate(predicted):\n",
    "        if p in actual and p not in predicted[:i]:\n",
    "            num_hits += 1.0\n",
    "            score += num_hits / (i+1.0)\n",
    "\n",
    "    if actual.size==0:\n",
    "        return default\n",
    "\n",
    "    return score / min(actual.size, k)"
   ]
  },
  {
   "cell_type": "code",
   "execution_count": 3,
   "metadata": {},
   "outputs": [],
   "source": [
    "@jit\n",
    "def eval_map(y_prob, dtrain, gt={}, ts={}):\n",
    "    '''Evaluate MAP@7 for train and validation sets'''\n",
    "    # Check which set is it?\n",
    "    if hash(dtrain.get_label().tostring())==ts['train']:\n",
    "        gti = gt['train']['index']\n",
    "        gtv = gt['train']['value']\n",
    "    elif hash(dtrain.get_label().tostring())==ts['val']:\n",
    "        gti = gt['val']['index']\n",
    "        gtv = gt['val']['value']\n",
    "    \n",
    "    n = len(gti)\n",
    "    apks = np.zeros(n)\n",
    "    y_pred = {}\n",
    "    for i, (cust_id, idx) in enumerate(gti.items()):\n",
    "        tmp = np.mean(y_prob[idx, :], axis=0)\n",
    "        y_pred[cust_id] = np.argsort(tmp)[:-8:-1]\n",
    "        apks[i] = apk(gtv[cust_id], y_pred[cust_id])\n",
    "    score = np.mean(apks)\n",
    "\n",
    "    return 'MAP@7', score"
   ]
  },
  {
   "cell_type": "code",
   "execution_count": 23,
   "metadata": {},
   "outputs": [],
   "source": [
    "def prep_map(x_train, y_train):\n",
    "    '''Prepare ground truth value and index for MAP evaluation, and save it.'''\n",
    "    # Ground truth value: MAP needs to know the products bought by each customers\n",
    "    gtv = pd.concat((pd.DataFrame(x_train.loc[:, 'ncodpers'].copy()), y_train), axis=1, ignore_index=True)\n",
    "    gtv.columns = ['ncodpers', 'target']\n",
    "    gtv = gtv.groupby('ncodpers')['target'].apply(lambda x: x.values).to_dict()\n",
    "    # Ground truth index: MAP needs to know for each customer which rows are its corresponding data\n",
    "    gti = pd.DataFrame(x_train.loc[:, 'ncodpers']).reset_index()\n",
    "    gti = gti.groupby('ncodpers')['index'].apply(lambda x: x.values).to_dict()\n",
    "    \n",
    "    gt = {'value': gtv, 'index': gti}\n",
    "    \n",
    "    return gt"
   ]
  },
  {
   "cell_type": "code",
   "execution_count": 24,
   "metadata": {},
   "outputs": [],
   "source": [
    "def cv_month(param, num_rounds, month_train, month_val, n_repeat=2, random_seed=0,\n",
    "                    lag_train=5, lag_val=5, weight_set=(1), verbose_eval=True):\n",
    "    '''Train on one month and validate on another'''\n",
    "    history = {}\n",
    "    model_dict = {}\n",
    "\n",
    "    x_train, y_train, weight_train = create_train(month_train, max_lag=lag_train, pattern_flag=True)\n",
    "    x_val, y_val, weight_val = create_train(month_val, max_lag=lag_val, pattern_flag=True)\n",
    "\n",
    "    gt_train = prep_map(x_train, y_train)\n",
    "    gt_val = prep_map(x_val, y_val)\n",
    "\n",
    "    dtrain = xgb.DMatrix(x_train, y_train)\n",
    "    dval = xgb.DMatrix(x_val, y_val)\n",
    "\n",
    "    ground_truth = {'train': gt_train, 'val': gt_val}\n",
    "    data_hash = {'train': hash(dtrain.get_label().tostring()), 'val': hash(dval.get_label().tostring())}\n",
    "\n",
    "    for weight_index in weight_set:\n",
    "        history[weight_index] = {}\n",
    "        model_dict[weight_index] = []\n",
    "\n",
    "        dtrain.set_weight(weight_train.values[:, weight_index])\n",
    "        dval.set_weight(weight_val.values[:, weight_index])\n",
    "        \n",
    "        print('Start weight index {}'.format(weight_index))\n",
    "        print('#'*50)\n",
    "        \n",
    "        for n in range(n_repeat):\n",
    "            history[weight_index][n] = {}\n",
    "            \n",
    "            param['seed'] = np.random.randint(10**6)\n",
    "            \n",
    "            time_start = time.time()\n",
    "            print('Train with weight {}, repetition {} of {}'.format(weight_index, n, n_repeat))\n",
    "            model = xgb.train(param, dtrain, num_rounds, evals=[(dtrain, 'train'), (dval, 'val')], \n",
    "                verbose_eval=verbose_eval, feval=eval_map, evals_result=history[weight_index][n], \n",
    "                gt=ground_truth, ts=data_hash)\n",
    "            model_dict[weight_index].append(model)\n",
    "            time_end = time.time()\n",
    "            print('Validate logloss = {:.5f}, MAP@7 = {:.5f}, time = {:.2f} min'.format(\n",
    "                history[weight_index][n]['val']['mlogloss'][-1], \n",
    "                history[weight_index][n]['val']['MAP@7'][-1], (time_end-time_start)/60))\n",
    "            print('-'*50)\n",
    "            print('')\n",
    "        print('')\n",
    "\n",
    "    history = {(w, n, d, m): history[w][n][d][m] \n",
    "               for w in weight_set \n",
    "               for n in range(n_repeat)\n",
    "               for d in ['train', 'val'] \n",
    "               for m in ['mlogloss', 'MAP@7']}\n",
    "    history = pd.DataFrame(history)\n",
    "    history.columns.names = ['weight_index', 'repetition', 'data_set', 'metrics']\n",
    "        \n",
    "    return history, model_dict"
   ]
  },
  {
   "cell_type": "code",
   "execution_count": 6,
   "metadata": {},
   "outputs": [],
   "source": [
    "n_row = 50000\n",
    "n_col = 500\n",
    "n_class = 20\n",
    "\n",
    "y_prob = np.random.random((n_row, n_class))\n",
    "dtrain = xgb.DMatrix(np.random.random((n_row, n_col)), label=np.random.randint(0, n_class, (n_row, )))"
   ]
  },
  {
   "cell_type": "code",
   "execution_count": 9,
   "metadata": {},
   "outputs": [
    {
     "data": {
      "text/plain": [
       "(50000,)"
      ]
     },
     "execution_count": 9,
     "metadata": {},
     "output_type": "execute_result"
    }
   ],
   "source": [
    "dtrain.get_label().shape"
   ]
  },
  {
   "cell_type": "code",
   "execution_count": 12,
   "metadata": {},
   "outputs": [
    {
     "data": {
      "text/plain": [
       "(50000, 20)"
      ]
     },
     "execution_count": 12,
     "metadata": {},
     "output_type": "execute_result"
    }
   ],
   "source": [
    "y_prob.shape"
   ]
  },
  {
   "cell_type": "code",
   "execution_count": 20,
   "metadata": {},
   "outputs": [
    {
     "data": {
      "text/plain": [
       "7.949219599999992"
      ]
     },
     "execution_count": 20,
     "metadata": {},
     "output_type": "execute_result"
    }
   ],
   "source": [
    "timeit.timeit('hash(y_prob.tostring())==0', globals=globals(), number=1000)"
   ]
  },
  {
   "cell_type": "code",
   "execution_count": 21,
   "metadata": {},
   "outputs": [],
   "source": [
    "a = {'a': 1, 'b': 2}"
   ]
  },
  {
   "cell_type": "code",
   "execution_count": null,
   "metadata": {},
   "outputs": [],
   "source": [
    "np."
   ]
  }
 ],
 "metadata": {
  "kernelspec": {
   "display_name": "Python 3",
   "language": "python",
   "name": "python3"
  },
  "language_info": {
   "codemirror_mode": {
    "name": "ipython",
    "version": 3
   },
   "file_extension": ".py",
   "mimetype": "text/x-python",
   "name": "python",
   "nbconvert_exporter": "python",
   "pygments_lexer": "ipython3",
   "version": "3.6.6"
  }
 },
 "nbformat": 4,
 "nbformat_minor": 2
}
