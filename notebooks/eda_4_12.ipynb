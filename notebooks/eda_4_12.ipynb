{
 "cells": [
  {
   "cell_type": "markdown",
   "metadata": {},
   "source": [
    "## Simple CV with RAM-Limited Data"
   ]
  },
  {
   "cell_type": "code",
   "execution_count": 1,
   "metadata": {},
   "outputs": [],
   "source": [
    "import os\n",
    "if os.name=='nt':\n",
    "    try:\n",
    "        mingw_path = 'C:\\\\Program Files\\\\mingw-w64\\\\x86_64-8.1.0-posix-seh-rt_v6-rev0\\\\mingw64\\\\bin'\n",
    "        os.environ['PATH'] = mingw_path + ';' + os.environ['PATH']\n",
    "    except:\n",
    "        pass\n",
    "    \n",
    "import numpy as np\n",
    "import pandas as pd\n",
    "import seaborn as sns\n",
    "import matplotlib.pyplot as plt\n",
    "import tqdm\n",
    "import gc\n",
    "import xgboost as xgb\n",
    "from sklearn.preprocessing import LabelEncoder\n",
    "\n",
    "tqdm.tqdm.pandas()\n",
    "\n",
    "%matplotlib inline"
   ]
  },
  {
   "cell_type": "code",
   "execution_count": 2,
   "metadata": {},
   "outputs": [],
   "source": [
    "cat_cols = ['ncodpers',\n",
    " 'canal_entrada',\n",
    " 'conyuemp',\n",
    " 'ind_actividad_cliente',\n",
    " 'ind_empleado',\n",
    " 'ind_nuevo',\n",
    " 'indext',\n",
    " 'indfall',\n",
    " 'indrel',\n",
    " 'indrel_1mes',\n",
    " 'indresi',\n",
    " 'pais_residencia',\n",
    " 'segmento',\n",
    " 'sexo',\n",
    " 'tipodom',\n",
    " 'tiprel_1mes',\n",
    " 'age',\n",
    " 'antiguedad',\n",
    " 'renta']\n",
    "\n",
    "target_cols = ['ind_cco_fin_ult1',\n",
    " 'ind_cder_fin_ult1',\n",
    " 'ind_cno_fin_ult1',\n",
    " 'ind_ctju_fin_ult1',\n",
    " 'ind_ctma_fin_ult1',\n",
    " 'ind_ctop_fin_ult1',\n",
    " 'ind_ctpp_fin_ult1',\n",
    " 'ind_deco_fin_ult1',\n",
    " 'ind_dela_fin_ult1',\n",
    " 'ind_deme_fin_ult1',\n",
    " 'ind_ecue_fin_ult1',\n",
    " 'ind_fond_fin_ult1',\n",
    " 'ind_hip_fin_ult1',\n",
    " 'ind_nom_pens_ult1',\n",
    " 'ind_nomina_ult1',\n",
    " 'ind_plan_fin_ult1',\n",
    " 'ind_pres_fin_ult1',\n",
    " 'ind_reca_fin_ult1',\n",
    " 'ind_recibo_ult1',\n",
    " 'ind_tjcr_fin_ult1',\n",
    " 'ind_valo_fin_ult1',\n",
    " 'ind_viv_fin_ult1']"
   ]
  },
  {
   "cell_type": "code",
   "execution_count": 3,
   "metadata": {},
   "outputs": [],
   "source": [
    "def create_train_test(month1, month2, target_flag=True):\n",
    "    '''Create train and test data between month1 and month2'''\n",
    "    \n",
    "    # first/early month\n",
    "    df1 = pd.read_hdf('../input/data_month_{}.hdf'.format(month1), 'data_month')\n",
    "    # second/later month\n",
    "    df2 = pd.read_hdf('../input/data_month_{}.hdf'.format(month2), 'data_month')\n",
    "    \n",
    "    # second month products\n",
    "    df2_target = df2.loc[:, ['ncodpers']+target_cols].copy()\n",
    "    df2_target.set_index('ncodpers', inplace=True, drop=False) # initially keep ncodpers as a column and drop it later\n",
    "    # a dataframe containing the ncodpers only\n",
    "    df2_ncodpers = pd.DataFrame(df2_target.ncodpers)\n",
    "    # drop ncodpers from df2_target\n",
    "    df2_target.drop('ncodpers', axis=1, inplace=True)\n",
    "    \n",
    "    # first month products for all the customers in the second month\n",
    "    df1_target = df1.loc[:, ['ncodpers']+target_cols].copy()\n",
    "    df1_target.set_index('ncodpers', inplace=True, drop=True) # do not keep ncodpers as column\n",
    "    # obtain the products purchased by all the customers in the second month\n",
    "    # by joining df1_target to df2_ncodpers, NAN filled by 0.0\n",
    "    df1_target = df2_ncodpers.join(df1_target, how='left')\n",
    "    df1_target.fillna(0.0, inplace=True)\n",
    "    df1_target.drop('ncodpers', axis=1, inplace=True)\n",
    "    \n",
    "    # new products from the first to second month\n",
    "    target = df2_target.subtract(df1_target)\n",
    "    target[target<0] = 0\n",
    "    target.fillna(0.0, inplace=True)\n",
    "    \n",
    "    # feature of the second month: \n",
    "    # 1. customer features in the second month\n",
    "    # 2. products in the first month\n",
    "    x_vars = df2[cat_cols].copy() # cat_cols already includes ncodpers\n",
    "    x_vars.reset_index(inplace=True, drop=True) # drop original index and make a new one\n",
    "    x_vars.reset_index(inplace=True, drop=False) # also set the new index as a column for recoding row orders\n",
    "    x_vars_cols = x_vars.columns.tolist()\n",
    "    x_vars_cols[0] = 'sample_order' # change the name of the new column\n",
    "    x_vars.columns = x_vars_cols\n",
    "    x_vars.set_index('ncodpers', drop=True, inplace=True) # set the index to ncodpers again\n",
    "    x_vars = x_vars.join(df1_target) # direct join since df1_target contains all customers in month2\n",
    "    \n",
    "    # return x_vars if target_flag is False\n",
    "    if not target_flag:\n",
    "        x_vars.drop('sample_order', axis=1, inplace=True) # drop sample_order\n",
    "        x_vars.reset_index(inplace=True, drop=False) # add ncodpers\n",
    "        return x_vars\n",
    "    \n",
    "    # prepare target/label for each added product from the first to second month\n",
    "    # join target to x_vars\n",
    "    x_vars_new = x_vars.join(target, rsuffix='_t')\n",
    "    # set ncodpers as one column\n",
    "    x_vars_new.reset_index(inplace=True, drop=False)\n",
    "    x_vars.reset_index(inplace=True, drop=False)\n",
    "    \n",
    "    # melt\n",
    "    x_vars_new = x_vars_new.melt(id_vars=x_vars.columns)\n",
    "    # mapping from target_cols to index\n",
    "    target_cols_mapping = {c+'_t': n for (n, c) in enumerate(target_cols)}\n",
    "    # replace column name by index\n",
    "    x_vars_new.variable.replace(target_cols_mapping, inplace=True)\n",
    "    # reorder rows\n",
    "    x_vars_new.sort_values(['sample_order', 'variable'], inplace=True)\n",
    "    # keep new products\n",
    "    x_vars_new = x_vars_new[x_vars_new.value>0]\n",
    "    # drop sample_order and value\n",
    "    x_vars_new.drop(['sample_order', 'value'], axis=1, inplace=True)\n",
    "    # keep the order of rows as in the original data set\n",
    "    x_vars_new.reset_index(drop=True, inplace=True)\n",
    "    \n",
    "    # variable\n",
    "    x_vars = x_vars_new.iloc[:, :-1].copy()\n",
    "    # target/label\n",
    "    target = x_vars_new.iloc[:, -1].copy()\n",
    "    \n",
    "    return x_vars, target"
   ]
  },
  {
   "cell_type": "markdown",
   "metadata": {},
   "source": [
    "Generate data"
   ]
  },
  {
   "cell_type": "code",
   "execution_count": 4,
   "metadata": {},
   "outputs": [],
   "source": [
    "x_train, y_train = create_train_test('2015-05-28', '2015-06-28', target_flag=True)"
   ]
  },
  {
   "cell_type": "code",
   "execution_count": 5,
   "metadata": {},
   "outputs": [],
   "source": [
    "x_test = create_train_test('2016-05-28', '2016-06-28', target_flag=False)"
   ]
  },
  {
   "cell_type": "code",
   "execution_count": 6,
   "metadata": {},
   "outputs": [],
   "source": [
    "train_X = np.load('train_X.npy')\n",
    "train_y = np.load('train_y.npy')\n",
    "test_X = np.load('test_X.npy')"
   ]
  },
  {
   "cell_type": "code",
   "execution_count": 14,
   "metadata": {},
   "outputs": [
    {
     "data": {
      "text/plain": [
       "5.000000000000143e-05"
      ]
     },
     "execution_count": 14,
     "metadata": {},
     "output_type": "execute_result"
    }
   ],
   "source": [
    "a = train_X-x_train.values\n",
    "np.abs(a).max()"
   ]
  },
  {
   "cell_type": "code",
   "execution_count": 15,
   "metadata": {},
   "outputs": [
    {
     "data": {
      "text/plain": [
       "0"
      ]
     },
     "execution_count": 15,
     "metadata": {},
     "output_type": "execute_result"
    }
   ],
   "source": [
    "a = train_y-y_train.values\n",
    "np.abs(a).max()"
   ]
  },
  {
   "cell_type": "code",
   "execution_count": 16,
   "metadata": {},
   "outputs": [
    {
     "data": {
      "text/plain": [
       "5.000000000000143e-05"
      ]
     },
     "execution_count": 16,
     "metadata": {},
     "output_type": "execute_result"
    }
   ],
   "source": [
    "a = test_X-x_test.values\n",
    "np.abs(a).max()"
   ]
  },
  {
   "cell_type": "markdown",
   "metadata": {},
   "source": [
    "## Train model"
   ]
  },
  {
   "cell_type": "code",
   "execution_count": 17,
   "metadata": {
    "scrolled": true
   },
   "outputs": [
    {
     "name": "stdout",
     "output_type": "stream",
     "text": [
      "[0]\ttrain-mlogloss:2.91645\n",
      "[1]\ttrain-mlogloss:2.78563\n",
      "[2]\ttrain-mlogloss:2.6751\n",
      "[3]\ttrain-mlogloss:2.58366\n",
      "[4]\ttrain-mlogloss:2.49453\n",
      "[5]\ttrain-mlogloss:2.41242\n",
      "[6]\ttrain-mlogloss:2.34612\n",
      "[7]\ttrain-mlogloss:2.28669\n",
      "[8]\ttrain-mlogloss:2.22937\n",
      "[9]\ttrain-mlogloss:2.17384\n",
      "[10]\ttrain-mlogloss:2.12307\n",
      "[11]\ttrain-mlogloss:2.08031\n",
      "[12]\ttrain-mlogloss:2.04\n",
      "[13]\ttrain-mlogloss:1.99893\n",
      "[14]\ttrain-mlogloss:1.95945\n",
      "[15]\ttrain-mlogloss:1.92307\n",
      "[16]\ttrain-mlogloss:1.88998\n",
      "[17]\ttrain-mlogloss:1.85772\n",
      "[18]\ttrain-mlogloss:1.82859\n",
      "[19]\ttrain-mlogloss:1.80279\n",
      "[20]\ttrain-mlogloss:1.77791\n",
      "[21]\ttrain-mlogloss:1.75428\n",
      "[22]\ttrain-mlogloss:1.72977\n",
      "[23]\ttrain-mlogloss:1.70668\n",
      "[24]\ttrain-mlogloss:1.68579\n",
      "[25]\ttrain-mlogloss:1.66468\n",
      "[26]\ttrain-mlogloss:1.6446\n",
      "[27]\ttrain-mlogloss:1.62652\n",
      "[28]\ttrain-mlogloss:1.61053\n",
      "[29]\ttrain-mlogloss:1.59396\n",
      "[30]\ttrain-mlogloss:1.57689\n",
      "[31]\ttrain-mlogloss:1.56132\n",
      "[32]\ttrain-mlogloss:1.54642\n",
      "[33]\ttrain-mlogloss:1.5324\n",
      "[34]\ttrain-mlogloss:1.5179\n",
      "[35]\ttrain-mlogloss:1.5043\n",
      "[36]\ttrain-mlogloss:1.49227\n",
      "[37]\ttrain-mlogloss:1.48045\n",
      "[38]\ttrain-mlogloss:1.46843\n",
      "[39]\ttrain-mlogloss:1.45647\n",
      "[40]\ttrain-mlogloss:1.44583\n",
      "[41]\ttrain-mlogloss:1.43534\n",
      "[42]\ttrain-mlogloss:1.42487\n",
      "[43]\ttrain-mlogloss:1.4151\n",
      "[44]\ttrain-mlogloss:1.40488\n",
      "[45]\ttrain-mlogloss:1.39618\n",
      "[46]\ttrain-mlogloss:1.38665\n",
      "[47]\ttrain-mlogloss:1.37767\n",
      "[48]\ttrain-mlogloss:1.36934\n",
      "[49]\ttrain-mlogloss:1.36178\n"
     ]
    }
   ],
   "source": [
    "param = {'objective': 'multi:softprob', \n",
    "         'eta': 0.05, \n",
    "         'max_depth': 8, \n",
    "         'silent': 1, \n",
    "         'num_class': len(target_cols),\n",
    "         'eval_metric': 'mlogloss',\n",
    "         'min_child_weight': 1,\n",
    "         'subsample': 0.7,\n",
    "         'colsample_bytree': 0.7,\n",
    "         'seed': 0}\n",
    "num_rounds = 50\n",
    "\n",
    "dtrain = xgb.DMatrix(x_train.values, y_train.values)\n",
    "model = xgb.train(param, dtrain, num_rounds, evals=[(dtrain, 'train')], verbose_eval=True)"
   ]
  },
  {
   "cell_type": "markdown",
   "metadata": {},
   "source": [
    "Prediction from my model"
   ]
  },
  {
   "cell_type": "code",
   "execution_count": 18,
   "metadata": {},
   "outputs": [],
   "source": [
    "preds = model.predict(xgb.DMatrix(x_test.values))\n",
    "preds = np.argsort(preds, axis=1)\n",
    "preds = np.fliplr(preds)[:, :7]"
   ]
  },
  {
   "cell_type": "markdown",
   "metadata": {},
   "source": [
    "Write out prediction results from my model"
   ]
  },
  {
   "cell_type": "code",
   "execution_count": 20,
   "metadata": {},
   "outputs": [],
   "source": [
    "test_id = x_test.loc[:, 'ncodpers'].values\n",
    "final_preds = [' '.join([target_cols[k] for k in pred]) for pred in preds]\n",
    "\n",
    "out_df = pd.DataFrame({'ncodpers': test_id, 'added_products': final_preds})\n",
    "out_df.to_csv('eda_4_12.csv.gz', compression='gzip', index=False)"
   ]
  },
  {
   "cell_type": "code",
   "execution_count": 22,
   "metadata": {},
   "outputs": [],
   "source": [
    "preds_t = np.load('preds.npy')"
   ]
  },
  {
   "cell_type": "code",
   "execution_count": 24,
   "metadata": {},
   "outputs": [],
   "source": [
    "a = preds_t-preds"
   ]
  },
  {
   "cell_type": "code",
   "execution_count": 27,
   "metadata": {},
   "outputs": [
    {
     "data": {
      "text/plain": [
       "1568946"
      ]
     },
     "execution_count": 27,
     "metadata": {},
     "output_type": "execute_result"
    }
   ],
   "source": [
    "np.abs(a)"
   ]
  }
 ],
 "metadata": {
  "kernelspec": {
   "display_name": "Python 3",
   "language": "python",
   "name": "python3"
  },
  "language_info": {
   "codemirror_mode": {
    "name": "ipython",
    "version": 3
   },
   "file_extension": ".py",
   "mimetype": "text/x-python",
   "name": "python",
   "nbconvert_exporter": "python",
   "pygments_lexer": "ipython3",
   "version": "3.6.6"
  }
 },
 "nbformat": 4,
 "nbformat_minor": 2
}
