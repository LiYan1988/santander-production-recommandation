{
 "cells": [
  {
   "cell_type": "markdown",
   "metadata": {},
   "source": [
    "# Clean data\n",
    "\n",
    "Most winning solutions do not exploit data cleaning, and property features are not very useful, only production features are helpful. So clean data now."
   ]
  },
  {
   "cell_type": "code",
   "execution_count": 1,
   "metadata": {},
   "outputs": [],
   "source": [
    "import os\n",
    "if os.name=='nt':\n",
    "    try:\n",
    "        mingw_path = 'C:\\\\Program Files\\\\mingw-w64\\\\x86_64-8.1.0-posix-seh-rt_v6-rev0\\\\mingw64\\\\bin'\n",
    "        os.environ['PATH'] = mingw_path + ';' + os.environ['PATH']\n",
    "    except:\n",
    "        pass\n",
    "    \n",
    "import numpy as np\n",
    "import pandas as pd\n",
    "import seaborn as sns\n",
    "import matplotlib.pyplot as plt\n",
    "import tqdm\n",
    "\n",
    "tqdm.tqdm.pandas()\n",
    "\n",
    "%matplotlib inline"
   ]
  },
  {
   "cell_type": "code",
   "execution_count": 2,
   "metadata": {},
   "outputs": [
    {
     "name": "stderr",
     "output_type": "stream",
     "text": [
      "C:\\Users\\home\\Anaconda3\\envs\\kaggle\\lib\\site-packages\\IPython\\core\\interactiveshell.py:2785: DtypeWarning: Columns (5,8,11,15) have mixed types. Specify dtype option on import or set low_memory=False.\n",
      "  interactivity=interactivity, compiler=compiler, result=result)\n",
      "C:\\Users\\home\\Anaconda3\\envs\\kaggle\\lib\\site-packages\\IPython\\core\\interactiveshell.py:2785: DtypeWarning: Columns (15) have mixed types. Specify dtype option on import or set low_memory=False.\n",
      "  interactivity=interactivity, compiler=compiler, result=result)\n"
     ]
    }
   ],
   "source": [
    "df = pd.read_csv('../input/train_ver2.csv')\n",
    "dt = pd.read_csv('../input/test_ver2.csv')"
   ]
  },
  {
   "cell_type": "code",
   "execution_count": 3,
   "metadata": {},
   "outputs": [],
   "source": [
    "df = pd.concat((df, dt), sort=False, ignore_index=True)"
   ]
  },
  {
   "cell_type": "code",
   "execution_count": 4,
   "metadata": {},
   "outputs": [
    {
     "data": {
      "text/plain": [
       "14"
      ]
     },
     "execution_count": 4,
     "metadata": {},
     "output_type": "execute_result"
    }
   ],
   "source": [
    "import gc\n",
    "del dt\n",
    "gc.collect()"
   ]
  },
  {
   "cell_type": "code",
   "execution_count": 5,
   "metadata": {},
   "outputs": [
    {
     "data": {
      "text/plain": [
       "(14576924, 48)"
      ]
     },
     "execution_count": 5,
     "metadata": {},
     "output_type": "execute_result"
    }
   ],
   "source": [
    "df.shape"
   ]
  },
  {
   "cell_type": "code",
   "execution_count": 6,
   "metadata": {},
   "outputs": [
    {
     "data": {
      "text/plain": [
       "array(['2015-01-28', '2015-02-28', '2015-03-28', '2015-04-28',\n",
       "       '2015-05-28', '2015-06-28', '2015-07-28', '2015-08-28',\n",
       "       '2015-09-28', '2015-10-28', '2015-11-28', '2015-12-28',\n",
       "       '2016-01-28', '2016-02-28', '2016-03-28', '2016-04-28',\n",
       "       '2016-05-28', '2016-06-28'], dtype=object)"
      ]
     },
     "execution_count": 6,
     "metadata": {},
     "output_type": "execute_result"
    }
   ],
   "source": [
    "df.fecha_dato.unique()"
   ]
  },
  {
   "cell_type": "markdown",
   "metadata": {},
   "source": [
    "Datatime features"
   ]
  },
  {
   "cell_type": "code",
   "execution_count": 7,
   "metadata": {},
   "outputs": [],
   "source": [
    "df.fecha_dato = pd.to_datetime(df.fecha_dato)\n",
    "df.fecha_alta = pd.to_datetime(df.fecha_alta)\n",
    "df.ult_fec_cli_1t = pd.to_datetime(df.ult_fec_cli_1t)"
   ]
  },
  {
   "cell_type": "markdown",
   "metadata": {},
   "source": [
    "`ind_empleado` Employee index: A active, B ex employed, F filial, N not employee, P pasive"
   ]
  },
  {
   "cell_type": "code",
   "execution_count": 8,
   "metadata": {},
   "outputs": [
    {
     "data": {
      "text/plain": [
       "N      14540073\n",
       "NaN       27734\n",
       "B          3784\n",
       "F          2675\n",
       "A          2640\n",
       "S            18\n",
       "Name: ind_empleado, dtype: int64"
      ]
     },
     "execution_count": 8,
     "metadata": {},
     "output_type": "execute_result"
    }
   ],
   "source": [
    "df.ind_empleado.value_counts(dropna=False)"
   ]
  },
  {
   "cell_type": "code",
   "execution_count": 9,
   "metadata": {},
   "outputs": [],
   "source": [
    "df.ind_empleado = df.ind_empleado.astype('category')"
   ]
  },
  {
   "cell_type": "code",
   "execution_count": 10,
   "metadata": {},
   "outputs": [
    {
     "data": {
      "text/plain": [
       "N      14540073\n",
       "NaN       27734\n",
       "B          3784\n",
       "F          2675\n",
       "A          2640\n",
       "S            18\n",
       "Name: ind_empleado, dtype: int64"
      ]
     },
     "execution_count": 10,
     "metadata": {},
     "output_type": "execute_result"
    }
   ],
   "source": [
    "df.ind_empleado.value_counts(dropna=False)"
   ]
  },
  {
   "cell_type": "markdown",
   "metadata": {},
   "source": [
    "`pais_residencia` Customer's Country residence"
   ]
  },
  {
   "cell_type": "code",
   "execution_count": 11,
   "metadata": {},
   "outputs": [
    {
     "data": {
      "text/plain": [
       "ES     14479329\n",
       "NaN       27734\n",
       "FR         5472\n",
       "AR         5123\n",
       "DE         4906\n",
       "Name: pais_residencia, dtype: int64"
      ]
     },
     "execution_count": 11,
     "metadata": {},
     "output_type": "execute_result"
    }
   ],
   "source": [
    "df.pais_residencia.value_counts(dropna=False).head()"
   ]
  },
  {
   "cell_type": "code",
   "execution_count": 12,
   "metadata": {},
   "outputs": [],
   "source": [
    "df.pais_residencia = df.pais_residencia.astype('category')"
   ]
  },
  {
   "cell_type": "code",
   "execution_count": 13,
   "metadata": {},
   "outputs": [
    {
     "data": {
      "text/plain": [
       "ES     14479329\n",
       "NaN       27734\n",
       "FR         5472\n",
       "AR         5123\n",
       "DE         4906\n",
       "Name: pais_residencia, dtype: int64"
      ]
     },
     "execution_count": 13,
     "metadata": {},
     "output_type": "execute_result"
    }
   ],
   "source": [
    "df.pais_residencia.value_counts(dropna=False).head()"
   ]
  },
  {
   "cell_type": "markdown",
   "metadata": {},
   "source": [
    "`sexo` Customer's sex, V man, H woman"
   ]
  },
  {
   "cell_type": "code",
   "execution_count": 14,
   "metadata": {},
   "outputs": [
    {
     "data": {
      "text/plain": [
       "V      7928767\n",
       "H      6620348\n",
       "NaN      27809\n",
       "Name: sexo, dtype: int64"
      ]
     },
     "execution_count": 14,
     "metadata": {},
     "output_type": "execute_result"
    }
   ],
   "source": [
    "df.sexo.value_counts(dropna=False)"
   ]
  },
  {
   "cell_type": "code",
   "execution_count": 15,
   "metadata": {},
   "outputs": [],
   "source": [
    "df.sexo = df.sexo.astype('category')"
   ]
  },
  {
   "cell_type": "code",
   "execution_count": 16,
   "metadata": {},
   "outputs": [
    {
     "data": {
      "text/plain": [
       "V      7928767\n",
       "H      6620348\n",
       "NaN      27809\n",
       "Name: sexo, dtype: int64"
      ]
     },
     "execution_count": 16,
     "metadata": {},
     "output_type": "execute_result"
    }
   ],
   "source": [
    "df.sexo.value_counts(dropna=False)"
   ]
  },
  {
   "cell_type": "markdown",
   "metadata": {},
   "source": [
    "`age`"
   ]
  },
  {
   "cell_type": "code",
   "execution_count": 17,
   "metadata": {},
   "outputs": [],
   "source": [
    "df.age = pd.to_numeric(df.age, errors='coerce')"
   ]
  },
  {
   "cell_type": "code",
   "execution_count": 18,
   "metadata": {},
   "outputs": [
    {
     "data": {
      "text/plain": [
       " 126.0        3\n",
       " 127.0        9\n",
       " 163.0        8\n",
       " 164.0        4\n",
       "NaN       27734\n",
       "Name: age, dtype: int64"
      ]
     },
     "execution_count": 18,
     "metadata": {},
     "output_type": "execute_result"
    }
   ],
   "source": [
    "df.age.value_counts(dropna=False).sort_index().tail()"
   ]
  },
  {
   "cell_type": "markdown",
   "metadata": {},
   "source": [
    "`ind_nuevo` New customer Index. 1 if the customer registered in the last 6 months."
   ]
  },
  {
   "cell_type": "code",
   "execution_count": 19,
   "metadata": {},
   "outputs": [
    {
     "data": {
      "text/plain": [
       " 0.0    13712094\n",
       " 1.0      837096\n",
       "NaN        27734\n",
       "Name: ind_nuevo, dtype: int64"
      ]
     },
     "execution_count": 19,
     "metadata": {},
     "output_type": "execute_result"
    }
   ],
   "source": [
    "df.ind_nuevo.value_counts(dropna=False)"
   ]
  },
  {
   "cell_type": "code",
   "execution_count": 20,
   "metadata": {},
   "outputs": [],
   "source": [
    "df.ind_nuevo = df.ind_nuevo.astype('category')"
   ]
  },
  {
   "cell_type": "code",
   "execution_count": 21,
   "metadata": {},
   "outputs": [
    {
     "data": {
      "text/plain": [
       " 0.0    13712094\n",
       " 1.0      837096\n",
       "NaN        27734\n",
       "Name: ind_nuevo, dtype: int64"
      ]
     },
     "execution_count": 21,
     "metadata": {},
     "output_type": "execute_result"
    }
   ],
   "source": [
    "df.ind_nuevo.value_counts(dropna=False)"
   ]
  },
  {
   "cell_type": "markdown",
   "metadata": {},
   "source": [
    "`antiguedad` Customer seniority (in months)"
   ]
  },
  {
   "cell_type": "code",
   "execution_count": 22,
   "metadata": {},
   "outputs": [
    {
     "data": {
      "text/plain": [
       "1          134860\n",
       "0          134464\n",
       "12         134181\n",
       "3          130353\n",
       "2          129102\n",
       "5          129008\n",
       "8          124506\n",
       "4          123625\n",
       "7          123088\n",
       "     21    118544\n",
       "6          116908\n",
       "14         116169\n",
       "16         115142\n",
       "10         114378\n",
       "9          114257\n",
       "21         114174\n",
       "17         113728\n",
       "18         112912\n",
       "     12    112571\n",
       "15         112489\n",
       "23         112221\n",
       "19         111137\n",
       "11         110672\n",
       "13         110607\n",
       "20         110297\n",
       "24         109524\n",
       "26         106384\n",
       "22         103459\n",
       "25         102200\n",
       "27         102094\n",
       "            ...  \n",
       "    238      2948\n",
       "    215      2904\n",
       "    228      2876\n",
       "    203      2510\n",
       "249          2408\n",
       "    236      2378\n",
       "    230      2258\n",
       "    241      1980\n",
       "    226      1967\n",
       "      1      1898\n",
       "    233      1863\n",
       "    240      1854\n",
       "250          1703\n",
       "251          1490\n",
       "    227      1356\n",
       "    242      1148\n",
       "252          1119\n",
       "    239       872\n",
       "    243       713\n",
       "253           660\n",
       "    246       507\n",
       "    244       450\n",
       "254           413\n",
       "    245       360\n",
       "255           263\n",
       "256           179\n",
       "      0       149\n",
       "257           102\n",
       "-999999        29\n",
       "-999999        12\n",
       "Name: antiguedad, Length: 508, dtype: int64"
      ]
     },
     "execution_count": 22,
     "metadata": {},
     "output_type": "execute_result"
    }
   ],
   "source": [
    "df.antiguedad.value_counts(dropna=False)"
   ]
  },
  {
   "cell_type": "code",
   "execution_count": 23,
   "metadata": {},
   "outputs": [],
   "source": [
    "df.antiguedad = pd.to_numeric(df.antiguedad, errors='coerce')"
   ]
  },
  {
   "cell_type": "code",
   "execution_count": 24,
   "metadata": {},
   "outputs": [
    {
     "data": {
      "text/plain": [
       "-999999.0        41\n",
       " 0.0         134613\n",
       " 1.0         136758\n",
       " 2.0         134228\n",
       " 3.0         137309\n",
       " 4.0         133566\n",
       " 5.0         146380\n",
       " 6.0         132755\n",
       " 7.0         143194\n",
       " 8.0         182038\n",
       " 9.0         200929\n",
       " 10.0        216109\n",
       " 11.0        145138\n",
       " 12.0        246752\n",
       " 13.0        127110\n",
       " 14.0        130008\n",
       " 15.0        125367\n",
       " 16.0        141009\n",
       " 17.0        129013\n",
       " 18.0        133811\n",
       " 19.0        133833\n",
       " 20.0        166158\n",
       " 21.0        232718\n",
       " 22.0        164779\n",
       " 23.0        193779\n",
       " 24.0        172144\n",
       " 25.0        111611\n",
       " 26.0        116494\n",
       " 27.0        113125\n",
       " 28.0        108237\n",
       "              ...  \n",
       " 229.0        12413\n",
       " 230.0        11661\n",
       " 231.0        14083\n",
       " 232.0        12333\n",
       " 233.0        10071\n",
       " 234.0        11266\n",
       " 235.0        11682\n",
       " 236.0        10080\n",
       " 237.0        13624\n",
       " 238.0        11053\n",
       " 239.0         8762\n",
       " 240.0         9747\n",
       " 241.0         9457\n",
       " 242.0         8385\n",
       " 243.0         7118\n",
       " 244.0         6440\n",
       " 245.0         5679\n",
       " 246.0         5313\n",
       " 247.0         4115\n",
       " 248.0         3382\n",
       " 249.0         2408\n",
       " 250.0         1703\n",
       " 251.0         1490\n",
       " 252.0         1119\n",
       " 253.0          660\n",
       " 254.0          413\n",
       " 255.0          263\n",
       " 256.0          179\n",
       " 257.0          102\n",
       "NaN           27734\n",
       "Name: antiguedad, Length: 260, dtype: int64"
      ]
     },
     "execution_count": 24,
     "metadata": {},
     "output_type": "execute_result"
    }
   ],
   "source": [
    "df.antiguedad.value_counts(dropna=False).sort_index()"
   ]
  },
  {
   "cell_type": "markdown",
   "metadata": {},
   "source": [
    "`indrel` 1 (First/Primary), 99 (Primary customer during the month but not at the end of the month)"
   ]
  },
  {
   "cell_type": "code",
   "execution_count": 25,
   "metadata": {},
   "outputs": [
    {
     "data": {
      "text/plain": [
       " 1.0     14522714\n",
       "NaN         27734\n",
       " 99.0       26476\n",
       "Name: indrel, dtype: int64"
      ]
     },
     "execution_count": 25,
     "metadata": {},
     "output_type": "execute_result"
    }
   ],
   "source": [
    "df.indrel.value_counts(dropna=False)"
   ]
  },
  {
   "cell_type": "code",
   "execution_count": 26,
   "metadata": {},
   "outputs": [],
   "source": [
    "df.indrel = df.indrel.astype('category')"
   ]
  },
  {
   "cell_type": "markdown",
   "metadata": {},
   "source": [
    "`indrel_1mes` Customer relation type at the beginning of the month, A (active), I (inactive), P (former customer),R (Potential)"
   ]
  },
  {
   "cell_type": "code",
   "execution_count": 27,
   "metadata": {},
   "outputs": [
    {
     "data": {
      "text/plain": [
       "1.0    8207172\n",
       "1.0    4017746\n",
       "1      2195328\n",
       "NaN     149804\n",
       "3.0       1804\n",
       "3.0       1436\n",
       "3         1137\n",
       "P          874\n",
       "2          483\n",
       "2.0        479\n",
       "2.0        355\n",
       "4.0        143\n",
       "4.0         93\n",
       "4           70\n",
       "Name: indrel_1mes, dtype: int64"
      ]
     },
     "execution_count": 27,
     "metadata": {},
     "output_type": "execute_result"
    }
   ],
   "source": [
    "df.indrel_1mes.value_counts(dropna=False)"
   ]
  },
  {
   "cell_type": "code",
   "execution_count": 28,
   "metadata": {},
   "outputs": [],
   "source": [
    "df.indrel_1mes.replace('P', 0, inplace=True)"
   ]
  },
  {
   "cell_type": "code",
   "execution_count": 29,
   "metadata": {},
   "outputs": [
    {
     "data": {
      "text/plain": [
       "1.0    8207172\n",
       "1.0    4017746\n",
       "1      2195328\n",
       "NaN     149804\n",
       "3.0       1804\n",
       "3.0       1436\n",
       "3         1137\n",
       "0          874\n",
       "2          483\n",
       "2.0        479\n",
       "2.0        355\n",
       "4.0        143\n",
       "4.0         93\n",
       "4           70\n",
       "Name: indrel_1mes, dtype: int64"
      ]
     },
     "execution_count": 29,
     "metadata": {},
     "output_type": "execute_result"
    }
   ],
   "source": [
    "df.indrel_1mes.value_counts(dropna=False)"
   ]
  },
  {
   "cell_type": "code",
   "execution_count": 30,
   "metadata": {},
   "outputs": [],
   "source": [
    "df.indrel_1mes = pd.to_numeric(df.indrel_1mes)"
   ]
  },
  {
   "cell_type": "code",
   "execution_count": 31,
   "metadata": {},
   "outputs": [
    {
     "data": {
      "text/plain": [
       " 1.0    14420246\n",
       "NaN       149804\n",
       " 3.0        4377\n",
       " 2.0        1317\n",
       " 0.0         874\n",
       " 4.0         306\n",
       "Name: indrel_1mes, dtype: int64"
      ]
     },
     "execution_count": 31,
     "metadata": {},
     "output_type": "execute_result"
    }
   ],
   "source": [
    "df.indrel_1mes.value_counts(dropna=False)"
   ]
  },
  {
   "cell_type": "code",
   "execution_count": 32,
   "metadata": {},
   "outputs": [],
   "source": [
    "df.indrel_1mes = df.indrel_1mes.astype('category')"
   ]
  },
  {
   "cell_type": "markdown",
   "metadata": {},
   "source": [
    "`indresi` Residence index (S (Yes) or N (No) if the residence country is the same than the bank country)"
   ]
  },
  {
   "cell_type": "code",
   "execution_count": 33,
   "metadata": {},
   "outputs": [
    {
     "data": {
      "text/plain": [
       "S      14479331\n",
       "N         69859\n",
       "NaN       27734\n",
       "Name: indresi, dtype: int64"
      ]
     },
     "execution_count": 33,
     "metadata": {},
     "output_type": "execute_result"
    }
   ],
   "source": [
    "df.indresi.value_counts(dropna=False)"
   ]
  },
  {
   "cell_type": "code",
   "execution_count": 34,
   "metadata": {},
   "outputs": [],
   "source": [
    "df.indresi = df.indresi.astype('category')"
   ]
  },
  {
   "cell_type": "markdown",
   "metadata": {},
   "source": [
    "`indext` Foreigner index (S (Yes) or N (No) if the customer's birth country is different than the bank country)"
   ]
  },
  {
   "cell_type": "code",
   "execution_count": 35,
   "metadata": {},
   "outputs": [
    {
     "data": {
      "text/plain": [
       "N      13858387\n",
       "S        690803\n",
       "NaN       27734\n",
       "Name: indext, dtype: int64"
      ]
     },
     "execution_count": 35,
     "metadata": {},
     "output_type": "execute_result"
    }
   ],
   "source": [
    "df.indext.value_counts(dropna=False)"
   ]
  },
  {
   "cell_type": "code",
   "execution_count": 36,
   "metadata": {},
   "outputs": [],
   "source": [
    "df.indext = df.indext.astype('category')"
   ]
  },
  {
   "cell_type": "markdown",
   "metadata": {},
   "source": [
    "`conyuemp` Spouse index. 1 if the customer is spouse of an employee"
   ]
  },
  {
   "cell_type": "code",
   "execution_count": 37,
   "metadata": {},
   "outputs": [
    {
     "data": {
      "text/plain": [
       "NaN    14575012\n",
       "N          1894\n",
       "S            18\n",
       "Name: conyuemp, dtype: int64"
      ]
     },
     "execution_count": 37,
     "metadata": {},
     "output_type": "execute_result"
    }
   ],
   "source": [
    "df.conyuemp.value_counts(dropna=False)"
   ]
  },
  {
   "cell_type": "code",
   "execution_count": 38,
   "metadata": {},
   "outputs": [],
   "source": [
    "df.conyuemp = df.conyuemp.astype('category')"
   ]
  },
  {
   "cell_type": "code",
   "execution_count": 39,
   "metadata": {},
   "outputs": [
    {
     "data": {
      "text/plain": [
       "NaN    14575012\n",
       "N          1894\n",
       "S            18\n",
       "Name: conyuemp, dtype: int64"
      ]
     },
     "execution_count": 39,
     "metadata": {},
     "output_type": "execute_result"
    }
   ],
   "source": [
    "df.conyuemp.value_counts(dropna=False)"
   ]
  },
  {
   "cell_type": "markdown",
   "metadata": {},
   "source": [
    "`canal_entrada` channel used by the customer to join"
   ]
  },
  {
   "cell_type": "code",
   "execution_count": 40,
   "metadata": {},
   "outputs": [
    {
     "data": {
      "text/plain": [
       "KHE    4306935\n",
       "KAT    3474042\n",
       "KFC    3299057\n",
       "KHQ     666008\n",
       "KFA     435322\n",
       "KHK     258002\n",
       "KHM     217308\n",
       "NaN     188207\n",
       "KHN     134739\n",
       "KHD     124281\n",
       "KAS      91805\n",
       "RED      81935\n",
       "KAG      78958\n",
       "KAY      71791\n",
       "KAA      70951\n",
       "KAB      66395\n",
       "KAE      54057\n",
       "KCC      52427\n",
       "KBZ      49455\n",
       "KHL      48076\n",
       "KFD      47412\n",
       "KAI      40127\n",
       "KEY      37419\n",
       "KAW      36481\n",
       "KAR      34822\n",
       "KAZ      34325\n",
       "KAF      32472\n",
       "007      31260\n",
       "013      28798\n",
       "KCI      28323\n",
       "        ...   \n",
       "004        226\n",
       "KCQ        210\n",
       "KDN        210\n",
       "KCR        206\n",
       "KDH        204\n",
       "KCO        192\n",
       "KEE        186\n",
       "KCP        168\n",
       "K00        162\n",
       "KEQ        156\n",
       "KBE        156\n",
       "KCT        114\n",
       "KFB        114\n",
       "KAV        113\n",
       "KBX        108\n",
       "KBP         90\n",
       "KFV         72\n",
       "KEM         72\n",
       "KCX         72\n",
       "KBN         66\n",
       "KHA         54\n",
       "KGU         30\n",
       "KGC         30\n",
       "KHS         27\n",
       "KDB         18\n",
       "KDI         18\n",
       "KGN         18\n",
       "025         12\n",
       "KDL         12\n",
       "KHR          2\n",
       "Name: canal_entrada, Length: 163, dtype: int64"
      ]
     },
     "execution_count": 40,
     "metadata": {},
     "output_type": "execute_result"
    }
   ],
   "source": [
    "df.canal_entrada.value_counts(dropna=False)"
   ]
  },
  {
   "cell_type": "code",
   "execution_count": 41,
   "metadata": {},
   "outputs": [],
   "source": [
    "df.canal_entrada = df.canal_entrada.astype('category')"
   ]
  },
  {
   "cell_type": "markdown",
   "metadata": {},
   "source": [
    "`indfall` Deceased index. N/S"
   ]
  },
  {
   "cell_type": "code",
   "execution_count": 42,
   "metadata": {},
   "outputs": [
    {
     "data": {
      "text/plain": [
       "N      14512028\n",
       "S         37162\n",
       "NaN       27734\n",
       "Name: indfall, dtype: int64"
      ]
     },
     "execution_count": 42,
     "metadata": {},
     "output_type": "execute_result"
    }
   ],
   "source": [
    "df.indfall.value_counts(dropna=False)"
   ]
  },
  {
   "cell_type": "code",
   "execution_count": 43,
   "metadata": {},
   "outputs": [],
   "source": [
    "df.indfall = df.indfall.astype('category')"
   ]
  },
  {
   "cell_type": "markdown",
   "metadata": {},
   "source": [
    "`tipodom` Addres type. 1, primary address"
   ]
  },
  {
   "cell_type": "code",
   "execution_count": 44,
   "metadata": {},
   "outputs": [
    {
     "data": {
      "text/plain": [
       " 1.0    14549189\n",
       "NaN        27735\n",
       "Name: tipodom, dtype: int64"
      ]
     },
     "execution_count": 44,
     "metadata": {},
     "output_type": "execute_result"
    }
   ],
   "source": [
    "df.tipodom.value_counts(dropna=False)"
   ]
  },
  {
   "cell_type": "code",
   "execution_count": 45,
   "metadata": {},
   "outputs": [],
   "source": [
    "df.tipodom = df.tipodom.astype('category')"
   ]
  },
  {
   "cell_type": "markdown",
   "metadata": {},
   "source": [
    "`cod_prov` Province code (customer's address)"
   ]
  },
  {
   "cell_type": "code",
   "execution_count": 46,
   "metadata": {},
   "outputs": [
    {
     "data": {
      "text/plain": [
       " 28.0    4707850\n",
       " 8.0     1363798\n",
       " 46.0     730300\n",
       " 41.0     645656\n",
       " 15.0     458037\n",
       " 30.0     424511\n",
       " 29.0     391569\n",
       " 50.0     365703\n",
       " 3.0      335544\n",
       " 11.0     314479\n",
       " 36.0     298987\n",
       " 33.0     284049\n",
       " 47.0     254277\n",
       " 35.0     252032\n",
       " 6.0      205932\n",
       " 48.0     198382\n",
       " 45.0     195725\n",
       " 18.0     190954\n",
       " 37.0     175309\n",
       " 39.0     166530\n",
       " 14.0     154510\n",
       " 10.0     138510\n",
       " 7.0      134063\n",
       " 21.0     130301\n",
       " 13.0     127465\n",
       " 2.0      121908\n",
       " 12.0     111440\n",
       " 43.0     107746\n",
       " 9.0      103833\n",
       "NaN        97587\n",
       " 17.0      96842\n",
       " 31.0      94628\n",
       " 26.0      91008\n",
       " 27.0      90618\n",
       " 32.0      89614\n",
       " 24.0      88720\n",
       " 25.0      84489\n",
       " 20.0      76436\n",
       " 38.0      76065\n",
       " 19.0      69296\n",
       " 23.0      68859\n",
       " 4.0       64598\n",
       " 16.0      61098\n",
       " 49.0      54357\n",
       " 34.0      52593\n",
       " 40.0      45222\n",
       " 22.0      42970\n",
       " 5.0       41411\n",
       " 1.0       40295\n",
       " 44.0      24063\n",
       " 42.0      18921\n",
       " 52.0      10103\n",
       " 51.0       7731\n",
       "Name: cod_prov, dtype: int64"
      ]
     },
     "execution_count": 46,
     "metadata": {},
     "output_type": "execute_result"
    }
   ],
   "source": [
    "df.cod_prov.value_counts(dropna=False)"
   ]
  },
  {
   "cell_type": "code",
   "execution_count": 47,
   "metadata": {},
   "outputs": [],
   "source": [
    "df.cod_prov = pd.to_numeric(df.cod_prov, errors='coerce', downcast='integer')"
   ]
  },
  {
   "cell_type": "code",
   "execution_count": 48,
   "metadata": {},
   "outputs": [],
   "source": [
    "df.cod_prov = df.cod_prov.astype('category')"
   ]
  },
  {
   "cell_type": "markdown",
   "metadata": {},
   "source": [
    "`nomprov` Province name"
   ]
  },
  {
   "cell_type": "code",
   "execution_count": 49,
   "metadata": {},
   "outputs": [
    {
     "data": {
      "text/plain": [
       "MADRID                    4707850\n",
       "BARCELONA                 1363798\n",
       "VALENCIA                   730300\n",
       "SEVILLA                    645656\n",
       "CORUÑA, A                  458037\n",
       "MURCIA                     424511\n",
       "MALAGA                     391569\n",
       "ZARAGOZA                   365703\n",
       "ALICANTE                   335544\n",
       "CADIZ                      314479\n",
       "PONTEVEDRA                 298987\n",
       "ASTURIAS                   284049\n",
       "VALLADOLID                 254277\n",
       "PALMAS, LAS                252032\n",
       "BADAJOZ                    205932\n",
       "BIZKAIA                    198382\n",
       "TOLEDO                     195725\n",
       "GRANADA                    190954\n",
       "SALAMANCA                  175309\n",
       "CANTABRIA                  166530\n",
       "CORDOBA                    154510\n",
       "CACERES                    138510\n",
       "BALEARS, ILLES             134063\n",
       "HUELVA                     130301\n",
       "CIUDAD REAL                127465\n",
       "ALBACETE                   121908\n",
       "CASTELLON                  111440\n",
       "TARRAGONA                  107746\n",
       "BURGOS                     103833\n",
       "GIRONA                      96842\n",
       "NAVARRA                     94628\n",
       "RIOJA, LA                   91008\n",
       "LUGO                        90618\n",
       "OURENSE                     89614\n",
       "LEON                        88720\n",
       "LERIDA                      84489\n",
       "GIPUZKOA                    76436\n",
       "SANTA CRUZ DE TENERIFE      76065\n",
       "GUADALAJARA                 69296\n",
       "JAEN                        68859\n",
       "ALMERIA                     64598\n",
       "CUENCA                      61098\n",
       "ZAMORA                      54357\n",
       "PALENCIA                    52593\n",
       "SEGOVIA                     45222\n",
       "HUESCA                      42970\n",
       "AVILA                       41411\n",
       "ALAVA                       40295\n",
       "TERUEL                      24063\n",
       "SORIA                       18921\n",
       "MELILLA                     10103\n",
       "CEUTA                        7731\n",
       "Name: nomprov, dtype: int64"
      ]
     },
     "execution_count": 49,
     "metadata": {},
     "output_type": "execute_result"
    }
   ],
   "source": [
    "df.nomprov.value_counts()"
   ]
  },
  {
   "cell_type": "code",
   "execution_count": 50,
   "metadata": {},
   "outputs": [],
   "source": [
    "df.nomprov = df.nomprov.astype('category')"
   ]
  },
  {
   "cell_type": "markdown",
   "metadata": {},
   "source": [
    "`ind_actividad_cliente` Activity index (1, active customer; 0, inactive customer)"
   ]
  },
  {
   "cell_type": "code",
   "execution_count": 51,
   "metadata": {},
   "outputs": [
    {
     "data": {
      "text/plain": [
       " 0.0    7918666\n",
       " 1.0    6630524\n",
       "NaN       27734\n",
       "Name: ind_actividad_cliente, dtype: int64"
      ]
     },
     "execution_count": 51,
     "metadata": {},
     "output_type": "execute_result"
    }
   ],
   "source": [
    "df.ind_actividad_cliente.value_counts(dropna=False)"
   ]
  },
  {
   "cell_type": "code",
   "execution_count": 52,
   "metadata": {},
   "outputs": [],
   "source": [
    "df.ind_actividad_cliente = df.ind_actividad_cliente.astype('category')"
   ]
  },
  {
   "cell_type": "markdown",
   "metadata": {},
   "source": [
    "`renta` Gross income of the household"
   ]
  },
  {
   "cell_type": "code",
   "execution_count": 54,
   "metadata": {},
   "outputs": [
    {
     "data": {
      "text/plain": [
       "NaN                   2794375\n",
       "         NA            227965\n",
       "451931.22                5582\n",
       "463625.16                1743\n",
       "181042.2                 1493\n",
       "128318.52                1404\n",
       "105260.88                1354\n",
       "488798.49                1332\n",
       "127141.5                 1183\n",
       "283325.67                1148\n",
       "132335.73                1047\n",
       "236690.34                1009\n",
       "104563.8                  954\n",
       "227267.49                 896\n",
       "273387.54                 886\n",
       "111933.69                 844\n",
       "174407.09999999998        823\n",
       "227397.72000000003        813\n",
       "155930.43                 804\n",
       "218030.01                 794\n",
       "163432.47                 712\n",
       "208961.79                 680\n",
       "555605.55                 677\n",
       "168733.62                 669\n",
       "135522.15000000002        657\n",
       "148736.19                 653\n",
       "152601.99                 649\n",
       "248233.11                 627\n",
       "288997.44                 625\n",
       "326853.09                 624\n",
       "                       ...   \n",
       "  105390.18                 1\n",
       "  211094.46                 1\n",
       "  127185.30                 1\n",
       "   32506.05                 1\n",
       "  102120.00                 1\n",
       "  125725.14                 1\n",
       "  231891.00                 1\n",
       "   88757.28                 1\n",
       "   40208.19                 1\n",
       "   62603.64                 1\n",
       "   42581.94                 1\n",
       "   85937.64                 1\n",
       "   77057.76                 1\n",
       "  131733.15                 1\n",
       "  241516.71                 1\n",
       "   64725.27                 1\n",
       "   96703.98                 1\n",
       "   66546.27                 1\n",
       "   67247.13                 1\n",
       "  150649.26                 1\n",
       "  228403.95                 1\n",
       "  224520.75                 1\n",
       "  225135.06                 1\n",
       "  150898.62                 1\n",
       "   48975.36                 1\n",
       "   54540.30                 1\n",
       " 5649552.45                 1\n",
       "   52753.50                 1\n",
       "   58520.82                 1\n",
       "  295275.15                 1\n",
       "Name: renta, Length: 1037398, dtype: int64"
      ]
     },
     "execution_count": 54,
     "metadata": {},
     "output_type": "execute_result"
    }
   ],
   "source": [
    "df.renta.value_counts(dropna=False)"
   ]
  },
  {
   "cell_type": "code",
   "execution_count": 55,
   "metadata": {},
   "outputs": [],
   "source": [
    "df.renta.replace(\"         NA\", np.nan, inplace=True)"
   ]
  },
  {
   "cell_type": "code",
   "execution_count": 56,
   "metadata": {},
   "outputs": [],
   "source": [
    "df.renta = pd.to_numeric(df.renta)"
   ]
  },
  {
   "cell_type": "markdown",
   "metadata": {},
   "source": [
    "`segmento` segmentation: 01 - VIP, 02 - Individuals 03 - college graduated"
   ]
  },
  {
   "cell_type": "code",
   "execution_count": 57,
   "metadata": {},
   "outputs": [
    {
     "data": {
      "text/plain": [
       "02 - PARTICULARES     8505598\n",
       "03 - UNIVERSITARIO    5281607\n",
       "01 - TOP               598103\n",
       "NaN                    191616\n",
       "Name: segmento, dtype: int64"
      ]
     },
     "execution_count": 57,
     "metadata": {},
     "output_type": "execute_result"
    }
   ],
   "source": [
    "df.segmento.value_counts(dropna=False)"
   ]
  },
  {
   "cell_type": "code",
   "execution_count": 58,
   "metadata": {},
   "outputs": [],
   "source": [
    "df.segmento.replace('02 - PARTICULARES', 2, inplace=True)\n",
    "df.segmento.replace('03 - UNIVERSITARIO', 3, inplace=True)\n",
    "df.segmento.replace('01 - TOP', 1, inplace=True)"
   ]
  },
  {
   "cell_type": "code",
   "execution_count": 59,
   "metadata": {},
   "outputs": [],
   "source": [
    "df.segmento = df.segmento.astype('category')"
   ]
  },
  {
   "cell_type": "code",
   "execution_count": 60,
   "metadata": {},
   "outputs": [
    {
     "data": {
      "text/plain": [
       " 2.0    8505598\n",
       " 3.0    5281607\n",
       " 1.0     598103\n",
       "NaN      191616\n",
       "Name: segmento, dtype: int64"
      ]
     },
     "execution_count": 60,
     "metadata": {},
     "output_type": "execute_result"
    }
   ],
   "source": [
    "df.segmento.value_counts(dropna=False)"
   ]
  },
  {
   "cell_type": "code",
   "execution_count": 61,
   "metadata": {},
   "outputs": [
    {
     "name": "stderr",
     "output_type": "stream",
     "text": [
      "C:\\Users\\home\\Anaconda3\\envs\\kaggle\\lib\\site-packages\\tables\\leaf.py:357: RuntimeWarning: overflow encountered in long_scalars\n",
      "  expected_mb = (expectedrows * rowsize) // MB\n"
     ]
    }
   ],
   "source": [
    "df.to_hdf('../input/data_all.hdf', 'train_test', complib='blosc:lz4', complevel=9, format='t')"
   ]
  },
  {
   "cell_type": "code",
   "execution_count": 66,
   "metadata": {},
   "outputs": [
    {
     "data": {
      "text/plain": [
       "I      7840818\n",
       "A      6580745\n",
       "NaN     149804\n",
       "P         4683\n",
       "R          870\n",
       "N            4\n",
       "Name: tiprel_1mes, dtype: int64"
      ]
     },
     "execution_count": 66,
     "metadata": {},
     "output_type": "execute_result"
    }
   ],
   "source": [
    "df.tiprel_1mes.value_counts(dropna=False)"
   ]
  },
  {
   "cell_type": "code",
   "execution_count": 67,
   "metadata": {},
   "outputs": [],
   "source": [
    "df.tiprel_1mes = df.tiprel_1mes.astype('category')"
   ]
  },
  {
   "cell_type": "code",
   "execution_count": 68,
   "metadata": {},
   "outputs": [
    {
     "data": {
      "text/plain": [
       "fecha_dato               datetime64[ns]\n",
       "ncodpers                          int64\n",
       "ind_empleado                   category\n",
       "pais_residencia                category\n",
       "sexo                           category\n",
       "age                             float64\n",
       "fecha_alta               datetime64[ns]\n",
       "ind_nuevo                      category\n",
       "antiguedad                      float64\n",
       "indrel                         category\n",
       "ult_fec_cli_1t           datetime64[ns]\n",
       "indrel_1mes                    category\n",
       "tiprel_1mes                    category\n",
       "indresi                        category\n",
       "indext                         category\n",
       "conyuemp                       category\n",
       "canal_entrada                  category\n",
       "indfall                        category\n",
       "tipodom                        category\n",
       "cod_prov                       category\n",
       "nomprov                        category\n",
       "ind_actividad_cliente          category\n",
       "renta                           float64\n",
       "segmento                       category\n",
       "ind_ahor_fin_ult1               float64\n",
       "ind_aval_fin_ult1               float64\n",
       "ind_cco_fin_ult1                float64\n",
       "ind_cder_fin_ult1               float64\n",
       "ind_cno_fin_ult1                float64\n",
       "ind_ctju_fin_ult1               float64\n",
       "ind_ctma_fin_ult1               float64\n",
       "ind_ctop_fin_ult1               float64\n",
       "ind_ctpp_fin_ult1               float64\n",
       "ind_deco_fin_ult1               float64\n",
       "ind_deme_fin_ult1               float64\n",
       "ind_dela_fin_ult1               float64\n",
       "ind_ecue_fin_ult1               float64\n",
       "ind_fond_fin_ult1               float64\n",
       "ind_hip_fin_ult1                float64\n",
       "ind_plan_fin_ult1               float64\n",
       "ind_pres_fin_ult1               float64\n",
       "ind_reca_fin_ult1               float64\n",
       "ind_tjcr_fin_ult1               float64\n",
       "ind_valo_fin_ult1               float64\n",
       "ind_viv_fin_ult1                float64\n",
       "ind_nomina_ult1                 float64\n",
       "ind_nom_pens_ult1               float64\n",
       "ind_recibo_ult1                 float64\n",
       "dtype: object"
      ]
     },
     "execution_count": 68,
     "metadata": {},
     "output_type": "execute_result"
    }
   ],
   "source": [
    "df.dtypes"
   ]
  }
 ],
 "metadata": {
  "kernelspec": {
   "display_name": "Python 3",
   "language": "python",
   "name": "python3"
  },
  "language_info": {
   "codemirror_mode": {
    "name": "ipython",
    "version": 3
   },
   "file_extension": ".py",
   "mimetype": "text/x-python",
   "name": "python",
   "nbconvert_exporter": "python",
   "pygments_lexer": "ipython3",
   "version": "3.6.6"
  }
 },
 "nbformat": 4,
 "nbformat_minor": 2
}
