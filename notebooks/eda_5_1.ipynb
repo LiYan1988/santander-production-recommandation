{
 "cells": [
  {
   "cell_type": "markdown",
   "metadata": {},
   "source": [
    "# Housekeeping\n",
    "\n",
    "Clean code, write functions to generate all necessary preprocessing and data.\n",
    "1. `create_train`\n",
    "2. `calculate_customer_product_pair`\n",
    "3. generate `data_month_{}.hdf`\n",
    "    - `eda_4_7.ipynb` to `eda_4_10.ipynb`\n",
    "4. "
   ]
  },
  {
   "cell_type": "code",
   "execution_count": 1,
   "metadata": {},
   "outputs": [],
   "source": [
    "import os\n",
    "\n",
    "if os.name == 'nt':\n",
    "    try:\n",
    "        mingw_path = 'C:\\\\Program Files\\\\mingw-w64\\\\x86_64-8.1.0-posix-seh-rt_v6-rev0\\\\mingw64\\\\bin'\n",
    "        os.environ['PATH'] = mingw_path + ';' + os.environ['PATH']\n",
    "    except:\n",
    "        pass\n",
    "\n",
    "import numpy as np\n",
    "import pandas as pd\n",
    "import tqdm\n",
    "import gc\n",
    "import xgboost as xgb\n",
    "import time\n",
    "from numba import jit\n",
    "import pickle\n",
    "\n",
    "import seaborn as sns\n",
    "import matplotlib.pyplot as plt\n",
    "from sklearn.preprocessing import LabelEncoder\n",
    "from sklearn.model_selection import cross_validate, cross_val_predict, StratifiedKFold\n",
    "import copy\n",
    "import collections\n",
    "import itertools\n",
    "import re\n",
    "import timeit\n",
    "\n",
    "tqdm.tqdm.pandas()"
   ]
  },
  {
   "cell_type": "code",
   "execution_count": 2,
   "metadata": {},
   "outputs": [],
   "source": [
    "# Define constants\n",
    "cat_cols = ['ncodpers',\n",
    "            'canal_entrada',\n",
    "            'conyuemp',\n",
    "            'ind_actividad_cliente',\n",
    "            'ind_empleado',\n",
    "            'ind_nuevo',\n",
    "            'indext',\n",
    "            'indfall',\n",
    "            'indrel',\n",
    "            'indrel_1mes',\n",
    "            'indresi',\n",
    "            'pais_residencia',\n",
    "            'segmento',\n",
    "            'sexo',\n",
    "            'tipodom',\n",
    "            'tiprel_1mes',\n",
    "            'age',\n",
    "            'antiguedad',\n",
    "            'renta']\n",
    "\n",
    "target_cols = ['ind_cco_fin_ult1',\n",
    "               'ind_cder_fin_ult1',\n",
    "               'ind_cno_fin_ult1',\n",
    "               'ind_ctju_fin_ult1',\n",
    "               'ind_ctma_fin_ult1',\n",
    "               'ind_ctop_fin_ult1',\n",
    "               'ind_ctpp_fin_ult1',\n",
    "               # 'ind_deco_fin_ult1',\n",
    "               'ind_dela_fin_ult1',\n",
    "               # 'ind_deme_fin_ult1',\n",
    "               'ind_ecue_fin_ult1',\n",
    "               'ind_fond_fin_ult1',\n",
    "               'ind_hip_fin_ult1',\n",
    "               'ind_nom_pens_ult1',\n",
    "               'ind_nomina_ult1',\n",
    "               'ind_plan_fin_ult1',\n",
    "               'ind_pres_fin_ult1',\n",
    "               'ind_reca_fin_ult1',\n",
    "               'ind_recibo_ult1',\n",
    "               'ind_tjcr_fin_ult1',\n",
    "               'ind_valo_fin_ult1']\n",
    "# 'ind_viv_fin_ult1']\n",
    "\n",
    "month_list = ['2015-01-28', '2015-02-28', '2015-03-28', '2015-04-28', '2015-05-28', '2015-06-28',\n",
    "              '2015-07-28', '2015-08-28', '2015-09-28', '2015-10-28', '2015-11-28', '2015-12-28',\n",
    "              '2016-01-28', '2016-02-28', '2016-03-28', '2016-04-28', '2016-05-28', '2016-06-28']"
   ]
  },
  {
   "cell_type": "markdown",
   "metadata": {},
   "source": [
    "### Preprocess raw train and test data"
   ]
  },
  {
   "cell_type": "markdown",
   "metadata": {},
   "source": [
    "Load train and test data"
   ]
  },
  {
   "cell_type": "code",
   "execution_count": 3,
   "metadata": {},
   "outputs": [
    {
     "name": "stderr",
     "output_type": "stream",
     "text": [
      "C:\\Users\\home\\Anaconda3\\envs\\kaggle\\lib\\site-packages\\IPython\\core\\interactiveshell.py:3018: DtypeWarning: Columns (5,8,11,15) have mixed types. Specify dtype option on import or set low_memory=False.\n",
      "  interactivity=interactivity, compiler=compiler, result=result)\n",
      "C:\\Users\\home\\Anaconda3\\envs\\kaggle\\lib\\site-packages\\IPython\\core\\interactiveshell.py:3018: DtypeWarning: Columns (15) have mixed types. Specify dtype option on import or set low_memory=False.\n",
      "  interactivity=interactivity, compiler=compiler, result=result)\n"
     ]
    },
    {
     "data": {
      "text/plain": [
       "7"
      ]
     },
     "execution_count": 3,
     "metadata": {},
     "output_type": "execute_result"
    }
   ],
   "source": [
    "fecha_dato_train = pd.read_csv('../input/train_ver2.csv', usecols=cat_cols+['fecha_dato'])\n",
    "fecha_dato_test = pd.read_csv('../input/test_ver2.csv', usecols=cat_cols+['fecha_dato'])\n",
    "\n",
    "df2 = pd.concat((fecha_dato_train, fecha_dato_test), ignore_index=True)\n",
    "\n",
    "del fecha_dato_train, fecha_dato_test\n",
    "gc.collect()"
   ]
  },
  {
   "cell_type": "markdown",
   "metadata": {},
   "source": [
    "Data conversion"
   ]
  },
  {
   "cell_type": "code",
   "execution_count": 4,
   "metadata": {},
   "outputs": [],
   "source": [
    "mapping_dict = {\n",
    "'ind_empleado'  : {-99:0, 'N':1, 'B':2, 'F':3, 'A':4, 'S':5},\n",
    "'sexo'          : {'V':0, 'H':1, -99:2},\n",
    "'ind_nuevo'     : {'0':0, '1':1, -99:2},\n",
    "'indrel'        : {'1':0, '99':1, -99:2},\n",
    "'indrel_1mes'   : {-99:0, '1.0':1, '1':1, '2.0':2, '2':2, '3.0':3, '3':3, '4.0':4, '4':4, 'P':5},\n",
    "'tiprel_1mes'   : {-99:0, 'I':1, 'A':2, 'P':3, 'R':4, 'N':5},\n",
    "'indresi'       : {-99:0, 'S':1, 'N':2},\n",
    "'indext'        : {-99:0, 'S':1, 'N':2},\n",
    "'conyuemp'      : {-99:0, 'S':1, 'N':2},\n",
    "'indfall'       : {-99:0, 'S':1, 'N':2},\n",
    "'tipodom'       : {-99:0, '1':1},\n",
    "'ind_actividad_cliente' : {'0':0, '1':1, -99:2},\n",
    "'segmento'      : {'02 - PARTICULARES':0, '03 - UNIVERSITARIO':1, '01 - TOP':2, -99:2},\n",
    "'pais_residencia' : {'LV': 102, 'BE': 12, 'BG': 50, 'BA': 61, 'BM': 117, 'BO': 62, 'JP': 82, 'JM': 116, 'BR': 17, 'BY': 64, 'BZ': 113, 'RU': 43, 'RS': 89, 'RO': 41, 'GW': 99, 'GT': 44, 'GR': 39, 'GQ': 73, 'GE': 78, 'GB': 9, 'GA': 45, 'GN': 98, 'GM': 110, 'GI': 96, 'GH': 88, 'OM': 100, 'HR': 67, 'HU': 106, 'HK': 34, 'HN': 22, 'AD': 35, 'PR': 40, 'PT': 26, 'PY': 51, 'PA': 60, 'PE': 20, 'PK': 84, 'PH': 91, 'PL': 30, 'EE': 52, 'EG': 74, 'ZA': 75, 'EC': 19, 'AL': 25, 'VN': 90, 'ET': 54, 'ZW': 114, 'ES': 0, 'MD': 68, 'UY': 77, 'MM': 94, 'ML': 104, 'US': 15, 'MT': 118, 'MR': 48, 'UA': 49, 'MX': 16, 'IL': 42, 'FR': 8, 'MA': 38, 'FI': 23, 'NI': 33, 'NL': 7, 'NO': 46, 'NG': 83, 'NZ': 93, 'CI': 57, 'CH': 3, 'CO': 21, 'CN': 28, 'CM': 55, 'CL': 4, 'CA': 2, 'CG': 101, 'CF': 109, 'CD': 112, 'CZ': 36, 'CR': 32, 'CU': 72, 'KE': 65, 'KH': 95, 'SV': 53, 'SK': 69, 'KR': 87, 'KW': 92, 'SN': 47, 'SL': 97, 'KZ': 111, 'SA': 56, 'SG': 66, 'SE': 24, 'DO': 11, 'DJ': 115, 'DK': 76, 'DE': 10, 'DZ': 80, 'MK': 105, -99: 1, 'LB': 81, 'TW': 29, 'TR': 70, 'TN': 85, 'LT': 103, 'LU': 59, 'TH': 79, 'TG': 86, 'LY': 108, 'AE': 37, 'VE': 14, 'IS': 107, 'IT': 18, 'AO': 71, 'AR': 13, 'AU': 63, 'AT': 6, 'IN': 31, 'IE': 5, 'QA': 58, 'MZ': 27},\n",
    "'canal_entrada' : {'013': 49, 'KHP': 160, 'KHQ': 157, 'KHR': 161, 'KHS': 162, 'KHK': 10, 'KHL': 0, 'KHM': 12, 'KHN': 21, 'KHO': 13, 'KHA': 22, 'KHC': 9, 'KHD': 2, 'KHE': 1, 'KHF': 19, '025': 159, 'KAC': 57, 'KAB': 28, 'KAA': 39, 'KAG': 26, 'KAF': 23, 'KAE': 30, 'KAD': 16, 'KAK': 51, 'KAJ': 41, 'KAI': 35, 'KAH': 31, 'KAO': 94, 'KAN': 110, 'KAM': 107, 'KAL': 74, 'KAS': 70, 'KAR': 32, 'KAQ': 37, 'KAP': 46, 'KAW': 76, 'KAV': 139, 'KAU': 142, 'KAT': 5, 'KAZ': 7, 'KAY': 54, 'KBJ': 133, 'KBH': 90, 'KBN': 122, 'KBO': 64, 'KBL': 88, 'KBM': 135, 'KBB': 131, 'KBF': 102, 'KBG': 17, 'KBD': 109, 'KBE': 119, 'KBZ': 67, 'KBX': 116, 'KBY': 111, 'KBR': 101, 'KBS': 118, 'KBP': 121, 'KBQ': 62, 'KBV': 100, 'KBW': 114, 'KBU': 55, 'KCE': 86, 'KCD': 85, 'KCG': 59, 'KCF': 105, 'KCA': 73, 'KCC': 29, 'KCB': 78, 'KCM': 82, 'KCL': 53, 'KCO': 104, 'KCN': 81, 'KCI': 65, 'KCH': 84, 'KCK': 52, 'KCJ': 156, 'KCU': 115, 'KCT': 112, 'KCV': 106, 'KCQ': 154, 'KCP': 129, 'KCS': 77, 'KCR': 153, 'KCX': 120, 'RED': 8, 'KDL': 158, 'KDM': 130, 'KDN': 151, 'KDO': 60, 'KDH': 14, 'KDI': 150, 'KDD': 113, 'KDE': 47, 'KDF': 127, 'KDG': 126, 'KDA': 63, 'KDB': 117, 'KDC': 75, 'KDX': 69, 'KDY': 61, 'KDZ': 99, 'KDT': 58, 'KDU': 79, 'KDV': 91, 'KDW': 132, 'KDP': 103, 'KDQ': 80, 'KDR': 56, 'KDS': 124, 'K00': 50, 'KEO': 96, 'KEN': 137, 'KEM': 155, 'KEL': 125, 'KEK': 145, 'KEJ': 95, 'KEI': 97, 'KEH': 15, 'KEG': 136, 'KEF': 128, 'KEE': 152, 'KED': 143, 'KEC': 66, 'KEB': 123, 'KEA': 89, 'KEZ': 108, 'KEY': 93, 'KEW': 98, 'KEV': 87, 'KEU': 72, 'KES': 68, 'KEQ': 138, -99: 6, 'KFV': 48, 'KFT': 92, 'KFU': 36, 'KFR': 144, 'KFS': 38, 'KFP': 40, 'KFF': 45, 'KFG': 27, 'KFD': 25, 'KFE': 148, 'KFB': 146, 'KFC': 4, 'KFA': 3, 'KFN': 42, 'KFL': 34, 'KFM': 141, 'KFJ': 33, 'KFK': 20, 'KFH': 140, 'KFI': 134, '007': 71, '004': 83, 'KGU': 149, 'KGW': 147, 'KGV': 43, 'KGY': 44, 'KGX': 24, 'KGC': 18, 'KGN': 11}\n",
    "}"
   ]
  },
  {
   "cell_type": "code",
   "execution_count": 5,
   "metadata": {},
   "outputs": [],
   "source": [
    "df2.canal_entrada.replace(mapping_dict['canal_entrada'], inplace=True)\n",
    "df2.canal_entrada.fillna(mapping_dict['canal_entrada'][-99], inplace=True)"
   ]
  },
  {
   "cell_type": "code",
   "execution_count": 6,
   "metadata": {},
   "outputs": [],
   "source": [
    "mapping_dict['pais_residencia'][np.nan] = mapping_dict['pais_residencia'][-99]\n",
    "df2.pais_residencia.replace(mapping_dict['pais_residencia'], inplace=True)"
   ]
  },
  {
   "cell_type": "code",
   "execution_count": 7,
   "metadata": {},
   "outputs": [],
   "source": [
    "df2.segmento.replace( {'02 - PARTICULARES':0, '03 - UNIVERSITARIO':1, '01 - TOP':2, np.nan:2}, inplace=True)"
   ]
  },
  {
   "cell_type": "code",
   "execution_count": 8,
   "metadata": {},
   "outputs": [],
   "source": [
    "df2.ind_actividad_cliente.replace({0:0, 1:1, np.nan:2}, inplace=True)"
   ]
  },
  {
   "cell_type": "code",
   "execution_count": 9,
   "metadata": {},
   "outputs": [],
   "source": [
    "df2.tipodom.replace({np.nan:0, 1:1}, inplace=True)"
   ]
  },
  {
   "cell_type": "code",
   "execution_count": 10,
   "metadata": {},
   "outputs": [],
   "source": [
    "df2.indfall.replace({np.nan:0, 'S':1, 'N':2}, inplace=True)"
   ]
  },
  {
   "cell_type": "code",
   "execution_count": 11,
   "metadata": {},
   "outputs": [],
   "source": [
    "df2.conyuemp.replace({np.nan:0, 'S':1, 'N':2}, inplace=True)"
   ]
  },
  {
   "cell_type": "code",
   "execution_count": 12,
   "metadata": {},
   "outputs": [],
   "source": [
    "df2.indext.replace({np.nan:0, 'S':1, 'N':2}, inplace=True)"
   ]
  },
  {
   "cell_type": "code",
   "execution_count": 13,
   "metadata": {},
   "outputs": [],
   "source": [
    "df2.indresi.replace({np.nan:0, 'S':1, 'N':2}, inplace=True)"
   ]
  },
  {
   "cell_type": "code",
   "execution_count": 14,
   "metadata": {},
   "outputs": [],
   "source": [
    "df2.tiprel_1mes.replace(mapping_dict['tiprel_1mes'], inplace=True)\n",
    "df2.tiprel_1mes.fillna(0, inplace=True)"
   ]
  },
  {
   "cell_type": "code",
   "execution_count": 15,
   "metadata": {},
   "outputs": [],
   "source": [
    "df2.indrel_1mes.replace('P', 5, inplace=True)\n",
    "df2.indrel_1mes.fillna(0, inplace=True)\n",
    "df2.indrel_1mes = pd.to_numeric(df2.indrel_1mes, errors='coerce')"
   ]
  },
  {
   "cell_type": "code",
   "execution_count": 16,
   "metadata": {},
   "outputs": [],
   "source": [
    "df2.indrel.replace({np.nan: 2, 1: 0, 99: 1}, inplace=True)"
   ]
  },
  {
   "cell_type": "code",
   "execution_count": 17,
   "metadata": {},
   "outputs": [],
   "source": [
    "df2.ind_nuevo.fillna(2, inplace=True)"
   ]
  },
  {
   "cell_type": "code",
   "execution_count": 18,
   "metadata": {},
   "outputs": [],
   "source": [
    "df2.sexo.fillna(2, inplace=True)\n",
    "df2.sexo.replace(mapping_dict['sexo'], inplace=True)"
   ]
  },
  {
   "cell_type": "code",
   "execution_count": 19,
   "metadata": {},
   "outputs": [],
   "source": [
    "df2.ind_empleado.fillna(0, inplace=True)\n",
    "df2.ind_empleado.replace(mapping_dict['ind_empleado'], inplace=True)"
   ]
  },
  {
   "cell_type": "code",
   "execution_count": 20,
   "metadata": {},
   "outputs": [],
   "source": [
    "df2.age = pd.to_numeric(df2.age, errors='coerce')\n",
    "\n",
    "mean_age = 40.\n",
    "min_age = 20.\n",
    "max_age = 90.\n",
    "range_age = max_age - min_age\n",
    "df2.age.fillna(mean_age, inplace=True)\n",
    "df2.loc[df2.age>max_age, 'age'] = max_age\n",
    "df2.loc[df2.age<min_age, 'age'] = min_age\n",
    "df2.age = (df2.age-min_age) / range_age\n",
    "\n",
    "df2.antiguedad = pd.to_numeric(df2.antiguedad, errors='coerce')\n",
    "\n",
    "min_value = 0.\n",
    "max_value = 256.\n",
    "range_value = max_value - min_value\n",
    "missing_value = 0.\n",
    "df2.antiguedad.fillna(0.0, inplace=True)\n",
    "df2.loc[df2.antiguedad<min_value, 'antiguedad'] = min_value\n",
    "df2.loc[df2.antiguedad>max_value, 'antiguedad'] = max_value\n",
    "df2.antiguedad = (df2.antiguedad-min_value)/range_value\n",
    "\n",
    "df2.renta = pd.to_numeric(df2.renta, errors='coerce')\n",
    "\n",
    "min_value = 0.\n",
    "max_value = 1500000.\n",
    "range_value = max_value - min_value\n",
    "missing_value = 101850.\n",
    "df2.renta.fillna(missing_value, inplace=True)\n",
    "df2.loc[df2.renta<min_value, 'renta'] = min_value\n",
    "df2.loc[df2.renta>max_value, 'renta'] = max_value\n",
    "df2.renta = (df2.renta-min_value)/range_value"
   ]
  },
  {
   "cell_type": "markdown",
   "metadata": {},
   "source": [
    "Merge `cat_cols` with `target_cols`"
   ]
  },
  {
   "cell_type": "code",
   "execution_count": 21,
   "metadata": {},
   "outputs": [],
   "source": [
    "target = pd.read_csv('../input/train_ver2.csv', usecols=['ncodpers', 'fecha_dato']+target_cols)"
   ]
  },
  {
   "cell_type": "code",
   "execution_count": 22,
   "metadata": {},
   "outputs": [],
   "source": [
    "df2 = pd.merge(df2, target, on=['fecha_dato', 'ncodpers'], how='left')\n",
    "df2.fillna(0.0, inplace=True)"
   ]
  },
  {
   "cell_type": "code",
   "execution_count": null,
   "metadata": {},
   "outputs": [
    {
     "data": {
      "application/vnd.jupyter.widget-view+json": {
       "model_id": "0ef24072fd344bc895b07c9c4d0da8b6",
       "version_major": 2,
       "version_minor": 0
      },
      "text/plain": [
       "HBox(children=(IntProgress(value=0, max=18), HTML(value='')))"
      ]
     },
     "metadata": {},
     "output_type": "display_data"
    }
   ],
   "source": [
    "for m in tqdm.tqdm_notebook(month_list):\n",
    "    dt = df2.loc[df2.fecha_dato==m, :].copy()\n",
    "    dt.to_hdf('../input/data_month_2_{}.hdf'.format(m), 'data_month', complib='blosc:lz4', complevel=9, format='t')"
   ]
  }
 ],
 "metadata": {
  "kernelspec": {
   "display_name": "Python 3",
   "language": "python",
   "name": "python3"
  },
  "language_info": {
   "codemirror_mode": {
    "name": "ipython",
    "version": 3
   },
   "file_extension": ".py",
   "mimetype": "text/x-python",
   "name": "python",
   "nbconvert_exporter": "python",
   "pygments_lexer": "ipython3",
   "version": "3.6.7"
  }
 },
 "nbformat": 4,
 "nbformat_minor": 2
}
