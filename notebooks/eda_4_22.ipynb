{
 "cells": [
  {
   "cell_type": "markdown",
   "metadata": {},
   "source": [
    "## Feature Engineering and CV, continued from eda_4_21\n",
    "\n",
    "New train and test generation, features include:\n",
    "- customer info in the second month\n",
    "- products in the first month\n",
    "- combination of first and second month `ind_actividad_cliente`\n",
    "- combination of first and second month `tiprel_1mes`\n",
    "- combination of first month product by using binary number (`target_combine`)\n",
    "- encoding `target_combine` with \n",
    "    - mean number of new products\n",
    "    - mean number of customers with new products\n",
    "    - mean number of customers with each new products\n",
    "\n",
    "\n",
    "#### CV@2015-12-28:\n",
    "- benchmark: val = 1.62857\n",
    "- with only `ind_actividad_client_combine`, `tiprel_1mes_combine`, `target_combine`, mlogloss=1.57141\n",
    "- with `ind_actividad_client_combine`, `tiprel_1mes_combine`, `target_combine`, `n_products` and patterns: val = 1.31122\n",
    "- Private score: 0.0302475, public score: 0.0299266"
   ]
  },
  {
   "cell_type": "code",
   "execution_count": 1,
   "metadata": {},
   "outputs": [],
   "source": [
    "from santander_helper import *\n",
    "%matplotlib inline"
   ]
  },
  {
   "cell_type": "markdown",
   "metadata": {},
   "source": [
    "### Train and test data sets"
   ]
  },
  {
   "cell_type": "code",
   "execution_count": 2,
   "metadata": {},
   "outputs": [],
   "source": [
    "x_train, y_train = create_train('2015-06-28')"
   ]
  },
  {
   "cell_type": "code",
   "execution_count": 3,
   "metadata": {},
   "outputs": [],
   "source": [
    "x_val, y_val = create_train('2015-12-28')"
   ]
  },
  {
   "cell_type": "code",
   "execution_count": 4,
   "metadata": {},
   "outputs": [],
   "source": [
    "x_test = create_test()"
   ]
  },
  {
   "cell_type": "markdown",
   "metadata": {},
   "source": [
    "## Train model\n",
    "\n",
    "- benchmark: val = 1.62857\n",
    "- with only `ind_actividad_client_combine`, `tiprel_1mes_combine`, `target_combine`, mlogloss=1.57141\n",
    "- with `ind_actividad_client_combine`, `tiprel_1mes_combine`, `target_combine`, `n_products` and patterns: val = 1.31122"
   ]
  },
  {
   "cell_type": "code",
   "execution_count": 5,
   "metadata": {
    "scrolled": true
   },
   "outputs": [
    {
     "name": "stdout",
     "output_type": "stream",
     "text": [
      "[0]\ttrain-mlogloss:2.76452\tval-mlogloss:2.77824\n",
      "[1]\ttrain-mlogloss:2.6277\tval-mlogloss:2.66856\n",
      "[2]\ttrain-mlogloss:2.51632\tval-mlogloss:2.56824\n",
      "[3]\ttrain-mlogloss:2.41917\tval-mlogloss:2.4831\n",
      "[4]\ttrain-mlogloss:2.33502\tval-mlogloss:2.40834\n",
      "[5]\ttrain-mlogloss:2.25995\tval-mlogloss:2.34964\n",
      "[6]\ttrain-mlogloss:2.19215\tval-mlogloss:2.2927\n",
      "[7]\ttrain-mlogloss:2.13084\tval-mlogloss:2.2422\n",
      "[8]\ttrain-mlogloss:2.07419\tval-mlogloss:2.19261\n",
      "[9]\ttrain-mlogloss:2.02298\tval-mlogloss:2.14833\n",
      "[10]\ttrain-mlogloss:1.97543\tval-mlogloss:2.10655\n",
      "[11]\ttrain-mlogloss:1.93209\tval-mlogloss:2.06806\n",
      "[12]\ttrain-mlogloss:1.89061\tval-mlogloss:2.03448\n",
      "[13]\ttrain-mlogloss:1.85299\tval-mlogloss:2.00593\n",
      "[14]\ttrain-mlogloss:1.81786\tval-mlogloss:1.97612\n",
      "[15]\ttrain-mlogloss:1.78488\tval-mlogloss:1.94731\n",
      "[16]\ttrain-mlogloss:1.75323\tval-mlogloss:1.9238\n",
      "[17]\ttrain-mlogloss:1.72337\tval-mlogloss:1.89896\n",
      "[18]\ttrain-mlogloss:1.69568\tval-mlogloss:1.87588\n",
      "[19]\ttrain-mlogloss:1.66876\tval-mlogloss:1.85434\n",
      "[20]\ttrain-mlogloss:1.64356\tval-mlogloss:1.83433\n",
      "[21]\ttrain-mlogloss:1.61996\tval-mlogloss:1.81434\n",
      "[22]\ttrain-mlogloss:1.5976\tval-mlogloss:1.79841\n",
      "[23]\ttrain-mlogloss:1.57635\tval-mlogloss:1.78082\n",
      "[24]\ttrain-mlogloss:1.55635\tval-mlogloss:1.76416\n",
      "[25]\ttrain-mlogloss:1.53707\tval-mlogloss:1.7472\n",
      "[26]\ttrain-mlogloss:1.5185\tval-mlogloss:1.73333\n",
      "[27]\ttrain-mlogloss:1.5006\tval-mlogloss:1.71985\n",
      "[28]\ttrain-mlogloss:1.48378\tval-mlogloss:1.70556\n",
      "[29]\ttrain-mlogloss:1.46766\tval-mlogloss:1.69227\n",
      "[30]\ttrain-mlogloss:1.45256\tval-mlogloss:1.67984\n",
      "[31]\ttrain-mlogloss:1.43801\tval-mlogloss:1.66722\n",
      "[32]\ttrain-mlogloss:1.42383\tval-mlogloss:1.65556\n",
      "[33]\ttrain-mlogloss:1.41037\tval-mlogloss:1.64453\n",
      "[34]\ttrain-mlogloss:1.39732\tval-mlogloss:1.63427\n",
      "[35]\ttrain-mlogloss:1.38493\tval-mlogloss:1.6245\n",
      "[36]\ttrain-mlogloss:1.373\tval-mlogloss:1.61598\n",
      "[37]\ttrain-mlogloss:1.36136\tval-mlogloss:1.60763\n",
      "[38]\ttrain-mlogloss:1.35057\tval-mlogloss:1.59856\n",
      "[39]\ttrain-mlogloss:1.34009\tval-mlogloss:1.59078\n",
      "[40]\ttrain-mlogloss:1.33007\tval-mlogloss:1.58358\n",
      "[41]\ttrain-mlogloss:1.32035\tval-mlogloss:1.57624\n",
      "[42]\ttrain-mlogloss:1.3108\tval-mlogloss:1.56823\n",
      "[43]\ttrain-mlogloss:1.30188\tval-mlogloss:1.56133\n",
      "[44]\ttrain-mlogloss:1.29293\tval-mlogloss:1.55481\n",
      "[45]\ttrain-mlogloss:1.28457\tval-mlogloss:1.54876\n",
      "[46]\ttrain-mlogloss:1.27632\tval-mlogloss:1.54278\n",
      "[47]\ttrain-mlogloss:1.26844\tval-mlogloss:1.53685\n",
      "[48]\ttrain-mlogloss:1.26097\tval-mlogloss:1.53174\n",
      "[49]\ttrain-mlogloss:1.2537\tval-mlogloss:1.52621\n"
     ]
    }
   ],
   "source": [
    "param = {'objective': 'multi:softprob', \n",
    "         'eta': 0.05, \n",
    "         'max_depth': 8, \n",
    "         'silent': 1, \n",
    "         'num_class': len(target_cols),\n",
    "         'eval_metric': 'mlogloss',\n",
    "         'min_child_weight': 1,\n",
    "         'subsample': 0.7,\n",
    "         'colsample_bytree': 0.7,\n",
    "         'seed': 0}\n",
    "num_rounds = 50\n",
    "\n",
    "dtrain = xgb.DMatrix(x_train.values, y_train.values)\n",
    "dval = xgb.DMatrix(x_val.values, y_val.values)\n",
    "model = xgb.train(param, dtrain, num_rounds, evals=[(dtrain, 'train'), (dval, 'val')], verbose_eval=True)"
   ]
  },
  {
   "cell_type": "markdown",
   "metadata": {},
   "source": [
    "Prediction from my model"
   ]
  },
  {
   "cell_type": "code",
   "execution_count": 6,
   "metadata": {},
   "outputs": [],
   "source": [
    "preds = model.predict(xgb.DMatrix(x_test.values))\n",
    "\n",
    "df_preds = pd.DataFrame(preds, index=x_test.index, columns=target_cols)\n",
    "# Remove already bought products \n",
    "df_preds[x_test[target_cols]==1] = 0 \n",
    "preds = df_preds.values\n",
    "preds = np.argsort(preds, axis=1)\n",
    "preds = np.fliplr(preds)[:, :7]"
   ]
  },
  {
   "cell_type": "markdown",
   "metadata": {},
   "source": [
    "Write out prediction results from my model"
   ]
  },
  {
   "cell_type": "code",
   "execution_count": 7,
   "metadata": {},
   "outputs": [],
   "source": [
    "test_id = x_test.loc[:, 'ncodpers'].values\n",
    "final_preds = [' '.join([target_cols[k] for k in pred]) for pred in preds]\n",
    "\n",
    "out_df = pd.DataFrame({'ncodpers': test_id, 'added_products': final_preds})\n",
    "out_df.to_csv('eda_4_22.csv.gz', compression='gzip', index=False)"
   ]
  }
 ],
 "metadata": {
  "kernelspec": {
   "display_name": "Python 3",
   "language": "python",
   "name": "python3"
  },
  "language_info": {
   "codemirror_mode": {
    "name": "ipython",
    "version": 3
   },
   "file_extension": ".py",
   "mimetype": "text/x-python",
   "name": "python",
   "nbconvert_exporter": "python",
   "pygments_lexer": "ipython3",
   "version": "3.6.6"
  }
 },
 "nbformat": 4,
 "nbformat_minor": 2
}
