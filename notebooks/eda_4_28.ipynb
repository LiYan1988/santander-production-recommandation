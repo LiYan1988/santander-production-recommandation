{
 "cells": [
  {
   "cell_type": "markdown",
   "metadata": {},
   "source": [
    "## Feature Engineering and CV based Winners' Solutions\n",
    "\n",
    "continued from eda_4_26\n",
    "\n",
    "New in this notebook:\n",
    "- average of products for each (customer, product) pair\n",
    "- exponent weighted average of products each (customer, product) pair\n",
    "- time since presence of products, distance to the first 1\n",
    "- time to the last positive flank (01)\n",
    "- time to the last negative flank (10)\n",
    "- time to the last 1, to the nearest product purchase\n",
    "- time to the first 1, to the first product purchase\n",
    "\n",
    "Trained@2015-06-28, validated@2015-12-28, mlogloss=1.28481\n",
    "\n",
    "Private score: 0.0302054, public score: 0.0298683\n",
    "\n",
    "To-do: \n",
    "- mean encoding of products grouped by combinations of: canal_entrada, segmento, cod_prov\n",
    "- Time since change and lags for a few non-product features: \n",
    "    - segmento\n",
    "    - ind_actividad_cliente\n",
    "    - cod_prov\n",
    "    - canal_entrada\n",
    "    - indrel_1mes\n",
    "    - tiprel_1mes\n",
    "\n",
    "\n",
    "Features:\n",
    "- before eda_4_25\n",
    "    - customer info in the second month\n",
    "    - products in the first month\n",
    "    - combination of first and second month `ind_actividad_cliente`\n",
    "    - combination of first and second month `tiprel_1mes`\n",
    "    - combination of first month product by using binary number (`target_combine`)\n",
    "    - encoding `target_combine` with \n",
    "        - mean number of new products\n",
    "        - mean number of customers with new products\n",
    "        - mean number of customers with each new products\n",
    "    - Count patterns in the last `max_lag` months\n",
    "    - Number of month to the last time the customer purchase each product\n",
    "        - CV@2015-12-28: mlogloss=1.29349\n",
    "        - Private score: 0.0302475, public score: 0.0299266\n",
    "- eda_4_25\n",
    "    - Use all available history data\n",
    "        - E.g., for 2016-05-28 train data, use all previous months, for 2015-02-28, use 1 lag month. \n",
    "        - Need to create test set that use the same amount of previous months for each training data set. \n",
    "        - This is from [the second winner's solution](https://www.kaggle.com/c/santander-product-recommendation/discussion/26824), his bold part in paragraph 4.\n",
    "    - Combine models trained on 2016-05-28 and 2015-06-28:\n",
    "        - Private score: 0.0304583, public score: 0.0300839\n",
    "        - This is to catch both seasonality and trend, presented in 2015-06-28 and 2016-05-28, respectively. \n",
    "        - This idea is mentioned by many winners, like [11-th winner](https://www.kaggle.com/c/santander-product-recommendation/discussion/26823) and [14-th winner](https://www.kaggle.com/c/santander-product-recommendation/discussion/26808)\n",
    "\n",
    "- eda_4_27\n",
    "    - put 2015-06-28 and 2016-05-28 in the same data set, with the same lag=5\n",
    "        - Private score:0.0303096, public score: 0.0299867\n",
    "        - Different as [11-th winner's discussion](https://www.kaggle.com/c/santander-product-recommendation/discussion/26823)\n",
    "            > We tested this by adding 50% of May-16 data to our June model and sure enough, we went from 0.0301 to 0.0303. Then, we built separate models for Jun and May, but the ensemble didn’t work. We weren’t surprised because June data is better for seasonal products, and May data is better for trend products. And vice-versa, June data is bad for trend products and May data is bad for seasonal products. So, they sort of cancelled each other out.\n",
    "\n",
    "        - But my score is always worse than theirs, maybe this is the reason why we have different observations"
   ]
  },
  {
   "cell_type": "code",
   "execution_count": 1,
   "metadata": {},
   "outputs": [],
   "source": [
    "from santander_helper import *"
   ]
  },
  {
   "cell_type": "code",
   "execution_count": 2,
   "metadata": {},
   "outputs": [],
   "source": [
    "x_train, y_train = create_train('2015-06-28', pattern_flag=True)"
   ]
  },
  {
   "cell_type": "code",
   "execution_count": 3,
   "metadata": {},
   "outputs": [],
   "source": [
    "x_val, y_val = create_train('2015-12-28', pattern_flag=True)"
   ]
  },
  {
   "cell_type": "code",
   "execution_count": 4,
   "metadata": {},
   "outputs": [],
   "source": [
    "x_test = create_test(pattern_flag=True)"
   ]
  },
  {
   "cell_type": "code",
   "execution_count": 5,
   "metadata": {
    "scrolled": true
   },
   "outputs": [
    {
     "name": "stdout",
     "output_type": "stream",
     "text": [
      "[0]\ttrain-mlogloss:2.70425\tval-mlogloss:2.72751\n",
      "[1]\ttrain-mlogloss:2.53054\tval-mlogloss:2.57816\n",
      "[2]\ttrain-mlogloss:2.39174\tval-mlogloss:2.45626\n",
      "[3]\ttrain-mlogloss:2.27667\tval-mlogloss:2.35607\n",
      "[4]\ttrain-mlogloss:2.17737\tval-mlogloss:2.26857\n",
      "[5]\ttrain-mlogloss:2.09057\tval-mlogloss:2.19049\n",
      "[6]\ttrain-mlogloss:2.01329\tval-mlogloss:2.12256\n",
      "[7]\ttrain-mlogloss:1.94391\tval-mlogloss:2.06879\n",
      "[8]\ttrain-mlogloss:1.8804\tval-mlogloss:2.01387\n",
      "[9]\ttrain-mlogloss:1.8227\tval-mlogloss:1.96327\n",
      "[10]\ttrain-mlogloss:1.76998\tval-mlogloss:1.91818\n",
      "[11]\ttrain-mlogloss:1.7206\tval-mlogloss:1.87445\n",
      "[12]\ttrain-mlogloss:1.67542\tval-mlogloss:1.83568\n",
      "[13]\ttrain-mlogloss:1.63347\tval-mlogloss:1.79962\n",
      "[14]\ttrain-mlogloss:1.59422\tval-mlogloss:1.76587\n",
      "[15]\ttrain-mlogloss:1.55781\tval-mlogloss:1.7343\n",
      "[16]\ttrain-mlogloss:1.52319\tval-mlogloss:1.70851\n",
      "[17]\ttrain-mlogloss:1.49054\tval-mlogloss:1.68033\n",
      "[18]\ttrain-mlogloss:1.45981\tval-mlogloss:1.65444\n",
      "[19]\ttrain-mlogloss:1.43115\tval-mlogloss:1.63016\n",
      "[20]\ttrain-mlogloss:1.404\tval-mlogloss:1.61\n",
      "[21]\ttrain-mlogloss:1.37803\tval-mlogloss:1.58804\n",
      "[22]\ttrain-mlogloss:1.35379\tval-mlogloss:1.56878\n",
      "[23]\ttrain-mlogloss:1.33067\tval-mlogloss:1.54974\n",
      "[24]\ttrain-mlogloss:1.30882\tval-mlogloss:1.53117\n",
      "[25]\ttrain-mlogloss:1.28797\tval-mlogloss:1.51378\n",
      "[26]\ttrain-mlogloss:1.26794\tval-mlogloss:1.49754\n",
      "[27]\ttrain-mlogloss:1.24912\tval-mlogloss:1.48206\n",
      "[28]\ttrain-mlogloss:1.23128\tval-mlogloss:1.46962\n",
      "[29]\ttrain-mlogloss:1.21432\tval-mlogloss:1.45753\n",
      "[30]\ttrain-mlogloss:1.19792\tval-mlogloss:1.44362\n",
      "[31]\ttrain-mlogloss:1.18218\tval-mlogloss:1.43017\n",
      "[32]\ttrain-mlogloss:1.16733\tval-mlogloss:1.41991\n",
      "[33]\ttrain-mlogloss:1.15324\tval-mlogloss:1.40881\n",
      "[34]\ttrain-mlogloss:1.13953\tval-mlogloss:1.39817\n",
      "[35]\ttrain-mlogloss:1.12657\tval-mlogloss:1.38761\n",
      "[36]\ttrain-mlogloss:1.11397\tval-mlogloss:1.37952\n",
      "[37]\ttrain-mlogloss:1.1019\tval-mlogloss:1.37157\n",
      "[38]\ttrain-mlogloss:1.0905\tval-mlogloss:1.36333\n",
      "[39]\ttrain-mlogloss:1.07952\tval-mlogloss:1.35466\n",
      "[40]\ttrain-mlogloss:1.06888\tval-mlogloss:1.34633\n",
      "[41]\ttrain-mlogloss:1.05868\tval-mlogloss:1.3383\n",
      "[42]\ttrain-mlogloss:1.04889\tval-mlogloss:1.33171\n",
      "[43]\ttrain-mlogloss:1.03959\tval-mlogloss:1.3237\n",
      "[44]\ttrain-mlogloss:1.03058\tval-mlogloss:1.3164\n",
      "[45]\ttrain-mlogloss:1.02196\tval-mlogloss:1.30976\n",
      "[46]\ttrain-mlogloss:1.01355\tval-mlogloss:1.30319\n",
      "[47]\ttrain-mlogloss:1.00553\tval-mlogloss:1.29645\n",
      "[48]\ttrain-mlogloss:0.99792\tval-mlogloss:1.2903\n",
      "[49]\ttrain-mlogloss:0.990545\tval-mlogloss:1.28481\n"
     ]
    }
   ],
   "source": [
    "param = {'objective': 'multi:softprob', \n",
    "         'eta': 0.05, \n",
    "         'max_depth': 8, \n",
    "         'silent': 1, \n",
    "         'num_class': len(target_cols),\n",
    "         'eval_metric': 'mlogloss',\n",
    "         'min_child_weight': 1,\n",
    "         'subsample': 0.7,\n",
    "         'colsample_bytree': 0.7,\n",
    "         'seed': 0}\n",
    "num_rounds = 50\n",
    "\n",
    "dtrain = xgb.DMatrix(x_train.values, y_train.values)\n",
    "dval = xgb.DMatrix(x_val.values, y_val.values)\n",
    "model = xgb.train(param, dtrain, num_rounds, evals=[(dtrain, 'train'), (dval, 'val')], verbose_eval=True)"
   ]
  },
  {
   "cell_type": "code",
   "execution_count": 7,
   "metadata": {},
   "outputs": [],
   "source": [
    "preds = model.predict(xgb.DMatrix(x_test.values))\n",
    "\n",
    "df_preds = pd.DataFrame(preds, index=x_test.index, columns=target_cols)\n",
    "# Remove already bought products \n",
    "df_preds[x_test[target_cols]==1] = 0 \n",
    "preds = df_preds.values\n",
    "preds = np.argsort(preds, axis=1)\n",
    "preds = np.fliplr(preds)[:, :7]"
   ]
  },
  {
   "cell_type": "code",
   "execution_count": 8,
   "metadata": {},
   "outputs": [],
   "source": [
    "test_id = x_test.loc[:, 'ncodpers'].values\n",
    "final_preds = [' '.join([target_cols[k] for k in pred]) for pred in preds]\n",
    "\n",
    "out_df = pd.DataFrame({'ncodpers': test_id, 'added_products': final_preds})\n",
    "out_df.to_csv('eda_4_28.csv.gz', compression='gzip', index=False)"
   ]
  }
 ],
 "metadata": {
  "kernelspec": {
   "display_name": "Python 3",
   "language": "python",
   "name": "python3"
  },
  "language_info": {
   "codemirror_mode": {
    "name": "ipython",
    "version": 3
   },
   "file_extension": ".py",
   "mimetype": "text/x-python",
   "name": "python",
   "nbconvert_exporter": "python",
   "pygments_lexer": "ipython3",
   "version": "3.6.6"
  }
 },
 "nbformat": 4,
 "nbformat_minor": 2
}
