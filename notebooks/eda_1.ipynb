{
 "cells": [
  {
   "cell_type": "markdown",
   "metadata": {},
   "source": [
    "# Detailed Data Cleaning/Visualization"
   ]
  },
  {
   "cell_type": "markdown",
   "metadata": {},
   "source": [
    "## First Glance"
   ]
  },
  {
   "cell_type": "code",
   "execution_count": 1,
   "metadata": {},
   "outputs": [
    {
     "name": "stdout",
     "output_type": "stream",
     "text": [
      "Populating the interactive namespace from numpy and matplotlib\n"
     ]
    }
   ],
   "source": [
    "import numpy as np\n",
    "import pandas as pd\n",
    "import seaborn as sns\n",
    "import matplotlib.pyplot as plt\n",
    "%pylab inline\n",
    "pylab.rcParams['figure.figsize'] = (16, 9)"
   ]
  },
  {
   "cell_type": "markdown",
   "metadata": {},
   "source": [
    "Sample the train set, data is huge"
   ]
  },
  {
   "cell_type": "code",
   "execution_count": 2,
   "metadata": {},
   "outputs": [
    {
     "name": "stderr",
     "output_type": "stream",
     "text": [
      "C:\\Users\\lyaa\\AppData\\Local\\Continuum\\miniconda3\\envs\\kaggle\\lib\\site-packages\\IPython\\core\\interactiveshell.py:2785: DtypeWarning: Columns (5,8,10,11,15) have mixed types. Specify dtype option on import or set low_memory=False.\n",
      "  interactivity=interactivity, compiler=compiler, result=result)\n"
     ]
    }
   ],
   "source": [
    "limit_rows = 7000000\n",
    "df = pd.read_csv('../input/train_ver2.csv', nrows=limit_rows)"
   ]
  },
  {
   "cell_type": "code",
   "execution_count": 3,
   "metadata": {},
   "outputs": [
    {
     "data": {
      "text/html": [
       "<div>\n",
       "<style scoped>\n",
       "    .dataframe tbody tr th:only-of-type {\n",
       "        vertical-align: middle;\n",
       "    }\n",
       "\n",
       "    .dataframe tbody tr th {\n",
       "        vertical-align: top;\n",
       "    }\n",
       "\n",
       "    .dataframe thead th {\n",
       "        text-align: right;\n",
       "    }\n",
       "</style>\n",
       "<table border=\"1\" class=\"dataframe\">\n",
       "  <thead>\n",
       "    <tr style=\"text-align: right;\">\n",
       "      <th></th>\n",
       "      <th>0</th>\n",
       "      <th>1</th>\n",
       "      <th>2</th>\n",
       "      <th>3</th>\n",
       "      <th>4</th>\n",
       "    </tr>\n",
       "  </thead>\n",
       "  <tbody>\n",
       "    <tr>\n",
       "      <th>fecha_dato</th>\n",
       "      <td>2015-01-28</td>\n",
       "      <td>2015-01-28</td>\n",
       "      <td>2015-01-28</td>\n",
       "      <td>2015-01-28</td>\n",
       "      <td>2015-01-28</td>\n",
       "    </tr>\n",
       "    <tr>\n",
       "      <th>ncodpers</th>\n",
       "      <td>1375586</td>\n",
       "      <td>1050611</td>\n",
       "      <td>1050612</td>\n",
       "      <td>1050613</td>\n",
       "      <td>1050614</td>\n",
       "    </tr>\n",
       "    <tr>\n",
       "      <th>ind_empleado</th>\n",
       "      <td>N</td>\n",
       "      <td>N</td>\n",
       "      <td>N</td>\n",
       "      <td>N</td>\n",
       "      <td>N</td>\n",
       "    </tr>\n",
       "    <tr>\n",
       "      <th>pais_residencia</th>\n",
       "      <td>ES</td>\n",
       "      <td>ES</td>\n",
       "      <td>ES</td>\n",
       "      <td>ES</td>\n",
       "      <td>ES</td>\n",
       "    </tr>\n",
       "    <tr>\n",
       "      <th>sexo</th>\n",
       "      <td>H</td>\n",
       "      <td>V</td>\n",
       "      <td>V</td>\n",
       "      <td>H</td>\n",
       "      <td>V</td>\n",
       "    </tr>\n",
       "    <tr>\n",
       "      <th>age</th>\n",
       "      <td>35</td>\n",
       "      <td>23</td>\n",
       "      <td>23</td>\n",
       "      <td>22</td>\n",
       "      <td>23</td>\n",
       "    </tr>\n",
       "    <tr>\n",
       "      <th>fecha_alta</th>\n",
       "      <td>2015-01-12</td>\n",
       "      <td>2012-08-10</td>\n",
       "      <td>2012-08-10</td>\n",
       "      <td>2012-08-10</td>\n",
       "      <td>2012-08-10</td>\n",
       "    </tr>\n",
       "    <tr>\n",
       "      <th>ind_nuevo</th>\n",
       "      <td>0</td>\n",
       "      <td>0</td>\n",
       "      <td>0</td>\n",
       "      <td>0</td>\n",
       "      <td>0</td>\n",
       "    </tr>\n",
       "    <tr>\n",
       "      <th>antiguedad</th>\n",
       "      <td>6</td>\n",
       "      <td>35</td>\n",
       "      <td>35</td>\n",
       "      <td>35</td>\n",
       "      <td>35</td>\n",
       "    </tr>\n",
       "    <tr>\n",
       "      <th>indrel</th>\n",
       "      <td>1</td>\n",
       "      <td>1</td>\n",
       "      <td>1</td>\n",
       "      <td>1</td>\n",
       "      <td>1</td>\n",
       "    </tr>\n",
       "    <tr>\n",
       "      <th>ult_fec_cli_1t</th>\n",
       "      <td>NaN</td>\n",
       "      <td>NaN</td>\n",
       "      <td>NaN</td>\n",
       "      <td>NaN</td>\n",
       "      <td>NaN</td>\n",
       "    </tr>\n",
       "    <tr>\n",
       "      <th>indrel_1mes</th>\n",
       "      <td>1</td>\n",
       "      <td>1</td>\n",
       "      <td>1</td>\n",
       "      <td>1</td>\n",
       "      <td>1</td>\n",
       "    </tr>\n",
       "    <tr>\n",
       "      <th>tiprel_1mes</th>\n",
       "      <td>A</td>\n",
       "      <td>I</td>\n",
       "      <td>I</td>\n",
       "      <td>I</td>\n",
       "      <td>A</td>\n",
       "    </tr>\n",
       "    <tr>\n",
       "      <th>indresi</th>\n",
       "      <td>S</td>\n",
       "      <td>S</td>\n",
       "      <td>S</td>\n",
       "      <td>S</td>\n",
       "      <td>S</td>\n",
       "    </tr>\n",
       "    <tr>\n",
       "      <th>indext</th>\n",
       "      <td>N</td>\n",
       "      <td>S</td>\n",
       "      <td>N</td>\n",
       "      <td>N</td>\n",
       "      <td>N</td>\n",
       "    </tr>\n",
       "    <tr>\n",
       "      <th>conyuemp</th>\n",
       "      <td>NaN</td>\n",
       "      <td>NaN</td>\n",
       "      <td>NaN</td>\n",
       "      <td>NaN</td>\n",
       "      <td>NaN</td>\n",
       "    </tr>\n",
       "    <tr>\n",
       "      <th>canal_entrada</th>\n",
       "      <td>KHL</td>\n",
       "      <td>KHE</td>\n",
       "      <td>KHE</td>\n",
       "      <td>KHD</td>\n",
       "      <td>KHE</td>\n",
       "    </tr>\n",
       "    <tr>\n",
       "      <th>indfall</th>\n",
       "      <td>N</td>\n",
       "      <td>N</td>\n",
       "      <td>N</td>\n",
       "      <td>N</td>\n",
       "      <td>N</td>\n",
       "    </tr>\n",
       "    <tr>\n",
       "      <th>tipodom</th>\n",
       "      <td>1</td>\n",
       "      <td>1</td>\n",
       "      <td>1</td>\n",
       "      <td>1</td>\n",
       "      <td>1</td>\n",
       "    </tr>\n",
       "    <tr>\n",
       "      <th>cod_prov</th>\n",
       "      <td>29</td>\n",
       "      <td>13</td>\n",
       "      <td>13</td>\n",
       "      <td>50</td>\n",
       "      <td>50</td>\n",
       "    </tr>\n",
       "    <tr>\n",
       "      <th>nomprov</th>\n",
       "      <td>MALAGA</td>\n",
       "      <td>CIUDAD REAL</td>\n",
       "      <td>CIUDAD REAL</td>\n",
       "      <td>ZARAGOZA</td>\n",
       "      <td>ZARAGOZA</td>\n",
       "    </tr>\n",
       "    <tr>\n",
       "      <th>ind_actividad_cliente</th>\n",
       "      <td>1</td>\n",
       "      <td>0</td>\n",
       "      <td>0</td>\n",
       "      <td>0</td>\n",
       "      <td>1</td>\n",
       "    </tr>\n",
       "    <tr>\n",
       "      <th>renta</th>\n",
       "      <td>87218.1</td>\n",
       "      <td>35548.7</td>\n",
       "      <td>122179</td>\n",
       "      <td>119776</td>\n",
       "      <td>NaN</td>\n",
       "    </tr>\n",
       "    <tr>\n",
       "      <th>segmento</th>\n",
       "      <td>02 - PARTICULARES</td>\n",
       "      <td>03 - UNIVERSITARIO</td>\n",
       "      <td>03 - UNIVERSITARIO</td>\n",
       "      <td>03 - UNIVERSITARIO</td>\n",
       "      <td>03 - UNIVERSITARIO</td>\n",
       "    </tr>\n",
       "    <tr>\n",
       "      <th>ind_ahor_fin_ult1</th>\n",
       "      <td>0</td>\n",
       "      <td>0</td>\n",
       "      <td>0</td>\n",
       "      <td>0</td>\n",
       "      <td>0</td>\n",
       "    </tr>\n",
       "    <tr>\n",
       "      <th>ind_aval_fin_ult1</th>\n",
       "      <td>0</td>\n",
       "      <td>0</td>\n",
       "      <td>0</td>\n",
       "      <td>0</td>\n",
       "      <td>0</td>\n",
       "    </tr>\n",
       "    <tr>\n",
       "      <th>ind_cco_fin_ult1</th>\n",
       "      <td>1</td>\n",
       "      <td>1</td>\n",
       "      <td>1</td>\n",
       "      <td>0</td>\n",
       "      <td>1</td>\n",
       "    </tr>\n",
       "    <tr>\n",
       "      <th>ind_cder_fin_ult1</th>\n",
       "      <td>0</td>\n",
       "      <td>0</td>\n",
       "      <td>0</td>\n",
       "      <td>0</td>\n",
       "      <td>0</td>\n",
       "    </tr>\n",
       "    <tr>\n",
       "      <th>ind_cno_fin_ult1</th>\n",
       "      <td>0</td>\n",
       "      <td>0</td>\n",
       "      <td>0</td>\n",
       "      <td>0</td>\n",
       "      <td>0</td>\n",
       "    </tr>\n",
       "    <tr>\n",
       "      <th>ind_ctju_fin_ult1</th>\n",
       "      <td>0</td>\n",
       "      <td>0</td>\n",
       "      <td>0</td>\n",
       "      <td>0</td>\n",
       "      <td>0</td>\n",
       "    </tr>\n",
       "    <tr>\n",
       "      <th>ind_ctma_fin_ult1</th>\n",
       "      <td>0</td>\n",
       "      <td>0</td>\n",
       "      <td>0</td>\n",
       "      <td>0</td>\n",
       "      <td>0</td>\n",
       "    </tr>\n",
       "    <tr>\n",
       "      <th>ind_ctop_fin_ult1</th>\n",
       "      <td>0</td>\n",
       "      <td>0</td>\n",
       "      <td>0</td>\n",
       "      <td>0</td>\n",
       "      <td>0</td>\n",
       "    </tr>\n",
       "    <tr>\n",
       "      <th>ind_ctpp_fin_ult1</th>\n",
       "      <td>0</td>\n",
       "      <td>0</td>\n",
       "      <td>0</td>\n",
       "      <td>0</td>\n",
       "      <td>0</td>\n",
       "    </tr>\n",
       "    <tr>\n",
       "      <th>ind_deco_fin_ult1</th>\n",
       "      <td>0</td>\n",
       "      <td>0</td>\n",
       "      <td>0</td>\n",
       "      <td>1</td>\n",
       "      <td>0</td>\n",
       "    </tr>\n",
       "    <tr>\n",
       "      <th>ind_deme_fin_ult1</th>\n",
       "      <td>0</td>\n",
       "      <td>0</td>\n",
       "      <td>0</td>\n",
       "      <td>0</td>\n",
       "      <td>0</td>\n",
       "    </tr>\n",
       "    <tr>\n",
       "      <th>ind_dela_fin_ult1</th>\n",
       "      <td>0</td>\n",
       "      <td>0</td>\n",
       "      <td>0</td>\n",
       "      <td>0</td>\n",
       "      <td>0</td>\n",
       "    </tr>\n",
       "    <tr>\n",
       "      <th>ind_ecue_fin_ult1</th>\n",
       "      <td>0</td>\n",
       "      <td>0</td>\n",
       "      <td>0</td>\n",
       "      <td>0</td>\n",
       "      <td>0</td>\n",
       "    </tr>\n",
       "    <tr>\n",
       "      <th>ind_fond_fin_ult1</th>\n",
       "      <td>0</td>\n",
       "      <td>0</td>\n",
       "      <td>0</td>\n",
       "      <td>0</td>\n",
       "      <td>0</td>\n",
       "    </tr>\n",
       "    <tr>\n",
       "      <th>ind_hip_fin_ult1</th>\n",
       "      <td>0</td>\n",
       "      <td>0</td>\n",
       "      <td>0</td>\n",
       "      <td>0</td>\n",
       "      <td>0</td>\n",
       "    </tr>\n",
       "    <tr>\n",
       "      <th>ind_plan_fin_ult1</th>\n",
       "      <td>0</td>\n",
       "      <td>0</td>\n",
       "      <td>0</td>\n",
       "      <td>0</td>\n",
       "      <td>0</td>\n",
       "    </tr>\n",
       "    <tr>\n",
       "      <th>ind_pres_fin_ult1</th>\n",
       "      <td>0</td>\n",
       "      <td>0</td>\n",
       "      <td>0</td>\n",
       "      <td>0</td>\n",
       "      <td>0</td>\n",
       "    </tr>\n",
       "    <tr>\n",
       "      <th>ind_reca_fin_ult1</th>\n",
       "      <td>0</td>\n",
       "      <td>0</td>\n",
       "      <td>0</td>\n",
       "      <td>0</td>\n",
       "      <td>0</td>\n",
       "    </tr>\n",
       "    <tr>\n",
       "      <th>ind_tjcr_fin_ult1</th>\n",
       "      <td>0</td>\n",
       "      <td>0</td>\n",
       "      <td>0</td>\n",
       "      <td>0</td>\n",
       "      <td>0</td>\n",
       "    </tr>\n",
       "    <tr>\n",
       "      <th>ind_valo_fin_ult1</th>\n",
       "      <td>0</td>\n",
       "      <td>0</td>\n",
       "      <td>0</td>\n",
       "      <td>0</td>\n",
       "      <td>0</td>\n",
       "    </tr>\n",
       "    <tr>\n",
       "      <th>ind_viv_fin_ult1</th>\n",
       "      <td>0</td>\n",
       "      <td>0</td>\n",
       "      <td>0</td>\n",
       "      <td>0</td>\n",
       "      <td>0</td>\n",
       "    </tr>\n",
       "    <tr>\n",
       "      <th>ind_nomina_ult1</th>\n",
       "      <td>0</td>\n",
       "      <td>0</td>\n",
       "      <td>0</td>\n",
       "      <td>0</td>\n",
       "      <td>0</td>\n",
       "    </tr>\n",
       "    <tr>\n",
       "      <th>ind_nom_pens_ult1</th>\n",
       "      <td>0</td>\n",
       "      <td>0</td>\n",
       "      <td>0</td>\n",
       "      <td>0</td>\n",
       "      <td>0</td>\n",
       "    </tr>\n",
       "    <tr>\n",
       "      <th>ind_recibo_ult1</th>\n",
       "      <td>0</td>\n",
       "      <td>0</td>\n",
       "      <td>0</td>\n",
       "      <td>0</td>\n",
       "      <td>0</td>\n",
       "    </tr>\n",
       "  </tbody>\n",
       "</table>\n",
       "</div>"
      ],
      "text/plain": [
       "                                       0                   1  \\\n",
       "fecha_dato                    2015-01-28          2015-01-28   \n",
       "ncodpers                         1375586             1050611   \n",
       "ind_empleado                           N                   N   \n",
       "pais_residencia                       ES                  ES   \n",
       "sexo                                   H                   V   \n",
       "age                                   35                  23   \n",
       "fecha_alta                    2015-01-12          2012-08-10   \n",
       "ind_nuevo                              0                   0   \n",
       "antiguedad                             6                  35   \n",
       "indrel                                 1                   1   \n",
       "ult_fec_cli_1t                       NaN                 NaN   \n",
       "indrel_1mes                            1                   1   \n",
       "tiprel_1mes                            A                   I   \n",
       "indresi                                S                   S   \n",
       "indext                                 N                   S   \n",
       "conyuemp                             NaN                 NaN   \n",
       "canal_entrada                        KHL                 KHE   \n",
       "indfall                                N                   N   \n",
       "tipodom                                1                   1   \n",
       "cod_prov                              29                  13   \n",
       "nomprov                           MALAGA         CIUDAD REAL   \n",
       "ind_actividad_cliente                  1                   0   \n",
       "renta                            87218.1             35548.7   \n",
       "segmento               02 - PARTICULARES  03 - UNIVERSITARIO   \n",
       "ind_ahor_fin_ult1                      0                   0   \n",
       "ind_aval_fin_ult1                      0                   0   \n",
       "ind_cco_fin_ult1                       1                   1   \n",
       "ind_cder_fin_ult1                      0                   0   \n",
       "ind_cno_fin_ult1                       0                   0   \n",
       "ind_ctju_fin_ult1                      0                   0   \n",
       "ind_ctma_fin_ult1                      0                   0   \n",
       "ind_ctop_fin_ult1                      0                   0   \n",
       "ind_ctpp_fin_ult1                      0                   0   \n",
       "ind_deco_fin_ult1                      0                   0   \n",
       "ind_deme_fin_ult1                      0                   0   \n",
       "ind_dela_fin_ult1                      0                   0   \n",
       "ind_ecue_fin_ult1                      0                   0   \n",
       "ind_fond_fin_ult1                      0                   0   \n",
       "ind_hip_fin_ult1                       0                   0   \n",
       "ind_plan_fin_ult1                      0                   0   \n",
       "ind_pres_fin_ult1                      0                   0   \n",
       "ind_reca_fin_ult1                      0                   0   \n",
       "ind_tjcr_fin_ult1                      0                   0   \n",
       "ind_valo_fin_ult1                      0                   0   \n",
       "ind_viv_fin_ult1                       0                   0   \n",
       "ind_nomina_ult1                        0                   0   \n",
       "ind_nom_pens_ult1                      0                   0   \n",
       "ind_recibo_ult1                        0                   0   \n",
       "\n",
       "                                        2                   3  \\\n",
       "fecha_dato                     2015-01-28          2015-01-28   \n",
       "ncodpers                          1050612             1050613   \n",
       "ind_empleado                            N                   N   \n",
       "pais_residencia                        ES                  ES   \n",
       "sexo                                    V                   H   \n",
       "age                                    23                  22   \n",
       "fecha_alta                     2012-08-10          2012-08-10   \n",
       "ind_nuevo                               0                   0   \n",
       "antiguedad                             35                  35   \n",
       "indrel                                  1                   1   \n",
       "ult_fec_cli_1t                        NaN                 NaN   \n",
       "indrel_1mes                             1                   1   \n",
       "tiprel_1mes                             I                   I   \n",
       "indresi                                 S                   S   \n",
       "indext                                  N                   N   \n",
       "conyuemp                              NaN                 NaN   \n",
       "canal_entrada                         KHE                 KHD   \n",
       "indfall                                 N                   N   \n",
       "tipodom                                 1                   1   \n",
       "cod_prov                               13                  50   \n",
       "nomprov                       CIUDAD REAL            ZARAGOZA   \n",
       "ind_actividad_cliente                   0                   0   \n",
       "renta                              122179              119776   \n",
       "segmento               03 - UNIVERSITARIO  03 - UNIVERSITARIO   \n",
       "ind_ahor_fin_ult1                       0                   0   \n",
       "ind_aval_fin_ult1                       0                   0   \n",
       "ind_cco_fin_ult1                        1                   0   \n",
       "ind_cder_fin_ult1                       0                   0   \n",
       "ind_cno_fin_ult1                        0                   0   \n",
       "ind_ctju_fin_ult1                       0                   0   \n",
       "ind_ctma_fin_ult1                       0                   0   \n",
       "ind_ctop_fin_ult1                       0                   0   \n",
       "ind_ctpp_fin_ult1                       0                   0   \n",
       "ind_deco_fin_ult1                       0                   1   \n",
       "ind_deme_fin_ult1                       0                   0   \n",
       "ind_dela_fin_ult1                       0                   0   \n",
       "ind_ecue_fin_ult1                       0                   0   \n",
       "ind_fond_fin_ult1                       0                   0   \n",
       "ind_hip_fin_ult1                        0                   0   \n",
       "ind_plan_fin_ult1                       0                   0   \n",
       "ind_pres_fin_ult1                       0                   0   \n",
       "ind_reca_fin_ult1                       0                   0   \n",
       "ind_tjcr_fin_ult1                       0                   0   \n",
       "ind_valo_fin_ult1                       0                   0   \n",
       "ind_viv_fin_ult1                        0                   0   \n",
       "ind_nomina_ult1                         0                   0   \n",
       "ind_nom_pens_ult1                       0                   0   \n",
       "ind_recibo_ult1                         0                   0   \n",
       "\n",
       "                                        4  \n",
       "fecha_dato                     2015-01-28  \n",
       "ncodpers                          1050614  \n",
       "ind_empleado                            N  \n",
       "pais_residencia                        ES  \n",
       "sexo                                    V  \n",
       "age                                    23  \n",
       "fecha_alta                     2012-08-10  \n",
       "ind_nuevo                               0  \n",
       "antiguedad                             35  \n",
       "indrel                                  1  \n",
       "ult_fec_cli_1t                        NaN  \n",
       "indrel_1mes                             1  \n",
       "tiprel_1mes                             A  \n",
       "indresi                                 S  \n",
       "indext                                  N  \n",
       "conyuemp                              NaN  \n",
       "canal_entrada                         KHE  \n",
       "indfall                                 N  \n",
       "tipodom                                 1  \n",
       "cod_prov                               50  \n",
       "nomprov                          ZARAGOZA  \n",
       "ind_actividad_cliente                   1  \n",
       "renta                                 NaN  \n",
       "segmento               03 - UNIVERSITARIO  \n",
       "ind_ahor_fin_ult1                       0  \n",
       "ind_aval_fin_ult1                       0  \n",
       "ind_cco_fin_ult1                        1  \n",
       "ind_cder_fin_ult1                       0  \n",
       "ind_cno_fin_ult1                        0  \n",
       "ind_ctju_fin_ult1                       0  \n",
       "ind_ctma_fin_ult1                       0  \n",
       "ind_ctop_fin_ult1                       0  \n",
       "ind_ctpp_fin_ult1                       0  \n",
       "ind_deco_fin_ult1                       0  \n",
       "ind_deme_fin_ult1                       0  \n",
       "ind_dela_fin_ult1                       0  \n",
       "ind_ecue_fin_ult1                       0  \n",
       "ind_fond_fin_ult1                       0  \n",
       "ind_hip_fin_ult1                        0  \n",
       "ind_plan_fin_ult1                       0  \n",
       "ind_pres_fin_ult1                       0  \n",
       "ind_reca_fin_ult1                       0  \n",
       "ind_tjcr_fin_ult1                       0  \n",
       "ind_valo_fin_ult1                       0  \n",
       "ind_viv_fin_ult1                        0  \n",
       "ind_nomina_ult1                         0  \n",
       "ind_nom_pens_ult1                       0  \n",
       "ind_recibo_ult1                         0  "
      ]
     },
     "execution_count": 3,
     "metadata": {},
     "output_type": "execute_result"
    }
   ],
   "source": [
    "df.head().T"
   ]
  },
  {
   "cell_type": "code",
   "execution_count": 4,
   "metadata": {},
   "outputs": [],
   "source": [
    "unique_ids = pd.Series(df['ncodpers'].unique())"
   ]
  },
  {
   "cell_type": "code",
   "execution_count": 5,
   "metadata": {},
   "outputs": [
    {
     "data": {
      "text/html": [
       "<div>\n",
       "<style scoped>\n",
       "    .dataframe tbody tr th:only-of-type {\n",
       "        vertical-align: middle;\n",
       "    }\n",
       "\n",
       "    .dataframe tbody tr th {\n",
       "        vertical-align: top;\n",
       "    }\n",
       "\n",
       "    .dataframe thead th {\n",
       "        text-align: right;\n",
       "    }\n",
       "</style>\n",
       "<table border=\"1\" class=\"dataframe\">\n",
       "  <thead>\n",
       "    <tr style=\"text-align: right;\">\n",
       "      <th></th>\n",
       "      <th>ncodpers</th>\n",
       "      <th>ind_nuevo</th>\n",
       "      <th>indrel</th>\n",
       "      <th>tipodom</th>\n",
       "      <th>cod_prov</th>\n",
       "      <th>ind_actividad_cliente</th>\n",
       "      <th>renta</th>\n",
       "      <th>ind_ahor_fin_ult1</th>\n",
       "      <th>ind_aval_fin_ult1</th>\n",
       "      <th>ind_cco_fin_ult1</th>\n",
       "      <th>...</th>\n",
       "      <th>ind_hip_fin_ult1</th>\n",
       "      <th>ind_plan_fin_ult1</th>\n",
       "      <th>ind_pres_fin_ult1</th>\n",
       "      <th>ind_reca_fin_ult1</th>\n",
       "      <th>ind_tjcr_fin_ult1</th>\n",
       "      <th>ind_valo_fin_ult1</th>\n",
       "      <th>ind_viv_fin_ult1</th>\n",
       "      <th>ind_nomina_ult1</th>\n",
       "      <th>ind_nom_pens_ult1</th>\n",
       "      <th>ind_recibo_ult1</th>\n",
       "    </tr>\n",
       "  </thead>\n",
       "  <tbody>\n",
       "    <tr>\n",
       "      <th>count</th>\n",
       "      <td>9.287800e+04</td>\n",
       "      <td>92445.000000</td>\n",
       "      <td>92445.000000</td>\n",
       "      <td>92445.0</td>\n",
       "      <td>92088.000000</td>\n",
       "      <td>92445.000000</td>\n",
       "      <td>7.646300e+04</td>\n",
       "      <td>92878.0</td>\n",
       "      <td>92878.0</td>\n",
       "      <td>92878.000000</td>\n",
       "      <td>...</td>\n",
       "      <td>92878.000000</td>\n",
       "      <td>92878.000000</td>\n",
       "      <td>92878.000000</td>\n",
       "      <td>92878.000000</td>\n",
       "      <td>92878.000000</td>\n",
       "      <td>92878.000000</td>\n",
       "      <td>92878.000000</td>\n",
       "      <td>92618.000000</td>\n",
       "      <td>92618.000000</td>\n",
       "      <td>92878.000000</td>\n",
       "    </tr>\n",
       "    <tr>\n",
       "      <th>mean</th>\n",
       "      <td>8.037766e+05</td>\n",
       "      <td>0.040132</td>\n",
       "      <td>1.154773</td>\n",
       "      <td>1.0</td>\n",
       "      <td>26.564927</td>\n",
       "      <td>0.490789</td>\n",
       "      <td>1.328334e+05</td>\n",
       "      <td>0.0</td>\n",
       "      <td>0.0</td>\n",
       "      <td>0.712268</td>\n",
       "      <td>...</td>\n",
       "      <td>0.007881</td>\n",
       "      <td>0.009561</td>\n",
       "      <td>0.004091</td>\n",
       "      <td>0.053716</td>\n",
       "      <td>0.046577</td>\n",
       "      <td>0.025657</td>\n",
       "      <td>0.004867</td>\n",
       "      <td>0.053305</td>\n",
       "      <td>0.058563</td>\n",
       "      <td>0.127931</td>\n",
       "    </tr>\n",
       "    <tr>\n",
       "      <th>std</th>\n",
       "      <td>4.208172e+05</td>\n",
       "      <td>0.196270</td>\n",
       "      <td>3.891526</td>\n",
       "      <td>0.0</td>\n",
       "      <td>12.828550</td>\n",
       "      <td>0.499918</td>\n",
       "      <td>2.076223e+05</td>\n",
       "      <td>0.0</td>\n",
       "      <td>0.0</td>\n",
       "      <td>0.452708</td>\n",
       "      <td>...</td>\n",
       "      <td>0.088427</td>\n",
       "      <td>0.097312</td>\n",
       "      <td>0.063833</td>\n",
       "      <td>0.225457</td>\n",
       "      <td>0.210733</td>\n",
       "      <td>0.158112</td>\n",
       "      <td>0.069591</td>\n",
       "      <td>0.224642</td>\n",
       "      <td>0.234806</td>\n",
       "      <td>0.334015</td>\n",
       "    </tr>\n",
       "    <tr>\n",
       "      <th>min</th>\n",
       "      <td>1.606200e+04</td>\n",
       "      <td>0.000000</td>\n",
       "      <td>1.000000</td>\n",
       "      <td>1.0</td>\n",
       "      <td>1.000000</td>\n",
       "      <td>0.000000</td>\n",
       "      <td>5.437620e+03</td>\n",
       "      <td>0.0</td>\n",
       "      <td>0.0</td>\n",
       "      <td>0.000000</td>\n",
       "      <td>...</td>\n",
       "      <td>0.000000</td>\n",
       "      <td>0.000000</td>\n",
       "      <td>0.000000</td>\n",
       "      <td>0.000000</td>\n",
       "      <td>0.000000</td>\n",
       "      <td>0.000000</td>\n",
       "      <td>0.000000</td>\n",
       "      <td>0.000000</td>\n",
       "      <td>0.000000</td>\n",
       "      <td>0.000000</td>\n",
       "    </tr>\n",
       "    <tr>\n",
       "      <th>25%</th>\n",
       "      <td>4.177190e+05</td>\n",
       "      <td>0.000000</td>\n",
       "      <td>1.000000</td>\n",
       "      <td>1.0</td>\n",
       "      <td>15.000000</td>\n",
       "      <td>0.000000</td>\n",
       "      <td>6.911985e+04</td>\n",
       "      <td>0.0</td>\n",
       "      <td>0.0</td>\n",
       "      <td>0.000000</td>\n",
       "      <td>...</td>\n",
       "      <td>0.000000</td>\n",
       "      <td>0.000000</td>\n",
       "      <td>0.000000</td>\n",
       "      <td>0.000000</td>\n",
       "      <td>0.000000</td>\n",
       "      <td>0.000000</td>\n",
       "      <td>0.000000</td>\n",
       "      <td>0.000000</td>\n",
       "      <td>0.000000</td>\n",
       "      <td>0.000000</td>\n",
       "    </tr>\n",
       "    <tr>\n",
       "      <th>50%</th>\n",
       "      <td>9.254240e+05</td>\n",
       "      <td>0.000000</td>\n",
       "      <td>1.000000</td>\n",
       "      <td>1.0</td>\n",
       "      <td>28.000000</td>\n",
       "      <td>0.000000</td>\n",
       "      <td>1.018662e+05</td>\n",
       "      <td>0.0</td>\n",
       "      <td>0.0</td>\n",
       "      <td>1.000000</td>\n",
       "      <td>...</td>\n",
       "      <td>0.000000</td>\n",
       "      <td>0.000000</td>\n",
       "      <td>0.000000</td>\n",
       "      <td>0.000000</td>\n",
       "      <td>0.000000</td>\n",
       "      <td>0.000000</td>\n",
       "      <td>0.000000</td>\n",
       "      <td>0.000000</td>\n",
       "      <td>0.000000</td>\n",
       "      <td>0.000000</td>\n",
       "    </tr>\n",
       "    <tr>\n",
       "      <th>75%</th>\n",
       "      <td>1.162000e+06</td>\n",
       "      <td>0.000000</td>\n",
       "      <td>1.000000</td>\n",
       "      <td>1.0</td>\n",
       "      <td>35.000000</td>\n",
       "      <td>1.000000</td>\n",
       "      <td>1.551831e+05</td>\n",
       "      <td>0.0</td>\n",
       "      <td>0.0</td>\n",
       "      <td>1.000000</td>\n",
       "      <td>...</td>\n",
       "      <td>0.000000</td>\n",
       "      <td>0.000000</td>\n",
       "      <td>0.000000</td>\n",
       "      <td>0.000000</td>\n",
       "      <td>0.000000</td>\n",
       "      <td>0.000000</td>\n",
       "      <td>0.000000</td>\n",
       "      <td>0.000000</td>\n",
       "      <td>0.000000</td>\n",
       "      <td>0.000000</td>\n",
       "    </tr>\n",
       "    <tr>\n",
       "      <th>max</th>\n",
       "      <td>1.495458e+06</td>\n",
       "      <td>1.000000</td>\n",
       "      <td>99.000000</td>\n",
       "      <td>1.0</td>\n",
       "      <td>52.000000</td>\n",
       "      <td>1.000000</td>\n",
       "      <td>1.326862e+07</td>\n",
       "      <td>0.0</td>\n",
       "      <td>0.0</td>\n",
       "      <td>1.000000</td>\n",
       "      <td>...</td>\n",
       "      <td>1.000000</td>\n",
       "      <td>1.000000</td>\n",
       "      <td>1.000000</td>\n",
       "      <td>1.000000</td>\n",
       "      <td>1.000000</td>\n",
       "      <td>1.000000</td>\n",
       "      <td>1.000000</td>\n",
       "      <td>1.000000</td>\n",
       "      <td>1.000000</td>\n",
       "      <td>1.000000</td>\n",
       "    </tr>\n",
       "  </tbody>\n",
       "</table>\n",
       "<p>8 rows × 31 columns</p>\n",
       "</div>"
      ],
      "text/plain": [
       "           ncodpers     ind_nuevo        indrel  tipodom      cod_prov  \\\n",
       "count  9.287800e+04  92445.000000  92445.000000  92445.0  92088.000000   \n",
       "mean   8.037766e+05      0.040132      1.154773      1.0     26.564927   \n",
       "std    4.208172e+05      0.196270      3.891526      0.0     12.828550   \n",
       "min    1.606200e+04      0.000000      1.000000      1.0      1.000000   \n",
       "25%    4.177190e+05      0.000000      1.000000      1.0     15.000000   \n",
       "50%    9.254240e+05      0.000000      1.000000      1.0     28.000000   \n",
       "75%    1.162000e+06      0.000000      1.000000      1.0     35.000000   \n",
       "max    1.495458e+06      1.000000     99.000000      1.0     52.000000   \n",
       "\n",
       "       ind_actividad_cliente         renta  ind_ahor_fin_ult1  \\\n",
       "count           92445.000000  7.646300e+04            92878.0   \n",
       "mean                0.490789  1.328334e+05                0.0   \n",
       "std                 0.499918  2.076223e+05                0.0   \n",
       "min                 0.000000  5.437620e+03                0.0   \n",
       "25%                 0.000000  6.911985e+04                0.0   \n",
       "50%                 0.000000  1.018662e+05                0.0   \n",
       "75%                 1.000000  1.551831e+05                0.0   \n",
       "max                 1.000000  1.326862e+07                0.0   \n",
       "\n",
       "       ind_aval_fin_ult1  ind_cco_fin_ult1       ...         ind_hip_fin_ult1  \\\n",
       "count            92878.0      92878.000000       ...             92878.000000   \n",
       "mean                 0.0          0.712268       ...                 0.007881   \n",
       "std                  0.0          0.452708       ...                 0.088427   \n",
       "min                  0.0          0.000000       ...                 0.000000   \n",
       "25%                  0.0          0.000000       ...                 0.000000   \n",
       "50%                  0.0          1.000000       ...                 0.000000   \n",
       "75%                  0.0          1.000000       ...                 0.000000   \n",
       "max                  0.0          1.000000       ...                 1.000000   \n",
       "\n",
       "       ind_plan_fin_ult1  ind_pres_fin_ult1  ind_reca_fin_ult1  \\\n",
       "count       92878.000000       92878.000000       92878.000000   \n",
       "mean            0.009561           0.004091           0.053716   \n",
       "std             0.097312           0.063833           0.225457   \n",
       "min             0.000000           0.000000           0.000000   \n",
       "25%             0.000000           0.000000           0.000000   \n",
       "50%             0.000000           0.000000           0.000000   \n",
       "75%             0.000000           0.000000           0.000000   \n",
       "max             1.000000           1.000000           1.000000   \n",
       "\n",
       "       ind_tjcr_fin_ult1  ind_valo_fin_ult1  ind_viv_fin_ult1  \\\n",
       "count       92878.000000       92878.000000      92878.000000   \n",
       "mean            0.046577           0.025657          0.004867   \n",
       "std             0.210733           0.158112          0.069591   \n",
       "min             0.000000           0.000000          0.000000   \n",
       "25%             0.000000           0.000000          0.000000   \n",
       "50%             0.000000           0.000000          0.000000   \n",
       "75%             0.000000           0.000000          0.000000   \n",
       "max             1.000000           1.000000          1.000000   \n",
       "\n",
       "       ind_nomina_ult1  ind_nom_pens_ult1  ind_recibo_ult1  \n",
       "count     92618.000000       92618.000000     92878.000000  \n",
       "mean          0.053305           0.058563         0.127931  \n",
       "std           0.224642           0.234806         0.334015  \n",
       "min           0.000000           0.000000         0.000000  \n",
       "25%           0.000000           0.000000         0.000000  \n",
       "50%           0.000000           0.000000         0.000000  \n",
       "75%           0.000000           0.000000         0.000000  \n",
       "max           1.000000           1.000000         1.000000  \n",
       "\n",
       "[8 rows x 31 columns]"
      ]
     },
     "execution_count": 5,
     "metadata": {},
     "output_type": "execute_result"
    }
   ],
   "source": [
    "limit_people = 12000\n",
    "unique_id = unique_ids.sample(limit_people)\n",
    "df = df[df.ncodpers.isin(unique_id)]\n",
    "df.describe()"
   ]
  },
  {
   "cell_type": "markdown",
   "metadata": {},
   "source": [
    "Convert datatime"
   ]
  },
  {
   "cell_type": "code",
   "execution_count": 6,
   "metadata": {},
   "outputs": [],
   "source": [
    "df['fecha_dato'] = pd.to_datetime(df['fecha_dato'], format='%Y-%m-%d')\n",
    "df['fecha_alta'] = pd.to_datetime(df['fecha_alta'], format='%Y-%m-%d')"
   ]
  },
  {
   "cell_type": "markdown",
   "metadata": {},
   "source": [
    "Month of samples"
   ]
  },
  {
   "cell_type": "code",
   "execution_count": 7,
   "metadata": {},
   "outputs": [],
   "source": [
    "df['month'] = pd.DatetimeIndex(df['fecha_dato']).month"
   ]
  },
  {
   "cell_type": "code",
   "execution_count": 8,
   "metadata": {},
   "outputs": [],
   "source": [
    "df.age = pd.to_numeric(df.age, errors='coerce')"
   ]
  },
  {
   "cell_type": "markdown",
   "metadata": {},
   "source": [
    "Missing values of each column"
   ]
  },
  {
   "cell_type": "code",
   "execution_count": 9,
   "metadata": {},
   "outputs": [
    {
     "data": {
      "text/plain": [
       "fecha_dato               False\n",
       "ncodpers                 False\n",
       "ind_empleado              True\n",
       "pais_residencia           True\n",
       "sexo                      True\n",
       "age                       True\n",
       "fecha_alta                True\n",
       "ind_nuevo                 True\n",
       "antiguedad               False\n",
       "indrel                    True\n",
       "ult_fec_cli_1t            True\n",
       "indrel_1mes               True\n",
       "tiprel_1mes               True\n",
       "indresi                   True\n",
       "indext                    True\n",
       "conyuemp                  True\n",
       "canal_entrada             True\n",
       "indfall                   True\n",
       "tipodom                   True\n",
       "cod_prov                  True\n",
       "nomprov                   True\n",
       "ind_actividad_cliente     True\n",
       "renta                     True\n",
       "segmento                  True\n",
       "ind_ahor_fin_ult1        False\n",
       "ind_aval_fin_ult1        False\n",
       "ind_cco_fin_ult1         False\n",
       "ind_cder_fin_ult1        False\n",
       "ind_cno_fin_ult1         False\n",
       "ind_ctju_fin_ult1        False\n",
       "ind_ctma_fin_ult1        False\n",
       "ind_ctop_fin_ult1        False\n",
       "ind_ctpp_fin_ult1        False\n",
       "ind_deco_fin_ult1        False\n",
       "ind_deme_fin_ult1        False\n",
       "ind_dela_fin_ult1        False\n",
       "ind_ecue_fin_ult1        False\n",
       "ind_fond_fin_ult1        False\n",
       "ind_hip_fin_ult1         False\n",
       "ind_plan_fin_ult1        False\n",
       "ind_pres_fin_ult1        False\n",
       "ind_reca_fin_ult1        False\n",
       "ind_tjcr_fin_ult1        False\n",
       "ind_valo_fin_ult1        False\n",
       "ind_viv_fin_ult1         False\n",
       "ind_nomina_ult1           True\n",
       "ind_nom_pens_ult1         True\n",
       "ind_recibo_ult1          False\n",
       "month                    False\n",
       "dtype: bool"
      ]
     },
     "execution_count": 9,
     "metadata": {},
     "output_type": "execute_result"
    }
   ],
   "source": [
    "df.isnull().any()"
   ]
  },
  {
   "cell_type": "markdown",
   "metadata": {},
   "source": [
    "## Data Cleaning"
   ]
  },
  {
   "cell_type": "markdown",
   "metadata": {},
   "source": [
    "`age`\n",
    "\n",
    "**Note the threshold of age groups might be improved**"
   ]
  },
  {
   "cell_type": "code",
   "execution_count": 10,
   "metadata": {},
   "outputs": [
    {
     "data": {
      "image/png": "[encoded data removed]",
      "text/plain": [
       "<Figure size 1152x648 with 1 Axes>"
      ]
     },
     "metadata": {},
     "output_type": "display_data"
    }
   ],
   "source": [
    "with sns.plotting_context(\"notebook\",font_scale=1.5):\n",
    "    plt.figure(figsize=(16, 9))\n",
    "    sns.set_style(\"whitegrid\")\n",
    "    sns.distplot(df[\"age\"].dropna(),\n",
    "                 bins=80,\n",
    "                 kde=False,\n",
    "                 color=\"tomato\")\n",
    "    plt.title(\"Age Distribution\")\n",
    "    plt.ylabel(\"Count\")"
   ]
  },
  {
   "cell_type": "code",
   "execution_count": 13,
   "metadata": {},
   "outputs": [],
   "source": [
    "df.loc[df.age<18, 'age'] = df.loc[(df.age>=18) & (df.age<30), 'age'].mean(skipna=True)\n",
    "df.loc[df.age>100, 'age'] = df.loc[(df.age>=30) & (df.age<100), 'age'].mean(skipna=True)\n",
    "df.age.fillna(df.age.mean(), inplace=True)\n",
    "df.age = df.age.astype(np.int8)"
   ]
  },
  {
   "cell_type": "code",
   "execution_count": 17,
   "metadata": {},
   "outputs": [
    {
     "data": {
      "image/png": "[encoded data removed]",
      "text/plain": [
       "<Figure size 1152x648 with 1 Axes>"
      ]
     },
     "metadata": {},
     "output_type": "display_data"
    }
   ],
   "source": [
    "with sns.plotting_context(\"notebook\",font_scale=1.5):\n",
    "    plt.figure(figsize=(16, 9))\n",
    "    sns.set_style(\"whitegrid\")\n",
    "    sns.distplot(df[\"age\"].dropna(),\n",
    "                 bins=80,\n",
    "                 kde=False,\n",
    "                 color=\"tomato\")\n",
    "    plt.title(\"Age Distribution\")\n",
    "    plt.ylabel(\"Count\")\n",
    "    plt.xlim((15,100))"
   ]
  },
  {
   "cell_type": "markdown",
   "metadata": {},
   "source": [
    "`ind_nuevo`, if a customer is new or not\n",
    "\n",
    "**Note that `ind_nuevo` should be a function of `fecha_dato` and `fecha_alta`**"
   ]
  },
  {
   "cell_type": "code",
   "execution_count": 24,
   "metadata": {},
   "outputs": [
    {
     "data": {
      "text/plain": [
       "Index(['fecha_dato', 'ncodpers', 'ind_empleado', 'pais_residencia', 'sexo',\n",
       "       'age', 'fecha_alta', 'ind_nuevo', 'antiguedad', 'indrel',\n",
       "       'ult_fec_cli_1t', 'indrel_1mes', 'tiprel_1mes', 'indresi', 'indext',\n",
       "       'conyuemp', 'canal_entrada', 'indfall', 'tipodom', 'cod_prov',\n",
       "       'nomprov', 'ind_actividad_cliente', 'renta', 'segmento',\n",
       "       'ind_ahor_fin_ult1', 'ind_aval_fin_ult1', 'ind_cco_fin_ult1',\n",
       "       'ind_cder_fin_ult1', 'ind_cno_fin_ult1', 'ind_ctju_fin_ult1',\n",
       "       'ind_ctma_fin_ult1', 'ind_ctop_fin_ult1', 'ind_ctpp_fin_ult1',\n",
       "       'ind_deco_fin_ult1', 'ind_deme_fin_ult1', 'ind_dela_fin_ult1',\n",
       "       'ind_ecue_fin_ult1', 'ind_fond_fin_ult1', 'ind_hip_fin_ult1',\n",
       "       'ind_plan_fin_ult1', 'ind_pres_fin_ult1', 'ind_reca_fin_ult1',\n",
       "       'ind_tjcr_fin_ult1', 'ind_valo_fin_ult1', 'ind_viv_fin_ult1',\n",
       "       'ind_nomina_ult1', 'ind_nom_pens_ult1', 'ind_recibo_ult1', 'month'],\n",
       "      dtype='object')"
      ]
     },
     "execution_count": 24,
     "metadata": {},
     "output_type": "execute_result"
    }
   ],
   "source": [
    "df.columns"
   ]
  },
  {
   "cell_type": "code",
   "execution_count": 36,
   "metadata": {},
   "outputs": [
    {
     "data": {
      "text/plain": [
       "6"
      ]
     },
     "execution_count": 36,
     "metadata": {},
     "output_type": "execute_result"
    }
   ],
   "source": [
    "date_first_active = df.loc[df.ind_nuevo.isnull(), :].groupby('ncodpers', sort=False)['fecha_dato'].size()\n",
    "date_first_active.max()"
   ]
  },
  {
   "cell_type": "code",
   "execution_count": 37,
   "metadata": {},
   "outputs": [],
   "source": [
    "df.loc[df.ind_nuevo.isnull(), 'ind_nuevo'] = 1"
   ]
  },
  {
   "cell_type": "code",
   "execution_count": 38,
   "metadata": {},
   "outputs": [
    {
     "data": {
      "text/plain": [
       "0"
      ]
     },
     "execution_count": 38,
     "metadata": {},
     "output_type": "execute_result"
    }
   ],
   "source": [
    "df.ind_nuevo.isnull().sum()"
   ]
  },
  {
   "cell_type": "markdown",
   "metadata": {},
   "source": [
    "`antiguedad` Customer seniority (in months)"
   ]
  },
  {
   "cell_type": "code",
   "execution_count": 42,
   "metadata": {},
   "outputs": [
    {
     "data": {
      "text/plain": [
       "array(['     35', '     34', '     33', '     NA', '     36', '     27',\n",
       "       '     31', '     38', '     37', '     39', '      8', '     32',\n",
       "       '     28', '     29', '     22', '     26', '     30', '     10',\n",
       "       '     47', '     44', '     46', '     12', '     45', '     57',\n",
       "       '     58', '     59', '     48', '     54', '     53', '     55',\n",
       "       '     56', '     51', '     62', '     63', '     60', '     24',\n",
       "       '     61', '     50', '     52', '     49', '     42', '     13',\n",
       "       '     43', '     21', '     41', '     40', '     25', '     16',\n",
       "       '      9', '     11', '     18', '     14', '     15', '      7',\n",
       "       '      6', '     23', '     20', '     19', '     17', '      2',\n",
       "       '    165', '    113', '    160', '    164', '    129', '    187',\n",
       "       '    138', '    166', '    167', '    108', '    168', '     67',\n",
       "       '    157', '     84', '    133', '    150', '    163', '    125',\n",
       "       '     85', '    162', '    116', '    106', '    109', '    115',\n",
       "       '    153', '    172', '    171', '     68', '    135', '    156',\n",
       "       '    137', '    202', '    142', '     81', '    148', '    174',\n",
       "       '    173', '    114', '    145', '     96', '    121', '    169',\n",
       "       '    102', '    119', '    141', '     99', '    155', '    170',\n",
       "       '    122', '     90', '    154', '    151', '     86', '    152',\n",
       "       '    140', '    110', '     83', '    147', '    146', '    126',\n",
       "       '    149', '    111', '    144', '    112', '     82', '    235',\n",
       "       '     73', '    161', '    158', '     64', '    159', '     79',\n",
       "       '    128', '     78', '    139', '    117', '     88', '    184',\n",
       "       '    209', '    178', '    208', '    210', '    211', '    185',\n",
       "       '    180', '    207', '    206', '    182', '    213', '    212',\n",
       "       '    216', '    215', '    214', '    194', '    198', '    201',\n",
       "       '    200', '    217', '    199', '    186', '    197', '     89',\n",
       "       '    205', '    189', '    123', '    204', '    203', '    193',\n",
       "       '    233', '    229', '    234', '    232', '    231', '     92',\n",
       "       '     77', '    218', '    226', '    227', '    225', '    241',\n",
       "       '    240', '    239', '    221', '    242', '    245', '    220',\n",
       "       '    243', '    244', '    238', '    237', '    236', '    219',\n",
       "       '    190', '    100', '     76', '    196', '    179', '    224',\n",
       "       '    228', '    223', '     66', '    222', '    177', '    195',\n",
       "       '    175', '    181', '     98', '    183', '    176', '    118',\n",
       "       '     70', '    103', '    192', '    120', '     80', '    188',\n",
       "       '    191', '    143', '    134', '     97', '     95', '     94',\n",
       "       '    101', '     91', '     93', '    107', '     72', '    105',\n",
       "       '    104', '     75', '     74', '     69', '     65', '     71',\n",
       "       '     87', '    136', '    130', '    127', '    132', '    131',\n",
       "       '    124', '      5', '      4', '      3', '      1', 105, 104,\n",
       "       26, 99, 100, 54, 70, 94, 12, 111, 60, 107, 32, 110, 93, 27, 108,\n",
       "       74, 0, 129, 59, 7, 112, 113, 109, 62, 16, 61, 64, 66, 106, 33, 96,\n",
       "       97, 95, 98, 55, 92, 49, 29, 5, 89, 34, 82, 63, 102, 101, 78, 11,\n",
       "       23, 103, 77, 48, 53, 65, 45, 2, 127, 126, 9, 125, 4, 128, 121, 124,\n",
       "       119, 123, 122, 79, 83, 133, 132, 134, 117, 116, 130, 28, 86, 131,\n",
       "       115, 118, 81, 14, 114, 37, 25, 18, 40, 120, 8, 36, 58, 3, 87, 31,\n",
       "       80, 88, 56, 51, 57, 42, 50, 13, 19, 52, 24, 46, 47, 44, 85, 84, 10,\n",
       "       39, 91, 90, 1, 67, 20, 76, 75, 73, 72, 35, 68, 69, 6, 71, 184, 185,\n",
       "       150, 161, 183, 157, 186, 162, 141, 169, 140, 178, 181, 180, 170,\n",
       "       159, 182, 175, 195, 165, 204, 176, 166, 145, 193, 192, 151, 191,\n",
       "       168, 189, 158, 143, 172, 194, 208, 144, 209, 188, 171, 187, 146,\n",
       "       153, 149, 190, 173, 177, 234, 156, 174, 142, 138, 167, 202, 135,\n",
       "       137, 148, 155, 179, 154, 164, 222, 221, 220, 223, 206, 217, 210,\n",
       "       199, 225, 224, 226, 214, 216, 215, 207, 200, 213, 163, 219, 196,\n",
       "       218, 197, 237, 238, 236, 235, 233, 242, 240, 241, 244, 243, 245,\n",
       "       211, 239, 231, 229, 228, 227, 147, 232, 205, 201, 198, 203, 212,\n",
       "       160, 152, 30, 136, 139, 43, 38, 22, 21, 41, 17, 15, 230, 246, 247,\n",
       "       248], dtype=object)"
      ]
     },
     "execution_count": 42,
     "metadata": {},
     "output_type": "execute_result"
    }
   ],
   "source": [
    "df.antiguedad.unique()"
   ]
  },
  {
   "cell_type": "code",
   "execution_count": 43,
   "metadata": {},
   "outputs": [
    {
     "data": {
      "text/plain": [
       "433"
      ]
     },
     "execution_count": 43,
     "metadata": {},
     "output_type": "execute_result"
    }
   ],
   "source": [
    "df.antiguedad = pd.to_numeric(df.antiguedad, errors='coerce')\n",
    "np.sum(df.antiguedad.isnull())"
   ]
  },
  {
   "cell_type": "markdown",
   "metadata": {},
   "source": [
    "The number of nulls in `antiguedad` is the same as `ind_nuevo`, maybe it's the same group of customers\n",
    "\n",
    "**Note the method below is not strict**"
   ]
  },
  {
   "cell_type": "code",
   "execution_count": 45,
   "metadata": {},
   "outputs": [
    {
     "data": {
      "text/plain": [
       "count    433.0\n",
       "mean       1.0\n",
       "std        0.0\n",
       "min        1.0\n",
       "25%        1.0\n",
       "50%        1.0\n",
       "75%        1.0\n",
       "max        1.0\n",
       "Name: ind_nuevo, dtype: float64"
      ]
     },
     "execution_count": 45,
     "metadata": {},
     "output_type": "execute_result"
    }
   ],
   "source": [
    "df.loc[df.antiguedad.isnull(), 'ind_nuevo'].describe()"
   ]
  },
  {
   "cell_type": "code",
   "execution_count": 49,
   "metadata": {},
   "outputs": [],
   "source": [
    "df.loc[df.antiguedad.isnull(), 'antiguedad'] = df.antiguedad.min()\n",
    "df.loc[df.antiguedad<0, 'antiguedad'] = 0"
   ]
  },
  {
   "cell_type": "code",
   "execution_count": 51,
   "metadata": {},
   "outputs": [
    {
     "data": {
      "text/plain": [
       "0"
      ]
     },
     "execution_count": 51,
     "metadata": {},
     "output_type": "execute_result"
    }
   ],
   "source": [
    "df.antiguedad.isnull().sum()"
   ]
  },
  {
   "cell_type": "markdown",
   "metadata": {},
   "source": [
    "`fecha_alta` The date in which the customer became as the first holder of a contract in the bank.\n",
    "\n",
    "Note this is the same group of customers"
   ]
  },
  {
   "cell_type": "code",
   "execution_count": 53,
   "metadata": {},
   "outputs": [
    {
     "data": {
      "text/plain": [
       "433"
      ]
     },
     "execution_count": 53,
     "metadata": {},
     "output_type": "execute_result"
    }
   ],
   "source": [
    "df.fecha_alta.isnull().sum()"
   ]
  },
  {
   "cell_type": "code",
   "execution_count": 54,
   "metadata": {},
   "outputs": [],
   "source": [
    "dates = df.loc[:, 'fecha_alta'].sort_values().reset_index()"
   ]
  },
  {
   "cell_type": "code",
   "execution_count": 56,
   "metadata": {},
   "outputs": [],
   "source": [
    "median_date = int(np.median(dates.index.values))"
   ]
  },
  {
   "cell_type": "code",
   "execution_count": 58,
   "metadata": {},
   "outputs": [],
   "source": [
    "df.loc[df.fecha_alta.isnull(), 'fecha_alta'] = dates.loc[median_date, 'fecha_alta']"
   ]
  },
  {
   "cell_type": "code",
   "execution_count": 59,
   "metadata": {},
   "outputs": [
    {
     "data": {
      "text/plain": [
       "count                   92878\n",
       "unique                   3912\n",
       "top       2011-08-11 00:00:00\n",
       "freq                      478\n",
       "first     1995-02-21 00:00:00\n",
       "last      2015-10-30 00:00:00\n",
       "Name: fecha_alta, dtype: object"
      ]
     },
     "execution_count": 59,
     "metadata": {},
     "output_type": "execute_result"
    }
   ],
   "source": [
    "df.fecha_alta.describe()"
   ]
  },
  {
   "cell_type": "markdown",
   "metadata": {},
   "source": [
    "`indrel` 1 (First/Primary), 99 (Primary customer during the month but not at the end of the month)"
   ]
  },
  {
   "cell_type": "code",
   "execution_count": 62,
   "metadata": {},
   "outputs": [
    {
     "data": {
      "text/plain": [
       "433"
      ]
     },
     "execution_count": 62,
     "metadata": {},
     "output_type": "execute_result"
    }
   ],
   "source": [
    "df.indrel.isnull().sum()"
   ]
  },
  {
   "cell_type": "code",
   "execution_count": 66,
   "metadata": {},
   "outputs": [],
   "source": [
    "df.loc[df.indrel.isnull(), 'indrel'] = 1"
   ]
  },
  {
   "cell_type": "code",
   "execution_count": 70,
   "metadata": {},
   "outputs": [],
   "source": [
    "df.indrel = df.indrel.astype(np.int8)"
   ]
  },
  {
   "cell_type": "markdown",
   "metadata": {},
   "source": [
    "`tipodom` Addres type. 1, primary address cod_prov - Province code (customer's address)"
   ]
  },
  {
   "cell_type": "code",
   "execution_count": 73,
   "metadata": {},
   "outputs": [
    {
     "data": {
      "text/plain": [
       "433"
      ]
     },
     "execution_count": 73,
     "metadata": {},
     "output_type": "execute_result"
    }
   ],
   "source": [
    "df.tipodom.isnull().sum()"
   ]
  },
  {
   "cell_type": "code",
   "execution_count": 74,
   "metadata": {},
   "outputs": [],
   "source": [
    "df.drop(['tipodom'], axis=1, inplace=True)"
   ]
  },
  {
   "cell_type": "markdown",
   "metadata": {},
   "source": [
    "`cod_prov` Province code (customer's address)"
   ]
  },
  {
   "cell_type": "code",
   "execution_count": 75,
   "metadata": {},
   "outputs": [
    {
     "data": {
      "text/plain": [
       "array([41., 46.,  8., 17., 28., 20., 37., 15., 45., 49.,  3., 39., 16.,\n",
       "        6., 36., 11., 43., 32., 12., 34., 26., 29., 47., 18., 13., 14.,\n",
       "       10., 33., 35., 42., 44., 50., 30.,  2., 24., 31., 22.,  7.,  9.,\n",
       "       21., 25.,  1., nan,  5., 27.,  4., 23., 48., 38., 40., 51., 19.,\n",
       "       52.])"
      ]
     },
     "execution_count": 75,
     "metadata": {},
     "output_type": "execute_result"
    }
   ],
   "source": [
    "df.cod_prov.unique()"
   ]
  },
  {
   "cell_type": "code",
   "execution_count": 76,
   "metadata": {},
   "outputs": [
    {
     "data": {
      "text/plain": [
       "790"
      ]
     },
     "execution_count": 76,
     "metadata": {},
     "output_type": "execute_result"
    }
   ],
   "source": [
    "df.cod_prov.isnull().sum()"
   ]
  },
  {
   "cell_type": "code",
   "execution_count": 77,
   "metadata": {},
   "outputs": [],
   "source": [
    "df.drop(['cod_prov'], axis=1, inplace=True)"
   ]
  },
  {
   "cell_type": "markdown",
   "metadata": {},
   "source": [
    "Check missing values"
   ]
  },
  {
   "cell_type": "code",
   "execution_count": 78,
   "metadata": {},
   "outputs": [
    {
     "data": {
      "text/plain": [
       "fecha_dato               False\n",
       "ncodpers                 False\n",
       "ind_empleado              True\n",
       "pais_residencia           True\n",
       "sexo                      True\n",
       "age                      False\n",
       "fecha_alta               False\n",
       "ind_nuevo                False\n",
       "antiguedad               False\n",
       "indrel                   False\n",
       "ult_fec_cli_1t            True\n",
       "indrel_1mes               True\n",
       "tiprel_1mes               True\n",
       "indresi                   True\n",
       "indext                    True\n",
       "conyuemp                  True\n",
       "canal_entrada             True\n",
       "indfall                   True\n",
       "nomprov                   True\n",
       "ind_actividad_cliente     True\n",
       "renta                     True\n",
       "segmento                  True\n",
       "ind_ahor_fin_ult1        False\n",
       "ind_aval_fin_ult1        False\n",
       "ind_cco_fin_ult1         False\n",
       "ind_cder_fin_ult1        False\n",
       "ind_cno_fin_ult1         False\n",
       "ind_ctju_fin_ult1        False\n",
       "ind_ctma_fin_ult1        False\n",
       "ind_ctop_fin_ult1        False\n",
       "ind_ctpp_fin_ult1        False\n",
       "ind_deco_fin_ult1        False\n",
       "ind_deme_fin_ult1        False\n",
       "ind_dela_fin_ult1        False\n",
       "ind_ecue_fin_ult1        False\n",
       "ind_fond_fin_ult1        False\n",
       "ind_hip_fin_ult1         False\n",
       "ind_plan_fin_ult1        False\n",
       "ind_pres_fin_ult1        False\n",
       "ind_reca_fin_ult1        False\n",
       "ind_tjcr_fin_ult1        False\n",
       "ind_valo_fin_ult1        False\n",
       "ind_viv_fin_ult1         False\n",
       "ind_nomina_ult1           True\n",
       "ind_nom_pens_ult1         True\n",
       "ind_recibo_ult1          False\n",
       "month                    False\n",
       "dtype: bool"
      ]
     },
     "execution_count": 78,
     "metadata": {},
     "output_type": "execute_result"
    }
   ],
   "source": [
    "df.isnull().any()"
   ]
  },
  {
   "cell_type": "markdown",
   "metadata": {},
   "source": [
    "`ind_activadad_cliente` Activity index (1, active customer; 0, inactive customer)"
   ]
  },
  {
   "cell_type": "code",
   "execution_count": 81,
   "metadata": {},
   "outputs": [
    {
     "data": {
      "text/plain": [
       "array([ 1.,  0., nan])"
      ]
     },
     "execution_count": 81,
     "metadata": {},
     "output_type": "execute_result"
    }
   ],
   "source": [
    "df.ind_actividad_cliente.unique()"
   ]
  },
  {
   "cell_type": "code",
   "execution_count": 82,
   "metadata": {},
   "outputs": [
    {
     "data": {
      "text/plain": [
       "433"
      ]
     },
     "execution_count": 82,
     "metadata": {},
     "output_type": "execute_result"
    }
   ],
   "source": [
    "df.ind_actividad_cliente.isnull().sum()"
   ]
  },
  {
   "cell_type": "code",
   "execution_count": 83,
   "metadata": {},
   "outputs": [],
   "source": [
    "df.loc[df.ind_actividad_cliente.isnull(), 'ind_actividad_cliente'] = df.ind_actividad_cliente.median()"
   ]
  },
  {
   "cell_type": "code",
   "execution_count": 85,
   "metadata": {},
   "outputs": [
    {
     "data": {
      "text/plain": [
       "0.0    47507\n",
       "1.0    45371\n",
       "Name: ind_actividad_cliente, dtype: int64"
      ]
     },
     "execution_count": 85,
     "metadata": {},
     "output_type": "execute_result"
    }
   ],
   "source": [
    "df.ind_actividad_cliente.value_counts()"
   ]
  },
  {
   "cell_type": "markdown",
   "metadata": {},
   "source": [
    "`nomprov` Province name"
   ]
  },
  {
   "cell_type": "code",
   "execution_count": 86,
   "metadata": {},
   "outputs": [
    {
     "data": {
      "text/plain": [
       "array(['SEVILLA', 'VALENCIA', 'BARCELONA', 'GIRONA', 'MADRID', 'GIPUZKOA',\n",
       "       'SALAMANCA', 'CORUÑA, A', 'TOLEDO', 'ZAMORA', 'ALICANTE',\n",
       "       'CANTABRIA', 'CUENCA', 'BADAJOZ', 'PONTEVEDRA', 'CADIZ',\n",
       "       'TARRAGONA', 'OURENSE', 'CASTELLON', 'PALENCIA', 'RIOJA, LA',\n",
       "       'MALAGA', 'VALLADOLID', 'GRANADA', 'CIUDAD REAL', 'CORDOBA',\n",
       "       'CACERES', 'ASTURIAS', 'PALMAS, LAS', 'SORIA', 'TERUEL',\n",
       "       'ZARAGOZA', 'MURCIA', 'ALBACETE', 'LEON', 'NAVARRA', 'HUESCA',\n",
       "       'BALEARS, ILLES', 'BURGOS', 'HUELVA', 'LERIDA', 'ALAVA', nan,\n",
       "       'AVILA', 'LUGO', 'ALMERIA', 'JAEN', 'BIZKAIA',\n",
       "       'SANTA CRUZ DE TENERIFE', 'SEGOVIA', 'CEUTA', 'GUADALAJARA',\n",
       "       'MELILLA'], dtype=object)"
      ]
     },
     "execution_count": 86,
     "metadata": {},
     "output_type": "execute_result"
    }
   ],
   "source": [
    "df.nomprov.unique()"
   ]
  },
  {
   "cell_type": "markdown",
   "metadata": {},
   "source": [
    "There was an issue with the unicode character ñ in A Coruña. I'll manually fix it, but if anybody knows a better way to catch cases like this I would be very glad to hear it in the comments."
   ]
  },
  {
   "cell_type": "code",
   "execution_count": 87,
   "metadata": {},
   "outputs": [],
   "source": [
    "df.loc[df.nomprov==\"CORU\\xc3\\x91A, A\",\"nomprov\"] = \"CORUNA, A\""
   ]
  },
  {
   "cell_type": "code",
   "execution_count": null,
   "metadata": {},
   "outputs": [],
   "source": []
  }
 ],
 "metadata": {
  "kernelspec": {
   "display_name": "Python 3",
   "language": "python",
   "name": "python3"
  },
  "language_info": {
   "codemirror_mode": {
    "name": "ipython",
    "version": 3
   },
   "file_extension": ".py",
   "mimetype": "text/x-python",
   "name": "python",
   "nbconvert_exporter": "python",
   "pygments_lexer": "ipython3",
   "version": "3.6.6"
  }
 },
 "nbformat": 4,
 "nbformat_minor": 2
}
