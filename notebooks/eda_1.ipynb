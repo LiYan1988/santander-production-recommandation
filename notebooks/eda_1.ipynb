{
 "cells": [
  {
   "cell_type": "markdown",
   "metadata": {},
   "source": [
    "# Detailed Data Cleaning/Visualization\n",
    "\n",
    "Things to try\n",
    "1. the threshold of age groups might be improved\n",
    "2. `ind_nuevo` should be a function of `fecha_dato` and `fecha_alta`\n",
    "3. `cod_prov` Province code (customer's address), is it duplicated with `nomprov`?\n",
    "4. "
   ]
  },
  {
   "cell_type": "markdown",
   "metadata": {},
   "source": [
    "## First Glance"
   ]
  },
  {
   "cell_type": "code",
   "execution_count": 1,
   "metadata": {},
   "outputs": [
    {
     "name": "stdout",
     "output_type": "stream",
     "text": [
      "Populating the interactive namespace from numpy and matplotlib\n"
     ]
    }
   ],
   "source": [
    "import numpy as np\n",
    "import pandas as pd\n",
    "import seaborn as sns\n",
    "import matplotlib.pyplot as plt\n",
    "import gc\n",
    "%pylab inline\n",
    "pylab.rcParams['figure.figsize'] = (16, 9)"
   ]
  },
  {
   "cell_type": "markdown",
   "metadata": {},
   "source": [
    "Sample the train set, data is huge"
   ]
  },
  {
   "cell_type": "code",
   "execution_count": 2,
   "metadata": {},
   "outputs": [
    {
     "name": "stderr",
     "output_type": "stream",
     "text": [
      "C:\\Users\\elunden\\AppData\\Local\\Continuum\\anaconda3\\lib\\site-packages\\IPython\\core\\interactiveshell.py:2785: DtypeWarning: Columns (5,8,10,11,15) have mixed types. Specify dtype option on import or set low_memory=False.\n",
      "  interactivity=interactivity, compiler=compiler, result=result)\n"
     ]
    }
   ],
   "source": [
    "limit_rows = 7000000\n",
    "df = pd.read_csv('../input/train_ver2.csv', nrows=limit_rows)"
   ]
  },
  {
   "cell_type": "code",
   "execution_count": 3,
   "metadata": {},
   "outputs": [
    {
     "data": {
      "text/html": [
       "<div>\n",
       "<style scoped>\n",
       "    .dataframe tbody tr th:only-of-type {\n",
       "        vertical-align: middle;\n",
       "    }\n",
       "\n",
       "    .dataframe tbody tr th {\n",
       "        vertical-align: top;\n",
       "    }\n",
       "\n",
       "    .dataframe thead th {\n",
       "        text-align: right;\n",
       "    }\n",
       "</style>\n",
       "<table border=\"1\" class=\"dataframe\">\n",
       "  <thead>\n",
       "    <tr style=\"text-align: right;\">\n",
       "      <th></th>\n",
       "      <th>0</th>\n",
       "      <th>1</th>\n",
       "      <th>2</th>\n",
       "      <th>3</th>\n",
       "      <th>4</th>\n",
       "    </tr>\n",
       "  </thead>\n",
       "  <tbody>\n",
       "    <tr>\n",
       "      <th>fecha_dato</th>\n",
       "      <td>2015-01-28</td>\n",
       "      <td>2015-01-28</td>\n",
       "      <td>2015-01-28</td>\n",
       "      <td>2015-01-28</td>\n",
       "      <td>2015-01-28</td>\n",
       "    </tr>\n",
       "    <tr>\n",
       "      <th>ncodpers</th>\n",
       "      <td>1375586</td>\n",
       "      <td>1050611</td>\n",
       "      <td>1050612</td>\n",
       "      <td>1050613</td>\n",
       "      <td>1050614</td>\n",
       "    </tr>\n",
       "    <tr>\n",
       "      <th>ind_empleado</th>\n",
       "      <td>N</td>\n",
       "      <td>N</td>\n",
       "      <td>N</td>\n",
       "      <td>N</td>\n",
       "      <td>N</td>\n",
       "    </tr>\n",
       "    <tr>\n",
       "      <th>pais_residencia</th>\n",
       "      <td>ES</td>\n",
       "      <td>ES</td>\n",
       "      <td>ES</td>\n",
       "      <td>ES</td>\n",
       "      <td>ES</td>\n",
       "    </tr>\n",
       "    <tr>\n",
       "      <th>sexo</th>\n",
       "      <td>H</td>\n",
       "      <td>V</td>\n",
       "      <td>V</td>\n",
       "      <td>H</td>\n",
       "      <td>V</td>\n",
       "    </tr>\n",
       "    <tr>\n",
       "      <th>age</th>\n",
       "      <td>35</td>\n",
       "      <td>23</td>\n",
       "      <td>23</td>\n",
       "      <td>22</td>\n",
       "      <td>23</td>\n",
       "    </tr>\n",
       "    <tr>\n",
       "      <th>fecha_alta</th>\n",
       "      <td>2015-01-12</td>\n",
       "      <td>2012-08-10</td>\n",
       "      <td>2012-08-10</td>\n",
       "      <td>2012-08-10</td>\n",
       "      <td>2012-08-10</td>\n",
       "    </tr>\n",
       "    <tr>\n",
       "      <th>ind_nuevo</th>\n",
       "      <td>0</td>\n",
       "      <td>0</td>\n",
       "      <td>0</td>\n",
       "      <td>0</td>\n",
       "      <td>0</td>\n",
       "    </tr>\n",
       "    <tr>\n",
       "      <th>antiguedad</th>\n",
       "      <td>6</td>\n",
       "      <td>35</td>\n",
       "      <td>35</td>\n",
       "      <td>35</td>\n",
       "      <td>35</td>\n",
       "    </tr>\n",
       "    <tr>\n",
       "      <th>indrel</th>\n",
       "      <td>1</td>\n",
       "      <td>1</td>\n",
       "      <td>1</td>\n",
       "      <td>1</td>\n",
       "      <td>1</td>\n",
       "    </tr>\n",
       "    <tr>\n",
       "      <th>ult_fec_cli_1t</th>\n",
       "      <td>NaN</td>\n",
       "      <td>NaN</td>\n",
       "      <td>NaN</td>\n",
       "      <td>NaN</td>\n",
       "      <td>NaN</td>\n",
       "    </tr>\n",
       "    <tr>\n",
       "      <th>indrel_1mes</th>\n",
       "      <td>1</td>\n",
       "      <td>1</td>\n",
       "      <td>1</td>\n",
       "      <td>1</td>\n",
       "      <td>1</td>\n",
       "    </tr>\n",
       "    <tr>\n",
       "      <th>tiprel_1mes</th>\n",
       "      <td>A</td>\n",
       "      <td>I</td>\n",
       "      <td>I</td>\n",
       "      <td>I</td>\n",
       "      <td>A</td>\n",
       "    </tr>\n",
       "    <tr>\n",
       "      <th>indresi</th>\n",
       "      <td>S</td>\n",
       "      <td>S</td>\n",
       "      <td>S</td>\n",
       "      <td>S</td>\n",
       "      <td>S</td>\n",
       "    </tr>\n",
       "    <tr>\n",
       "      <th>indext</th>\n",
       "      <td>N</td>\n",
       "      <td>S</td>\n",
       "      <td>N</td>\n",
       "      <td>N</td>\n",
       "      <td>N</td>\n",
       "    </tr>\n",
       "    <tr>\n",
       "      <th>conyuemp</th>\n",
       "      <td>NaN</td>\n",
       "      <td>NaN</td>\n",
       "      <td>NaN</td>\n",
       "      <td>NaN</td>\n",
       "      <td>NaN</td>\n",
       "    </tr>\n",
       "    <tr>\n",
       "      <th>canal_entrada</th>\n",
       "      <td>KHL</td>\n",
       "      <td>KHE</td>\n",
       "      <td>KHE</td>\n",
       "      <td>KHD</td>\n",
       "      <td>KHE</td>\n",
       "    </tr>\n",
       "    <tr>\n",
       "      <th>indfall</th>\n",
       "      <td>N</td>\n",
       "      <td>N</td>\n",
       "      <td>N</td>\n",
       "      <td>N</td>\n",
       "      <td>N</td>\n",
       "    </tr>\n",
       "    <tr>\n",
       "      <th>tipodom</th>\n",
       "      <td>1</td>\n",
       "      <td>1</td>\n",
       "      <td>1</td>\n",
       "      <td>1</td>\n",
       "      <td>1</td>\n",
       "    </tr>\n",
       "    <tr>\n",
       "      <th>cod_prov</th>\n",
       "      <td>29</td>\n",
       "      <td>13</td>\n",
       "      <td>13</td>\n",
       "      <td>50</td>\n",
       "      <td>50</td>\n",
       "    </tr>\n",
       "    <tr>\n",
       "      <th>nomprov</th>\n",
       "      <td>MALAGA</td>\n",
       "      <td>CIUDAD REAL</td>\n",
       "      <td>CIUDAD REAL</td>\n",
       "      <td>ZARAGOZA</td>\n",
       "      <td>ZARAGOZA</td>\n",
       "    </tr>\n",
       "    <tr>\n",
       "      <th>ind_actividad_cliente</th>\n",
       "      <td>1</td>\n",
       "      <td>0</td>\n",
       "      <td>0</td>\n",
       "      <td>0</td>\n",
       "      <td>1</td>\n",
       "    </tr>\n",
       "    <tr>\n",
       "      <th>renta</th>\n",
       "      <td>87218.1</td>\n",
       "      <td>35548.7</td>\n",
       "      <td>122179</td>\n",
       "      <td>119776</td>\n",
       "      <td>NaN</td>\n",
       "    </tr>\n",
       "    <tr>\n",
       "      <th>segmento</th>\n",
       "      <td>02 - PARTICULARES</td>\n",
       "      <td>03 - UNIVERSITARIO</td>\n",
       "      <td>03 - UNIVERSITARIO</td>\n",
       "      <td>03 - UNIVERSITARIO</td>\n",
       "      <td>03 - UNIVERSITARIO</td>\n",
       "    </tr>\n",
       "    <tr>\n",
       "      <th>ind_ahor_fin_ult1</th>\n",
       "      <td>0</td>\n",
       "      <td>0</td>\n",
       "      <td>0</td>\n",
       "      <td>0</td>\n",
       "      <td>0</td>\n",
       "    </tr>\n",
       "    <tr>\n",
       "      <th>ind_aval_fin_ult1</th>\n",
       "      <td>0</td>\n",
       "      <td>0</td>\n",
       "      <td>0</td>\n",
       "      <td>0</td>\n",
       "      <td>0</td>\n",
       "    </tr>\n",
       "    <tr>\n",
       "      <th>ind_cco_fin_ult1</th>\n",
       "      <td>1</td>\n",
       "      <td>1</td>\n",
       "      <td>1</td>\n",
       "      <td>0</td>\n",
       "      <td>1</td>\n",
       "    </tr>\n",
       "    <tr>\n",
       "      <th>ind_cder_fin_ult1</th>\n",
       "      <td>0</td>\n",
       "      <td>0</td>\n",
       "      <td>0</td>\n",
       "      <td>0</td>\n",
       "      <td>0</td>\n",
       "    </tr>\n",
       "    <tr>\n",
       "      <th>ind_cno_fin_ult1</th>\n",
       "      <td>0</td>\n",
       "      <td>0</td>\n",
       "      <td>0</td>\n",
       "      <td>0</td>\n",
       "      <td>0</td>\n",
       "    </tr>\n",
       "    <tr>\n",
       "      <th>ind_ctju_fin_ult1</th>\n",
       "      <td>0</td>\n",
       "      <td>0</td>\n",
       "      <td>0</td>\n",
       "      <td>0</td>\n",
       "      <td>0</td>\n",
       "    </tr>\n",
       "    <tr>\n",
       "      <th>ind_ctma_fin_ult1</th>\n",
       "      <td>0</td>\n",
       "      <td>0</td>\n",
       "      <td>0</td>\n",
       "      <td>0</td>\n",
       "      <td>0</td>\n",
       "    </tr>\n",
       "    <tr>\n",
       "      <th>ind_ctop_fin_ult1</th>\n",
       "      <td>0</td>\n",
       "      <td>0</td>\n",
       "      <td>0</td>\n",
       "      <td>0</td>\n",
       "      <td>0</td>\n",
       "    </tr>\n",
       "    <tr>\n",
       "      <th>ind_ctpp_fin_ult1</th>\n",
       "      <td>0</td>\n",
       "      <td>0</td>\n",
       "      <td>0</td>\n",
       "      <td>0</td>\n",
       "      <td>0</td>\n",
       "    </tr>\n",
       "    <tr>\n",
       "      <th>ind_deco_fin_ult1</th>\n",
       "      <td>0</td>\n",
       "      <td>0</td>\n",
       "      <td>0</td>\n",
       "      <td>1</td>\n",
       "      <td>0</td>\n",
       "    </tr>\n",
       "    <tr>\n",
       "      <th>ind_deme_fin_ult1</th>\n",
       "      <td>0</td>\n",
       "      <td>0</td>\n",
       "      <td>0</td>\n",
       "      <td>0</td>\n",
       "      <td>0</td>\n",
       "    </tr>\n",
       "    <tr>\n",
       "      <th>ind_dela_fin_ult1</th>\n",
       "      <td>0</td>\n",
       "      <td>0</td>\n",
       "      <td>0</td>\n",
       "      <td>0</td>\n",
       "      <td>0</td>\n",
       "    </tr>\n",
       "    <tr>\n",
       "      <th>ind_ecue_fin_ult1</th>\n",
       "      <td>0</td>\n",
       "      <td>0</td>\n",
       "      <td>0</td>\n",
       "      <td>0</td>\n",
       "      <td>0</td>\n",
       "    </tr>\n",
       "    <tr>\n",
       "      <th>ind_fond_fin_ult1</th>\n",
       "      <td>0</td>\n",
       "      <td>0</td>\n",
       "      <td>0</td>\n",
       "      <td>0</td>\n",
       "      <td>0</td>\n",
       "    </tr>\n",
       "    <tr>\n",
       "      <th>ind_hip_fin_ult1</th>\n",
       "      <td>0</td>\n",
       "      <td>0</td>\n",
       "      <td>0</td>\n",
       "      <td>0</td>\n",
       "      <td>0</td>\n",
       "    </tr>\n",
       "    <tr>\n",
       "      <th>ind_plan_fin_ult1</th>\n",
       "      <td>0</td>\n",
       "      <td>0</td>\n",
       "      <td>0</td>\n",
       "      <td>0</td>\n",
       "      <td>0</td>\n",
       "    </tr>\n",
       "    <tr>\n",
       "      <th>ind_pres_fin_ult1</th>\n",
       "      <td>0</td>\n",
       "      <td>0</td>\n",
       "      <td>0</td>\n",
       "      <td>0</td>\n",
       "      <td>0</td>\n",
       "    </tr>\n",
       "    <tr>\n",
       "      <th>ind_reca_fin_ult1</th>\n",
       "      <td>0</td>\n",
       "      <td>0</td>\n",
       "      <td>0</td>\n",
       "      <td>0</td>\n",
       "      <td>0</td>\n",
       "    </tr>\n",
       "    <tr>\n",
       "      <th>ind_tjcr_fin_ult1</th>\n",
       "      <td>0</td>\n",
       "      <td>0</td>\n",
       "      <td>0</td>\n",
       "      <td>0</td>\n",
       "      <td>0</td>\n",
       "    </tr>\n",
       "    <tr>\n",
       "      <th>ind_valo_fin_ult1</th>\n",
       "      <td>0</td>\n",
       "      <td>0</td>\n",
       "      <td>0</td>\n",
       "      <td>0</td>\n",
       "      <td>0</td>\n",
       "    </tr>\n",
       "    <tr>\n",
       "      <th>ind_viv_fin_ult1</th>\n",
       "      <td>0</td>\n",
       "      <td>0</td>\n",
       "      <td>0</td>\n",
       "      <td>0</td>\n",
       "      <td>0</td>\n",
       "    </tr>\n",
       "    <tr>\n",
       "      <th>ind_nomina_ult1</th>\n",
       "      <td>0</td>\n",
       "      <td>0</td>\n",
       "      <td>0</td>\n",
       "      <td>0</td>\n",
       "      <td>0</td>\n",
       "    </tr>\n",
       "    <tr>\n",
       "      <th>ind_nom_pens_ult1</th>\n",
       "      <td>0</td>\n",
       "      <td>0</td>\n",
       "      <td>0</td>\n",
       "      <td>0</td>\n",
       "      <td>0</td>\n",
       "    </tr>\n",
       "    <tr>\n",
       "      <th>ind_recibo_ult1</th>\n",
       "      <td>0</td>\n",
       "      <td>0</td>\n",
       "      <td>0</td>\n",
       "      <td>0</td>\n",
       "      <td>0</td>\n",
       "    </tr>\n",
       "  </tbody>\n",
       "</table>\n",
       "</div>"
      ],
      "text/plain": [
       "                                       0                   1  \\\n",
       "fecha_dato                    2015-01-28          2015-01-28   \n",
       "ncodpers                         1375586             1050611   \n",
       "ind_empleado                           N                   N   \n",
       "pais_residencia                       ES                  ES   \n",
       "sexo                                   H                   V   \n",
       "age                                   35                  23   \n",
       "fecha_alta                    2015-01-12          2012-08-10   \n",
       "ind_nuevo                              0                   0   \n",
       "antiguedad                             6                  35   \n",
       "indrel                                 1                   1   \n",
       "ult_fec_cli_1t                       NaN                 NaN   \n",
       "indrel_1mes                            1                   1   \n",
       "tiprel_1mes                            A                   I   \n",
       "indresi                                S                   S   \n",
       "indext                                 N                   S   \n",
       "conyuemp                             NaN                 NaN   \n",
       "canal_entrada                        KHL                 KHE   \n",
       "indfall                                N                   N   \n",
       "tipodom                                1                   1   \n",
       "cod_prov                              29                  13   \n",
       "nomprov                           MALAGA         CIUDAD REAL   \n",
       "ind_actividad_cliente                  1                   0   \n",
       "renta                            87218.1             35548.7   \n",
       "segmento               02 - PARTICULARES  03 - UNIVERSITARIO   \n",
       "ind_ahor_fin_ult1                      0                   0   \n",
       "ind_aval_fin_ult1                      0                   0   \n",
       "ind_cco_fin_ult1                       1                   1   \n",
       "ind_cder_fin_ult1                      0                   0   \n",
       "ind_cno_fin_ult1                       0                   0   \n",
       "ind_ctju_fin_ult1                      0                   0   \n",
       "ind_ctma_fin_ult1                      0                   0   \n",
       "ind_ctop_fin_ult1                      0                   0   \n",
       "ind_ctpp_fin_ult1                      0                   0   \n",
       "ind_deco_fin_ult1                      0                   0   \n",
       "ind_deme_fin_ult1                      0                   0   \n",
       "ind_dela_fin_ult1                      0                   0   \n",
       "ind_ecue_fin_ult1                      0                   0   \n",
       "ind_fond_fin_ult1                      0                   0   \n",
       "ind_hip_fin_ult1                       0                   0   \n",
       "ind_plan_fin_ult1                      0                   0   \n",
       "ind_pres_fin_ult1                      0                   0   \n",
       "ind_reca_fin_ult1                      0                   0   \n",
       "ind_tjcr_fin_ult1                      0                   0   \n",
       "ind_valo_fin_ult1                      0                   0   \n",
       "ind_viv_fin_ult1                       0                   0   \n",
       "ind_nomina_ult1                        0                   0   \n",
       "ind_nom_pens_ult1                      0                   0   \n",
       "ind_recibo_ult1                        0                   0   \n",
       "\n",
       "                                        2                   3  \\\n",
       "fecha_dato                     2015-01-28          2015-01-28   \n",
       "ncodpers                          1050612             1050613   \n",
       "ind_empleado                            N                   N   \n",
       "pais_residencia                        ES                  ES   \n",
       "sexo                                    V                   H   \n",
       "age                                    23                  22   \n",
       "fecha_alta                     2012-08-10          2012-08-10   \n",
       "ind_nuevo                               0                   0   \n",
       "antiguedad                             35                  35   \n",
       "indrel                                  1                   1   \n",
       "ult_fec_cli_1t                        NaN                 NaN   \n",
       "indrel_1mes                             1                   1   \n",
       "tiprel_1mes                             I                   I   \n",
       "indresi                                 S                   S   \n",
       "indext                                  N                   N   \n",
       "conyuemp                              NaN                 NaN   \n",
       "canal_entrada                         KHE                 KHD   \n",
       "indfall                                 N                   N   \n",
       "tipodom                                 1                   1   \n",
       "cod_prov                               13                  50   \n",
       "nomprov                       CIUDAD REAL            ZARAGOZA   \n",
       "ind_actividad_cliente                   0                   0   \n",
       "renta                              122179              119776   \n",
       "segmento               03 - UNIVERSITARIO  03 - UNIVERSITARIO   \n",
       "ind_ahor_fin_ult1                       0                   0   \n",
       "ind_aval_fin_ult1                       0                   0   \n",
       "ind_cco_fin_ult1                        1                   0   \n",
       "ind_cder_fin_ult1                       0                   0   \n",
       "ind_cno_fin_ult1                        0                   0   \n",
       "ind_ctju_fin_ult1                       0                   0   \n",
       "ind_ctma_fin_ult1                       0                   0   \n",
       "ind_ctop_fin_ult1                       0                   0   \n",
       "ind_ctpp_fin_ult1                       0                   0   \n",
       "ind_deco_fin_ult1                       0                   1   \n",
       "ind_deme_fin_ult1                       0                   0   \n",
       "ind_dela_fin_ult1                       0                   0   \n",
       "ind_ecue_fin_ult1                       0                   0   \n",
       "ind_fond_fin_ult1                       0                   0   \n",
       "ind_hip_fin_ult1                        0                   0   \n",
       "ind_plan_fin_ult1                       0                   0   \n",
       "ind_pres_fin_ult1                       0                   0   \n",
       "ind_reca_fin_ult1                       0                   0   \n",
       "ind_tjcr_fin_ult1                       0                   0   \n",
       "ind_valo_fin_ult1                       0                   0   \n",
       "ind_viv_fin_ult1                        0                   0   \n",
       "ind_nomina_ult1                         0                   0   \n",
       "ind_nom_pens_ult1                       0                   0   \n",
       "ind_recibo_ult1                         0                   0   \n",
       "\n",
       "                                        4  \n",
       "fecha_dato                     2015-01-28  \n",
       "ncodpers                          1050614  \n",
       "ind_empleado                            N  \n",
       "pais_residencia                        ES  \n",
       "sexo                                    V  \n",
       "age                                    23  \n",
       "fecha_alta                     2012-08-10  \n",
       "ind_nuevo                               0  \n",
       "antiguedad                             35  \n",
       "indrel                                  1  \n",
       "ult_fec_cli_1t                        NaN  \n",
       "indrel_1mes                             1  \n",
       "tiprel_1mes                             A  \n",
       "indresi                                 S  \n",
       "indext                                  N  \n",
       "conyuemp                              NaN  \n",
       "canal_entrada                         KHE  \n",
       "indfall                                 N  \n",
       "tipodom                                 1  \n",
       "cod_prov                               50  \n",
       "nomprov                          ZARAGOZA  \n",
       "ind_actividad_cliente                   1  \n",
       "renta                                 NaN  \n",
       "segmento               03 - UNIVERSITARIO  \n",
       "ind_ahor_fin_ult1                       0  \n",
       "ind_aval_fin_ult1                       0  \n",
       "ind_cco_fin_ult1                        1  \n",
       "ind_cder_fin_ult1                       0  \n",
       "ind_cno_fin_ult1                        0  \n",
       "ind_ctju_fin_ult1                       0  \n",
       "ind_ctma_fin_ult1                       0  \n",
       "ind_ctop_fin_ult1                       0  \n",
       "ind_ctpp_fin_ult1                       0  \n",
       "ind_deco_fin_ult1                       0  \n",
       "ind_deme_fin_ult1                       0  \n",
       "ind_dela_fin_ult1                       0  \n",
       "ind_ecue_fin_ult1                       0  \n",
       "ind_fond_fin_ult1                       0  \n",
       "ind_hip_fin_ult1                        0  \n",
       "ind_plan_fin_ult1                       0  \n",
       "ind_pres_fin_ult1                       0  \n",
       "ind_reca_fin_ult1                       0  \n",
       "ind_tjcr_fin_ult1                       0  \n",
       "ind_valo_fin_ult1                       0  \n",
       "ind_viv_fin_ult1                        0  \n",
       "ind_nomina_ult1                         0  \n",
       "ind_nom_pens_ult1                       0  \n",
       "ind_recibo_ult1                         0  "
      ]
     },
     "execution_count": 3,
     "metadata": {},
     "output_type": "execute_result"
    }
   ],
   "source": [
    "df.head().T"
   ]
  },
  {
   "cell_type": "code",
   "execution_count": 4,
   "metadata": {},
   "outputs": [],
   "source": [
    "unique_ids = pd.Series(df['ncodpers'].unique())"
   ]
  },
  {
   "cell_type": "code",
   "execution_count": 5,
   "metadata": {},
   "outputs": [
    {
     "data": {
      "text/html": [
       "<div>\n",
       "<style scoped>\n",
       "    .dataframe tbody tr th:only-of-type {\n",
       "        vertical-align: middle;\n",
       "    }\n",
       "\n",
       "    .dataframe tbody tr th {\n",
       "        vertical-align: top;\n",
       "    }\n",
       "\n",
       "    .dataframe thead th {\n",
       "        text-align: right;\n",
       "    }\n",
       "</style>\n",
       "<table border=\"1\" class=\"dataframe\">\n",
       "  <thead>\n",
       "    <tr style=\"text-align: right;\">\n",
       "      <th></th>\n",
       "      <th>ncodpers</th>\n",
       "      <th>ind_nuevo</th>\n",
       "      <th>indrel</th>\n",
       "      <th>tipodom</th>\n",
       "      <th>cod_prov</th>\n",
       "      <th>ind_actividad_cliente</th>\n",
       "      <th>renta</th>\n",
       "      <th>ind_ahor_fin_ult1</th>\n",
       "      <th>ind_aval_fin_ult1</th>\n",
       "      <th>ind_cco_fin_ult1</th>\n",
       "      <th>...</th>\n",
       "      <th>ind_hip_fin_ult1</th>\n",
       "      <th>ind_plan_fin_ult1</th>\n",
       "      <th>ind_pres_fin_ult1</th>\n",
       "      <th>ind_reca_fin_ult1</th>\n",
       "      <th>ind_tjcr_fin_ult1</th>\n",
       "      <th>ind_valo_fin_ult1</th>\n",
       "      <th>ind_viv_fin_ult1</th>\n",
       "      <th>ind_nomina_ult1</th>\n",
       "      <th>ind_nom_pens_ult1</th>\n",
       "      <th>ind_recibo_ult1</th>\n",
       "    </tr>\n",
       "  </thead>\n",
       "  <tbody>\n",
       "    <tr>\n",
       "      <th>count</th>\n",
       "      <td>9.283550e+05</td>\n",
       "      <td>924595.000000</td>\n",
       "      <td>924595.000000</td>\n",
       "      <td>924595.0</td>\n",
       "      <td>919729.000000</td>\n",
       "      <td>924595.000000</td>\n",
       "      <td>7.634230e+05</td>\n",
       "      <td>928355.000000</td>\n",
       "      <td>928355.000000</td>\n",
       "      <td>928355.000000</td>\n",
       "      <td>...</td>\n",
       "      <td>928355.000000</td>\n",
       "      <td>928355.000000</td>\n",
       "      <td>928355.000000</td>\n",
       "      <td>928355.000000</td>\n",
       "      <td>928355.000000</td>\n",
       "      <td>928355.000000</td>\n",
       "      <td>928355.000000</td>\n",
       "      <td>926150.000000</td>\n",
       "      <td>926150.000000</td>\n",
       "      <td>928355.000000</td>\n",
       "    </tr>\n",
       "    <tr>\n",
       "      <th>mean</th>\n",
       "      <td>8.065831e+05</td>\n",
       "      <td>0.039464</td>\n",
       "      <td>1.164924</td>\n",
       "      <td>1.0</td>\n",
       "      <td>26.508938</td>\n",
       "      <td>0.487779</td>\n",
       "      <td>1.346670e+05</td>\n",
       "      <td>0.000169</td>\n",
       "      <td>0.000016</td>\n",
       "      <td>0.705189</td>\n",
       "      <td>...</td>\n",
       "      <td>0.006886</td>\n",
       "      <td>0.010738</td>\n",
       "      <td>0.002855</td>\n",
       "      <td>0.056435</td>\n",
       "      <td>0.049238</td>\n",
       "      <td>0.027514</td>\n",
       "      <td>0.004359</td>\n",
       "      <td>0.058958</td>\n",
       "      <td>0.064036</td>\n",
       "      <td>0.136052</td>\n",
       "    </tr>\n",
       "    <tr>\n",
       "      <th>std</th>\n",
       "      <td>4.222320e+05</td>\n",
       "      <td>0.194696</td>\n",
       "      <td>4.016887</td>\n",
       "      <td>0.0</td>\n",
       "      <td>12.792288</td>\n",
       "      <td>0.499851</td>\n",
       "      <td>2.353499e+05</td>\n",
       "      <td>0.013003</td>\n",
       "      <td>0.004020</td>\n",
       "      <td>0.455958</td>\n",
       "      <td>...</td>\n",
       "      <td>0.082698</td>\n",
       "      <td>0.103068</td>\n",
       "      <td>0.053351</td>\n",
       "      <td>0.230761</td>\n",
       "      <td>0.216364</td>\n",
       "      <td>0.163576</td>\n",
       "      <td>0.065881</td>\n",
       "      <td>0.235546</td>\n",
       "      <td>0.244817</td>\n",
       "      <td>0.342844</td>\n",
       "    </tr>\n",
       "    <tr>\n",
       "      <th>min</th>\n",
       "      <td>1.589000e+04</td>\n",
       "      <td>0.000000</td>\n",
       "      <td>1.000000</td>\n",
       "      <td>1.0</td>\n",
       "      <td>1.000000</td>\n",
       "      <td>0.000000</td>\n",
       "      <td>3.731790e+03</td>\n",
       "      <td>0.000000</td>\n",
       "      <td>0.000000</td>\n",
       "      <td>0.000000</td>\n",
       "      <td>...</td>\n",
       "      <td>0.000000</td>\n",
       "      <td>0.000000</td>\n",
       "      <td>0.000000</td>\n",
       "      <td>0.000000</td>\n",
       "      <td>0.000000</td>\n",
       "      <td>0.000000</td>\n",
       "      <td>0.000000</td>\n",
       "      <td>0.000000</td>\n",
       "      <td>0.000000</td>\n",
       "      <td>0.000000</td>\n",
       "    </tr>\n",
       "    <tr>\n",
       "      <th>25%</th>\n",
       "      <td>4.210200e+05</td>\n",
       "      <td>0.000000</td>\n",
       "      <td>1.000000</td>\n",
       "      <td>1.0</td>\n",
       "      <td>15.000000</td>\n",
       "      <td>0.000000</td>\n",
       "      <td>6.902553e+04</td>\n",
       "      <td>0.000000</td>\n",
       "      <td>0.000000</td>\n",
       "      <td>0.000000</td>\n",
       "      <td>...</td>\n",
       "      <td>0.000000</td>\n",
       "      <td>0.000000</td>\n",
       "      <td>0.000000</td>\n",
       "      <td>0.000000</td>\n",
       "      <td>0.000000</td>\n",
       "      <td>0.000000</td>\n",
       "      <td>0.000000</td>\n",
       "      <td>0.000000</td>\n",
       "      <td>0.000000</td>\n",
       "      <td>0.000000</td>\n",
       "    </tr>\n",
       "    <tr>\n",
       "      <th>50%</th>\n",
       "      <td>9.249720e+05</td>\n",
       "      <td>0.000000</td>\n",
       "      <td>1.000000</td>\n",
       "      <td>1.0</td>\n",
       "      <td>28.000000</td>\n",
       "      <td>0.000000</td>\n",
       "      <td>1.024456e+05</td>\n",
       "      <td>0.000000</td>\n",
       "      <td>0.000000</td>\n",
       "      <td>1.000000</td>\n",
       "      <td>...</td>\n",
       "      <td>0.000000</td>\n",
       "      <td>0.000000</td>\n",
       "      <td>0.000000</td>\n",
       "      <td>0.000000</td>\n",
       "      <td>0.000000</td>\n",
       "      <td>0.000000</td>\n",
       "      <td>0.000000</td>\n",
       "      <td>0.000000</td>\n",
       "      <td>0.000000</td>\n",
       "      <td>0.000000</td>\n",
       "    </tr>\n",
       "    <tr>\n",
       "      <th>75%</th>\n",
       "      <td>1.170964e+06</td>\n",
       "      <td>0.000000</td>\n",
       "      <td>1.000000</td>\n",
       "      <td>1.0</td>\n",
       "      <td>34.000000</td>\n",
       "      <td>1.000000</td>\n",
       "      <td>1.562728e+05</td>\n",
       "      <td>0.000000</td>\n",
       "      <td>0.000000</td>\n",
       "      <td>1.000000</td>\n",
       "      <td>...</td>\n",
       "      <td>0.000000</td>\n",
       "      <td>0.000000</td>\n",
       "      <td>0.000000</td>\n",
       "      <td>0.000000</td>\n",
       "      <td>0.000000</td>\n",
       "      <td>0.000000</td>\n",
       "      <td>0.000000</td>\n",
       "      <td>0.000000</td>\n",
       "      <td>0.000000</td>\n",
       "      <td>0.000000</td>\n",
       "    </tr>\n",
       "    <tr>\n",
       "      <th>max</th>\n",
       "      <td>1.495489e+06</td>\n",
       "      <td>1.000000</td>\n",
       "      <td>99.000000</td>\n",
       "      <td>1.0</td>\n",
       "      <td>52.000000</td>\n",
       "      <td>1.000000</td>\n",
       "      <td>2.372007e+07</td>\n",
       "      <td>1.000000</td>\n",
       "      <td>1.000000</td>\n",
       "      <td>1.000000</td>\n",
       "      <td>...</td>\n",
       "      <td>1.000000</td>\n",
       "      <td>1.000000</td>\n",
       "      <td>1.000000</td>\n",
       "      <td>1.000000</td>\n",
       "      <td>1.000000</td>\n",
       "      <td>1.000000</td>\n",
       "      <td>1.000000</td>\n",
       "      <td>1.000000</td>\n",
       "      <td>1.000000</td>\n",
       "      <td>1.000000</td>\n",
       "    </tr>\n",
       "  </tbody>\n",
       "</table>\n",
       "<p>8 rows × 31 columns</p>\n",
       "</div>"
      ],
      "text/plain": [
       "           ncodpers      ind_nuevo         indrel   tipodom       cod_prov  \\\n",
       "count  9.283550e+05  924595.000000  924595.000000  924595.0  919729.000000   \n",
       "mean   8.065831e+05       0.039464       1.164924       1.0      26.508938   \n",
       "std    4.222320e+05       0.194696       4.016887       0.0      12.792288   \n",
       "min    1.589000e+04       0.000000       1.000000       1.0       1.000000   \n",
       "25%    4.210200e+05       0.000000       1.000000       1.0      15.000000   \n",
       "50%    9.249720e+05       0.000000       1.000000       1.0      28.000000   \n",
       "75%    1.170964e+06       0.000000       1.000000       1.0      34.000000   \n",
       "max    1.495489e+06       1.000000      99.000000       1.0      52.000000   \n",
       "\n",
       "       ind_actividad_cliente         renta  ind_ahor_fin_ult1  \\\n",
       "count          924595.000000  7.634230e+05      928355.000000   \n",
       "mean                0.487779  1.346670e+05           0.000169   \n",
       "std                 0.499851  2.353499e+05           0.013003   \n",
       "min                 0.000000  3.731790e+03           0.000000   \n",
       "25%                 0.000000  6.902553e+04           0.000000   \n",
       "50%                 0.000000  1.024456e+05           0.000000   \n",
       "75%                 1.000000  1.562728e+05           0.000000   \n",
       "max                 1.000000  2.372007e+07           1.000000   \n",
       "\n",
       "       ind_aval_fin_ult1  ind_cco_fin_ult1       ...         ind_hip_fin_ult1  \\\n",
       "count      928355.000000     928355.000000       ...            928355.000000   \n",
       "mean            0.000016          0.705189       ...                 0.006886   \n",
       "std             0.004020          0.455958       ...                 0.082698   \n",
       "min             0.000000          0.000000       ...                 0.000000   \n",
       "25%             0.000000          0.000000       ...                 0.000000   \n",
       "50%             0.000000          1.000000       ...                 0.000000   \n",
       "75%             0.000000          1.000000       ...                 0.000000   \n",
       "max             1.000000          1.000000       ...                 1.000000   \n",
       "\n",
       "       ind_plan_fin_ult1  ind_pres_fin_ult1  ind_reca_fin_ult1  \\\n",
       "count      928355.000000      928355.000000      928355.000000   \n",
       "mean            0.010738           0.002855           0.056435   \n",
       "std             0.103068           0.053351           0.230761   \n",
       "min             0.000000           0.000000           0.000000   \n",
       "25%             0.000000           0.000000           0.000000   \n",
       "50%             0.000000           0.000000           0.000000   \n",
       "75%             0.000000           0.000000           0.000000   \n",
       "max             1.000000           1.000000           1.000000   \n",
       "\n",
       "       ind_tjcr_fin_ult1  ind_valo_fin_ult1  ind_viv_fin_ult1  \\\n",
       "count      928355.000000      928355.000000     928355.000000   \n",
       "mean            0.049238           0.027514          0.004359   \n",
       "std             0.216364           0.163576          0.065881   \n",
       "min             0.000000           0.000000          0.000000   \n",
       "25%             0.000000           0.000000          0.000000   \n",
       "50%             0.000000           0.000000          0.000000   \n",
       "75%             0.000000           0.000000          0.000000   \n",
       "max             1.000000           1.000000          1.000000   \n",
       "\n",
       "       ind_nomina_ult1  ind_nom_pens_ult1  ind_recibo_ult1  \n",
       "count    926150.000000      926150.000000    928355.000000  \n",
       "mean          0.058958           0.064036         0.136052  \n",
       "std           0.235546           0.244817         0.342844  \n",
       "min           0.000000           0.000000         0.000000  \n",
       "25%           0.000000           0.000000         0.000000  \n",
       "50%           0.000000           0.000000         0.000000  \n",
       "75%           0.000000           0.000000         0.000000  \n",
       "max           1.000000           1.000000         1.000000  \n",
       "\n",
       "[8 rows x 31 columns]"
      ]
     },
     "execution_count": 5,
     "metadata": {},
     "output_type": "execute_result"
    }
   ],
   "source": [
    "limit_people = 120000\n",
    "unique_id = unique_ids.sample(limit_people)\n",
    "df = df[df.ncodpers.isin(unique_id)]\n",
    "df.describe()"
   ]
  },
  {
   "cell_type": "markdown",
   "metadata": {},
   "source": [
    "Convert datatime"
   ]
  },
  {
   "cell_type": "code",
   "execution_count": 6,
   "metadata": {},
   "outputs": [],
   "source": [
    "df['fecha_dato'] = pd.to_datetime(df['fecha_dato'], format='%Y-%m-%d')\n",
    "df['fecha_alta'] = pd.to_datetime(df['fecha_alta'], format='%Y-%m-%d')"
   ]
  },
  {
   "cell_type": "markdown",
   "metadata": {},
   "source": [
    "Month of samples"
   ]
  },
  {
   "cell_type": "code",
   "execution_count": 7,
   "metadata": {},
   "outputs": [],
   "source": [
    "df['month'] = pd.DatetimeIndex(df['fecha_dato']).month"
   ]
  },
  {
   "cell_type": "code",
   "execution_count": 8,
   "metadata": {},
   "outputs": [],
   "source": [
    "df.age = pd.to_numeric(df.age, errors='coerce')"
   ]
  },
  {
   "cell_type": "markdown",
   "metadata": {},
   "source": [
    "Missing values of each column"
   ]
  },
  {
   "cell_type": "code",
   "execution_count": 9,
   "metadata": {},
   "outputs": [
    {
     "data": {
      "text/plain": [
       "fecha_dato               False\n",
       "ncodpers                 False\n",
       "ind_empleado              True\n",
       "pais_residencia           True\n",
       "sexo                      True\n",
       "age                       True\n",
       "fecha_alta                True\n",
       "ind_nuevo                 True\n",
       "antiguedad               False\n",
       "indrel                    True\n",
       "ult_fec_cli_1t            True\n",
       "indrel_1mes               True\n",
       "tiprel_1mes               True\n",
       "indresi                   True\n",
       "indext                    True\n",
       "conyuemp                  True\n",
       "canal_entrada             True\n",
       "indfall                   True\n",
       "tipodom                   True\n",
       "cod_prov                  True\n",
       "nomprov                   True\n",
       "ind_actividad_cliente     True\n",
       "renta                     True\n",
       "segmento                  True\n",
       "ind_ahor_fin_ult1        False\n",
       "ind_aval_fin_ult1        False\n",
       "ind_cco_fin_ult1         False\n",
       "ind_cder_fin_ult1        False\n",
       "ind_cno_fin_ult1         False\n",
       "ind_ctju_fin_ult1        False\n",
       "ind_ctma_fin_ult1        False\n",
       "ind_ctop_fin_ult1        False\n",
       "ind_ctpp_fin_ult1        False\n",
       "ind_deco_fin_ult1        False\n",
       "ind_deme_fin_ult1        False\n",
       "ind_dela_fin_ult1        False\n",
       "ind_ecue_fin_ult1        False\n",
       "ind_fond_fin_ult1        False\n",
       "ind_hip_fin_ult1         False\n",
       "ind_plan_fin_ult1        False\n",
       "ind_pres_fin_ult1        False\n",
       "ind_reca_fin_ult1        False\n",
       "ind_tjcr_fin_ult1        False\n",
       "ind_valo_fin_ult1        False\n",
       "ind_viv_fin_ult1         False\n",
       "ind_nomina_ult1           True\n",
       "ind_nom_pens_ult1         True\n",
       "ind_recibo_ult1          False\n",
       "month                    False\n",
       "dtype: bool"
      ]
     },
     "execution_count": 9,
     "metadata": {},
     "output_type": "execute_result"
    }
   ],
   "source": [
    "df.isnull().any()"
   ]
  },
  {
   "cell_type": "markdown",
   "metadata": {},
   "source": [
    "## Data Cleaning"
   ]
  },
  {
   "cell_type": "markdown",
   "metadata": {},
   "source": [
    "`age`\n",
    "\n",
    "**Note the threshold of age groups might be improved**"
   ]
  },
  {
   "cell_type": "code",
   "execution_count": 10,
   "metadata": {},
   "outputs": [
    {
     "name": "stderr",
     "output_type": "stream",
     "text": [
      "C:\\Users\\elunden\\AppData\\Local\\Continuum\\anaconda3\\lib\\site-packages\\matplotlib\\axes\\_axes.py:6462: UserWarning: The 'normed' kwarg is deprecated, and has been replaced by the 'density' kwarg.\n",
      "  warnings.warn(\"The 'normed' kwarg is deprecated, and has been \"\n"
     ]
    },
    {
     "data": {
      "image/png": "[encoded data removed]",
      "text/plain": [
       "<Figure size 1152x648 with 1 Axes>"
      ]
     },
     "metadata": {},
     "output_type": "display_data"
    }
   ],
   "source": [
    "with sns.plotting_context(\"notebook\",font_scale=1.5):\n",
    "    plt.figure(figsize=(16, 9))\n",
    "    sns.set_style(\"whitegrid\")\n",
    "    sns.distplot(df[\"age\"].dropna(),\n",
    "                 bins=80,\n",
    "                 kde=False,\n",
    "                 color=\"tomato\")\n",
    "    plt.title(\"Age Distribution\")\n",
    "    plt.ylabel(\"Count\")"
   ]
  },
  {
   "cell_type": "code",
   "execution_count": 11,
   "metadata": {},
   "outputs": [],
   "source": [
    "df.loc[df.age<18, 'age'] = df.loc[(df.age>=18) & (df.age<30), 'age'].mean(skipna=True)\n",
    "df.loc[df.age>100, 'age'] = df.loc[(df.age>=30) & (df.age<100), 'age'].mean(skipna=True)\n",
    "df.age.fillna(df.age.mean(), inplace=True)\n",
    "df.age = df.age.astype(np.int8)"
   ]
  },
  {
   "cell_type": "code",
   "execution_count": 12,
   "metadata": {},
   "outputs": [
    {
     "name": "stderr",
     "output_type": "stream",
     "text": [
      "C:\\Users\\elunden\\AppData\\Local\\Continuum\\anaconda3\\lib\\site-packages\\matplotlib\\axes\\_axes.py:6462: UserWarning: The 'normed' kwarg is deprecated, and has been replaced by the 'density' kwarg.\n",
      "  warnings.warn(\"The 'normed' kwarg is deprecated, and has been \"\n"
     ]
    },
    {
     "data": {
      "image/png": "[encoded data removed]",
      "text/plain": [
       "<Figure size 1152x648 with 1 Axes>"
      ]
     },
     "metadata": {},
     "output_type": "display_data"
    }
   ],
   "source": [
    "with sns.plotting_context(\"notebook\",font_scale=1.5):\n",
    "    plt.figure(figsize=(16, 9))\n",
    "    sns.set_style(\"whitegrid\")\n",
    "    sns.distplot(df[\"age\"].dropna(),\n",
    "                 bins=80,\n",
    "                 kde=False,\n",
    "                 color=\"tomato\")\n",
    "    plt.title(\"Age Distribution\")\n",
    "    plt.ylabel(\"Count\")\n",
    "    plt.xlim((15,100))"
   ]
  },
  {
   "cell_type": "markdown",
   "metadata": {},
   "source": [
    "`ind_nuevo`, if a customer is new or not\n",
    "\n",
    "**Note that `ind_nuevo` should be a function of `fecha_dato` and `fecha_alta`**"
   ]
  },
  {
   "cell_type": "code",
   "execution_count": 13,
   "metadata": {},
   "outputs": [
    {
     "data": {
      "text/plain": [
       "Index(['fecha_dato', 'ncodpers', 'ind_empleado', 'pais_residencia', 'sexo',\n",
       "       'age', 'fecha_alta', 'ind_nuevo', 'antiguedad', 'indrel',\n",
       "       'ult_fec_cli_1t', 'indrel_1mes', 'tiprel_1mes', 'indresi', 'indext',\n",
       "       'conyuemp', 'canal_entrada', 'indfall', 'tipodom', 'cod_prov',\n",
       "       'nomprov', 'ind_actividad_cliente', 'renta', 'segmento',\n",
       "       'ind_ahor_fin_ult1', 'ind_aval_fin_ult1', 'ind_cco_fin_ult1',\n",
       "       'ind_cder_fin_ult1', 'ind_cno_fin_ult1', 'ind_ctju_fin_ult1',\n",
       "       'ind_ctma_fin_ult1', 'ind_ctop_fin_ult1', 'ind_ctpp_fin_ult1',\n",
       "       'ind_deco_fin_ult1', 'ind_deme_fin_ult1', 'ind_dela_fin_ult1',\n",
       "       'ind_ecue_fin_ult1', 'ind_fond_fin_ult1', 'ind_hip_fin_ult1',\n",
       "       'ind_plan_fin_ult1', 'ind_pres_fin_ult1', 'ind_reca_fin_ult1',\n",
       "       'ind_tjcr_fin_ult1', 'ind_valo_fin_ult1', 'ind_viv_fin_ult1',\n",
       "       'ind_nomina_ult1', 'ind_nom_pens_ult1', 'ind_recibo_ult1', 'month'],\n",
       "      dtype='object')"
      ]
     },
     "execution_count": 13,
     "metadata": {},
     "output_type": "execute_result"
    }
   ],
   "source": [
    "df.columns"
   ]
  },
  {
   "cell_type": "code",
   "execution_count": 14,
   "metadata": {},
   "outputs": [
    {
     "data": {
      "text/plain": [
       "6"
      ]
     },
     "execution_count": 14,
     "metadata": {},
     "output_type": "execute_result"
    }
   ],
   "source": [
    "date_first_active = df.loc[df.ind_nuevo.isnull(), :].groupby('ncodpers', sort=False)['fecha_dato'].size()\n",
    "date_first_active.max()"
   ]
  },
  {
   "cell_type": "code",
   "execution_count": 15,
   "metadata": {},
   "outputs": [],
   "source": [
    "df.loc[df.ind_nuevo.isnull(), 'ind_nuevo'] = 1"
   ]
  },
  {
   "cell_type": "code",
   "execution_count": 16,
   "metadata": {},
   "outputs": [
    {
     "data": {
      "text/plain": [
       "0"
      ]
     },
     "execution_count": 16,
     "metadata": {},
     "output_type": "execute_result"
    }
   ],
   "source": [
    "df.ind_nuevo.isnull().sum()"
   ]
  },
  {
   "cell_type": "markdown",
   "metadata": {},
   "source": [
    "`antiguedad` Customer seniority (in months)"
   ]
  },
  {
   "cell_type": "code",
   "execution_count": 17,
   "metadata": {},
   "outputs": [
    {
     "data": {
      "text/plain": [
       "array(['     35', '     NA', '     27', '     34', '     13', '     10',\n",
       "       '     33', '     23', '     21', '     28', '      6', '     20',\n",
       "       '     12', '      8', '     29', '     18', '     32', '    157',\n",
       "       '     15', '     22', '     36', '     38', '     37', '     26',\n",
       "       '     31', '     17', '     11', '     39', '      9', '     14',\n",
       "       '     24', '      0', '     30', '     25', '     16', '      5',\n",
       "       '      1', '     47', '     46', '     44', '     45', '     57',\n",
       "       '     58', '     48', '     56', '     52', '     59', '     40',\n",
       "       '     54', '     53', '     49', '     42', '     50', '     51',\n",
       "       '     55', '     41', '     62', '     61', '     60', '     63',\n",
       "       '      7', '     43', '     19', '      2', '      3', '      4',\n",
       "       '    165', '    164', '    128', '    143', '    216', '    156',\n",
       "       '     92', '    160', '    198', '    140', '    147', '    162',\n",
       "       '    141', '    117', '    154', '    161', '    120', '     88',\n",
       "       '    159', '     98', '     84', '    171', '     81', '    149',\n",
       "       '    163', '    138', '     65', '    100', '    131', '    139',\n",
       "       '    112', '    150', '    105', '    137', '    166', '    167',\n",
       "       '    146', '    135', '    101', '    152', '    151', '    168',\n",
       "       '     89', '    153', '     96', '    111', '     94', '    193',\n",
       "       '    114', '    158', '    178', '    127', '    155', '     78',\n",
       "       '     64', '    121', '    118', '     72', '     71', '    199',\n",
       "       '    179', '    119', '     97', '    142', '    113', '    115',\n",
       "       '    116', '    123', '     99', '    192', '    109', '     83',\n",
       "       '    173', '     85', '    129', '    176', '    188', '    144',\n",
       "       '    213', '    133', '    122', '    148', '    175', '    106',\n",
       "       '    104', '    172', '    132', '    169', '    102', '     86',\n",
       "       '    136', '    180', '    107', '     95', '    126', '    145',\n",
       "       '    170', '     77', '    103', '     82', '     87', '     70',\n",
       "       '    110', '    125', '     93', '    211', '    174', '    185',\n",
       "       '     73', '    191', '     76', '    134', '     69', '    177',\n",
       "       '     67', '    108', '    208', '    124', '     80', '     68',\n",
       "       '     66', '    206', '     79', '    232', '    242', '    195',\n",
       "       '     90', '    130', '     74', '    187', '    235', '     75',\n",
       "       '    181', '    186', '    196', '    209', '    202', '    241',\n",
       "       '    204', '    210', '    205', '    201', '    212', '    189',\n",
       "       '    183', '    200', '    197', '    207', '    194', '    182',\n",
       "       '    190', '    184', '    214', '    203', '    215', '    222',\n",
       "       '    220', '    217', '    238', '    233', '    221', '    237',\n",
       "       '    229', '    234', '    223', '    230', '    227', '    231',\n",
       "       '    225', '    228', '    218', '    219', '    226', '    224',\n",
       "       '    240', '    239', '    243', '    246', '    245', '    244',\n",
       "       '    236', '-999999', '     91', 105, 69, 104, 87, 103, 86, 10, 72,\n",
       "       80, 88, 11, 100, 101, 43, 5, 94, 37, 97, 81, 63, 61, 15, 38, 58,\n",
       "       68, 31, 3, 23, 93, 64, 102, 98, 62, 39, 84, 65, 60, 49, 9, 71, 0,\n",
       "       44, 52, 67, 34, 83, 85, 53, 17, 91, 47, 16, 13, 78, 1, 48, 111, 25,\n",
       "       50, 74, 110, 2, 73, 99, 107, 112, 108, 27, 66, 90, 77, 113, 26, 12,\n",
       "       76, 82, 36, 57, 14, 7, 96, 51, 40, 109, 41, 95, 8, 106, 29, 28, 4,\n",
       "       20, 33, 18, 54, 45, 79, 92, 89, 24, 42, 6, 30, 22, 59, 55, 75, 19,\n",
       "       46, 21, 32, 35, 56, 70, 127, 126, 125, 122, 204, 124, 119, 116,\n",
       "       120, 117, 114, 128, 129, 175, 123, 121, 118, 115, 133, 132, 130,\n",
       "       131, 134, 173, 176, 177, 136, 210, 161, 171, 201, 208, 135, 186,\n",
       "       184, 181, 143, 152, 189, 185, 180, 214, 168, 182, 183, 147, 156,\n",
       "       140, 174, 157, 193, 179, 190, 139, 202, 164, 153, 160, 141, 199,\n",
       "       159, 166, 172, 170, 150, 163, 146, 187, 167, 137, 212, 162,\n",
       "       -999999, 155, 165, 151, 169, 205, 149, 221, 178, 154, 158, 144,\n",
       "       194, 198, 229, 231, 145, 211, 197, 188, 192, 191, 195, 148, 196,\n",
       "       138, 238, 200, 206, 142, 241, 237, 207, 222, 219, 220, 216, 223,\n",
       "       217, 228, 218, 239, 232, 215, 213, 224, 225, 209, 226, 203, 234,\n",
       "       233, 236, 235, 230, 227, 242, 240, 244, 243, 246, 245, 247, 248,\n",
       "       249], dtype=object)"
      ]
     },
     "execution_count": 17,
     "metadata": {},
     "output_type": "execute_result"
    }
   ],
   "source": [
    "df.antiguedad.unique()"
   ]
  },
  {
   "cell_type": "code",
   "execution_count": 18,
   "metadata": {},
   "outputs": [
    {
     "data": {
      "text/plain": [
       "3760"
      ]
     },
     "execution_count": 18,
     "metadata": {},
     "output_type": "execute_result"
    }
   ],
   "source": [
    "df.antiguedad = pd.to_numeric(df.antiguedad, errors='coerce')\n",
    "np.sum(df.antiguedad.isnull())"
   ]
  },
  {
   "cell_type": "markdown",
   "metadata": {},
   "source": [
    "The number of nulls in `antiguedad` is the same as `ind_nuevo`, maybe it's the same group of customers\n",
    "\n",
    "**Note the method below is not strict**"
   ]
  },
  {
   "cell_type": "code",
   "execution_count": 19,
   "metadata": {},
   "outputs": [
    {
     "data": {
      "text/plain": [
       "count    3760.0\n",
       "mean        1.0\n",
       "std         0.0\n",
       "min         1.0\n",
       "25%         1.0\n",
       "50%         1.0\n",
       "75%         1.0\n",
       "max         1.0\n",
       "Name: ind_nuevo, dtype: float64"
      ]
     },
     "execution_count": 19,
     "metadata": {},
     "output_type": "execute_result"
    }
   ],
   "source": [
    "df.loc[df.antiguedad.isnull(), 'ind_nuevo'].describe()"
   ]
  },
  {
   "cell_type": "code",
   "execution_count": 20,
   "metadata": {},
   "outputs": [],
   "source": [
    "df.loc[df.antiguedad.isnull(), 'antiguedad'] = df.antiguedad.min()\n",
    "df.loc[df.antiguedad<0, 'antiguedad'] = 0"
   ]
  },
  {
   "cell_type": "code",
   "execution_count": 21,
   "metadata": {},
   "outputs": [
    {
     "data": {
      "text/plain": [
       "0"
      ]
     },
     "execution_count": 21,
     "metadata": {},
     "output_type": "execute_result"
    }
   ],
   "source": [
    "df.antiguedad.isnull().sum()"
   ]
  },
  {
   "cell_type": "markdown",
   "metadata": {},
   "source": [
    "`fecha_alta` The date in which the customer became as the first holder of a contract in the bank.\n",
    "\n",
    "Note this is the same group of customers"
   ]
  },
  {
   "cell_type": "code",
   "execution_count": 22,
   "metadata": {},
   "outputs": [
    {
     "data": {
      "text/plain": [
       "3760"
      ]
     },
     "execution_count": 22,
     "metadata": {},
     "output_type": "execute_result"
    }
   ],
   "source": [
    "df.fecha_alta.isnull().sum()"
   ]
  },
  {
   "cell_type": "code",
   "execution_count": 23,
   "metadata": {},
   "outputs": [],
   "source": [
    "dates = df.loc[:, 'fecha_alta'].sort_values().reset_index()"
   ]
  },
  {
   "cell_type": "code",
   "execution_count": 24,
   "metadata": {},
   "outputs": [],
   "source": [
    "median_date = int(np.median(dates.index.values))"
   ]
  },
  {
   "cell_type": "code",
   "execution_count": 25,
   "metadata": {},
   "outputs": [],
   "source": [
    "df.loc[df.fecha_alta.isnull(), 'fecha_alta'] = dates.loc[median_date, 'fecha_alta']"
   ]
  },
  {
   "cell_type": "code",
   "execution_count": 26,
   "metadata": {},
   "outputs": [
    {
     "data": {
      "text/plain": [
       "count                  928355\n",
       "unique                   6064\n",
       "top       2011-08-11 00:00:00\n",
       "freq                     4561\n",
       "first     1995-01-16 00:00:00\n",
       "last      2015-10-30 00:00:00\n",
       "Name: fecha_alta, dtype: object"
      ]
     },
     "execution_count": 26,
     "metadata": {},
     "output_type": "execute_result"
    }
   ],
   "source": [
    "df.fecha_alta.describe()"
   ]
  },
  {
   "cell_type": "markdown",
   "metadata": {},
   "source": [
    "`indrel` 1 (First/Primary), 99 (Primary customer during the month but not at the end of the month)"
   ]
  },
  {
   "cell_type": "code",
   "execution_count": 27,
   "metadata": {},
   "outputs": [
    {
     "data": {
      "text/plain": [
       "3760"
      ]
     },
     "execution_count": 27,
     "metadata": {},
     "output_type": "execute_result"
    }
   ],
   "source": [
    "df.indrel.isnull().sum()"
   ]
  },
  {
   "cell_type": "code",
   "execution_count": 28,
   "metadata": {},
   "outputs": [],
   "source": [
    "df.loc[df.indrel.isnull(), 'indrel'] = 1"
   ]
  },
  {
   "cell_type": "code",
   "execution_count": 29,
   "metadata": {},
   "outputs": [],
   "source": [
    "df.indrel = df.indrel.astype(np.int8)"
   ]
  },
  {
   "cell_type": "markdown",
   "metadata": {},
   "source": [
    "`tipodom` Addres type. 1, primary address cod_prov - Province code (customer's address)"
   ]
  },
  {
   "cell_type": "code",
   "execution_count": 30,
   "metadata": {},
   "outputs": [
    {
     "data": {
      "text/plain": [
       "3760"
      ]
     },
     "execution_count": 30,
     "metadata": {},
     "output_type": "execute_result"
    }
   ],
   "source": [
    "df.tipodom.isnull().sum()"
   ]
  },
  {
   "cell_type": "code",
   "execution_count": 31,
   "metadata": {},
   "outputs": [],
   "source": [
    "df.drop(['tipodom'], axis=1, inplace=True)"
   ]
  },
  {
   "cell_type": "markdown",
   "metadata": {},
   "source": [
    "`cod_prov` Province code (customer's address)"
   ]
  },
  {
   "cell_type": "code",
   "execution_count": 32,
   "metadata": {},
   "outputs": [
    {
     "data": {
      "text/plain": [
       "array([13.,  8., 22., 37., 28.,  3., 39., 29., 46., 45., 15., 17., 50.,\n",
       "       12., 27.,  5., 49., 11.,  9., 10.,  6.,  2., 47., 31., 36., 16.,\n",
       "       23., 14., 25., 18., 41.,  7., 21., 19., nan, 34., 24., 32., 43.,\n",
       "       38., 40., 33., 30., 26., 35., 42., 44., 48., 20.,  1.,  4., 52.,\n",
       "       51.])"
      ]
     },
     "execution_count": 32,
     "metadata": {},
     "output_type": "execute_result"
    }
   ],
   "source": [
    "df.cod_prov.unique()"
   ]
  },
  {
   "cell_type": "code",
   "execution_count": 33,
   "metadata": {},
   "outputs": [
    {
     "data": {
      "text/plain": [
       "8626"
      ]
     },
     "execution_count": 33,
     "metadata": {},
     "output_type": "execute_result"
    }
   ],
   "source": [
    "df.cod_prov.isnull().sum()"
   ]
  },
  {
   "cell_type": "code",
   "execution_count": 34,
   "metadata": {},
   "outputs": [],
   "source": [
    "#df.drop(['cod_prov'], axis=1, inplace=True)"
   ]
  },
  {
   "cell_type": "markdown",
   "metadata": {},
   "source": [
    "Check missing values"
   ]
  },
  {
   "cell_type": "code",
   "execution_count": 35,
   "metadata": {},
   "outputs": [
    {
     "data": {
      "text/plain": [
       "fecha_dato               False\n",
       "ncodpers                 False\n",
       "ind_empleado              True\n",
       "pais_residencia           True\n",
       "sexo                      True\n",
       "age                      False\n",
       "fecha_alta               False\n",
       "ind_nuevo                False\n",
       "antiguedad               False\n",
       "indrel                   False\n",
       "ult_fec_cli_1t            True\n",
       "indrel_1mes               True\n",
       "tiprel_1mes               True\n",
       "indresi                   True\n",
       "indext                    True\n",
       "conyuemp                  True\n",
       "canal_entrada             True\n",
       "indfall                   True\n",
       "cod_prov                  True\n",
       "nomprov                   True\n",
       "ind_actividad_cliente     True\n",
       "renta                     True\n",
       "segmento                  True\n",
       "ind_ahor_fin_ult1        False\n",
       "ind_aval_fin_ult1        False\n",
       "ind_cco_fin_ult1         False\n",
       "ind_cder_fin_ult1        False\n",
       "ind_cno_fin_ult1         False\n",
       "ind_ctju_fin_ult1        False\n",
       "ind_ctma_fin_ult1        False\n",
       "ind_ctop_fin_ult1        False\n",
       "ind_ctpp_fin_ult1        False\n",
       "ind_deco_fin_ult1        False\n",
       "ind_deme_fin_ult1        False\n",
       "ind_dela_fin_ult1        False\n",
       "ind_ecue_fin_ult1        False\n",
       "ind_fond_fin_ult1        False\n",
       "ind_hip_fin_ult1         False\n",
       "ind_plan_fin_ult1        False\n",
       "ind_pres_fin_ult1        False\n",
       "ind_reca_fin_ult1        False\n",
       "ind_tjcr_fin_ult1        False\n",
       "ind_valo_fin_ult1        False\n",
       "ind_viv_fin_ult1         False\n",
       "ind_nomina_ult1           True\n",
       "ind_nom_pens_ult1         True\n",
       "ind_recibo_ult1          False\n",
       "month                    False\n",
       "dtype: bool"
      ]
     },
     "execution_count": 35,
     "metadata": {},
     "output_type": "execute_result"
    }
   ],
   "source": [
    "df.isnull().any()"
   ]
  },
  {
   "cell_type": "markdown",
   "metadata": {},
   "source": [
    "`ind_activadad_cliente` Activity index (1, active customer; 0, inactive customer)"
   ]
  },
  {
   "cell_type": "code",
   "execution_count": 36,
   "metadata": {},
   "outputs": [
    {
     "data": {
      "text/plain": [
       "array([ 0.,  1., nan])"
      ]
     },
     "execution_count": 36,
     "metadata": {},
     "output_type": "execute_result"
    }
   ],
   "source": [
    "df.ind_actividad_cliente.unique()"
   ]
  },
  {
   "cell_type": "code",
   "execution_count": 37,
   "metadata": {},
   "outputs": [
    {
     "data": {
      "text/plain": [
       "3760"
      ]
     },
     "execution_count": 37,
     "metadata": {},
     "output_type": "execute_result"
    }
   ],
   "source": [
    "df.ind_actividad_cliente.isnull().sum()"
   ]
  },
  {
   "cell_type": "code",
   "execution_count": 38,
   "metadata": {},
   "outputs": [],
   "source": [
    "df.loc[df.ind_actividad_cliente.isnull(), 'ind_actividad_cliente'] = df.ind_actividad_cliente.median()"
   ]
  },
  {
   "cell_type": "code",
   "execution_count": 39,
   "metadata": {},
   "outputs": [
    {
     "data": {
      "text/plain": [
       "0.0    477357\n",
       "1.0    450998\n",
       "Name: ind_actividad_cliente, dtype: int64"
      ]
     },
     "execution_count": 39,
     "metadata": {},
     "output_type": "execute_result"
    }
   ],
   "source": [
    "df.ind_actividad_cliente.value_counts()"
   ]
  },
  {
   "cell_type": "markdown",
   "metadata": {},
   "source": [
    "`nomprov` Province name"
   ]
  },
  {
   "cell_type": "code",
   "execution_count": 40,
   "metadata": {},
   "outputs": [
    {
     "data": {
      "text/plain": [
       "array(['CIUDAD REAL', 'BARCELONA', 'HUESCA', 'SALAMANCA', 'MADRID',\n",
       "       'ALICANTE', 'CANTABRIA', 'MALAGA', 'VALENCIA', 'TOLEDO',\n",
       "       'CORUÑA, A', 'GIRONA', 'ZARAGOZA', 'CASTELLON', 'LUGO', 'AVILA',\n",
       "       'ZAMORA', 'CADIZ', 'BURGOS', 'CACERES', 'BADAJOZ', 'ALBACETE',\n",
       "       'VALLADOLID', 'NAVARRA', 'PONTEVEDRA', 'CUENCA', 'JAEN', 'CORDOBA',\n",
       "       'LERIDA', 'GRANADA', 'SEVILLA', 'BALEARS, ILLES', 'HUELVA',\n",
       "       'GUADALAJARA', nan, 'PALENCIA', 'LEON', 'OURENSE', 'TARRAGONA',\n",
       "       'SANTA CRUZ DE TENERIFE', 'SEGOVIA', 'ASTURIAS', 'MURCIA',\n",
       "       'RIOJA, LA', 'PALMAS, LAS', 'SORIA', 'TERUEL', 'BIZKAIA',\n",
       "       'GIPUZKOA', 'ALAVA', 'ALMERIA', 'MELILLA', 'CEUTA'], dtype=object)"
      ]
     },
     "execution_count": 40,
     "metadata": {},
     "output_type": "execute_result"
    }
   ],
   "source": [
    "df.nomprov.unique()"
   ]
  },
  {
   "cell_type": "markdown",
   "metadata": {},
   "source": [
    "There was an issue with the unicode character ñ in A Coruña. I'll manually fix it, but if anybody knows a better way to catch cases like this I would be very glad to hear it in the comments."
   ]
  },
  {
   "cell_type": "code",
   "execution_count": 41,
   "metadata": {},
   "outputs": [],
   "source": [
    "df.loc[df.nomprov==\"CORU\\xc3\\x91A, A\",\"nomprov\"] = \"CORUNA, A\""
   ]
  },
  {
   "cell_type": "code",
   "execution_count": 42,
   "metadata": {},
   "outputs": [],
   "source": [
    "df.loc[df.nomprov.isnull(), 'nomprov'] = 'UNKNOWN'"
   ]
  },
  {
   "cell_type": "markdown",
   "metadata": {},
   "source": [
    "`renta` Gross income of the household"
   ]
  },
  {
   "cell_type": "code",
   "execution_count": 43,
   "metadata": {},
   "outputs": [
    {
     "data": {
      "text/plain": [
       "164932"
      ]
     },
     "execution_count": 43,
     "metadata": {},
     "output_type": "execute_result"
    }
   ],
   "source": [
    "df.renta.isnull().sum()"
   ]
  },
  {
   "cell_type": "markdown",
   "metadata": {},
   "source": [
    "Maybe fillna with regional median"
   ]
  },
  {
   "cell_type": "code",
   "execution_count": 44,
   "metadata": {},
   "outputs": [],
   "source": [
    "incomes = df.loc[df.renta.notnull(), :].groupby('nomprov')['renta'].agg([np.median, np.std, np.mean])"
   ]
  },
  {
   "cell_type": "code",
   "execution_count": 45,
   "metadata": {},
   "outputs": [],
   "source": [
    "incomes.columns = ['MedianIncome', 'StdIncome', 'MeanIncome']\n",
    "incomes.sort_values('MedianIncome', ascending=False, inplace=True)\n",
    "incomes.reset_index(inplace=True)\n",
    "incomes.nomprov = incomes.nomprov.astype('category')"
   ]
  },
  {
   "cell_type": "code",
   "execution_count": 46,
   "metadata": {},
   "outputs": [
    {
     "data": {
      "text/html": [
       "<div>\n",
       "<style scoped>\n",
       "    .dataframe tbody tr th:only-of-type {\n",
       "        vertical-align: middle;\n",
       "    }\n",
       "\n",
       "    .dataframe tbody tr th {\n",
       "        vertical-align: top;\n",
       "    }\n",
       "\n",
       "    .dataframe thead th {\n",
       "        text-align: right;\n",
       "    }\n",
       "</style>\n",
       "<table border=\"1\" class=\"dataframe\">\n",
       "  <thead>\n",
       "    <tr style=\"text-align: right;\">\n",
       "      <th></th>\n",
       "      <th>nomprov</th>\n",
       "      <th>MedianIncome</th>\n",
       "      <th>StdIncome</th>\n",
       "      <th>MeanIncome</th>\n",
       "    </tr>\n",
       "  </thead>\n",
       "  <tbody>\n",
       "    <tr>\n",
       "      <th>0</th>\n",
       "      <td>UNKNOWN</td>\n",
       "      <td>242701.02</td>\n",
       "      <td>NaN</td>\n",
       "      <td>242701.020000</td>\n",
       "    </tr>\n",
       "    <tr>\n",
       "      <th>1</th>\n",
       "      <td>NAVARRA</td>\n",
       "      <td>141417.48</td>\n",
       "      <td>33339.275096</td>\n",
       "      <td>129630.266250</td>\n",
       "    </tr>\n",
       "    <tr>\n",
       "      <th>2</th>\n",
       "      <td>CEUTA</td>\n",
       "      <td>141143.55</td>\n",
       "      <td>257057.335411</td>\n",
       "      <td>219171.355730</td>\n",
       "    </tr>\n",
       "    <tr>\n",
       "      <th>3</th>\n",
       "      <td>MADRID</td>\n",
       "      <td>140494.56</td>\n",
       "      <td>353094.010377</td>\n",
       "      <td>181202.969082</td>\n",
       "    </tr>\n",
       "    <tr>\n",
       "      <th>4</th>\n",
       "      <td>BARCELONA</td>\n",
       "      <td>131368.65</td>\n",
       "      <td>141212.603262</td>\n",
       "      <td>163872.550720</td>\n",
       "    </tr>\n",
       "    <tr>\n",
       "      <th>5</th>\n",
       "      <td>BALEARS, ILLES</td>\n",
       "      <td>125962.23</td>\n",
       "      <td>198724.118712</td>\n",
       "      <td>164777.606502</td>\n",
       "    </tr>\n",
       "    <tr>\n",
       "      <th>6</th>\n",
       "      <td>GIRONA</td>\n",
       "      <td>110794.86</td>\n",
       "      <td>125743.839144</td>\n",
       "      <td>145446.480402</td>\n",
       "    </tr>\n",
       "    <tr>\n",
       "      <th>7</th>\n",
       "      <td>MELILLA</td>\n",
       "      <td>108997.44</td>\n",
       "      <td>263083.322955</td>\n",
       "      <td>158411.906265</td>\n",
       "    </tr>\n",
       "    <tr>\n",
       "      <th>8</th>\n",
       "      <td>ZARAGOZA</td>\n",
       "      <td>102144.60</td>\n",
       "      <td>88088.669752</td>\n",
       "      <td>113643.678641</td>\n",
       "    </tr>\n",
       "    <tr>\n",
       "      <th>9</th>\n",
       "      <td>PONTEVEDRA</td>\n",
       "      <td>97642.02</td>\n",
       "      <td>65373.756326</td>\n",
       "      <td>112156.337895</td>\n",
       "    </tr>\n",
       "    <tr>\n",
       "      <th>10</th>\n",
       "      <td>CANTABRIA</td>\n",
       "      <td>97569.39</td>\n",
       "      <td>80939.580077</td>\n",
       "      <td>119518.579213</td>\n",
       "    </tr>\n",
       "    <tr>\n",
       "      <th>11</th>\n",
       "      <td>VALLADOLID</td>\n",
       "      <td>96142.77</td>\n",
       "      <td>66255.442187</td>\n",
       "      <td>104741.708324</td>\n",
       "    </tr>\n",
       "    <tr>\n",
       "      <th>12</th>\n",
       "      <td>CORUÑA, A</td>\n",
       "      <td>95718.12</td>\n",
       "      <td>74732.973570</td>\n",
       "      <td>111336.826277</td>\n",
       "    </tr>\n",
       "    <tr>\n",
       "      <th>13</th>\n",
       "      <td>MALAGA</td>\n",
       "      <td>95583.66</td>\n",
       "      <td>134312.843430</td>\n",
       "      <td>120686.971481</td>\n",
       "    </tr>\n",
       "    <tr>\n",
       "      <th>14</th>\n",
       "      <td>SEVILLA</td>\n",
       "      <td>94826.40</td>\n",
       "      <td>281669.002969</td>\n",
       "      <td>121293.565902</td>\n",
       "    </tr>\n",
       "    <tr>\n",
       "      <th>15</th>\n",
       "      <td>GUADALAJARA</td>\n",
       "      <td>93437.88</td>\n",
       "      <td>51223.556661</td>\n",
       "      <td>98173.354893</td>\n",
       "    </tr>\n",
       "    <tr>\n",
       "      <th>16</th>\n",
       "      <td>SEGOVIA</td>\n",
       "      <td>91834.14</td>\n",
       "      <td>64639.156571</td>\n",
       "      <td>100348.932099</td>\n",
       "    </tr>\n",
       "    <tr>\n",
       "      <th>17</th>\n",
       "      <td>SALAMANCA</td>\n",
       "      <td>91574.10</td>\n",
       "      <td>66093.315649</td>\n",
       "      <td>102036.792544</td>\n",
       "    </tr>\n",
       "    <tr>\n",
       "      <th>18</th>\n",
       "      <td>RIOJA, LA</td>\n",
       "      <td>90681.87</td>\n",
       "      <td>44146.459494</td>\n",
       "      <td>97876.131222</td>\n",
       "    </tr>\n",
       "    <tr>\n",
       "      <th>19</th>\n",
       "      <td>BURGOS</td>\n",
       "      <td>90181.32</td>\n",
       "      <td>43868.522645</td>\n",
       "      <td>97827.147568</td>\n",
       "    </tr>\n",
       "    <tr>\n",
       "      <th>20</th>\n",
       "      <td>TARRAGONA</td>\n",
       "      <td>89375.07</td>\n",
       "      <td>57417.377589</td>\n",
       "      <td>99933.154128</td>\n",
       "    </tr>\n",
       "    <tr>\n",
       "      <th>21</th>\n",
       "      <td>ASTURIAS</td>\n",
       "      <td>87952.08</td>\n",
       "      <td>58560.217079</td>\n",
       "      <td>101579.440914</td>\n",
       "    </tr>\n",
       "    <tr>\n",
       "      <th>22</th>\n",
       "      <td>GRANADA</td>\n",
       "      <td>82868.13</td>\n",
       "      <td>147411.773112</td>\n",
       "      <td>98177.315773</td>\n",
       "    </tr>\n",
       "    <tr>\n",
       "      <th>23</th>\n",
       "      <td>PALENCIA</td>\n",
       "      <td>82447.56</td>\n",
       "      <td>47742.742175</td>\n",
       "      <td>88586.168794</td>\n",
       "    </tr>\n",
       "    <tr>\n",
       "      <th>24</th>\n",
       "      <td>PALMAS, LAS</td>\n",
       "      <td>81443.46</td>\n",
       "      <td>77813.370954</td>\n",
       "      <td>99988.562302</td>\n",
       "    </tr>\n",
       "    <tr>\n",
       "      <th>25</th>\n",
       "      <td>SANTA CRUZ DE TENERIFE</td>\n",
       "      <td>81028.83</td>\n",
       "      <td>77113.609088</td>\n",
       "      <td>102778.235250</td>\n",
       "    </tr>\n",
       "    <tr>\n",
       "      <th>26</th>\n",
       "      <td>LEON</td>\n",
       "      <td>80777.61</td>\n",
       "      <td>54206.733861</td>\n",
       "      <td>93733.346787</td>\n",
       "    </tr>\n",
       "    <tr>\n",
       "      <th>27</th>\n",
       "      <td>CADIZ</td>\n",
       "      <td>80156.97</td>\n",
       "      <td>87606.216097</td>\n",
       "      <td>99864.777570</td>\n",
       "    </tr>\n",
       "    <tr>\n",
       "      <th>28</th>\n",
       "      <td>ALBACETE</td>\n",
       "      <td>79794.00</td>\n",
       "      <td>37689.792339</td>\n",
       "      <td>84492.292776</td>\n",
       "    </tr>\n",
       "    <tr>\n",
       "      <th>29</th>\n",
       "      <td>TERUEL</td>\n",
       "      <td>79468.05</td>\n",
       "      <td>36124.234041</td>\n",
       "      <td>88804.001586</td>\n",
       "    </tr>\n",
       "    <tr>\n",
       "      <th>30</th>\n",
       "      <td>OURENSE</td>\n",
       "      <td>76876.11</td>\n",
       "      <td>38653.279926</td>\n",
       "      <td>83052.610129</td>\n",
       "    </tr>\n",
       "    <tr>\n",
       "      <th>31</th>\n",
       "      <td>ZAMORA</td>\n",
       "      <td>76010.79</td>\n",
       "      <td>107543.352024</td>\n",
       "      <td>89883.897088</td>\n",
       "    </tr>\n",
       "    <tr>\n",
       "      <th>32</th>\n",
       "      <td>SORIA</td>\n",
       "      <td>73957.92</td>\n",
       "      <td>36396.000418</td>\n",
       "      <td>80803.871570</td>\n",
       "    </tr>\n",
       "    <tr>\n",
       "      <th>33</th>\n",
       "      <td>HUESCA</td>\n",
       "      <td>73467.81</td>\n",
       "      <td>56692.680725</td>\n",
       "      <td>81339.868279</td>\n",
       "    </tr>\n",
       "    <tr>\n",
       "      <th>34</th>\n",
       "      <td>ALMERIA</td>\n",
       "      <td>73278.81</td>\n",
       "      <td>50078.864571</td>\n",
       "      <td>85230.470729</td>\n",
       "    </tr>\n",
       "    <tr>\n",
       "      <th>35</th>\n",
       "      <td>VALENCIA</td>\n",
       "      <td>72644.19</td>\n",
       "      <td>88605.826118</td>\n",
       "      <td>90491.008688</td>\n",
       "    </tr>\n",
       "    <tr>\n",
       "      <th>36</th>\n",
       "      <td>CORDOBA</td>\n",
       "      <td>70471.41</td>\n",
       "      <td>61410.830174</td>\n",
       "      <td>84825.312401</td>\n",
       "    </tr>\n",
       "    <tr>\n",
       "      <th>37</th>\n",
       "      <td>JAEN</td>\n",
       "      <td>69797.82</td>\n",
       "      <td>44139.629096</td>\n",
       "      <td>77761.397377</td>\n",
       "    </tr>\n",
       "    <tr>\n",
       "      <th>38</th>\n",
       "      <td>HUELVA</td>\n",
       "      <td>69731.58</td>\n",
       "      <td>40820.017093</td>\n",
       "      <td>76656.800472</td>\n",
       "    </tr>\n",
       "    <tr>\n",
       "      <th>39</th>\n",
       "      <td>CASTELLON</td>\n",
       "      <td>68074.53</td>\n",
       "      <td>54428.363656</td>\n",
       "      <td>81409.241948</td>\n",
       "    </tr>\n",
       "    <tr>\n",
       "      <th>40</th>\n",
       "      <td>MURCIA</td>\n",
       "      <td>68008.74</td>\n",
       "      <td>42250.030767</td>\n",
       "      <td>78100.750458</td>\n",
       "    </tr>\n",
       "    <tr>\n",
       "      <th>41</th>\n",
       "      <td>CUENCA</td>\n",
       "      <td>67825.26</td>\n",
       "      <td>36389.213035</td>\n",
       "      <td>71051.597984</td>\n",
       "    </tr>\n",
       "    <tr>\n",
       "      <th>42</th>\n",
       "      <td>ALICANTE</td>\n",
       "      <td>67044.78</td>\n",
       "      <td>68946.324793</td>\n",
       "      <td>83619.066735</td>\n",
       "    </tr>\n",
       "    <tr>\n",
       "      <th>43</th>\n",
       "      <td>TOLEDO</td>\n",
       "      <td>67037.34</td>\n",
       "      <td>49489.935908</td>\n",
       "      <td>78150.976526</td>\n",
       "    </tr>\n",
       "    <tr>\n",
       "      <th>44</th>\n",
       "      <td>LUGO</td>\n",
       "      <td>66282.60</td>\n",
       "      <td>48822.023259</td>\n",
       "      <td>78770.638546</td>\n",
       "    </tr>\n",
       "    <tr>\n",
       "      <th>45</th>\n",
       "      <td>LERIDA</td>\n",
       "      <td>66002.73</td>\n",
       "      <td>60246.774555</td>\n",
       "      <td>84015.399039</td>\n",
       "    </tr>\n",
       "    <tr>\n",
       "      <th>46</th>\n",
       "      <td>CACERES</td>\n",
       "      <td>65925.42</td>\n",
       "      <td>40224.406272</td>\n",
       "      <td>73157.066776</td>\n",
       "    </tr>\n",
       "    <tr>\n",
       "      <th>47</th>\n",
       "      <td>AVILA</td>\n",
       "      <td>65287.80</td>\n",
       "      <td>38415.493457</td>\n",
       "      <td>71999.407016</td>\n",
       "    </tr>\n",
       "    <tr>\n",
       "      <th>48</th>\n",
       "      <td>BADAJOZ</td>\n",
       "      <td>62137.59</td>\n",
       "      <td>39498.063045</td>\n",
       "      <td>71306.096591</td>\n",
       "    </tr>\n",
       "    <tr>\n",
       "      <th>49</th>\n",
       "      <td>CIUDAD REAL</td>\n",
       "      <td>59953.89</td>\n",
       "      <td>43421.681839</td>\n",
       "      <td>69426.209799</td>\n",
       "    </tr>\n",
       "  </tbody>\n",
       "</table>\n",
       "</div>"
      ],
      "text/plain": [
       "                   nomprov  MedianIncome      StdIncome     MeanIncome\n",
       "0                  UNKNOWN     242701.02            NaN  242701.020000\n",
       "1                  NAVARRA     141417.48   33339.275096  129630.266250\n",
       "2                    CEUTA     141143.55  257057.335411  219171.355730\n",
       "3                   MADRID     140494.56  353094.010377  181202.969082\n",
       "4                BARCELONA     131368.65  141212.603262  163872.550720\n",
       "5           BALEARS, ILLES     125962.23  198724.118712  164777.606502\n",
       "6                   GIRONA     110794.86  125743.839144  145446.480402\n",
       "7                  MELILLA     108997.44  263083.322955  158411.906265\n",
       "8                 ZARAGOZA     102144.60   88088.669752  113643.678641\n",
       "9               PONTEVEDRA      97642.02   65373.756326  112156.337895\n",
       "10               CANTABRIA      97569.39   80939.580077  119518.579213\n",
       "11              VALLADOLID      96142.77   66255.442187  104741.708324\n",
       "12               CORUÑA, A      95718.12   74732.973570  111336.826277\n",
       "13                  MALAGA      95583.66  134312.843430  120686.971481\n",
       "14                 SEVILLA      94826.40  281669.002969  121293.565902\n",
       "15             GUADALAJARA      93437.88   51223.556661   98173.354893\n",
       "16                 SEGOVIA      91834.14   64639.156571  100348.932099\n",
       "17               SALAMANCA      91574.10   66093.315649  102036.792544\n",
       "18               RIOJA, LA      90681.87   44146.459494   97876.131222\n",
       "19                  BURGOS      90181.32   43868.522645   97827.147568\n",
       "20               TARRAGONA      89375.07   57417.377589   99933.154128\n",
       "21                ASTURIAS      87952.08   58560.217079  101579.440914\n",
       "22                 GRANADA      82868.13  147411.773112   98177.315773\n",
       "23                PALENCIA      82447.56   47742.742175   88586.168794\n",
       "24             PALMAS, LAS      81443.46   77813.370954   99988.562302\n",
       "25  SANTA CRUZ DE TENERIFE      81028.83   77113.609088  102778.235250\n",
       "26                    LEON      80777.61   54206.733861   93733.346787\n",
       "27                   CADIZ      80156.97   87606.216097   99864.777570\n",
       "28                ALBACETE      79794.00   37689.792339   84492.292776\n",
       "29                  TERUEL      79468.05   36124.234041   88804.001586\n",
       "30                 OURENSE      76876.11   38653.279926   83052.610129\n",
       "31                  ZAMORA      76010.79  107543.352024   89883.897088\n",
       "32                   SORIA      73957.92   36396.000418   80803.871570\n",
       "33                  HUESCA      73467.81   56692.680725   81339.868279\n",
       "34                 ALMERIA      73278.81   50078.864571   85230.470729\n",
       "35                VALENCIA      72644.19   88605.826118   90491.008688\n",
       "36                 CORDOBA      70471.41   61410.830174   84825.312401\n",
       "37                    JAEN      69797.82   44139.629096   77761.397377\n",
       "38                  HUELVA      69731.58   40820.017093   76656.800472\n",
       "39               CASTELLON      68074.53   54428.363656   81409.241948\n",
       "40                  MURCIA      68008.74   42250.030767   78100.750458\n",
       "41                  CUENCA      67825.26   36389.213035   71051.597984\n",
       "42                ALICANTE      67044.78   68946.324793   83619.066735\n",
       "43                  TOLEDO      67037.34   49489.935908   78150.976526\n",
       "44                    LUGO      66282.60   48822.023259   78770.638546\n",
       "45                  LERIDA      66002.73   60246.774555   84015.399039\n",
       "46                 CACERES      65925.42   40224.406272   73157.066776\n",
       "47                   AVILA      65287.80   38415.493457   71999.407016\n",
       "48                 BADAJOZ      62137.59   39498.063045   71306.096591\n",
       "49             CIUDAD REAL      59953.89   43421.681839   69426.209799"
      ]
     },
     "execution_count": 46,
     "metadata": {},
     "output_type": "execute_result"
    }
   ],
   "source": [
    "incomes"
   ]
  },
  {
   "cell_type": "code",
   "execution_count": 47,
   "metadata": {},
   "outputs": [
    {
     "data": {
      "image/png": "[encoded data removed]",
      "text/plain": [
       "<Figure size 720x1800 with 1 Axes>"
      ]
     },
     "metadata": {},
     "output_type": "display_data"
    }
   ],
   "source": [
    "plt.figure(figsize=(10, 25))\n",
    "plt.rcParams.update({'font.size': 22})\n",
    "plt.barh(incomes.nomprov, incomes.MedianIncome)\n",
    "plt.gca().invert_yaxis()"
   ]
  },
  {
   "cell_type": "code",
   "execution_count": 48,
   "metadata": {},
   "outputs": [
    {
     "data": {
      "text/plain": [
       "781         115784.40\n",
       "2673         76610.16\n",
       "3399        113803.20\n",
       "4636              NaN\n",
       "6372       1826298.54\n",
       "8246        359744.16\n",
       "8388              NaN\n",
       "9176         92929.44\n",
       "9245              NaN\n",
       "9336        228682.53\n",
       "9418        124206.90\n",
       "9681              NaN\n",
       "14303        81216.99\n",
       "15143        91062.48\n",
       "15827       136643.61\n",
       "15900             NaN\n",
       "19592             NaN\n",
       "19818        69146.19\n",
       "20144        68847.87\n",
       "20308       141205.62\n",
       "20674       185485.44\n",
       "20777             NaN\n",
       "21998        89579.49\n",
       "22254             NaN\n",
       "22572       145855.74\n",
       "23296             NaN\n",
       "24247       279125.13\n",
       "24272             NaN\n",
       "24937       116004.84\n",
       "26039       152905.77\n",
       "              ...    \n",
       "6978922     129810.54\n",
       "6980268           NaN\n",
       "6980296           NaN\n",
       "6981573           NaN\n",
       "6982659           NaN\n",
       "6982723           NaN\n",
       "6982904           NaN\n",
       "6983549           NaN\n",
       "6984253     143341.53\n",
       "6985356           NaN\n",
       "6985620           NaN\n",
       "6986129           NaN\n",
       "6986176           NaN\n",
       "6986725     115128.24\n",
       "6988055           NaN\n",
       "6988655           NaN\n",
       "6991023      68755.02\n",
       "6991713           NaN\n",
       "6992532           NaN\n",
       "6993129     109630.86\n",
       "6994408     174550.59\n",
       "6994572     104528.55\n",
       "6994851     216006.33\n",
       "6995165     130693.26\n",
       "6995726     240213.24\n",
       "6996790           NaN\n",
       "6997302     581018.37\n",
       "6998186           NaN\n",
       "6998541     272027.46\n",
       "6999072           NaN\n",
       "Name: renta, Length: 8226, dtype: float64"
      ]
     },
     "execution_count": 48,
     "metadata": {},
     "output_type": "execute_result"
    }
   ],
   "source": [
    "df.loc[df.nomprov=='BALEARS, ILLES', 'renta']"
   ]
  },
  {
   "cell_type": "code",
   "execution_count": 49,
   "metadata": {},
   "outputs": [],
   "source": [
    "if 'id' not in df.columns:\n",
    "    df.reset_index(inplace=True, drop=False)\n",
    "    df.rename(columns={'index': 'id'}, inplace=True)\n",
    "    df.sort_values('id', inplace=True)"
   ]
  },
  {
   "cell_type": "code",
   "execution_count": 50,
   "metadata": {},
   "outputs": [],
   "source": [
    "grouped        = df.groupby(\"nomprov\").agg({\"renta\":lambda x: x.median(skipna=True)}).reset_index()\n",
    "new_incomes    = pd.merge(df,grouped,how=\"inner\",on=\"nomprov\").loc[:, ['id', 'renta_y']]\n",
    "new_incomes = new_incomes.rename(columns={'renta_y': 'renta'})\n",
    "new_incomes.sort_values('id', inplace=True)"
   ]
  },
  {
   "cell_type": "code",
   "execution_count": 51,
   "metadata": {},
   "outputs": [],
   "source": [
    "df.loc[df.renta.isnull(), 'renta'] = new_incomes.loc[df.renta.isnull(), 'renta']"
   ]
  },
  {
   "cell_type": "code",
   "execution_count": 52,
   "metadata": {},
   "outputs": [],
   "source": [
    "df.loc[df.renta.isnull(), 'renta'] = df.loc[df.renta.notnull(), 'renta'].median()"
   ]
  },
  {
   "cell_type": "code",
   "execution_count": 53,
   "metadata": {},
   "outputs": [
    {
     "data": {
      "text/plain": [
       "id                       False\n",
       "fecha_dato               False\n",
       "ncodpers                 False\n",
       "ind_empleado              True\n",
       "pais_residencia           True\n",
       "sexo                      True\n",
       "age                      False\n",
       "fecha_alta               False\n",
       "ind_nuevo                False\n",
       "antiguedad               False\n",
       "indrel                   False\n",
       "ult_fec_cli_1t            True\n",
       "indrel_1mes               True\n",
       "tiprel_1mes               True\n",
       "indresi                   True\n",
       "indext                    True\n",
       "conyuemp                  True\n",
       "canal_entrada             True\n",
       "indfall                   True\n",
       "cod_prov                  True\n",
       "nomprov                  False\n",
       "ind_actividad_cliente    False\n",
       "renta                    False\n",
       "segmento                  True\n",
       "ind_ahor_fin_ult1        False\n",
       "ind_aval_fin_ult1        False\n",
       "ind_cco_fin_ult1         False\n",
       "ind_cder_fin_ult1        False\n",
       "ind_cno_fin_ult1         False\n",
       "ind_ctju_fin_ult1        False\n",
       "ind_ctma_fin_ult1        False\n",
       "ind_ctop_fin_ult1        False\n",
       "ind_ctpp_fin_ult1        False\n",
       "ind_deco_fin_ult1        False\n",
       "ind_deme_fin_ult1        False\n",
       "ind_dela_fin_ult1        False\n",
       "ind_ecue_fin_ult1        False\n",
       "ind_fond_fin_ult1        False\n",
       "ind_hip_fin_ult1         False\n",
       "ind_plan_fin_ult1        False\n",
       "ind_pres_fin_ult1        False\n",
       "ind_reca_fin_ult1        False\n",
       "ind_tjcr_fin_ult1        False\n",
       "ind_valo_fin_ult1        False\n",
       "ind_viv_fin_ult1         False\n",
       "ind_nomina_ult1           True\n",
       "ind_nom_pens_ult1         True\n",
       "ind_recibo_ult1          False\n",
       "month                    False\n",
       "dtype: bool"
      ]
     },
     "execution_count": 53,
     "metadata": {},
     "output_type": "execute_result"
    }
   ],
   "source": [
    "df.isnull().any()"
   ]
  },
  {
   "cell_type": "markdown",
   "metadata": {},
   "source": [
    "`ind_nomina_ult1` Payroll"
   ]
  },
  {
   "cell_type": "code",
   "execution_count": 54,
   "metadata": {},
   "outputs": [
    {
     "data": {
      "text/plain": [
       "2205"
      ]
     },
     "execution_count": 54,
     "metadata": {},
     "output_type": "execute_result"
    }
   ],
   "source": [
    "df.ind_nomina_ult1.isnull().sum()"
   ]
  },
  {
   "cell_type": "code",
   "execution_count": 55,
   "metadata": {},
   "outputs": [
    {
     "data": {
      "text/plain": [
       "0.0    871546\n",
       "1.0     54604\n",
       "Name: ind_nomina_ult1, dtype: int64"
      ]
     },
     "execution_count": 55,
     "metadata": {},
     "output_type": "execute_result"
    }
   ],
   "source": [
    "df.ind_nomina_ult1.value_counts()"
   ]
  },
  {
   "cell_type": "code",
   "execution_count": 56,
   "metadata": {},
   "outputs": [],
   "source": [
    "df.loc[df.ind_nomina_ult1.isnull(), 'ind_nomina_ult1'] = 0"
   ]
  },
  {
   "cell_type": "markdown",
   "metadata": {},
   "source": [
    "`ind_nom_pens_ult1` Pensions"
   ]
  },
  {
   "cell_type": "code",
   "execution_count": 57,
   "metadata": {},
   "outputs": [
    {
     "data": {
      "text/plain": [
       "2205"
      ]
     },
     "execution_count": 57,
     "metadata": {},
     "output_type": "execute_result"
    }
   ],
   "source": [
    "df.ind_nom_pens_ult1.isnull().sum()"
   ]
  },
  {
   "cell_type": "code",
   "execution_count": 58,
   "metadata": {},
   "outputs": [
    {
     "data": {
      "text/plain": [
       "0.0    866843\n",
       "1.0     59307\n",
       "Name: ind_nom_pens_ult1, dtype: int64"
      ]
     },
     "execution_count": 58,
     "metadata": {},
     "output_type": "execute_result"
    }
   ],
   "source": [
    "df.ind_nom_pens_ult1.value_counts()"
   ]
  },
  {
   "cell_type": "code",
   "execution_count": 59,
   "metadata": {},
   "outputs": [],
   "source": [
    "df.loc[df.ind_nom_pens_ult1.isnull(), 'ind_nom_pens_ult1'] = 0"
   ]
  },
  {
   "cell_type": "markdown",
   "metadata": {},
   "source": [
    "Columns with only string data"
   ]
  },
  {
   "cell_type": "code",
   "execution_count": 60,
   "metadata": {},
   "outputs": [
    {
     "name": "stdout",
     "output_type": "stream",
     "text": [
      "Unique values for ind_empleado:\n",
      "['N' nan 'F' 'A' 'B']\n",
      "\n",
      "Unique values for pais_residencia:\n",
      "['ES' nan 'CL' 'NL' 'GB' 'DE' 'AR' 'EC' 'MX' 'CR' 'CH' 'AE' 'IE' 'US' 'RO'\n",
      " 'CO' 'GA' 'MA' 'IT' 'CN' 'PT' 'BR' 'QA' 'LU' 'AU' 'BO' 'BE' 'FR' 'CA'\n",
      " 'MD' 'IL' 'PL' 'HR' 'GQ' 'SE' 'CU' 'UY' 'CM' 'BG' 'UA' 'DZ' 'DK' 'TH'\n",
      " 'SV' 'HN' 'PE' 'VE' 'SK' 'SG' 'DO' 'AT' 'KW' 'RU' 'NZ' 'KH' 'GI' 'SL'\n",
      " 'PY' 'KR' 'CG' 'LV' 'NG' 'IN' 'ML' 'MZ' 'AO' 'PR' 'BY' 'GR' 'TR' 'FI']\n",
      "\n",
      "Unique values for sexo:\n",
      "['V' 'H' nan]\n",
      "\n",
      "Unique values for ult_fec_cli_1t:\n",
      "[nan '2015-07-02' '2015-07-23' '2015-07-06' '2015-07-30' '2015-07-29'\n",
      " '2015-07-27' '2015-07-20' '2015-07-24' '2015-07-16' '2015-07-01'\n",
      " '2015-07-21' '2015-07-07' '2015-07-14' '2015-07-09' '2015-07-17'\n",
      " '2015-07-28' '2015-07-03' '2015-07-22' '2015-07-13' '2015-07-15'\n",
      " '2015-07-10' '2015-07-08' '2015-08-18' '2015-08-25' '2015-08-13'\n",
      " '2015-08-28' '2015-08-12' '2015-08-11' '2015-08-27' '2015-08-20'\n",
      " '2015-08-04' '2015-08-07' '2015-08-24' '2015-08-26' '2015-08-03'\n",
      " '2015-08-05' '2015-08-10' '2015-08-17' '2015-08-19' '2015-08-21'\n",
      " '2015-08-14' '2015-08-06' '2015-09-16' '2015-09-01' '2015-09-18'\n",
      " '2015-09-03' '2015-09-14' '2015-09-04' '2015-09-09' '2015-09-28'\n",
      " '2015-09-07' '2015-09-29' '2015-09-02' '2015-09-23' '2015-09-15'\n",
      " '2015-09-10' '2015-09-25' '2015-09-11' '2015-09-22' '2015-09-08'\n",
      " '2015-09-21' '2015-09-17' '2015-09-24' '2015-10-08' '2015-10-13'\n",
      " '2015-10-28' '2015-10-22' '2015-10-27' '2015-10-21' '2015-10-01'\n",
      " '2015-10-09' '2015-10-06' '2015-10-16' '2015-10-23' '2015-10-15'\n",
      " '2015-10-20' '2015-10-07' '2015-10-26' '2015-10-05' '2015-10-29'\n",
      " '2015-10-14' '2015-10-19' '2015-10-02']\n",
      "\n",
      "Unique values for indrel_1mes:\n",
      "[1.0 nan 3.0 '1.0' '1' '3' '3.0' 'P' '4.0' '2.0' 2.0 4.0 '2' '4']\n",
      "\n",
      "Unique values for tiprel_1mes:\n",
      "['I' 'A' nan 'P' 'R']\n",
      "\n",
      "Unique values for indresi:\n",
      "['S' nan 'N']\n",
      "\n",
      "Unique values for indext:\n",
      "['S' 'N' nan]\n",
      "\n",
      "Unique values for conyuemp:\n",
      "[nan 'N']\n",
      "\n",
      "Unique values for canal_entrada:\n",
      "['KHE' 'KFC' 'KHD' 'KAT' 'KFA' nan 'KHC' 'KAZ' 'KHL' 'KAD' 'KBG' 'KEH'\n",
      " 'KHK' 'RED' 'KHA' 'KGX' 'KAQ' 'KAE' 'KAR' 'KAB' 'KFD' 'KFJ' 'KCC' 'KAH'\n",
      " 'KAG' 'KGY' 'KFP' 'KAA' 'KAI' 'KFL' 'KGV' 'KFS' 'KFF' 'KAP' 'KFK' 'KFG'\n",
      " 'KAJ' 'KFU' 'KFN' 'KFV' 'KHF' 'KHN' 'KAK' 'KHM' 'KDT' 'KDY' 'KAC' 'KDE'\n",
      " 'KES' 'KCL' 'KBZ' 'KDR' 'KBQ' 'KBO' 'KDO' '007' 'KBU' 'KCG' 'KAY' 'KDA'\n",
      " 'KDC' 'KCA' 'KEC' 'KDQ' 'KDX' 'KCK' 'KCD' 'KCB' 'KEA' 'KAS' 'KDV' 'KCI'\n",
      " 'KAF' 'KCE' 'KEO' 'KBH' 'KEY' 'KEW' 'KCH' 'KAW' 'KDZ' 'KEI' 'KCS' 'KDU'\n",
      " 'KCM' 'KBF' 'KBR' 'KDP' 'KBV' 'KBD' 'KCN' 'KBX' 'KDD' 'KBW' '013' 'KCX'\n",
      " 'KCF' 'KDS' 'KDG' 'KDH' 'KBL' 'KDF' 'KBY' 'KCP' 'KCU' 'KEF' 'KAM' 'KEB'\n",
      " 'KDM' 'KEZ' 'KEV' 'KBM' 'KEL' 'KEJ' 'KDW' 'KEG' 'KFT' 'KBJ' 'KBS' 'KAU'\n",
      " 'KAV' 'KEQ' '004' 'KAL' 'KAO' 'KFR' 'KEN' 'KFH' 'KGW' 'KFI' 'KFM' 'KFE'\n",
      " 'KDN' 'KAN' 'KED' 'KCQ' 'KEK' 'KCR' 'K00' 'KBB' 'KCJ' 'KEE' 'KHO' 'KDL'\n",
      " 'KBN' 'KCT' 'KCV' 'KHQ' 'KHP']\n",
      "\n",
      "Unique values for indfall:\n",
      "['N' nan 'S']\n",
      "\n",
      "Unique values for segmento:\n",
      "['03 - UNIVERSITARIO' '02 - PARTICULARES' '01 - TOP' nan]\n",
      "\n"
     ]
    },
    {
     "data": {
      "text/plain": [
       "20505"
      ]
     },
     "execution_count": 60,
     "metadata": {},
     "output_type": "execute_result"
    }
   ],
   "source": [
    "string_data = df.select_dtypes(include='object')\n",
    "missing_columns = [c for c in string_data if string_data[c].isnull().any()]\n",
    "\n",
    "for c in missing_columns:\n",
    "    print('Unique values for {}:\\n{}\\n'.format(c, string_data[c].unique()))\n",
    "del string_data\n",
    "gc.collect()"
   ]
  },
  {
   "cell_type": "markdown",
   "metadata": {},
   "source": [
    "Some of these string columns are filled with 'UNKONWN', whereas others are filled with the most common category, depending on which makes more sense."
   ]
  },
  {
   "cell_type": "markdown",
   "metadata": {},
   "source": [
    "`indfall` Deceased index. N/S, if the customer is dead, S is yes, N is no, I guess."
   ]
  },
  {
   "cell_type": "code",
   "execution_count": 61,
   "metadata": {},
   "outputs": [
    {
     "data": {
      "text/plain": [
       "N    922064\n",
       "S      2531\n",
       "Name: indfall, dtype: int64"
      ]
     },
     "execution_count": 61,
     "metadata": {},
     "output_type": "execute_result"
    }
   ],
   "source": [
    "df.indfall.value_counts()"
   ]
  },
  {
   "cell_type": "code",
   "execution_count": 62,
   "metadata": {},
   "outputs": [],
   "source": [
    "df.loc[df.indfall.isnull(), 'indfall'] = 'N'"
   ]
  },
  {
   "cell_type": "markdown",
   "metadata": {},
   "source": [
    "`tiprel_1mes` Customer type at the beginning of the month,\n",
    "\n",
    "Customer relation type at the beginning of the month, A (active), I (inactive), P (former customer),R (Potential)"
   ]
  },
  {
   "cell_type": "code",
   "execution_count": 63,
   "metadata": {},
   "outputs": [
    {
     "data": {
      "text/plain": [
       "I      469599\n",
       "A      444500\n",
       "NaN     14013\n",
       "P         196\n",
       "R          47\n",
       "Name: tiprel_1mes, dtype: int64"
      ]
     },
     "execution_count": 63,
     "metadata": {},
     "output_type": "execute_result"
    }
   ],
   "source": [
    "df.tiprel_1mes.value_counts(dropna=False)"
   ]
  },
  {
   "cell_type": "code",
   "execution_count": 64,
   "metadata": {},
   "outputs": [],
   "source": [
    "df.loc[df.tiprel_1mes.isnull(), 'tiprel_1mes'] = 'A'\n",
    "df.tiprel_1mes = df.tiprel_1mes.astype('category')"
   ]
  },
  {
   "cell_type": "markdown",
   "metadata": {},
   "source": [
    "`indrel_1mes`\n",
    "\n",
    "Customer type at the beginning of the month ,1 (First/Primary customer), 2 (co-owner ),P (Potential),3 (former primary), 4(former co-owner)"
   ]
  },
  {
   "cell_type": "code",
   "execution_count": 65,
   "metadata": {},
   "outputs": [
    {
     "data": {
      "text/plain": [
       "1.0    634315\n",
       "1.0    182651\n",
       "1       97094\n",
       "NaN     14013\n",
       "3.0        73\n",
       "3.0        68\n",
       "P          47\n",
       "3          42\n",
       "2          14\n",
       "2.0        13\n",
       "2.0        12\n",
       "4.0         7\n",
       "4           3\n",
       "4.0         3\n",
       "Name: indrel_1mes, dtype: int64"
      ]
     },
     "execution_count": 65,
     "metadata": {},
     "output_type": "execute_result"
    }
   ],
   "source": [
    "df.indrel_1mes.value_counts(dropna=False)"
   ]
  },
  {
   "cell_type": "code",
   "execution_count": 66,
   "metadata": {},
   "outputs": [],
   "source": [
    "map_dict = { 1.0  : \"1\",\n",
    "            \"1.0\" : \"1\",\n",
    "            \"1\"   : \"1\",\n",
    "            \"3.0\" : \"3\",\n",
    "            \"P\"   : \"P\",\n",
    "            3.0   : \"3\",\n",
    "            2.0   : \"2\",\n",
    "            \"3\"   : \"3\",\n",
    "            \"2.0\" : \"2\",\n",
    "            \"4.0\" : \"4\",\n",
    "            \"4\"   : \"4\",\n",
    "            \"2\"   : \"2\"}"
   ]
  },
  {
   "cell_type": "code",
   "execution_count": 67,
   "metadata": {},
   "outputs": [],
   "source": [
    "df.indrel_1mes.fillna('P', inplace=True)\n",
    "df.indrel_1mes = df.indrel_1mes.map(map_dict)"
   ]
  },
  {
   "cell_type": "code",
   "execution_count": 68,
   "metadata": {},
   "outputs": [
    {
     "data": {
      "text/plain": [
       "1      914060\n",
       "P       14060\n",
       "3         183\n",
       "2          39\n",
       "4          10\n",
       "NaN         3\n",
       "Name: indrel_1mes, dtype: int64"
      ]
     },
     "execution_count": 68,
     "metadata": {},
     "output_type": "execute_result"
    }
   ],
   "source": [
    "df.indrel_1mes.value_counts(dropna=False)"
   ]
  },
  {
   "cell_type": "markdown",
   "metadata": {},
   "source": [
    "The rest of the string columns"
   ]
  },
  {
   "cell_type": "code",
   "execution_count": 69,
   "metadata": {},
   "outputs": [],
   "source": [
    "column_null = [c for c in df if df[c].isnull().any()]"
   ]
  },
  {
   "cell_type": "code",
   "execution_count": 70,
   "metadata": {},
   "outputs": [
    {
     "name": "stdout",
     "output_type": "stream",
     "text": [
      "ind_empleado, object\n",
      "pais_residencia, object\n",
      "sexo, object\n",
      "ult_fec_cli_1t, object\n",
      "indrel_1mes, object\n",
      "indresi, object\n",
      "indext, object\n",
      "conyuemp, object\n",
      "canal_entrada, object\n",
      "cod_prov, float64\n",
      "segmento, object\n"
     ]
    }
   ],
   "source": [
    "for c in column_null:\n",
    "    print('{}, {}'.format(c, df[c].dtype))"
   ]
  },
  {
   "cell_type": "code",
   "execution_count": 71,
   "metadata": {},
   "outputs": [],
   "source": [
    "df.drop(['cod_prov'], axis=1, inplace=True)"
   ]
  },
  {
   "cell_type": "code",
   "execution_count": 72,
   "metadata": {},
   "outputs": [],
   "source": [
    "column_null = [c for c in df if df[c].isnull().any()]\n",
    "for c in column_null:\n",
    "    try:\n",
    "        df.loc[df[c].isnull(), c] = 'UNKNOWN'\n",
    "    except:\n",
    "        pass"
   ]
  },
  {
   "cell_type": "code",
   "execution_count": 73,
   "metadata": {},
   "outputs": [],
   "source": [
    "feature_cols = df.iloc[:1, :].filter(regex='ind_.*ult.*').columns.values"
   ]
  },
  {
   "cell_type": "code",
   "execution_count": 74,
   "metadata": {},
   "outputs": [
    {
     "data": {
      "text/plain": [
       "array(['ind_ahor_fin_ult1', 'ind_aval_fin_ult1', 'ind_cco_fin_ult1',\n",
       "       'ind_cder_fin_ult1', 'ind_cno_fin_ult1', 'ind_ctju_fin_ult1',\n",
       "       'ind_ctma_fin_ult1', 'ind_ctop_fin_ult1', 'ind_ctpp_fin_ult1',\n",
       "       'ind_deco_fin_ult1', 'ind_deme_fin_ult1', 'ind_dela_fin_ult1',\n",
       "       'ind_ecue_fin_ult1', 'ind_fond_fin_ult1', 'ind_hip_fin_ult1',\n",
       "       'ind_plan_fin_ult1', 'ind_pres_fin_ult1', 'ind_reca_fin_ult1',\n",
       "       'ind_tjcr_fin_ult1', 'ind_valo_fin_ult1', 'ind_viv_fin_ult1',\n",
       "       'ind_nomina_ult1', 'ind_nom_pens_ult1', 'ind_recibo_ult1'],\n",
       "      dtype=object)"
      ]
     },
     "execution_count": 74,
     "metadata": {},
     "output_type": "execute_result"
    }
   ],
   "source": [
    "feature_cols"
   ]
  },
  {
   "cell_type": "code",
   "execution_count": 75,
   "metadata": {},
   "outputs": [],
   "source": [
    "for c in feature_cols:\n",
    "    df[c] = df[c].astype(int)"
   ]
  },
  {
   "cell_type": "markdown",
   "metadata": {},
   "source": [
    "Now for the main event. To study trends in customers adding or removing services, I will create a label for each product and month that indicates whether a customer added, dropped or maintained that service in that billing cycle. I will do this by assigning a numeric id to each unique time stamp, and then matching each entry with the one from the previous month. The difference in the indicator value for each product then gives the desired value."
   ]
  },
  {
   "cell_type": "code",
   "execution_count": 76,
   "metadata": {},
   "outputs": [],
   "source": [
    "unique_months = pd.DataFrame(pd.Series(df.fecha_dato.unique()).sort_values()).reset_index(drop=True)"
   ]
  },
  {
   "cell_type": "code",
   "execution_count": 77,
   "metadata": {},
   "outputs": [],
   "source": [
    "unique_months[\"month_id\"] = pd.Series(range(1,1+unique_months.size)) # start with month 1, not 0 to match what we already have\n",
    "unique_months[\"month_next_id\"] = 1 + unique_months[\"month_id\"]\n",
    "unique_months.rename(columns={0:\"fecha_dato\"},inplace=True)"
   ]
  },
  {
   "cell_type": "code",
   "execution_count": 78,
   "metadata": {},
   "outputs": [],
   "source": [
    "df = pd.merge(df, unique_months, on='fecha_dato')"
   ]
  },
  {
   "cell_type": "code",
   "execution_count": 79,
   "metadata": {},
   "outputs": [],
   "source": [
    "def status_change(x):\n",
    "    diffs = x.diff().fillna(0).map({1: 'Added', \n",
    "                                    -1: 'Dropped', \n",
    "                                    0: 'Maintained'})\n",
    "    # first occurrence will be considered Maintained, \n",
    "    \n",
    "    #which is a little lazy. A better way would be to check if \n",
    "    #the earliest date was the same as the earliest we have in the dataset\n",
    "    #and consider those separately. Entries with earliest dates later than that have \n",
    "    #joined and should be labeled as \"Added\"\n",
    "    \n",
    "    #label = [\"Added\" if i==1 \\\n",
    "    #     else \"Dropped\" if i==-1 \\\n",
    "    #     else \"Maintained\" for i in diffs]\n",
    "    return diffs"
   ]
  },
  {
   "cell_type": "code",
   "execution_count": 80,
   "metadata": {},
   "outputs": [],
   "source": [
    "dg = df.copy()"
   ]
  },
  {
   "cell_type": "code",
   "execution_count": 81,
   "metadata": {},
   "outputs": [],
   "source": [
    "dg.loc[:, feature_cols] = df.loc[:, [i for i in feature_cols]+[\"ncodpers\"]].groupby(\"ncodpers\").transform(status_change)"
   ]
  },
  {
   "cell_type": "code",
   "execution_count": null,
   "metadata": {},
   "outputs": [],
   "source": [
    "dg = pd.melt(dg, id_vars   = [col for col in df.columns if col not in feature_cols],\n",
    "            value_vars= [col for col in feature_cols])"
   ]
  },
  {
   "cell_type": "code",
   "execution_count": null,
   "metadata": {},
   "outputs": [],
   "source": [
    "dg"
   ]
  },
  {
   "cell_type": "code",
   "execution_count": null,
   "metadata": {},
   "outputs": [],
   "source": [
    "dg = dg.loc[dg.value!='Maintained', :]"
   ]
  },
  {
   "cell_type": "code",
   "execution_count": null,
   "metadata": {},
   "outputs": [],
   "source": [
    "dg.T"
   ]
  }
 ],
 "metadata": {
  "kernelspec": {
   "display_name": "Python 3",
   "language": "python",
   "name": "python3"
  },
  "language_info": {
   "codemirror_mode": {
    "name": "ipython",
    "version": 3
   },
   "file_extension": ".py",
   "mimetype": "text/x-python",
   "name": "python",
   "nbconvert_exporter": "python",
   "pygments_lexer": "ipython3",
   "version": "3.6.5"
  }
 },
 "nbformat": 4,
 "nbformat_minor": 2
}
