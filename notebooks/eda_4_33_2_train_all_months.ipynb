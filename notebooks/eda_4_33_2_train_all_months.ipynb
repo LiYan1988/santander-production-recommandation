{
 "cells": [
  {
   "cell_type": "markdown",
   "metadata": {},
   "source": [
    "## Feature Engineering and CV based on 5-th Place Solutions\n",
    "\n",
    "`param = {'objective': 'multi:softprob', \n",
    "         'eta': 0.05, \n",
    "         'max_depth': 8,\n",
    "         'silent': 1, \n",
    "         'num_class': len(target_cols),\n",
    "         'eval_metric': 'mlogloss',\n",
    "         'min_child_weight': 1,\n",
    "         'subsample': 0.7,\n",
    "         'colsample_bytree': 0.7,\n",
    "         'seed': 0}`\n",
    "         \n",
    "`n_repeats=3\n",
    "n_trees = 150`\n",
    "\n",
    "Train on 1502 to 1605, and predict on 1606, 3 repetitions, 50 trees: \n",
    "\n",
    "Combine with 1506 trained model (5 models, 150 trees): Private LB: 0.0307416, public LB: 0.030341\n",
    "\n",
    "New in this notebook:\n",
    "- Create training data for all months (2015-02-28 to 2016-04-28) and validate on 2016-05-28"
   ]
  },
  {
   "cell_type": "code",
   "execution_count": 1,
   "metadata": {},
   "outputs": [],
   "source": [
    "from santander_helper import *"
   ]
  },
  {
   "cell_type": "markdown",
   "metadata": {},
   "source": [
    "Create all months' data"
   ]
  },
  {
   "cell_type": "code",
   "execution_count": 2,
   "metadata": {
    "scrolled": true
   },
   "outputs": [],
   "source": [
    "# fixed_lag = 6\n",
    "# for i, m in tqdm.tqdm_notebook(enumerate(month_list), total=len(month_list)):\n",
    "#     print(m)\n",
    "#     if m in ['2015-01-28', '2016-06-28']:\n",
    "#         continue\n",
    "#     x_train, y_train, w_train = create_train(m, max_lag=i, fixed_lag=fixed_lag, pattern_flag=True)\n",
    "#     print('-'*60)\n",
    "# del x_train, y_train, w_train\n",
    "# gc.collect()"
   ]
  },
  {
   "cell_type": "markdown",
   "metadata": {},
   "source": [
    "Load all months' data"
   ]
  },
  {
   "cell_type": "code",
   "execution_count": 3,
   "metadata": {},
   "outputs": [
    {
     "data": {
      "application/vnd.jupyter.widget-view+json": {
       "model_id": "b9b4b3d0f5214672a0ad1008c0efac29",
       "version_major": 2,
       "version_minor": 0
      },
      "text/plain": [
       "HBox(children=(IntProgress(value=0, max=18), HTML(value='')))"
      ]
     },
     "metadata": {},
     "output_type": "display_data"
    },
    {
     "name": "stdout",
     "output_type": "stream",
     "text": [
      "\n"
     ]
    },
    {
     "data": {
      "text/plain": [
       "217"
      ]
     },
     "execution_count": 3,
     "metadata": {},
     "output_type": "execute_result"
    }
   ],
   "source": [
    "x_train = []\n",
    "y_train = []\n",
    "w_train = []\n",
    "fixed_lag = 6\n",
    "for i, m in tqdm.tqdm_notebook(enumerate(month_list), total=len(month_list)):\n",
    "    if m in ['2015-01-28', '2016-06-28']:\n",
    "        continue\n",
    "    x_tmp, y_tmp, w_tmp = create_train(m, max_lag=i, fixed_lag=fixed_lag, pattern_flag=True)\n",
    "    x_train.append(x_tmp)\n",
    "    y_train.append(y_tmp)\n",
    "    w_train.append(w_tmp)\n",
    "del x_tmp, y_tmp, w_tmp\n",
    "gc.collect()\n",
    "\n",
    "# Prepare for train and validation\n",
    "# x_val = x_train[-1]\n",
    "# y_val = y_train[-1]\n",
    "# w_val = w_train[-1]\n",
    "\n",
    "x_train = pd.concat(x_train, axis=0, ignore_index=True, sort=False)\n",
    "y_train = pd.concat(y_train, axis=0, ignore_index=True, sort=False)\n",
    "w_train = pd.concat(w_train, axis=0, ignore_index=True, sort=False)\n",
    "\n",
    "gc.collect()"
   ]
  },
  {
   "cell_type": "code",
   "execution_count": 4,
   "metadata": {
    "scrolled": true
   },
   "outputs": [
    {
     "name": "stdout",
     "output_type": "stream",
     "text": [
      "[0]\ttrain-merror:0.265432\ttrain-MAP@7:0\n",
      "[1]\ttrain-merror:0.262551\ttrain-MAP@7:0\n",
      "[2]\ttrain-merror:0.260589\ttrain-MAP@7:0\n",
      "[3]\ttrain-merror:0.25945\ttrain-MAP@7:0\n",
      "[4]\ttrain-merror:0.258573\ttrain-MAP@7:0\n",
      "[5]\ttrain-merror:0.257967\ttrain-MAP@7:0\n",
      "[6]\ttrain-merror:0.2573\ttrain-MAP@7:0\n",
      "[7]\ttrain-merror:0.256789\ttrain-MAP@7:0\n",
      "[8]\ttrain-merror:0.256101\ttrain-MAP@7:0\n",
      "[9]\ttrain-merror:0.255515\ttrain-MAP@7:0\n",
      "[10]\ttrain-merror:0.255141\ttrain-MAP@7:0\n",
      "[11]\ttrain-merror:0.25474\ttrain-MAP@7:0\n",
      "[12]\ttrain-merror:0.254352\ttrain-MAP@7:0\n",
      "[13]\ttrain-merror:0.253982\ttrain-MAP@7:0\n",
      "[14]\ttrain-merror:0.253636\ttrain-MAP@7:0\n",
      "[15]\ttrain-merror:0.253403\ttrain-MAP@7:0\n",
      "[16]\ttrain-merror:0.253139\ttrain-MAP@7:0\n",
      "[17]\ttrain-merror:0.252741\ttrain-MAP@7:0\n",
      "[18]\ttrain-merror:0.252519\ttrain-MAP@7:0\n",
      "[19]\ttrain-merror:0.252289\ttrain-MAP@7:0\n",
      "[20]\ttrain-merror:0.252068\ttrain-MAP@7:0\n",
      "[21]\ttrain-merror:0.251957\ttrain-MAP@7:0\n",
      "[22]\ttrain-merror:0.251645\ttrain-MAP@7:0\n",
      "[23]\ttrain-merror:0.251466\ttrain-MAP@7:0\n",
      "[24]\ttrain-merror:0.251226\ttrain-MAP@7:0\n",
      "[25]\ttrain-merror:0.25109\ttrain-MAP@7:0\n",
      "[26]\ttrain-merror:0.250873\ttrain-MAP@7:0\n",
      "[27]\ttrain-merror:0.250723\ttrain-MAP@7:0\n",
      "[28]\ttrain-merror:0.25055\ttrain-MAP@7:0\n",
      "[29]\ttrain-merror:0.250282\ttrain-MAP@7:0\n",
      "[30]\ttrain-merror:0.25019\ttrain-MAP@7:0\n",
      "[31]\ttrain-merror:0.249995\ttrain-MAP@7:0\n",
      "[32]\ttrain-merror:0.249833\ttrain-MAP@7:0\n",
      "[33]\ttrain-merror:0.24967\ttrain-MAP@7:0\n",
      "[34]\ttrain-merror:0.249463\ttrain-MAP@7:0\n",
      "[35]\ttrain-merror:0.249215\ttrain-MAP@7:0\n",
      "[36]\ttrain-merror:0.249067\ttrain-MAP@7:0\n",
      "[37]\ttrain-merror:0.248942\ttrain-MAP@7:0\n",
      "[38]\ttrain-merror:0.24875\ttrain-MAP@7:0\n",
      "[39]\ttrain-merror:0.248529\ttrain-MAP@7:0\n",
      "[40]\ttrain-merror:0.248385\ttrain-MAP@7:0\n",
      "[41]\ttrain-merror:0.248173\ttrain-MAP@7:0\n",
      "[42]\ttrain-merror:0.247974\ttrain-MAP@7:0\n",
      "[43]\ttrain-merror:0.247825\ttrain-MAP@7:0\n",
      "[44]\ttrain-merror:0.247718\ttrain-MAP@7:0\n",
      "[45]\ttrain-merror:0.247551\ttrain-MAP@7:0\n",
      "[46]\ttrain-merror:0.247435\ttrain-MAP@7:0\n",
      "[47]\ttrain-merror:0.247255\ttrain-MAP@7:0\n",
      "[48]\ttrain-merror:0.247101\ttrain-MAP@7:0\n",
      "[49]\ttrain-merror:0.246916\ttrain-MAP@7:0\n",
      "Repeat 0, running time = 35.438 min\n",
      "[0]\ttrain-merror:0.265666\ttrain-MAP@7:0\n",
      "[1]\ttrain-merror:0.262965\ttrain-MAP@7:0\n",
      "[2]\ttrain-merror:0.261104\ttrain-MAP@7:0\n",
      "[3]\ttrain-merror:0.259545\ttrain-MAP@7:0\n",
      "[4]\ttrain-merror:0.258643\ttrain-MAP@7:0\n",
      "[5]\ttrain-merror:0.257866\ttrain-MAP@7:0\n",
      "[6]\ttrain-merror:0.257297\ttrain-MAP@7:0\n",
      "[7]\ttrain-merror:0.256547\ttrain-MAP@7:0\n",
      "[8]\ttrain-merror:0.255997\ttrain-MAP@7:0\n",
      "[9]\ttrain-merror:0.255536\ttrain-MAP@7:0\n",
      "[10]\ttrain-merror:0.25529\ttrain-MAP@7:0\n",
      "[11]\ttrain-merror:0.254826\ttrain-MAP@7:0\n",
      "[12]\ttrain-merror:0.254355\ttrain-MAP@7:0\n",
      "[13]\ttrain-merror:0.25406\ttrain-MAP@7:0\n",
      "[14]\ttrain-merror:0.253809\ttrain-MAP@7:0\n",
      "[15]\ttrain-merror:0.253472\ttrain-MAP@7:0\n",
      "[16]\ttrain-merror:0.253161\ttrain-MAP@7:0\n",
      "[17]\ttrain-merror:0.252861\ttrain-MAP@7:0\n",
      "[18]\ttrain-merror:0.252581\ttrain-MAP@7:0\n",
      "[19]\ttrain-merror:0.252281\ttrain-MAP@7:0\n",
      "[20]\ttrain-merror:0.252062\ttrain-MAP@7:0\n",
      "[21]\ttrain-merror:0.251808\ttrain-MAP@7:0\n",
      "[22]\ttrain-merror:0.251653\ttrain-MAP@7:0\n",
      "[23]\ttrain-merror:0.251531\ttrain-MAP@7:0\n",
      "[24]\ttrain-merror:0.251329\ttrain-MAP@7:0\n",
      "[25]\ttrain-merror:0.251109\ttrain-MAP@7:0\n",
      "[26]\ttrain-merror:0.250958\ttrain-MAP@7:0\n",
      "[27]\ttrain-merror:0.250788\ttrain-MAP@7:0\n",
      "[28]\ttrain-merror:0.250665\ttrain-MAP@7:0\n",
      "[29]\ttrain-merror:0.250514\ttrain-MAP@7:0\n",
      "[30]\ttrain-merror:0.250267\ttrain-MAP@7:0\n",
      "[31]\ttrain-merror:0.250061\ttrain-MAP@7:0\n",
      "[32]\ttrain-merror:0.249917\ttrain-MAP@7:0\n",
      "[33]\ttrain-merror:0.249794\ttrain-MAP@7:0\n",
      "[34]\ttrain-merror:0.249586\ttrain-MAP@7:0\n",
      "[35]\ttrain-merror:0.249391\ttrain-MAP@7:0\n",
      "[36]\ttrain-merror:0.249216\ttrain-MAP@7:0\n",
      "[37]\ttrain-merror:0.249007\ttrain-MAP@7:0\n",
      "[38]\ttrain-merror:0.248829\ttrain-MAP@7:0\n",
      "[39]\ttrain-merror:0.24865\ttrain-MAP@7:0\n",
      "[40]\ttrain-merror:0.24847\ttrain-MAP@7:0\n",
      "[41]\ttrain-merror:0.24823\ttrain-MAP@7:0\n",
      "[42]\ttrain-merror:0.248072\ttrain-MAP@7:0\n",
      "[43]\ttrain-merror:0.247881\ttrain-MAP@7:0\n",
      "[44]\ttrain-merror:0.247722\ttrain-MAP@7:0\n",
      "[45]\ttrain-merror:0.247553\ttrain-MAP@7:0\n",
      "[46]\ttrain-merror:0.247341\ttrain-MAP@7:0\n",
      "[47]\ttrain-merror:0.247237\ttrain-MAP@7:0\n",
      "[48]\ttrain-merror:0.247109\ttrain-MAP@7:0\n",
      "[49]\ttrain-merror:0.247008\ttrain-MAP@7:0\n",
      "Repeat 1, running time = 35.033 min\n",
      "[0]\ttrain-merror:0.266384\ttrain-MAP@7:0\n",
      "[1]\ttrain-merror:0.261796\ttrain-MAP@7:0\n",
      "[2]\ttrain-merror:0.260252\ttrain-MAP@7:0\n",
      "[3]\ttrain-merror:0.259093\ttrain-MAP@7:0\n",
      "[4]\ttrain-merror:0.258158\ttrain-MAP@7:0\n",
      "[5]\ttrain-merror:0.257589\ttrain-MAP@7:0\n",
      "[6]\ttrain-merror:0.257073\ttrain-MAP@7:0\n",
      "[7]\ttrain-merror:0.256495\ttrain-MAP@7:0\n",
      "[8]\ttrain-merror:0.255972\ttrain-MAP@7:0\n",
      "[9]\ttrain-merror:0.255593\ttrain-MAP@7:0\n",
      "[10]\ttrain-merror:0.255154\ttrain-MAP@7:0\n",
      "[11]\ttrain-merror:0.254775\ttrain-MAP@7:0\n",
      "[12]\ttrain-merror:0.254486\ttrain-MAP@7:0\n",
      "[13]\ttrain-merror:0.254074\ttrain-MAP@7:0\n",
      "[14]\ttrain-merror:0.253744\ttrain-MAP@7:0\n",
      "[15]\ttrain-merror:0.253412\ttrain-MAP@7:0\n",
      "[16]\ttrain-merror:0.253156\ttrain-MAP@7:0\n",
      "[17]\ttrain-merror:0.252921\ttrain-MAP@7:0\n",
      "[18]\ttrain-merror:0.252659\ttrain-MAP@7:0\n",
      "[19]\ttrain-merror:0.252461\ttrain-MAP@7:0\n",
      "[20]\ttrain-merror:0.252187\ttrain-MAP@7:0\n",
      "[21]\ttrain-merror:0.251994\ttrain-MAP@7:0\n",
      "[22]\ttrain-merror:0.251811\ttrain-MAP@7:0\n",
      "[23]\ttrain-merror:0.251631\ttrain-MAP@7:0\n",
      "[24]\ttrain-merror:0.251486\ttrain-MAP@7:0\n",
      "[25]\ttrain-merror:0.251267\ttrain-MAP@7:0\n",
      "[26]\ttrain-merror:0.251123\ttrain-MAP@7:0\n",
      "[27]\ttrain-merror:0.250928\ttrain-MAP@7:0\n",
      "[28]\ttrain-merror:0.250733\ttrain-MAP@7:0\n",
      "[29]\ttrain-merror:0.25053\ttrain-MAP@7:0\n",
      "[30]\ttrain-merror:0.250359\ttrain-MAP@7:0\n",
      "[31]\ttrain-merror:0.250136\ttrain-MAP@7:0\n",
      "[32]\ttrain-merror:0.249958\ttrain-MAP@7:0\n",
      "[33]\ttrain-merror:0.249754\ttrain-MAP@7:0\n",
      "[34]\ttrain-merror:0.249528\ttrain-MAP@7:0\n",
      "[35]\ttrain-merror:0.249319\ttrain-MAP@7:0\n",
      "[36]\ttrain-merror:0.24916\ttrain-MAP@7:0\n",
      "[37]\ttrain-merror:0.248969\ttrain-MAP@7:0\n",
      "[38]\ttrain-merror:0.248767\ttrain-MAP@7:0\n",
      "[39]\ttrain-merror:0.248602\ttrain-MAP@7:0\n",
      "[40]\ttrain-merror:0.248453\ttrain-MAP@7:0\n",
      "[41]\ttrain-merror:0.248327\ttrain-MAP@7:0\n",
      "[42]\ttrain-merror:0.248156\ttrain-MAP@7:0\n",
      "[43]\ttrain-merror:0.247942\ttrain-MAP@7:0\n",
      "[44]\ttrain-merror:0.247749\ttrain-MAP@7:0\n",
      "[45]\ttrain-merror:0.247625\ttrain-MAP@7:0\n",
      "[46]\ttrain-merror:0.24751\ttrain-MAP@7:0\n",
      "[47]\ttrain-merror:0.24736\ttrain-MAP@7:0\n",
      "[48]\ttrain-merror:0.24724\ttrain-MAP@7:0\n",
      "[49]\ttrain-merror:0.247088\ttrain-MAP@7:0\n",
      "Repeat 2, running time = 35.373 min\n"
     ]
    }
   ],
   "source": [
    "param = {'objective': 'multi:softprob', \n",
    "         'eta': 0.1, \n",
    "         'max_depth': 8,\n",
    "         'silent': 1, \n",
    "         'num_class': len(target_cols),\n",
    "         'eval_metric': 'merror',\n",
    "         'min_child_weight': 10,\n",
    "         'lambda': 5,\n",
    "         'subsample': 0.7,\n",
    "         'colsample_bytree': 0.7,\n",
    "         'seed': 0}\n",
    "\n",
    "n_rows = None # number of rows in train dataset, to simplify testing, always set to None\n",
    "n_repeats = 3\n",
    "n_trees = 50\n",
    "train = {'x': x_train.iloc[:n_rows, :], 'y': y_train.iloc[:n_rows], 'w': w_train.iloc[:n_rows]}\n",
    "# val = {'x': x_val.iloc[:n_rows, :], 'y': y_val.iloc[:n_rows], 'w': w_val.iloc[:n_rows]}\n",
    "clfs, running_time = cv_all_month(param, train, n_features=350, num_boost_round=n_trees, \n",
    "    n_repeats=n_repeats, random_state=47, verbose_eval=True)"
   ]
  },
  {
   "cell_type": "code",
   "execution_count": 5,
   "metadata": {},
   "outputs": [],
   "source": [
    "x_test = create_test(month='2016-06-28', max_lag=17, fixed_lag=6, pattern_flag=True)"
   ]
  },
  {
   "cell_type": "code",
   "execution_count": 6,
   "metadata": {},
   "outputs": [],
   "source": [
    "simulation_name = 'p2'\n",
    "y_pred, y_sub = predict_all_month(model_dict=clfs, x_test=x_test, \n",
    "    sub_name='eda_4_33_{}.csv.gz'.format(simulation_name), n_features=350, n_trees=n_trees)\n",
    "save_pickle('eda_4_33_results_{}.pickle'.format(simulation_name), (clfs, running_time, y_pred, y_sub))"
   ]
  },
  {
   "cell_type": "code",
   "execution_count": 7,
   "metadata": {},
   "outputs": [],
   "source": [
    "y_pred2 = load_pickle('parameter_tune_eda_4_32_p4.pickle')\n",
    "y_pred2 = y_pred2[-4]\n",
    "\n",
    "y_pred_final = np.concatenate((y_pred, y_pred2))\n",
    "y_pred_final = np.mean(y_pred_final, axis=0)\n",
    "\n",
    "y_sub = np.argsort(y_pred_final, axis=1)\n",
    "y_sub = np.fliplr(y_sub)[:, :7]\n",
    "# Prepare submission\n",
    "test_id = x_test.loc[:, 'ncodpers'].values\n",
    "y_sub = [' '.join([target_cols[k] for k in pred]) for pred in y_sub]\n",
    "y_sub = pd.DataFrame({'ncodpers': test_id, 'added_products': y_sub})\n",
    "sub_name = 'eda_4_33_{}+eda_4_32_p4.csv.gz'.format(simulation_name)\n",
    "y_sub.to_csv(sub_name, compression='gzip', index=False)"
   ]
  }
 ],
 "metadata": {
  "kernelspec": {
   "display_name": "Python 3",
   "language": "python",
   "name": "python3"
  },
  "language_info": {
   "codemirror_mode": {
    "name": "ipython",
    "version": 3
   },
   "file_extension": ".py",
   "mimetype": "text/x-python",
   "name": "python",
   "nbconvert_exporter": "python",
   "pygments_lexer": "ipython3",
   "version": "3.6.7"
  }
 },
 "nbformat": 4,
 "nbformat_minor": 2
}
