{
 "cells": [
  {
   "cell_type": "markdown",
   "metadata": {},
   "source": [
    "# MAP\n",
    "\n",
    "Improve MAP evaluation speed\n",
    "10 times run:\n",
    "- 17.7s: original\n",
    "- 18.05s: removes `apks`\n",
    "- 18.01: remove `enumerate`\n",
    "- 17.04: remove `y_prob = {}`\n",
    "\n",
    "Optimizations:\n",
    "- convert `dict` to `np.array`\n",
    "- `enumerate` is quite efficient, so do not remove it, if I cannot find a better way\n",
    "- `for` loop limits the speed, but so many customers with very few products, hard to optimize\n",
    "- `np.mean` and `np.array` seem more efficient than `a += 1` and `a /= n`, but not sure\n",
    "- use `numpy` whenever you can"
   ]
  },
  {
   "cell_type": "code",
   "execution_count": 1,
   "metadata": {},
   "outputs": [],
   "source": [
    "from santander_helper import *\n",
    "%matplotlib inline"
   ]
  },
  {
   "cell_type": "code",
   "execution_count": 2,
   "metadata": {},
   "outputs": [],
   "source": [
    "month_train = '2015-06-28'\n",
    "month_val = '2016-05-28'\n",
    "\n",
    "param = {'objective': 'multi:softprob', \n",
    "         'eta': 0.05, \n",
    "         'max_depth': 8, \n",
    "         'silent': 1, \n",
    "         'num_class': len(target_cols),\n",
    "         'eval_metric': 'mlogloss',\n",
    "         'min_child_weight': 1,\n",
    "         'subsample': 0.7,\n",
    "         'colsample_bytree': 0.7,\n",
    "         'seed': 0,\n",
    "         'booster': 'gbtree', \n",
    "         'rate_drop': 0.1, \n",
    "         'skip_drop': 0.5,\n",
    "         'normalize_type': 'tree', \n",
    "         'sample_type': 'uniform'}\n",
    "num_rounds = 10"
   ]
  },
  {
   "cell_type": "code",
   "execution_count": 3,
   "metadata": {},
   "outputs": [
    {
     "name": "stdout",
     "output_type": "stream",
     "text": [
      "[0]\ttrain-mlogloss:2.6041\tval-mlogloss:2.62764\ttrain-MAP@7:0.964656\tval-MAP@7:0.961384\n",
      "[1]\ttrain-mlogloss:2.37108\tval-mlogloss:2.40365\ttrain-MAP@7:0.968099\tval-MAP@7:0.964917\n",
      "[2]\ttrain-mlogloss:2.19067\tval-mlogloss:2.23665\ttrain-MAP@7:0.968956\tval-MAP@7:0.964644\n",
      "[3]\ttrain-mlogloss:2.04277\tval-mlogloss:2.09845\ttrain-MAP@7:0.969859\tval-MAP@7:0.964905\n",
      "[4]\ttrain-mlogloss:1.9172\tval-mlogloss:1.97772\ttrain-MAP@7:0.970351\tval-MAP@7:0.967903\n",
      "[5]\ttrain-mlogloss:1.8084\tval-mlogloss:1.87093\ttrain-MAP@7:0.970813\tval-MAP@7:0.968156\n",
      "[6]\ttrain-mlogloss:1.71241\tval-mlogloss:1.78006\ttrain-MAP@7:0.971355\tval-MAP@7:0.96858\n",
      "[7]\ttrain-mlogloss:1.62667\tval-mlogloss:1.69745\ttrain-MAP@7:0.971629\tval-MAP@7:0.968606\n",
      "[8]\ttrain-mlogloss:1.54907\tval-mlogloss:1.62386\ttrain-MAP@7:0.971987\tval-MAP@7:0.968737\n",
      "[9]\ttrain-mlogloss:1.47882\tval-mlogloss:1.55731\ttrain-MAP@7:0.972364\tval-MAP@7:0.969047\n"
     ]
    }
   ],
   "source": [
    "x_train, y_train, weight_train = create_train(month_train, pattern_flag=True)\n",
    "x_val, y_val, weight_val = create_train(month_val, pattern_flag=True)\n",
    "\n",
    "gt_train = prep_map(x_train, y_train)\n",
    "gt_val = prep_map(x_val, y_val)\n",
    "ground_truth = {'train': gt_train, 'val': gt_val}\n",
    "\n",
    "dtrain = xgb.DMatrix(x_train, y_train)\n",
    "dval = xgb.DMatrix(x_val, y_val)\n",
    "\n",
    "data_len = {'train': len(dtrain.get_label()), 'val': len(dval.get_label())}\n",
    "\n",
    "weight_index = 0\n",
    "\n",
    "dtrain.set_weight(weight_train.values[:, weight_index])\n",
    "dval.set_weight(weight_val.values[:, weight_index])\n",
    "\n",
    "param['seed'] = np.random.randint(10**6)\n",
    "#model = xgb.train(param, dtrain, num_rounds)\n",
    "\n",
    "model = xgb.train(param, dtrain, num_rounds, feval=eval_map, verbose_eval=True, evals=[(dtrain, 'train'), (dval, 'val')], \n",
    "                 gt=ground_truth, ts=data_len)"
   ]
  },
  {
   "cell_type": "code",
   "execution_count": 4,
   "metadata": {},
   "outputs": [
    {
     "ename": "NameError",
     "evalue": "name 'eval_map1' is not defined",
     "output_type": "error",
     "traceback": [
      "\u001b[1;31m---------------------------------------------------------------------------\u001b[0m",
      "\u001b[1;31mNameError\u001b[0m                                 Traceback (most recent call last)",
      "\u001b[1;32m<ipython-input-4-8e7dac8240a7>\u001b[0m in \u001b[0;36m<module>\u001b[1;34m\u001b[0m\n\u001b[0;32m      7\u001b[0m \u001b[0my_prob\u001b[0m\u001b[1;33m[\u001b[0m\u001b[0mnp\u001b[0m\u001b[1;33m.\u001b[0m\u001b[0marange\u001b[0m\u001b[1;33m(\u001b[0m\u001b[0mlen\u001b[0m\u001b[1;33m(\u001b[0m\u001b[0my_train\u001b[0m\u001b[1;33m)\u001b[0m\u001b[1;33m)\u001b[0m\u001b[1;33m,\u001b[0m \u001b[0my_train\u001b[0m\u001b[1;33m]\u001b[0m \u001b[1;33m=\u001b[0m \u001b[1;36m1\u001b[0m\u001b[1;33m\u001b[0m\u001b[1;33m\u001b[0m\u001b[0m\n\u001b[0;32m      8\u001b[0m \u001b[1;33m\u001b[0m\u001b[0m\n\u001b[1;32m----> 9\u001b[1;33m \u001b[0meval_map1\u001b[0m\u001b[1;33m(\u001b[0m\u001b[0my_prob\u001b[0m\u001b[1;33m,\u001b[0m \u001b[0mdtrain\u001b[0m\u001b[1;33m,\u001b[0m \u001b[0mgt\u001b[0m\u001b[1;33m=\u001b[0m\u001b[0mground_truth\u001b[0m\u001b[1;33m,\u001b[0m \u001b[0mts\u001b[0m\u001b[1;33m=\u001b[0m\u001b[0mdata_len\u001b[0m\u001b[1;33m)\u001b[0m\u001b[1;33m\u001b[0m\u001b[1;33m\u001b[0m\u001b[0m\n\u001b[0m",
      "\u001b[1;31mNameError\u001b[0m: name 'eval_map1' is not defined"
     ]
    }
   ],
   "source": [
    "# Is the MAP correct? If not, the answer should not be 1\n",
    "y_train_prob = model.predict(dtrain)\n",
    "y_val_prob = model.predict(dval)\n",
    "\n",
    "y_prob = np.zeros((y_train.shape[0], len(target_cols)))\n",
    "\n",
    "y_prob[np.arange(len(y_train)), y_train] = 1\n",
    "\n",
    "eval_map(y_prob, dtrain, gt=ground_truth, ts=data_len)"
   ]
  },
  {
   "cell_type": "code",
   "execution_count": null,
   "metadata": {},
   "outputs": [],
   "source": [
    "import timeit"
   ]
  },
  {
   "cell_type": "markdown",
   "metadata": {},
   "source": [
    "Time of train+evaluation with `eval_map`"
   ]
  },
  {
   "cell_type": "code",
   "execution_count": null,
   "metadata": {},
   "outputs": [],
   "source": [
    "timeit.timeit(\"model = xgb.train(param, dtrain, num_boost_round=1, feval=eval_map, evals=[(dtrain, 'train'), (dval, 'val')], gt=ground_truth, ts=data_hash)\", globals=globals(), number=5)"
   ]
  }
 ],
 "metadata": {
  "kernelspec": {
   "display_name": "Python 3",
   "language": "python",
   "name": "python3"
  },
  "language_info": {
   "codemirror_mode": {
    "name": "ipython",
    "version": 3
   },
   "file_extension": ".py",
   "mimetype": "text/x-python",
   "name": "python",
   "nbconvert_exporter": "python",
   "pygments_lexer": "ipython3",
   "version": "3.6.7"
  }
 },
 "nbformat": 4,
 "nbformat_minor": 2
}
