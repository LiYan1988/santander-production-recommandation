{
 "cells": [
  {
   "cell_type": "markdown",
   "metadata": {},
   "source": [
    "## Feature Engineering and CV based on 5-th Place Solutions\n",
    "\n",
    "New in this notebook:\n",
    "- Create training data for all months"
   ]
  },
  {
   "cell_type": "code",
   "execution_count": 1,
   "metadata": {},
   "outputs": [],
   "source": [
    "from santander_helper import *"
   ]
  },
  {
   "cell_type": "code",
   "execution_count": 2,
   "metadata": {},
   "outputs": [
    {
     "data": {
      "text/plain": [
       "['2015-01-28',\n",
       " '2015-02-28',\n",
       " '2015-03-28',\n",
       " '2015-04-28',\n",
       " '2015-05-28',\n",
       " '2015-06-28',\n",
       " '2015-07-28',\n",
       " '2015-08-28',\n",
       " '2015-09-28',\n",
       " '2015-10-28',\n",
       " '2015-11-28',\n",
       " '2015-12-28',\n",
       " '2016-01-28',\n",
       " '2016-02-28',\n",
       " '2016-03-28',\n",
       " '2016-04-28',\n",
       " '2016-05-28',\n",
       " '2016-06-28']"
      ]
     },
     "execution_count": 2,
     "metadata": {},
     "output_type": "execute_result"
    }
   ],
   "source": [
    "month_list"
   ]
  },
  {
   "cell_type": "code",
   "execution_count": null,
   "metadata": {},
   "outputs": [
    {
     "data": {
      "application/vnd.jupyter.widget-view+json": {
       "model_id": "9596113076a14fbdbbd9209d9c97e443",
       "version_major": 2,
       "version_minor": 0
      },
      "text/plain": [
       "HBox(children=(IntProgress(value=1, bar_style='info', max=1), HTML(value='')))"
      ]
     },
     "metadata": {},
     "output_type": "display_data"
    },
    {
     "name": "stdout",
     "output_type": "stream",
     "text": [
      "Encoding pattern...\n"
     ]
    },
    {
     "name": "stderr",
     "output_type": "stream",
     "text": [
      "100%|██████████████████████████████████████████████████████████████████████████| 23429/23429 [00:07<00:00, 3081.14it/s]\n"
     ]
    },
    {
     "name": "stdout",
     "output_type": "stream",
     "text": [
      "Finding pattern...\n",
      "Counting pattern...\n"
     ]
    },
    {
     "name": "stderr",
     "output_type": "stream",
     "text": [
      "0it [00:00, ?it/s]\n"
     ]
    },
    {
     "name": "stdout",
     "output_type": "stream",
     "text": [
      "Encoding pattern...\n"
     ]
    },
    {
     "name": "stderr",
     "output_type": "stream",
     "text": [
      "100%|██████████████████████████████████████████████████████████████████████████| 24851/24851 [00:07<00:00, 3401.92it/s]\n"
     ]
    },
    {
     "name": "stdout",
     "output_type": "stream",
     "text": [
      "Finding pattern...\n",
      "Counting pattern...\n"
     ]
    },
    {
     "name": "stderr",
     "output_type": "stream",
     "text": [
      "100%|██████████████████████████████████████████████████████████████████████████| 23934/23934 [00:11<00:00, 2032.09it/s]\n"
     ]
    }
   ],
   "source": [
    "fixed_lag = 6\n",
    "for i, m in tqdm.tqdm_notebook(enumerate(month_list), total=len(month_list)):\n",
    "    print(m)\n",
    "    if m in ['2015-01-28', '2016-06-28']:\n",
    "        continue\n",
    "    x_train, y_train, w_train = create_train(m, max_lag=i, fixed_lag=fixed_lag, pattern_flag=True)\n",
    "    print('-'*60)"
   ]
  },
  {
   "cell_type": "code",
   "execution_count": 2,
   "metadata": {},
   "outputs": [
    {
     "ename": "SyntaxError",
     "evalue": "invalid syntax (<ipython-input-2-dadbbed2e83c>, line 6)",
     "output_type": "error",
     "traceback": [
      "\u001b[1;36m  File \u001b[1;32m\"<ipython-input-2-dadbbed2e83c>\"\u001b[1;36m, line \u001b[1;32m6\u001b[0m\n\u001b[1;33m    'silent': 1,\u001b[0m\n\u001b[1;37m           ^\u001b[0m\n\u001b[1;31mSyntaxError\u001b[0m\u001b[1;31m:\u001b[0m invalid syntax\n"
     ]
    }
   ],
   "source": [
    "# Train, validation, and prediction\n",
    "simulation_name = 'p1'\n",
    "param = {'objective': 'multi:softprob', \n",
    "         'eta': 0.05, \n",
    "         'max_depth': 8 \n",
    "         'silent': 1, \n",
    "         'num_class': len(target_cols),\n",
    "         'eval_metric': 'mlogloss',\n",
    "         'min_child_weight': 1,\n",
    "         'subsample': 0.7,\n",
    "         'colsample_bytree': 0.7,\n",
    "         'seed': 0}\n",
    "num_rounds = 100\n",
    "n_repeat = 5\n",
    "\n",
    "history, model_dict, y_pred, y_sub = \\\n",
    "    train_test_month(param, num_rounds, '2015-06-28', '2016-05-28', \n",
    "    'eda_4_32_{}.csv.gz'.format(simulation_name), n_repeat=n_repeat, random_seed=54, n_features=350)\n",
    "\n",
    "# History and learning curve\n",
    "history_train = history.xs(axis=1, level=[1, 2], key=['train', 'MAP@7']).copy()\n",
    "history_train['mean'] = history_train.iloc[:, :n_repeat].mean(axis=1)\n",
    "history_train['std'] = history_train.iloc[:, :n_repeat].std(axis=1)\n",
    "\n",
    "history_val = history.xs(axis=1, level=[1, 2], key=['val', 'MAP@7']).copy()\n",
    "history_val['mean'] = history_val.iloc[:, :n_repeat].mean(axis=1)\n",
    "history_val['std'] = history_val.iloc[:, :n_repeat].std(axis=1)\n",
    "\n",
    "plt.figure(figsize=(16, 9))\n",
    "# plt.plot(history_train['mean'])\n",
    "# plt.fill_between(history_train.index, history_train['mean']+history_train['std'], history_train['mean']-history_train['std'], alpha=0.3)\n",
    "\n",
    "plt.plot(history_val['mean'])\n",
    "plt.fill_between(history_val.index, history_val['mean']+history_val['std'], history_val['mean']-history_val['std'], alpha=0.3)\n",
    "\n",
    "plt.grid()\n",
    "\n",
    "# Feature importance\n",
    "fi = pd.DataFrame({i: model_dict[i].get_score(importance_type='gain') for i in range(n_repeat)})\n",
    "fi['mean'] = fi.iloc[:, :n_repeat].mean(axis=1)\n",
    "fi['std'] = fi.iloc[:, :n_repeat].std(axis=1)\n",
    "fi.sort_values(by=['mean'], inplace=True, ascending=False)\n",
    "# fi.reset_index(inplace=True)\n",
    "#fi.to_csv('feature_importance_{}.csv'.format(simulation_name))\n",
    "\n",
    "plt.rcParams.update({'figure.figsize': '16, 240'})\n",
    "plt.rcParams.update({'font.size': '22'})\n",
    "fig, ax = plt.subplots()\n",
    "ax.barh(fi.index, fi['mean'].values, log=True, xerr=fi['std'].values)\n",
    "ax.grid()\n",
    "ax.tick_params(labelbottom=True,labeltop=True)\n",
    "ax.set_ylim(fi.shape[0], -0.5)\n",
    "\n",
    "plt.figure(figsize=(16, 9))\n",
    "plt.plot(fi.values[:, n_repeat])\n",
    "plt.grid()\n",
    "plt.yscale('log')\n",
    "\n",
    "# Save data\n",
    "save_pickle('parameter_tune_eda_4_32_{}.pickle'.format(simulation_name), (history, model_dict, y_pred, y_sub, fi))"
   ]
  }
 ],
 "metadata": {
  "kernelspec": {
   "display_name": "Python 3",
   "language": "python",
   "name": "python3"
  },
  "language_info": {
   "codemirror_mode": {
    "name": "ipython",
    "version": 3
   },
   "file_extension": ".py",
   "mimetype": "text/x-python",
   "name": "python",
   "nbconvert_exporter": "python",
   "pygments_lexer": "ipython3",
   "version": "3.6.7"
  }
 },
 "nbformat": 4,
 "nbformat_minor": 2
}
