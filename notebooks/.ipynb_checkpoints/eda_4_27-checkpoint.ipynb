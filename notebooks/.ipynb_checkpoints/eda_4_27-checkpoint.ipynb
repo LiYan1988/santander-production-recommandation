{
 "cells": [
  {
   "cell_type": "markdown",
   "metadata": {},
   "source": [
    "## Feature Engineering and CV based Winners' Solutions\n",
    "\n",
    "continued from eda_4_26\n",
    "\n",
    "New in this notebook:\n",
    "- average of products for each (customer, product) pair\n",
    "- exponent weighted average of products each (customer, product) pair\n",
    "- time since presence of products, distance to the first 1\n",
    "\n",
    "To-do: \n",
    "- mean encoding of products grouped by combinations of: canal_entrada, segmento, cod_prov\n",
    "- Time since change and lags for a few non-product features: \n",
    "    - segmento\n",
    "    - ind_actividad_cliente\n",
    "    - cod_prov\n",
    "    - canal_entrada\n",
    "    - indrel_1mes\n",
    "    - tiprel_1mes\n",
    "\n",
    "\n",
    "Features:\n",
    "- before eda_4_25\n",
    "    - customer info in the second month\n",
    "    - products in the first month\n",
    "    - combination of first and second month `ind_actividad_cliente`\n",
    "    - combination of first and second month `tiprel_1mes`\n",
    "    - combination of first month product by using binary number (`target_combine`)\n",
    "    - encoding `target_combine` with \n",
    "        - mean number of new products\n",
    "        - mean number of customers with new products\n",
    "        - mean number of customers with each new products\n",
    "    - Count patterns in the last `max_lag` months\n",
    "    - Number of month to the last time the customer purchase each product\n",
    "        - CV@2015-12-28: mlogloss=1.29349\n",
    "        - Private score: 0.0302475, public score: 0.0299266\n",
    "- eda_4_25\n",
    "    - Use all available history data\n",
    "        - E.g., for 2016-05-28 train data, use all previous months, for 2015-02-28, use 1 lag month. \n",
    "        - Need to create test set that use the same amount of previous months for each training data set. \n",
    "        - This is from [the second winner's solution](https://www.kaggle.com/c/santander-product-recommendation/discussion/26824), his bold part in paragraph 4.\n",
    "    - Combine models trained on 2016-05-28 and 2015-06-28:\n",
    "        - Private score: 0.0304583, public score: 0.0300839\n",
    "        - This is to catch both seasonality and trend, presented in 2015-06-28 and 2016-05-28, respectively. \n",
    "        - This idea is mentioned by many winners, like [11-th winner](https://www.kaggle.com/c/santander-product-recommendation/discussion/26823) and [14-th winner](https://www.kaggle.com/c/santander-product-recommendation/discussion/26808)\n",
    "\n",
    "- eda_4_27\n",
    "    - put 2015-06-28 and 2016-05-28 in the same data set, with the same lag=5\n",
    "        - Private score:0.0303096, public score: 0.0299867\n",
    "        - Different as [11-th winner's discussion](https://www.kaggle.com/c/santander-product-recommendation/discussion/26823)\n",
    "            > We tested this by adding 50% of May-16 data to our June model and sure enough, we went from 0.0301 to 0.0303. Then, we built separate models for Jun and May, but the ensemble didn’t work. We weren’t surprised because June data is better for seasonal products, and May data is better for trend products. And vice-versa, June data is bad for trend products and May data is bad for seasonal products. So, they sort of cancelled each other out.\n",
    "\n",
    "        - But my score is always worse than theirs, maybe this is the reason why we have different observations"
   ]
  },
  {
   "cell_type": "code",
   "execution_count": 1,
   "metadata": {},
   "outputs": [],
   "source": [
    "from santander_helper import *"
   ]
  },
  {
   "cell_type": "code",
   "execution_count": 2,
   "metadata": {},
   "outputs": [
    {
     "data": {
      "text/plain": [
       "['2015-01-28',\n",
       " '2015-02-28',\n",
       " '2015-03-28',\n",
       " '2015-04-28',\n",
       " '2015-05-28',\n",
       " '2015-06-28',\n",
       " '2015-07-28',\n",
       " '2015-08-28',\n",
       " '2015-09-28',\n",
       " '2015-10-28',\n",
       " '2015-11-28',\n",
       " '2015-12-28',\n",
       " '2016-01-28',\n",
       " '2016-02-28',\n",
       " '2016-03-28',\n",
       " '2016-04-28',\n",
       " '2016-05-28',\n",
       " '2016-06-28']"
      ]
     },
     "execution_count": 2,
     "metadata": {},
     "output_type": "execute_result"
    }
   ],
   "source": [
    "month_list"
   ]
  },
  {
   "cell_type": "code",
   "execution_count": 3,
   "metadata": {},
   "outputs": [],
   "source": [
    "month1 = '2016-01-28'\n",
    "max_lag = 3"
   ]
  },
  {
   "cell_type": "code",
   "execution_count": 4,
   "metadata": {},
   "outputs": [],
   "source": [
    "month_new = month_list.index(month1)+1\n",
    "month_end = month_list.index(month1)\n",
    "month_start = month_end-max_lag+1"
   ]
  },
  {
   "cell_type": "code",
   "execution_count": 5,
   "metadata": {},
   "outputs": [
    {
     "data": {
      "text/plain": [
       "13"
      ]
     },
     "execution_count": 5,
     "metadata": {},
     "output_type": "execute_result"
    }
   ],
   "source": [
    "month_new"
   ]
  },
  {
   "cell_type": "code",
   "execution_count": 6,
   "metadata": {},
   "outputs": [
    {
     "data": {
      "text/plain": [
       "'2016-02-28'"
      ]
     },
     "execution_count": 6,
     "metadata": {},
     "output_type": "execute_result"
    }
   ],
   "source": [
    "month_list[month_new]"
   ]
  },
  {
   "cell_type": "code",
   "execution_count": 7,
   "metadata": {},
   "outputs": [
    {
     "data": {
      "text/plain": [
       "'2015-11-28'"
      ]
     },
     "execution_count": 7,
     "metadata": {},
     "output_type": "execute_result"
    }
   ],
   "source": [
    "month_list[month_start]"
   ]
  },
  {
   "cell_type": "code",
   "execution_count": 8,
   "metadata": {},
   "outputs": [],
   "source": [
    "# Check if month_new is the last month\n",
    "if month_new<len(month_list)-1:\n",
    "    # Customers with new products in month_new\n",
    "    customer_product_pair = pd.read_hdf('../input/customer_product_pair.hdf', 'customer_product_pair')\n",
    "    ncodpers_list = customer_product_pair.loc[customer_product_pair.fecha_dato==month_list[month_new], \n",
    "        'ncodpers'].unique().tolist()"
   ]
  },
  {
   "cell_type": "code",
   "execution_count": 9,
   "metadata": {},
   "outputs": [],
   "source": [
    "# Load data for all the lag related months\n",
    "df = []\n",
    "for m in range(month_start, month_end+1):\n",
    "    df.append(pd.read_hdf('../input/data_month_{}.hdf'.format(month_list[m]), 'data_month'))"
   ]
  },
  {
   "cell_type": "code",
   "execution_count": 10,
   "metadata": {},
   "outputs": [],
   "source": [
    "# concatenate data\n",
    "df = pd.concat(df, ignore_index=True)"
   ]
  },
  {
   "cell_type": "code",
   "execution_count": 11,
   "metadata": {},
   "outputs": [],
   "source": [
    "df = df.loc[:, ['fecha_dato']+cat_cols+target_cols]\n",
    "if month_new<len(month_list)-1:\n",
    "    # select customers if this is not test set\n",
    "    df = df.loc[df.ncodpers.isin(ncodpers_list), :]"
   ]
  },
  {
   "cell_type": "code",
   "execution_count": 12,
   "metadata": {},
   "outputs": [],
   "source": [
    "# set ncodpers and fecha_dato as index\n",
    "df.set_index(['ncodpers', 'fecha_dato'], inplace=True)"
   ]
  },
  {
   "cell_type": "code",
   "execution_count": 13,
   "metadata": {},
   "outputs": [],
   "source": [
    "# unstack to make month as columns\n",
    "df = df.unstack(level=-1, fill_value=np.nan)"
   ]
  },
  {
   "cell_type": "code",
   "execution_count": 16,
   "metadata": {},
   "outputs": [
    {
     "data": {
      "text/plain": [
       "               fecha_dato\n",
       "canal_entrada  2015-11-28    3087\n",
       "               2015-12-28    2192\n",
       "               2016-01-28      17\n",
       "conyuemp       2015-11-28    3087\n",
       "               2015-12-28    2192\n",
       "dtype: int64"
      ]
     },
     "execution_count": 16,
     "metadata": {},
     "output_type": "execute_result"
    }
   ],
   "source": [
    "df.isnull().sum().head()"
   ]
  },
  {
   "cell_type": "markdown",
   "metadata": {},
   "source": [
    "Arithmetic /exponent weighted average of products for each (customer, product) pair "
   ]
  },
  {
   "cell_type": "code",
   "execution_count": 24,
   "metadata": {},
   "outputs": [],
   "source": [
    "# Group data by features\n",
    "group0 = df.fillna(0.0).groupby(axis=1, level=0)\n",
    "\n",
    "# Average of products for each (customer, product) pair\n",
    "mean_product = pd.DataFrame()\n",
    "mean_product['ncodpers'] = df.index.tolist() # Note: orders of ncodpers in df and ncodpers_list are different! \n",
    "for k in target_cols:\n",
    "    mean_product[k+'_lag_mean'] = group0.get_group(k).mean(axis=1).values\n",
    "\n",
    "mean_product.set_index('ncodpers', inplace=True)"
   ]
  },
  {
   "cell_type": "code",
   "execution_count": 27,
   "metadata": {},
   "outputs": [],
   "source": [
    "# Exponent average of products for each (customer, product) pair\n",
    "mean_exp_product = pd.DataFrame()\n",
    "mean_exp_product['ncodpers'] = df.index.tolist() # Note: orders of ncodpers in df and ncodpers_list are different! \n",
    "mean_exp_alpha1 = 0.1\n",
    "mean_exp_weight1 = np.float_power(1-mean_exp_alpha1, np.arange(0, max_lag))\n",
    "mean_exp_weight1 = mean_exp_weight1[::-1]/np.sum(mean_exp_weight1)\n",
    "mean_exp_alpha2 = 0.5\n",
    "mean_exp_weight2 = np.float_power(1-mean_exp_alpha2, np.arange(0, max_lag))\n",
    "mean_exp_weight2 = mean_exp_weight2[::-1]/np.sum(mean_exp_weight2)\n",
    "for k in target_cols:\n",
    "    mean_exp_product[k+'_lag_exp_mean1'] = np.average(group0.get_group(k).values, axis=1, weights=mean_exp_weight1) #group0.get_group(k).apply(np.average, axis=1, weights=mean_exp_weight1).values\n",
    "    mean_exp_product[k+'_lag_exp_mean2'] = np.average(group0.get_group(k).values, axis=1, weights=mean_exp_weight2) # group0.get_group(k).apply(np.average, axis=1, weights=mean_exp_weight2).values\n",
    "    \n",
    "mean_exp_product.set_index('ncodpers', inplace=True)"
   ]
  },
  {
   "cell_type": "markdown",
   "metadata": {},
   "source": [
    "distance to positive flank"
   ]
  },
  {
   "cell_type": "code",
   "execution_count": 164,
   "metadata": {},
   "outputs": [],
   "source": [
    "def dist_pos_flank(x):\n",
    "    x = x.values[:, ::-1]\n",
    "    x = np.hstack((x, np.ones((x.shape[0], 1)), np.zeros((x.shape[0], 1)) ))\n",
    "    x = np.diff(x, axis=1)\n",
    "    x = np.argmin(x, axis=1)\n",
    "    return x"
   ]
  },
  {
   "cell_type": "code",
   "execution_count": 169,
   "metadata": {},
   "outputs": [],
   "source": [
    "distance_positive_flank = pd.DataFrame()\n",
    "distance_positive_flank['ncodpers'] = df.index.tolist()\n",
    "for k in target_cols:\n",
    "    distance_positive_flank[k+'_dist_pos_flank'] = dist_pos_flank(group0.get_group(k))\n",
    "    \n",
    "distance_positive_flank.set_index('ncodpers', inplace=True)"
   ]
  },
  {
   "cell_type": "markdown",
   "metadata": {},
   "source": [
    "distance to negative flank"
   ]
  },
  {
   "cell_type": "code",
   "execution_count": 170,
   "metadata": {},
   "outputs": [],
   "source": [
    "def dist_neg_flank(x):\n",
    "    x = x.values[:, ::-1]\n",
    "    x = np.hstack((x, np.zeros((x.shape[0], 1)), np.ones((x.shape[0], 1)) ))\n",
    "    x = np.diff(x, axis=1)\n",
    "    x = np.argmax(x, axis=1)\n",
    "    return x"
   ]
  },
  {
   "cell_type": "code",
   "execution_count": 171,
   "metadata": {},
   "outputs": [],
   "source": [
    "distance_negative_flank = pd.DataFrame()\n",
    "distance_negative_flank['ncodpers'] = df.index.tolist()\n",
    "for k in target_cols:\n",
    "    distance_negative_flank[k+'_dist_neg_flank'] = dist_neg_flank(group0.get_group(k))\n",
    "    \n",
    "distance_negative_flank.set_index('ncodpers', inplace=True)"
   ]
  },
  {
   "cell_type": "markdown",
   "metadata": {},
   "source": [
    "Distance to the first 1"
   ]
  },
  {
   "cell_type": "code",
   "execution_count": 185,
   "metadata": {},
   "outputs": [],
   "source": [
    "def dist_first_one(x):\n",
    "    x = x.values\n",
    "    x = np.hstack( (x, np.ones((x.shape[0], 1)) ) )\n",
    "    x = x.shape[1]-2-np.argmax(x, axis=1)\n",
    "    return x"
   ]
  },
  {
   "cell_type": "code",
   "execution_count": 186,
   "metadata": {},
   "outputs": [],
   "source": [
    "distance_first_one = pd.DataFrame()\n",
    "distance_first_one['ncodpers'] = df.index.tolist()\n",
    "for k in target_cols:\n",
    "    distance_first_one[k+'_dist_first_one'] = dist_first_one(group0.get_group(k))\n",
    "    \n",
    "distance_first_one.set_index('ncodpers', inplace=True)"
   ]
  },
  {
   "cell_type": "code",
   "execution_count": null,
   "metadata": {},
   "outputs": [],
   "source": [
    "month_new = month_list.index(month1)+1\n",
    "month_end = month_list.index(month1)\n",
    "month_start = month_end-max_lag+1\n",
    "\n",
    "# Check if month_new is the last month\n",
    "if month_new<len(month_list)-1:\n",
    "    # Customers with new products in month_new\n",
    "    customer_product_pair = pd.read_hdf('../input/customer_product_pair.hdf', 'customer_product_pair')\n",
    "    ncodpers_list = customer_product_pair.loc[customer_product_pair.fecha_dato==month_list[month_new], \n",
    "        'ncodpers'].unique().tolist()\n",
    "\n",
    "# Load data for all the lag related months\n",
    "df = []\n",
    "for m in range(month_start, month_end+1):\n",
    "    df.append(pd.read_hdf('../input/data_month_{}.hdf'.format(month_list[m]), 'data_month'))\n",
    "\n",
    "# concatenate data\n",
    "df = pd.concat(df, ignore_index=True)\n",
    "df = df.loc[:, ['ncodpers', 'fecha_dato']+target_cols]\n",
    "if month_new<len(month_list)-1:\n",
    "    # select customers if this is not test set\n",
    "    df = df.loc[df.ncodpers.isin(ncodpers_list), :]\n",
    "# set ncodpers and fecha_dato as index\n",
    "df.set_index(['ncodpers', 'fecha_dato'], inplace=True)\n",
    "# unstack to make month as columns\n",
    "df = df.unstack(level=-1, fill_value=0)\n",
    "\n",
    "# count number of concatenating zeros before the second/current month\n",
    "df = df.groupby(level=0, axis=1).progress_apply(lambda x: (1-x).iloc[:, ::-1].cummin(axis=1).sum(axis=1))\n",
    "df.columns = [k+'_zc' for k in df.columns]\n",
    "\n",
    "gc.collect()\n",
    "\n"
   ]
  }
 ],
 "metadata": {
  "kernelspec": {
   "display_name": "Python 3",
   "language": "python",
   "name": "python3"
  },
  "language_info": {
   "codemirror_mode": {
    "name": "ipython",
    "version": 3
   },
   "file_extension": ".py",
   "mimetype": "text/x-python",
   "name": "python",
   "nbconvert_exporter": "python",
   "pygments_lexer": "ipython3",
   "version": "3.6.6"
  }
 },
 "nbformat": 4,
 "nbformat_minor": 2
}
