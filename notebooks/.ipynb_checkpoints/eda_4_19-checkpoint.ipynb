{
 "cells": [
  {
   "cell_type": "markdown",
   "metadata": {},
   "source": [
    "## Feature Engineering in RAM-Limited Data, Part 5\n",
    "\n",
    "#### CV for mean encoding of `target_combine`\n",
    "\n",
    "#### CV@2015-12-28:\n",
    "- benchmark: val = 1.62857\n",
    "- with only `ind_actividad_client_combine`, `tiprel_1mes_combine`, `target_combine`, mlogloss=1.57141\n",
    "- with `ind_actividad_client_combine`, `tiprel_1mes_combine`, `target_combine`, `n_products` and patterns: val = 1.31122\n",
    "    - Private score: 0.0302475, public score: 0.0299266\n",
    "\n",
    "- with all above and mean encoding of target indicator and target #products: mlogloss=1.30756\n",
    "    - Private score: 0.0302597, public score: 0.0299519\n",
    "    \n",
    "- with all above and mean encoding of each product: mlogloss=1.29115\n",
    "    - Private score: 0.0301206, public score: 0.0297601\n",
    "- with all above and 120 trees: mlogloss=1.15386\n",
    "    - Private score 0.0301176, public score 0.0297002"
   ]
  },
  {
   "cell_type": "code",
   "execution_count": 1,
   "metadata": {},
   "outputs": [],
   "source": [
    "from santander_helper import *\n",
    "%matplotlib inline"
   ]
  },
  {
   "cell_type": "markdown",
   "metadata": {},
   "source": [
    "Generate data"
   ]
  },
  {
   "cell_type": "code",
   "execution_count": null,
   "metadata": {
    "scrolled": true
   },
   "outputs": [],
   "source": [
    "x_train, y_train = create_train_test('2015-06-28', target_flag=True, pattern_flag=True)"
   ]
  },
  {
   "cell_type": "code",
   "execution_count": null,
   "metadata": {},
   "outputs": [],
   "source": [
    "x_val, y_val = create_train_test('2015-12-28', max_lag=5, target_flag=True, pattern_flag=True)"
   ]
  },
  {
   "cell_type": "code",
   "execution_count": null,
   "metadata": {},
   "outputs": [],
   "source": [
    "x_test = create_train_test('2016-06-28', max_lag=5, target_flag=False, pattern_flag=True)"
   ]
  },
  {
   "cell_type": "markdown",
   "metadata": {},
   "source": [
    "## Train model\n",
    "\n",
    "- benchmark: val = 1.62857\n",
    "- with only `ind_actividad_client_combine`, `tiprel_1mes_combine`, `target_combine`, mlogloss=1.57141\n",
    "- with `ind_actividad_client_combine`, `tiprel_1mes_combine`, `target_combine`, `n_products` and patterns: val = 1.31122\n",
    "- with all above and mean encoding of target indicator and target #products: mlogloss=1.30756\n",
    "- with all above and mean encoding of each product: mlogloss=1.29115\n",
    "- with all above and 120 trees: mlogloss=1.15386\n",
    "    - Private score 0.0301176, public score 0.0297002"
   ]
  },
  {
   "cell_type": "code",
   "execution_count": null,
   "metadata": {
    "scrolled": true
   },
   "outputs": [],
   "source": [
    "param = {'objective': 'multi:softprob', \n",
    "         'eta': 0.05, \n",
    "         'max_depth': 8, \n",
    "         'silent': 1, \n",
    "         'num_class': len(target_cols),\n",
    "         'eval_metric': 'mlogloss',\n",
    "         'min_child_weight': 1,\n",
    "         'subsample': 0.7,\n",
    "         'colsample_bytree': 0.7,\n",
    "         'seed': 0}\n",
    "num_rounds = 120\n",
    "\n",
    "dtrain = xgb.DMatrix(x_train.values, y_train.values)\n",
    "dval = xgb.DMatrix(x_val.values, y_val.values)\n",
    "\n",
    "train_history = {}\n",
    "models = {}\n",
    "n_repeat = 1\n",
    "np.random.seed(0)\n",
    "for n in range(1):\n",
    "    train_history[n] = {}\n",
    "    param['seed'] = np.random.randint(10**6)\n",
    "    model = xgb.train(param, dtrain, num_rounds, evals=[(dtrain, 'train'), (dval, 'val')], \n",
    "        verbose_eval=True, evals_result=train_history[n])\n",
    "    models[n] = model"
   ]
  },
  {
   "cell_type": "code",
   "execution_count": null,
   "metadata": {},
   "outputs": [],
   "source": [
    "result = {(k, d): train_history[k][d]['mlogloss'] for k in range(n_repeat) for d in ['train', 'val']}\n",
    "result = pd.DataFrame(result)\n",
    "\n",
    "result_mean = result.groupby(level=1, axis=1).mean()\n",
    "result_std = result.groupby(level=1, axis=1).std()\n",
    "\n",
    "result = pd.concat((result_mean, result_std), axis=1, ignore_index=True)\n",
    "result.columns = pd.MultiIndex.from_product([['mean', 'std'], ['train', 'val']], names=['quantity', 'data'])"
   ]
  },
  {
   "cell_type": "code",
   "execution_count": null,
   "metadata": {},
   "outputs": [],
   "source": [
    "plt.figure(figsize=(16, 9))\n",
    "plt.plot(result.loc[:, ('mean', slice(None))])\n",
    "plt.fill_between(result.index, result.loc[:, ('mean', 'train')]-result.loc[:, ('std', 'train')], \n",
    "    result.loc[:, ('mean', 'train')]+result.loc[:, ('std', 'train')], alpha=0.5)\n",
    "plt.fill_between(result.index, result.loc[:, ('mean', 'val')]-result.loc[:, ('std', 'val')], \n",
    "    result.loc[:, ('mean', 'val')]+result.loc[:, ('std', 'val')], alpha=0.5)\n",
    "plt.grid()"
   ]
  },
  {
   "cell_type": "markdown",
   "metadata": {},
   "source": [
    "Prediction from my model"
   ]
  },
  {
   "cell_type": "code",
   "execution_count": null,
   "metadata": {},
   "outputs": [],
   "source": [
    "preds = model.predict(xgb.DMatrix(x_test.values))\n",
    "\n",
    "df_preds = pd.DataFrame(preds, index=x_test.index, columns=target_cols)\n",
    "# Remove already bought products \n",
    "df_preds[x_test[target_cols]==1] = 0 \n",
    "preds = df_preds.values\n",
    "preds = np.argsort(preds, axis=1)\n",
    "preds = np.fliplr(preds)[:, :7]"
   ]
  },
  {
   "cell_type": "markdown",
   "metadata": {},
   "source": [
    "Write out prediction results from my model"
   ]
  },
  {
   "cell_type": "code",
   "execution_count": null,
   "metadata": {},
   "outputs": [],
   "source": [
    "test_id = x_test.loc[:, 'ncodpers'].values\n",
    "final_preds = [' '.join([target_cols[k] for k in pred]) for pred in preds]\n",
    "\n",
    "out_df = pd.DataFrame({'ncodpers': test_id, 'added_products': final_preds})\n",
    "out_df.to_csv('eda_4_19.csv.gz', compression='gzip', index=False)"
   ]
  },
  {
   "cell_type": "code",
   "execution_count": null,
   "metadata": {},
   "outputs": [],
   "source": [
    "#pd.Series(x_train.columns).to_csv('x_train_cols.csv')"
   ]
  },
  {
   "cell_type": "code",
   "execution_count": null,
   "metadata": {},
   "outputs": [],
   "source": [
    "result"
   ]
  }
 ],
 "metadata": {
  "kernelspec": {
   "display_name": "Python 3",
   "language": "python",
   "name": "python3"
  },
  "language_info": {
   "codemirror_mode": {
    "name": "ipython",
    "version": 3
   },
   "file_extension": ".py",
   "mimetype": "text/x-python",
   "name": "python",
   "nbconvert_exporter": "python",
   "pygments_lexer": "ipython3",
   "version": "3.6.6"
  }
 },
 "nbformat": 4,
 "nbformat_minor": 2
}
