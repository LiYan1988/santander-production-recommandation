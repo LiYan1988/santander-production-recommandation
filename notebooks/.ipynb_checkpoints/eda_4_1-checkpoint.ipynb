{
 "cells": [
  {
   "cell_type": "code",
   "execution_count": 1,
   "metadata": {},
   "outputs": [],
   "source": [
    "import os\n",
    "if os.name=='nt':\n",
    "    try:\n",
    "        mingw_path = 'C:\\\\Program Files\\\\mingw-w64\\\\x86_64-8.1.0-posix-seh-rt_v6-rev0\\\\mingw64\\\\bin'\n",
    "        os.environ['PATH'] = mingw_path + ';' + os.environ['PATH']\n",
    "    except:\n",
    "        pass\n",
    "    \n",
    "import numpy as np\n",
    "import pandas as pd\n",
    "import seaborn as sns\n",
    "import matplotlib.pyplot as plt\n",
    "import tqdm\n",
    "import gc\n",
    "\n",
    "tqdm.tqdm.pandas()\n",
    "\n",
    "%matplotlib inline"
   ]
  },
  {
   "cell_type": "code",
   "execution_count": 2,
   "metadata": {},
   "outputs": [],
   "source": [
    "df = pd.read_hdf('../input/data_all.hdf', 'train_test')"
   ]
  },
  {
   "cell_type": "markdown",
   "metadata": {},
   "source": [
    "Use 2015-05 and 2015-06 data to train a model, and predict on 2016-05 for 2016-06\n",
    "\n",
    "1. Use two months data to create one dataset\n",
    "    1. For each user in 2015-06, extract all the history data"
   ]
  },
  {
   "cell_type": "code",
   "execution_count": 4,
   "metadata": {},
   "outputs": [],
   "source": [
    "target_cols = ['ind_ahor_fin_ult1','ind_aval_fin_ult1',\n",
    "               'ind_cco_fin_ult1','ind_cder_fin_ult1',\n",
    "               'ind_cno_fin_ult1','ind_ctju_fin_ult1',\n",
    "               'ind_ctma_fin_ult1','ind_ctop_fin_ult1',\n",
    "               'ind_ctpp_fin_ult1','ind_deco_fin_ult1',\n",
    "               'ind_deme_fin_ult1','ind_dela_fin_ult1',\n",
    "               'ind_ecue_fin_ult1','ind_fond_fin_ult1',\n",
    "               'ind_hip_fin_ult1','ind_plan_fin_ult1',\n",
    "               'ind_pres_fin_ult1','ind_reca_fin_ult1',\n",
    "               'ind_tjcr_fin_ult1','ind_valo_fin_ult1',\n",
    "               'ind_viv_fin_ult1','ind_nomina_ult1',\n",
    "               'ind_nom_pens_ult1','ind_recibo_ult1']"
   ]
  },
  {
   "cell_type": "code",
   "execution_count": 5,
   "metadata": {},
   "outputs": [],
   "source": [
    "df_pivot = df.pivot_table(index='ncodpers', columns='fecha_dato', \n",
    "                                values=target_cols)"
   ]
  },
  {
   "cell_type": "code",
   "execution_count": 6,
   "metadata": {},
   "outputs": [],
   "source": [
    "month_cols = df.fecha_dato.unique()"
   ]
  },
  {
   "cell_type": "code",
   "execution_count": 7,
   "metadata": {},
   "outputs": [],
   "source": [
    "m2 = month_cols[-2]\n",
    "m1 = month_cols[-3]"
   ]
  },
  {
   "cell_type": "code",
   "execution_count": 57,
   "metadata": {},
   "outputs": [],
   "source": [
    "def calculate_max_score(df, m1, m2):\n",
    "    tmp2 = df_pivot.loc[:, (slice(None), m2)].copy()\n",
    "    tmp1 = df_pivot.loc[:, (slice(None), m1)].copy()\n",
    "\n",
    "    tmp2.dropna(axis=0, how='all', inplace=True)\n",
    "\n",
    "    tmp1.columns = target_cols\n",
    "    tmp2.columns = target_cols\n",
    "\n",
    "    tmp1 = tmp1.loc[tmp1.index.isin(tmp2.index)]\n",
    "    tmp1.fillna(0.0, inplace=True)\n",
    "\n",
    "    tmp_diff = tmp2.subtract(tmp1)\n",
    "\n",
    "    tmp_diff.dropna(axis=0, how='all', inplace=True)\n",
    "    tmp_diff.fillna(0.0, inplace=True)\n",
    "    \n",
    "    return tmp_diff.max(axis=1).sum()/tmp_diff.shape[0]"
   ]
  },
  {
   "cell_type": "code",
   "execution_count": 58,
   "metadata": {},
   "outputs": [
    {
     "name": "stdout",
     "output_type": "stream",
     "text": [
      "2015-01-28T00:00:00.000000000 2015-02-28T00:00:00.000000000 0.04476931561347415\n",
      "2015-02-28T00:00:00.000000000 2015-03-28T00:00:00.000000000 0.04628668693550156\n",
      "2015-03-28T00:00:00.000000000 2015-04-28T00:00:00.000000000 0.04598432341794542\n",
      "2015-04-28T00:00:00.000000000 2015-05-28T00:00:00.000000000 0.03936818486067881\n",
      "2015-05-28T00:00:00.000000000 2015-06-28T00:00:00.000000000 0.05807533498916328\n",
      "2015-06-28T00:00:00.000000000 2015-07-28T00:00:00.000000000 0.04738876161852553\n",
      "2015-07-28T00:00:00.000000000 2015-08-28T00:00:00.000000000 0.04196508305848783\n",
      "2015-08-28T00:00:00.000000000 2015-09-28T00:00:00.000000000 0.051511369938990574\n",
      "2015-09-28T00:00:00.000000000 2015-10-28T00:00:00.000000000 0.05436474713953809\n",
      "2015-10-28T00:00:00.000000000 2015-11-28T00:00:00.000000000 0.0404785737698224\n",
      "2015-11-28T00:00:00.000000000 2015-12-28T00:00:00.000000000 0.04068765960432929\n",
      "2015-12-28T00:00:00.000000000 2016-01-28T00:00:00.000000000 0.0331027241999893\n",
      "2016-01-28T00:00:00.000000000 2016-02-28T00:00:00.000000000 0.04224327400033011\n",
      "2016-02-28T00:00:00.000000000 2016-03-28T00:00:00.000000000 0.033017827724424804\n",
      "2016-03-28T00:00:00.000000000 2016-04-28T00:00:00.000000000 0.030925136328282383\n",
      "2016-04-28T00:00:00.000000000 2016-05-28T00:00:00.000000000 0.031903917857369075\n"
     ]
    }
   ],
   "source": [
    "month_cols = df.fecha_dato.unique()\n",
    "best_score = {}\n",
    "for n, m in enumerate(month_cols[:-2]):\n",
    "    m1 = m\n",
    "    m2 = month_cols[n+1]\n",
    "    print(m1, m2, calculate_max_score(df, m1, m2))"
   ]
  },
  {
   "cell_type": "code",
   "execution_count": 61,
   "metadata": {},
   "outputs": [],
   "source": [
    "m1 = month_cols[4] # numpy.datetime64('2015-05-28T00:00:00.000000000')\n",
    "m2 = month_cols[5] # numpy.datetime64('2015-06-28T00:00:00.000000000')"
   ]
  },
  {
   "cell_type": "code",
   "execution_count": 72,
   "metadata": {},
   "outputs": [],
   "source": [
    "sales_june = df_pivot.loc[:, (slice(None), m2)].copy()\n",
    "sales_may = df_pivot.loc[:, (slice(None), m1)].copy()"
   ]
  },
  {
   "cell_type": "code",
   "execution_count": null,
   "metadata": {},
   "outputs": [],
   "source": [
    "sales_june.columns = target_cols\n",
    "sales_may.columns = target_cols"
   ]
  },
  {
   "cell_type": "code",
   "execution_count": 73,
   "metadata": {},
   "outputs": [],
   "source": [
    "sales_june.dropna(axis=0, how='all', inplace=True)"
   ]
  },
  {
   "cell_type": "code",
   "execution_count": 76,
   "metadata": {},
   "outputs": [],
   "source": [
    "ncodpers_june = sales_june.index.tolist()"
   ]
  },
  {
   "cell_type": "code",
   "execution_count": 66,
   "metadata": {},
   "outputs": [
    {
     "data": {
      "text/plain": [
       "(956645, 24)"
      ]
     },
     "execution_count": 66,
     "metadata": {},
     "output_type": "execute_result"
    }
   ],
   "source": [
    "sales_may.shape"
   ]
  },
  {
   "cell_type": "code",
   "execution_count": null,
   "metadata": {},
   "outputs": [],
   "source": []
  }
 ],
 "metadata": {
  "kernelspec": {
   "display_name": "Python 3",
   "language": "python",
   "name": "python3"
  },
  "language_info": {
   "codemirror_mode": {
    "name": "ipython",
    "version": 3
   },
   "file_extension": ".py",
   "mimetype": "text/x-python",
   "name": "python",
   "nbconvert_exporter": "python",
   "pygments_lexer": "ipython3",
   "version": "3.6.6"
  }
 },
 "nbformat": 4,
 "nbformat_minor": 2
}
