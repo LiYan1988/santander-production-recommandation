{
 "cells": [
  {
   "cell_type": "code",
   "execution_count": 1,
   "metadata": {},
   "outputs": [],
   "source": [
    "import os\n",
    "if os.name=='nt':\n",
    "    try:\n",
    "        mingw_path = 'C:\\\\Program Files\\\\mingw-w64\\\\x86_64-8.1.0-posix-seh-rt_v6-rev0\\\\mingw64\\\\bin'\n",
    "        os.environ['PATH'] = mingw_path + ';' + os.environ['PATH']\n",
    "    except:\n",
    "        pass\n",
    "    \n",
    "import numpy as np\n",
    "import pandas as pd\n",
    "import seaborn as sns\n",
    "import matplotlib.pyplot as plt\n",
    "import tqdm\n",
    "import gc\n",
    "import xgboost as xgb\n",
    "from sklearn.preprocessing import LabelEncoder\n",
    "\n",
    "tqdm.tqdm.pandas()\n",
    "\n",
    "%matplotlib inline"
   ]
  },
  {
   "cell_type": "code",
   "execution_count": 2,
   "metadata": {},
   "outputs": [],
   "source": [
    "df = pd.read_hdf('../input/data_all.hdf', 'train_test')\n",
    "df2 = df.copy()"
   ]
  },
  {
   "cell_type": "code",
   "execution_count": null,
   "metadata": {},
   "outputs": [],
   "source": [
    "# Convert data types\n",
    "for c in tqdm.tqdm_notebook(df.columns):\n",
    "    if df[c].dtype.name=='category':\n",
    "        le = LabelEncoder()\n",
    "        df[c] = le.fit_transform(df[c])\n",
    "    elif df[c].dtype.name=='datetime64[ns]':\n",
    "        df[c] = (df[c] - df[c].min()).dt.days"
   ]
  },
  {
   "cell_type": "markdown",
   "metadata": {},
   "source": [
    "Use 2015-05 and 2015-06 data to train a model, and predict on 2016-05 for 2016-06\n",
    "\n",
    "1. Use two months data to create one dataset\n",
    "    1. For each user in 2015-06, extract all the history data"
   ]
  },
  {
   "cell_type": "code",
   "execution_count": 4,
   "metadata": {},
   "outputs": [],
   "source": [
    "target_cols = ['ind_ahor_fin_ult1','ind_aval_fin_ult1',\n",
    "               'ind_cco_fin_ult1','ind_cder_fin_ult1',\n",
    "               'ind_cno_fin_ult1','ind_ctju_fin_ult1',\n",
    "               'ind_ctma_fin_ult1','ind_ctop_fin_ult1',\n",
    "               'ind_ctpp_fin_ult1',\n",
    "               #'ind_deco_fin_ult1',\n",
    "               #'ind_deme_fin_ult1',\n",
    "               'ind_dela_fin_ult1',\n",
    "               'ind_ecue_fin_ult1','ind_fond_fin_ult1',\n",
    "               'ind_hip_fin_ult1','ind_plan_fin_ult1',\n",
    "               'ind_pres_fin_ult1','ind_reca_fin_ult1',\n",
    "               'ind_tjcr_fin_ult1','ind_valo_fin_ult1',\n",
    "               #'ind_viv_fin_ult1',\n",
    "               'ind_nomina_ult1',\n",
    "               'ind_nom_pens_ult1','ind_recibo_ult1']"
   ]
  },
  {
   "cell_type": "code",
   "execution_count": 5,
   "metadata": {},
   "outputs": [],
   "source": [
    "feature_cols = ['fecha_dato', 'ncodpers', 'ind_empleado', 'pais_residencia', 'sexo',\n",
    "       'age', 'fecha_alta', 'ind_nuevo', 'antiguedad', 'indrel',\n",
    "       'ult_fec_cli_1t', 'indrel_1mes', 'tiprel_1mes', 'indresi', 'indext',\n",
    "       'conyuemp', 'canal_entrada', 'indfall', 'tipodom', 'cod_prov',\n",
    "       'nomprov', 'ind_actividad_cliente', 'renta', 'segmento',]"
   ]
  },
  {
   "cell_type": "code",
   "execution_count": 6,
   "metadata": {},
   "outputs": [],
   "source": [
    "df_pivot = df.pivot_table(index='ncodpers', columns='fecha_dato', \n",
    "                                values=target_cols)"
   ]
  },
  {
   "cell_type": "code",
   "execution_count": 7,
   "metadata": {},
   "outputs": [],
   "source": [
    "month_cols = df.fecha_dato.unique()"
   ]
  },
  {
   "cell_type": "code",
   "execution_count": 8,
   "metadata": {},
   "outputs": [],
   "source": [
    "def calculate_max_score(df, df_pivot, m1, m2):\n",
    "    '''Calculate the maximum possible score for each month'''\n",
    "    \n",
    "    # sales of m2\n",
    "    tmp2 = df_pivot.loc[:, (slice(None), m2)].copy()\n",
    "    # sales of m1\n",
    "    tmp1 = df_pivot.loc[:, (slice(None), m1)].copy()\n",
    "\n",
    "    # customer ids in m2\n",
    "    tmp2_ncodpers = df.loc[df.fecha_dato==m2].ncodpers\n",
    "    # keep customers existing in m2, and remove irrelavent customers\n",
    "    tmp2 = tmp2.loc[tmp2.index.isin(tmp2_ncodpers)]    \n",
    "    # replace NAN with 0.0\n",
    "    tmp2.fillna(0.0, inplace=True)\n",
    "    \n",
    "    # customers in m2 should also in tmp1, even though some of them\n",
    "    # are new in m2 and do not exist in m1 (they will be NAN)\n",
    "    tmp1 = tmp1.loc[tmp1.index.isin(tmp2.index)]\n",
    "    # replace NAN with 0.0\n",
    "    tmp1.fillna(0.0, inplace=True)\n",
    "\n",
    "    # change column names so that subtract works\n",
    "    tmp1.columns = target_cols\n",
    "    tmp2.columns = target_cols\n",
    "\n",
    "    # sales in m2 - sales in m1\n",
    "    tmp_diff = tmp2.subtract(tmp1)\n",
    "\n",
    "    # replace negative values with 0.0\n",
    "    tmp_diff[tmp_diff<0] = 0\n",
    "    # replace NAN with 0.0\n",
    "    tmp_diff.fillna(0.0, inplace=True)\n",
    "    \n",
    "    # maximum possible score\n",
    "    score_max = tmp_diff.max(axis=1).sum()/tmp_diff.shape[0]\n",
    "    \n",
    "    return tmp_diff, score_max"
   ]
  },
  {
   "cell_type": "code",
   "execution_count": null,
   "metadata": {},
   "outputs": [],
   "source": [
    "#month_cols = df.fecha_dato.unique()\n",
    "#best_score = {}\n",
    "#for n, m in enumerate(month_cols[:-2]):\n",
    "#    m1 = m\n",
    "#    m2 = month_cols[n+1]\n",
    "#    tmp_diff, score_max = calculate_max_score(df, df_pivot, m1, m2)\n",
    "#    print(m1, m2, score_max)"
   ]
  },
  {
   "cell_type": "markdown",
   "metadata": {},
   "source": [
    "Train on 2015-05 to 2015-06"
   ]
  },
  {
   "cell_type": "code",
   "execution_count": 122,
   "metadata": {},
   "outputs": [],
   "source": [
    "# the two months\n",
    "m1 = month_cols[4] # numpy.datetime64('2015-05-28T00:00:00.000000000')\n",
    "m2 = month_cols[5] # numpy.datetime64('2015-06-28T00:00:00.000000000')\n",
    "\n",
    "# target is the increment between 2015-06 and 2015-05\n",
    "target, score_max = calculate_max_score(df, df_pivot, m1, m2)\n",
    "\n",
    "# use customer features in 2015-06 \n",
    "x_train = df.loc[df.fecha_dato==m2, feature_cols].copy()\n",
    "# set customer id as row index\n",
    "x_train.set_index('ncodpers', inplace=True)\n",
    "# customer ids in 2015-06\n",
    "customer_id = x_train.index.tolist()\n",
    "\n",
    "# add sales in the previous month (2015-05)\n",
    "prev_target = df_pivot.loc[df_pivot.index.isin(customer_id), (slice(None), m1)]\n",
    "# change column names\n",
    "prev_target.columns = target_cols\n",
    "# join features\n",
    "x_train = x_train.join(prev_target)\n",
    "# replace NAN in previous target_cols with 0.0\n",
    "x_train.loc[:, target_cols].fillna(0.0, inplace=True)"
   ]
  },
  {
   "cell_type": "markdown",
   "metadata": {},
   "source": [
    "run XGBoost"
   ]
  },
  {
   "cell_type": "code",
   "execution_count": 123,
   "metadata": {},
   "outputs": [],
   "source": [
    "# x_train.drop(['fecha_dato', 'fecha_alta', 'ult_fec_cli_1t'], axis=1, inplace=True)"
   ]
  },
  {
   "cell_type": "code",
   "execution_count": 124,
   "metadata": {
    "scrolled": true
   },
   "outputs": [
    {
     "name": "stdout",
     "output_type": "stream",
     "text": [
      "[0]\ttrain-mlogloss:2.52771\n",
      "[1]\ttrain-mlogloss:2.22013\n",
      "[2]\ttrain-mlogloss:1.995\n",
      "[3]\ttrain-mlogloss:1.81635\n",
      "[4]\ttrain-mlogloss:1.66806\n",
      "[5]\ttrain-mlogloss:1.54136\n",
      "[6]\ttrain-mlogloss:1.4309\n",
      "[7]\ttrain-mlogloss:1.33315\n",
      "[8]\ttrain-mlogloss:1.24565\n",
      "[9]\ttrain-mlogloss:1.16664\n",
      "[10]\ttrain-mlogloss:1.09475\n",
      "[11]\ttrain-mlogloss:1.02897\n",
      "[12]\ttrain-mlogloss:0.968483\n",
      "[13]\ttrain-mlogloss:0.912626\n",
      "[14]\ttrain-mlogloss:0.860867\n",
      "[15]\ttrain-mlogloss:0.812761\n",
      "[16]\ttrain-mlogloss:0.767935\n",
      "[17]\ttrain-mlogloss:0.726072\n",
      "[18]\ttrain-mlogloss:0.6869\n",
      "[19]\ttrain-mlogloss:0.650183\n",
      "[20]\ttrain-mlogloss:0.615715\n",
      "[21]\ttrain-mlogloss:0.583317\n",
      "[22]\ttrain-mlogloss:0.552829\n",
      "[23]\ttrain-mlogloss:0.524108\n",
      "[24]\ttrain-mlogloss:0.497026\n",
      "[25]\ttrain-mlogloss:0.47147\n",
      "[26]\ttrain-mlogloss:0.447335\n",
      "[27]\ttrain-mlogloss:0.424527\n",
      "[28]\ttrain-mlogloss:0.402961\n",
      "[29]\ttrain-mlogloss:0.382559\n",
      "[30]\ttrain-mlogloss:0.363247\n",
      "[31]\ttrain-mlogloss:0.344961\n",
      "[32]\ttrain-mlogloss:0.327638\n",
      "[33]\ttrain-mlogloss:0.311223\n",
      "[34]\ttrain-mlogloss:0.295663\n",
      "[35]\ttrain-mlogloss:0.280908\n",
      "[36]\ttrain-mlogloss:0.266915\n",
      "[37]\ttrain-mlogloss:0.253639\n",
      "[38]\ttrain-mlogloss:0.241042\n",
      "[39]\ttrain-mlogloss:0.229087\n",
      "[40]\ttrain-mlogloss:0.217739\n",
      "[41]\ttrain-mlogloss:0.206964\n",
      "[42]\ttrain-mlogloss:0.196734\n",
      "[43]\ttrain-mlogloss:0.187019\n",
      "[44]\ttrain-mlogloss:0.177791\n",
      "[45]\ttrain-mlogloss:0.169026\n",
      "[46]\ttrain-mlogloss:0.160699\n",
      "[47]\ttrain-mlogloss:0.152788\n",
      "[48]\ttrain-mlogloss:0.145272\n",
      "[49]\ttrain-mlogloss:0.138129\n"
     ]
    }
   ],
   "source": [
    "param = {'objective': 'multi:softprob', \n",
    "         'eta': 0.05, \n",
    "         'max_depth': 8, \n",
    "         'silent': 0, \n",
    "         'num_class': len(target_cols),\n",
    "         'eval_metric': 'mlogloss',\n",
    "         'min_child_weight': 1,\n",
    "         'subsample': 0.7,\n",
    "         'colsample_bytree': 0.7,\n",
    "         'seed': 1}\n",
    "num_rounds = 50\n",
    "\n",
    "dtrain = xgb.DMatrix(x_train.values, target.values)\n",
    "model = xgb.train(param, dtrain, num_rounds, evals=[(dtrain, 'train')], verbose_eval=True)"
   ]
  },
  {
   "cell_type": "code",
   "execution_count": null,
   "metadata": {},
   "outputs": [],
   "source": [
    "# the two months\n",
    "m1 = month_cols[-2] # numpy.datetime64('2015-05-28T00:00:00.000000000')\n",
    "m2 = month_cols[-1] # numpy.datetime64('2015-06-28T00:00:00.000000000')\n",
    "\n",
    "# use customer features in 2015-06 \n",
    "x_train = df.loc[df.fecha_dato==m2, feature_cols].copy()\n",
    "# set customer id as row index\n",
    "x_train.set_index('ncodpers', inplace=True)\n",
    "# customer ids in 2015-06\n",
    "customer_id = x_train.index.tolist()\n",
    "\n",
    "# add sales in the previous month (2015-05)\n",
    "prev_target = df_pivot.loc[df_pivot.index.isin(customer_id), (slice(None), m1)]\n",
    "# change column names\n",
    "prev_target.columns = target_cols\n",
    "# join features\n",
    "x_train = x_train.join(prev_target)\n",
    "# replace NAN in previous target_cols with 0.0\n",
    "x_train.loc[:, target_cols].fillna(0.0, inplace=True)"
   ]
  },
  {
   "cell_type": "code",
   "execution_count": 82,
   "metadata": {},
   "outputs": [],
   "source": [
    "# the two months\n",
    "m1 = month_cols[-2] # numpy.datetime64('2016-05-28T00:00:00.000000000')\n",
    "m2 = month_cols[-1] # numpy.datetime64('2016-06-28T00:00:00.000000000')\n",
    "\n",
    "# use customer features in 2016-06\n",
    "x_train = df.loc[df.fecha_dato==m2, feature_cols].copy()\n",
    "# set customer id as row index\n",
    "x_train.set_index('ncodpers', inplace=True)\n",
    "\n",
    "# add sales in the previous month (2015-05)\n",
    "prev_target = df_pivot.loc[:, (slice(None), m1)]\n",
    "# change column names\n",
    "prev_target.columns = target_cols\n",
    "# join features\n",
    "x_train = x_train.join(prev_target)\n",
    "# replace NAN in previous target_cols with 0.0\n",
    "x_train.loc[:, target_cols].fillna(0.0, inplace=True)"
   ]
  },
  {
   "cell_type": "code",
   "execution_count": 101,
   "metadata": {},
   "outputs": [
    {
     "data": {
      "text/plain": [
       "(956645, 21)"
      ]
     },
     "execution_count": 101,
     "metadata": {},
     "output_type": "execute_result"
    }
   ],
   "source": [
    "prev_target.shape"
   ]
  },
  {
   "cell_type": "code",
   "execution_count": 102,
   "metadata": {},
   "outputs": [
    {
     "data": {
      "text/plain": [
       "(929615, 44)"
      ]
     },
     "execution_count": 102,
     "metadata": {},
     "output_type": "execute_result"
    }
   ],
   "source": [
    "x_train.shape"
   ]
  },
  {
   "cell_type": "code",
   "execution_count": null,
   "metadata": {},
   "outputs": [],
   "source": []
  },
  {
   "cell_type": "code",
   "execution_count": 84,
   "metadata": {},
   "outputs": [],
   "source": [
    "preds = model.predict(xgb.DMatrix(x_train.values))"
   ]
  },
  {
   "cell_type": "code",
   "execution_count": 94,
   "metadata": {},
   "outputs": [],
   "source": [
    "preds = np.argsort(preds, axis=1)\n",
    "preds = np.fliplr(preds)[:, :7]"
   ]
  },
  {
   "cell_type": "code",
   "execution_count": 95,
   "metadata": {},
   "outputs": [],
   "source": [
    "test_id = df.loc[df.fecha_dato==m2, 'ncodpers'].values\n",
    "final_preds = [' '.join([target_cols[k] for k in pred]) for pred in preds]\n",
    "out_df = pd.DataFrame({'ncodpers': test_id, 'added_products': final_preds})\n",
    "out_df.to_csv('../input/eda_4_1.csv.gz', compression='gzip', index=False)"
   ]
  },
  {
   "cell_type": "code",
   "execution_count": 98,
   "metadata": {},
   "outputs": [
    {
     "data": {
      "text/plain": [
       "{}"
      ]
     },
     "execution_count": 98,
     "metadata": {},
     "output_type": "execute_result"
    }
   ],
   "source": [
    "model.get_score(importance_type='gain')"
   ]
  },
  {
   "cell_type": "code",
   "execution_count": null,
   "metadata": {},
   "outputs": [],
   "source": []
  }
 ],
 "metadata": {
  "kernelspec": {
   "display_name": "Python 3",
   "language": "python",
   "name": "python3"
  },
  "language_info": {
   "codemirror_mode": {
    "name": "ipython",
    "version": 3
   },
   "file_extension": ".py",
   "mimetype": "text/x-python",
   "name": "python",
   "nbconvert_exporter": "python",
   "pygments_lexer": "ipython3",
   "version": "3.6.6"
  }
 },
 "nbformat": 4,
 "nbformat_minor": 2
}
