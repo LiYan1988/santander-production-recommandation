{
 "cells": [
  {
   "cell_type": "markdown",
   "metadata": {},
   "source": [
    "# Feature Engineering\n",
    "\n",
    "First find customers with new products in each month, then create new features only for these customers. This method can save memory more."
   ]
  },
  {
   "cell_type": "code",
   "execution_count": 1,
   "metadata": {},
   "outputs": [],
   "source": [
    "from santander_helper import *\n",
    "%matplotlib inline"
   ]
  },
  {
   "cell_type": "markdown",
   "metadata": {},
   "source": [
    "### New products\n",
    "1. Find (customer, product) pairs that are new in the second month\n",
    "2. Find new products for each customer in each month, and create mean encoding features for each product pattern. The statistics is over all the history."
   ]
  },
  {
   "cell_type": "code",
   "execution_count": 3,
   "metadata": {},
   "outputs": [
    {
     "data": {
      "application/vnd.jupyter.widget-view+json": {
       "model_id": "38c28373511b4ebb87c33ae2cf8b03aa",
       "version_major": 2,
       "version_minor": 0
      },
      "text/plain": [
       "HBox(children=(IntProgress(value=0, max=16), HTML(value='')))"
      ]
     },
     "metadata": {},
     "output_type": "display_data"
    },
    {
     "name": "stdout",
     "output_type": "stream",
     "text": [
      "\n"
     ]
    }
   ],
   "source": [
    "# column names for newly purchased products\n",
    "new_cols = [k+'_new' for k in target_cols]\n",
    "new_cols_map = {k+'_new': n for n, k in enumerate(target_cols)}\n",
    "# ordered dict containing new products in each month, key is the first month\n",
    "du = collections.OrderedDict()\n",
    "# new products information for mean encoding\n",
    "mean_encoding = []\n",
    "# (customer, product) pair for new products in every month\n",
    "customer_product_pair = {}\n",
    "for m1, m2 in tqdm.tqdm_notebook(list(zip(month_list[:-2], month_list[1:-1]))):\n",
    "    # load first month data\n",
    "    df1 = pd.read_hdf('../input/data_month_{}.hdf'.format(m1), 'data_month')\n",
    "    # load second month data\n",
    "    df2 = pd.read_hdf('../input/data_month_{}.hdf'.format(m2), 'data_month')\n",
    "\n",
    "    # only keep products information\n",
    "    df1 = df1[['ncodpers']+target_cols]\n",
    "    df2 = df2[['ncodpers']+target_cols]\n",
    "\n",
    "    # calculate new products\n",
    "    # merge first and second month products\n",
    "    x = df2.merge(df1, on=['ncodpers'], how='left', suffixes=('_l', ''))\n",
    "    x.fillna(0.0, inplace=True)\n",
    "    # calculate difference \n",
    "    x = x.iloc[:, 1:20].values-x.iloc[:, 20:].values\n",
    "    x = pd.DataFrame(x, index=df2.ncodpers, columns=new_cols)\n",
    "    # remove negative elements\n",
    "    x[x<0] = 0\n",
    "    # only keep customers with new products\n",
    "    x = x[x.sum(axis=1)>0]\n",
    "    \n",
    "    # keep copy of customers with new products\n",
    "    new_product = x.copy()\n",
    "    \n",
    "    # obtain (customer, product) pairs\n",
    "    x = pd.DataFrame(x.stack())\n",
    "    x.reset_index(inplace=True)\n",
    "    x.columns = ['ncodpers', 'product', 'indicator']\n",
    "    x.loc[:, 'product'] = x.loc[:, 'product'].map(new_cols_map)\n",
    "    # only keep (customer, product) pairs for new products\n",
    "    x = x.loc[x.indicator>0]\n",
    "    x.drop('indicator', axis=1, inplace=True)\n",
    "    x.reset_index(inplace=True, drop=True)\n",
    "    # a list of customers with new products\n",
    "    ncodpers_new_product = x.ncodpers.unique()\n",
    "    customer_product_pair[m2] = x\n",
    "#     x.to_hdf('../input/customer_product_pair_{}.hdf'.format(m2), \n",
    "#         'customer_product_pair')\n",
    "    \n",
    "    # only keep customers with new products in the second month\n",
    "    # df2 can be used to create train data\n",
    "    df2 = df2.loc[df2.ncodpers.isin(ncodpers_new_product)]\n",
    "    \n",
    "    # prepare mean encoding \n",
    "    # product pattern in the first month\n",
    "    df1['target_combine'] = np.sum(df1.values[:, 1:] * \n",
    "    np.float_power(2, np.arange(0, len(target_cols))), \n",
    "    axis=1, dtype=np.float64)\n",
    "    df1.drop(target_cols, axis=1, inplace=True)\n",
    "    # number and indicator of new products\n",
    "    new_product['n_new'] = new_product.loc[:, new_cols].sum(axis=1)\n",
    "    new_product['ind_new'] = new_product.loc[:, new_cols].max(axis=1)\n",
    "    # join with the first month \n",
    "    df1 = df1.join(new_product, on='ncodpers', how='left')\n",
    "    df1.fillna(0.0, inplace=True)\n",
    "    df1.drop('ncodpers', axis=1, inplace=True)\n",
    "    \n",
    "    # add results to list\n",
    "    mean_encoding.append(df1)\n",
    "\n",
    "# concatenate all data\n",
    "mean_encoding = pd.concat(mean_encoding, ignore_index=True)\n",
    "# calculate mean vaues \n",
    "mean_encoding_result = mean_encoding.groupby('target_combine').mean()\n",
    "# save mean encoding result\n",
    "mean_encoding_result.to_hdf('../input/mean_encoding_result_eda_4_21.hdf',\n",
    "    'mean_encoding_result')"
   ]
  },
  {
   "cell_type": "code",
   "execution_count": 9,
   "metadata": {},
   "outputs": [],
   "source": [
    "a = []\n",
    "for m in customer_product_pair.keys():\n",
    "    customer_product_pair[m]['fecha_dato'] = m\n",
    "    a.append(customer_product_pair[m])\n",
    "customer_product_pair = pd.concat(a, ignore_index=True)\n",
    "\n",
    "# Add 2016-06-28 to customer_product_pair\n",
    "df = pd.read_hdf('../input/data_month_2016-06-28.hdf', 'data_month')\n",
    "df = df.loc[:, ['ncodpers', 'fecha_dato']+target_cols]\n",
    "df[target_cols] = 1\n",
    "df = df.melt(id_vars=['ncodpers', 'fecha_dato'])\n",
    "df.variable = df['variable'].map({k: n for n, k in enumerate(target_cols)})\n",
    "df.drop('value', axis=1, inplace=True)\n",
    "df.columns = ['ncodpers', 'fecha_dato', 'product']\n",
    "df = df[['ncodpers', 'product', 'fecha_dato']]\n",
    "\n",
    "customer_product_pair = pd.concat((customer_product_pair, df), ignore_index=True)"
   ]
  },
  {
   "cell_type": "code",
   "execution_count": 14,
   "metadata": {},
   "outputs": [],
   "source": [
    "customer_product_pair.to_hdf('../input/customer_product_pair.hdf', 'customer_product_pair')"
   ]
  },
  {
   "cell_type": "markdown",
   "metadata": {},
   "source": [
    "### Create x_train and y_train"
   ]
  },
  {
   "cell_type": "markdown",
   "metadata": {},
   "source": [
    "Load second month"
   ]
  },
  {
   "cell_type": "code",
   "execution_count": 233,
   "metadata": {},
   "outputs": [],
   "source": [
    "month_name = '2015-05-28'\n",
    "df2 = pd.read_hdf('../input/data_month_{}.hdf'.format(month_name), 'data_month')\n",
    "df2 = df2.loc[:, cat_cols]\n",
    "df2 = df2.loc[df2.ncodpers.isin(customer_product_pair[month_name].ncodpers.unique())]"
   ]
  },
  {
   "cell_type": "markdown",
   "metadata": {},
   "source": [
    "Load first month"
   ]
  },
  {
   "cell_type": "code",
   "execution_count": 234,
   "metadata": {},
   "outputs": [],
   "source": [
    "month_name_prev = '2015-04-28'\n",
    "df1_0 = pd.read_hdf('../input/data_month_{}.hdf'.format(month_name_prev), 'data_month')\n",
    "df1 = df1_0.loc[:, cat_cols+target_cols]\n",
    "df1_target = df1_0.loc[:, ['ncodpers']+target_cols]"
   ]
  },
  {
   "cell_type": "code",
   "execution_count": 235,
   "metadata": {},
   "outputs": [],
   "source": [
    "df2 = df2.merge(df1_target, on='ncodpers', how='left')\n",
    "df2.fillna(0.0, inplace=True)"
   ]
  },
  {
   "cell_type": "markdown",
   "metadata": {},
   "source": [
    "Combination of `ind_actividad_cliente`"
   ]
  },
  {
   "cell_type": "code",
   "execution_count": 236,
   "metadata": {},
   "outputs": [],
   "source": [
    "# second month ind_actividad_cliente\n",
    "df2_copy = df2.loc[:, ['ncodpers', 'ind_actividad_cliente']].copy()\n",
    "# first month ind_actividad_cliente\n",
    "df1_copy = df1.loc[df1.ncodpers.isin(df2.ncodpers), ['ncodpers', 'ind_actividad_cliente']].copy()\n",
    "# merge two months\n",
    "df2_copy = pd.merge(df2_copy, df1_copy, on='ncodpers', suffixes=('', '_prev'), how='left')\n",
    "# fillna\n",
    "df2_copy.fillna(2.0, inplace=True)\n",
    "# combine \n",
    "df2_copy['ind_actvidad_client_combine'] = df2_copy.ind_actividad_cliente.values*3+df2_copy.ind_actividad_cliente_prev.values\n",
    "# drop other columns\n",
    "df2_copy.drop(['ind_actividad_cliente', 'ind_actividad_cliente_prev'], axis=1, inplace=True)\n",
    "# merge result back to df2\n",
    "df2 = df2.merge(df2_copy, how='left', left_on='ncodpers', right_on='ncodpers')"
   ]
  },
  {
   "cell_type": "markdown",
   "metadata": {},
   "source": [
    "Combination of `tiprel_1mes`"
   ]
  },
  {
   "cell_type": "code",
   "execution_count": 237,
   "metadata": {},
   "outputs": [],
   "source": [
    "# second month tiprel_1mes\n",
    "df2_copy = df2.loc[:, ['ncodpers', 'tiprel_1mes']].copy()\n",
    "# first month tiprel_1mes\n",
    "df1_copy = df1.loc[df1.ncodpers.isin(df2.ncodpers), ['ncodpers', 'tiprel_1mes']].copy()\n",
    "# merge two months\n",
    "df2_copy = pd.merge(df2_copy, df1_copy, on='ncodpers', suffixes=('', '_prev'), how='left')\n",
    "# fillna\n",
    "df2_copy.fillna(0.0, inplace=True)\n",
    "# combine \n",
    "df2_copy['tiprel_1mes_combine'] = df2_copy.tiprel_1mes.values*6+df2_copy.tiprel_1mes_prev.values\n",
    "# drop other columns\n",
    "df2_copy.drop(['tiprel_1mes', 'tiprel_1mes_prev'], axis=1, inplace=True)\n",
    "# merge result back to df2\n",
    "df2 = df2.merge(df2_copy, how='left', left_on='ncodpers', right_on='ncodpers')"
   ]
  },
  {
   "cell_type": "markdown",
   "metadata": {},
   "source": [
    "Combine target"
   ]
  },
  {
   "cell_type": "code",
   "execution_count": 238,
   "metadata": {},
   "outputs": [],
   "source": [
    "df2['target_combine'] = np.sum(df2[target_cols].values*\n",
    "    np.float_power(2, np.arange(0, len(target_cols))), axis=1, \n",
    "    dtype=np.float64)"
   ]
  },
  {
   "cell_type": "code",
   "execution_count": 239,
   "metadata": {},
   "outputs": [],
   "source": [
    "df2 = df2.merge(mean_encoding_result, on='target_combine', how='left')"
   ]
  },
  {
   "cell_type": "code",
   "execution_count": 241,
   "metadata": {},
   "outputs": [
    {
     "data": {
      "text/plain": [
       "ncodpers                         int64\n",
       "canal_entrada                  float64\n",
       "conyuemp                         int64\n",
       "ind_actividad_cliente          float64\n",
       "ind_empleado                     int64\n",
       "ind_nuevo                      float64\n",
       "indext                           int64\n",
       "indfall                          int64\n",
       "indrel                         float64\n",
       "indrel_1mes                    float64\n",
       "indresi                          int64\n",
       "pais_residencia                  int64\n",
       "segmento                         int64\n",
       "sexo                             int64\n",
       "tipodom                        float64\n",
       "tiprel_1mes                    float64\n",
       "age                            float64\n",
       "antiguedad                     float64\n",
       "renta                          float64\n",
       "ind_cco_fin_ult1               float64\n",
       "ind_cder_fin_ult1              float64\n",
       "ind_cno_fin_ult1               float64\n",
       "ind_ctju_fin_ult1              float64\n",
       "ind_ctma_fin_ult1              float64\n",
       "ind_ctop_fin_ult1              float64\n",
       "ind_ctpp_fin_ult1              float64\n",
       "ind_dela_fin_ult1              float64\n",
       "ind_ecue_fin_ult1              float64\n",
       "ind_fond_fin_ult1              float64\n",
       "ind_hip_fin_ult1               float64\n",
       "                                ...   \n",
       "ind_plan_fin_ult1              float64\n",
       "ind_pres_fin_ult1              float64\n",
       "ind_reca_fin_ult1              float64\n",
       "ind_recibo_ult1                float64\n",
       "ind_tjcr_fin_ult1              float64\n",
       "ind_valo_fin_ult1              float64\n",
       "ind_actvidad_client_combine    float64\n",
       "tiprel_1mes_combine            float64\n",
       "target_combine                 float64\n",
       "ind_cco_fin_ult1_new           float64\n",
       "ind_cder_fin_ult1_new          float64\n",
       "ind_cno_fin_ult1_new           float64\n",
       "ind_ctju_fin_ult1_new          float64\n",
       "ind_ctma_fin_ult1_new          float64\n",
       "ind_ctop_fin_ult1_new          float64\n",
       "ind_ctpp_fin_ult1_new          float64\n",
       "ind_dela_fin_ult1_new          float64\n",
       "ind_ecue_fin_ult1_new          float64\n",
       "ind_fond_fin_ult1_new          float64\n",
       "ind_hip_fin_ult1_new           float64\n",
       "ind_nom_pens_ult1_new          float64\n",
       "ind_nomina_ult1_new            float64\n",
       "ind_plan_fin_ult1_new          float64\n",
       "ind_pres_fin_ult1_new          float64\n",
       "ind_reca_fin_ult1_new          float64\n",
       "ind_recibo_ult1_new            float64\n",
       "ind_tjcr_fin_ult1_new          float64\n",
       "ind_valo_fin_ult1_new          float64\n",
       "n_new                          float64\n",
       "ind_new                        float64\n",
       "Length: 62, dtype: object"
      ]
     },
     "execution_count": 241,
     "metadata": {},
     "output_type": "execute_result"
    }
   ],
   "source": [
    "df2.dtypes"
   ]
  },
  {
   "cell_type": "code",
   "execution_count": 10,
   "metadata": {},
   "outputs": [],
   "source": [
    "x_train, y_train, df = create_train_test_2('2016-06-28')"
   ]
  },
  {
   "cell_type": "code",
   "execution_count": 11,
   "metadata": {},
   "outputs": [
    {
     "data": {
      "text/plain": [
       "(0, 63)"
      ]
     },
     "execution_count": 11,
     "metadata": {},
     "output_type": "execute_result"
    }
   ],
   "source": [
    "x_train.shape"
   ]
  },
  {
   "cell_type": "code",
   "execution_count": 12,
   "metadata": {},
   "outputs": [
    {
     "data": {
      "text/plain": [
       "(0,)"
      ]
     },
     "execution_count": 12,
     "metadata": {},
     "output_type": "execute_result"
    }
   ],
   "source": [
    "y_train.shape"
   ]
  },
  {
   "cell_type": "code",
   "execution_count": 13,
   "metadata": {},
   "outputs": [
    {
     "data": {
      "text/plain": [
       "(0, 64)"
      ]
     },
     "execution_count": 13,
     "metadata": {},
     "output_type": "execute_result"
    }
   ],
   "source": [
    "df.shape"
   ]
  },
  {
   "cell_type": "code",
   "execution_count": 14,
   "metadata": {},
   "outputs": [],
   "source": [
    "customer_product_pair = pd.read_hdf('../input/customer_product_pair.hdf', 'customer_product_pair')"
   ]
  },
  {
   "cell_type": "code",
   "execution_count": 32,
   "metadata": {},
   "outputs": [
    {
     "data": {
      "text/html": [
       "<div>\n",
       "<style scoped>\n",
       "    .dataframe tbody tr th:only-of-type {\n",
       "        vertical-align: middle;\n",
       "    }\n",
       "\n",
       "    .dataframe tbody tr th {\n",
       "        vertical-align: top;\n",
       "    }\n",
       "\n",
       "    .dataframe thead th {\n",
       "        text-align: right;\n",
       "    }\n",
       "</style>\n",
       "<table border=\"1\" class=\"dataframe\">\n",
       "  <thead>\n",
       "    <tr style=\"text-align: right;\">\n",
       "      <th></th>\n",
       "      <th>ncodpers</th>\n",
       "      <th>product</th>\n",
       "      <th>fecha_dato</th>\n",
       "    </tr>\n",
       "  </thead>\n",
       "  <tbody>\n",
       "    <tr>\n",
       "      <th>0</th>\n",
       "      <td>15889</td>\n",
       "      <td>0</td>\n",
       "      <td>2016-06-28</td>\n",
       "    </tr>\n",
       "    <tr>\n",
       "      <th>1</th>\n",
       "      <td>1170544</td>\n",
       "      <td>0</td>\n",
       "      <td>2016-06-28</td>\n",
       "    </tr>\n",
       "    <tr>\n",
       "      <th>2</th>\n",
       "      <td>1170545</td>\n",
       "      <td>0</td>\n",
       "      <td>2016-06-28</td>\n",
       "    </tr>\n",
       "    <tr>\n",
       "      <th>3</th>\n",
       "      <td>1170547</td>\n",
       "      <td>0</td>\n",
       "      <td>2016-06-28</td>\n",
       "    </tr>\n",
       "    <tr>\n",
       "      <th>4</th>\n",
       "      <td>1170548</td>\n",
       "      <td>0</td>\n",
       "      <td>2016-06-28</td>\n",
       "    </tr>\n",
       "  </tbody>\n",
       "</table>\n",
       "</div>"
      ],
      "text/plain": [
       "   ncodpers  product  fecha_dato\n",
       "0     15889        0  2016-06-28\n",
       "1   1170544        0  2016-06-28\n",
       "2   1170545        0  2016-06-28\n",
       "3   1170547        0  2016-06-28\n",
       "4   1170548        0  2016-06-28"
      ]
     },
     "execution_count": 32,
     "metadata": {},
     "output_type": "execute_result"
    }
   ],
   "source": [
    "df = pd.read_hdf('../input/data_month_2016-06-28.hdf', 'data_month')\n",
    "df = df.loc[:, ['ncodpers', 'fecha_dato']+target_cols]\n",
    "df[target_cols] = 1\n",
    "df = df.melt(id_vars=['ncodpers', 'fecha_dato'])\n",
    "df.variable = df['variable'].map({k: n for n, k in enumerate(target_cols)})\n",
    "df.drop('value', axis=1, inplace=True)\n",
    "df.columns = ['ncodpers', 'fecha_dato', 'product']\n",
    "df = df[['ncodpers', 'product', 'fecha_dato']]\n",
    "\n",
    "customer_product_pair = pd.concat((customer_product_pair, df), ignore_index=True)"
   ]
  },
  {
   "cell_type": "code",
   "execution_count": 35,
   "metadata": {},
   "outputs": [
    {
     "data": {
      "text/html": [
       "<div>\n",
       "<style scoped>\n",
       "    .dataframe tbody tr th:only-of-type {\n",
       "        vertical-align: middle;\n",
       "    }\n",
       "\n",
       "    .dataframe tbody tr th {\n",
       "        vertical-align: top;\n",
       "    }\n",
       "\n",
       "    .dataframe thead th {\n",
       "        text-align: right;\n",
       "    }\n",
       "</style>\n",
       "<table border=\"1\" class=\"dataframe\">\n",
       "  <thead>\n",
       "    <tr style=\"text-align: right;\">\n",
       "      <th></th>\n",
       "      <th>ncodpers</th>\n",
       "      <th>product</th>\n",
       "      <th>fecha_dato</th>\n",
       "    </tr>\n",
       "  </thead>\n",
       "  <tbody>\n",
       "    <tr>\n",
       "      <th>18326657</th>\n",
       "      <td>660237</td>\n",
       "      <td>18</td>\n",
       "      <td>2016-06-28</td>\n",
       "    </tr>\n",
       "    <tr>\n",
       "      <th>18326658</th>\n",
       "      <td>660238</td>\n",
       "      <td>18</td>\n",
       "      <td>2016-06-28</td>\n",
       "    </tr>\n",
       "    <tr>\n",
       "      <th>18326659</th>\n",
       "      <td>660240</td>\n",
       "      <td>18</td>\n",
       "      <td>2016-06-28</td>\n",
       "    </tr>\n",
       "    <tr>\n",
       "      <th>18326660</th>\n",
       "      <td>660243</td>\n",
       "      <td>18</td>\n",
       "      <td>2016-06-28</td>\n",
       "    </tr>\n",
       "    <tr>\n",
       "      <th>18326661</th>\n",
       "      <td>660248</td>\n",
       "      <td>18</td>\n",
       "      <td>2016-06-28</td>\n",
       "    </tr>\n",
       "  </tbody>\n",
       "</table>\n",
       "</div>"
      ],
      "text/plain": [
       "          ncodpers  product  fecha_dato\n",
       "18326657    660237       18  2016-06-28\n",
       "18326658    660238       18  2016-06-28\n",
       "18326659    660240       18  2016-06-28\n",
       "18326660    660243       18  2016-06-28\n",
       "18326661    660248       18  2016-06-28"
      ]
     },
     "execution_count": 35,
     "metadata": {},
     "output_type": "execute_result"
    }
   ],
   "source": [
    "customer_product_pair.tail()"
   ]
  }
 ],
 "metadata": {
  "kernelspec": {
   "display_name": "Python 3",
   "language": "python",
   "name": "python3"
  },
  "language_info": {
   "codemirror_mode": {
    "name": "ipython",
    "version": 3
   },
   "file_extension": ".py",
   "mimetype": "text/x-python",
   "name": "python",
   "nbconvert_exporter": "python",
   "pygments_lexer": "ipython3",
   "version": "3.6.6"
  }
 },
 "nbformat": 4,
 "nbformat_minor": 2
}
