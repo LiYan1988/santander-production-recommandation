{
 "cells": [
  {
   "cell_type": "markdown",
   "metadata": {},
   "source": [
    "## Feature Engineering and CV, continued from eda_4_25\n",
    "\n",
    "New train and test generation, features include:\n",
    "- before eda_4_25\n",
    "    - customer info in the second month\n",
    "    - products in the first month\n",
    "    - combination of first and second month `ind_actividad_cliente`\n",
    "    - combination of first and second month `tiprel_1mes`\n",
    "    - combination of first month product by using binary number (`target_combine`)\n",
    "    - encoding `target_combine` with \n",
    "        - mean number of new products\n",
    "        - mean number of customers with new products\n",
    "        - mean number of customers with each new products\n",
    "    - Count patterns in the last `max_lag` months\n",
    "    - Number of month to the last time the customer purchase each product\n",
    "        - CV@2015-12-28: mlogloss=1.29349\n",
    "        - Private score: 0.0302475, public score: 0.0299266\n",
    "- eda_4_25\n",
    "    - Use all available history data\n",
    "        - E.g., for 2016-05-28 train data, use all previous months, for 2015-02-28, use 1 lag month. \n",
    "        - Need to create test set that use the same amount of previous months for each training data set. \n",
    "        - This is from [the second winner's solution](https://www.kaggle.com/c/santander-product-recommendation/discussion/26824), his bold part in paragraph 4.\n",
    "    - Combine models trained on 2016-05-28 and 2015-06-28:\n",
    "        - Private score: 0.0304583, public score: 0.0300839\n",
    "        - This is to catch both seasonality and trend, presented in 2015-06-28 and 2016-05-28, respectively. \n",
    "        - This idea is mentioned by many winners, like [11-th winner](https://www.kaggle.com/c/santander-product-recommendation/discussion/26823) and [14-th winner](https://www.kaggle.com/c/santander-product-recommendation/discussion/26808)\n",
    "\n",
    "New in this notebook:\n",
    "- put 2015-06-28 and 2016-05-28 in the same data set, with the same lag=5\n",
    "    - Private score:0.0303096, public score: 0.0299867\n",
    "    - Different as [11-th winner's discussion](https://www.kaggle.com/c/santander-product-recommendation/discussion/26823)\n",
    "        > We tested this by adding 50% of May-16 data to our June model and sure enough, we went from 0.0301 to 0.0303. Then, we built separate models for Jun and May, but the ensemble didn’t work. We weren’t surprised because June data is better for seasonal products, and May data is better for trend products. And vice-versa, June data is bad for trend products and May data is bad for seasonal products. So, they sort of cancelled each other out.\n",
    "        \n",
    "    - But my score is always worse than theirs, maybe this is the reason why we have different observations"
   ]
  },
  {
   "cell_type": "code",
   "execution_count": 1,
   "metadata": {},
   "outputs": [],
   "source": [
    "from santander_helper import *"
   ]
  },
  {
   "cell_type": "markdown",
   "metadata": {},
   "source": [
    "### Zero couting function\n",
    "\n",
    "For each (customer, product) pair, count how many concatenating months before the current month the target is zero. This zero counting consider `max_lag` months before the current month.\n",
    "\n",
    "The function is moved to santander_helper.py"
   ]
  },
  {
   "cell_type": "code",
   "execution_count": 3,
   "metadata": {},
   "outputs": [],
   "source": [
    "x_train_may16, y_train_may16 = create_train('2016-05-28', pattern_flag=True, max_lag=5)\n",
    "x_train_june15, y_train_june15 = create_train('2015-06-28', pattern_flag=True, max_lag=5)\n",
    "x_test = create_test(pattern_flag=True, max_lag=5)"
   ]
  },
  {
   "cell_type": "code",
   "execution_count": 4,
   "metadata": {},
   "outputs": [
    {
     "data": {
      "text/plain": [
       "(37889, 158)"
      ]
     },
     "execution_count": 4,
     "metadata": {},
     "output_type": "execute_result"
    }
   ],
   "source": [
    "x_train_may16.shape"
   ]
  },
  {
   "cell_type": "code",
   "execution_count": 5,
   "metadata": {},
   "outputs": [
    {
     "data": {
      "text/plain": [
       "(45140, 158)"
      ]
     },
     "execution_count": 5,
     "metadata": {},
     "output_type": "execute_result"
    }
   ],
   "source": [
    "x_train_june15.shape"
   ]
  },
  {
   "cell_type": "code",
   "execution_count": 6,
   "metadata": {},
   "outputs": [],
   "source": [
    "x_train = pd.concat((x_train_may16, x_train_june15), ignore_index=True)\n",
    "y_train = pd.concat((y_train_may16, y_train_june15), ignore_index=True)"
   ]
  },
  {
   "cell_type": "markdown",
   "metadata": {},
   "source": [
    "### Train model on 2015-06-28"
   ]
  },
  {
   "cell_type": "code",
   "execution_count": 7,
   "metadata": {
    "scrolled": true
   },
   "outputs": [
    {
     "name": "stdout",
     "output_type": "stream",
     "text": [
      "[0]\ttrain-mlogloss:2.71227\n",
      "[1]\ttrain-mlogloss:2.54375\n",
      "[2]\ttrain-mlogloss:2.40782\n",
      "[3]\ttrain-mlogloss:2.29505\n",
      "[4]\ttrain-mlogloss:2.19766\n",
      "[5]\ttrain-mlogloss:2.11216\n",
      "[6]\ttrain-mlogloss:2.03695\n",
      "[7]\ttrain-mlogloss:1.96874\n",
      "[8]\ttrain-mlogloss:1.90646\n",
      "[9]\ttrain-mlogloss:1.84965\n",
      "[10]\ttrain-mlogloss:1.7978\n",
      "[11]\ttrain-mlogloss:1.75018\n",
      "[12]\ttrain-mlogloss:1.70629\n",
      "[13]\ttrain-mlogloss:1.66503\n",
      "[14]\ttrain-mlogloss:1.62675\n",
      "[15]\ttrain-mlogloss:1.59081\n",
      "[16]\ttrain-mlogloss:1.55701\n",
      "[17]\ttrain-mlogloss:1.52529\n",
      "[18]\ttrain-mlogloss:1.49556\n",
      "[19]\ttrain-mlogloss:1.46752\n",
      "[20]\ttrain-mlogloss:1.44085\n",
      "[21]\ttrain-mlogloss:1.41581\n",
      "[22]\ttrain-mlogloss:1.39212\n",
      "[23]\ttrain-mlogloss:1.36958\n",
      "[24]\ttrain-mlogloss:1.34832\n",
      "[25]\ttrain-mlogloss:1.32807\n",
      "[26]\ttrain-mlogloss:1.30886\n",
      "[27]\ttrain-mlogloss:1.29067\n",
      "[28]\ttrain-mlogloss:1.27312\n",
      "[29]\ttrain-mlogloss:1.25666\n",
      "[30]\ttrain-mlogloss:1.24079\n",
      "[31]\ttrain-mlogloss:1.22565\n",
      "[32]\ttrain-mlogloss:1.21119\n",
      "[33]\ttrain-mlogloss:1.19727\n",
      "[34]\ttrain-mlogloss:1.184\n",
      "[35]\ttrain-mlogloss:1.17141\n",
      "[36]\ttrain-mlogloss:1.15939\n",
      "[37]\ttrain-mlogloss:1.1479\n",
      "[38]\ttrain-mlogloss:1.13686\n",
      "[39]\ttrain-mlogloss:1.12614\n",
      "[40]\ttrain-mlogloss:1.11583\n",
      "[41]\ttrain-mlogloss:1.10607\n",
      "[42]\ttrain-mlogloss:1.09665\n",
      "[43]\ttrain-mlogloss:1.08764\n",
      "[44]\ttrain-mlogloss:1.07909\n",
      "[45]\ttrain-mlogloss:1.07084\n",
      "[46]\ttrain-mlogloss:1.06291\n",
      "[47]\ttrain-mlogloss:1.05522\n",
      "[48]\ttrain-mlogloss:1.04785\n",
      "[49]\ttrain-mlogloss:1.04078\n",
      "[50]\ttrain-mlogloss:1.03393\n",
      "[51]\ttrain-mlogloss:1.02747\n",
      "[52]\ttrain-mlogloss:1.02113\n",
      "[53]\ttrain-mlogloss:1.01501\n",
      "[54]\ttrain-mlogloss:1.0091\n",
      "[55]\ttrain-mlogloss:1.0034\n",
      "[56]\ttrain-mlogloss:0.997881\n",
      "[57]\ttrain-mlogloss:0.992356\n",
      "[58]\ttrain-mlogloss:0.987219\n",
      "[59]\ttrain-mlogloss:0.982143\n"
     ]
    }
   ],
   "source": [
    "param = {'objective': 'multi:softprob', \n",
    "         'eta': 0.05, \n",
    "         'max_depth': 8, \n",
    "         'silent': 1, \n",
    "         'num_class': len(target_cols),\n",
    "         'eval_metric': 'mlogloss',\n",
    "         'min_child_weight': 1,\n",
    "         'subsample': 0.7,\n",
    "         'colsample_bytree': 0.7,\n",
    "         'seed': 0}\n",
    "num_rounds = 60\n",
    "\n",
    "dtrain = xgb.DMatrix(x_train.values, y_train.values)\n",
    "#dval = xgb.DMatrix(x_val.values, y_val.values)\n",
    "model = xgb.train(param, dtrain, num_rounds, evals=[(dtrain, 'train')], verbose_eval=True)"
   ]
  },
  {
   "cell_type": "code",
   "execution_count": 8,
   "metadata": {},
   "outputs": [],
   "source": [
    "preds = model.predict(xgb.DMatrix(x_test.values))\n",
    "\n",
    "df_preds = pd.DataFrame(preds, index=x_test.index, columns=target_cols)\n",
    "# Remove already bought products \n",
    "df_preds[x_test[target_cols]==1] = 0 \n",
    "preds = df_preds.values\n",
    "preds = np.argsort(preds, axis=1)\n",
    "preds = np.fliplr(preds)[:, :7]"
   ]
  },
  {
   "cell_type": "code",
   "execution_count": 9,
   "metadata": {},
   "outputs": [],
   "source": [
    "test_id = x_test.loc[:, 'ncodpers'].values\n",
    "final_preds = [' '.join([target_cols[k] for k in pred]) for pred in preds]\n",
    "\n",
    "out_df = pd.DataFrame({'ncodpers': test_id, 'added_products': final_preds})\n",
    "out_df.to_csv('eda_4_26.csv.gz', compression='gzip', index=False)"
   ]
  },
  {
   "cell_type": "markdown",
   "metadata": {},
   "source": [
    "### Train 50% of 2016-05-28 and 100% of 2015-06-28"
   ]
  },
  {
   "cell_type": "code",
   "execution_count": 17,
   "metadata": {},
   "outputs": [],
   "source": [
    "np.random.seed(0)\n",
    "idx = np.arange(len(x_train_may16))\n",
    "np.random.shuffle(idx)\n",
    "idx = idx[:int(len(idx)/2)]"
   ]
  },
  {
   "cell_type": "code",
   "execution_count": 18,
   "metadata": {},
   "outputs": [],
   "source": [
    "x_train = pd.concat((x_train_may16.iloc[idx, :], x_train_june15), ignore_index=True)\n",
    "y_train = pd.concat((y_train_may16.iloc[idx], y_train_june15), ignore_index=True)"
   ]
  },
  {
   "cell_type": "code",
   "execution_count": null,
   "metadata": {},
   "outputs": [],
   "source": [
    "param = {'objective': 'multi:softprob', \n",
    "         'eta': 0.05, \n",
    "         'max_depth': 8, \n",
    "         'silent': 1, \n",
    "         'num_class': len(target_cols),\n",
    "         'eval_metric': 'mlogloss',\n",
    "         'min_child_weight': 1,\n",
    "         'subsample': 0.7,\n",
    "         'colsample_bytree': 0.7,\n",
    "         'seed': 0}\n",
    "num_rounds = 60\n",
    "\n",
    "dtrain = xgb.DMatrix(x_train.values, y_train.values)\n",
    "#dval = xgb.DMatrix(x_val.values, y_val.values)\n",
    "model = xgb.train(param, dtrain, num_rounds, evals=[(dtrain, 'train')], verbose_eval=True)\n",
    "\n"
   ]
  }
 ],
 "metadata": {
  "kernelspec": {
   "display_name": "Python 3",
   "language": "python",
   "name": "python3"
  },
  "language_info": {
   "codemirror_mode": {
    "name": "ipython",
    "version": 3
   },
   "file_extension": ".py",
   "mimetype": "text/x-python",
   "name": "python",
   "nbconvert_exporter": "python",
   "pygments_lexer": "ipython3",
   "version": "3.6.6"
  }
 },
 "nbformat": 4,
 "nbformat_minor": 2
}
