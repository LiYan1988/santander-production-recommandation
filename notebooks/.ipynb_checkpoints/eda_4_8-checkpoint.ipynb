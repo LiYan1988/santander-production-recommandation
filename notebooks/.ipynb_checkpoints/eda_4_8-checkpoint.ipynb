{
 "cells": [
  {
   "cell_type": "markdown",
   "metadata": {},
   "source": [
    "## Preprocess Output of eda_4_7 and Save"
   ]
  },
  {
   "cell_type": "code",
   "execution_count": 1,
   "metadata": {},
   "outputs": [],
   "source": [
    "import os\n",
    "if os.name=='nt':\n",
    "    try:\n",
    "        mingw_path = 'C:\\\\Program Files\\\\mingw-w64\\\\x86_64-8.1.0-posix-seh-rt_v6-rev0\\\\mingw64\\\\bin'\n",
    "        os.environ['PATH'] = mingw_path + ';' + os.environ['PATH']\n",
    "    except:\n",
    "        pass\n",
    "    \n",
    "import numpy as np\n",
    "import pandas as pd\n",
    "import seaborn as sns\n",
    "import matplotlib.pyplot as plt\n",
    "import tqdm\n",
    "import gc\n",
    "import xgboost as xgb\n",
    "from sklearn.preprocessing import LabelEncoder\n",
    "\n",
    "tqdm.tqdm.pandas()\n",
    "\n",
    "%matplotlib inline"
   ]
  },
  {
   "cell_type": "code",
   "execution_count": 2,
   "metadata": {},
   "outputs": [],
   "source": [
    "mapping_dict = {\n",
    "'ind_empleado'  : {-99:0, 'N':1, 'B':2, 'F':3, 'A':4, 'S':5},\n",
    "'sexo'          : {'V':0, 'H':1, -99:2},\n",
    "'ind_nuevo'     : {'0':0, '1':1, -99:2},\n",
    "'indrel'        : {'1':0, '99':1, -99:2},\n",
    "'indrel_1mes'   : {-99:0, '1.0':1, '1':1, '2.0':2, '2':2, '3.0':3, '3':3, '4.0':4, '4':4, 'P':5},\n",
    "'tiprel_1mes'   : {-99:0, 'I':1, 'A':2, 'P':3, 'R':4, 'N':5},\n",
    "'indresi'       : {-99:0, 'S':1, 'N':2},\n",
    "'indext'        : {-99:0, 'S':1, 'N':2},\n",
    "'conyuemp'      : {-99:0, 'S':1, 'N':2},\n",
    "'indfall'       : {-99:0, 'S':1, 'N':2},\n",
    "'tipodom'       : {-99:0, '1':1},\n",
    "'ind_actividad_cliente' : {'0':0, '1':1, -99:2},\n",
    "'segmento'      : {'02 - PARTICULARES':0, '03 - UNIVERSITARIO':1, '01 - TOP':2, -99:2},\n",
    "'pais_residencia' : {'LV': 102, 'BE': 12, 'BG': 50, 'BA': 61, 'BM': 117, 'BO': 62, 'JP': 82, 'JM': 116, 'BR': 17, 'BY': 64, 'BZ': 113, 'RU': 43, 'RS': 89, 'RO': 41, 'GW': 99, 'GT': 44, 'GR': 39, 'GQ': 73, 'GE': 78, 'GB': 9, 'GA': 45, 'GN': 98, 'GM': 110, 'GI': 96, 'GH': 88, 'OM': 100, 'HR': 67, 'HU': 106, 'HK': 34, 'HN': 22, 'AD': 35, 'PR': 40, 'PT': 26, 'PY': 51, 'PA': 60, 'PE': 20, 'PK': 84, 'PH': 91, 'PL': 30, 'EE': 52, 'EG': 74, 'ZA': 75, 'EC': 19, 'AL': 25, 'VN': 90, 'ET': 54, 'ZW': 114, 'ES': 0, 'MD': 68, 'UY': 77, 'MM': 94, 'ML': 104, 'US': 15, 'MT': 118, 'MR': 48, 'UA': 49, 'MX': 16, 'IL': 42, 'FR': 8, 'MA': 38, 'FI': 23, 'NI': 33, 'NL': 7, 'NO': 46, 'NG': 83, 'NZ': 93, 'CI': 57, 'CH': 3, 'CO': 21, 'CN': 28, 'CM': 55, 'CL': 4, 'CA': 2, 'CG': 101, 'CF': 109, 'CD': 112, 'CZ': 36, 'CR': 32, 'CU': 72, 'KE': 65, 'KH': 95, 'SV': 53, 'SK': 69, 'KR': 87, 'KW': 92, 'SN': 47, 'SL': 97, 'KZ': 111, 'SA': 56, 'SG': 66, 'SE': 24, 'DO': 11, 'DJ': 115, 'DK': 76, 'DE': 10, 'DZ': 80, 'MK': 105, -99: 1, 'LB': 81, 'TW': 29, 'TR': 70, 'TN': 85, 'LT': 103, 'LU': 59, 'TH': 79, 'TG': 86, 'LY': 108, 'AE': 37, 'VE': 14, 'IS': 107, 'IT': 18, 'AO': 71, 'AR': 13, 'AU': 63, 'AT': 6, 'IN': 31, 'IE': 5, 'QA': 58, 'MZ': 27},\n",
    "'canal_entrada' : {'013': 49, 'KHP': 160, 'KHQ': 157, 'KHR': 161, 'KHS': 162, 'KHK': 10, 'KHL': 0, 'KHM': 12, 'KHN': 21, 'KHO': 13, 'KHA': 22, 'KHC': 9, 'KHD': 2, 'KHE': 1, 'KHF': 19, '025': 159, 'KAC': 57, 'KAB': 28, 'KAA': 39, 'KAG': 26, 'KAF': 23, 'KAE': 30, 'KAD': 16, 'KAK': 51, 'KAJ': 41, 'KAI': 35, 'KAH': 31, 'KAO': 94, 'KAN': 110, 'KAM': 107, 'KAL': 74, 'KAS': 70, 'KAR': 32, 'KAQ': 37, 'KAP': 46, 'KAW': 76, 'KAV': 139, 'KAU': 142, 'KAT': 5, 'KAZ': 7, 'KAY': 54, 'KBJ': 133, 'KBH': 90, 'KBN': 122, 'KBO': 64, 'KBL': 88, 'KBM': 135, 'KBB': 131, 'KBF': 102, 'KBG': 17, 'KBD': 109, 'KBE': 119, 'KBZ': 67, 'KBX': 116, 'KBY': 111, 'KBR': 101, 'KBS': 118, 'KBP': 121, 'KBQ': 62, 'KBV': 100, 'KBW': 114, 'KBU': 55, 'KCE': 86, 'KCD': 85, 'KCG': 59, 'KCF': 105, 'KCA': 73, 'KCC': 29, 'KCB': 78, 'KCM': 82, 'KCL': 53, 'KCO': 104, 'KCN': 81, 'KCI': 65, 'KCH': 84, 'KCK': 52, 'KCJ': 156, 'KCU': 115, 'KCT': 112, 'KCV': 106, 'KCQ': 154, 'KCP': 129, 'KCS': 77, 'KCR': 153, 'KCX': 120, 'RED': 8, 'KDL': 158, 'KDM': 130, 'KDN': 151, 'KDO': 60, 'KDH': 14, 'KDI': 150, 'KDD': 113, 'KDE': 47, 'KDF': 127, 'KDG': 126, 'KDA': 63, 'KDB': 117, 'KDC': 75, 'KDX': 69, 'KDY': 61, 'KDZ': 99, 'KDT': 58, 'KDU': 79, 'KDV': 91, 'KDW': 132, 'KDP': 103, 'KDQ': 80, 'KDR': 56, 'KDS': 124, 'K00': 50, 'KEO': 96, 'KEN': 137, 'KEM': 155, 'KEL': 125, 'KEK': 145, 'KEJ': 95, 'KEI': 97, 'KEH': 15, 'KEG': 136, 'KEF': 128, 'KEE': 152, 'KED': 143, 'KEC': 66, 'KEB': 123, 'KEA': 89, 'KEZ': 108, 'KEY': 93, 'KEW': 98, 'KEV': 87, 'KEU': 72, 'KES': 68, 'KEQ': 138, -99: 6, 'KFV': 48, 'KFT': 92, 'KFU': 36, 'KFR': 144, 'KFS': 38, 'KFP': 40, 'KFF': 45, 'KFG': 27, 'KFD': 25, 'KFE': 148, 'KFB': 146, 'KFC': 4, 'KFA': 3, 'KFN': 42, 'KFL': 34, 'KFM': 141, 'KFJ': 33, 'KFK': 20, 'KFH': 140, 'KFI': 134, '007': 71, '004': 83, 'KGU': 149, 'KGW': 147, 'KGV': 43, 'KGY': 44, 'KGX': 24, 'KGC': 18, 'KGN': 11}\n",
    "}\n",
    "cat_cols = list(mapping_dict.keys())\n",
    "cat_cols = sorted(cat_cols)\n",
    "cat_cols.insert(0, 'ncodpers')\n",
    "\n",
    "target_cols = ['ind_ahor_fin_ult1','ind_aval_fin_ult1','ind_cco_fin_ult1','ind_cder_fin_ult1','ind_cno_fin_ult1','ind_ctju_fin_ult1','ind_ctma_fin_ult1','ind_ctop_fin_ult1','ind_ctpp_fin_ult1','ind_deco_fin_ult1','ind_deme_fin_ult1','ind_dela_fin_ult1','ind_ecue_fin_ult1','ind_fond_fin_ult1','ind_hip_fin_ult1','ind_plan_fin_ult1','ind_pres_fin_ult1','ind_reca_fin_ult1','ind_tjcr_fin_ult1','ind_valo_fin_ult1','ind_viv_fin_ult1','ind_nomina_ult1','ind_nom_pens_ult1','ind_recibo_ult1']\n",
    "target_cols = target_cols[2:]\n",
    "target_cols = sorted(target_cols)"
   ]
  },
  {
   "cell_type": "code",
   "execution_count": 3,
   "metadata": {},
   "outputs": [],
   "source": [
    "df2 = pd.read_hdf('../input/train_test.hdf', 'train_test')"
   ]
  },
  {
   "cell_type": "markdown",
   "metadata": {},
   "source": [
    "canal_entrada"
   ]
  },
  {
   "cell_type": "code",
   "execution_count": 4,
   "metadata": {
    "scrolled": true
   },
   "outputs": [
    {
     "data": {
      "text/plain": [
       " 1.0      4306935\n",
       " 5.0      3474042\n",
       " 4.0      3299057\n",
       " 157.0     666008\n",
       " 3.0       435322\n",
       " 10.0      258002\n",
       " 12.0      217308\n",
       "NaN        188207\n",
       " 21.0      134739\n",
       " 2.0       124281\n",
       " 70.0       91805\n",
       " 8.0        81935\n",
       " 26.0       78958\n",
       " 54.0       71791\n",
       " 39.0       70951\n",
       " 28.0       66395\n",
       " 30.0       54057\n",
       " 29.0       52427\n",
       " 67.0       49455\n",
       " 0.0        48076\n",
       " 25.0       47412\n",
       " 35.0       40127\n",
       " 93.0       37419\n",
       " 76.0       36481\n",
       " 32.0       34822\n",
       " 7.0        34325\n",
       " 23.0       32472\n",
       " 71.0       31260\n",
       " 49.0       28798\n",
       " 65.0       28323\n",
       "           ...   \n",
       " 83.0         226\n",
       " 154.0        210\n",
       " 151.0        210\n",
       " 153.0        206\n",
       " 14.0         204\n",
       " 104.0        192\n",
       " 152.0        186\n",
       " 129.0        168\n",
       " 50.0         162\n",
       " 119.0        156\n",
       " 138.0        156\n",
       " 112.0        114\n",
       " 146.0        114\n",
       " 139.0        113\n",
       " 116.0        108\n",
       " 121.0         90\n",
       " 155.0         72\n",
       " 48.0          72\n",
       " 120.0         72\n",
       " 122.0         66\n",
       " 22.0          54\n",
       " 18.0          30\n",
       " 149.0         30\n",
       " 162.0         27\n",
       " 11.0          18\n",
       " 117.0         18\n",
       " 150.0         18\n",
       " 158.0         12\n",
       " 159.0         12\n",
       " 161.0          2\n",
       "Name: canal_entrada, Length: 163, dtype: int64"
      ]
     },
     "execution_count": 4,
     "metadata": {},
     "output_type": "execute_result"
    }
   ],
   "source": [
    "df2.canal_entrada.replace(mapping_dict['canal_entrada'], inplace=True)\n",
    "df2.canal_entrada.value_counts(dropna=False)"
   ]
  },
  {
   "cell_type": "code",
   "execution_count": 5,
   "metadata": {},
   "outputs": [],
   "source": [
    "df2.canal_entrada.fillna(mapping_dict['canal_entrada'][-99], inplace=True)"
   ]
  },
  {
   "cell_type": "markdown",
   "metadata": {},
   "source": [
    "pais_residencia"
   ]
  },
  {
   "cell_type": "code",
   "execution_count": 6,
   "metadata": {
    "scrolled": true
   },
   "outputs": [
    {
     "data": {
      "text/plain": [
       "0      14479329\n",
       "1         27734\n",
       "8          5472\n",
       "13         5123\n",
       "10         4906\n",
       "9          4891\n",
       "15         3882\n",
       "21         3737\n",
       "18         3126\n",
       "41         3106\n",
       "16         2729\n",
       "17         2492\n",
       "14         2467\n",
       "19         2299\n",
       "3          2119\n",
       "12         1619\n",
       "62         1607\n",
       "51         1517\n",
       "26         1509\n",
       "4          1048\n",
       "20          954\n",
       "43          814\n",
       "7           804\n",
       "72          802\n",
       "24          640\n",
       "30          637\n",
       "28          596\n",
       "77          540\n",
       "49          522\n",
       "6           505\n",
       "         ...   \n",
       "101          36\n",
       "90           36\n",
       "89           36\n",
       "54           36\n",
       "100          24\n",
       "110          18\n",
       "109          18\n",
       "111          18\n",
       "108          18\n",
       "107          18\n",
       "112          18\n",
       "104          18\n",
       "113          18\n",
       "81           18\n",
       "97           18\n",
       "102          18\n",
       "85           18\n",
       "96           18\n",
       "95           18\n",
       "94           18\n",
       "25           18\n",
       "92           18\n",
       "88           18\n",
       "78           18\n",
       "86           18\n",
       "116          13\n",
       "114          12\n",
       "115          12\n",
       "117           7\n",
       "118           3\n",
       "Name: pais_residencia, Length: 119, dtype: int64"
      ]
     },
     "execution_count": 6,
     "metadata": {},
     "output_type": "execute_result"
    }
   ],
   "source": [
    "mapping_dict['pais_residencia'][np.nan] = mapping_dict['pais_residencia'][-99]\n",
    "df2.pais_residencia.replace(mapping_dict['pais_residencia'], inplace=True)\n",
    "df2.pais_residencia.value_counts(dropna=False)"
   ]
  },
  {
   "cell_type": "markdown",
   "metadata": {},
   "source": [
    "segmento"
   ]
  },
  {
   "cell_type": "code",
   "execution_count": 7,
   "metadata": {},
   "outputs": [
    {
     "data": {
      "text/plain": [
       "02 - PARTICULARES     8505598\n",
       "03 - UNIVERSITARIO    5281607\n",
       "01 - TOP               598103\n",
       "NaN                    191616\n",
       "Name: segmento, dtype: int64"
      ]
     },
     "execution_count": 7,
     "metadata": {},
     "output_type": "execute_result"
    }
   ],
   "source": [
    "df2.segmento.value_counts(dropna=False)"
   ]
  },
  {
   "cell_type": "code",
   "execution_count": 8,
   "metadata": {},
   "outputs": [
    {
     "data": {
      "text/plain": [
       "0    8505598\n",
       "1    5281607\n",
       "2     789719\n",
       "Name: segmento, dtype: int64"
      ]
     },
     "execution_count": 8,
     "metadata": {},
     "output_type": "execute_result"
    }
   ],
   "source": [
    "df2.segmento.replace( {'02 - PARTICULARES':0, '03 - UNIVERSITARIO':1, '01 - TOP':2, np.nan:2}, inplace=True)\n",
    "df2.segmento.value_counts(dropna=False)"
   ]
  },
  {
   "cell_type": "markdown",
   "metadata": {},
   "source": [
    "ind_activadad_cliente"
   ]
  },
  {
   "cell_type": "code",
   "execution_count": 9,
   "metadata": {},
   "outputs": [
    {
     "data": {
      "text/plain": [
       " 0.0    7918666\n",
       " 1.0    6630524\n",
       "NaN       27734\n",
       "Name: ind_actividad_cliente, dtype: int64"
      ]
     },
     "execution_count": 9,
     "metadata": {},
     "output_type": "execute_result"
    }
   ],
   "source": [
    "df2.ind_actividad_cliente.value_counts(dropna=False)"
   ]
  },
  {
   "cell_type": "code",
   "execution_count": 10,
   "metadata": {},
   "outputs": [
    {
     "data": {
      "text/plain": [
       "0.0    7918666\n",
       "1.0    6630524\n",
       "2.0      27734\n",
       "Name: ind_actividad_cliente, dtype: int64"
      ]
     },
     "execution_count": 10,
     "metadata": {},
     "output_type": "execute_result"
    }
   ],
   "source": [
    "df2.ind_actividad_cliente.replace({0:0, 1:1, np.nan:2}, inplace=True)\n",
    "df2.ind_actividad_cliente.value_counts(dropna=False)"
   ]
  },
  {
   "cell_type": "markdown",
   "metadata": {},
   "source": [
    "tipodom"
   ]
  },
  {
   "cell_type": "code",
   "execution_count": 11,
   "metadata": {},
   "outputs": [
    {
     "data": {
      "text/plain": [
       " 1.0    14549189\n",
       "NaN        27735\n",
       "Name: tipodom, dtype: int64"
      ]
     },
     "execution_count": 11,
     "metadata": {},
     "output_type": "execute_result"
    }
   ],
   "source": [
    "df2.tipodom.value_counts(dropna=False)"
   ]
  },
  {
   "cell_type": "code",
   "execution_count": 12,
   "metadata": {},
   "outputs": [
    {
     "data": {
      "text/plain": [
       "1.0    14549189\n",
       "0.0       27735\n",
       "Name: tipodom, dtype: int64"
      ]
     },
     "execution_count": 12,
     "metadata": {},
     "output_type": "execute_result"
    }
   ],
   "source": [
    "df2.tipodom.replace({np.nan:0, 1:1}, inplace=True)\n",
    "df2.tipodom.value_counts(dropna=False)"
   ]
  },
  {
   "cell_type": "markdown",
   "metadata": {},
   "source": [
    "indfall"
   ]
  },
  {
   "cell_type": "code",
   "execution_count": 13,
   "metadata": {},
   "outputs": [
    {
     "data": {
      "text/plain": [
       "N      14512028\n",
       "S         37162\n",
       "NaN       27734\n",
       "Name: indfall, dtype: int64"
      ]
     },
     "execution_count": 13,
     "metadata": {},
     "output_type": "execute_result"
    }
   ],
   "source": [
    "df2.indfall.value_counts(dropna=False)"
   ]
  },
  {
   "cell_type": "code",
   "execution_count": 14,
   "metadata": {},
   "outputs": [
    {
     "data": {
      "text/plain": [
       "2    14512028\n",
       "1       37162\n",
       "0       27734\n",
       "Name: indfall, dtype: int64"
      ]
     },
     "execution_count": 14,
     "metadata": {},
     "output_type": "execute_result"
    }
   ],
   "source": [
    "df2.indfall.replace({np.nan:0, 'S':1, 'N':2}, inplace=True)\n",
    "df2.indfall.value_counts(dropna=False)"
   ]
  },
  {
   "cell_type": "markdown",
   "metadata": {},
   "source": [
    "conyuemp"
   ]
  },
  {
   "cell_type": "code",
   "execution_count": 15,
   "metadata": {},
   "outputs": [
    {
     "data": {
      "text/plain": [
       "NaN    14575012\n",
       "N          1894\n",
       "S            18\n",
       "Name: conyuemp, dtype: int64"
      ]
     },
     "execution_count": 15,
     "metadata": {},
     "output_type": "execute_result"
    }
   ],
   "source": [
    "df2.conyuemp.value_counts(dropna=False)"
   ]
  },
  {
   "cell_type": "code",
   "execution_count": 16,
   "metadata": {},
   "outputs": [
    {
     "data": {
      "text/plain": [
       "0    14575012\n",
       "2        1894\n",
       "1          18\n",
       "Name: conyuemp, dtype: int64"
      ]
     },
     "execution_count": 16,
     "metadata": {},
     "output_type": "execute_result"
    }
   ],
   "source": [
    "df2.conyuemp.replace({np.nan:0, 'S':1, 'N':2}, inplace=True)\n",
    "df2.conyuemp.value_counts(dropna=False)"
   ]
  },
  {
   "cell_type": "markdown",
   "metadata": {},
   "source": [
    "indext"
   ]
  },
  {
   "cell_type": "code",
   "execution_count": 17,
   "metadata": {},
   "outputs": [
    {
     "data": {
      "text/plain": [
       "N      13858387\n",
       "S        690803\n",
       "NaN       27734\n",
       "Name: indext, dtype: int64"
      ]
     },
     "execution_count": 17,
     "metadata": {},
     "output_type": "execute_result"
    }
   ],
   "source": [
    "df2.indext.value_counts(dropna=False)"
   ]
  },
  {
   "cell_type": "code",
   "execution_count": 18,
   "metadata": {},
   "outputs": [
    {
     "data": {
      "text/plain": [
       "2    13858387\n",
       "1      690803\n",
       "0       27734\n",
       "Name: indext, dtype: int64"
      ]
     },
     "execution_count": 18,
     "metadata": {},
     "output_type": "execute_result"
    }
   ],
   "source": [
    "df2.indext.replace({np.nan:0, 'S':1, 'N':2}, inplace=True)\n",
    "df2.indext.value_counts(dropna=False)"
   ]
  },
  {
   "cell_type": "markdown",
   "metadata": {},
   "source": [
    "indresi"
   ]
  },
  {
   "cell_type": "code",
   "execution_count": 19,
   "metadata": {},
   "outputs": [
    {
     "data": {
      "text/plain": [
       "S      14479331\n",
       "N         69859\n",
       "NaN       27734\n",
       "Name: indresi, dtype: int64"
      ]
     },
     "execution_count": 19,
     "metadata": {},
     "output_type": "execute_result"
    }
   ],
   "source": [
    "df2.indresi.value_counts(dropna=False)"
   ]
  },
  {
   "cell_type": "code",
   "execution_count": 20,
   "metadata": {},
   "outputs": [
    {
     "data": {
      "text/plain": [
       "1    14479331\n",
       "2       69859\n",
       "0       27734\n",
       "Name: indresi, dtype: int64"
      ]
     },
     "execution_count": 20,
     "metadata": {},
     "output_type": "execute_result"
    }
   ],
   "source": [
    "df2.indresi.replace({np.nan:0, 'S':1, 'N':2}, inplace=True)\n",
    "df2.indresi.value_counts(dropna=False)"
   ]
  },
  {
   "cell_type": "markdown",
   "metadata": {},
   "source": [
    "tiprel_1mes"
   ]
  },
  {
   "cell_type": "code",
   "execution_count": 21,
   "metadata": {},
   "outputs": [
    {
     "data": {
      "text/plain": [
       "I      7840818\n",
       "A      6580745\n",
       "NaN     149804\n",
       "P         4683\n",
       "R          870\n",
       "N            4\n",
       "Name: tiprel_1mes, dtype: int64"
      ]
     },
     "execution_count": 21,
     "metadata": {},
     "output_type": "execute_result"
    }
   ],
   "source": [
    "df2.tiprel_1mes.value_counts(dropna=False)"
   ]
  },
  {
   "cell_type": "code",
   "execution_count": 22,
   "metadata": {},
   "outputs": [
    {
     "data": {
      "text/plain": [
       "1.0    7840818\n",
       "2.0    6580745\n",
       "0.0     149804\n",
       "3.0       4683\n",
       "4.0        870\n",
       "5.0          4\n",
       "Name: tiprel_1mes, dtype: int64"
      ]
     },
     "execution_count": 22,
     "metadata": {},
     "output_type": "execute_result"
    }
   ],
   "source": [
    "df2.tiprel_1mes.replace(mapping_dict['tiprel_1mes'], inplace=True)\n",
    "df2.tiprel_1mes.fillna(0, inplace=True)\n",
    "df2.tiprel_1mes.value_counts(dropna=False)"
   ]
  },
  {
   "cell_type": "markdown",
   "metadata": {},
   "source": [
    "indrel_1mes"
   ]
  },
  {
   "cell_type": "code",
   "execution_count": 23,
   "metadata": {},
   "outputs": [],
   "source": [
    "df2.indrel_1mes.replace('P', 5, inplace=True)\n",
    "df2.indrel_1mes.fillna(0, inplace=True)"
   ]
  },
  {
   "cell_type": "code",
   "execution_count": 24,
   "metadata": {},
   "outputs": [],
   "source": [
    "df2.indrel_1mes = pd.to_numeric(df2.indrel_1mes, errors='coerce')"
   ]
  },
  {
   "cell_type": "code",
   "execution_count": 25,
   "metadata": {},
   "outputs": [
    {
     "data": {
      "text/plain": [
       "1.0    14420246\n",
       "0.0      149804\n",
       "3.0        4377\n",
       "2.0        1317\n",
       "5.0         874\n",
       "4.0         306\n",
       "Name: indrel_1mes, dtype: int64"
      ]
     },
     "execution_count": 25,
     "metadata": {},
     "output_type": "execute_result"
    }
   ],
   "source": [
    "df2.indrel_1mes.value_counts(dropna=False)"
   ]
  },
  {
   "cell_type": "markdown",
   "metadata": {},
   "source": [
    "indrel"
   ]
  },
  {
   "cell_type": "code",
   "execution_count": 26,
   "metadata": {},
   "outputs": [
    {
     "data": {
      "text/plain": [
       " 1.0     14522714\n",
       "NaN         27734\n",
       " 99.0       26476\n",
       "Name: indrel, dtype: int64"
      ]
     },
     "execution_count": 26,
     "metadata": {},
     "output_type": "execute_result"
    }
   ],
   "source": [
    "df2.indrel.value_counts(dropna=False)"
   ]
  },
  {
   "cell_type": "code",
   "execution_count": 27,
   "metadata": {},
   "outputs": [
    {
     "data": {
      "text/plain": [
       "0.0    14522714\n",
       "2.0       27734\n",
       "1.0       26476\n",
       "Name: indrel, dtype: int64"
      ]
     },
     "execution_count": 27,
     "metadata": {},
     "output_type": "execute_result"
    }
   ],
   "source": [
    "df2.indrel.replace({np.nan: 2, 1: 0, 99: 1}, inplace=True)\n",
    "df2.indrel.value_counts(dropna=False)"
   ]
  },
  {
   "cell_type": "markdown",
   "metadata": {},
   "source": [
    "ind_nuevo"
   ]
  },
  {
   "cell_type": "code",
   "execution_count": 28,
   "metadata": {},
   "outputs": [
    {
     "data": {
      "text/plain": [
       " 0.0    13712094\n",
       " 1.0      837096\n",
       "NaN        27734\n",
       "Name: ind_nuevo, dtype: int64"
      ]
     },
     "execution_count": 28,
     "metadata": {},
     "output_type": "execute_result"
    }
   ],
   "source": [
    "df2.ind_nuevo.value_counts(dropna=False)"
   ]
  },
  {
   "cell_type": "code",
   "execution_count": 29,
   "metadata": {},
   "outputs": [
    {
     "data": {
      "text/plain": [
       "0.0    13712094\n",
       "1.0      837096\n",
       "2.0       27734\n",
       "Name: ind_nuevo, dtype: int64"
      ]
     },
     "execution_count": 29,
     "metadata": {},
     "output_type": "execute_result"
    }
   ],
   "source": [
    "df2.ind_nuevo.fillna(2, inplace=True)\n",
    "df2.ind_nuevo.value_counts(dropna=False)"
   ]
  },
  {
   "cell_type": "markdown",
   "metadata": {},
   "source": [
    "sexo"
   ]
  },
  {
   "cell_type": "code",
   "execution_count": 30,
   "metadata": {},
   "outputs": [
    {
     "data": {
      "text/plain": [
       "V      7928767\n",
       "H      6620348\n",
       "NaN      27809\n",
       "Name: sexo, dtype: int64"
      ]
     },
     "execution_count": 30,
     "metadata": {},
     "output_type": "execute_result"
    }
   ],
   "source": [
    "df2.sexo.value_counts(dropna=False)"
   ]
  },
  {
   "cell_type": "code",
   "execution_count": 31,
   "metadata": {},
   "outputs": [
    {
     "data": {
      "text/plain": [
       "0    7928767\n",
       "1    6620348\n",
       "2      27809\n",
       "Name: sexo, dtype: int64"
      ]
     },
     "execution_count": 31,
     "metadata": {},
     "output_type": "execute_result"
    }
   ],
   "source": [
    "df2.sexo.fillna(2, inplace=True)\n",
    "df2.sexo.replace(mapping_dict['sexo'], inplace=True)\n",
    "df2.sexo.value_counts(dropna=False)"
   ]
  },
  {
   "cell_type": "markdown",
   "metadata": {},
   "source": [
    "ind_empleado"
   ]
  },
  {
   "cell_type": "code",
   "execution_count": 32,
   "metadata": {},
   "outputs": [
    {
     "data": {
      "text/plain": [
       "N      14540073\n",
       "NaN       27734\n",
       "B          3784\n",
       "F          2675\n",
       "A          2640\n",
       "S            18\n",
       "Name: ind_empleado, dtype: int64"
      ]
     },
     "execution_count": 32,
     "metadata": {},
     "output_type": "execute_result"
    }
   ],
   "source": [
    "df2.ind_empleado.value_counts(dropna=False)"
   ]
  },
  {
   "cell_type": "code",
   "execution_count": 33,
   "metadata": {},
   "outputs": [
    {
     "data": {
      "text/plain": [
       "1    14540073\n",
       "0       27734\n",
       "2        3784\n",
       "3        2675\n",
       "4        2640\n",
       "5          18\n",
       "Name: ind_empleado, dtype: int64"
      ]
     },
     "execution_count": 33,
     "metadata": {},
     "output_type": "execute_result"
    }
   ],
   "source": [
    "df2.ind_empleado.fillna(0, inplace=True)\n",
    "df2.ind_empleado.replace(mapping_dict['ind_empleado'], inplace=True)\n",
    "df2.ind_empleado.value_counts(dropna=False)"
   ]
  },
  {
   "cell_type": "code",
   "execution_count": 34,
   "metadata": {},
   "outputs": [],
   "source": [
    "df2.age = pd.to_numeric(df2.age, errors='coerce')\n",
    "\n",
    "mean_age = 40.\n",
    "min_age = 20.\n",
    "max_age = 90.\n",
    "range_age = max_age - min_age\n",
    "df2.age.fillna(mean_age, inplace=True)\n",
    "df2.loc[df2.age>max_age, 'age'] = max_age\n",
    "df2.loc[df2.age<min_age, 'age'] = min_age\n",
    "df2.age = (df2.age-min_age) / range_age\n",
    "\n",
    "df2.antiguedad = pd.to_numeric(df2.antiguedad, errors='coerce')\n",
    "\n",
    "min_value = 0.\n",
    "max_value = 256.\n",
    "range_value = max_value - min_value\n",
    "missing_value = 0.\n",
    "df2.antiguedad.fillna(0.0, inplace=True)\n",
    "df2.loc[df2.antiguedad<min_value, 'antiguedad'] = min_value\n",
    "df2.loc[df2.antiguedad>max_value, 'antiguedad'] = max_value\n",
    "df2.antiguedad = (df2.antiguedad-min_value)/range_value\n",
    "\n",
    "df2.renta = pd.to_numeric(df2.renta, errors='coerce')\n",
    "\n",
    "min_value = 0.\n",
    "max_value = 1500000.\n",
    "range_value = max_value - min_value\n",
    "missing_value = 101850.\n",
    "df2.renta.fillna(missing_value, inplace=True)\n",
    "df2.loc[df2.renta<min_value, 'renta'] = min_value\n",
    "df2.loc[df2.renta>max_value, 'renta'] = max_value\n",
    "df2.renta = (df2.renta-min_value)/range_value\n",
    "\n",
    "#df2.fillna(0.0, inplace=True)"
   ]
  },
  {
   "cell_type": "code",
   "execution_count": 38,
   "metadata": {},
   "outputs": [],
   "source": [
    "df2.to_hdf('../input/train_test_features_converted.hdf', 'train_test')"
   ]
  }
 ],
 "metadata": {
  "kernelspec": {
   "display_name": "Python 3",
   "language": "python",
   "name": "python3"
  },
  "language_info": {
   "codemirror_mode": {
    "name": "ipython",
    "version": 3
   },
   "file_extension": ".py",
   "mimetype": "text/x-python",
   "name": "python",
   "nbconvert_exporter": "python",
   "pygments_lexer": "ipython3",
   "version": "3.6.5"
  }
 },
 "nbformat": 4,
 "nbformat_minor": 2
}
