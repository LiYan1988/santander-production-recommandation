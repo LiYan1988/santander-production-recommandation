{
 "cells": [
  {
   "cell_type": "markdown",
   "metadata": {},
   "source": [
    "# Detailed Data Cleaning/Visualization\n",
    "\n",
    "Things to try\n",
    "1. the threshold of age groups might be improved\n",
    "2. `ind_nuevo` should be a function of `fecha_dato` and `fecha_alta`\n",
    "3. `cod_prov` Province code (customer's address), is it duplicated with `nomprov`?\n",
    "4. "
   ]
  },
  {
   "cell_type": "markdown",
   "metadata": {},
   "source": [
    "## First Glance"
   ]
  },
  {
   "cell_type": "code",
   "execution_count": 1,
   "metadata": {},
   "outputs": [
    {
     "name": "stdout",
     "output_type": "stream",
     "text": [
      "Populating the interactive namespace from numpy and matplotlib\n"
     ]
    }
   ],
   "source": [
    "import numpy as np\n",
    "import pandas as pd\n",
    "import seaborn as sns\n",
    "import matplotlib.pyplot as plt\n",
    "import gc\n",
    "%pylab inline\n",
    "pylab.rcParams['figure.figsize'] = (16, 9)"
   ]
  },
  {
   "cell_type": "markdown",
   "metadata": {},
   "source": [
    "Sample the train set, data is huge"
   ]
  },
  {
   "cell_type": "code",
   "execution_count": 2,
   "metadata": {},
   "outputs": [
    {
     "name": "stderr",
     "output_type": "stream",
     "text": [
      "C:\\Users\\elunden\\AppData\\Local\\Continuum\\anaconda3\\lib\\site-packages\\IPython\\core\\interactiveshell.py:2785: DtypeWarning: Columns (5,8,10,11,15) have mixed types. Specify dtype option on import or set low_memory=False.\n",
      "  interactivity=interactivity, compiler=compiler, result=result)\n"
     ]
    }
   ],
   "source": [
    "limit_rows = 7000000\n",
    "df = pd.read_csv('../input/train_ver2.csv', nrows=limit_rows)"
   ]
  },
  {
   "cell_type": "code",
   "execution_count": 3,
   "metadata": {},
   "outputs": [
    {
     "data": {
      "text/html": [
       "<div>\n",
       "<style scoped>\n",
       "    .dataframe tbody tr th:only-of-type {\n",
       "        vertical-align: middle;\n",
       "    }\n",
       "\n",
       "    .dataframe tbody tr th {\n",
       "        vertical-align: top;\n",
       "    }\n",
       "\n",
       "    .dataframe thead th {\n",
       "        text-align: right;\n",
       "    }\n",
       "</style>\n",
       "<table border=\"1\" class=\"dataframe\">\n",
       "  <thead>\n",
       "    <tr style=\"text-align: right;\">\n",
       "      <th></th>\n",
       "      <th>0</th>\n",
       "      <th>1</th>\n",
       "      <th>2</th>\n",
       "      <th>3</th>\n",
       "      <th>4</th>\n",
       "    </tr>\n",
       "  </thead>\n",
       "  <tbody>\n",
       "    <tr>\n",
       "      <th>fecha_dato</th>\n",
       "      <td>2015-01-28</td>\n",
       "      <td>2015-01-28</td>\n",
       "      <td>2015-01-28</td>\n",
       "      <td>2015-01-28</td>\n",
       "      <td>2015-01-28</td>\n",
       "    </tr>\n",
       "    <tr>\n",
       "      <th>ncodpers</th>\n",
       "      <td>1375586</td>\n",
       "      <td>1050611</td>\n",
       "      <td>1050612</td>\n",
       "      <td>1050613</td>\n",
       "      <td>1050614</td>\n",
       "    </tr>\n",
       "    <tr>\n",
       "      <th>ind_empleado</th>\n",
       "      <td>N</td>\n",
       "      <td>N</td>\n",
       "      <td>N</td>\n",
       "      <td>N</td>\n",
       "      <td>N</td>\n",
       "    </tr>\n",
       "    <tr>\n",
       "      <th>pais_residencia</th>\n",
       "      <td>ES</td>\n",
       "      <td>ES</td>\n",
       "      <td>ES</td>\n",
       "      <td>ES</td>\n",
       "      <td>ES</td>\n",
       "    </tr>\n",
       "    <tr>\n",
       "      <th>sexo</th>\n",
       "      <td>H</td>\n",
       "      <td>V</td>\n",
       "      <td>V</td>\n",
       "      <td>H</td>\n",
       "      <td>V</td>\n",
       "    </tr>\n",
       "    <tr>\n",
       "      <th>age</th>\n",
       "      <td>35</td>\n",
       "      <td>23</td>\n",
       "      <td>23</td>\n",
       "      <td>22</td>\n",
       "      <td>23</td>\n",
       "    </tr>\n",
       "    <tr>\n",
       "      <th>fecha_alta</th>\n",
       "      <td>2015-01-12</td>\n",
       "      <td>2012-08-10</td>\n",
       "      <td>2012-08-10</td>\n",
       "      <td>2012-08-10</td>\n",
       "      <td>2012-08-10</td>\n",
       "    </tr>\n",
       "    <tr>\n",
       "      <th>ind_nuevo</th>\n",
       "      <td>0</td>\n",
       "      <td>0</td>\n",
       "      <td>0</td>\n",
       "      <td>0</td>\n",
       "      <td>0</td>\n",
       "    </tr>\n",
       "    <tr>\n",
       "      <th>antiguedad</th>\n",
       "      <td>6</td>\n",
       "      <td>35</td>\n",
       "      <td>35</td>\n",
       "      <td>35</td>\n",
       "      <td>35</td>\n",
       "    </tr>\n",
       "    <tr>\n",
       "      <th>indrel</th>\n",
       "      <td>1</td>\n",
       "      <td>1</td>\n",
       "      <td>1</td>\n",
       "      <td>1</td>\n",
       "      <td>1</td>\n",
       "    </tr>\n",
       "    <tr>\n",
       "      <th>ult_fec_cli_1t</th>\n",
       "      <td>NaN</td>\n",
       "      <td>NaN</td>\n",
       "      <td>NaN</td>\n",
       "      <td>NaN</td>\n",
       "      <td>NaN</td>\n",
       "    </tr>\n",
       "    <tr>\n",
       "      <th>indrel_1mes</th>\n",
       "      <td>1</td>\n",
       "      <td>1</td>\n",
       "      <td>1</td>\n",
       "      <td>1</td>\n",
       "      <td>1</td>\n",
       "    </tr>\n",
       "    <tr>\n",
       "      <th>tiprel_1mes</th>\n",
       "      <td>A</td>\n",
       "      <td>I</td>\n",
       "      <td>I</td>\n",
       "      <td>I</td>\n",
       "      <td>A</td>\n",
       "    </tr>\n",
       "    <tr>\n",
       "      <th>indresi</th>\n",
       "      <td>S</td>\n",
       "      <td>S</td>\n",
       "      <td>S</td>\n",
       "      <td>S</td>\n",
       "      <td>S</td>\n",
       "    </tr>\n",
       "    <tr>\n",
       "      <th>indext</th>\n",
       "      <td>N</td>\n",
       "      <td>S</td>\n",
       "      <td>N</td>\n",
       "      <td>N</td>\n",
       "      <td>N</td>\n",
       "    </tr>\n",
       "    <tr>\n",
       "      <th>conyuemp</th>\n",
       "      <td>NaN</td>\n",
       "      <td>NaN</td>\n",
       "      <td>NaN</td>\n",
       "      <td>NaN</td>\n",
       "      <td>NaN</td>\n",
       "    </tr>\n",
       "    <tr>\n",
       "      <th>canal_entrada</th>\n",
       "      <td>KHL</td>\n",
       "      <td>KHE</td>\n",
       "      <td>KHE</td>\n",
       "      <td>KHD</td>\n",
       "      <td>KHE</td>\n",
       "    </tr>\n",
       "    <tr>\n",
       "      <th>indfall</th>\n",
       "      <td>N</td>\n",
       "      <td>N</td>\n",
       "      <td>N</td>\n",
       "      <td>N</td>\n",
       "      <td>N</td>\n",
       "    </tr>\n",
       "    <tr>\n",
       "      <th>tipodom</th>\n",
       "      <td>1</td>\n",
       "      <td>1</td>\n",
       "      <td>1</td>\n",
       "      <td>1</td>\n",
       "      <td>1</td>\n",
       "    </tr>\n",
       "    <tr>\n",
       "      <th>cod_prov</th>\n",
       "      <td>29</td>\n",
       "      <td>13</td>\n",
       "      <td>13</td>\n",
       "      <td>50</td>\n",
       "      <td>50</td>\n",
       "    </tr>\n",
       "    <tr>\n",
       "      <th>nomprov</th>\n",
       "      <td>MALAGA</td>\n",
       "      <td>CIUDAD REAL</td>\n",
       "      <td>CIUDAD REAL</td>\n",
       "      <td>ZARAGOZA</td>\n",
       "      <td>ZARAGOZA</td>\n",
       "    </tr>\n",
       "    <tr>\n",
       "      <th>ind_actividad_cliente</th>\n",
       "      <td>1</td>\n",
       "      <td>0</td>\n",
       "      <td>0</td>\n",
       "      <td>0</td>\n",
       "      <td>1</td>\n",
       "    </tr>\n",
       "    <tr>\n",
       "      <th>renta</th>\n",
       "      <td>87218.1</td>\n",
       "      <td>35548.7</td>\n",
       "      <td>122179</td>\n",
       "      <td>119776</td>\n",
       "      <td>NaN</td>\n",
       "    </tr>\n",
       "    <tr>\n",
       "      <th>segmento</th>\n",
       "      <td>02 - PARTICULARES</td>\n",
       "      <td>03 - UNIVERSITARIO</td>\n",
       "      <td>03 - UNIVERSITARIO</td>\n",
       "      <td>03 - UNIVERSITARIO</td>\n",
       "      <td>03 - UNIVERSITARIO</td>\n",
       "    </tr>\n",
       "    <tr>\n",
       "      <th>ind_ahor_fin_ult1</th>\n",
       "      <td>0</td>\n",
       "      <td>0</td>\n",
       "      <td>0</td>\n",
       "      <td>0</td>\n",
       "      <td>0</td>\n",
       "    </tr>\n",
       "    <tr>\n",
       "      <th>ind_aval_fin_ult1</th>\n",
       "      <td>0</td>\n",
       "      <td>0</td>\n",
       "      <td>0</td>\n",
       "      <td>0</td>\n",
       "      <td>0</td>\n",
       "    </tr>\n",
       "    <tr>\n",
       "      <th>ind_cco_fin_ult1</th>\n",
       "      <td>1</td>\n",
       "      <td>1</td>\n",
       "      <td>1</td>\n",
       "      <td>0</td>\n",
       "      <td>1</td>\n",
       "    </tr>\n",
       "    <tr>\n",
       "      <th>ind_cder_fin_ult1</th>\n",
       "      <td>0</td>\n",
       "      <td>0</td>\n",
       "      <td>0</td>\n",
       "      <td>0</td>\n",
       "      <td>0</td>\n",
       "    </tr>\n",
       "    <tr>\n",
       "      <th>ind_cno_fin_ult1</th>\n",
       "      <td>0</td>\n",
       "      <td>0</td>\n",
       "      <td>0</td>\n",
       "      <td>0</td>\n",
       "      <td>0</td>\n",
       "    </tr>\n",
       "    <tr>\n",
       "      <th>ind_ctju_fin_ult1</th>\n",
       "      <td>0</td>\n",
       "      <td>0</td>\n",
       "      <td>0</td>\n",
       "      <td>0</td>\n",
       "      <td>0</td>\n",
       "    </tr>\n",
       "    <tr>\n",
       "      <th>ind_ctma_fin_ult1</th>\n",
       "      <td>0</td>\n",
       "      <td>0</td>\n",
       "      <td>0</td>\n",
       "      <td>0</td>\n",
       "      <td>0</td>\n",
       "    </tr>\n",
       "    <tr>\n",
       "      <th>ind_ctop_fin_ult1</th>\n",
       "      <td>0</td>\n",
       "      <td>0</td>\n",
       "      <td>0</td>\n",
       "      <td>0</td>\n",
       "      <td>0</td>\n",
       "    </tr>\n",
       "    <tr>\n",
       "      <th>ind_ctpp_fin_ult1</th>\n",
       "      <td>0</td>\n",
       "      <td>0</td>\n",
       "      <td>0</td>\n",
       "      <td>0</td>\n",
       "      <td>0</td>\n",
       "    </tr>\n",
       "    <tr>\n",
       "      <th>ind_deco_fin_ult1</th>\n",
       "      <td>0</td>\n",
       "      <td>0</td>\n",
       "      <td>0</td>\n",
       "      <td>1</td>\n",
       "      <td>0</td>\n",
       "    </tr>\n",
       "    <tr>\n",
       "      <th>ind_deme_fin_ult1</th>\n",
       "      <td>0</td>\n",
       "      <td>0</td>\n",
       "      <td>0</td>\n",
       "      <td>0</td>\n",
       "      <td>0</td>\n",
       "    </tr>\n",
       "    <tr>\n",
       "      <th>ind_dela_fin_ult1</th>\n",
       "      <td>0</td>\n",
       "      <td>0</td>\n",
       "      <td>0</td>\n",
       "      <td>0</td>\n",
       "      <td>0</td>\n",
       "    </tr>\n",
       "    <tr>\n",
       "      <th>ind_ecue_fin_ult1</th>\n",
       "      <td>0</td>\n",
       "      <td>0</td>\n",
       "      <td>0</td>\n",
       "      <td>0</td>\n",
       "      <td>0</td>\n",
       "    </tr>\n",
       "    <tr>\n",
       "      <th>ind_fond_fin_ult1</th>\n",
       "      <td>0</td>\n",
       "      <td>0</td>\n",
       "      <td>0</td>\n",
       "      <td>0</td>\n",
       "      <td>0</td>\n",
       "    </tr>\n",
       "    <tr>\n",
       "      <th>ind_hip_fin_ult1</th>\n",
       "      <td>0</td>\n",
       "      <td>0</td>\n",
       "      <td>0</td>\n",
       "      <td>0</td>\n",
       "      <td>0</td>\n",
       "    </tr>\n",
       "    <tr>\n",
       "      <th>ind_plan_fin_ult1</th>\n",
       "      <td>0</td>\n",
       "      <td>0</td>\n",
       "      <td>0</td>\n",
       "      <td>0</td>\n",
       "      <td>0</td>\n",
       "    </tr>\n",
       "    <tr>\n",
       "      <th>ind_pres_fin_ult1</th>\n",
       "      <td>0</td>\n",
       "      <td>0</td>\n",
       "      <td>0</td>\n",
       "      <td>0</td>\n",
       "      <td>0</td>\n",
       "    </tr>\n",
       "    <tr>\n",
       "      <th>ind_reca_fin_ult1</th>\n",
       "      <td>0</td>\n",
       "      <td>0</td>\n",
       "      <td>0</td>\n",
       "      <td>0</td>\n",
       "      <td>0</td>\n",
       "    </tr>\n",
       "    <tr>\n",
       "      <th>ind_tjcr_fin_ult1</th>\n",
       "      <td>0</td>\n",
       "      <td>0</td>\n",
       "      <td>0</td>\n",
       "      <td>0</td>\n",
       "      <td>0</td>\n",
       "    </tr>\n",
       "    <tr>\n",
       "      <th>ind_valo_fin_ult1</th>\n",
       "      <td>0</td>\n",
       "      <td>0</td>\n",
       "      <td>0</td>\n",
       "      <td>0</td>\n",
       "      <td>0</td>\n",
       "    </tr>\n",
       "    <tr>\n",
       "      <th>ind_viv_fin_ult1</th>\n",
       "      <td>0</td>\n",
       "      <td>0</td>\n",
       "      <td>0</td>\n",
       "      <td>0</td>\n",
       "      <td>0</td>\n",
       "    </tr>\n",
       "    <tr>\n",
       "      <th>ind_nomina_ult1</th>\n",
       "      <td>0</td>\n",
       "      <td>0</td>\n",
       "      <td>0</td>\n",
       "      <td>0</td>\n",
       "      <td>0</td>\n",
       "    </tr>\n",
       "    <tr>\n",
       "      <th>ind_nom_pens_ult1</th>\n",
       "      <td>0</td>\n",
       "      <td>0</td>\n",
       "      <td>0</td>\n",
       "      <td>0</td>\n",
       "      <td>0</td>\n",
       "    </tr>\n",
       "    <tr>\n",
       "      <th>ind_recibo_ult1</th>\n",
       "      <td>0</td>\n",
       "      <td>0</td>\n",
       "      <td>0</td>\n",
       "      <td>0</td>\n",
       "      <td>0</td>\n",
       "    </tr>\n",
       "  </tbody>\n",
       "</table>\n",
       "</div>"
      ],
      "text/plain": [
       "                                       0                   1  \\\n",
       "fecha_dato                    2015-01-28          2015-01-28   \n",
       "ncodpers                         1375586             1050611   \n",
       "ind_empleado                           N                   N   \n",
       "pais_residencia                       ES                  ES   \n",
       "sexo                                   H                   V   \n",
       "age                                   35                  23   \n",
       "fecha_alta                    2015-01-12          2012-08-10   \n",
       "ind_nuevo                              0                   0   \n",
       "antiguedad                             6                  35   \n",
       "indrel                                 1                   1   \n",
       "ult_fec_cli_1t                       NaN                 NaN   \n",
       "indrel_1mes                            1                   1   \n",
       "tiprel_1mes                            A                   I   \n",
       "indresi                                S                   S   \n",
       "indext                                 N                   S   \n",
       "conyuemp                             NaN                 NaN   \n",
       "canal_entrada                        KHL                 KHE   \n",
       "indfall                                N                   N   \n",
       "tipodom                                1                   1   \n",
       "cod_prov                              29                  13   \n",
       "nomprov                           MALAGA         CIUDAD REAL   \n",
       "ind_actividad_cliente                  1                   0   \n",
       "renta                            87218.1             35548.7   \n",
       "segmento               02 - PARTICULARES  03 - UNIVERSITARIO   \n",
       "ind_ahor_fin_ult1                      0                   0   \n",
       "ind_aval_fin_ult1                      0                   0   \n",
       "ind_cco_fin_ult1                       1                   1   \n",
       "ind_cder_fin_ult1                      0                   0   \n",
       "ind_cno_fin_ult1                       0                   0   \n",
       "ind_ctju_fin_ult1                      0                   0   \n",
       "ind_ctma_fin_ult1                      0                   0   \n",
       "ind_ctop_fin_ult1                      0                   0   \n",
       "ind_ctpp_fin_ult1                      0                   0   \n",
       "ind_deco_fin_ult1                      0                   0   \n",
       "ind_deme_fin_ult1                      0                   0   \n",
       "ind_dela_fin_ult1                      0                   0   \n",
       "ind_ecue_fin_ult1                      0                   0   \n",
       "ind_fond_fin_ult1                      0                   0   \n",
       "ind_hip_fin_ult1                       0                   0   \n",
       "ind_plan_fin_ult1                      0                   0   \n",
       "ind_pres_fin_ult1                      0                   0   \n",
       "ind_reca_fin_ult1                      0                   0   \n",
       "ind_tjcr_fin_ult1                      0                   0   \n",
       "ind_valo_fin_ult1                      0                   0   \n",
       "ind_viv_fin_ult1                       0                   0   \n",
       "ind_nomina_ult1                        0                   0   \n",
       "ind_nom_pens_ult1                      0                   0   \n",
       "ind_recibo_ult1                        0                   0   \n",
       "\n",
       "                                        2                   3  \\\n",
       "fecha_dato                     2015-01-28          2015-01-28   \n",
       "ncodpers                          1050612             1050613   \n",
       "ind_empleado                            N                   N   \n",
       "pais_residencia                        ES                  ES   \n",
       "sexo                                    V                   H   \n",
       "age                                    23                  22   \n",
       "fecha_alta                     2012-08-10          2012-08-10   \n",
       "ind_nuevo                               0                   0   \n",
       "antiguedad                             35                  35   \n",
       "indrel                                  1                   1   \n",
       "ult_fec_cli_1t                        NaN                 NaN   \n",
       "indrel_1mes                             1                   1   \n",
       "tiprel_1mes                             I                   I   \n",
       "indresi                                 S                   S   \n",
       "indext                                  N                   N   \n",
       "conyuemp                              NaN                 NaN   \n",
       "canal_entrada                         KHE                 KHD   \n",
       "indfall                                 N                   N   \n",
       "tipodom                                 1                   1   \n",
       "cod_prov                               13                  50   \n",
       "nomprov                       CIUDAD REAL            ZARAGOZA   \n",
       "ind_actividad_cliente                   0                   0   \n",
       "renta                              122179              119776   \n",
       "segmento               03 - UNIVERSITARIO  03 - UNIVERSITARIO   \n",
       "ind_ahor_fin_ult1                       0                   0   \n",
       "ind_aval_fin_ult1                       0                   0   \n",
       "ind_cco_fin_ult1                        1                   0   \n",
       "ind_cder_fin_ult1                       0                   0   \n",
       "ind_cno_fin_ult1                        0                   0   \n",
       "ind_ctju_fin_ult1                       0                   0   \n",
       "ind_ctma_fin_ult1                       0                   0   \n",
       "ind_ctop_fin_ult1                       0                   0   \n",
       "ind_ctpp_fin_ult1                       0                   0   \n",
       "ind_deco_fin_ult1                       0                   1   \n",
       "ind_deme_fin_ult1                       0                   0   \n",
       "ind_dela_fin_ult1                       0                   0   \n",
       "ind_ecue_fin_ult1                       0                   0   \n",
       "ind_fond_fin_ult1                       0                   0   \n",
       "ind_hip_fin_ult1                        0                   0   \n",
       "ind_plan_fin_ult1                       0                   0   \n",
       "ind_pres_fin_ult1                       0                   0   \n",
       "ind_reca_fin_ult1                       0                   0   \n",
       "ind_tjcr_fin_ult1                       0                   0   \n",
       "ind_valo_fin_ult1                       0                   0   \n",
       "ind_viv_fin_ult1                        0                   0   \n",
       "ind_nomina_ult1                         0                   0   \n",
       "ind_nom_pens_ult1                       0                   0   \n",
       "ind_recibo_ult1                         0                   0   \n",
       "\n",
       "                                        4  \n",
       "fecha_dato                     2015-01-28  \n",
       "ncodpers                          1050614  \n",
       "ind_empleado                            N  \n",
       "pais_residencia                        ES  \n",
       "sexo                                    V  \n",
       "age                                    23  \n",
       "fecha_alta                     2012-08-10  \n",
       "ind_nuevo                               0  \n",
       "antiguedad                             35  \n",
       "indrel                                  1  \n",
       "ult_fec_cli_1t                        NaN  \n",
       "indrel_1mes                             1  \n",
       "tiprel_1mes                             A  \n",
       "indresi                                 S  \n",
       "indext                                  N  \n",
       "conyuemp                              NaN  \n",
       "canal_entrada                         KHE  \n",
       "indfall                                 N  \n",
       "tipodom                                 1  \n",
       "cod_prov                               50  \n",
       "nomprov                          ZARAGOZA  \n",
       "ind_actividad_cliente                   1  \n",
       "renta                                 NaN  \n",
       "segmento               03 - UNIVERSITARIO  \n",
       "ind_ahor_fin_ult1                       0  \n",
       "ind_aval_fin_ult1                       0  \n",
       "ind_cco_fin_ult1                        1  \n",
       "ind_cder_fin_ult1                       0  \n",
       "ind_cno_fin_ult1                        0  \n",
       "ind_ctju_fin_ult1                       0  \n",
       "ind_ctma_fin_ult1                       0  \n",
       "ind_ctop_fin_ult1                       0  \n",
       "ind_ctpp_fin_ult1                       0  \n",
       "ind_deco_fin_ult1                       0  \n",
       "ind_deme_fin_ult1                       0  \n",
       "ind_dela_fin_ult1                       0  \n",
       "ind_ecue_fin_ult1                       0  \n",
       "ind_fond_fin_ult1                       0  \n",
       "ind_hip_fin_ult1                        0  \n",
       "ind_plan_fin_ult1                       0  \n",
       "ind_pres_fin_ult1                       0  \n",
       "ind_reca_fin_ult1                       0  \n",
       "ind_tjcr_fin_ult1                       0  \n",
       "ind_valo_fin_ult1                       0  \n",
       "ind_viv_fin_ult1                        0  \n",
       "ind_nomina_ult1                         0  \n",
       "ind_nom_pens_ult1                       0  \n",
       "ind_recibo_ult1                         0  "
      ]
     },
     "execution_count": 3,
     "metadata": {},
     "output_type": "execute_result"
    }
   ],
   "source": [
    "df.head().T"
   ]
  },
  {
   "cell_type": "code",
   "execution_count": 4,
   "metadata": {},
   "outputs": [],
   "source": [
    "unique_ids = pd.Series(df['ncodpers'].unique())"
   ]
  },
  {
   "cell_type": "code",
   "execution_count": 5,
   "metadata": {},
   "outputs": [
    {
     "data": {
      "text/html": [
       "<div>\n",
       "<style scoped>\n",
       "    .dataframe tbody tr th:only-of-type {\n",
       "        vertical-align: middle;\n",
       "    }\n",
       "\n",
       "    .dataframe tbody tr th {\n",
       "        vertical-align: top;\n",
       "    }\n",
       "\n",
       "    .dataframe thead th {\n",
       "        text-align: right;\n",
       "    }\n",
       "</style>\n",
       "<table border=\"1\" class=\"dataframe\">\n",
       "  <thead>\n",
       "    <tr style=\"text-align: right;\">\n",
       "      <th></th>\n",
       "      <th>ncodpers</th>\n",
       "      <th>ind_nuevo</th>\n",
       "      <th>indrel</th>\n",
       "      <th>tipodom</th>\n",
       "      <th>cod_prov</th>\n",
       "      <th>ind_actividad_cliente</th>\n",
       "      <th>renta</th>\n",
       "      <th>ind_ahor_fin_ult1</th>\n",
       "      <th>ind_aval_fin_ult1</th>\n",
       "      <th>ind_cco_fin_ult1</th>\n",
       "      <th>...</th>\n",
       "      <th>ind_hip_fin_ult1</th>\n",
       "      <th>ind_plan_fin_ult1</th>\n",
       "      <th>ind_pres_fin_ult1</th>\n",
       "      <th>ind_reca_fin_ult1</th>\n",
       "      <th>ind_tjcr_fin_ult1</th>\n",
       "      <th>ind_valo_fin_ult1</th>\n",
       "      <th>ind_viv_fin_ult1</th>\n",
       "      <th>ind_nomina_ult1</th>\n",
       "      <th>ind_nom_pens_ult1</th>\n",
       "      <th>ind_recibo_ult1</th>\n",
       "    </tr>\n",
       "  </thead>\n",
       "  <tbody>\n",
       "    <tr>\n",
       "      <th>count</th>\n",
       "      <td>9.297020e+05</td>\n",
       "      <td>925887.000000</td>\n",
       "      <td>925887.000000</td>\n",
       "      <td>925887.0</td>\n",
       "      <td>920887.000000</td>\n",
       "      <td>925887.000000</td>\n",
       "      <td>7.626410e+05</td>\n",
       "      <td>929702.000000</td>\n",
       "      <td>929702.000000</td>\n",
       "      <td>929702.000000</td>\n",
       "      <td>...</td>\n",
       "      <td>929702.000000</td>\n",
       "      <td>929702.000000</td>\n",
       "      <td>929702.000000</td>\n",
       "      <td>929702.000000</td>\n",
       "      <td>929702.000000</td>\n",
       "      <td>929702.000000</td>\n",
       "      <td>929702.000000</td>\n",
       "      <td>927432.000000</td>\n",
       "      <td>927432.000000</td>\n",
       "      <td>929702.000000</td>\n",
       "    </tr>\n",
       "    <tr>\n",
       "      <th>mean</th>\n",
       "      <td>8.050891e+05</td>\n",
       "      <td>0.039434</td>\n",
       "      <td>1.138656</td>\n",
       "      <td>1.0</td>\n",
       "      <td>26.540067</td>\n",
       "      <td>0.490668</td>\n",
       "      <td>1.332838e+05</td>\n",
       "      <td>0.000115</td>\n",
       "      <td>0.000037</td>\n",
       "      <td>0.702812</td>\n",
       "      <td>...</td>\n",
       "      <td>0.006462</td>\n",
       "      <td>0.010143</td>\n",
       "      <td>0.002913</td>\n",
       "      <td>0.055779</td>\n",
       "      <td>0.050443</td>\n",
       "      <td>0.028343</td>\n",
       "      <td>0.004105</td>\n",
       "      <td>0.060475</td>\n",
       "      <td>0.065569</td>\n",
       "      <td>0.137657</td>\n",
       "    </tr>\n",
       "    <tr>\n",
       "      <th>std</th>\n",
       "      <td>4.219675e+05</td>\n",
       "      <td>0.194624</td>\n",
       "      <td>3.683626</td>\n",
       "      <td>0.0</td>\n",
       "      <td>12.752652</td>\n",
       "      <td>0.499913</td>\n",
       "      <td>1.936859e+05</td>\n",
       "      <td>0.010727</td>\n",
       "      <td>0.006047</td>\n",
       "      <td>0.457020</td>\n",
       "      <td>...</td>\n",
       "      <td>0.080128</td>\n",
       "      <td>0.100201</td>\n",
       "      <td>0.053891</td>\n",
       "      <td>0.229495</td>\n",
       "      <td>0.218857</td>\n",
       "      <td>0.165952</td>\n",
       "      <td>0.063935</td>\n",
       "      <td>0.238364</td>\n",
       "      <td>0.247528</td>\n",
       "      <td>0.344540</td>\n",
       "    </tr>\n",
       "    <tr>\n",
       "      <th>min</th>\n",
       "      <td>1.588900e+04</td>\n",
       "      <td>0.000000</td>\n",
       "      <td>1.000000</td>\n",
       "      <td>1.0</td>\n",
       "      <td>1.000000</td>\n",
       "      <td>0.000000</td>\n",
       "      <td>1.202730e+03</td>\n",
       "      <td>0.000000</td>\n",
       "      <td>0.000000</td>\n",
       "      <td>0.000000</td>\n",
       "      <td>...</td>\n",
       "      <td>0.000000</td>\n",
       "      <td>0.000000</td>\n",
       "      <td>0.000000</td>\n",
       "      <td>0.000000</td>\n",
       "      <td>0.000000</td>\n",
       "      <td>0.000000</td>\n",
       "      <td>0.000000</td>\n",
       "      <td>0.000000</td>\n",
       "      <td>0.000000</td>\n",
       "      <td>0.000000</td>\n",
       "    </tr>\n",
       "    <tr>\n",
       "      <th>25%</th>\n",
       "      <td>4.196830e+05</td>\n",
       "      <td>0.000000</td>\n",
       "      <td>1.000000</td>\n",
       "      <td>1.0</td>\n",
       "      <td>15.000000</td>\n",
       "      <td>0.000000</td>\n",
       "      <td>6.903816e+04</td>\n",
       "      <td>0.000000</td>\n",
       "      <td>0.000000</td>\n",
       "      <td>0.000000</td>\n",
       "      <td>...</td>\n",
       "      <td>0.000000</td>\n",
       "      <td>0.000000</td>\n",
       "      <td>0.000000</td>\n",
       "      <td>0.000000</td>\n",
       "      <td>0.000000</td>\n",
       "      <td>0.000000</td>\n",
       "      <td>0.000000</td>\n",
       "      <td>0.000000</td>\n",
       "      <td>0.000000</td>\n",
       "      <td>0.000000</td>\n",
       "    </tr>\n",
       "    <tr>\n",
       "      <th>50%</th>\n",
       "      <td>9.216630e+05</td>\n",
       "      <td>0.000000</td>\n",
       "      <td>1.000000</td>\n",
       "      <td>1.0</td>\n",
       "      <td>28.000000</td>\n",
       "      <td>0.000000</td>\n",
       "      <td>1.021412e+05</td>\n",
       "      <td>0.000000</td>\n",
       "      <td>0.000000</td>\n",
       "      <td>1.000000</td>\n",
       "      <td>...</td>\n",
       "      <td>0.000000</td>\n",
       "      <td>0.000000</td>\n",
       "      <td>0.000000</td>\n",
       "      <td>0.000000</td>\n",
       "      <td>0.000000</td>\n",
       "      <td>0.000000</td>\n",
       "      <td>0.000000</td>\n",
       "      <td>0.000000</td>\n",
       "      <td>0.000000</td>\n",
       "      <td>0.000000</td>\n",
       "    </tr>\n",
       "    <tr>\n",
       "      <th>75%</th>\n",
       "      <td>1.169072e+06</td>\n",
       "      <td>0.000000</td>\n",
       "      <td>1.000000</td>\n",
       "      <td>1.0</td>\n",
       "      <td>34.000000</td>\n",
       "      <td>1.000000</td>\n",
       "      <td>1.561983e+05</td>\n",
       "      <td>0.000000</td>\n",
       "      <td>0.000000</td>\n",
       "      <td>1.000000</td>\n",
       "      <td>...</td>\n",
       "      <td>0.000000</td>\n",
       "      <td>0.000000</td>\n",
       "      <td>0.000000</td>\n",
       "      <td>0.000000</td>\n",
       "      <td>0.000000</td>\n",
       "      <td>0.000000</td>\n",
       "      <td>0.000000</td>\n",
       "      <td>0.000000</td>\n",
       "      <td>0.000000</td>\n",
       "      <td>0.000000</td>\n",
       "    </tr>\n",
       "    <tr>\n",
       "      <th>max</th>\n",
       "      <td>1.495484e+06</td>\n",
       "      <td>1.000000</td>\n",
       "      <td>99.000000</td>\n",
       "      <td>1.0</td>\n",
       "      <td>52.000000</td>\n",
       "      <td>1.000000</td>\n",
       "      <td>2.167425e+07</td>\n",
       "      <td>1.000000</td>\n",
       "      <td>1.000000</td>\n",
       "      <td>1.000000</td>\n",
       "      <td>...</td>\n",
       "      <td>1.000000</td>\n",
       "      <td>1.000000</td>\n",
       "      <td>1.000000</td>\n",
       "      <td>1.000000</td>\n",
       "      <td>1.000000</td>\n",
       "      <td>1.000000</td>\n",
       "      <td>1.000000</td>\n",
       "      <td>1.000000</td>\n",
       "      <td>1.000000</td>\n",
       "      <td>1.000000</td>\n",
       "    </tr>\n",
       "  </tbody>\n",
       "</table>\n",
       "<p>8 rows × 31 columns</p>\n",
       "</div>"
      ],
      "text/plain": [
       "           ncodpers      ind_nuevo         indrel   tipodom       cod_prov  \\\n",
       "count  9.297020e+05  925887.000000  925887.000000  925887.0  920887.000000   \n",
       "mean   8.050891e+05       0.039434       1.138656       1.0      26.540067   \n",
       "std    4.219675e+05       0.194624       3.683626       0.0      12.752652   \n",
       "min    1.588900e+04       0.000000       1.000000       1.0       1.000000   \n",
       "25%    4.196830e+05       0.000000       1.000000       1.0      15.000000   \n",
       "50%    9.216630e+05       0.000000       1.000000       1.0      28.000000   \n",
       "75%    1.169072e+06       0.000000       1.000000       1.0      34.000000   \n",
       "max    1.495484e+06       1.000000      99.000000       1.0      52.000000   \n",
       "\n",
       "       ind_actividad_cliente         renta  ind_ahor_fin_ult1  \\\n",
       "count          925887.000000  7.626410e+05      929702.000000   \n",
       "mean                0.490668  1.332838e+05           0.000115   \n",
       "std                 0.499913  1.936859e+05           0.010727   \n",
       "min                 0.000000  1.202730e+03           0.000000   \n",
       "25%                 0.000000  6.903816e+04           0.000000   \n",
       "50%                 0.000000  1.021412e+05           0.000000   \n",
       "75%                 1.000000  1.561983e+05           0.000000   \n",
       "max                 1.000000  2.167425e+07           1.000000   \n",
       "\n",
       "       ind_aval_fin_ult1  ind_cco_fin_ult1       ...         ind_hip_fin_ult1  \\\n",
       "count      929702.000000     929702.000000       ...            929702.000000   \n",
       "mean            0.000037          0.702812       ...                 0.006462   \n",
       "std             0.006047          0.457020       ...                 0.080128   \n",
       "min             0.000000          0.000000       ...                 0.000000   \n",
       "25%             0.000000          0.000000       ...                 0.000000   \n",
       "50%             0.000000          1.000000       ...                 0.000000   \n",
       "75%             0.000000          1.000000       ...                 0.000000   \n",
       "max             1.000000          1.000000       ...                 1.000000   \n",
       "\n",
       "       ind_plan_fin_ult1  ind_pres_fin_ult1  ind_reca_fin_ult1  \\\n",
       "count      929702.000000      929702.000000      929702.000000   \n",
       "mean            0.010143           0.002913           0.055779   \n",
       "std             0.100201           0.053891           0.229495   \n",
       "min             0.000000           0.000000           0.000000   \n",
       "25%             0.000000           0.000000           0.000000   \n",
       "50%             0.000000           0.000000           0.000000   \n",
       "75%             0.000000           0.000000           0.000000   \n",
       "max             1.000000           1.000000           1.000000   \n",
       "\n",
       "       ind_tjcr_fin_ult1  ind_valo_fin_ult1  ind_viv_fin_ult1  \\\n",
       "count      929702.000000      929702.000000     929702.000000   \n",
       "mean            0.050443           0.028343          0.004105   \n",
       "std             0.218857           0.165952          0.063935   \n",
       "min             0.000000           0.000000          0.000000   \n",
       "25%             0.000000           0.000000          0.000000   \n",
       "50%             0.000000           0.000000          0.000000   \n",
       "75%             0.000000           0.000000          0.000000   \n",
       "max             1.000000           1.000000          1.000000   \n",
       "\n",
       "       ind_nomina_ult1  ind_nom_pens_ult1  ind_recibo_ult1  \n",
       "count    927432.000000      927432.000000    929702.000000  \n",
       "mean          0.060475           0.065569         0.137657  \n",
       "std           0.238364           0.247528         0.344540  \n",
       "min           0.000000           0.000000         0.000000  \n",
       "25%           0.000000           0.000000         0.000000  \n",
       "50%           0.000000           0.000000         0.000000  \n",
       "75%           0.000000           0.000000         0.000000  \n",
       "max           1.000000           1.000000         1.000000  \n",
       "\n",
       "[8 rows x 31 columns]"
      ]
     },
     "execution_count": 5,
     "metadata": {},
     "output_type": "execute_result"
    }
   ],
   "source": [
    "limit_people = 120000\n",
    "unique_id = unique_ids.sample(limit_people)\n",
    "df = df[df.ncodpers.isin(unique_id)]\n",
    "df.describe()"
   ]
  },
  {
   "cell_type": "markdown",
   "metadata": {},
   "source": [
    "Convert datatime"
   ]
  },
  {
   "cell_type": "code",
   "execution_count": 6,
   "metadata": {},
   "outputs": [],
   "source": [
    "df['fecha_dato'] = pd.to_datetime(df['fecha_dato'], format='%Y-%m-%d')\n",
    "df['fecha_alta'] = pd.to_datetime(df['fecha_alta'], format='%Y-%m-%d')"
   ]
  },
  {
   "cell_type": "markdown",
   "metadata": {},
   "source": [
    "Month of samples"
   ]
  },
  {
   "cell_type": "code",
   "execution_count": 7,
   "metadata": {},
   "outputs": [],
   "source": [
    "df['month'] = pd.DatetimeIndex(df['fecha_dato']).month"
   ]
  },
  {
   "cell_type": "code",
   "execution_count": 8,
   "metadata": {},
   "outputs": [],
   "source": [
    "df.age = pd.to_numeric(df.age, errors='coerce')"
   ]
  },
  {
   "cell_type": "markdown",
   "metadata": {},
   "source": [
    "Missing values of each column"
   ]
  },
  {
   "cell_type": "code",
   "execution_count": 9,
   "metadata": {},
   "outputs": [
    {
     "data": {
      "text/plain": [
       "fecha_dato               False\n",
       "ncodpers                 False\n",
       "ind_empleado              True\n",
       "pais_residencia           True\n",
       "sexo                      True\n",
       "age                       True\n",
       "fecha_alta                True\n",
       "ind_nuevo                 True\n",
       "antiguedad               False\n",
       "indrel                    True\n",
       "ult_fec_cli_1t            True\n",
       "indrel_1mes               True\n",
       "tiprel_1mes               True\n",
       "indresi                   True\n",
       "indext                    True\n",
       "conyuemp                  True\n",
       "canal_entrada             True\n",
       "indfall                   True\n",
       "tipodom                   True\n",
       "cod_prov                  True\n",
       "nomprov                   True\n",
       "ind_actividad_cliente     True\n",
       "renta                     True\n",
       "segmento                  True\n",
       "ind_ahor_fin_ult1        False\n",
       "ind_aval_fin_ult1        False\n",
       "ind_cco_fin_ult1         False\n",
       "ind_cder_fin_ult1        False\n",
       "ind_cno_fin_ult1         False\n",
       "ind_ctju_fin_ult1        False\n",
       "ind_ctma_fin_ult1        False\n",
       "ind_ctop_fin_ult1        False\n",
       "ind_ctpp_fin_ult1        False\n",
       "ind_deco_fin_ult1        False\n",
       "ind_deme_fin_ult1        False\n",
       "ind_dela_fin_ult1        False\n",
       "ind_ecue_fin_ult1        False\n",
       "ind_fond_fin_ult1        False\n",
       "ind_hip_fin_ult1         False\n",
       "ind_plan_fin_ult1        False\n",
       "ind_pres_fin_ult1        False\n",
       "ind_reca_fin_ult1        False\n",
       "ind_tjcr_fin_ult1        False\n",
       "ind_valo_fin_ult1        False\n",
       "ind_viv_fin_ult1         False\n",
       "ind_nomina_ult1           True\n",
       "ind_nom_pens_ult1         True\n",
       "ind_recibo_ult1          False\n",
       "month                    False\n",
       "dtype: bool"
      ]
     },
     "execution_count": 9,
     "metadata": {},
     "output_type": "execute_result"
    }
   ],
   "source": [
    "df.isnull().any()"
   ]
  },
  {
   "cell_type": "markdown",
   "metadata": {},
   "source": [
    "## Data Cleaning"
   ]
  },
  {
   "cell_type": "markdown",
   "metadata": {},
   "source": [
    "`age`\n",
    "\n",
    "**Note the threshold of age groups might be improved**"
   ]
  },
  {
   "cell_type": "code",
   "execution_count": 10,
   "metadata": {},
   "outputs": [
    {
     "name": "stderr",
     "output_type": "stream",
     "text": [
      "C:\\Users\\elunden\\AppData\\Local\\Continuum\\anaconda3\\lib\\site-packages\\matplotlib\\axes\\_axes.py:6462: UserWarning: The 'normed' kwarg is deprecated, and has been replaced by the 'density' kwarg.\n",
      "  warnings.warn(\"The 'normed' kwarg is deprecated, and has been \"\n"
     ]
    },
    {
     "data": {
      "image/png": "[encoded data removed]",
      "text/plain": [
       "<Figure size 1152x648 with 1 Axes>"
      ]
     },
     "metadata": {},
     "output_type": "display_data"
    }
   ],
   "source": [
    "with sns.plotting_context(\"notebook\",font_scale=1.5):\n",
    "    plt.figure(figsize=(16, 9))\n",
    "    sns.set_style(\"whitegrid\")\n",
    "    sns.distplot(df[\"age\"].dropna(),\n",
    "                 bins=80,\n",
    "                 kde=False,\n",
    "                 color=\"tomato\")\n",
    "    plt.title(\"Age Distribution\")\n",
    "    plt.ylabel(\"Count\")"
   ]
  },
  {
   "cell_type": "code",
   "execution_count": 11,
   "metadata": {},
   "outputs": [],
   "source": [
    "df.loc[df.age<18, 'age'] = df.loc[(df.age>=18) & (df.age<30), 'age'].mean(skipna=True)\n",
    "df.loc[df.age>100, 'age'] = df.loc[(df.age>=30) & (df.age<100), 'age'].mean(skipna=True)\n",
    "df.age.fillna(df.age.mean(), inplace=True)\n",
    "df.age = df.age.astype(np.int8)"
   ]
  },
  {
   "cell_type": "code",
   "execution_count": 12,
   "metadata": {},
   "outputs": [
    {
     "name": "stderr",
     "output_type": "stream",
     "text": [
      "C:\\Users\\elunden\\AppData\\Local\\Continuum\\anaconda3\\lib\\site-packages\\matplotlib\\axes\\_axes.py:6462: UserWarning: The 'normed' kwarg is deprecated, and has been replaced by the 'density' kwarg.\n",
      "  warnings.warn(\"The 'normed' kwarg is deprecated, and has been \"\n"
     ]
    },
    {
     "data": {
      "image/png": "[encoded data removed]",
      "text/plain": [
       "<Figure size 1152x648 with 1 Axes>"
      ]
     },
     "metadata": {},
     "output_type": "display_data"
    }
   ],
   "source": [
    "with sns.plotting_context(\"notebook\",font_scale=1.5):\n",
    "    plt.figure(figsize=(16, 9))\n",
    "    sns.set_style(\"whitegrid\")\n",
    "    sns.distplot(df[\"age\"].dropna(),\n",
    "                 bins=80,\n",
    "                 kde=False,\n",
    "                 color=\"tomato\")\n",
    "    plt.title(\"Age Distribution\")\n",
    "    plt.ylabel(\"Count\")\n",
    "    plt.xlim((15,100))"
   ]
  },
  {
   "cell_type": "markdown",
   "metadata": {},
   "source": [
    "`ind_nuevo`, if a customer is new or not\n",
    "\n",
    "**Note that `ind_nuevo` should be a function of `fecha_dato` and `fecha_alta`**"
   ]
  },
  {
   "cell_type": "code",
   "execution_count": 13,
   "metadata": {},
   "outputs": [
    {
     "data": {
      "text/plain": [
       "Index(['fecha_dato', 'ncodpers', 'ind_empleado', 'pais_residencia', 'sexo',\n",
       "       'age', 'fecha_alta', 'ind_nuevo', 'antiguedad', 'indrel',\n",
       "       'ult_fec_cli_1t', 'indrel_1mes', 'tiprel_1mes', 'indresi', 'indext',\n",
       "       'conyuemp', 'canal_entrada', 'indfall', 'tipodom', 'cod_prov',\n",
       "       'nomprov', 'ind_actividad_cliente', 'renta', 'segmento',\n",
       "       'ind_ahor_fin_ult1', 'ind_aval_fin_ult1', 'ind_cco_fin_ult1',\n",
       "       'ind_cder_fin_ult1', 'ind_cno_fin_ult1', 'ind_ctju_fin_ult1',\n",
       "       'ind_ctma_fin_ult1', 'ind_ctop_fin_ult1', 'ind_ctpp_fin_ult1',\n",
       "       'ind_deco_fin_ult1', 'ind_deme_fin_ult1', 'ind_dela_fin_ult1',\n",
       "       'ind_ecue_fin_ult1', 'ind_fond_fin_ult1', 'ind_hip_fin_ult1',\n",
       "       'ind_plan_fin_ult1', 'ind_pres_fin_ult1', 'ind_reca_fin_ult1',\n",
       "       'ind_tjcr_fin_ult1', 'ind_valo_fin_ult1', 'ind_viv_fin_ult1',\n",
       "       'ind_nomina_ult1', 'ind_nom_pens_ult1', 'ind_recibo_ult1', 'month'],\n",
       "      dtype='object')"
      ]
     },
     "execution_count": 13,
     "metadata": {},
     "output_type": "execute_result"
    }
   ],
   "source": [
    "df.columns"
   ]
  },
  {
   "cell_type": "code",
   "execution_count": 14,
   "metadata": {},
   "outputs": [
    {
     "data": {
      "text/plain": [
       "6"
      ]
     },
     "execution_count": 14,
     "metadata": {},
     "output_type": "execute_result"
    }
   ],
   "source": [
    "date_first_active = df.loc[df.ind_nuevo.isnull(), :].groupby('ncodpers', sort=False)['fecha_dato'].size()\n",
    "date_first_active.max()"
   ]
  },
  {
   "cell_type": "code",
   "execution_count": 15,
   "metadata": {},
   "outputs": [],
   "source": [
    "df.loc[df.ind_nuevo.isnull(), 'ind_nuevo'] = 1"
   ]
  },
  {
   "cell_type": "code",
   "execution_count": 16,
   "metadata": {},
   "outputs": [
    {
     "data": {
      "text/plain": [
       "0"
      ]
     },
     "execution_count": 16,
     "metadata": {},
     "output_type": "execute_result"
    }
   ],
   "source": [
    "df.ind_nuevo.isnull().sum()"
   ]
  },
  {
   "cell_type": "markdown",
   "metadata": {},
   "source": [
    "`antiguedad` Customer seniority (in months)"
   ]
  },
  {
   "cell_type": "code",
   "execution_count": 17,
   "metadata": {},
   "outputs": [
    {
     "data": {
      "text/plain": [
       "array(['     35', '     31', '     21', '     NA', '     34', '      8',\n",
       "       '     10', '     29', '     14', '     22', '     33', '     20',\n",
       "       '     13', '    157', '     32', '     36', '     27', '     19',\n",
       "       '     38', '     37', '     17', '     39', '     18', '     26',\n",
       "       '      7', '     11', '      4', '     24', '      9', '     30',\n",
       "       '     28', '     16', '      6', '     23', '     25', '     12',\n",
       "       '     47', '     44', '     45', '     46', '     57', '     52',\n",
       "       '     58', '     48', '     56', '     49', '     54', '     51',\n",
       "       '     59', '     42', '     50', '     53', '     55', '     43',\n",
       "       '     41', '     62', '     61', '     15', '     63', '     60',\n",
       "       '     40', '      3', '      1', '      2', '      5', '    118',\n",
       "       '    165', '    143', '    161', '    160', '    115', '    156',\n",
       "       '    121', '    164', '    100', '    163', '    162', '    113',\n",
       "       '    141', '    135', '    148', '    140', '    155', '     85',\n",
       "       '    151', '    159', '    154', '    125', '    117', '    144',\n",
       "       '    169', '    122', '    114', '    131', '    111', '    147',\n",
       "       '    136', '     66', '    105', '    158', '    107', '    231',\n",
       "       '    150', '     88', '    102', '    166', '    137', '    110',\n",
       "       '     77', '    167', '    146', '    209', '    149', '    152',\n",
       "       '     98', '    127', '     80', '    153', '     81', '    168',\n",
       "       '    138', '     94', '     83', '     73', '    172', '     72',\n",
       "       '    133', '    104', '    145', '    142', '     96', '    116',\n",
       "       '    109', '    126', '    130', '     64', '     89', '     95',\n",
       "       '     87', '     82', '     90', '     99', '    182', '    176',\n",
       "       '     65', '    213', '     78', '    112', '    129', '    134',\n",
       "       '     93', '    123', '    124', '    132', '    128', '     97',\n",
       "       '    139', '    108', '    119', '    171', '    170', '     86',\n",
       "       '     76', '     68', '    194', '     69', '     79', '     70',\n",
       "       '    181', '    174', '     75', '    173', '    103', '    178',\n",
       "       '    120', '    177', '    106', '    180', '    188', '    199',\n",
       "       '    216', '    224', '      0', '     71', '    101', '    195',\n",
       "       '    179', '     74', '     67', '     91', '    193', '    217',\n",
       "       '    191', '    220', '    201', '    186', '    222', '     92',\n",
       "       '    184', '    210', '    206', '    197', '    208', '    205',\n",
       "       '    207', '    211', '    192', '     84', '    202', '    203',\n",
       "       '    198', '    185', '    190', '    183', '    204', '    196',\n",
       "       '    212', '    187', '    200', '    175', '    214', '    215',\n",
       "       '    189', '    221', '    218', '    243', '    238', '    233',\n",
       "       '    236', '    225', '    228', '    232', '    234', '    229',\n",
       "       '    230', '    223', '    235', '    219', '    226', '    227',\n",
       "       '    241', '    240', '    237', '    239', '    244', '    242',\n",
       "       '    246', '    245', 105, 104, 35, 7, 79, 103, 102, 96, 83, 98,\n",
       "       20, 84, 68, 86, 37, 29, 53, 15, 51, 101, 52, 93, 81, 64, 47, 63,\n",
       "       49, 87, 25, 16, 21, 13, 10, 9, 66, 71, 12, 75, 50, 144, 100, 85,\n",
       "       88, 82, 8, 80, 24, 108, 111, 4, 110, 1, 94, 99, 2, 41, 109, 112,\n",
       "       106, 32, 76, 74, 90, 107, 55, 72, 77, 78, 6, 59, 113, 18, 46, 65,\n",
       "       3, 11, 22, 61, 14, 5, 97, 95, 33, 48, 67, 73, 58, 38, 44, 62, 0,\n",
       "       39, 43, 134, 57, 30, 56, 89, 45, 42, 92, 54, 40, 19, 26, 27, 69,\n",
       "       17, 60, 70, 91, 36, 34, 28, 31, 127, 126, 123, 119, 165, 129, 114,\n",
       "       118, 120, 202, 128, 122, 117, 145, 125, 124, 179, 163, 121, 115,\n",
       "       136, 133, 132, 149, 131, 130, 190, 143, 141, 210, 116, 152, 23,\n",
       "       238, 159, 184, 175, 151, 137, 171, 182, 181, 185, 168, 187, 183,\n",
       "       164, 156, 161, 205, 174, 172, 162, 170, 178, 135, 154, 186, 146,\n",
       "       188, 166, 153, 142, 173, 148, 176, 189, 180, 147, 197, 177, 198,\n",
       "       150, 160, 140, 157, 204, 196, 231, 206, 193, 191, 192, 167, 139,\n",
       "       199, 194, 203, 158, 195, 169, 201, 209, 220, 138, 222, 155, 212,\n",
       "       207, 241, 237, 230, 225, 219, 221, 217, 218, 213, 223, 211, 239,\n",
       "       214, 216, 215, 200, 224, 226, 208, 229, 227, 232, 236, 234, 235,\n",
       "       233, 228, 242, 240, 243, 244, 246, 245, 247, 248, 249],\n",
       "      dtype=object)"
      ]
     },
     "execution_count": 17,
     "metadata": {},
     "output_type": "execute_result"
    }
   ],
   "source": [
    "df.antiguedad.unique()"
   ]
  },
  {
   "cell_type": "code",
   "execution_count": 18,
   "metadata": {},
   "outputs": [
    {
     "data": {
      "text/plain": [
       "3815"
      ]
     },
     "execution_count": 18,
     "metadata": {},
     "output_type": "execute_result"
    }
   ],
   "source": [
    "df.antiguedad = pd.to_numeric(df.antiguedad, errors='coerce')\n",
    "np.sum(df.antiguedad.isnull())"
   ]
  },
  {
   "cell_type": "markdown",
   "metadata": {},
   "source": [
    "The number of nulls in `antiguedad` is the same as `ind_nuevo`, maybe it's the same group of customers\n",
    "\n",
    "**Note the method below is not strict**"
   ]
  },
  {
   "cell_type": "code",
   "execution_count": 19,
   "metadata": {},
   "outputs": [
    {
     "data": {
      "text/plain": [
       "count    3815.0\n",
       "mean        1.0\n",
       "std         0.0\n",
       "min         1.0\n",
       "25%         1.0\n",
       "50%         1.0\n",
       "75%         1.0\n",
       "max         1.0\n",
       "Name: ind_nuevo, dtype: float64"
      ]
     },
     "execution_count": 19,
     "metadata": {},
     "output_type": "execute_result"
    }
   ],
   "source": [
    "df.loc[df.antiguedad.isnull(), 'ind_nuevo'].describe()"
   ]
  },
  {
   "cell_type": "code",
   "execution_count": 20,
   "metadata": {},
   "outputs": [],
   "source": [
    "df.loc[df.antiguedad.isnull(), 'antiguedad'] = df.antiguedad.min()\n",
    "df.loc[df.antiguedad<0, 'antiguedad'] = 0"
   ]
  },
  {
   "cell_type": "code",
   "execution_count": 21,
   "metadata": {},
   "outputs": [
    {
     "data": {
      "text/plain": [
       "0"
      ]
     },
     "execution_count": 21,
     "metadata": {},
     "output_type": "execute_result"
    }
   ],
   "source": [
    "df.antiguedad.isnull().sum()"
   ]
  },
  {
   "cell_type": "markdown",
   "metadata": {},
   "source": [
    "`fecha_alta` The date in which the customer became as the first holder of a contract in the bank.\n",
    "\n",
    "Note this is the same group of customers"
   ]
  },
  {
   "cell_type": "code",
   "execution_count": 22,
   "metadata": {},
   "outputs": [
    {
     "data": {
      "text/plain": [
       "3815"
      ]
     },
     "execution_count": 22,
     "metadata": {},
     "output_type": "execute_result"
    }
   ],
   "source": [
    "df.fecha_alta.isnull().sum()"
   ]
  },
  {
   "cell_type": "code",
   "execution_count": 23,
   "metadata": {},
   "outputs": [],
   "source": [
    "dates = df.loc[:, 'fecha_alta'].sort_values().reset_index()"
   ]
  },
  {
   "cell_type": "code",
   "execution_count": 24,
   "metadata": {},
   "outputs": [],
   "source": [
    "median_date = int(np.median(dates.index.values))"
   ]
  },
  {
   "cell_type": "code",
   "execution_count": 25,
   "metadata": {},
   "outputs": [],
   "source": [
    "df.loc[df.fecha_alta.isnull(), 'fecha_alta'] = dates.loc[median_date, 'fecha_alta']"
   ]
  },
  {
   "cell_type": "code",
   "execution_count": 26,
   "metadata": {},
   "outputs": [
    {
     "data": {
      "text/plain": [
       "count                  929702\n",
       "unique                   6074\n",
       "top       2011-08-04 00:00:00\n",
       "freq                     4820\n",
       "first     1995-01-16 00:00:00\n",
       "last      2015-10-30 00:00:00\n",
       "Name: fecha_alta, dtype: object"
      ]
     },
     "execution_count": 26,
     "metadata": {},
     "output_type": "execute_result"
    }
   ],
   "source": [
    "df.fecha_alta.describe()"
   ]
  },
  {
   "cell_type": "markdown",
   "metadata": {},
   "source": [
    "`indrel` 1 (First/Primary), 99 (Primary customer during the month but not at the end of the month)"
   ]
  },
  {
   "cell_type": "code",
   "execution_count": 27,
   "metadata": {},
   "outputs": [
    {
     "data": {
      "text/plain": [
       "3815"
      ]
     },
     "execution_count": 27,
     "metadata": {},
     "output_type": "execute_result"
    }
   ],
   "source": [
    "df.indrel.isnull().sum()"
   ]
  },
  {
   "cell_type": "code",
   "execution_count": 28,
   "metadata": {},
   "outputs": [],
   "source": [
    "df.loc[df.indrel.isnull(), 'indrel'] = 1"
   ]
  },
  {
   "cell_type": "code",
   "execution_count": 29,
   "metadata": {},
   "outputs": [],
   "source": [
    "df.indrel = df.indrel.astype(np.int8)"
   ]
  },
  {
   "cell_type": "markdown",
   "metadata": {},
   "source": [
    "`tipodom` Addres type. 1, primary address cod_prov - Province code (customer's address)"
   ]
  },
  {
   "cell_type": "code",
   "execution_count": 30,
   "metadata": {},
   "outputs": [
    {
     "data": {
      "text/plain": [
       "3815"
      ]
     },
     "execution_count": 30,
     "metadata": {},
     "output_type": "execute_result"
    }
   ],
   "source": [
    "df.tipodom.isnull().sum()"
   ]
  },
  {
   "cell_type": "code",
   "execution_count": 31,
   "metadata": {},
   "outputs": [],
   "source": [
    "df.drop(['tipodom'], axis=1, inplace=True)"
   ]
  },
  {
   "cell_type": "markdown",
   "metadata": {},
   "source": [
    "`cod_prov` Province code (customer's address)"
   ]
  },
  {
   "cell_type": "code",
   "execution_count": 32,
   "metadata": {},
   "outputs": [
    {
     "data": {
      "text/plain": [
       "array([10., 50., 17., 45., 37.,  8., 22.,  3., 28., 27., 16., 36., 48.,\n",
       "       46., 15., 39., 13., 20., 49., 11.,  2., 44., 29., 32.,  9., 14.,\n",
       "       41., 30., 47., 34.,  6., 35., 43., 24., 21., 18., 40., 25., 23.,\n",
       "       12., nan, 33.,  7.,  1., 19., 26.,  4., 42.,  5., 31., 52., 38.,\n",
       "       51.])"
      ]
     },
     "execution_count": 32,
     "metadata": {},
     "output_type": "execute_result"
    }
   ],
   "source": [
    "df.cod_prov.unique()"
   ]
  },
  {
   "cell_type": "code",
   "execution_count": 33,
   "metadata": {},
   "outputs": [
    {
     "data": {
      "text/plain": [
       "8815"
      ]
     },
     "execution_count": 33,
     "metadata": {},
     "output_type": "execute_result"
    }
   ],
   "source": [
    "df.cod_prov.isnull().sum()"
   ]
  },
  {
   "cell_type": "code",
   "execution_count": 34,
   "metadata": {},
   "outputs": [],
   "source": [
    "#df.drop(['cod_prov'], axis=1, inplace=True)"
   ]
  },
  {
   "cell_type": "markdown",
   "metadata": {},
   "source": [
    "Check missing values"
   ]
  },
  {
   "cell_type": "code",
   "execution_count": 35,
   "metadata": {},
   "outputs": [
    {
     "data": {
      "text/plain": [
       "fecha_dato               False\n",
       "ncodpers                 False\n",
       "ind_empleado              True\n",
       "pais_residencia           True\n",
       "sexo                      True\n",
       "age                      False\n",
       "fecha_alta               False\n",
       "ind_nuevo                False\n",
       "antiguedad               False\n",
       "indrel                   False\n",
       "ult_fec_cli_1t            True\n",
       "indrel_1mes               True\n",
       "tiprel_1mes               True\n",
       "indresi                   True\n",
       "indext                    True\n",
       "conyuemp                  True\n",
       "canal_entrada             True\n",
       "indfall                   True\n",
       "cod_prov                  True\n",
       "nomprov                   True\n",
       "ind_actividad_cliente     True\n",
       "renta                     True\n",
       "segmento                  True\n",
       "ind_ahor_fin_ult1        False\n",
       "ind_aval_fin_ult1        False\n",
       "ind_cco_fin_ult1         False\n",
       "ind_cder_fin_ult1        False\n",
       "ind_cno_fin_ult1         False\n",
       "ind_ctju_fin_ult1        False\n",
       "ind_ctma_fin_ult1        False\n",
       "ind_ctop_fin_ult1        False\n",
       "ind_ctpp_fin_ult1        False\n",
       "ind_deco_fin_ult1        False\n",
       "ind_deme_fin_ult1        False\n",
       "ind_dela_fin_ult1        False\n",
       "ind_ecue_fin_ult1        False\n",
       "ind_fond_fin_ult1        False\n",
       "ind_hip_fin_ult1         False\n",
       "ind_plan_fin_ult1        False\n",
       "ind_pres_fin_ult1        False\n",
       "ind_reca_fin_ult1        False\n",
       "ind_tjcr_fin_ult1        False\n",
       "ind_valo_fin_ult1        False\n",
       "ind_viv_fin_ult1         False\n",
       "ind_nomina_ult1           True\n",
       "ind_nom_pens_ult1         True\n",
       "ind_recibo_ult1          False\n",
       "month                    False\n",
       "dtype: bool"
      ]
     },
     "execution_count": 35,
     "metadata": {},
     "output_type": "execute_result"
    }
   ],
   "source": [
    "df.isnull().any()"
   ]
  },
  {
   "cell_type": "markdown",
   "metadata": {},
   "source": [
    "`ind_activadad_cliente` Activity index (1, active customer; 0, inactive customer)"
   ]
  },
  {
   "cell_type": "code",
   "execution_count": 36,
   "metadata": {},
   "outputs": [
    {
     "data": {
      "text/plain": [
       "array([ 0.,  1., nan])"
      ]
     },
     "execution_count": 36,
     "metadata": {},
     "output_type": "execute_result"
    }
   ],
   "source": [
    "df.ind_actividad_cliente.unique()"
   ]
  },
  {
   "cell_type": "code",
   "execution_count": 37,
   "metadata": {},
   "outputs": [
    {
     "data": {
      "text/plain": [
       "3815"
      ]
     },
     "execution_count": 37,
     "metadata": {},
     "output_type": "execute_result"
    }
   ],
   "source": [
    "df.ind_actividad_cliente.isnull().sum()"
   ]
  },
  {
   "cell_type": "code",
   "execution_count": 38,
   "metadata": {},
   "outputs": [],
   "source": [
    "df.loc[df.ind_actividad_cliente.isnull(), 'ind_actividad_cliente'] = df.ind_actividad_cliente.median()"
   ]
  },
  {
   "cell_type": "code",
   "execution_count": 39,
   "metadata": {},
   "outputs": [
    {
     "data": {
      "text/plain": [
       "0.0    475399\n",
       "1.0    454303\n",
       "Name: ind_actividad_cliente, dtype: int64"
      ]
     },
     "execution_count": 39,
     "metadata": {},
     "output_type": "execute_result"
    }
   ],
   "source": [
    "df.ind_actividad_cliente.value_counts()"
   ]
  },
  {
   "cell_type": "markdown",
   "metadata": {},
   "source": [
    "`nomprov` Province name"
   ]
  },
  {
   "cell_type": "code",
   "execution_count": 40,
   "metadata": {},
   "outputs": [
    {
     "data": {
      "text/plain": [
       "array(['CACERES', 'ZARAGOZA', 'GIRONA', 'TOLEDO', 'SALAMANCA',\n",
       "       'BARCELONA', 'HUESCA', 'ALICANTE', 'MADRID', 'LUGO', 'CUENCA',\n",
       "       'PONTEVEDRA', 'BIZKAIA', 'VALENCIA', 'CORUÑA, A', 'CANTABRIA',\n",
       "       'CIUDAD REAL', 'GIPUZKOA', 'ZAMORA', 'CADIZ', 'ALBACETE', 'TERUEL',\n",
       "       'MALAGA', 'OURENSE', 'BURGOS', 'CORDOBA', 'SEVILLA', 'MURCIA',\n",
       "       'VALLADOLID', 'PALENCIA', 'BADAJOZ', 'PALMAS, LAS', 'TARRAGONA',\n",
       "       'LEON', 'HUELVA', 'GRANADA', 'SEGOVIA', 'LERIDA', 'JAEN',\n",
       "       'CASTELLON', nan, 'ASTURIAS', 'BALEARS, ILLES', 'ALAVA',\n",
       "       'GUADALAJARA', 'RIOJA, LA', 'ALMERIA', 'SORIA', 'AVILA', 'NAVARRA',\n",
       "       'MELILLA', 'SANTA CRUZ DE TENERIFE', 'CEUTA'], dtype=object)"
      ]
     },
     "execution_count": 40,
     "metadata": {},
     "output_type": "execute_result"
    }
   ],
   "source": [
    "df.nomprov.unique()"
   ]
  },
  {
   "cell_type": "markdown",
   "metadata": {},
   "source": [
    "There was an issue with the unicode character ñ in A Coruña. I'll manually fix it, but if anybody knows a better way to catch cases like this I would be very glad to hear it in the comments."
   ]
  },
  {
   "cell_type": "code",
   "execution_count": 41,
   "metadata": {},
   "outputs": [],
   "source": [
    "df.loc[df.nomprov==\"CORU\\xc3\\x91A, A\",\"nomprov\"] = \"CORUNA, A\""
   ]
  },
  {
   "cell_type": "code",
   "execution_count": 42,
   "metadata": {},
   "outputs": [],
   "source": [
    "df.loc[df.nomprov.isnull(), 'nomprov'] = 'UNKNOWN'"
   ]
  },
  {
   "cell_type": "markdown",
   "metadata": {},
   "source": [
    "`renta` Gross income of the household"
   ]
  },
  {
   "cell_type": "code",
   "execution_count": 43,
   "metadata": {},
   "outputs": [
    {
     "data": {
      "text/plain": [
       "167061"
      ]
     },
     "execution_count": 43,
     "metadata": {},
     "output_type": "execute_result"
    }
   ],
   "source": [
    "df.renta.isnull().sum()"
   ]
  },
  {
   "cell_type": "markdown",
   "metadata": {},
   "source": [
    "Maybe fillna with regional median"
   ]
  },
  {
   "cell_type": "code",
   "execution_count": 44,
   "metadata": {},
   "outputs": [],
   "source": [
    "incomes = df.loc[df.renta.notnull(), :].groupby('nomprov')['renta'].agg([np.median, np.std, np.mean])"
   ]
  },
  {
   "cell_type": "code",
   "execution_count": 45,
   "metadata": {},
   "outputs": [],
   "source": [
    "incomes.columns = ['MedianIncome', 'StdIncome', 'MeanIncome']\n",
    "incomes.sort_values('MedianIncome', ascending=False, inplace=True)\n",
    "incomes.reset_index(inplace=True)\n",
    "incomes.nomprov = incomes.nomprov.astype('category')"
   ]
  },
  {
   "cell_type": "code",
   "execution_count": 46,
   "metadata": {},
   "outputs": [
    {
     "data": {
      "text/html": [
       "<div>\n",
       "<style scoped>\n",
       "    .dataframe tbody tr th:only-of-type {\n",
       "        vertical-align: middle;\n",
       "    }\n",
       "\n",
       "    .dataframe tbody tr th {\n",
       "        vertical-align: top;\n",
       "    }\n",
       "\n",
       "    .dataframe thead th {\n",
       "        text-align: right;\n",
       "    }\n",
       "</style>\n",
       "<table border=\"1\" class=\"dataframe\">\n",
       "  <thead>\n",
       "    <tr style=\"text-align: right;\">\n",
       "      <th></th>\n",
       "      <th>nomprov</th>\n",
       "      <th>MedianIncome</th>\n",
       "      <th>StdIncome</th>\n",
       "      <th>MeanIncome</th>\n",
       "    </tr>\n",
       "  </thead>\n",
       "  <tbody>\n",
       "    <tr>\n",
       "      <th>0</th>\n",
       "      <td>NAVARRA</td>\n",
       "      <td>276913.860</td>\n",
       "      <td>132671.679720</td>\n",
       "      <td>200315.830000</td>\n",
       "    </tr>\n",
       "    <tr>\n",
       "      <th>1</th>\n",
       "      <td>BIZKAIA</td>\n",
       "      <td>160481.340</td>\n",
       "      <td>NaN</td>\n",
       "      <td>160481.340000</td>\n",
       "    </tr>\n",
       "    <tr>\n",
       "      <th>2</th>\n",
       "      <td>MADRID</td>\n",
       "      <td>139630.800</td>\n",
       "      <td>247768.372074</td>\n",
       "      <td>176332.784407</td>\n",
       "    </tr>\n",
       "    <tr>\n",
       "      <th>3</th>\n",
       "      <td>CEUTA</td>\n",
       "      <td>136678.050</td>\n",
       "      <td>261683.387333</td>\n",
       "      <td>199874.494790</td>\n",
       "    </tr>\n",
       "    <tr>\n",
       "      <th>4</th>\n",
       "      <td>BARCELONA</td>\n",
       "      <td>131202.450</td>\n",
       "      <td>142320.266592</td>\n",
       "      <td>163516.119058</td>\n",
       "    </tr>\n",
       "    <tr>\n",
       "      <th>5</th>\n",
       "      <td>BALEARS, ILLES</td>\n",
       "      <td>130905.570</td>\n",
       "      <td>799980.934906</td>\n",
       "      <td>205819.991836</td>\n",
       "    </tr>\n",
       "    <tr>\n",
       "      <th>6</th>\n",
       "      <td>MELILLA</td>\n",
       "      <td>117765.690</td>\n",
       "      <td>66682.256888</td>\n",
       "      <td>133519.080991</td>\n",
       "    </tr>\n",
       "    <tr>\n",
       "      <th>7</th>\n",
       "      <td>GIRONA</td>\n",
       "      <td>110711.460</td>\n",
       "      <td>190089.240337</td>\n",
       "      <td>151066.722362</td>\n",
       "    </tr>\n",
       "    <tr>\n",
       "      <th>8</th>\n",
       "      <td>ZARAGOZA</td>\n",
       "      <td>100612.230</td>\n",
       "      <td>57528.117056</td>\n",
       "      <td>108807.833787</td>\n",
       "    </tr>\n",
       "    <tr>\n",
       "      <th>9</th>\n",
       "      <td>PONTEVEDRA</td>\n",
       "      <td>98160.060</td>\n",
       "      <td>100037.873389</td>\n",
       "      <td>115370.349011</td>\n",
       "    </tr>\n",
       "    <tr>\n",
       "      <th>10</th>\n",
       "      <td>CORUÑA, A</td>\n",
       "      <td>98085.120</td>\n",
       "      <td>67299.751353</td>\n",
       "      <td>111576.796101</td>\n",
       "    </tr>\n",
       "    <tr>\n",
       "      <th>11</th>\n",
       "      <td>MALAGA</td>\n",
       "      <td>97339.020</td>\n",
       "      <td>110861.275138</td>\n",
       "      <td>117768.227971</td>\n",
       "    </tr>\n",
       "    <tr>\n",
       "      <th>12</th>\n",
       "      <td>CANTABRIA</td>\n",
       "      <td>95043.930</td>\n",
       "      <td>84937.453419</td>\n",
       "      <td>119542.545386</td>\n",
       "    </tr>\n",
       "    <tr>\n",
       "      <th>13</th>\n",
       "      <td>SEVILLA</td>\n",
       "      <td>93552.510</td>\n",
       "      <td>217674.136418</td>\n",
       "      <td>119928.959044</td>\n",
       "    </tr>\n",
       "    <tr>\n",
       "      <th>14</th>\n",
       "      <td>GUADALAJARA</td>\n",
       "      <td>93375.420</td>\n",
       "      <td>52061.310100</td>\n",
       "      <td>98120.811750</td>\n",
       "    </tr>\n",
       "    <tr>\n",
       "      <th>15</th>\n",
       "      <td>VALLADOLID</td>\n",
       "      <td>93308.520</td>\n",
       "      <td>50902.980721</td>\n",
       "      <td>100651.240084</td>\n",
       "    </tr>\n",
       "    <tr>\n",
       "      <th>16</th>\n",
       "      <td>RIOJA, LA</td>\n",
       "      <td>92822.790</td>\n",
       "      <td>47284.777406</td>\n",
       "      <td>100216.912463</td>\n",
       "    </tr>\n",
       "    <tr>\n",
       "      <th>17</th>\n",
       "      <td>PALENCIA</td>\n",
       "      <td>88709.640</td>\n",
       "      <td>42519.682671</td>\n",
       "      <td>92149.444543</td>\n",
       "    </tr>\n",
       "    <tr>\n",
       "      <th>18</th>\n",
       "      <td>SALAMANCA</td>\n",
       "      <td>88296.540</td>\n",
       "      <td>57069.123629</td>\n",
       "      <td>96620.064401</td>\n",
       "    </tr>\n",
       "    <tr>\n",
       "      <th>19</th>\n",
       "      <td>TARRAGONA</td>\n",
       "      <td>88204.530</td>\n",
       "      <td>95106.554494</td>\n",
       "      <td>103455.670293</td>\n",
       "    </tr>\n",
       "    <tr>\n",
       "      <th>20</th>\n",
       "      <td>SEGOVIA</td>\n",
       "      <td>88014.210</td>\n",
       "      <td>58691.556918</td>\n",
       "      <td>95978.570206</td>\n",
       "    </tr>\n",
       "    <tr>\n",
       "      <th>21</th>\n",
       "      <td>BURGOS</td>\n",
       "      <td>87989.730</td>\n",
       "      <td>46187.873610</td>\n",
       "      <td>98186.513975</td>\n",
       "    </tr>\n",
       "    <tr>\n",
       "      <th>22</th>\n",
       "      <td>UNKNOWN</td>\n",
       "      <td>87349.440</td>\n",
       "      <td>8438.208244</td>\n",
       "      <td>94975.016000</td>\n",
       "    </tr>\n",
       "    <tr>\n",
       "      <th>23</th>\n",
       "      <td>ASTURIAS</td>\n",
       "      <td>85297.170</td>\n",
       "      <td>57861.005260</td>\n",
       "      <td>98706.102673</td>\n",
       "    </tr>\n",
       "    <tr>\n",
       "      <th>24</th>\n",
       "      <td>GRANADA</td>\n",
       "      <td>81580.410</td>\n",
       "      <td>64150.462931</td>\n",
       "      <td>94849.289370</td>\n",
       "    </tr>\n",
       "    <tr>\n",
       "      <th>25</th>\n",
       "      <td>SANTA CRUZ DE TENERIFE</td>\n",
       "      <td>81070.410</td>\n",
       "      <td>89953.143523</td>\n",
       "      <td>104859.683790</td>\n",
       "    </tr>\n",
       "    <tr>\n",
       "      <th>26</th>\n",
       "      <td>PALMAS, LAS</td>\n",
       "      <td>80830.470</td>\n",
       "      <td>440032.756836</td>\n",
       "      <td>111236.686212</td>\n",
       "    </tr>\n",
       "    <tr>\n",
       "      <th>27</th>\n",
       "      <td>GIPUZKOA</td>\n",
       "      <td>80599.140</td>\n",
       "      <td>0.000000</td>\n",
       "      <td>80599.140000</td>\n",
       "    </tr>\n",
       "    <tr>\n",
       "      <th>28</th>\n",
       "      <td>SORIA</td>\n",
       "      <td>80223.810</td>\n",
       "      <td>34835.211681</td>\n",
       "      <td>87594.408513</td>\n",
       "    </tr>\n",
       "    <tr>\n",
       "      <th>29</th>\n",
       "      <td>LEON</td>\n",
       "      <td>79148.760</td>\n",
       "      <td>102958.340275</td>\n",
       "      <td>96867.693447</td>\n",
       "    </tr>\n",
       "    <tr>\n",
       "      <th>30</th>\n",
       "      <td>ALBACETE</td>\n",
       "      <td>79100.310</td>\n",
       "      <td>34451.113240</td>\n",
       "      <td>83461.919495</td>\n",
       "    </tr>\n",
       "    <tr>\n",
       "      <th>31</th>\n",
       "      <td>CADIZ</td>\n",
       "      <td>78779.430</td>\n",
       "      <td>83897.874036</td>\n",
       "      <td>100383.780662</td>\n",
       "    </tr>\n",
       "    <tr>\n",
       "      <th>32</th>\n",
       "      <td>OURENSE</td>\n",
       "      <td>77737.680</td>\n",
       "      <td>35311.038996</td>\n",
       "      <td>82110.751457</td>\n",
       "    </tr>\n",
       "    <tr>\n",
       "      <th>33</th>\n",
       "      <td>HUESCA</td>\n",
       "      <td>76156.380</td>\n",
       "      <td>83353.973090</td>\n",
       "      <td>91863.575658</td>\n",
       "    </tr>\n",
       "    <tr>\n",
       "      <th>34</th>\n",
       "      <td>TERUEL</td>\n",
       "      <td>75401.790</td>\n",
       "      <td>47429.198907</td>\n",
       "      <td>83569.181403</td>\n",
       "    </tr>\n",
       "    <tr>\n",
       "      <th>35</th>\n",
       "      <td>ZAMORA</td>\n",
       "      <td>74439.690</td>\n",
       "      <td>110248.654480</td>\n",
       "      <td>84504.785888</td>\n",
       "    </tr>\n",
       "    <tr>\n",
       "      <th>36</th>\n",
       "      <td>ALMERIA</td>\n",
       "      <td>72469.470</td>\n",
       "      <td>55074.671250</td>\n",
       "      <td>85941.684440</td>\n",
       "    </tr>\n",
       "    <tr>\n",
       "      <th>37</th>\n",
       "      <td>VALENCIA</td>\n",
       "      <td>72273.030</td>\n",
       "      <td>75646.853498</td>\n",
       "      <td>88662.121787</td>\n",
       "    </tr>\n",
       "    <tr>\n",
       "      <th>38</th>\n",
       "      <td>CUENCA</td>\n",
       "      <td>70926.210</td>\n",
       "      <td>31563.033396</td>\n",
       "      <td>70633.482564</td>\n",
       "    </tr>\n",
       "    <tr>\n",
       "      <th>39</th>\n",
       "      <td>CORDOBA</td>\n",
       "      <td>70651.380</td>\n",
       "      <td>61764.642595</td>\n",
       "      <td>85153.428675</td>\n",
       "    </tr>\n",
       "    <tr>\n",
       "      <th>40</th>\n",
       "      <td>CACERES</td>\n",
       "      <td>70620.150</td>\n",
       "      <td>50563.479279</td>\n",
       "      <td>76649.735448</td>\n",
       "    </tr>\n",
       "    <tr>\n",
       "      <th>41</th>\n",
       "      <td>AVILA</td>\n",
       "      <td>70224.690</td>\n",
       "      <td>33082.948841</td>\n",
       "      <td>76475.246761</td>\n",
       "    </tr>\n",
       "    <tr>\n",
       "      <th>42</th>\n",
       "      <td>ALICANTE</td>\n",
       "      <td>69732.810</td>\n",
       "      <td>78484.950542</td>\n",
       "      <td>85751.972150</td>\n",
       "    </tr>\n",
       "    <tr>\n",
       "      <th>43</th>\n",
       "      <td>TOLEDO</td>\n",
       "      <td>69721.650</td>\n",
       "      <td>66034.750916</td>\n",
       "      <td>81955.198145</td>\n",
       "    </tr>\n",
       "    <tr>\n",
       "      <th>44</th>\n",
       "      <td>HUELVA</td>\n",
       "      <td>69326.640</td>\n",
       "      <td>48807.063601</td>\n",
       "      <td>77172.346578</td>\n",
       "    </tr>\n",
       "    <tr>\n",
       "      <th>45</th>\n",
       "      <td>MURCIA</td>\n",
       "      <td>68143.710</td>\n",
       "      <td>43787.097448</td>\n",
       "      <td>78993.507861</td>\n",
       "    </tr>\n",
       "    <tr>\n",
       "      <th>46</th>\n",
       "      <td>JAEN</td>\n",
       "      <td>67921.530</td>\n",
       "      <td>44294.175951</td>\n",
       "      <td>78661.664015</td>\n",
       "    </tr>\n",
       "    <tr>\n",
       "      <th>47</th>\n",
       "      <td>CASTELLON</td>\n",
       "      <td>66305.445</td>\n",
       "      <td>56914.578523</td>\n",
       "      <td>83313.055395</td>\n",
       "    </tr>\n",
       "    <tr>\n",
       "      <th>48</th>\n",
       "      <td>LERIDA</td>\n",
       "      <td>64666.500</td>\n",
       "      <td>54106.470689</td>\n",
       "      <td>80786.167530</td>\n",
       "    </tr>\n",
       "    <tr>\n",
       "      <th>49</th>\n",
       "      <td>LUGO</td>\n",
       "      <td>64650.540</td>\n",
       "      <td>58161.974677</td>\n",
       "      <td>80878.941727</td>\n",
       "    </tr>\n",
       "    <tr>\n",
       "      <th>50</th>\n",
       "      <td>CIUDAD REAL</td>\n",
       "      <td>63886.680</td>\n",
       "      <td>39374.544206</td>\n",
       "      <td>70526.109273</td>\n",
       "    </tr>\n",
       "    <tr>\n",
       "      <th>51</th>\n",
       "      <td>BADAJOZ</td>\n",
       "      <td>62854.110</td>\n",
       "      <td>43663.426256</td>\n",
       "      <td>73825.852751</td>\n",
       "    </tr>\n",
       "  </tbody>\n",
       "</table>\n",
       "</div>"
      ],
      "text/plain": [
       "                   nomprov  MedianIncome      StdIncome     MeanIncome\n",
       "0                  NAVARRA    276913.860  132671.679720  200315.830000\n",
       "1                  BIZKAIA    160481.340            NaN  160481.340000\n",
       "2                   MADRID    139630.800  247768.372074  176332.784407\n",
       "3                    CEUTA    136678.050  261683.387333  199874.494790\n",
       "4                BARCELONA    131202.450  142320.266592  163516.119058\n",
       "5           BALEARS, ILLES    130905.570  799980.934906  205819.991836\n",
       "6                  MELILLA    117765.690   66682.256888  133519.080991\n",
       "7                   GIRONA    110711.460  190089.240337  151066.722362\n",
       "8                 ZARAGOZA    100612.230   57528.117056  108807.833787\n",
       "9               PONTEVEDRA     98160.060  100037.873389  115370.349011\n",
       "10               CORUÑA, A     98085.120   67299.751353  111576.796101\n",
       "11                  MALAGA     97339.020  110861.275138  117768.227971\n",
       "12               CANTABRIA     95043.930   84937.453419  119542.545386\n",
       "13                 SEVILLA     93552.510  217674.136418  119928.959044\n",
       "14             GUADALAJARA     93375.420   52061.310100   98120.811750\n",
       "15              VALLADOLID     93308.520   50902.980721  100651.240084\n",
       "16               RIOJA, LA     92822.790   47284.777406  100216.912463\n",
       "17                PALENCIA     88709.640   42519.682671   92149.444543\n",
       "18               SALAMANCA     88296.540   57069.123629   96620.064401\n",
       "19               TARRAGONA     88204.530   95106.554494  103455.670293\n",
       "20                 SEGOVIA     88014.210   58691.556918   95978.570206\n",
       "21                  BURGOS     87989.730   46187.873610   98186.513975\n",
       "22                 UNKNOWN     87349.440    8438.208244   94975.016000\n",
       "23                ASTURIAS     85297.170   57861.005260   98706.102673\n",
       "24                 GRANADA     81580.410   64150.462931   94849.289370\n",
       "25  SANTA CRUZ DE TENERIFE     81070.410   89953.143523  104859.683790\n",
       "26             PALMAS, LAS     80830.470  440032.756836  111236.686212\n",
       "27                GIPUZKOA     80599.140       0.000000   80599.140000\n",
       "28                   SORIA     80223.810   34835.211681   87594.408513\n",
       "29                    LEON     79148.760  102958.340275   96867.693447\n",
       "30                ALBACETE     79100.310   34451.113240   83461.919495\n",
       "31                   CADIZ     78779.430   83897.874036  100383.780662\n",
       "32                 OURENSE     77737.680   35311.038996   82110.751457\n",
       "33                  HUESCA     76156.380   83353.973090   91863.575658\n",
       "34                  TERUEL     75401.790   47429.198907   83569.181403\n",
       "35                  ZAMORA     74439.690  110248.654480   84504.785888\n",
       "36                 ALMERIA     72469.470   55074.671250   85941.684440\n",
       "37                VALENCIA     72273.030   75646.853498   88662.121787\n",
       "38                  CUENCA     70926.210   31563.033396   70633.482564\n",
       "39                 CORDOBA     70651.380   61764.642595   85153.428675\n",
       "40                 CACERES     70620.150   50563.479279   76649.735448\n",
       "41                   AVILA     70224.690   33082.948841   76475.246761\n",
       "42                ALICANTE     69732.810   78484.950542   85751.972150\n",
       "43                  TOLEDO     69721.650   66034.750916   81955.198145\n",
       "44                  HUELVA     69326.640   48807.063601   77172.346578\n",
       "45                  MURCIA     68143.710   43787.097448   78993.507861\n",
       "46                    JAEN     67921.530   44294.175951   78661.664015\n",
       "47               CASTELLON     66305.445   56914.578523   83313.055395\n",
       "48                  LERIDA     64666.500   54106.470689   80786.167530\n",
       "49                    LUGO     64650.540   58161.974677   80878.941727\n",
       "50             CIUDAD REAL     63886.680   39374.544206   70526.109273\n",
       "51                 BADAJOZ     62854.110   43663.426256   73825.852751"
      ]
     },
     "execution_count": 46,
     "metadata": {},
     "output_type": "execute_result"
    }
   ],
   "source": [
    "incomes"
   ]
  },
  {
   "cell_type": "code",
   "execution_count": 47,
   "metadata": {},
   "outputs": [
    {
     "data": {
      "image/png": "[encoded data removed]",
      "text/plain": [
       "<Figure size 720x1800 with 1 Axes>"
      ]
     },
     "metadata": {},
     "output_type": "display_data"
    }
   ],
   "source": [
    "plt.figure(figsize=(10, 25))\n",
    "plt.rcParams.update({'font.size': 22})\n",
    "plt.barh(incomes.nomprov, incomes.MedianIncome)\n",
    "plt.gca().invert_yaxis()"
   ]
  },
  {
   "cell_type": "code",
   "execution_count": 48,
   "metadata": {},
   "outputs": [
    {
     "data": {
      "text/plain": [
       "1899             NaN\n",
       "2673        76610.16\n",
       "4480       173774.16\n",
       "4636             NaN\n",
       "7210             NaN\n",
       "7741             NaN\n",
       "7836             NaN\n",
       "8848        68454.69\n",
       "9368       160133.97\n",
       "9424             NaN\n",
       "9575             NaN\n",
       "11473      356561.82\n",
       "13619            NaN\n",
       "14810       92942.97\n",
       "15901      102215.10\n",
       "19592            NaN\n",
       "20144       68847.87\n",
       "20777            NaN\n",
       "21313      162339.57\n",
       "22427      806359.95\n",
       "22472            NaN\n",
       "22701            NaN\n",
       "23246      233709.72\n",
       "23255      123573.51\n",
       "23318      165879.81\n",
       "23600       97745.04\n",
       "23724      351105.72\n",
       "23754       97581.30\n",
       "23814            NaN\n",
       "27147      141227.22\n",
       "             ...    \n",
       "6974204    108697.41\n",
       "6974381          NaN\n",
       "6976385          NaN\n",
       "6976590    151818.75\n",
       "6977950     93213.48\n",
       "6978150    248071.80\n",
       "6980295          NaN\n",
       "6980642          NaN\n",
       "6980785          NaN\n",
       "6981443          NaN\n",
       "6982422    102248.49\n",
       "6982812    332341.65\n",
       "6983647          NaN\n",
       "6983695    236194.74\n",
       "6983704    135643.14\n",
       "6984473          NaN\n",
       "6984867          NaN\n",
       "6985957          NaN\n",
       "6986855          NaN\n",
       "6987601     71323.86\n",
       "6988259          NaN\n",
       "6988653          NaN\n",
       "6991175    175668.99\n",
       "6992446    112760.34\n",
       "6992482     91323.54\n",
       "6992753    224934.15\n",
       "6993129    109630.86\n",
       "6995464          NaN\n",
       "6996050    126246.57\n",
       "6998165    214343.04\n",
       "Name: renta, Length: 7865, dtype: float64"
      ]
     },
     "execution_count": 48,
     "metadata": {},
     "output_type": "execute_result"
    }
   ],
   "source": [
    "df.loc[df.nomprov=='BALEARS, ILLES', 'renta']"
   ]
  },
  {
   "cell_type": "code",
   "execution_count": 49,
   "metadata": {},
   "outputs": [],
   "source": [
    "if 'id' not in df.columns:\n",
    "    df.reset_index(inplace=True, drop=False)\n",
    "    df.rename(columns={'index': 'id'}, inplace=True)\n",
    "    df.sort_values('id', inplace=True)"
   ]
  },
  {
   "cell_type": "code",
   "execution_count": 50,
   "metadata": {},
   "outputs": [],
   "source": [
    "grouped        = df.groupby(\"nomprov\").agg({\"renta\":lambda x: x.median(skipna=True)}).reset_index()\n",
    "new_incomes    = pd.merge(df,grouped,how=\"inner\",on=\"nomprov\").loc[:, ['id', 'renta_y']]\n",
    "new_incomes = new_incomes.rename(columns={'renta_y': 'renta'})\n",
    "new_incomes.sort_values('id', inplace=True)"
   ]
  },
  {
   "cell_type": "code",
   "execution_count": 51,
   "metadata": {},
   "outputs": [],
   "source": [
    "df.loc[df.renta.isnull(), 'renta'] = new_incomes.loc[df.renta.isnull(), 'renta']"
   ]
  },
  {
   "cell_type": "code",
   "execution_count": 52,
   "metadata": {},
   "outputs": [],
   "source": [
    "df.loc[df.renta.isnull(), 'renta'] = df.loc[df.renta.notnull(), 'renta'].median()"
   ]
  },
  {
   "cell_type": "code",
   "execution_count": 53,
   "metadata": {},
   "outputs": [
    {
     "data": {
      "text/plain": [
       "id                       False\n",
       "fecha_dato               False\n",
       "ncodpers                 False\n",
       "ind_empleado              True\n",
       "pais_residencia           True\n",
       "sexo                      True\n",
       "age                      False\n",
       "fecha_alta               False\n",
       "ind_nuevo                False\n",
       "antiguedad               False\n",
       "indrel                   False\n",
       "ult_fec_cli_1t            True\n",
       "indrel_1mes               True\n",
       "tiprel_1mes               True\n",
       "indresi                   True\n",
       "indext                    True\n",
       "conyuemp                  True\n",
       "canal_entrada             True\n",
       "indfall                   True\n",
       "cod_prov                  True\n",
       "nomprov                  False\n",
       "ind_actividad_cliente    False\n",
       "renta                    False\n",
       "segmento                  True\n",
       "ind_ahor_fin_ult1        False\n",
       "ind_aval_fin_ult1        False\n",
       "ind_cco_fin_ult1         False\n",
       "ind_cder_fin_ult1        False\n",
       "ind_cno_fin_ult1         False\n",
       "ind_ctju_fin_ult1        False\n",
       "ind_ctma_fin_ult1        False\n",
       "ind_ctop_fin_ult1        False\n",
       "ind_ctpp_fin_ult1        False\n",
       "ind_deco_fin_ult1        False\n",
       "ind_deme_fin_ult1        False\n",
       "ind_dela_fin_ult1        False\n",
       "ind_ecue_fin_ult1        False\n",
       "ind_fond_fin_ult1        False\n",
       "ind_hip_fin_ult1         False\n",
       "ind_plan_fin_ult1        False\n",
       "ind_pres_fin_ult1        False\n",
       "ind_reca_fin_ult1        False\n",
       "ind_tjcr_fin_ult1        False\n",
       "ind_valo_fin_ult1        False\n",
       "ind_viv_fin_ult1         False\n",
       "ind_nomina_ult1           True\n",
       "ind_nom_pens_ult1         True\n",
       "ind_recibo_ult1          False\n",
       "month                    False\n",
       "dtype: bool"
      ]
     },
     "execution_count": 53,
     "metadata": {},
     "output_type": "execute_result"
    }
   ],
   "source": [
    "df.isnull().any()"
   ]
  },
  {
   "cell_type": "markdown",
   "metadata": {},
   "source": [
    "`ind_nomina_ult1` Payroll"
   ]
  },
  {
   "cell_type": "code",
   "execution_count": 54,
   "metadata": {},
   "outputs": [
    {
     "data": {
      "text/plain": [
       "2270"
      ]
     },
     "execution_count": 54,
     "metadata": {},
     "output_type": "execute_result"
    }
   ],
   "source": [
    "df.ind_nomina_ult1.isnull().sum()"
   ]
  },
  {
   "cell_type": "code",
   "execution_count": 55,
   "metadata": {},
   "outputs": [
    {
     "data": {
      "text/plain": [
       "0.0    871346\n",
       "1.0     56086\n",
       "Name: ind_nomina_ult1, dtype: int64"
      ]
     },
     "execution_count": 55,
     "metadata": {},
     "output_type": "execute_result"
    }
   ],
   "source": [
    "df.ind_nomina_ult1.value_counts()"
   ]
  },
  {
   "cell_type": "code",
   "execution_count": 56,
   "metadata": {},
   "outputs": [],
   "source": [
    "df.loc[df.ind_nomina_ult1.isnull(), 'ind_nomina_ult1'] = 0"
   ]
  },
  {
   "cell_type": "markdown",
   "metadata": {},
   "source": [
    "`ind_nom_pens_ult1` Pensions"
   ]
  },
  {
   "cell_type": "code",
   "execution_count": 57,
   "metadata": {},
   "outputs": [
    {
     "data": {
      "text/plain": [
       "2270"
      ]
     },
     "execution_count": 57,
     "metadata": {},
     "output_type": "execute_result"
    }
   ],
   "source": [
    "df.ind_nom_pens_ult1.isnull().sum()"
   ]
  },
  {
   "cell_type": "code",
   "execution_count": 58,
   "metadata": {},
   "outputs": [
    {
     "data": {
      "text/plain": [
       "0.0    866621\n",
       "1.0     60811\n",
       "Name: ind_nom_pens_ult1, dtype: int64"
      ]
     },
     "execution_count": 58,
     "metadata": {},
     "output_type": "execute_result"
    }
   ],
   "source": [
    "df.ind_nom_pens_ult1.value_counts()"
   ]
  },
  {
   "cell_type": "code",
   "execution_count": 59,
   "metadata": {},
   "outputs": [],
   "source": [
    "df.loc[df.ind_nom_pens_ult1.isnull(), 'ind_nom_pens_ult1'] = 0"
   ]
  },
  {
   "cell_type": "markdown",
   "metadata": {},
   "source": [
    "Columns with only string data"
   ]
  },
  {
   "cell_type": "code",
   "execution_count": 60,
   "metadata": {},
   "outputs": [
    {
     "name": "stdout",
     "output_type": "stream",
     "text": [
      "Unique values for ind_empleado:\n",
      "['N' nan 'A' 'F' 'B']\n",
      "\n",
      "Unique values for pais_residencia:\n",
      "['ES' nan 'CH' 'IE' 'GB' 'MX' 'NL' 'AL' 'PT' 'CO' 'CN' 'DO' 'HN' 'EC' 'DE'\n",
      " 'HK' 'CL' 'BE' 'FR' 'BR' 'IT' 'RO' 'PE' 'SE' 'ET' 'LU' 'PA' 'PL' 'US'\n",
      " 'BA' 'AR' 'IL' 'ZA' 'FI' 'RU' 'VE' 'DZ' 'UY' 'CR' 'JP' 'UA' 'SG' 'CU'\n",
      " 'AU' 'AT' 'KE' 'TH' 'PH' 'CA' 'EG' 'PY' 'BO' 'MA' 'GT' 'LV' 'GR' 'MD'\n",
      " 'IN' 'SK' 'SV' 'CG' 'SN' 'DK' 'MK' 'VN' 'IS' 'BY' 'BG' 'GM' 'LT']\n",
      "\n",
      "Unique values for sexo:\n",
      "['H' 'V' nan]\n",
      "\n",
      "Unique values for ult_fec_cli_1t:\n",
      "[nan '2015-07-23' '2015-07-09' '2015-07-13' '2015-07-21' '2015-07-30'\n",
      " '2015-07-17' '2015-07-01' '2015-07-27' '2015-07-15' '2015-07-10'\n",
      " '2015-07-29' '2015-07-06' '2015-07-08' '2015-07-20' '2015-07-28'\n",
      " '2015-07-16' '2015-07-03' '2015-07-14' '2015-07-22' '2015-07-24'\n",
      " '2015-07-07' '2015-07-02' '2015-08-19' '2015-08-21' '2015-08-03'\n",
      " '2015-08-13' '2015-08-28' '2015-08-11' '2015-08-18' '2015-08-05'\n",
      " '2015-08-20' '2015-08-17' '2015-08-24' '2015-08-10' '2015-08-07'\n",
      " '2015-08-04' '2015-08-27' '2015-08-26' '2015-08-12' '2015-08-14'\n",
      " '2015-08-25' '2015-08-06' '2015-09-01' '2015-09-14' '2015-09-29'\n",
      " '2015-09-21' '2015-09-16' '2015-09-08' '2015-09-18' '2015-09-11'\n",
      " '2015-09-17' '2015-09-15' '2015-09-22' '2015-09-10' '2015-09-23'\n",
      " '2015-09-04' '2015-09-02' '2015-09-24' '2015-09-25' '2015-09-07'\n",
      " '2015-09-03' '2015-09-09' '2015-09-28' '2015-10-09' '2015-10-15'\n",
      " '2015-10-07' '2015-10-28' '2015-10-19' '2015-10-05' '2015-10-14'\n",
      " '2015-10-26' '2015-10-21' '2015-10-13' '2015-10-23' '2015-10-01'\n",
      " '2015-10-02' '2015-10-20' '2015-10-27' '2015-10-29' '2015-10-06'\n",
      " '2015-10-16' '2015-10-22' '2015-10-08']\n",
      "\n",
      "Unique values for indrel_1mes:\n",
      "[1.0 nan 3.0 '1.0' '1' '3.0' 'P' 4.0 '3' '2.0' 2.0 '4' '2' '4.0']\n",
      "\n",
      "Unique values for tiprel_1mes:\n",
      "['I' 'A' nan 'P' 'R']\n",
      "\n",
      "Unique values for indresi:\n",
      "['S' nan 'N']\n",
      "\n",
      "Unique values for indext:\n",
      "['N' 'S' nan]\n",
      "\n",
      "Unique values for conyuemp:\n",
      "[nan 'N']\n",
      "\n",
      "Unique values for canal_entrada:\n",
      "['KHE' 'KFC' 'KAT' 'KHD' 'KFA' 'RED' nan 'KAZ' 'KHC' 'KEH' 'KHK' 'KFG'\n",
      " 'KAE' 'KAB' 'KAQ' 'KAA' 'KFD' 'KAH' 'KGX' 'KCC' 'KAR' 'KAJ' 'KFS' 'KAG'\n",
      " 'KGY' 'KFP' 'KGV' 'KFN' 'KFK' 'KAP' 'KFF' 'KFJ' 'KFU' 'KAI' 'KFL' 'KFV'\n",
      " 'KHL' 'KHF' 'KHM' 'KBG' 'KHN' 'KDR' 'KDA' 'KAC' 'KDY' '013' 'KAD' 'KAY'\n",
      " 'KBZ' 'KDT' 'KDO' 'KCG' 'KBO' 'KES' 'KDX' 'KBU' 'KBQ' 'KAS' 'KCL' 'KEC'\n",
      " 'KDE' 'KDQ' '007' 'KCA' 'KCK' 'KCD' 'KCB' 'KCE' 'KEA' 'KDV' 'KFT' 'KDC'\n",
      " 'KBL' 'KBH' 'KEY' 'KEV' 'KAF' 'KDU' 'KEI' 'KCN' 'KCM' 'KDZ' 'KCS' 'KBR'\n",
      " 'KAN' 'KCH' 'KCO' 'KBV' 'KDP' 'KBD' 'KAW' 'KBX' 'KBF' 'KCF' 'KCI' 'KCX'\n",
      " 'KBP' 'KDS' 'KEL' 'KEB' 'KEU' 'KBY' 'KEF' 'KCP' 'KBS' 'KBW' 'KDF' 'KBB'\n",
      " 'KDM' 'KDW' 'KEZ' 'KEW' 'KEG' 'KEN' 'KAM' 'KEQ' 'KAL' 'KAU' 'KFH' 'KEJ'\n",
      " 'KAV' 'KAO' 'K00' 'KFR' 'KEO' 'KGW' 'KFI' '004' 'KFM' 'KFE' 'KDI' 'KCU'\n",
      " 'KAK' 'KED' 'KBM' 'KEE' 'KCQ' 'KDN' 'KEK' 'KBJ' 'KCR' 'KEM' 'KCJ' 'KHO'\n",
      " 'KHQ' 'KFB' 'KGU' 'KBN' 'KCT' 'KCV' 'KDD' 'KDG' 'KHP']\n",
      "\n",
      "Unique values for indfall:\n",
      "['N' nan 'S']\n",
      "\n",
      "Unique values for segmento:\n",
      "['03 - UNIVERSITARIO' '02 - PARTICULARES' nan '01 - TOP']\n",
      "\n"
     ]
    },
    {
     "data": {
      "text/plain": [
       "20795"
      ]
     },
     "execution_count": 60,
     "metadata": {},
     "output_type": "execute_result"
    }
   ],
   "source": [
    "string_data = df.select_dtypes(include='object')\n",
    "missing_columns = [c for c in string_data if string_data[c].isnull().any()]\n",
    "\n",
    "for c in missing_columns:\n",
    "    print('Unique values for {}:\\n{}\\n'.format(c, string_data[c].unique()))\n",
    "del string_data\n",
    "gc.collect()"
   ]
  },
  {
   "cell_type": "markdown",
   "metadata": {},
   "source": [
    "Some of these string columns are filled with 'UNKONWN', whereas others are filled with the most common category, depending on which makes more sense."
   ]
  },
  {
   "cell_type": "markdown",
   "metadata": {},
   "source": [
    "`indfall` Deceased index. N/S, if the customer is dead, S is yes, N is no, I guess."
   ]
  },
  {
   "cell_type": "code",
   "execution_count": 61,
   "metadata": {},
   "outputs": [
    {
     "data": {
      "text/plain": [
       "N    923464\n",
       "S      2423\n",
       "Name: indfall, dtype: int64"
      ]
     },
     "execution_count": 61,
     "metadata": {},
     "output_type": "execute_result"
    }
   ],
   "source": [
    "df.indfall.value_counts()"
   ]
  },
  {
   "cell_type": "code",
   "execution_count": 62,
   "metadata": {},
   "outputs": [],
   "source": [
    "df.loc[df.indfall.isnull(), 'indfall'] = 'N'"
   ]
  },
  {
   "cell_type": "markdown",
   "metadata": {},
   "source": [
    "`tiprel_1mes` Customer type at the beginning of the month,\n",
    "\n",
    "Customer relation type at the beginning of the month, A (active), I (inactive), P (former customer),R (Potential)"
   ]
  },
  {
   "cell_type": "code",
   "execution_count": 63,
   "metadata": {},
   "outputs": [
    {
     "data": {
      "text/plain": [
       "I      469425\n",
       "A      446038\n",
       "NaN     14006\n",
       "P         192\n",
       "R          41\n",
       "Name: tiprel_1mes, dtype: int64"
      ]
     },
     "execution_count": 63,
     "metadata": {},
     "output_type": "execute_result"
    }
   ],
   "source": [
    "df.tiprel_1mes.value_counts(dropna=False)"
   ]
  },
  {
   "cell_type": "code",
   "execution_count": 64,
   "metadata": {},
   "outputs": [],
   "source": [
    "df.loc[df.tiprel_1mes.isnull(), 'tiprel_1mes'] = 'A'\n",
    "df.tiprel_1mes = df.tiprel_1mes.astype('category')"
   ]
  },
  {
   "cell_type": "markdown",
   "metadata": {},
   "source": [
    "`indrel_1mes`\n",
    "\n",
    "Customer type at the beginning of the month ,1 (First/Primary customer), 2 (co-owner ),P (Potential),3 (former primary), 4(former co-owner)"
   ]
  },
  {
   "cell_type": "code",
   "execution_count": 65,
   "metadata": {},
   "outputs": [
    {
     "data": {
      "text/plain": [
       "1.0    635437\n",
       "1.0    182002\n",
       "1       97978\n",
       "NaN     14006\n",
       "3.0        74\n",
       "3          57\n",
       "3.0        47\n",
       "P          41\n",
       "2.0        21\n",
       "2          18\n",
       "4           7\n",
       "2.0         7\n",
       "4.0         4\n",
       "4.0         3\n",
       "Name: indrel_1mes, dtype: int64"
      ]
     },
     "execution_count": 65,
     "metadata": {},
     "output_type": "execute_result"
    }
   ],
   "source": [
    "df.indrel_1mes.value_counts(dropna=False)"
   ]
  },
  {
   "cell_type": "code",
   "execution_count": 66,
   "metadata": {},
   "outputs": [],
   "source": [
    "map_dict = { 1.0  : \"1\",\n",
    "            \"1.0\" : \"1\",\n",
    "            \"1\"   : \"1\",\n",
    "            \"3.0\" : \"3\",\n",
    "            \"P\"   : \"P\",\n",
    "            3.0   : \"3\",\n",
    "            2.0   : \"2\",\n",
    "            \"3\"   : \"3\",\n",
    "            \"2.0\" : \"2\",\n",
    "            \"4.0\" : \"4\",\n",
    "            \"4\"   : \"4\",\n",
    "            \"2\"   : \"2\"}"
   ]
  },
  {
   "cell_type": "code",
   "execution_count": 67,
   "metadata": {},
   "outputs": [],
   "source": [
    "df.indrel_1mes.fillna('P', inplace=True)\n",
    "df.indrel_1mes = df.indrel_1mes.map(map_dict)"
   ]
  },
  {
   "cell_type": "code",
   "execution_count": 68,
   "metadata": {},
   "outputs": [
    {
     "data": {
      "text/plain": [
       "1      915417\n",
       "P       14047\n",
       "3         178\n",
       "2          46\n",
       "4          10\n",
       "NaN         4\n",
       "Name: indrel_1mes, dtype: int64"
      ]
     },
     "execution_count": 68,
     "metadata": {},
     "output_type": "execute_result"
    }
   ],
   "source": [
    "df.indrel_1mes.value_counts(dropna=False)"
   ]
  },
  {
   "cell_type": "markdown",
   "metadata": {},
   "source": [
    "The rest of the string columns"
   ]
  },
  {
   "cell_type": "code",
   "execution_count": 70,
   "metadata": {},
   "outputs": [],
   "source": [
    "column_null = [c for c in df if df[c].isnull().any()]"
   ]
  },
  {
   "cell_type": "code",
   "execution_count": 71,
   "metadata": {},
   "outputs": [
    {
     "name": "stdout",
     "output_type": "stream",
     "text": [
      "ind_empleado, object\n",
      "pais_residencia, object\n",
      "sexo, object\n",
      "ult_fec_cli_1t, object\n",
      "indrel_1mes, category\n",
      "indresi, object\n",
      "indext, object\n",
      "conyuemp, object\n",
      "canal_entrada, object\n",
      "cod_prov, float64\n",
      "segmento, object\n"
     ]
    }
   ],
   "source": [
    "for c in column_null:\n",
    "    print('{}, {}'.format(c, df[c].dtype))"
   ]
  },
  {
   "cell_type": "code",
   "execution_count": 72,
   "metadata": {},
   "outputs": [],
   "source": [
    "df.drop(['cod_prov'], axis=1, inplace=True)"
   ]
  },
  {
   "cell_type": "code",
   "execution_count": 78,
   "metadata": {},
   "outputs": [],
   "source": [
    "column_null = [c for c in df if df[c].isnull().any()]\n",
    "for c in column_null:\n",
    "    try:\n",
    "        df.loc[df[c].isnull(), c] = 'UNKNOWN'\n",
    "    except:\n",
    "        pass"
   ]
  },
  {
   "cell_type": "code",
   "execution_count": 81,
   "metadata": {},
   "outputs": [
    {
     "ename": "ValueError",
     "evalue": "fill value must be in categories",
     "output_type": "error",
     "traceback": [
      "\u001b[1;31m---------------------------------------------------------------------------\u001b[0m",
      "\u001b[1;31mValueError\u001b[0m                                Traceback (most recent call last)",
      "\u001b[1;32m<ipython-input-81-33c5853e04d0>\u001b[0m in \u001b[0;36m<module>\u001b[1;34m()\u001b[0m\n\u001b[1;32m----> 1\u001b[1;33m \u001b[0mdf\u001b[0m\u001b[1;33m.\u001b[0m\u001b[0mfillna\u001b[0m\u001b[1;33m(\u001b[0m\u001b[1;34m'UNKNOWN'\u001b[0m\u001b[1;33m)\u001b[0m\u001b[1;33m\u001b[0m\u001b[0m\n\u001b[0m",
      "\u001b[1;32m~\\AppData\\Local\\Continuum\\anaconda3\\lib\\site-packages\\pandas\\core\\frame.py\u001b[0m in \u001b[0;36mfillna\u001b[1;34m(self, value, method, axis, inplace, limit, downcast, **kwargs)\u001b[0m\n\u001b[0;32m   3785\u001b[0m                      \u001b[0mself\u001b[0m\u001b[1;33m)\u001b[0m\u001b[1;33m.\u001b[0m\u001b[0mfillna\u001b[0m\u001b[1;33m(\u001b[0m\u001b[0mvalue\u001b[0m\u001b[1;33m=\u001b[0m\u001b[0mvalue\u001b[0m\u001b[1;33m,\u001b[0m \u001b[0mmethod\u001b[0m\u001b[1;33m=\u001b[0m\u001b[0mmethod\u001b[0m\u001b[1;33m,\u001b[0m \u001b[0maxis\u001b[0m\u001b[1;33m=\u001b[0m\u001b[0maxis\u001b[0m\u001b[1;33m,\u001b[0m\u001b[1;33m\u001b[0m\u001b[0m\n\u001b[0;32m   3786\u001b[0m                                   \u001b[0minplace\u001b[0m\u001b[1;33m=\u001b[0m\u001b[0minplace\u001b[0m\u001b[1;33m,\u001b[0m \u001b[0mlimit\u001b[0m\u001b[1;33m=\u001b[0m\u001b[0mlimit\u001b[0m\u001b[1;33m,\u001b[0m\u001b[1;33m\u001b[0m\u001b[0m\n\u001b[1;32m-> 3787\u001b[1;33m                                   downcast=downcast, **kwargs)\n\u001b[0m\u001b[0;32m   3788\u001b[0m \u001b[1;33m\u001b[0m\u001b[0m\n\u001b[0;32m   3789\u001b[0m     \u001b[1;33m@\u001b[0m\u001b[0mAppender\u001b[0m\u001b[1;33m(\u001b[0m\u001b[0m_shared_docs\u001b[0m\u001b[1;33m[\u001b[0m\u001b[1;34m'replace'\u001b[0m\u001b[1;33m]\u001b[0m \u001b[1;33m%\u001b[0m \u001b[0m_shared_doc_kwargs\u001b[0m\u001b[1;33m)\u001b[0m\u001b[1;33m\u001b[0m\u001b[0m\n",
      "\u001b[1;32m~\\AppData\\Local\\Continuum\\anaconda3\\lib\\site-packages\\pandas\\core\\generic.py\u001b[0m in \u001b[0;36mfillna\u001b[1;34m(self, value, method, axis, inplace, limit, downcast)\u001b[0m\n\u001b[0;32m   5421\u001b[0m                 new_data = self._data.fillna(value=value, limit=limit,\n\u001b[0;32m   5422\u001b[0m                                              \u001b[0minplace\u001b[0m\u001b[1;33m=\u001b[0m\u001b[0minplace\u001b[0m\u001b[1;33m,\u001b[0m\u001b[1;33m\u001b[0m\u001b[0m\n\u001b[1;32m-> 5423\u001b[1;33m                                              downcast=downcast)\n\u001b[0m\u001b[0;32m   5424\u001b[0m             \u001b[1;32melif\u001b[0m \u001b[0misinstance\u001b[0m\u001b[1;33m(\u001b[0m\u001b[0mvalue\u001b[0m\u001b[1;33m,\u001b[0m \u001b[0mDataFrame\u001b[0m\u001b[1;33m)\u001b[0m \u001b[1;32mand\u001b[0m \u001b[0mself\u001b[0m\u001b[1;33m.\u001b[0m\u001b[0mndim\u001b[0m \u001b[1;33m==\u001b[0m \u001b[1;36m2\u001b[0m\u001b[1;33m:\u001b[0m\u001b[1;33m\u001b[0m\u001b[0m\n\u001b[0;32m   5425\u001b[0m                 \u001b[0mnew_data\u001b[0m \u001b[1;33m=\u001b[0m \u001b[0mself\u001b[0m\u001b[1;33m.\u001b[0m\u001b[0mwhere\u001b[0m\u001b[1;33m(\u001b[0m\u001b[0mself\u001b[0m\u001b[1;33m.\u001b[0m\u001b[0mnotna\u001b[0m\u001b[1;33m(\u001b[0m\u001b[1;33m)\u001b[0m\u001b[1;33m,\u001b[0m \u001b[0mvalue\u001b[0m\u001b[1;33m)\u001b[0m\u001b[1;33m\u001b[0m\u001b[0m\n",
      "\u001b[1;32m~\\AppData\\Local\\Continuum\\anaconda3\\lib\\site-packages\\pandas\\core\\internals.py\u001b[0m in \u001b[0;36mfillna\u001b[1;34m(self, **kwargs)\u001b[0m\n\u001b[0;32m   3706\u001b[0m \u001b[1;33m\u001b[0m\u001b[0m\n\u001b[0;32m   3707\u001b[0m     \u001b[1;32mdef\u001b[0m \u001b[0mfillna\u001b[0m\u001b[1;33m(\u001b[0m\u001b[0mself\u001b[0m\u001b[1;33m,\u001b[0m \u001b[1;33m**\u001b[0m\u001b[0mkwargs\u001b[0m\u001b[1;33m)\u001b[0m\u001b[1;33m:\u001b[0m\u001b[1;33m\u001b[0m\u001b[0m\n\u001b[1;32m-> 3708\u001b[1;33m         \u001b[1;32mreturn\u001b[0m \u001b[0mself\u001b[0m\u001b[1;33m.\u001b[0m\u001b[0mapply\u001b[0m\u001b[1;33m(\u001b[0m\u001b[1;34m'fillna'\u001b[0m\u001b[1;33m,\u001b[0m \u001b[1;33m**\u001b[0m\u001b[0mkwargs\u001b[0m\u001b[1;33m)\u001b[0m\u001b[1;33m\u001b[0m\u001b[0m\n\u001b[0m\u001b[0;32m   3709\u001b[0m \u001b[1;33m\u001b[0m\u001b[0m\n\u001b[0;32m   3710\u001b[0m     \u001b[1;32mdef\u001b[0m \u001b[0mdowncast\u001b[0m\u001b[1;33m(\u001b[0m\u001b[0mself\u001b[0m\u001b[1;33m,\u001b[0m \u001b[1;33m**\u001b[0m\u001b[0mkwargs\u001b[0m\u001b[1;33m)\u001b[0m\u001b[1;33m:\u001b[0m\u001b[1;33m\u001b[0m\u001b[0m\n",
      "\u001b[1;32m~\\AppData\\Local\\Continuum\\anaconda3\\lib\\site-packages\\pandas\\core\\internals.py\u001b[0m in \u001b[0;36mapply\u001b[1;34m(self, f, axes, filter, do_integrity_check, consolidate, **kwargs)\u001b[0m\n\u001b[0;32m   3579\u001b[0m \u001b[1;33m\u001b[0m\u001b[0m\n\u001b[0;32m   3580\u001b[0m             \u001b[0mkwargs\u001b[0m\u001b[1;33m[\u001b[0m\u001b[1;34m'mgr'\u001b[0m\u001b[1;33m]\u001b[0m \u001b[1;33m=\u001b[0m \u001b[0mself\u001b[0m\u001b[1;33m\u001b[0m\u001b[0m\n\u001b[1;32m-> 3581\u001b[1;33m             \u001b[0mapplied\u001b[0m \u001b[1;33m=\u001b[0m \u001b[0mgetattr\u001b[0m\u001b[1;33m(\u001b[0m\u001b[0mb\u001b[0m\u001b[1;33m,\u001b[0m \u001b[0mf\u001b[0m\u001b[1;33m)\u001b[0m\u001b[1;33m(\u001b[0m\u001b[1;33m**\u001b[0m\u001b[0mkwargs\u001b[0m\u001b[1;33m)\u001b[0m\u001b[1;33m\u001b[0m\u001b[0m\n\u001b[0m\u001b[0;32m   3582\u001b[0m             \u001b[0mresult_blocks\u001b[0m \u001b[1;33m=\u001b[0m \u001b[0m_extend_blocks\u001b[0m\u001b[1;33m(\u001b[0m\u001b[0mapplied\u001b[0m\u001b[1;33m,\u001b[0m \u001b[0mresult_blocks\u001b[0m\u001b[1;33m)\u001b[0m\u001b[1;33m\u001b[0m\u001b[0m\n\u001b[0;32m   3583\u001b[0m \u001b[1;33m\u001b[0m\u001b[0m\n",
      "\u001b[1;32m~\\AppData\\Local\\Continuum\\anaconda3\\lib\\site-packages\\pandas\\core\\internals.py\u001b[0m in \u001b[0;36mfillna\u001b[1;34m(self, value, limit, inplace, downcast, mgr)\u001b[0m\n\u001b[0;32m   2004\u001b[0m                mgr=None):\n\u001b[0;32m   2005\u001b[0m         \u001b[0mvalues\u001b[0m \u001b[1;33m=\u001b[0m \u001b[0mself\u001b[0m\u001b[1;33m.\u001b[0m\u001b[0mvalues\u001b[0m \u001b[1;32mif\u001b[0m \u001b[0minplace\u001b[0m \u001b[1;32melse\u001b[0m \u001b[0mself\u001b[0m\u001b[1;33m.\u001b[0m\u001b[0mvalues\u001b[0m\u001b[1;33m.\u001b[0m\u001b[0mcopy\u001b[0m\u001b[1;33m(\u001b[0m\u001b[1;33m)\u001b[0m\u001b[1;33m\u001b[0m\u001b[0m\n\u001b[1;32m-> 2006\u001b[1;33m         \u001b[0mvalues\u001b[0m \u001b[1;33m=\u001b[0m \u001b[0mvalues\u001b[0m\u001b[1;33m.\u001b[0m\u001b[0mfillna\u001b[0m\u001b[1;33m(\u001b[0m\u001b[0mvalue\u001b[0m\u001b[1;33m=\u001b[0m\u001b[0mvalue\u001b[0m\u001b[1;33m,\u001b[0m \u001b[0mlimit\u001b[0m\u001b[1;33m=\u001b[0m\u001b[0mlimit\u001b[0m\u001b[1;33m)\u001b[0m\u001b[1;33m\u001b[0m\u001b[0m\n\u001b[0m\u001b[0;32m   2007\u001b[0m         return [self.make_block_same_class(values=values,\n\u001b[0;32m   2008\u001b[0m                                            \u001b[0mplacement\u001b[0m\u001b[1;33m=\u001b[0m\u001b[0mself\u001b[0m\u001b[1;33m.\u001b[0m\u001b[0mmgr_locs\u001b[0m\u001b[1;33m,\u001b[0m\u001b[1;33m\u001b[0m\u001b[0m\n",
      "\u001b[1;32m~\\AppData\\Local\\Continuum\\anaconda3\\lib\\site-packages\\pandas\\util\\_decorators.py\u001b[0m in \u001b[0;36mwrapper\u001b[1;34m(*args, **kwargs)\u001b[0m\n\u001b[0;32m    175\u001b[0m                 \u001b[1;32melse\u001b[0m\u001b[1;33m:\u001b[0m\u001b[1;33m\u001b[0m\u001b[0m\n\u001b[0;32m    176\u001b[0m                     \u001b[0mkwargs\u001b[0m\u001b[1;33m[\u001b[0m\u001b[0mnew_arg_name\u001b[0m\u001b[1;33m]\u001b[0m \u001b[1;33m=\u001b[0m \u001b[0mnew_arg_value\u001b[0m\u001b[1;33m\u001b[0m\u001b[0m\n\u001b[1;32m--> 177\u001b[1;33m             \u001b[1;32mreturn\u001b[0m \u001b[0mfunc\u001b[0m\u001b[1;33m(\u001b[0m\u001b[1;33m*\u001b[0m\u001b[0margs\u001b[0m\u001b[1;33m,\u001b[0m \u001b[1;33m**\u001b[0m\u001b[0mkwargs\u001b[0m\u001b[1;33m)\u001b[0m\u001b[1;33m\u001b[0m\u001b[0m\n\u001b[0m\u001b[0;32m    178\u001b[0m         \u001b[1;32mreturn\u001b[0m \u001b[0mwrapper\u001b[0m\u001b[1;33m\u001b[0m\u001b[0m\n\u001b[0;32m    179\u001b[0m     \u001b[1;32mreturn\u001b[0m \u001b[0m_deprecate_kwarg\u001b[0m\u001b[1;33m\u001b[0m\u001b[0m\n",
      "\u001b[1;32m~\\AppData\\Local\\Continuum\\anaconda3\\lib\\site-packages\\pandas\\core\\arrays\\categorical.py\u001b[0m in \u001b[0;36mfillna\u001b[1;34m(self, value, method, limit)\u001b[0m\n\u001b[0;32m   1754\u001b[0m             \u001b[1;32melif\u001b[0m \u001b[0mis_scalar\u001b[0m\u001b[1;33m(\u001b[0m\u001b[0mvalue\u001b[0m\u001b[1;33m)\u001b[0m\u001b[1;33m:\u001b[0m\u001b[1;33m\u001b[0m\u001b[0m\n\u001b[0;32m   1755\u001b[0m                 \u001b[1;32mif\u001b[0m \u001b[1;32mnot\u001b[0m \u001b[0misna\u001b[0m\u001b[1;33m(\u001b[0m\u001b[0mvalue\u001b[0m\u001b[1;33m)\u001b[0m \u001b[1;32mand\u001b[0m \u001b[0mvalue\u001b[0m \u001b[1;32mnot\u001b[0m \u001b[1;32min\u001b[0m \u001b[0mself\u001b[0m\u001b[1;33m.\u001b[0m\u001b[0mcategories\u001b[0m\u001b[1;33m:\u001b[0m\u001b[1;33m\u001b[0m\u001b[0m\n\u001b[1;32m-> 1756\u001b[1;33m                     \u001b[1;32mraise\u001b[0m \u001b[0mValueError\u001b[0m\u001b[1;33m(\u001b[0m\u001b[1;34m\"fill value must be in categories\"\u001b[0m\u001b[1;33m)\u001b[0m\u001b[1;33m\u001b[0m\u001b[0m\n\u001b[0m\u001b[0;32m   1757\u001b[0m \u001b[1;33m\u001b[0m\u001b[0m\n\u001b[0;32m   1758\u001b[0m                 \u001b[0mmask\u001b[0m \u001b[1;33m=\u001b[0m \u001b[0mvalues\u001b[0m \u001b[1;33m==\u001b[0m \u001b[1;33m-\u001b[0m\u001b[1;36m1\u001b[0m\u001b[1;33m\u001b[0m\u001b[0m\n",
      "\u001b[1;31mValueError\u001b[0m: fill value must be in categories"
     ]
    }
   ],
   "source": [
    "df.fillna('UNKNOWN')"
   ]
  },
  {
   "cell_type": "code",
   "execution_count": 80,
   "metadata": {},
   "outputs": [
    {
     "data": {
      "text/plain": [
       "1      915417\n",
       "P       14047\n",
       "3         178\n",
       "2          46\n",
       "4          10\n",
       "NaN         4\n",
       "Name: indrel_1mes, dtype: int64"
      ]
     },
     "execution_count": 80,
     "metadata": {},
     "output_type": "execute_result"
    }
   ],
   "source": [
    "df.indrel_1mes.value_counts(dropna=False)"
   ]
  },
  {
   "cell_type": "code",
   "execution_count": 79,
   "metadata": {},
   "outputs": [
    {
     "data": {
      "text/plain": [
       "id                       False\n",
       "fecha_dato               False\n",
       "ncodpers                 False\n",
       "ind_empleado             False\n",
       "pais_residencia          False\n",
       "sexo                     False\n",
       "age                      False\n",
       "fecha_alta               False\n",
       "ind_nuevo                False\n",
       "antiguedad               False\n",
       "indrel                   False\n",
       "ult_fec_cli_1t           False\n",
       "indrel_1mes               True\n",
       "tiprel_1mes              False\n",
       "indresi                  False\n",
       "indext                   False\n",
       "conyuemp                 False\n",
       "canal_entrada            False\n",
       "indfall                  False\n",
       "nomprov                  False\n",
       "ind_actividad_cliente    False\n",
       "renta                    False\n",
       "segmento                 False\n",
       "ind_ahor_fin_ult1        False\n",
       "ind_aval_fin_ult1        False\n",
       "ind_cco_fin_ult1         False\n",
       "ind_cder_fin_ult1        False\n",
       "ind_cno_fin_ult1         False\n",
       "ind_ctju_fin_ult1        False\n",
       "ind_ctma_fin_ult1        False\n",
       "ind_ctop_fin_ult1        False\n",
       "ind_ctpp_fin_ult1        False\n",
       "ind_deco_fin_ult1        False\n",
       "ind_deme_fin_ult1        False\n",
       "ind_dela_fin_ult1        False\n",
       "ind_ecue_fin_ult1        False\n",
       "ind_fond_fin_ult1        False\n",
       "ind_hip_fin_ult1         False\n",
       "ind_plan_fin_ult1        False\n",
       "ind_pres_fin_ult1        False\n",
       "ind_reca_fin_ult1        False\n",
       "ind_tjcr_fin_ult1        False\n",
       "ind_valo_fin_ult1        False\n",
       "ind_viv_fin_ult1         False\n",
       "ind_nomina_ult1          False\n",
       "ind_nom_pens_ult1        False\n",
       "ind_recibo_ult1          False\n",
       "month                    False\n",
       "dtype: bool"
      ]
     },
     "execution_count": 79,
     "metadata": {},
     "output_type": "execute_result"
    }
   ],
   "source": [
    "df.isnull().any()"
   ]
  },
  {
   "cell_type": "code",
   "execution_count": null,
   "metadata": {},
   "outputs": [],
   "source": [
    "feature_cols = df.iloc[:1, :].filter(regex='ind_.*ult.*').columns.values"
   ]
  },
  {
   "cell_type": "code",
   "execution_count": null,
   "metadata": {},
   "outputs": [],
   "source": [
    "feature_cols"
   ]
  },
  {
   "cell_type": "code",
   "execution_count": null,
   "metadata": {},
   "outputs": [],
   "source": [
    "for c in feature_cols:\n",
    "    df[c] = df[c].astype(int)"
   ]
  },
  {
   "cell_type": "markdown",
   "metadata": {},
   "source": [
    "Now for the main event. To study trends in customers adding or removing services, I will create a label for each product and month that indicates whether a customer added, dropped or maintained that service in that billing cycle. I will do this by assigning a numeric id to each unique time stamp, and then matching each entry with the one from the previous month. The difference in the indicator value for each product then gives the desired value."
   ]
  },
  {
   "cell_type": "code",
   "execution_count": null,
   "metadata": {},
   "outputs": [],
   "source": [
    "unique_months = pd.DataFrame(pd.Series(df.fecha_dato.unique()).sort_values()).reset_index(drop=True)"
   ]
  },
  {
   "cell_type": "code",
   "execution_count": null,
   "metadata": {},
   "outputs": [],
   "source": [
    "unique_months[\"month_id\"] = pd.Series(range(1,1+unique_months.size)) # start with month 1, not 0 to match what we already have\n",
    "unique_months[\"month_next_id\"] = 1 + unique_months[\"month_id\"]\n",
    "unique_months.rename(columns={0:\"fecha_dato\"},inplace=True)"
   ]
  },
  {
   "cell_type": "code",
   "execution_count": null,
   "metadata": {},
   "outputs": [],
   "source": [
    "df = pd.merge(df, unique_months, on='fecha_dato')"
   ]
  },
  {
   "cell_type": "code",
   "execution_count": null,
   "metadata": {},
   "outputs": [],
   "source": [
    "def status_change(x):\n",
    "    diffs = x.diff().fillna(0).map({1: 'Added', \n",
    "                                    -1: 'Dropped', \n",
    "                                    0: 'Maintained'})\n",
    "    # first occurrence will be considered Maintained, \n",
    "    \n",
    "    #which is a little lazy. A better way would be to check if \n",
    "    #the earliest date was the same as the earliest we have in the dataset\n",
    "    #and consider those separately. Entries with earliest dates later than that have \n",
    "    #joined and should be labeled as \"Added\"\n",
    "    \n",
    "    #label = [\"Added\" if i==1 \\\n",
    "    #     else \"Dropped\" if i==-1 \\\n",
    "    #     else \"Maintained\" for i in diffs]\n",
    "    return diffs"
   ]
  },
  {
   "cell_type": "code",
   "execution_count": null,
   "metadata": {},
   "outputs": [],
   "source": [
    "dg = df.copy()"
   ]
  },
  {
   "cell_type": "code",
   "execution_count": null,
   "metadata": {},
   "outputs": [],
   "source": [
    "dg.loc[:, feature_cols] = df.loc[:, [i for i in feature_cols]+[\"ncodpers\"]].groupby(\"ncodpers\").transform(status_change)"
   ]
  },
  {
   "cell_type": "code",
   "execution_count": null,
   "metadata": {},
   "outputs": [],
   "source": [
    "dg = pd.melt(dg, id_vars   = [col for col in df.columns if col not in feature_cols],\n",
    "            value_vars= [col for col in feature_cols])"
   ]
  },
  {
   "cell_type": "code",
   "execution_count": null,
   "metadata": {},
   "outputs": [],
   "source": [
    "dg"
   ]
  },
  {
   "cell_type": "code",
   "execution_count": null,
   "metadata": {},
   "outputs": [],
   "source": [
    "dg = dg.loc[dg.value!='Maintained', :]"
   ]
  },
  {
   "cell_type": "code",
   "execution_count": null,
   "metadata": {},
   "outputs": [],
   "source": [
    "dg.T"
   ]
  }
 ],
 "metadata": {
  "kernelspec": {
   "display_name": "Python 3",
   "language": "python",
   "name": "python3"
  },
  "language_info": {
   "codemirror_mode": {
    "name": "ipython",
    "version": 3
   },
   "file_extension": ".py",
   "mimetype": "text/x-python",
   "name": "python",
   "nbconvert_exporter": "python",
   "pygments_lexer": "ipython3",
   "version": "3.6.5"
  }
 },
 "nbformat": 4,
 "nbformat_minor": 2
}
