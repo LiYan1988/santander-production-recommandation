{
 "cells": [
  {
   "cell_type": "markdown",
   "metadata": {},
   "source": [
    "## Feature Engineering and CV, continued from eda_4_21\n",
    "\n",
    "New train and test generation, features include:\n",
    "- customer info in the second month\n",
    "- products in the first month\n",
    "- combination of first and second month `ind_actividad_cliente`\n",
    "- combination of first and second month `tiprel_1mes`\n",
    "- combination of first month product by using binary number (`target_combine`)\n",
    "- encoding `target_combine` with \n",
    "    - mean number of new products\n",
    "    - mean number of customers with new products\n",
    "    - mean number of customers with each new products\n",
    "\n",
    "\n",
    "#### CV@2015-12-28:\n",
    "- benchmark: val = 1.62857\n",
    "- with only `ind_actividad_client_combine`, `tiprel_1mes_combine`, `target_combine`, mlogloss=1.57141\n",
    "- with `ind_actividad_client_combine`, `tiprel_1mes_combine`, `target_combine`, `n_products` and patterns: val = 1.31122\n",
    "- Private score: 0.0302475, public score: 0.0299266"
   ]
  },
  {
   "cell_type": "code",
   "execution_count": 3,
   "metadata": {},
   "outputs": [],
   "source": [
    "from santander_helper import *\n",
    "%matplotlib inline"
   ]
  },
  {
   "cell_type": "markdown",
   "metadata": {},
   "source": [
    "### Train and test data sets"
   ]
  },
  {
   "cell_type": "code",
   "execution_count": 1,
   "metadata": {},
   "outputs": [
    {
     "ename": "NameError",
     "evalue": "name 'create_train' is not defined",
     "output_type": "error",
     "traceback": [
      "\u001b[1;31m---------------------------------------------------------------------------\u001b[0m",
      "\u001b[1;31mNameError\u001b[0m                                 Traceback (most recent call last)",
      "\u001b[1;32m<ipython-input-1-6e16a47739aa>\u001b[0m in \u001b[0;36m<module>\u001b[1;34m()\u001b[0m\n\u001b[1;32m----> 1\u001b[1;33m \u001b[0mx_train\u001b[0m\u001b[1;33m,\u001b[0m \u001b[0my_train\u001b[0m \u001b[1;33m=\u001b[0m \u001b[0mcreate_train\u001b[0m\u001b[1;33m(\u001b[0m\u001b[1;34m'2015-06-28'\u001b[0m\u001b[1;33m)\u001b[0m\u001b[1;33m\u001b[0m\u001b[0m\n\u001b[0m",
      "\u001b[1;31mNameError\u001b[0m: name 'create_train' is not defined"
     ]
    }
   ],
   "source": [
    "x_train, y_train = create_train('2015-06-28')"
   ]
  },
  {
   "cell_type": "code",
   "execution_count": 5,
   "metadata": {},
   "outputs": [
    {
     "name": "stdout",
     "output_type": "stream",
     "text": [
      "Loading 2015-11-28 data\n",
      "Loading 2015-12-28 data\n",
      "Products in 2015-12-28...\n",
      "Products in 2015-11-28...\n",
      "New products added in 2015-12-28...\n",
      "Join customer features and previous month products for 2015-12-28...\n",
      "Concatenate this and previous months ind_activadad_cliente.\n",
      "Concatenate this and previous months tiprel_1mes.\n",
      "Combine all products for each customer.\n",
      "\n",
      "Start counting patterns:\n",
      "Encoding pattern...\n"
     ]
    },
    {
     "name": "stderr",
     "output_type": "stream",
     "text": [
      "100%|████████████████████████████████████████████████████████████████████████| 912728/912728 [02:23<00:00, 6368.04it/s]\n"
     ]
    },
    {
     "name": "stdout",
     "output_type": "stream",
     "text": [
      "Finding pattern...\n",
      "Counting pattern...\n"
     ]
    },
    {
     "name": "stderr",
     "output_type": "stream",
     "text": [
      "100%|████████████████████████████████████████████████████████████████████████| 893990/893990 [04:30<00:00, 3302.55it/s]\n"
     ]
    },
    {
     "name": "stdout",
     "output_type": "stream",
     "text": [
      "Time used: 8.403 min\n"
     ]
    }
   ],
   "source": [
    "x_val, y_val = create_train('2015-12-28')"
   ]
  },
  {
   "cell_type": "code",
   "execution_count": 6,
   "metadata": {},
   "outputs": [
    {
     "name": "stdout",
     "output_type": "stream",
     "text": [
      "Loading 2016-05-28 data\n",
      "Loading 2016-06-28 data\n",
      "Products in 2016-06-28...\n",
      "Products in 2016-05-28...\n",
      "New products added in 2016-06-28...\n",
      "Join customer features and previous month products for 2016-06-28...\n",
      "Concatenate this and previous months ind_activadad_cliente.\n",
      "Concatenate this and previous months tiprel_1mes.\n",
      "Combine all products for each customer.\n",
      "\n",
      "Start counting patterns:\n",
      "Encoding pattern...\n"
     ]
    },
    {
     "name": "stderr",
     "output_type": "stream",
     "text": [
      "100%|████████████████████████████████████████████████████████████████████████| 938423/938423 [02:29<00:00, 6292.67it/s]\n"
     ]
    },
    {
     "name": "stdout",
     "output_type": "stream",
     "text": [
      "Finding pattern...\n",
      "Counting pattern...\n"
     ]
    },
    {
     "name": "stderr",
     "output_type": "stream",
     "text": [
      "100%|████████████████████████████████████████████████████████████████████████| 930436/930436 [04:39<00:00, 3326.08it/s]\n"
     ]
    },
    {
     "name": "stdout",
     "output_type": "stream",
     "text": [
      "Time used: 7.526 min\n"
     ]
    }
   ],
   "source": [
    "x_test = create_test()"
   ]
  },
  {
   "cell_type": "markdown",
   "metadata": {},
   "source": [
    "## Train model\n",
    "\n",
    "- benchmark: val = 1.62857\n",
    "- with only `ind_actividad_client_combine`, `tiprel_1mes_combine`, `target_combine`, mlogloss=1.57141\n",
    "- with `ind_actividad_client_combine`, `tiprel_1mes_combine`, `target_combine`, `n_products` and patterns: val = 1.31122"
   ]
  },
  {
   "cell_type": "code",
   "execution_count": 7,
   "metadata": {
    "scrolled": true
   },
   "outputs": [
    {
     "name": "stdout",
     "output_type": "stream",
     "text": [
      "[0]\ttrain-mlogloss:2.71402\tval-mlogloss:2.75939\n",
      "[1]\ttrain-mlogloss:2.54589\tval-mlogloss:2.60954\n",
      "[2]\ttrain-mlogloss:2.40884\tval-mlogloss:2.48637\n",
      "[3]\ttrain-mlogloss:2.29508\tval-mlogloss:2.38487\n",
      "[4]\ttrain-mlogloss:2.19892\tval-mlogloss:2.30475\n",
      "[5]\ttrain-mlogloss:2.11299\tval-mlogloss:2.23605\n",
      "[6]\ttrain-mlogloss:2.0368\tval-mlogloss:2.17092\n",
      "[7]\ttrain-mlogloss:1.96881\tval-mlogloss:2.10959\n",
      "[8]\ttrain-mlogloss:1.90714\tval-mlogloss:2.05393\n",
      "[9]\ttrain-mlogloss:1.85086\tval-mlogloss:2.00371\n",
      "[10]\ttrain-mlogloss:1.79873\tval-mlogloss:1.95666\n",
      "[11]\ttrain-mlogloss:1.75059\tval-mlogloss:1.91418\n",
      "[12]\ttrain-mlogloss:1.70589\tval-mlogloss:1.87387\n",
      "[13]\ttrain-mlogloss:1.66512\tval-mlogloss:1.84128\n",
      "[14]\ttrain-mlogloss:1.62729\tval-mlogloss:1.8082\n",
      "[15]\ttrain-mlogloss:1.59099\tval-mlogloss:1.77718\n",
      "[16]\ttrain-mlogloss:1.557\tval-mlogloss:1.74651\n",
      "[17]\ttrain-mlogloss:1.52485\tval-mlogloss:1.71792\n",
      "[18]\ttrain-mlogloss:1.49498\tval-mlogloss:1.69208\n",
      "[19]\ttrain-mlogloss:1.46665\tval-mlogloss:1.66769\n",
      "[20]\ttrain-mlogloss:1.44015\tval-mlogloss:1.64457\n",
      "[21]\ttrain-mlogloss:1.41476\tval-mlogloss:1.62239\n",
      "[22]\ttrain-mlogloss:1.39083\tval-mlogloss:1.60341\n",
      "[23]\ttrain-mlogloss:1.36813\tval-mlogloss:1.58363\n",
      "[24]\ttrain-mlogloss:1.3468\tval-mlogloss:1.56537\n",
      "[25]\ttrain-mlogloss:1.32664\tval-mlogloss:1.5473\n",
      "[26]\ttrain-mlogloss:1.30746\tval-mlogloss:1.53129\n",
      "[27]\ttrain-mlogloss:1.28899\tval-mlogloss:1.5178\n",
      "[28]\ttrain-mlogloss:1.27138\tval-mlogloss:1.50229\n",
      "[29]\ttrain-mlogloss:1.25436\tval-mlogloss:1.49003\n",
      "[30]\ttrain-mlogloss:1.23803\tval-mlogloss:1.47872\n",
      "[31]\ttrain-mlogloss:1.22273\tval-mlogloss:1.46541\n",
      "[32]\ttrain-mlogloss:1.20795\tval-mlogloss:1.45492\n",
      "[33]\ttrain-mlogloss:1.194\tval-mlogloss:1.44324\n",
      "[34]\ttrain-mlogloss:1.18061\tval-mlogloss:1.4329\n",
      "[35]\ttrain-mlogloss:1.16764\tval-mlogloss:1.42209\n",
      "[36]\ttrain-mlogloss:1.15535\tval-mlogloss:1.41175\n",
      "[37]\ttrain-mlogloss:1.14376\tval-mlogloss:1.40243\n",
      "[38]\ttrain-mlogloss:1.13244\tval-mlogloss:1.39228\n",
      "[39]\ttrain-mlogloss:1.12171\tval-mlogloss:1.38274\n",
      "[40]\ttrain-mlogloss:1.11121\tval-mlogloss:1.37399\n",
      "[41]\ttrain-mlogloss:1.10117\tval-mlogloss:1.3659\n",
      "[42]\ttrain-mlogloss:1.09167\tval-mlogloss:1.35858\n",
      "[43]\ttrain-mlogloss:1.08239\tval-mlogloss:1.35084\n",
      "[44]\ttrain-mlogloss:1.0736\tval-mlogloss:1.34442\n",
      "[45]\ttrain-mlogloss:1.06488\tval-mlogloss:1.33685\n",
      "[46]\ttrain-mlogloss:1.05684\tval-mlogloss:1.33035\n",
      "[47]\ttrain-mlogloss:1.04881\tval-mlogloss:1.32423\n",
      "[48]\ttrain-mlogloss:1.04096\tval-mlogloss:1.31755\n",
      "[49]\ttrain-mlogloss:1.03339\tval-mlogloss:1.31122\n"
     ]
    }
   ],
   "source": [
    "param = {'objective': 'multi:softprob', \n",
    "         'eta': 0.05, \n",
    "         'max_depth': 8, \n",
    "         'silent': 1, \n",
    "         'num_class': len(target_cols),\n",
    "         'eval_metric': 'mlogloss',\n",
    "         'min_child_weight': 1,\n",
    "         'subsample': 0.7,\n",
    "         'colsample_bytree': 0.7,\n",
    "         'seed': 0}\n",
    "num_rounds = 50\n",
    "\n",
    "dtrain = xgb.DMatrix(x_train.values, y_train.values)\n",
    "dval = xgb.DMatrix(x_val.values, y_val.values)\n",
    "model = xgb.train(param, dtrain, num_rounds, evals=[(dtrain, 'train'), (dval, 'val')], verbose_eval=True)"
   ]
  },
  {
   "cell_type": "markdown",
   "metadata": {},
   "source": [
    "Prediction from my model"
   ]
  },
  {
   "cell_type": "code",
   "execution_count": 8,
   "metadata": {},
   "outputs": [],
   "source": [
    "preds = model.predict(xgb.DMatrix(x_test.values))\n",
    "\n",
    "df_preds = pd.DataFrame(preds, index=x_test.index, columns=target_cols)\n",
    "# Remove already bought products \n",
    "df_preds[x_test[target_cols]==1] = 0 \n",
    "preds = df_preds.values\n",
    "preds = np.argsort(preds, axis=1)\n",
    "preds = np.fliplr(preds)[:, :7]"
   ]
  },
  {
   "cell_type": "markdown",
   "metadata": {},
   "source": [
    "Write out prediction results from my model"
   ]
  },
  {
   "cell_type": "code",
   "execution_count": 9,
   "metadata": {},
   "outputs": [],
   "source": [
    "test_id = x_test.loc[:, 'ncodpers'].values\n",
    "final_preds = [' '.join([target_cols[k] for k in pred]) for pred in preds]\n",
    "\n",
    "out_df = pd.DataFrame({'ncodpers': test_id, 'added_products': final_preds})\n",
    "out_df.to_csv('eda_4_16.csv.gz', compression='gzip', index=False)"
   ]
  }
 ],
 "metadata": {
  "kernelspec": {
   "display_name": "Python 3",
   "language": "python",
   "name": "python3"
  },
  "language_info": {
   "codemirror_mode": {
    "name": "ipython",
    "version": 3
   },
   "file_extension": ".py",
   "mimetype": "text/x-python",
   "name": "python",
   "nbconvert_exporter": "python",
   "pygments_lexer": "ipython3",
   "version": "3.6.6"
  }
 },
 "nbformat": 4,
 "nbformat_minor": 2
}
