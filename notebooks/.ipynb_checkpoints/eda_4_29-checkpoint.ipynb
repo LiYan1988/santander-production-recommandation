{
 "cells": [
  {
   "cell_type": "markdown",
   "metadata": {},
   "source": [
    "## Feature Engineering and CV based Winners' Solutions\n",
    "\n",
    "continued from eda_4_28\n",
    "\n",
    "Features:\n",
    "- average of products for each (customer, product) pair\n",
    "- exponent weighted average of products each (customer, product) pair\n",
    "- time since presence of products, distance to the first 1\n",
    "- time to the last positive flank (01)\n",
    "- time to the last negative flank (10)\n",
    "- time to the last 1, to the nearest product purchase\n",
    "- time to the first 1, to the first product purchase\n",
    "\n",
    "Trained@2015-06-28, validated@2015-12-28, mlogloss=1.28481\n",
    "\n",
    "Private score: 0.0302054, public score: 0.0298683\n",
    "\n",
    "To-do: \n",
    "- mean encoding of products grouped by combinations of: canal_entrada, segmento, cod_prov\n",
    "- Time since change and lags for a few non-product features: \n",
    "    - segmento\n",
    "    - ind_actividad_cliente\n",
    "    - cod_prov\n",
    "    - canal_entrada\n",
    "    - indrel_1mes\n",
    "    - tiprel_1mes\n",
    "\n",
    "\n",
    "Features:\n",
    "- before eda_4_25\n",
    "    - customer info in the second month\n",
    "    - products in the first month\n",
    "    - combination of first and second month `ind_actividad_cliente`\n",
    "    - combination of first and second month `tiprel_1mes`\n",
    "    - combination of first month product by using binary number (`target_combine`)\n",
    "    - encoding `target_combine` with \n",
    "        - mean number of new products\n",
    "        - mean number of customers with new products\n",
    "        - mean number of customers with each new products\n",
    "    - Count patterns in the last `max_lag` months\n",
    "    - Number of month to the last time the customer purchase each product\n",
    "        - CV@2015-12-28: mlogloss=1.29349\n",
    "        - Private score: 0.0302475, public score: 0.0299266\n",
    "- eda_4_25\n",
    "    - Use all available history data\n",
    "        - E.g., for 2016-05-28 train data, use all previous months, for 2015-02-28, use 1 lag month. \n",
    "        - Need to create test set that use the same amount of previous months for each training data set. \n",
    "        - This is from [the second winner's solution](https://www.kaggle.com/c/santander-product-recommendation/discussion/26824), his bold part in paragraph 4.\n",
    "    - Combine models trained on 2016-05-28 and 2015-06-28:\n",
    "        - Private score: 0.0304583, public score: 0.0300839\n",
    "        - This is to catch both seasonality and trend, presented in 2015-06-28 and 2016-05-28, respectively. \n",
    "        - This idea is mentioned by many winners, like [11-th winner](https://www.kaggle.com/c/santander-product-recommendation/discussion/26823) and [14-th winner](https://www.kaggle.com/c/santander-product-recommendation/discussion/26808)\n",
    "\n",
    "- eda_4_27\n",
    "    - put 2015-06-28 and 2016-05-28 in the same data set, with the same lag=5\n",
    "        - Private score:0.0303096, public score: 0.0299867\n",
    "        - Different as [11-th winner's discussion](https://www.kaggle.com/c/santander-product-recommendation/discussion/26823)\n",
    "            > We tested this by adding 50% of May-16 data to our June model and sure enough, we went from 0.0301 to 0.0303. Then, we built separate models for Jun and May, but the ensemble didn’t work. We weren’t surprised because June data is better for seasonal products, and May data is better for trend products. And vice-versa, June data is bad for trend products and May data is bad for seasonal products. So, they sort of cancelled each other out.\n",
    "\n",
    "        - But my score is always worse than theirs, maybe this is the reason why we have different observations"
   ]
  },
  {
   "cell_type": "code",
   "execution_count": 1,
   "metadata": {},
   "outputs": [],
   "source": [
    "from santander_helper import *"
   ]
  },
  {
   "cell_type": "code",
   "execution_count": null,
   "metadata": {},
   "outputs": [],
   "source": [
    "def apk(actual, predicted, k=7, default=0.0):\n",
    "    if predicted.size>k:\n",
    "        predicted = predicted[:k]\n",
    "    score = 0.0\n",
    "    num_hits = 0.0\n",
    "    \n",
    "    for i,p in enumerate(predicted):\n",
    "        if p in actual and p not in predicted[:i]:\n",
    "            num_hits += 1.0\n",
    "            score += num_hits / (i+1.0)\n",
    "\n",
    "    if actual.size==0:\n",
    "        return default\n",
    "\n",
    "    return score / min(actual.size, k)\n",
    "\n",
    "def mapk(actual, predicted, k=7, default=0.0):\n",
    "    \n",
    "    n = actual.shape[0]\n",
    "    apks = np.zeros(n)\n",
    "    for i in range(n):\n",
    "        apks[i] = apk(actual[i], predicted[i], k, default)\n",
    "    mean_apk = np.mean(apks)\n",
    "    \n",
    "    return mean_apk\n",
    "    \n",
    "def eval_map(y_prob, dtrain):\n",
    "    y_true = dtrain.get_label()\n",
    "    ncodpers = dtrain.get_\n",
    "    score = mapk(y_true, y_prob)\n",
    "    return 'MAP@7', score"
   ]
  },
  {
   "cell_type": "markdown",
   "metadata": {},
   "source": [
    "### 2015-06-28, max_lag=5"
   ]
  },
  {
   "cell_type": "code",
   "execution_count": 2,
   "metadata": {},
   "outputs": [
    {
     "name": "stdout",
     "output_type": "stream",
     "text": [
      "Encoding pattern...\n"
     ]
    },
    {
     "name": "stderr",
     "output_type": "stream",
     "text": [
      "100%|██████████████████████████████████████████████████████████████████████████| 27890/27890 [00:08<00:00, 3469.77it/s]\n"
     ]
    },
    {
     "name": "stdout",
     "output_type": "stream",
     "text": [
      "Finding pattern...\n",
      "Counting pattern...\n"
     ]
    },
    {
     "name": "stderr",
     "output_type": "stream",
     "text": [
      "100%|██████████████████████████████████████████████████████████████████████████| 26391/26391 [00:12<00:00, 2071.83it/s]\n"
     ]
    }
   ],
   "source": [
    "x_train_june15, y_train_june15 = create_train('2015-06-28', pattern_flag=True)\n",
    "x_val_june15, y_val_june15 = create_train('2016-05-28', pattern_flag=True)"
   ]
  },
  {
   "cell_type": "code",
   "execution_count": 4,
   "metadata": {},
   "outputs": [],
   "source": [
    "d = xgb.DMatrix(x_train_june15, label=y_train_june15)"
   ]
  },
  {
   "cell_type": "code",
   "execution_count": 10,
   "metadata": {},
   "outputs": [
    {
     "ename": "XGBoostError",
     "evalue": "b'[22:09:22] src/c_api/c_api.cc:617: Unknown float field name data'",
     "output_type": "error",
     "traceback": [
      "\u001b[1;31m---------------------------------------------------------------------------\u001b[0m",
      "\u001b[1;31mXGBoostError\u001b[0m                              Traceback (most recent call last)",
      "\u001b[1;32m<ipython-input-10-96f853074268>\u001b[0m in \u001b[0;36m<module>\u001b[1;34m()\u001b[0m\n\u001b[1;32m----> 1\u001b[1;33m \u001b[0md\u001b[0m\u001b[1;33m.\u001b[0m\u001b[0mget_float_info\u001b[0m\u001b[1;33m(\u001b[0m\u001b[1;34m'data'\u001b[0m\u001b[1;33m)\u001b[0m\u001b[1;33m\u001b[0m\u001b[0m\n\u001b[0m",
      "\u001b[1;32m~\\Anaconda3\\envs\\kaggle\\lib\\site-packages\\xgboost-0.72-py3.6.egg\\xgboost\\core.py\u001b[0m in \u001b[0;36mget_float_info\u001b[1;34m(self, field)\u001b[0m\n\u001b[0;32m    389\u001b[0m                                                \u001b[0mc_str\u001b[0m\u001b[1;33m(\u001b[0m\u001b[0mfield\u001b[0m\u001b[1;33m)\u001b[0m\u001b[1;33m,\u001b[0m\u001b[1;33m\u001b[0m\u001b[0m\n\u001b[0;32m    390\u001b[0m                                                \u001b[0mctypes\u001b[0m\u001b[1;33m.\u001b[0m\u001b[0mbyref\u001b[0m\u001b[1;33m(\u001b[0m\u001b[0mlength\u001b[0m\u001b[1;33m)\u001b[0m\u001b[1;33m,\u001b[0m\u001b[1;33m\u001b[0m\u001b[0m\n\u001b[1;32m--> 391\u001b[1;33m                                                ctypes.byref(ret)))\n\u001b[0m\u001b[0;32m    392\u001b[0m         \u001b[1;32mreturn\u001b[0m \u001b[0mctypes2numpy\u001b[0m\u001b[1;33m(\u001b[0m\u001b[0mret\u001b[0m\u001b[1;33m,\u001b[0m \u001b[0mlength\u001b[0m\u001b[1;33m.\u001b[0m\u001b[0mvalue\u001b[0m\u001b[1;33m,\u001b[0m \u001b[0mnp\u001b[0m\u001b[1;33m.\u001b[0m\u001b[0mfloat32\u001b[0m\u001b[1;33m)\u001b[0m\u001b[1;33m\u001b[0m\u001b[0m\n\u001b[0;32m    393\u001b[0m \u001b[1;33m\u001b[0m\u001b[0m\n",
      "\u001b[1;32m~\\Anaconda3\\envs\\kaggle\\lib\\site-packages\\xgboost-0.72-py3.6.egg\\xgboost\\core.py\u001b[0m in \u001b[0;36m_check_call\u001b[1;34m(ret)\u001b[0m\n\u001b[0;32m    128\u001b[0m     \"\"\"\n\u001b[0;32m    129\u001b[0m     \u001b[1;32mif\u001b[0m \u001b[0mret\u001b[0m \u001b[1;33m!=\u001b[0m \u001b[1;36m0\u001b[0m\u001b[1;33m:\u001b[0m\u001b[1;33m\u001b[0m\u001b[0m\n\u001b[1;32m--> 130\u001b[1;33m         \u001b[1;32mraise\u001b[0m \u001b[0mXGBoostError\u001b[0m\u001b[1;33m(\u001b[0m\u001b[0m_LIB\u001b[0m\u001b[1;33m.\u001b[0m\u001b[0mXGBGetLastError\u001b[0m\u001b[1;33m(\u001b[0m\u001b[1;33m)\u001b[0m\u001b[1;33m)\u001b[0m\u001b[1;33m\u001b[0m\u001b[0m\n\u001b[0m\u001b[0;32m    131\u001b[0m \u001b[1;33m\u001b[0m\u001b[0m\n\u001b[0;32m    132\u001b[0m \u001b[1;33m\u001b[0m\u001b[0m\n",
      "\u001b[1;31mXGBoostError\u001b[0m: b'[22:09:22] src/c_api/c_api.cc:617: Unknown float field name data'"
     ]
    }
   ],
   "source": [
    "d.get_float_info('data')"
   ]
  },
  {
   "cell_type": "code",
   "execution_count": null,
   "metadata": {
    "scrolled": true
   },
   "outputs": [],
   "source": [
    "x_test_june15 = create_test(pattern_flag=True)\n",
    "\n",
    "param = {'objective': 'multi:softprob', \n",
    "         'eta': 0.05, \n",
    "         'max_depth': 4, \n",
    "         'silent': 1, \n",
    "         'num_class': len(target_cols),\n",
    "         'eval_metric': 'mlogloss',\n",
    "         'min_child_weight': 1,\n",
    "         'subsample': 0.7,\n",
    "         'colsample_bytree': 0.7,\n",
    "         'seed': 0}\n",
    "num_rounds = 150\n",
    "\n",
    "dtrain_june15 = xgb.DMatrix(x_train_june15.values, y_train_june15.values)\n",
    "dval_june15 = xgb.DMatrix(x_val_june15.values, y_val_june15.values)\n",
    "model_june15 = xgb.train(param, dtrain_june15, num_rounds, \n",
    "                         evals=[(dtrain_june15, 'train'), (dval_june15, 'dval')], \n",
    "                         verbose_eval=True)\n",
    "\n",
    "preds_june15 = model_june15.predict(xgb.DMatrix(x_test_june15.values))\n",
    "\n",
    "df_preds_june15 = pd.DataFrame(preds_june15, index=x_test_june15.index, columns=target_cols)\n",
    "# Remove already bought products \n",
    "df_preds_june15[x_test_june15[target_cols]==1] = 0 \n",
    "preds_june15 = df_preds_june15.values\n",
    "preds_june15 = np.argsort(preds_june15, axis=1)\n",
    "preds_june15 = np.fliplr(preds_june15)[:, :7]\n",
    "\n",
    "test_id = x_test_june15.loc[:, 'ncodpers'].values\n",
    "final_preds_june15 = [' '.join([target_cols[k] for k in pred]) for pred in preds_june15]\n",
    "\n",
    "out_df_june15 = pd.DataFrame({'ncodpers': test_id, 'added_products': final_preds_june15})\n",
    "out_df_june15.to_csv('eda_4_28_june15_it100.csv.gz', compression='gzip', index=False)"
   ]
  },
  {
   "cell_type": "markdown",
   "metadata": {},
   "source": [
    "### 2016-05-28, max_lag=16"
   ]
  },
  {
   "cell_type": "code",
   "execution_count": 3,
   "metadata": {
    "scrolled": true
   },
   "outputs": [
    {
     "name": "stdout",
     "output_type": "stream",
     "text": [
      "[0]\ttrain-mlogloss:2.64321\n",
      "[1]\ttrain-mlogloss:2.42916\n",
      "[2]\ttrain-mlogloss:2.26143\n",
      "[3]\ttrain-mlogloss:2.12057\n",
      "[4]\ttrain-mlogloss:2.00099\n",
      "[5]\ttrain-mlogloss:1.89603\n",
      "[6]\ttrain-mlogloss:1.80356\n",
      "[7]\ttrain-mlogloss:1.72067\n",
      "[8]\ttrain-mlogloss:1.64465\n",
      "[9]\ttrain-mlogloss:1.57663\n",
      "[10]\ttrain-mlogloss:1.51355\n",
      "[11]\ttrain-mlogloss:1.45557\n",
      "[12]\ttrain-mlogloss:1.40214\n",
      "[13]\ttrain-mlogloss:1.35231\n",
      "[14]\ttrain-mlogloss:1.30587\n",
      "[15]\ttrain-mlogloss:1.26249\n",
      "[16]\ttrain-mlogloss:1.222\n",
      "[17]\ttrain-mlogloss:1.18383\n",
      "[18]\ttrain-mlogloss:1.14811\n",
      "[19]\ttrain-mlogloss:1.11448\n",
      "[20]\ttrain-mlogloss:1.08268\n",
      "[21]\ttrain-mlogloss:1.0525\n",
      "[22]\ttrain-mlogloss:1.02404\n",
      "[23]\ttrain-mlogloss:0.997108\n",
      "[24]\ttrain-mlogloss:0.971606\n",
      "[25]\ttrain-mlogloss:0.947348\n",
      "[26]\ttrain-mlogloss:0.924398\n",
      "[27]\ttrain-mlogloss:0.902768\n",
      "[28]\ttrain-mlogloss:0.881792\n",
      "[29]\ttrain-mlogloss:0.861978\n",
      "[30]\ttrain-mlogloss:0.842969\n",
      "[31]\ttrain-mlogloss:0.824979\n",
      "[32]\ttrain-mlogloss:0.80799\n",
      "[33]\ttrain-mlogloss:0.791558\n",
      "[34]\ttrain-mlogloss:0.776193\n",
      "[35]\ttrain-mlogloss:0.761276\n",
      "[36]\ttrain-mlogloss:0.746991\n",
      "[37]\ttrain-mlogloss:0.733397\n",
      "[38]\ttrain-mlogloss:0.720404\n",
      "[39]\ttrain-mlogloss:0.707905\n",
      "[40]\ttrain-mlogloss:0.696077\n",
      "[41]\ttrain-mlogloss:0.684611\n",
      "[42]\ttrain-mlogloss:0.673712\n",
      "[43]\ttrain-mlogloss:0.66345\n",
      "[44]\ttrain-mlogloss:0.653513\n",
      "[45]\ttrain-mlogloss:0.643782\n",
      "[46]\ttrain-mlogloss:0.634649\n",
      "[47]\ttrain-mlogloss:0.625692\n",
      "[48]\ttrain-mlogloss:0.617063\n",
      "[49]\ttrain-mlogloss:0.608998\n",
      "[50]\ttrain-mlogloss:0.60114\n",
      "[51]\ttrain-mlogloss:0.593598\n",
      "[52]\ttrain-mlogloss:0.586282\n",
      "[53]\ttrain-mlogloss:0.57932\n",
      "[54]\ttrain-mlogloss:0.57262\n",
      "[55]\ttrain-mlogloss:0.566129\n",
      "[56]\ttrain-mlogloss:0.560005\n",
      "[57]\ttrain-mlogloss:0.554003\n",
      "[58]\ttrain-mlogloss:0.548272\n",
      "[59]\ttrain-mlogloss:0.542817\n"
     ]
    }
   ],
   "source": [
    "x_train_may16, y_train_may16 = create_train('2015-05-28', pattern_flag=True, max_lag=16)\n",
    "\n",
    "x_test_may16 = create_test(pattern_flag=True)\n",
    "\n",
    "param = {'objective': 'multi:softprob', \n",
    "         'eta': 0.05, \n",
    "         'max_depth': 8, \n",
    "         'silent': 1, \n",
    "         'num_class': len(target_cols),\n",
    "         'eval_metric': 'mlogloss',\n",
    "         'min_child_weight': 1,\n",
    "         'subsample': 0.7,\n",
    "         'colsample_bytree': 0.7,\n",
    "         'seed': 0}\n",
    "num_rounds = 60\n",
    "\n",
    "dtrain_may16 = xgb.DMatrix(x_train_may16.values, y_train_may16.values)\n",
    "model_may16 = xgb.train(param, dtrain_may16, num_rounds, evals=[(dtrain_may16, 'train')], verbose_eval=True)\n",
    "\n",
    "preds_may16 = model_may16.predict(xgb.DMatrix(x_test_may16.values))\n",
    "\n",
    "df_preds_may16 = pd.DataFrame(preds_may16, index=x_test_may16.index, columns=target_cols)\n",
    "# Remove already bought products \n",
    "df_preds_may16[x_test_may16[target_cols]==1] = 0 \n",
    "preds_may16 = df_preds_may16.values\n",
    "preds_may16 = np.argsort(preds_may16, axis=1)\n",
    "preds_may16 = np.fliplr(preds_may16)[:, :7]\n",
    "\n",
    "test_id = x_test_may16.loc[:, 'ncodpers'].values\n",
    "final_preds_may16 = [' '.join([target_cols[k] for k in pred]) for pred in preds_may16]\n",
    "\n",
    "out_df_may16 = pd.DataFrame({'ncodpers': test_id, 'added_products': final_preds_may16})\n",
    "out_df_may16.to_csv('eda_4_28_may16.csv.gz', compression='gzip', index=False)"
   ]
  },
  {
   "cell_type": "markdown",
   "metadata": {},
   "source": [
    "### Combine two models"
   ]
  },
  {
   "cell_type": "code",
   "execution_count": 4,
   "metadata": {},
   "outputs": [],
   "source": [
    "preds_june15 = model_june15.predict(xgb.DMatrix(x_test_june15.values))\n",
    "preds_may16 = model_may16.predict(xgb.DMatrix(x_test_may16.values))\n",
    "\n",
    "preds1 = np.sqrt(preds_june15*preds_may16)\n",
    "preds2 = 0.5*preds_june15 + 0.5*preds_may16\n",
    "\n",
    "# Geometry mean\n",
    "df_preds1 = pd.DataFrame(preds1, index=x_test_may16.index, columns=target_cols)\n",
    "# Remove already bought products \n",
    "df_preds1[x_test_may16[target_cols]==1] = 0 \n",
    "preds1 = df_preds1.values\n",
    "preds1 = np.argsort(preds1, axis=1)\n",
    "preds1 = np.fliplr(preds1)[:, :7]\n",
    "\n",
    "test_id = x_test_may16.loc[:, 'ncodpers'].values\n",
    "final_preds1 = [' '.join([target_cols[k] for k in pred]) for pred in preds1]\n",
    "\n",
    "out_df1 = pd.DataFrame({'ncodpers': test_id, 'added_products': final_preds1})\n",
    "out_df1.to_csv('eda_4_28_gm.csv.gz', compression='gzip', index=False)\n",
    "\n",
    "# Algorithmic mean\n",
    "df_preds2 = pd.DataFrame(preds2, index=x_test_may16.index, columns=target_cols)\n",
    "# Remove already bought products \n",
    "df_preds2[x_test_may16[target_cols]==1] = 0 \n",
    "preds2 = df_preds2.values\n",
    "preds2 = np.argsort(preds2, axis=1)\n",
    "preds2 = np.fliplr(preds2)[:, :7]\n",
    "\n",
    "test_id = x_test_may16.loc[:, 'ncodpers'].values\n",
    "final_preds2 = [' '.join([target_cols[k] for k in pred]) for pred in preds2]\n",
    "\n",
    "out_df2 = pd.DataFrame({'ncodpers': test_id, 'added_products': final_preds2})\n",
    "out_df2.to_csv('eda_4_28_am.csv.gz', compression='gzip', index=False)\n"
   ]
  }
 ],
 "metadata": {
  "kernelspec": {
   "display_name": "Python 3",
   "language": "python",
   "name": "python3"
  },
  "language_info": {
   "codemirror_mode": {
    "name": "ipython",
    "version": 3
   },
   "file_extension": ".py",
   "mimetype": "text/x-python",
   "name": "python",
   "nbconvert_exporter": "python",
   "pygments_lexer": "ipython3",
   "version": "3.6.6"
  }
 },
 "nbformat": 4,
 "nbformat_minor": 2
}
