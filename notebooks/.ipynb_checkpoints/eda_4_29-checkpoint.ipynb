{
 "cells": [
  {
   "cell_type": "markdown",
   "metadata": {},
   "source": [
    "## Feature Engineering and CV based Winners' Solutions\n",
    "\n",
    "Try to use MAP@7 as `feval` for xgboost, failed because no way to tell xgboost how to group results by users. **Can only do this after train is finished.**\n",
    "\n",
    "New in this notebook:\n",
    "- A hacky implementation of MAP@7 evaluation. \n",
    "- This method is suitable when training on one month and validate on another month, since ncodpers is the key in ground truth dictionaries.\n",
    "- This method **only works if the MAP functions and training codes are in the same notebook**.\n",
    "- The MAP values shown during training is averaged by the number of customers with new products, so very different from LB. But it gives a sense of if the algorithm is good or not.\n",
    "\n",
    "To-do: \n",
    "- mean encoding of products grouped by combinations of: canal_entrada, segmento, cod_prov\n",
    "- Time since change and lags for a few non-product features: \n",
    "    - segmento\n",
    "    - ind_actividad_cliente\n",
    "    - cod_prov\n",
    "    - canal_entrada\n",
    "    - indrel_1mes\n",
    "    - tiprel_1mes\n",
    "\n",
    "\n",
    "Features:\n",
    "- before eda_4_29\n",
    "    - average of products for each (customer, product) pair\n",
    "    - exponent weighted average of products each (customer, product) pair\n",
    "    - time since presence of products, distance to the first 1\n",
    "    - time to the last positive flank (01)\n",
    "    - time to the last negative flank (10)\n",
    "    - time to the last 1, to the nearest product purchase\n",
    "    - time to the first 1, to the first product purchase\n",
    "    - Trained@2015-06-28, validated@2015-12-28, mlogloss=1.28481\n",
    "    - Private score: 0.0302054, public score: 0.0298683\n",
    "- before eda_4_25\n",
    "    - customer info in the second month\n",
    "    - products in the first month\n",
    "    - combination of first and second month `ind_actividad_cliente`\n",
    "    - combination of first and second month `tiprel_1mes`\n",
    "    - combination of first month product by using binary number (`target_combine`)\n",
    "    - encoding `target_combine` with \n",
    "        - mean number of new products\n",
    "        - mean number of customers with new products\n",
    "        - mean number of customers with each new products\n",
    "    - Count patterns in the last `max_lag` months\n",
    "    - Number of month to the last time the customer purchase each product\n",
    "        - CV@2015-12-28: mlogloss=1.29349\n",
    "        - Private score: 0.0302475, public score: 0.0299266\n",
    "- eda_4_25\n",
    "    - Use all available history data\n",
    "        - E.g., for 2016-05-28 train data, use all previous months, for 2015-02-28, use 1 lag month. \n",
    "        - Need to create test set that use the same amount of previous months for each training data set. \n",
    "        - This is from [the second winner's solution](https://www.kaggle.com/c/santander-product-recommendation/discussion/26824), his bold part in paragraph 4.\n",
    "    - Combine models trained on 2016-05-28 and 2015-06-28:\n",
    "        - Private score: 0.0304583, public score: 0.0300839\n",
    "        - This is to catch both seasonality and trend, presented in 2015-06-28 and 2016-05-28, respectively. \n",
    "        - This idea is mentioned by many winners, like [11-th winner](https://www.kaggle.com/c/santander-product-recommendation/discussion/26823) and [14-th winner](https://www.kaggle.com/c/santander-product-recommendation/discussion/26808)\n",
    "\n",
    "- eda_4_27\n",
    "    - put 2015-06-28 and 2016-05-28 in the same data set, with the same lag=5\n",
    "        - Private score:0.0303096, public score: 0.0299867\n",
    "        - Different as [11-th winner's discussion](https://www.kaggle.com/c/santander-product-recommendation/discussion/26823)\n",
    "            > We tested this by adding 50% of May-16 data to our June model and sure enough, we went from 0.0301 to 0.0303. Then, we built separate models for Jun and May, but the ensemble didn’t work. We weren’t surprised because June data is better for seasonal products, and May data is better for trend products. And vice-versa, June data is bad for trend products and May data is bad for seasonal products. So, they sort of cancelled each other out.\n",
    "\n",
    "        - But my score is always worse than theirs, maybe this is the reason why we have different observations"
   ]
  },
  {
   "cell_type": "markdown",
   "metadata": {},
   "source": [
    "# Compare two weights"
   ]
  },
  {
   "cell_type": "code",
   "execution_count": 1,
   "metadata": {},
   "outputs": [],
   "source": [
    "from santander_helper import *"
   ]
  },
  {
   "cell_type": "code",
   "execution_count": 2,
   "metadata": {},
   "outputs": [
    {
     "name": "stdout",
     "output_type": "stream",
     "text": [
      "Start weight index 1\n",
      "##################################################\n",
      "Train with weight 1, repetition 0 of 1\n",
      "[0]\ttrain-mlogloss:2.67638\tval-mlogloss:2.70565\ttrain-MAP@7:0.88631\tval-MAP@7:0.81919\n",
      "Validate logloss = 2.70565, MAP@7 = 0.81919, time = 0.10 min\n",
      "--------------------------------------------------\n",
      "\n",
      "\n",
      "Start weight index 9\n",
      "##################################################\n",
      "Train with weight 9, repetition 0 of 1\n",
      "[0]\ttrain-mlogloss:2.68363\tval-mlogloss:2.70917\ttrain-MAP@7:0.885003\tval-MAP@7:0.832782\n",
      "Validate logloss = 2.70917, MAP@7 = 0.83278, time = 0.09 min\n",
      "--------------------------------------------------\n",
      "\n",
      "\n",
      "Start weight index 10\n",
      "##################################################\n",
      "Train with weight 10, repetition 0 of 1\n",
      "[0]\ttrain-mlogloss:2.68617\tval-mlogloss:2.71719\ttrain-MAP@7:0.884277\tval-MAP@7:0.829887\n",
      "Validate logloss = 2.71719, MAP@7 = 0.82989, time = 0.09 min\n",
      "--------------------------------------------------\n",
      "\n",
      "\n",
      "Start weight index 11\n",
      "##################################################\n",
      "Train with weight 11, repetition 0 of 1\n",
      "[0]\ttrain-mlogloss:2.68869\tval-mlogloss:2.71573\ttrain-MAP@7:0.885267\tval-MAP@7:0.824591\n",
      "Validate logloss = 2.71573, MAP@7 = 0.82459, time = 0.09 min\n",
      "--------------------------------------------------\n",
      "\n",
      "\n",
      "Start weight index 12\n",
      "##################################################\n",
      "Train with weight 12, repetition 0 of 1\n",
      "[0]\ttrain-mlogloss:2.6918\tval-mlogloss:2.71844\ttrain-MAP@7:0.886598\tval-MAP@7:0.828002\n",
      "Validate logloss = 2.71844, MAP@7 = 0.82800, time = 0.09 min\n",
      "--------------------------------------------------\n",
      "\n",
      "\n",
      "Start weight index 13\n",
      "##################################################\n",
      "Train with weight 13, repetition 0 of 1\n",
      "[0]\ttrain-mlogloss:2.6942\tval-mlogloss:2.72466\ttrain-MAP@7:0.886583\tval-MAP@7:0.842039\n",
      "Validate logloss = 2.72466, MAP@7 = 0.84204, time = 0.09 min\n",
      "--------------------------------------------------\n",
      "\n",
      "\n",
      "Start weight index 14\n",
      "##################################################\n",
      "Train with weight 14, repetition 0 of 1\n",
      "[0]\ttrain-mlogloss:2.6995\tval-mlogloss:2.7305\ttrain-MAP@7:0.883266\tval-MAP@7:0.832909\n",
      "Validate logloss = 2.73050, MAP@7 = 0.83291, time = 0.09 min\n",
      "--------------------------------------------------\n",
      "\n",
      "\n",
      "Start weight index 15\n",
      "##################################################\n",
      "Train with weight 15, repetition 0 of 1\n",
      "[0]\ttrain-mlogloss:2.70121\tval-mlogloss:2.73313\ttrain-MAP@7:0.885666\tval-MAP@7:0.838465\n",
      "Validate logloss = 2.73313, MAP@7 = 0.83847, time = 0.09 min\n",
      "--------------------------------------------------\n",
      "\n",
      "\n"
     ]
    }
   ],
   "source": [
    "param = {'objective': 'multi:softprob', \n",
    "         'eta': 0.05, \n",
    "         'max_depth': 8, \n",
    "         'silent': 1, \n",
    "         'num_class': len(target_cols),\n",
    "         'eval_metric': 'mlogloss',\n",
    "         'min_child_weight': 1,\n",
    "         'subsample': 0.7,\n",
    "         'colsample_bytree': 0.7,\n",
    "         'seed': 0}\n",
    "num_rounds = 150\n",
    "month_train = '2015-06-28'\n",
    "month_val = '2016-05-28'\n",
    "weights = (4, 5, 6, 7, 8, 9)\n",
    "weights = (1, 9, 10, 11, 12, 13, 14, 15)\n",
    "\n",
    "history, model_dict = cv_month(param, num_rounds, month_train, month_val, n_repeat=7, random_seed=240,\n",
    "                    lag_train=5, lag_val=5, weight_set=weights, verbose_eval=True)"
   ]
  },
  {
   "cell_type": "code",
   "execution_count": 3,
   "metadata": {},
   "outputs": [],
   "source": [
    "history_prev = pd.read_csv('weight_cv_2_history.csv', header=[0, 1, 2, 3], index_col=0)\n",
    "history_prev.columns.set_levels(history_prev.columns.levels[0].astype(int), level=0, inplace=True) # convert string to int\n",
    "history_prev.columns.set_levels(history_prev.columns.levels[1].astype(int), level=1, inplace=True) # convert string to int\n",
    "val = {}\n",
    "\n",
    "# load previous result w=exp(1/n-1)\n",
    "val[1, 'mean'] = history_prev.xs(axis=1, level=[0, 2, 3], key=(9, 'val', 'MAP@7')).apply('mean', axis=1)\n",
    "val[1, 'std'] = history_prev.xs(axis=1, level=[0, 2, 3], key=(9, 'val', 'MAP@7')).apply('std', axis=1)\n",
    "\n",
    "# process current results\n",
    "for idx, metric in itertools.product(weights, ['mean', 'std']):\n",
    "    val[(idx, metric)] = history.xs(axis=1, level=[0, 2, 3], key=(idx, 'val', 'MAP@7')).apply(metric, axis=1)"
   ]
  },
  {
   "cell_type": "code",
   "execution_count": 5,
   "metadata": {},
   "outputs": [
    {
     "data": {
      "text/plain": [
       "<matplotlib.legend.Legend at 0x2a790472198>"
      ]
     },
     "execution_count": 5,
     "metadata": {},
     "output_type": "execute_result"
    },
    {
     "data": {
      "image/png": "[encoded data removed]",
      "text/plain": [
       "<Figure size 1152x648 with 1 Axes>"
      ]
     },
     "metadata": {},
     "output_type": "display_data"
    }
   ],
   "source": [
    "plt.figure(figsize=(16, 9))\n",
    "\n",
    "plt.plot(val[1, 'mean'], label='weight=exp(1/n-1)')\n",
    "plt.fill_between(history_prev.index, val[1, 'mean']-val[1, 'std'], val[1, 'mean']+val[1, 'std'], alpha=0.3)\n",
    "\n",
    "nd = {1: 1, 9: 0.7, 10: 0.6, 11: 0.5, 12: 0.4, 13: 0.3, 14: 0.2, 15: 0.1}\n",
    "for idx in weights:\n",
    "    plt.plot(val[idx, 'mean'], label='weight=exp({}/n-{})'.format(nd[idx], nd[idx]))\n",
    "    plt.fill_between(history.index, val[idx, 'mean']-val[idx, 'std'], val[idx, 'mean']+val[idx, 'std'], alpha=0.3)\n",
    "\n",
    "plt.grid()\n",
    "# plt.xlim(50, 100)\n",
    "# plt.ylim(0.85, 0.86)\n",
    "plt.legend()"
   ]
  },
  {
   "cell_type": "code",
   "execution_count": null,
   "metadata": {},
   "outputs": [],
   "source": [
    "history.to_csv('weight_cv_3_history.csv')"
   ]
  },
  {
   "cell_type": "code",
   "execution_count": null,
   "metadata": {},
   "outputs": [],
   "source": [
    "save_pickle('weight_cv_3_models.pickle', model_dict)"
   ]
  },
  {
   "cell_type": "code",
   "execution_count": null,
   "metadata": {},
   "outputs": [],
   "source": [
    "history"
   ]
  }
 ],
 "metadata": {
  "kernelspec": {
   "display_name": "Python 3",
   "language": "python",
   "name": "python3"
  },
  "language_info": {
   "codemirror_mode": {
    "name": "ipython",
    "version": 3
   },
   "file_extension": ".py",
   "mimetype": "text/x-python",
   "name": "python",
   "nbconvert_exporter": "python",
   "pygments_lexer": "ipython3",
   "version": "3.6.6"
  }
 },
 "nbformat": 4,
 "nbformat_minor": 2
}
