{
 "cells": [
  {
   "cell_type": "markdown",
   "metadata": {},
   "source": [
    "# Clean data\n",
    "\n",
    "Most winning solutions do not exploit data cleaning, and property features are not very useful, only production features are helpful. So clean data now."
   ]
  },
  {
   "cell_type": "code",
   "execution_count": 1,
   "metadata": {},
   "outputs": [],
   "source": [
    "import os\n",
    "if os.name=='nt':\n",
    "    try:\n",
    "        mingw_path = 'C:\\\\Program Files\\\\mingw-w64\\\\x86_64-8.1.0-posix-seh-rt_v6-rev0\\\\mingw64\\\\bin'\n",
    "        os.environ['PATH'] = mingw_path + ';' + os.environ['PATH']\n",
    "    except:\n",
    "        pass\n",
    "    \n",
    "import numpy as np\n",
    "import pandas as pd\n",
    "import seaborn as sns\n",
    "import matplotlib.pyplot as plt\n",
    "import tqdm\n",
    "\n",
    "tqdm.tqdm.pandas()\n",
    "\n",
    "%matplotlib inline"
   ]
  },
  {
   "cell_type": "code",
   "execution_count": 2,
   "metadata": {},
   "outputs": [
    {
     "name": "stderr",
     "output_type": "stream",
     "text": [
      "C:\\Users\\home\\Anaconda3\\envs\\kaggle\\lib\\site-packages\\IPython\\core\\interactiveshell.py:2785: DtypeWarning: Columns (5,8,11,15) have mixed types. Specify dtype option on import or set low_memory=False.\n",
      "  interactivity=interactivity, compiler=compiler, result=result)\n",
      "C:\\Users\\home\\Anaconda3\\envs\\kaggle\\lib\\site-packages\\IPython\\core\\interactiveshell.py:2785: DtypeWarning: Columns (15) have mixed types. Specify dtype option on import or set low_memory=False.\n",
      "  interactivity=interactivity, compiler=compiler, result=result)\n"
     ]
    }
   ],
   "source": [
    "df = pd.read_csv('../input/train_ver2.csv')\n",
    "dt = pd.read_csv('../input/test_ver2.csv')"
   ]
  },
  {
   "cell_type": "code",
   "execution_count": 24,
   "metadata": {},
   "outputs": [],
   "source": [
    "df = pd.concat((df, dt), sort=False, ignore_index=True)"
   ]
  },
  {
   "cell_type": "markdown",
   "metadata": {},
   "source": [
    "Datatime features"
   ]
  },
  {
   "cell_type": "code",
   "execution_count": 10,
   "metadata": {},
   "outputs": [],
   "source": [
    "df.fecha_dato = pd.to_datetime(df.fecha_dato)\n",
    "df.fecha_alta = pd.to_datetime(df.fecha_alta)\n",
    "df.ult_fec_cli_1t = pd.to_datetime(df.ult_fec_cli_1t)"
   ]
  },
  {
   "cell_type": "markdown",
   "metadata": {},
   "source": [
    "`ind_empleado` Employee index: A active, B ex employed, F filial, N not employee, P pasive"
   ]
  },
  {
   "cell_type": "code",
   "execution_count": 11,
   "metadata": {},
   "outputs": [
    {
     "data": {
      "text/plain": [
       "N      13610977\n",
       "NaN       27734\n",
       "B          3566\n",
       "F          2523\n",
       "A          2492\n",
       "S            17\n",
       "Name: ind_empleado, dtype: int64"
      ]
     },
     "execution_count": 11,
     "metadata": {},
     "output_type": "execute_result"
    }
   ],
   "source": [
    "df.ind_empleado.value_counts(dropna=False)"
   ]
  },
  {
   "cell_type": "code",
   "execution_count": 12,
   "metadata": {},
   "outputs": [],
   "source": [
    "df.ind_empleado = df.ind_empleado.astype('category')"
   ]
  },
  {
   "cell_type": "code",
   "execution_count": 14,
   "metadata": {},
   "outputs": [
    {
     "data": {
      "text/plain": [
       "N      13610977\n",
       "NaN       27734\n",
       "B          3566\n",
       "F          2523\n",
       "A          2492\n",
       "S            17\n",
       "Name: ind_empleado, dtype: int64"
      ]
     },
     "execution_count": 14,
     "metadata": {},
     "output_type": "execute_result"
    }
   ],
   "source": [
    "df.ind_empleado.value_counts(dropna=False)"
   ]
  },
  {
   "cell_type": "markdown",
   "metadata": {},
   "source": [
    "`pais_residencia` Customer's Country residence"
   ]
  },
  {
   "cell_type": "code",
   "execution_count": 16,
   "metadata": {},
   "outputs": [
    {
     "data": {
      "text/plain": [
       "ES     13553710\n",
       "NaN       27734\n",
       "FR         5161\n",
       "AR         4835\n",
       "DE         4625\n",
       "Name: pais_residencia, dtype: int64"
      ]
     },
     "execution_count": 16,
     "metadata": {},
     "output_type": "execute_result"
    }
   ],
   "source": [
    "df.pais_residencia.value_counts(dropna=False).head()"
   ]
  },
  {
   "cell_type": "code",
   "execution_count": 17,
   "metadata": {},
   "outputs": [],
   "source": [
    "df.pais_residencia = df.pais_residencia.astype('category')"
   ]
  },
  {
   "cell_type": "code",
   "execution_count": 18,
   "metadata": {},
   "outputs": [
    {
     "data": {
      "text/plain": [
       "ES     13553710\n",
       "NaN       27734\n",
       "FR         5161\n",
       "AR         4835\n",
       "DE         4625\n",
       "Name: pais_residencia, dtype: int64"
      ]
     },
     "execution_count": 18,
     "metadata": {},
     "output_type": "execute_result"
    }
   ],
   "source": [
    "df.pais_residencia.value_counts(dropna=False).head()"
   ]
  },
  {
   "cell_type": "markdown",
   "metadata": {},
   "source": [
    "`sexo` Customer's sex, V man, H woman"
   ]
  },
  {
   "cell_type": "code",
   "execution_count": 19,
   "metadata": {},
   "outputs": [
    {
     "data": {
      "text/plain": [
       "V      7424252\n",
       "H      6195253\n",
       "NaN      27804\n",
       "Name: sexo, dtype: int64"
      ]
     },
     "execution_count": 19,
     "metadata": {},
     "output_type": "execute_result"
    }
   ],
   "source": [
    "df.sexo.value_counts(dropna=False)"
   ]
  },
  {
   "cell_type": "code",
   "execution_count": 20,
   "metadata": {},
   "outputs": [],
   "source": [
    "df.sexo = df.sexo.astype('category')"
   ]
  },
  {
   "cell_type": "code",
   "execution_count": 21,
   "metadata": {},
   "outputs": [
    {
     "data": {
      "text/plain": [
       "V      7424252\n",
       "H      6195253\n",
       "NaN      27804\n",
       "Name: sexo, dtype: int64"
      ]
     },
     "execution_count": 21,
     "metadata": {},
     "output_type": "execute_result"
    }
   ],
   "source": [
    "df.sexo.value_counts(dropna=False)"
   ]
  },
  {
   "cell_type": "markdown",
   "metadata": {},
   "source": [
    "`age`"
   ]
  },
  {
   "cell_type": "code",
   "execution_count": 23,
   "metadata": {},
   "outputs": [],
   "source": [
    "df.age = pd.to_numeric(df.age, errors='coerce')"
   ]
  },
  {
   "cell_type": "code",
   "execution_count": 28,
   "metadata": {},
   "outputs": [
    {
     "data": {
      "text/plain": [
       " 126.0        3\n",
       " 127.0        8\n",
       " 163.0        8\n",
       " 164.0        3\n",
       "NaN       27734\n",
       "Name: age, dtype: int64"
      ]
     },
     "execution_count": 28,
     "metadata": {},
     "output_type": "execute_result"
    }
   ],
   "source": [
    "df.age.value_counts(dropna=False).sort_index().tail()"
   ]
  },
  {
   "cell_type": "markdown",
   "metadata": {},
   "source": [
    "`ind_nuevo` New customer Index. 1 if the customer registered in the last 6 months."
   ]
  },
  {
   "cell_type": "code",
   "execution_count": 29,
   "metadata": {},
   "outputs": [
    {
     "data": {
      "text/plain": [
       " 0.0    12808368\n",
       " 1.0      811207\n",
       "NaN        27734\n",
       "Name: ind_nuevo, dtype: int64"
      ]
     },
     "execution_count": 29,
     "metadata": {},
     "output_type": "execute_result"
    }
   ],
   "source": [
    "df.ind_nuevo.value_counts(dropna=False)"
   ]
  },
  {
   "cell_type": "code",
   "execution_count": 30,
   "metadata": {},
   "outputs": [],
   "source": [
    "df.ind_nuevo = df.ind_nuevo.astype('category')"
   ]
  },
  {
   "cell_type": "code",
   "execution_count": 32,
   "metadata": {},
   "outputs": [
    {
     "data": {
      "text/plain": [
       " 0.0    12808368\n",
       " 1.0      811207\n",
       "NaN        27734\n",
       "Name: ind_nuevo, dtype: int64"
      ]
     },
     "execution_count": 32,
     "metadata": {},
     "output_type": "execute_result"
    }
   ],
   "source": [
    "df.ind_nuevo.value_counts(dropna=False)"
   ]
  },
  {
   "cell_type": "markdown",
   "metadata": {},
   "source": [
    "`antiguedad` Customer seniority (in months)"
   ]
  },
  {
   "cell_type": "code",
   "execution_count": 31,
   "metadata": {},
   "outputs": [
    {
     "data": {
      "text/plain": [
       "0          134335\n",
       "1          130681\n",
       "12         130589\n",
       "3          125789\n",
       "2          125133\n",
       "5          122246\n",
       "     21    118544\n",
       "4          117501\n",
       "14         112959\n",
       "     12    112571\n",
       "6          111329\n",
       "17         109770\n",
       "16         109440\n",
       "7          109156\n",
       "15         108838\n",
       "13         107487\n",
       "24         104439\n",
       "10         104434\n",
       "18         104287\n",
       "26         103378\n",
       "     10    101731\n",
       "25          99037\n",
       "8           98171\n",
       "27          96927\n",
       "28          96575\n",
       "23          96281\n",
       "21          96251\n",
       "19          96000\n",
       "     33     95100\n",
       "38          93861\n",
       "            ...  \n",
       "    238      2948\n",
       "    215      2904\n",
       "    228      2876\n",
       "    203      2510\n",
       "    236      2378\n",
       "248          2271\n",
       "    230      2258\n",
       "    241      1980\n",
       "    226      1967\n",
       "      1      1898\n",
       "    233      1863\n",
       "    240      1854\n",
       "249          1777\n",
       "250          1512\n",
       "    227      1356\n",
       "    242      1148\n",
       "251          1071\n",
       "    239       872\n",
       "    243       713\n",
       "252           676\n",
       "    246       507\n",
       "    244       450\n",
       "253           416\n",
       "    245       360\n",
       "254           261\n",
       "255           179\n",
       "      0       149\n",
       "256           102\n",
       "-999999        26\n",
       "-999999        12\n",
       "Name: antiguedad, Length: 507, dtype: int64"
      ]
     },
     "execution_count": 31,
     "metadata": {},
     "output_type": "execute_result"
    }
   ],
   "source": [
    "df.antiguedad.value_counts(dropna=False)"
   ]
  },
  {
   "cell_type": "code",
   "execution_count": 33,
   "metadata": {},
   "outputs": [],
   "source": [
    "df.antiguedad = pd.to_numeric(df.antiguedad, errors='coerce')"
   ]
  },
  {
   "cell_type": "code",
   "execution_count": 36,
   "metadata": {},
   "outputs": [
    {
     "data": {
      "text/plain": [
       "-999999.0        38\n",
       " 0.0         134484\n",
       " 1.0         132579\n",
       " 2.0         130259\n",
       " 3.0         132745\n",
       " 4.0         127442\n",
       " 5.0         139618\n",
       " 6.0         127176\n",
       " 7.0         129262\n",
       " 8.0         155703\n",
       " 9.0         177957\n",
       " 10.0        206165\n",
       " 11.0        124718\n",
       " 12.0        243160\n",
       " 13.0        123990\n",
       " 14.0        126798\n",
       " 15.0        121716\n",
       " 16.0        135307\n",
       " 17.0        125055\n",
       " 18.0        125186\n",
       " 19.0        118696\n",
       " 20.0        145050\n",
       " 21.0        214795\n",
       " 22.0        154809\n",
       " 23.0        177839\n",
       " 24.0        167059\n",
       " 25.0        108448\n",
       " 26.0        113488\n",
       " 27.0        107958\n",
       " 28.0        104820\n",
       "              ...  \n",
       " 228.0        11920\n",
       " 229.0        11613\n",
       " 230.0        10861\n",
       " 231.0        13120\n",
       " 232.0        11134\n",
       " 233.0         9198\n",
       " 234.0        10347\n",
       " 235.0        10836\n",
       " 236.0         9118\n",
       " 237.0        13165\n",
       " 238.0        10728\n",
       " 239.0         8056\n",
       " 240.0         9036\n",
       " 241.0         8953\n",
       " 242.0         7425\n",
       " 243.0         6514\n",
       " 244.0         5928\n",
       " 245.0         4918\n",
       " 246.0         4591\n",
       " 247.0         3516\n",
       " 248.0         2271\n",
       " 249.0         1777\n",
       " 250.0         1512\n",
       " 251.0         1071\n",
       " 252.0          676\n",
       " 253.0          416\n",
       " 254.0          261\n",
       " 255.0          179\n",
       " 256.0          102\n",
       "NaN           27734\n",
       "Name: antiguedad, Length: 259, dtype: int64"
      ]
     },
     "execution_count": 36,
     "metadata": {},
     "output_type": "execute_result"
    }
   ],
   "source": [
    "df.antiguedad.value_counts(dropna=False).sort_index()"
   ]
  },
  {
   "cell_type": "markdown",
   "metadata": {},
   "source": [
    "`indrel` 1 (First/Primary), 99 (Primary customer during the month but not at the end of the month)"
   ]
  },
  {
   "cell_type": "code",
   "execution_count": 37,
   "metadata": {},
   "outputs": [
    {
     "data": {
      "text/plain": [
       " 1.0     13594782\n",
       "NaN         27734\n",
       " 99.0       24793\n",
       "Name: indrel, dtype: int64"
      ]
     },
     "execution_count": 37,
     "metadata": {},
     "output_type": "execute_result"
    }
   ],
   "source": [
    "df.indrel.value_counts(dropna=False)"
   ]
  },
  {
   "cell_type": "code",
   "execution_count": 38,
   "metadata": {},
   "outputs": [],
   "source": [
    "df.indrel = df.indrel.astype('category')"
   ]
  },
  {
   "cell_type": "markdown",
   "metadata": {},
   "source": [
    "`indrel_1mes` Customer relation type at the beginning of the month, A (active), I (inactive), P (former customer),R (Potential)"
   ]
  },
  {
   "cell_type": "code",
   "execution_count": 41,
   "metadata": {},
   "outputs": [
    {
     "data": {
      "text/plain": [
       "1.0    7277607\n",
       "1.0    4017746\n",
       "1      2195328\n",
       "NaN     149781\n",
       "3.0       1804\n",
       "3.0       1409\n",
       "3         1137\n",
       "P          874\n",
       "2          483\n",
       "2.0        479\n",
       "2.0        355\n",
       "4.0        143\n",
       "4.0         93\n",
       "4           70\n",
       "Name: indrel_1mes, dtype: int64"
      ]
     },
     "execution_count": 41,
     "metadata": {},
     "output_type": "execute_result"
    }
   ],
   "source": [
    "df.indrel_1mes.value_counts(dropna=False)"
   ]
  },
  {
   "cell_type": "code",
   "execution_count": 42,
   "metadata": {},
   "outputs": [],
   "source": [
    "df.indrel_1mes.replace('P', 0, inplace=True)"
   ]
  },
  {
   "cell_type": "code",
   "execution_count": 43,
   "metadata": {},
   "outputs": [
    {
     "data": {
      "text/plain": [
       "1.0    7277607\n",
       "1.0    4017746\n",
       "1      2195328\n",
       "NaN     149781\n",
       "3.0       1804\n",
       "3.0       1409\n",
       "3         1137\n",
       "0          874\n",
       "2          483\n",
       "2.0        479\n",
       "2.0        355\n",
       "4.0        143\n",
       "4.0         93\n",
       "4           70\n",
       "Name: indrel_1mes, dtype: int64"
      ]
     },
     "execution_count": 43,
     "metadata": {},
     "output_type": "execute_result"
    }
   ],
   "source": [
    "df.indrel_1mes.value_counts(dropna=False)"
   ]
  },
  {
   "cell_type": "code",
   "execution_count": 44,
   "metadata": {},
   "outputs": [],
   "source": [
    "df.indrel_1mes = pd.to_numeric(df.indrel_1mes)"
   ]
  },
  {
   "cell_type": "code",
   "execution_count": 45,
   "metadata": {},
   "outputs": [
    {
     "data": {
      "text/plain": [
       " 1.0    13490681\n",
       "NaN       149781\n",
       " 3.0        4350\n",
       " 2.0        1317\n",
       " 0.0         874\n",
       " 4.0         306\n",
       "Name: indrel_1mes, dtype: int64"
      ]
     },
     "execution_count": 45,
     "metadata": {},
     "output_type": "execute_result"
    }
   ],
   "source": [
    "df.indrel_1mes.value_counts(dropna=False)"
   ]
  },
  {
   "cell_type": "code",
   "execution_count": 46,
   "metadata": {},
   "outputs": [],
   "source": [
    "df.indrel_1mes = df.indrel_1mes.astype('category')"
   ]
  },
  {
   "cell_type": "markdown",
   "metadata": {},
   "source": [
    "`indresi` Residence index (S (Yes) or N (No) if the residence country is the same than the bank country)"
   ]
  },
  {
   "cell_type": "code",
   "execution_count": 47,
   "metadata": {},
   "outputs": [
    {
     "data": {
      "text/plain": [
       "S      13553711\n",
       "N         65864\n",
       "NaN       27734\n",
       "Name: indresi, dtype: int64"
      ]
     },
     "execution_count": 47,
     "metadata": {},
     "output_type": "execute_result"
    }
   ],
   "source": [
    "df.indresi.value_counts(dropna=False)"
   ]
  },
  {
   "cell_type": "code",
   "execution_count": 48,
   "metadata": {},
   "outputs": [],
   "source": [
    "df.indresi = df.indresi.astype('category')"
   ]
  },
  {
   "cell_type": "markdown",
   "metadata": {},
   "source": [
    "`indext` Foreigner index (S (Yes) or N (No) if the customer's birth country is different than the bank country)"
   ]
  },
  {
   "cell_type": "code",
   "execution_count": 49,
   "metadata": {},
   "outputs": [
    {
     "data": {
      "text/plain": [
       "N      12974839\n",
       "S        644736\n",
       "NaN       27734\n",
       "Name: indext, dtype: int64"
      ]
     },
     "execution_count": 49,
     "metadata": {},
     "output_type": "execute_result"
    }
   ],
   "source": [
    "df.indext.value_counts(dropna=False)"
   ]
  },
  {
   "cell_type": "code",
   "execution_count": 50,
   "metadata": {},
   "outputs": [],
   "source": [
    "df.indext = df.indext.astype('category')"
   ]
  },
  {
   "cell_type": "markdown",
   "metadata": {},
   "source": [
    "`conyuemp` Spouse index. 1 if the customer is spouse of an employee"
   ]
  },
  {
   "cell_type": "code",
   "execution_count": 51,
   "metadata": {},
   "outputs": [
    {
     "data": {
      "text/plain": [
       "NaN    13645501\n",
       "N          1791\n",
       "S            17\n",
       "Name: conyuemp, dtype: int64"
      ]
     },
     "execution_count": 51,
     "metadata": {},
     "output_type": "execute_result"
    }
   ],
   "source": [
    "df.conyuemp.value_counts(dropna=False)"
   ]
  },
  {
   "cell_type": "code",
   "execution_count": 52,
   "metadata": {},
   "outputs": [],
   "source": [
    "df.conyuemp = df.conyuemp.astype('category')"
   ]
  },
  {
   "cell_type": "code",
   "execution_count": 53,
   "metadata": {},
   "outputs": [
    {
     "data": {
      "text/plain": [
       "NaN    13645501\n",
       "N          1791\n",
       "S            17\n",
       "Name: conyuemp, dtype: int64"
      ]
     },
     "execution_count": 53,
     "metadata": {},
     "output_type": "execute_result"
    }
   ],
   "source": [
    "df.conyuemp.value_counts(dropna=False)"
   ]
  },
  {
   "cell_type": "markdown",
   "metadata": {},
   "source": [
    "`canal_entrada` channel used by the customer to join"
   ]
  },
  {
   "cell_type": "code",
   "execution_count": 54,
   "metadata": {},
   "outputs": [
    {
     "data": {
      "text/plain": [
       "KHE    4055270\n",
       "KAT    3268209\n",
       "KFC    3098360\n",
       "KHQ     591039\n",
       "KFA     409669\n",
       "KHK     241084\n",
       "NaN     186126\n",
       "KHM     183924\n",
       "KHD     116891\n",
       "KHN     116608\n",
       "KAS      86221\n",
       "RED      75607\n",
       "KAG      74295\n",
       "KAY      67350\n",
       "KAA      66656\n",
       "KAB      62381\n",
       "KAE      50764\n",
       "KCC      49308\n",
       "KBZ      46446\n",
       "KHL      45128\n",
       "KFD      44461\n",
       "KAI      37699\n",
       "KEY      35146\n",
       "KAW      34275\n",
       "KAR      32686\n",
       "KAZ      32186\n",
       "KAF      30559\n",
       "007      29063\n",
       "013      27139\n",
       "KCI      26546\n",
       "        ...   \n",
       "004        210\n",
       "KCQ        198\n",
       "KDN        197\n",
       "KCR        196\n",
       "KDH        191\n",
       "KCO        179\n",
       "KEE        175\n",
       "KCP        158\n",
       "K00        152\n",
       "KBE        147\n",
       "KEQ        146\n",
       "KFB        107\n",
       "KAV        107\n",
       "KCT        105\n",
       "KBX        102\n",
       "KBP         85\n",
       "KEM         68\n",
       "KCX         67\n",
       "KFV         67\n",
       "KBN         61\n",
       "KHA         51\n",
       "KGC         28\n",
       "KGU         28\n",
       "KDB         17\n",
       "KDI         17\n",
       "KGN         17\n",
       "KDL         11\n",
       "025         11\n",
       "KHS          5\n",
       "KHR          1\n",
       "Name: canal_entrada, Length: 163, dtype: int64"
      ]
     },
     "execution_count": 54,
     "metadata": {},
     "output_type": "execute_result"
    }
   ],
   "source": [
    "df.canal_entrada.value_counts(dropna=False)"
   ]
  },
  {
   "cell_type": "code",
   "execution_count": 55,
   "metadata": {},
   "outputs": [],
   "source": [
    "df.canal_entrada = df.canal_entrada.astype('category')"
   ]
  },
  {
   "cell_type": "markdown",
   "metadata": {},
   "source": [
    "`indfall` Deceased index. N/S"
   ]
  },
  {
   "cell_type": "code",
   "execution_count": 56,
   "metadata": {},
   "outputs": [
    {
     "data": {
      "text/plain": [
       "N      13584813\n",
       "S         34762\n",
       "NaN       27734\n",
       "Name: indfall, dtype: int64"
      ]
     },
     "execution_count": 56,
     "metadata": {},
     "output_type": "execute_result"
    }
   ],
   "source": [
    "df.indfall.value_counts(dropna=False)"
   ]
  },
  {
   "cell_type": "code",
   "execution_count": 57,
   "metadata": {},
   "outputs": [],
   "source": [
    "df.indfall = df.indfall.astype('category')"
   ]
  },
  {
   "cell_type": "markdown",
   "metadata": {},
   "source": [
    "`tipodom` Addres type. 1, primary address"
   ]
  },
  {
   "cell_type": "code",
   "execution_count": 58,
   "metadata": {},
   "outputs": [
    {
     "data": {
      "text/plain": [
       " 1.0    13619574\n",
       "NaN        27735\n",
       "Name: tipodom, dtype: int64"
      ]
     },
     "execution_count": 58,
     "metadata": {},
     "output_type": "execute_result"
    }
   ],
   "source": [
    "df.tipodom.value_counts(dropna=False)"
   ]
  },
  {
   "cell_type": "code",
   "execution_count": 60,
   "metadata": {},
   "outputs": [],
   "source": [
    "df.tipodom = df.tipodom.astype('category')"
   ]
  },
  {
   "cell_type": "markdown",
   "metadata": {},
   "source": [
    "`cod_prov` Province code (customer's address)"
   ]
  },
  {
   "cell_type": "code",
   "execution_count": 61,
   "metadata": {},
   "outputs": [
    {
     "data": {
      "text/plain": [
       " 28.0    4409600\n",
       " 8.0     1275219\n",
       " 46.0     682304\n",
       " 41.0     605164\n",
       " 15.0     429322\n",
       " 30.0     396759\n",
       " 29.0     367023\n",
       " 50.0     342543\n",
       " 3.0      313397\n",
       " 11.0     294684\n",
       " 36.0     280026\n",
       " 33.0     265749\n",
       " 47.0     238259\n",
       " 35.0     235700\n",
       " 6.0      192996\n",
       " 48.0     185888\n",
       " 45.0     183067\n",
       " 18.0     178562\n",
       " 37.0     164238\n",
       " 39.0     155706\n",
       " 14.0     144679\n",
       " 10.0     129912\n",
       " 7.0      124933\n",
       " 21.0     122283\n",
       " 13.0     119390\n",
       " 2.0      114128\n",
       " 12.0     104295\n",
       " 43.0     100115\n",
       " 9.0       97188\n",
       "NaN        93591\n",
       " 17.0      90538\n",
       " 31.0      88618\n",
       " 26.0      85202\n",
       " 27.0      84962\n",
       " 32.0      84009\n",
       " 24.0      83003\n",
       " 25.0      79059\n",
       " 20.0      71567\n",
       " 38.0      70968\n",
       " 19.0      64618\n",
       " 23.0      64363\n",
       " 4.0       60291\n",
       " 16.0      57310\n",
       " 49.0      50927\n",
       " 34.0      49282\n",
       " 40.0      42341\n",
       " 22.0      40181\n",
       " 5.0       38783\n",
       " 1.0       37704\n",
       " 44.0      22525\n",
       " 42.0      17660\n",
       " 52.0       9460\n",
       " 51.0       7218\n",
       "Name: cod_prov, dtype: int64"
      ]
     },
     "execution_count": 61,
     "metadata": {},
     "output_type": "execute_result"
    }
   ],
   "source": [
    "df.cod_prov.value_counts(dropna=False)"
   ]
  },
  {
   "cell_type": "code",
   "execution_count": 62,
   "metadata": {},
   "outputs": [],
   "source": [
    "df.cod_prov = pd.to_numeric(df.cod_prov, errors='coerce', downcast='integer')"
   ]
  },
  {
   "cell_type": "code",
   "execution_count": 63,
   "metadata": {},
   "outputs": [],
   "source": [
    "df.cod_prov = df.cod_prov.astype('category')"
   ]
  },
  {
   "cell_type": "markdown",
   "metadata": {},
   "source": [
    "`nomprov` Province name"
   ]
  },
  {
   "cell_type": "code",
   "execution_count": 64,
   "metadata": {},
   "outputs": [
    {
     "data": {
      "text/plain": [
       "MADRID                    4409600\n",
       "BARCELONA                 1275219\n",
       "VALENCIA                   682304\n",
       "SEVILLA                    605164\n",
       "CORUÑA, A                  429322\n",
       "MURCIA                     396759\n",
       "MALAGA                     367023\n",
       "ZARAGOZA                   342543\n",
       "ALICANTE                   313397\n",
       "CADIZ                      294684\n",
       "PONTEVEDRA                 280026\n",
       "ASTURIAS                   265749\n",
       "VALLADOLID                 238259\n",
       "PALMAS, LAS                235700\n",
       "BADAJOZ                    192996\n",
       "BIZKAIA                    185888\n",
       "TOLEDO                     183067\n",
       "GRANADA                    178562\n",
       "SALAMANCA                  164238\n",
       "CANTABRIA                  155706\n",
       "CORDOBA                    144679\n",
       "CACERES                    129912\n",
       "BALEARS, ILLES             124933\n",
       "HUELVA                     122283\n",
       "CIUDAD REAL                119390\n",
       "ALBACETE                   114128\n",
       "CASTELLON                  104295\n",
       "TARRAGONA                  100115\n",
       "BURGOS                      97188\n",
       "GIRONA                      90538\n",
       "NAVARRA                     88618\n",
       "RIOJA, LA                   85202\n",
       "LUGO                        84962\n",
       "OURENSE                     84009\n",
       "LEON                        83003\n",
       "LERIDA                      79059\n",
       "GIPUZKOA                    71567\n",
       "SANTA CRUZ DE TENERIFE      70968\n",
       "GUADALAJARA                 64618\n",
       "JAEN                        64363\n",
       "ALMERIA                     60291\n",
       "CUENCA                      57310\n",
       "ZAMORA                      50927\n",
       "PALENCIA                    49282\n",
       "SEGOVIA                     42341\n",
       "HUESCA                      40181\n",
       "AVILA                       38783\n",
       "ALAVA                       37704\n",
       "TERUEL                      22525\n",
       "SORIA                       17660\n",
       "MELILLA                      9460\n",
       "CEUTA                        7218\n",
       "Name: nomprov, dtype: int64"
      ]
     },
     "execution_count": 64,
     "metadata": {},
     "output_type": "execute_result"
    }
   ],
   "source": [
    "df.nomprov.value_counts()"
   ]
  },
  {
   "cell_type": "code",
   "execution_count": 65,
   "metadata": {},
   "outputs": [],
   "source": [
    "df.nomprov = df.nomprov.astype('category')"
   ]
  },
  {
   "cell_type": "markdown",
   "metadata": {},
   "source": [
    "`ind_actividad_cliente` Activity index (1, active customer; 0, inactive customer)"
   ]
  },
  {
   "cell_type": "code",
   "execution_count": 67,
   "metadata": {},
   "outputs": [
    {
     "data": {
      "text/plain": [
       " 0.0    7384390\n",
       " 1.0    6235185\n",
       "NaN       27734\n",
       "Name: ind_actividad_cliente, dtype: int64"
      ]
     },
     "execution_count": 67,
     "metadata": {},
     "output_type": "execute_result"
    }
   ],
   "source": [
    "df.ind_actividad_cliente.value_counts(dropna=False)"
   ]
  },
  {
   "cell_type": "code",
   "execution_count": 68,
   "metadata": {},
   "outputs": [],
   "source": [
    "df.ind_actividad_cliente = df.ind_actividad_cliente.astype('category')"
   ]
  },
  {
   "cell_type": "markdown",
   "metadata": {},
   "source": [
    "`renta` Gross income of the household"
   ]
  },
  {
   "cell_type": "code",
   "execution_count": 69,
   "metadata": {},
   "outputs": [],
   "source": [
    "df.renta = pd.to_numeric(df.renta)"
   ]
  },
  {
   "cell_type": "markdown",
   "metadata": {},
   "source": [
    "`segmento` segmentation: 01 - VIP, 02 - Individuals 03 - college graduated"
   ]
  },
  {
   "cell_type": "code",
   "execution_count": 71,
   "metadata": {},
   "outputs": [
    {
     "data": {
      "text/plain": [
       "02 - PARTICULARES     7960220\n",
       "03 - UNIVERSITARIO    4935579\n",
       "01 - TOP               562142\n",
       "NaN                    189368\n",
       "Name: segmento, dtype: int64"
      ]
     },
     "execution_count": 71,
     "metadata": {},
     "output_type": "execute_result"
    }
   ],
   "source": [
    "df.segmento.value_counts(dropna=False)"
   ]
  },
  {
   "cell_type": "code",
   "execution_count": 73,
   "metadata": {},
   "outputs": [],
   "source": [
    "df.segmento.replace('02 - PARTICULARES', 2, inplace=True)\n",
    "df.segmento.replace('03 - UNIVERSITARIO', 3, inplace=True)\n",
    "df.segmento.replace('01 - TOP', 1, inplace=True)"
   ]
  },
  {
   "cell_type": "code",
   "execution_count": 74,
   "metadata": {},
   "outputs": [],
   "source": [
    "df.segmento = df.segmento.astype('category')"
   ]
  },
  {
   "cell_type": "code",
   "execution_count": 75,
   "metadata": {},
   "outputs": [
    {
     "data": {
      "text/plain": [
       " 2.0    7960220\n",
       " 3.0    4935579\n",
       " 1.0     562142\n",
       "NaN      189368\n",
       "Name: segmento, dtype: int64"
      ]
     },
     "execution_count": 75,
     "metadata": {},
     "output_type": "execute_result"
    }
   ],
   "source": [
    "df.segmento.value_counts(dropna=False)"
   ]
  },
  {
   "cell_type": "code",
   "execution_count": 76,
   "metadata": {},
   "outputs": [
    {
     "name": "stderr",
     "output_type": "stream",
     "text": [
      "C:\\Users\\home\\Anaconda3\\envs\\kaggle\\lib\\site-packages\\tables\\leaf.py:357: RuntimeWarning: overflow encountered in long_scalars\n",
      "  expected_mb = (expectedrows * rowsize) // MB\n"
     ]
    }
   ],
   "source": [
    "df.to_hdf('../input/data.hdf', 'train_ver2', complib='blosc:lz4', complevel=9, format='t')"
   ]
  },
  {
   "cell_type": "code",
   "execution_count": null,
   "metadata": {},
   "outputs": [],
   "source": []
  }
 ],
 "metadata": {
  "kernelspec": {
   "display_name": "Python 3",
   "language": "python",
   "name": "python3"
  },
  "language_info": {
   "codemirror_mode": {
    "name": "ipython",
    "version": 3
   },
   "file_extension": ".py",
   "mimetype": "text/x-python",
   "name": "python",
   "nbconvert_exporter": "python",
   "pygments_lexer": "ipython3",
   "version": "3.6.6"
  }
 },
 "nbformat": 4,
 "nbformat_minor": 2
}
