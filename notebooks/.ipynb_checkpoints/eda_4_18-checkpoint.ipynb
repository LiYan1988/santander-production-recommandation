{
 "cells": [
  {
   "cell_type": "markdown",
   "metadata": {},
   "source": [
    "## Feature Engineering in RAM-Limited Data, Part 4\n",
    "\n",
    "#### Mean encoding of `target_combine` one the previous month target\n",
    "1. In order to mean encode `target_combine`, I have to first have lag target of previous months. For example, for June training set, I can include products in April and May, and also encode all products bought in April with the mean target in May.\n",
    "\n",
    "2. Another way of mean encoding is to not use time series. Just put all target together and analyze. In this case, we can have the results as in the [3-rd solution](http://blog.kaggle.com/2017/02/22/santander-product-recommendation-competition-3rd-place-winners-interview-ryuji-sakata/) and [forum discussion](https://www.kaggle.com/c/santander-product-recommendation/discussion/26899).\n",
    "\n",
    "The first method is too complicated to implement, so I will try the second one.\n",
    "\n",
    "#### CV@2015-12-28:\n",
    "- benchmark: val = 1.62857\n",
    "- with only `ind_actividad_client_combine`, `tiprel_1mes_combine`, `target_combine`, mlogloss=1.57141\n",
    "- with `ind_actividad_client_combine`, `tiprel_1mes_combine`, `target_combine`, `n_products` and patterns: val = 1.31122\n",
    "- Private score: 0.0302475, public score: 0.0299266"
   ]
  },
  {
   "cell_type": "code",
   "execution_count": 1,
   "metadata": {},
   "outputs": [],
   "source": [
    "from santander_helper import *\n",
    "%matplotlib inline"
   ]
  },
  {
   "cell_type": "markdown",
   "metadata": {},
   "source": [
    "## Encoding"
   ]
  },
  {
   "cell_type": "markdown",
   "metadata": {},
   "source": [
    "Load targets"
   ]
  },
  {
   "cell_type": "code",
   "execution_count": 2,
   "metadata": {},
   "outputs": [
    {
     "name": "stdout",
     "output_type": "stream",
     "text": [
      "Create targets\n"
     ]
    },
    {
     "data": {
      "application/vnd.jupyter.widget-view+json": {
       "model_id": "327b13be48754cdf96c55116d2d739b6",
       "version_major": 2,
       "version_minor": 0
      },
      "text/plain": [
       "HBox(children=(IntProgress(value=0, max=16), HTML(value='')))"
      ]
     },
     "metadata": {},
     "output_type": "display_data"
    },
    {
     "name": "stdout",
     "output_type": "stream",
     "text": [
      "\n"
     ]
    }
   ],
   "source": [
    "if os.path.isfile('../input/targets.hdf'):\n",
    "    targets = pd.read_hdf('../input/targets.hdf', 'targets')\n",
    "else:\n",
    "    print('Create targets')\n",
    "    targets = []\n",
    "    for m1, m2 in tqdm.tqdm_notebook(list(zip(month_list[:-2], month_list[1:-1]))):\n",
    "        target1 = obtain_target(m2)\n",
    "        target1['fecha_dato'] = m2\n",
    "        targets.append(target1)\n",
    "\n",
    "    targets = pd.concat(targets, ignore_index=True, copy=False)\n",
    "    targets.to_hdf('../input/targets.hdf', 'targets')"
   ]
  },
  {
   "cell_type": "markdown",
   "metadata": {},
   "source": [
    "Load products "
   ]
  },
  {
   "cell_type": "code",
   "execution_count": 3,
   "metadata": {
    "scrolled": true
   },
   "outputs": [
    {
     "data": {
      "application/vnd.jupyter.widget-view+json": {
       "model_id": "2b0c48b9eb4244a4912b16142d540c23",
       "version_major": 2,
       "version_minor": 0
      },
      "text/plain": [
       "HBox(children=(IntProgress(value=0, max=18), HTML(value='')))"
      ]
     },
     "metadata": {},
     "output_type": "display_data"
    },
    {
     "name": "stdout",
     "output_type": "stream",
     "text": [
      "\n"
     ]
    }
   ],
   "source": [
    "df = []\n",
    "for month in tqdm.tqdm_notebook(month_list):\n",
    "    df.append(pd.read_hdf('../input/data_month_{}.hdf'.format(month), 'data_month'))\n",
    "df = pd.concat(df, ignore_index=True)"
   ]
  },
  {
   "cell_type": "markdown",
   "metadata": {},
   "source": [
    "Extract product information"
   ]
  },
  {
   "cell_type": "code",
   "execution_count": 4,
   "metadata": {},
   "outputs": [],
   "source": [
    "df = df.loc[:, ['fecha_dato', 'ncodpers']+target_cols].copy()"
   ]
  },
  {
   "cell_type": "markdown",
   "metadata": {},
   "source": [
    "Calculate `target_combine`"
   ]
  },
  {
   "cell_type": "code",
   "execution_count": 30,
   "metadata": {},
   "outputs": [],
   "source": [
    "df['target_combine'] = np.sum(df[target_cols].values*\n",
    "    np.float_power(2, np.arange(-3, len(target_cols)-3)), \n",
    "    axis=1, dtype=np.float64)"
   ]
  },
  {
   "cell_type": "code",
   "execution_count": 31,
   "metadata": {},
   "outputs": [],
   "source": [
    "new_product_per_customer = targets.groupby(['ncodpers', 'fecha_dato'])['target'].count()"
   ]
  },
  {
   "cell_type": "code",
   "execution_count": 32,
   "metadata": {},
   "outputs": [],
   "source": [
    "new_product_per_customer = pd.DataFrame(new_product_per_customer)\n",
    "new_product_per_customer.reset_index(inplace=True, drop=False)"
   ]
  },
  {
   "cell_type": "code",
   "execution_count": 33,
   "metadata": {},
   "outputs": [],
   "source": [
    "df.sort_values(['fecha_dato', 'ncodpers'], inplace=True)"
   ]
  },
  {
   "cell_type": "code",
   "execution_count": 34,
   "metadata": {},
   "outputs": [],
   "source": [
    "dt = pd.merge(df, new_product_per_customer, how='left')"
   ]
  },
  {
   "cell_type": "code",
   "execution_count": 35,
   "metadata": {},
   "outputs": [],
   "source": [
    "dt_cols = dt.columns.tolist()\n",
    "dt_cols[-1] = 'target_count'\n",
    "dt.columns = dt_cols"
   ]
  },
  {
   "cell_type": "code",
   "execution_count": 36,
   "metadata": {},
   "outputs": [],
   "source": [
    "dt.target_count = dt.target_count.fillna(0)"
   ]
  },
  {
   "cell_type": "code",
   "execution_count": 37,
   "metadata": {},
   "outputs": [],
   "source": [
    "dt['target_indicator'] = (dt.target_count>0).astype(int)"
   ]
  },
  {
   "cell_type": "code",
   "execution_count": 53,
   "metadata": {},
   "outputs": [],
   "source": [
    "target_combine_mean_encoding = dt.groupby('target_combine')['target_indicator'].mean()"
   ]
  },
  {
   "cell_type": "code",
   "execution_count": 42,
   "metadata": {},
   "outputs": [
    {
     "data": {
      "text/html": [
       "<div>\n",
       "<style scoped>\n",
       "    .dataframe tbody tr th:only-of-type {\n",
       "        vertical-align: middle;\n",
       "    }\n",
       "\n",
       "    .dataframe tbody tr th {\n",
       "        vertical-align: top;\n",
       "    }\n",
       "\n",
       "    .dataframe thead th {\n",
       "        text-align: right;\n",
       "    }\n",
       "</style>\n",
       "<table border=\"1\" class=\"dataframe\">\n",
       "  <thead>\n",
       "    <tr style=\"text-align: right;\">\n",
       "      <th></th>\n",
       "      <th>fecha_dato</th>\n",
       "      <th>ncodpers</th>\n",
       "      <th>ind_cco_fin_ult1</th>\n",
       "      <th>ind_cder_fin_ult1</th>\n",
       "      <th>ind_cno_fin_ult1</th>\n",
       "      <th>ind_ctju_fin_ult1</th>\n",
       "      <th>ind_ctma_fin_ult1</th>\n",
       "      <th>ind_ctop_fin_ult1</th>\n",
       "      <th>ind_ctpp_fin_ult1</th>\n",
       "      <th>ind_dela_fin_ult1</th>\n",
       "      <th>...</th>\n",
       "      <th>ind_nomina_ult1</th>\n",
       "      <th>ind_plan_fin_ult1</th>\n",
       "      <th>ind_pres_fin_ult1</th>\n",
       "      <th>ind_reca_fin_ult1</th>\n",
       "      <th>ind_recibo_ult1</th>\n",
       "      <th>ind_tjcr_fin_ult1</th>\n",
       "      <th>ind_valo_fin_ult1</th>\n",
       "      <th>target_combine</th>\n",
       "      <th>target_count</th>\n",
       "      <th>target_indicator</th>\n",
       "    </tr>\n",
       "  </thead>\n",
       "  <tbody>\n",
       "    <tr>\n",
       "      <th>0</th>\n",
       "      <td>2015-01-28</td>\n",
       "      <td>15889</td>\n",
       "      <td>1.0</td>\n",
       "      <td>0.0</td>\n",
       "      <td>0.0</td>\n",
       "      <td>0.0</td>\n",
       "      <td>0.0</td>\n",
       "      <td>0.0</td>\n",
       "      <td>1.0</td>\n",
       "      <td>0.0</td>\n",
       "      <td>...</td>\n",
       "      <td>0.0</td>\n",
       "      <td>0.0</td>\n",
       "      <td>0.0</td>\n",
       "      <td>0.0</td>\n",
       "      <td>0.0</td>\n",
       "      <td>1.0</td>\n",
       "      <td>1.0</td>\n",
       "      <td>49160.125</td>\n",
       "      <td>0.0</td>\n",
       "      <td>0</td>\n",
       "    </tr>\n",
       "    <tr>\n",
       "      <th>1</th>\n",
       "      <td>2015-01-28</td>\n",
       "      <td>15890</td>\n",
       "      <td>0.0</td>\n",
       "      <td>0.0</td>\n",
       "      <td>1.0</td>\n",
       "      <td>0.0</td>\n",
       "      <td>0.0</td>\n",
       "      <td>0.0</td>\n",
       "      <td>1.0</td>\n",
       "      <td>0.0</td>\n",
       "      <td>...</td>\n",
       "      <td>1.0</td>\n",
       "      <td>1.0</td>\n",
       "      <td>0.0</td>\n",
       "      <td>0.0</td>\n",
       "      <td>1.0</td>\n",
       "      <td>1.0</td>\n",
       "      <td>0.0</td>\n",
       "      <td>26408.500</td>\n",
       "      <td>0.0</td>\n",
       "      <td>0</td>\n",
       "    </tr>\n",
       "    <tr>\n",
       "      <th>2</th>\n",
       "      <td>2015-01-28</td>\n",
       "      <td>15892</td>\n",
       "      <td>0.0</td>\n",
       "      <td>0.0</td>\n",
       "      <td>1.0</td>\n",
       "      <td>0.0</td>\n",
       "      <td>0.0</td>\n",
       "      <td>0.0</td>\n",
       "      <td>0.0</td>\n",
       "      <td>1.0</td>\n",
       "      <td>...</td>\n",
       "      <td>0.0</td>\n",
       "      <td>0.0</td>\n",
       "      <td>0.0</td>\n",
       "      <td>1.0</td>\n",
       "      <td>1.0</td>\n",
       "      <td>1.0</td>\n",
       "      <td>1.0</td>\n",
       "      <td>61488.500</td>\n",
       "      <td>0.0</td>\n",
       "      <td>0</td>\n",
       "    </tr>\n",
       "    <tr>\n",
       "      <th>3</th>\n",
       "      <td>2015-01-28</td>\n",
       "      <td>15893</td>\n",
       "      <td>0.0</td>\n",
       "      <td>0.0</td>\n",
       "      <td>0.0</td>\n",
       "      <td>0.0</td>\n",
       "      <td>0.0</td>\n",
       "      <td>0.0</td>\n",
       "      <td>0.0</td>\n",
       "      <td>1.0</td>\n",
       "      <td>...</td>\n",
       "      <td>0.0</td>\n",
       "      <td>0.0</td>\n",
       "      <td>0.0</td>\n",
       "      <td>0.0</td>\n",
       "      <td>0.0</td>\n",
       "      <td>0.0</td>\n",
       "      <td>1.0</td>\n",
       "      <td>32784.000</td>\n",
       "      <td>0.0</td>\n",
       "      <td>0</td>\n",
       "    </tr>\n",
       "    <tr>\n",
       "      <th>4</th>\n",
       "      <td>2015-01-28</td>\n",
       "      <td>15894</td>\n",
       "      <td>1.0</td>\n",
       "      <td>0.0</td>\n",
       "      <td>1.0</td>\n",
       "      <td>0.0</td>\n",
       "      <td>0.0</td>\n",
       "      <td>0.0</td>\n",
       "      <td>0.0</td>\n",
       "      <td>1.0</td>\n",
       "      <td>...</td>\n",
       "      <td>1.0</td>\n",
       "      <td>0.0</td>\n",
       "      <td>0.0</td>\n",
       "      <td>1.0</td>\n",
       "      <td>1.0</td>\n",
       "      <td>1.0</td>\n",
       "      <td>1.0</td>\n",
       "      <td>62256.625</td>\n",
       "      <td>0.0</td>\n",
       "      <td>0</td>\n",
       "    </tr>\n",
       "  </tbody>\n",
       "</table>\n",
       "<p>5 rows × 24 columns</p>\n",
       "</div>"
      ],
      "text/plain": [
       "   fecha_dato  ncodpers  ind_cco_fin_ult1  ind_cder_fin_ult1  \\\n",
       "0  2015-01-28     15889               1.0                0.0   \n",
       "1  2015-01-28     15890               0.0                0.0   \n",
       "2  2015-01-28     15892               0.0                0.0   \n",
       "3  2015-01-28     15893               0.0                0.0   \n",
       "4  2015-01-28     15894               1.0                0.0   \n",
       "\n",
       "   ind_cno_fin_ult1  ind_ctju_fin_ult1  ind_ctma_fin_ult1  ind_ctop_fin_ult1  \\\n",
       "0               0.0                0.0                0.0                0.0   \n",
       "1               1.0                0.0                0.0                0.0   \n",
       "2               1.0                0.0                0.0                0.0   \n",
       "3               0.0                0.0                0.0                0.0   \n",
       "4               1.0                0.0                0.0                0.0   \n",
       "\n",
       "   ind_ctpp_fin_ult1  ind_dela_fin_ult1        ...         ind_nomina_ult1  \\\n",
       "0                1.0                0.0        ...                     0.0   \n",
       "1                1.0                0.0        ...                     1.0   \n",
       "2                0.0                1.0        ...                     0.0   \n",
       "3                0.0                1.0        ...                     0.0   \n",
       "4                0.0                1.0        ...                     1.0   \n",
       "\n",
       "   ind_plan_fin_ult1  ind_pres_fin_ult1  ind_reca_fin_ult1  ind_recibo_ult1  \\\n",
       "0                0.0                0.0                0.0              0.0   \n",
       "1                1.0                0.0                0.0              1.0   \n",
       "2                0.0                0.0                1.0              1.0   \n",
       "3                0.0                0.0                0.0              0.0   \n",
       "4                0.0                0.0                1.0              1.0   \n",
       "\n",
       "   ind_tjcr_fin_ult1  ind_valo_fin_ult1  target_combine  target_count  \\\n",
       "0                1.0                1.0       49160.125           0.0   \n",
       "1                1.0                0.0       26408.500           0.0   \n",
       "2                1.0                1.0       61488.500           0.0   \n",
       "3                0.0                1.0       32784.000           0.0   \n",
       "4                1.0                1.0       62256.625           0.0   \n",
       "\n",
       "   target_indicator  \n",
       "0                 0  \n",
       "1                 0  \n",
       "2                 0  \n",
       "3                 0  \n",
       "4                 0  \n",
       "\n",
       "[5 rows x 24 columns]"
      ]
     },
     "execution_count": 42,
     "metadata": {},
     "output_type": "execute_result"
    }
   ],
   "source": [
    "dt.head()"
   ]
  },
  {
   "cell_type": "code",
   "execution_count": 48,
   "metadata": {
    "scrolled": true
   },
   "outputs": [
    {
     "data": {
      "text/plain": [
       "0.0"
      ]
     },
     "execution_count": 48,
     "metadata": {},
     "output_type": "execute_result"
    }
   ],
   "source": [
    "dt.loc[dt.target_combine==0, 'target_count'].sum()"
   ]
  },
  {
   "cell_type": "code",
   "execution_count": 54,
   "metadata": {},
   "outputs": [
    {
     "data": {
      "text/plain": [
       "target_combine\n",
       "0.000        0.000000\n",
       "0.125        0.020101\n",
       "0.250        0.028846\n",
       "0.375        0.024462\n",
       "0.500        0.045138\n",
       "0.625        0.088940\n",
       "1.000        0.009800\n",
       "1.125        0.166667\n",
       "2.000        0.096502\n",
       "2.125        0.107792\n",
       "2.250        1.000000\n",
       "2.500        0.172746\n",
       "2.625        0.137931\n",
       "4.000        0.001032\n",
       "4.125        0.002693\n",
       "4.250        0.043478\n",
       "4.375        0.018595\n",
       "4.500        0.027962\n",
       "4.625        0.056604\n",
       "6.000        0.029851\n",
       "6.125        0.057554\n",
       "6.500        0.090909\n",
       "8.000        0.001359\n",
       "8.125        0.005789\n",
       "8.375        0.025641\n",
       "8.500        0.032741\n",
       "8.625        0.021978\n",
       "8.750        0.000000\n",
       "10.000       0.000000\n",
       "10.125       0.027778\n",
       "               ...   \n",
       "63456.500    0.000000\n",
       "63456.625    0.428571\n",
       "63464.500    0.200000\n",
       "63472.500    0.000000\n",
       "63472.625    0.250000\n",
       "63480.500    0.043478\n",
       "63488.500    0.000000\n",
       "63560.125    1.000000\n",
       "63744.500    0.214286\n",
       "63776.500    1.000000\n",
       "63872.500    1.000000\n",
       "63916.500    1.000000\n",
       "64256.500    0.071429\n",
       "64260.125    1.000000\n",
       "64260.625    0.181818\n",
       "64324.000    0.000000\n",
       "64324.500    0.103448\n",
       "64396.500    0.000000\n",
       "64396.625    0.000000\n",
       "64512.500    1.000000\n",
       "64516.125    0.500000\n",
       "64544.500    0.333333\n",
       "64768.000    0.000000\n",
       "64768.500    1.000000\n",
       "64800.500    0.333333\n",
       "65420.000    0.000000\n",
       "65420.125    0.250000\n",
       "65420.625    0.500000\n",
       "65484.125    0.333333\n",
       "65484.625    0.500000\n",
       "Name: target_indicator, Length: 9568, dtype: float64"
      ]
     },
     "execution_count": 54,
     "metadata": {},
     "output_type": "execute_result"
    }
   ],
   "source": [
    "target_combine_mean_encoding"
   ]
  },
  {
   "cell_type": "code",
   "execution_count": null,
   "metadata": {},
   "outputs": [],
   "source": []
  }
 ],
 "metadata": {
  "kernelspec": {
   "display_name": "Python 3",
   "language": "python",
   "name": "python3"
  },
  "language_info": {
   "codemirror_mode": {
    "name": "ipython",
    "version": 3
   },
   "file_extension": ".py",
   "mimetype": "text/x-python",
   "name": "python",
   "nbconvert_exporter": "python",
   "pygments_lexer": "ipython3",
   "version": "3.6.6"
  }
 },
 "nbformat": 4,
 "nbformat_minor": 2
}
