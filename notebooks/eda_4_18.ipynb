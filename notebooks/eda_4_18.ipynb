{
 "cells": [
  {
   "cell_type": "markdown",
   "metadata": {},
   "source": [
    "## Feature Engineering in RAM-Limited Data, Part 4\n",
    "\n",
    "#### Mean encoding of `target_combine` one the previous month target\n",
    "1. In order to mean encode `target_combine`, I have to first have lag target of previous months. For example, for June training set, I can include products in April and May, and also encode all products bought in April with the mean target in May.\n",
    "\n",
    "2. Another way of mean encoding is to not use time series. Just put all target together and analyze. In this case, we can have the results as in the [3-rd solution](http://blog.kaggle.com/2017/02/22/santander-product-recommendation-competition-3rd-place-winners-interview-ryuji-sakata/) and [forum discussion](https://www.kaggle.com/c/santander-product-recommendation/discussion/26899).\n",
    "\n",
    "#### CV@2015-12-28:\n",
    "- benchmark: val = 1.62857\n",
    "- with only `ind_actividad_client_combine`, `tiprel_1mes_combine`, `target_combine`, mlogloss=1.57141\n",
    "- with `ind_actividad_client_combine`, `tiprel_1mes_combine`, `target_combine`, `n_products` and patterns: val = 1.31122\n",
    "- Private score: 0.0302475, public score: 0.0299266"
   ]
  },
  {
   "cell_type": "code",
   "execution_count": 1,
   "metadata": {},
   "outputs": [],
   "source": [
    "from santander_helper import *\n",
    "%matplotlib inline"
   ]
  },
  {
   "cell_type": "code",
   "execution_count": 2,
   "metadata": {},
   "outputs": [],
   "source": [
    "targets = pd.read_hdf('../input/targets.hdf', 'targets')"
   ]
  },
  {
   "cell_type": "code",
   "execution_count": 3,
   "metadata": {
    "scrolled": true
   },
   "outputs": [
    {
     "name": "stdout",
     "output_type": "stream",
     "text": [
      "Loading 2015-05-28 data\n",
      "Loading 2015-06-28 data\n",
      "Products in 2015-06-28...\n",
      "Products in 2015-05-28...\n",
      "New products added in 2015-06-28...\n",
      "Join customer features and previous month products for 2015-06-28...\n",
      "Concatenate this and previous months ind_activadad_cliente.\n",
      "Concatenate this and previous months tiprel_1mes.\n",
      "Combine all products for each customer.\n",
      "Prepare for target.\n",
      "Time used: 0.424 min\n"
     ]
    }
   ],
   "source": [
    "x_train, y_train = create_train_test('2015-06-28', max_lag=5, target_flag=True, count_pattern=False)"
   ]
  },
  {
   "cell_type": "code",
   "execution_count": 8,
   "metadata": {},
   "outputs": [
    {
     "data": {
      "text/plain": [
       "array(['2015-02-28', '2015-03-28', '2015-04-28', '2015-05-28',\n",
       "       '2015-06-28', '2015-07-28', '2015-08-28', '2015-09-28',\n",
       "       '2015-10-28', '2015-11-28', '2015-12-28', '2016-01-28',\n",
       "       '2016-02-28', '2016-03-28', '2016-04-28', '2016-05-28'],\n",
       "      dtype=object)"
      ]
     },
     "execution_count": 8,
     "metadata": {},
     "output_type": "execute_result"
    }
   ],
   "source": [
    "targets.fecha_dato.unique()"
   ]
  },
  {
   "cell_type": "code",
   "execution_count": 7,
   "metadata": {},
   "outputs": [
    {
     "data": {
      "text/plain": [
       "(29953, 3)"
      ]
     },
     "execution_count": 7,
     "metadata": {},
     "output_type": "execute_result"
    }
   ],
   "source": [
    "target_month = targets.loc[targets.fecha_dato=='2015-05-28'].copy()\n",
    "target_month.shape"
   ]
  },
  {
   "cell_type": "code",
   "execution_count": 16,
   "metadata": {},
   "outputs": [
    {
     "name": "stdout",
     "output_type": "stream",
     "text": [
      "7866\n",
      "7127\n",
      "5287\n",
      "5391\n",
      "8806\n",
      "7789\n",
      "5319\n",
      "7409\n",
      "7807\n",
      "7521\n",
      "9053\n",
      "5060\n",
      "13301\n",
      "7768\n",
      "6521\n",
      "8176\n"
     ]
    }
   ],
   "source": [
    "for m in month_list[1:-1]:\n",
    "    tmp = targets.loc[targets.fecha_dato==m]\n",
    "    print(len(tmp) - len(tmp.ncodpers.unique()))"
   ]
  },
  {
   "cell_type": "code",
   "execution_count": 17,
   "metadata": {},
   "outputs": [
    {
     "data": {
      "text/plain": [
       "0          0.000000\n",
       "1          0.000000\n",
       "2         64.253906\n",
       "3         64.253906\n",
       "4         64.000977\n",
       "5          0.250977\n",
       "6         64.250000\n",
       "7          0.250977\n",
       "8          0.003906\n",
       "9         64.000000\n",
       "10        32.003906\n",
       "11        32.003906\n",
       "12         0.000977\n",
       "13         0.003906\n",
       "14         0.003906\n",
       "15         0.000977\n",
       "16        64.003906\n",
       "17        64.003906\n",
       "18        70.000977\n",
       "19         6.003906\n",
       "20         0.003906\n",
       "21         0.003906\n",
       "22         0.000977\n",
       "23        64.000977\n",
       "24        64.000977\n",
       "25         0.000977\n",
       "26         0.000977\n",
       "27         0.003906\n",
       "28        70.253906\n",
       "29         0.253906\n",
       "            ...    \n",
       "45110      0.000000\n",
       "45111      0.000000\n",
       "45112      0.316406\n",
       "45113     96.003906\n",
       "45114     96.003906\n",
       "45115    224.035156\n",
       "45116    224.035156\n",
       "45117      0.000977\n",
       "45118      0.250000\n",
       "45119      0.032227\n",
       "45120    262.035156\n",
       "45121    192.035156\n",
       "45122    192.035156\n",
       "45123    192.035156\n",
       "45124    102.253906\n",
       "45125    102.347656\n",
       "45126      0.438477\n",
       "45127      8.125977\n",
       "45128      0.000977\n",
       "45129     64.282227\n",
       "45130     64.250977\n",
       "45131      0.000977\n",
       "45132      0.003906\n",
       "45133      0.160156\n",
       "45134      2.253906\n",
       "45135      0.000977\n",
       "45136      0.035156\n",
       "45137      0.000977\n",
       "45138     40.125977\n",
       "45139    198.253906\n",
       "Name: target_combine, Length: 45140, dtype: float64"
      ]
     },
     "execution_count": 17,
     "metadata": {},
     "output_type": "execute_result"
    }
   ],
   "source": [
    "x_train.target_combine"
   ]
  }
 ],
 "metadata": {
  "kernelspec": {
   "display_name": "Python 3",
   "language": "python",
   "name": "python3"
  },
  "language_info": {
   "codemirror_mode": {
    "name": "ipython",
    "version": 3
   },
   "file_extension": ".py",
   "mimetype": "text/x-python",
   "name": "python",
   "nbconvert_exporter": "python",
   "pygments_lexer": "ipython3",
   "version": "3.6.6"
  }
 },
 "nbformat": 4,
 "nbformat_minor": 2
}
