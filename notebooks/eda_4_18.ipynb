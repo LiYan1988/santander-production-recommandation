{
 "cells": [
  {
   "cell_type": "markdown",
   "metadata": {},
   "source": [
    "## Feature Engineering in RAM-Limited Data, Part 4\n",
    "\n",
    "#### Mean encoding of `target_combine` one the previous month target\n",
    "1. In order to mean encode `target_combine`, I have to first have lag target of previous months. For example, for June training set, I can include products in April and May, and also encode all products bought in April with the mean target in May.\n",
    "\n",
    "2. Another way of mean encoding is to not use time series. Just put all target together and analyze. In this case, we can have the results as in the [3-rd solution](http://blog.kaggle.com/2017/02/22/santander-product-recommendation-competition-3rd-place-winners-interview-ryuji-sakata/) and [forum discussion](https://www.kaggle.com/c/santander-product-recommendation/discussion/26899).\n",
    "\n",
    "The first method is too complicated to implement, so I will try the second one.\n",
    "\n",
    "#### CV@2015-12-28:\n",
    "- benchmark: val = 1.62857\n",
    "- with only `ind_actividad_client_combine`, `tiprel_1mes_combine`, `target_combine`, mlogloss=1.57141\n",
    "- with `ind_actividad_client_combine`, `tiprel_1mes_combine`, `target_combine`, `n_products` and patterns: val = 1.31122\n",
    "- Private score: 0.0302475, public score: 0.0299266"
   ]
  },
  {
   "cell_type": "code",
   "execution_count": 1,
   "metadata": {},
   "outputs": [],
   "source": [
    "from santander_helper import *\n",
    "%matplotlib inline"
   ]
  },
  {
   "cell_type": "markdown",
   "metadata": {},
   "source": [
    "## Encoding"
   ]
  },
  {
   "cell_type": "markdown",
   "metadata": {},
   "source": [
    "Load targets"
   ]
  },
  {
   "cell_type": "code",
   "execution_count": 2,
   "metadata": {},
   "outputs": [
    {
     "name": "stdout",
     "output_type": "stream",
     "text": [
      "Load targets\n"
     ]
    }
   ],
   "source": [
    "if os.path.isfile('../input/targets.hdf'):\n",
    "    print('Load targets')\n",
    "    targets = pd.read_hdf('../input/targets.hdf', 'targets')\n",
    "else:\n",
    "    print('Create targets')\n",
    "    targets = []\n",
    "    for m1, m2 in tqdm.tqdm_notebook(list(zip(month_list[:-2], month_list[1:-1]))):\n",
    "        target1 = obtain_target(m2)\n",
    "        target1['fecha_dato'] = m2\n",
    "        targets.append(target1)\n",
    "\n",
    "    targets = pd.concat(targets, ignore_index=True, copy=False)\n",
    "    targets.to_hdf('../input/targets.hdf', 'targets')"
   ]
  },
  {
   "cell_type": "markdown",
   "metadata": {},
   "source": [
    "Calculate `target_combine`"
   ]
  },
  {
   "cell_type": "code",
   "execution_count": 3,
   "metadata": {},
   "outputs": [],
   "source": [
    "new_product_per_customer = targets.groupby(['ncodpers', 'fecha_dato'])['target'].count()\n",
    "new_product_per_customer = pd.DataFrame(new_product_per_customer)\n",
    "new_product_per_customer.reset_index(inplace=True, drop=False)\n",
    "cols = new_product_per_customer.columns.tolist()\n",
    "cols[-1] = 'target_count'\n",
    "new_product_per_customer.columns = cols\n",
    "\n",
    "month_mapping = dict(zip(month_list[1:-1], month_list[:-2]))\n",
    "new_product_per_customer.fecha_dato = new_product_per_customer.fecha_dato.map(month_mapping)"
   ]
  },
  {
   "cell_type": "markdown",
   "metadata": {},
   "source": [
    "Load products and extract product information"
   ]
  },
  {
   "cell_type": "code",
   "execution_count": 4,
   "metadata": {
    "scrolled": true
   },
   "outputs": [
    {
     "name": "stdout",
     "output_type": "stream",
     "text": [
      "Create df_target_cols\n"
     ]
    },
    {
     "data": {
      "application/vnd.jupyter.widget-view+json": {
       "model_id": "e44a1c1d0df04bbf921ff154f1e77d7c",
       "version_major": 2,
       "version_minor": 0
      },
      "text/plain": [
       "HBox(children=(IntProgress(value=0, max=18), HTML(value='')))"
      ]
     },
     "metadata": {},
     "output_type": "display_data"
    },
    {
     "name": "stdout",
     "output_type": "stream",
     "text": [
      "\n"
     ]
    }
   ],
   "source": [
    "if os.path.isfile('../input/df_target_cols.hdf'):\n",
    "    print('Load df_target_cols')\n",
    "    df = pd.read_hdf('../input/df_target_cols.hdf', 'df_target_cols')\n",
    "else:\n",
    "    print('Create df_target_cols')\n",
    "    df = []\n",
    "    for month in tqdm.tqdm_notebook(month_list):\n",
    "        df.append(pd.read_hdf('../input/data_month_{}.hdf'.format(month), 'data_month'))\n",
    "    df = pd.concat(df, ignore_index=True)\n",
    "    df = df.loc[:, ['fecha_dato', 'ncodpers']+target_cols].copy()\n",
    "    df['target_combine'] = np.sum(df[target_cols].values*\n",
    "        np.float_power(2, np.arange(-10, len(target_cols)-10)), \n",
    "        axis=1, dtype=np.float64)\n",
    "    \n",
    "    df.to_hdf('../input/df_target_cols.hdf', 'df_target_cols')"
   ]
  },
  {
   "cell_type": "markdown",
   "metadata": {},
   "source": [
    "Merge `target_combine` and `target_count`"
   ]
  },
  {
   "cell_type": "code",
   "execution_count": 5,
   "metadata": {},
   "outputs": [],
   "source": [
    "dt = pd.merge(df, new_product_per_customer, how='left')"
   ]
  },
  {
   "cell_type": "code",
   "execution_count": 7,
   "metadata": {},
   "outputs": [],
   "source": [
    "dt.target_count = dt.target_count.fillna(0)"
   ]
  },
  {
   "cell_type": "code",
   "execution_count": 8,
   "metadata": {},
   "outputs": [],
   "source": [
    "dt['target_indicator'] = (dt.target_count>0).astype(int)"
   ]
  },
  {
   "cell_type": "code",
   "execution_count": 17,
   "metadata": {},
   "outputs": [],
   "source": [
    "count_mean_encoding = pd.DataFrame(dt.groupby('target_combine')['target_count'].mean())\n",
    "count_mean_encoding.columns = ['count_mean_encoding']\n",
    "indicator_mean_encoding = pd.DataFrame(dt.groupby('target_combine')['target_indicator'].mean())\n",
    "indicator_mean_encoding.columns = ['indicator_mean_encoding']"
   ]
  },
  {
   "cell_type": "code",
   "execution_count": 19,
   "metadata": {},
   "outputs": [],
   "source": [
    "dt = pd.merge(dt, count_mean_encoding, how='left', left_on='target_combine', right_index=True)"
   ]
  },
  {
   "cell_type": "code",
   "execution_count": 20,
   "metadata": {},
   "outputs": [],
   "source": [
    "dt = pd.merge(dt, indicator_mean_encoding, how='left', left_on='target_combine', right_index=True)"
   ]
  },
  {
   "cell_type": "code",
   "execution_count": 23,
   "metadata": {},
   "outputs": [
    {
     "data": {
      "text/plain": [
       "(14576924, 26)"
      ]
     },
     "execution_count": 23,
     "metadata": {},
     "output_type": "execute_result"
    }
   ],
   "source": [
    "dt.shape"
   ]
  },
  {
   "cell_type": "code",
   "execution_count": 24,
   "metadata": {},
   "outputs": [
    {
     "data": {
      "text/plain": [
       "Index(['fecha_dato', 'ncodpers', 'ind_cco_fin_ult1', 'ind_cder_fin_ult1',\n",
       "       'ind_cno_fin_ult1', 'ind_ctju_fin_ult1', 'ind_ctma_fin_ult1',\n",
       "       'ind_ctop_fin_ult1', 'ind_ctpp_fin_ult1', 'ind_dela_fin_ult1',\n",
       "       'ind_ecue_fin_ult1', 'ind_fond_fin_ult1', 'ind_hip_fin_ult1',\n",
       "       'ind_nom_pens_ult1', 'ind_nomina_ult1', 'ind_plan_fin_ult1',\n",
       "       'ind_pres_fin_ult1', 'ind_reca_fin_ult1', 'ind_recibo_ult1',\n",
       "       'ind_tjcr_fin_ult1', 'ind_valo_fin_ult1', 'target_combine',\n",
       "       'target_count', 'target_indicator', 'count_mean_encoding',\n",
       "       'indicator_mean_encoding'],\n",
       "      dtype='object')"
      ]
     },
     "execution_count": 24,
     "metadata": {},
     "output_type": "execute_result"
    }
   ],
   "source": [
    "dt.columns"
   ]
  },
  {
   "cell_type": "code",
   "execution_count": 25,
   "metadata": {},
   "outputs": [],
   "source": [
    "dt = dt[['fecha_dato', 'ncodpers', 'target_combine', 'count_mean_encoding', 'indicator_mean_encoding']].copy()\n",
    "dt.to_hdf('../input/target_mean_encoding.hdf', 'target_mean_encoding')"
   ]
  }
 ],
 "metadata": {
  "kernelspec": {
   "display_name": "Python 3",
   "language": "python",
   "name": "python3"
  },
  "language_info": {
   "codemirror_mode": {
    "name": "ipython",
    "version": 3
   },
   "file_extension": ".py",
   "mimetype": "text/x-python",
   "name": "python",
   "nbconvert_exporter": "python",
   "pygments_lexer": "ipython3",
   "version": "3.6.6"
  }
 },
 "nbformat": 4,
 "nbformat_minor": 2
}
