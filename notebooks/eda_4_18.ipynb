{
 "cells": [
  {
   "cell_type": "markdown",
   "metadata": {},
   "source": [
    "## Feature Engineering in RAM-Limited Data, Part 4\n",
    "\n",
    "#### Mean encoding of `target_combine` one the previous month target\n",
    "1. In order to mean encode `target_combine`, I have to first have lag target of previous months. For example, for June training set, I can include products in April and May, and also encode all products bought in April with the mean target in May.\n",
    "\n",
    "2. Another way of mean encoding is to not use time series. Just put all target together and analyze. In this case, we can have the results as in the [3-rd solution](http://blog.kaggle.com/2017/02/22/santander-product-recommendation-competition-3rd-place-winners-interview-ryuji-sakata/) and [forum discussion](https://www.kaggle.com/c/santander-product-recommendation/discussion/26899).\n",
    "\n",
    "The first method is too complicated to implement, so I will try the second one. \n",
    "- data: \n",
    "    - first month product from 2015-01-28 to 2016-04-28\n",
    "    - second month product (new product) from 2015-02-28 to 2016-05-28\n",
    "\n",
    "\n",
    "#### CV@2015-12-28:\n",
    "- benchmark: val = 1.62857\n",
    "- with only `ind_actividad_client_combine`, `tiprel_1mes_combine`, `target_combine`, mlogloss=1.57141\n",
    "- with `ind_actividad_client_combine`, `tiprel_1mes_combine`, `target_combine`, `n_products` and patterns: val = 1.31122\n",
    "- Private score: 0.0302475, public score: 0.0299266"
   ]
  },
  {
   "cell_type": "code",
   "execution_count": 1,
   "metadata": {},
   "outputs": [],
   "source": [
    "from santander_helper import *\n",
    "%matplotlib inline"
   ]
  },
  {
   "cell_type": "markdown",
   "metadata": {},
   "source": [
    "## Encoding"
   ]
  },
  {
   "cell_type": "markdown",
   "metadata": {},
   "source": [
    "Load targets"
   ]
  },
  {
   "cell_type": "code",
   "execution_count": 2,
   "metadata": {},
   "outputs": [
    {
     "name": "stdout",
     "output_type": "stream",
     "text": [
      "Load targets\n"
     ]
    }
   ],
   "source": [
    "if os.path.isfile('../input/targets.hdf'):\n",
    "    # If the data already exists, just load it\n",
    "    print('Load targets')\n",
    "    targets = pd.read_hdf('../input/targets.hdf', 'targets')\n",
    "else:\n",
    "    print('Create targets')\n",
    "    # If data does not exist, need to create one\n",
    "    targets = []\n",
    "    # For each pair of months, call obtain_target (it actually does not need a pair, just the second month)\n",
    "    for m1, m2 in tqdm.tqdm_notebook(list(zip(month_list[:-2], month_list[1:-1]))):\n",
    "        target1 = obtain_target(m2)\n",
    "        target1['fecha_dato'] = m2\n",
    "        targets.append(target1)\n",
    "\n",
    "    targets = pd.concat(targets, ignore_index=True, copy=False)\n",
    "    targets.to_hdf('../input/targets.hdf', 'targets', complib='blosc:lz4', complevel=9, format='t')"
   ]
  },
  {
   "cell_type": "markdown",
   "metadata": {},
   "source": [
    "New products for each customer at each month through `pivot_table`"
   ]
  },
  {
   "cell_type": "code",
   "execution_count": 3,
   "metadata": {},
   "outputs": [],
   "source": [
    "targets_p = targets.copy()\n",
    "targets_p['dummy'] = 1\n",
    "targets_p = targets_p.pivot_table(index=['ncodpers', 'fecha_dato'], columns=['target'], values=['dummy'])\n",
    "targets_p.fillna(0.0, inplace=True)\n",
    "targets_p.reset_index(inplace=True)\n",
    "targets_p.columns = ['ncodpers', 'fecha_dato']+target_cols"
   ]
  },
  {
   "cell_type": "markdown",
   "metadata": {},
   "source": [
    "Calculate `target_combine`"
   ]
  },
  {
   "cell_type": "code",
   "execution_count": 4,
   "metadata": {},
   "outputs": [],
   "source": [
    "# Count how many new products each customer purchases in each month\n",
    "new_product_per_customer = targets.groupby(['ncodpers', 'fecha_dato'])['target'].count()\n",
    "new_product_per_customer = pd.DataFrame(new_product_per_customer)\n",
    "new_product_per_customer.reset_index(inplace=True, drop=False)\n",
    "cols = new_product_per_customer.columns.tolist()\n",
    "cols[-1] = 'target_count'\n",
    "new_product_per_customer.columns = cols"
   ]
  },
  {
   "cell_type": "markdown",
   "metadata": {},
   "source": [
    "Merge with `targets_p` "
   ]
  },
  {
   "cell_type": "code",
   "execution_count": 8,
   "metadata": {},
   "outputs": [],
   "source": [
    "new_product_per_customer = new_product_per_customer.merge(targets_p, how='left', on=['ncodpers', 'fecha_dato'])"
   ]
  },
  {
   "cell_type": "markdown",
   "metadata": {},
   "source": [
    "Map `fecha_dato` to the previous month, since I want to build a mapping from the products in the first month to the new products to the second month, so the first month should be the key."
   ]
  },
  {
   "cell_type": "code",
   "execution_count": 10,
   "metadata": {},
   "outputs": [],
   "source": [
    "month_mapping = dict(zip(month_list[1:-1], month_list[:-2]))\n",
    "new_product_per_customer.fecha_dato = new_product_per_customer.fecha_dato.map(month_mapping)"
   ]
  },
  {
   "cell_type": "markdown",
   "metadata": {},
   "source": [
    "Load the current products (products in the first month) and extract product information"
   ]
  },
  {
   "cell_type": "code",
   "execution_count": 12,
   "metadata": {
    "scrolled": true
   },
   "outputs": [
    {
     "name": "stdout",
     "output_type": "stream",
     "text": [
      "Load df_target_cols\n"
     ]
    }
   ],
   "source": [
    "if os.path.isfile('../input/df_target_cols.hdf'):\n",
    "    print('Load df_target_cols')\n",
    "    df = pd.read_hdf('../input/df_target_cols.hdf', 'df_target_cols')\n",
    "else:\n",
    "    print('Create df_target_cols')\n",
    "    df = []\n",
    "    for month in tqdm.tqdm_notebook(month_list[:-2]):\n",
    "        df.append(pd.read_hdf('../input/data_month_{}.hdf'.format(month), 'data_month'))\n",
    "    df = pd.concat(df, ignore_index=True)\n",
    "    df = df.loc[:, ['fecha_dato', 'ncodpers']+target_cols].copy()\n",
    "    df['target_combine'] = np.sum(df[target_cols].values*\n",
    "        np.float_power(2, np.arange(0, len(target_cols))), \n",
    "        axis=1, dtype=np.float64)\n",
    "    df.drop(target_cols, axis=1, inplace=True)\n",
    "    \n",
    "    df.to_hdf('../input/df_target_cols.hdf', 'df_target_cols', complib='blosc:lz4', complevel=9, format='t')"
   ]
  },
  {
   "cell_type": "markdown",
   "metadata": {},
   "source": [
    "Merge `target_combine` and `target_count`"
   ]
  },
  {
   "cell_type": "code",
   "execution_count": 17,
   "metadata": {},
   "outputs": [],
   "source": [
    "dt = pd.merge(df, new_product_per_customer, how='left', on=['ncodpers', 'fecha_dato'])\n",
    "dt.fillna(0, inplace=True)\n",
    "dt['target_indicator'] = (dt.target_count>0).astype(int)"
   ]
  },
  {
   "cell_type": "code",
   "execution_count": 19,
   "metadata": {},
   "outputs": [
    {
     "data": {
      "text/html": [
       "<div>\n",
       "<style scoped>\n",
       "    .dataframe tbody tr th:only-of-type {\n",
       "        vertical-align: middle;\n",
       "    }\n",
       "\n",
       "    .dataframe tbody tr th {\n",
       "        vertical-align: top;\n",
       "    }\n",
       "\n",
       "    .dataframe thead th {\n",
       "        text-align: right;\n",
       "    }\n",
       "</style>\n",
       "<table border=\"1\" class=\"dataframe\">\n",
       "  <thead>\n",
       "    <tr style=\"text-align: right;\">\n",
       "      <th></th>\n",
       "      <th>fecha_dato</th>\n",
       "      <th>ncodpers</th>\n",
       "      <th>target_combine</th>\n",
       "      <th>target_count</th>\n",
       "      <th>ind_cco_fin_ult1</th>\n",
       "      <th>ind_cder_fin_ult1</th>\n",
       "      <th>ind_cno_fin_ult1</th>\n",
       "      <th>ind_ctju_fin_ult1</th>\n",
       "      <th>ind_ctma_fin_ult1</th>\n",
       "      <th>ind_ctop_fin_ult1</th>\n",
       "      <th>...</th>\n",
       "      <th>ind_hip_fin_ult1</th>\n",
       "      <th>ind_nom_pens_ult1</th>\n",
       "      <th>ind_nomina_ult1</th>\n",
       "      <th>ind_plan_fin_ult1</th>\n",
       "      <th>ind_pres_fin_ult1</th>\n",
       "      <th>ind_reca_fin_ult1</th>\n",
       "      <th>ind_recibo_ult1</th>\n",
       "      <th>ind_tjcr_fin_ult1</th>\n",
       "      <th>ind_valo_fin_ult1</th>\n",
       "      <th>target_indicator</th>\n",
       "    </tr>\n",
       "  </thead>\n",
       "  <tbody>\n",
       "    <tr>\n",
       "      <th>0</th>\n",
       "      <td>2015-01-28</td>\n",
       "      <td>1375586</td>\n",
       "      <td>1.0</td>\n",
       "      <td>0.0</td>\n",
       "      <td>0.0</td>\n",
       "      <td>0.0</td>\n",
       "      <td>0.0</td>\n",
       "      <td>0.0</td>\n",
       "      <td>0.0</td>\n",
       "      <td>0.0</td>\n",
       "      <td>...</td>\n",
       "      <td>0.0</td>\n",
       "      <td>0.0</td>\n",
       "      <td>0.0</td>\n",
       "      <td>0.0</td>\n",
       "      <td>0.0</td>\n",
       "      <td>0.0</td>\n",
       "      <td>0.0</td>\n",
       "      <td>0.0</td>\n",
       "      <td>0.0</td>\n",
       "      <td>0</td>\n",
       "    </tr>\n",
       "    <tr>\n",
       "      <th>1</th>\n",
       "      <td>2015-01-28</td>\n",
       "      <td>1050611</td>\n",
       "      <td>1.0</td>\n",
       "      <td>0.0</td>\n",
       "      <td>0.0</td>\n",
       "      <td>0.0</td>\n",
       "      <td>0.0</td>\n",
       "      <td>0.0</td>\n",
       "      <td>0.0</td>\n",
       "      <td>0.0</td>\n",
       "      <td>...</td>\n",
       "      <td>0.0</td>\n",
       "      <td>0.0</td>\n",
       "      <td>0.0</td>\n",
       "      <td>0.0</td>\n",
       "      <td>0.0</td>\n",
       "      <td>0.0</td>\n",
       "      <td>0.0</td>\n",
       "      <td>0.0</td>\n",
       "      <td>0.0</td>\n",
       "      <td>0</td>\n",
       "    </tr>\n",
       "    <tr>\n",
       "      <th>2</th>\n",
       "      <td>2015-01-28</td>\n",
       "      <td>1050612</td>\n",
       "      <td>1.0</td>\n",
       "      <td>0.0</td>\n",
       "      <td>0.0</td>\n",
       "      <td>0.0</td>\n",
       "      <td>0.0</td>\n",
       "      <td>0.0</td>\n",
       "      <td>0.0</td>\n",
       "      <td>0.0</td>\n",
       "      <td>...</td>\n",
       "      <td>0.0</td>\n",
       "      <td>0.0</td>\n",
       "      <td>0.0</td>\n",
       "      <td>0.0</td>\n",
       "      <td>0.0</td>\n",
       "      <td>0.0</td>\n",
       "      <td>0.0</td>\n",
       "      <td>0.0</td>\n",
       "      <td>0.0</td>\n",
       "      <td>0</td>\n",
       "    </tr>\n",
       "    <tr>\n",
       "      <th>3</th>\n",
       "      <td>2015-01-28</td>\n",
       "      <td>1050613</td>\n",
       "      <td>0.0</td>\n",
       "      <td>0.0</td>\n",
       "      <td>0.0</td>\n",
       "      <td>0.0</td>\n",
       "      <td>0.0</td>\n",
       "      <td>0.0</td>\n",
       "      <td>0.0</td>\n",
       "      <td>0.0</td>\n",
       "      <td>...</td>\n",
       "      <td>0.0</td>\n",
       "      <td>0.0</td>\n",
       "      <td>0.0</td>\n",
       "      <td>0.0</td>\n",
       "      <td>0.0</td>\n",
       "      <td>0.0</td>\n",
       "      <td>0.0</td>\n",
       "      <td>0.0</td>\n",
       "      <td>0.0</td>\n",
       "      <td>0</td>\n",
       "    </tr>\n",
       "    <tr>\n",
       "      <th>4</th>\n",
       "      <td>2015-01-28</td>\n",
       "      <td>1050614</td>\n",
       "      <td>1.0</td>\n",
       "      <td>0.0</td>\n",
       "      <td>0.0</td>\n",
       "      <td>0.0</td>\n",
       "      <td>0.0</td>\n",
       "      <td>0.0</td>\n",
       "      <td>0.0</td>\n",
       "      <td>0.0</td>\n",
       "      <td>...</td>\n",
       "      <td>0.0</td>\n",
       "      <td>0.0</td>\n",
       "      <td>0.0</td>\n",
       "      <td>0.0</td>\n",
       "      <td>0.0</td>\n",
       "      <td>0.0</td>\n",
       "      <td>0.0</td>\n",
       "      <td>0.0</td>\n",
       "      <td>0.0</td>\n",
       "      <td>0</td>\n",
       "    </tr>\n",
       "  </tbody>\n",
       "</table>\n",
       "<p>5 rows × 24 columns</p>\n",
       "</div>"
      ],
      "text/plain": [
       "   fecha_dato  ncodpers  target_combine  target_count  ind_cco_fin_ult1  \\\n",
       "0  2015-01-28   1375586             1.0           0.0               0.0   \n",
       "1  2015-01-28   1050611             1.0           0.0               0.0   \n",
       "2  2015-01-28   1050612             1.0           0.0               0.0   \n",
       "3  2015-01-28   1050613             0.0           0.0               0.0   \n",
       "4  2015-01-28   1050614             1.0           0.0               0.0   \n",
       "\n",
       "   ind_cder_fin_ult1  ind_cno_fin_ult1  ind_ctju_fin_ult1  ind_ctma_fin_ult1  \\\n",
       "0                0.0               0.0                0.0                0.0   \n",
       "1                0.0               0.0                0.0                0.0   \n",
       "2                0.0               0.0                0.0                0.0   \n",
       "3                0.0               0.0                0.0                0.0   \n",
       "4                0.0               0.0                0.0                0.0   \n",
       "\n",
       "   ind_ctop_fin_ult1        ...         ind_hip_fin_ult1  ind_nom_pens_ult1  \\\n",
       "0                0.0        ...                      0.0                0.0   \n",
       "1                0.0        ...                      0.0                0.0   \n",
       "2                0.0        ...                      0.0                0.0   \n",
       "3                0.0        ...                      0.0                0.0   \n",
       "4                0.0        ...                      0.0                0.0   \n",
       "\n",
       "   ind_nomina_ult1  ind_plan_fin_ult1  ind_pres_fin_ult1  ind_reca_fin_ult1  \\\n",
       "0              0.0                0.0                0.0                0.0   \n",
       "1              0.0                0.0                0.0                0.0   \n",
       "2              0.0                0.0                0.0                0.0   \n",
       "3              0.0                0.0                0.0                0.0   \n",
       "4              0.0                0.0                0.0                0.0   \n",
       "\n",
       "   ind_recibo_ult1  ind_tjcr_fin_ult1  ind_valo_fin_ult1  target_indicator  \n",
       "0              0.0                0.0                0.0                 0  \n",
       "1              0.0                0.0                0.0                 0  \n",
       "2              0.0                0.0                0.0                 0  \n",
       "3              0.0                0.0                0.0                 0  \n",
       "4              0.0                0.0                0.0                 0  \n",
       "\n",
       "[5 rows x 24 columns]"
      ]
     },
     "execution_count": 19,
     "metadata": {},
     "output_type": "execute_result"
    }
   ],
   "source": [
    "dt.head()"
   ]
  },
  {
   "cell_type": "code",
   "execution_count": 20,
   "metadata": {},
   "outputs": [
    {
     "data": {
      "text/plain": [
       "(12715856, 24)"
      ]
     },
     "execution_count": 20,
     "metadata": {},
     "output_type": "execute_result"
    }
   ],
   "source": [
    "dt.shape"
   ]
  },
  {
   "cell_type": "code",
   "execution_count": 21,
   "metadata": {},
   "outputs": [
    {
     "data": {
      "application/vnd.jupyter.widget-view+json": {
       "model_id": "86bd327aabf849b595ecacad895f297c",
       "version_major": 2,
       "version_minor": 0
      },
      "text/plain": [
       "HBox(children=(IntProgress(value=0, max=21), HTML(value='')))"
      ]
     },
     "metadata": {},
     "output_type": "display_data"
    },
    {
     "name": "stdout",
     "output_type": "stream",
     "text": [
      "\n"
     ]
    }
   ],
   "source": [
    "mean_encoding = {}\n",
    "mean_encoding_cols = target_cols+['target_count', 'target_indicator']\n",
    "for c in tqdm.tqdm_notebook(mean_encoding_cols):\n",
    "    mean_encoding[c] = pd.DataFrame(dt.groupby('target_combine')[c].mean())\n",
    "    mean_encoding[c].columns = [c]\n",
    "    dt = pd.merge(dt, mean_encoding[c], how='left', left_on='target_combine', right_index=True, suffixes=('', '_m'))\n",
    "\n",
    "# Remove auxiliary columns\n",
    "dt.drop(['target_count', 'target_indicator', 'fecha_dato', 'ncodpers'], inplace=True, axis=1)\n",
    "# Remove duplicate rows\n",
    "dt.drop_duplicates(inplace=True)"
   ]
  },
  {
   "cell_type": "code",
   "execution_count": 25,
   "metadata": {},
   "outputs": [
    {
     "data": {
      "text/plain": [
       "(9485,)"
      ]
     },
     "execution_count": 25,
     "metadata": {},
     "output_type": "execute_result"
    }
   ],
   "source": [
    "dt.target_combine.unique().shape"
   ]
  },
  {
   "cell_type": "code",
   "execution_count": null,
   "metadata": {},
   "outputs": [],
   "source": [
    "dt.set_index('target_combine', inplace=True)"
   ]
  },
  {
   "cell_type": "code",
   "execution_count": null,
   "metadata": {},
   "outputs": [],
   "source": [
    "dt.head()"
   ]
  },
  {
   "cell_type": "code",
   "execution_count": null,
   "metadata": {},
   "outputs": [],
   "source": [
    "dt.to_hdf('../input/target_mean_encoding.hdf', 'target_mean_encoding', complib='blosc:lz4', complevel=9, format='t')"
   ]
  },
  {
   "cell_type": "markdown",
   "metadata": {},
   "source": [
    "### Another way to implement the mean encoding, double check"
   ]
  },
  {
   "cell_type": "markdown",
   "metadata": {},
   "source": [
    "Calculate new product for each customer in each month"
   ]
  },
  {
   "cell_type": "code",
   "execution_count": null,
   "metadata": {},
   "outputs": [],
   "source": [
    "new_cols = [k+'_new' for k in target_cols]\n",
    "du = collections.OrderedDict()\n",
    "for m1, m2 in tqdm.tqdm_notebook(list(zip(month_list[:-2], month_list[1:-1]))):\n",
    "    df1 = pd.read_hdf('../input/data_month_{}.hdf'.format(m1), 'data_month')\n",
    "    df2 = pd.read_hdf('../input/data_month_{}.hdf'.format(m2), 'data_month')\n",
    "\n",
    "    df1 = df1[['fecha_dato', 'ncodpers']+target_cols]\n",
    "    df2 = df2[['fecha_dato', 'ncodpers']+target_cols]\n",
    "\n",
    "    dt = df2.merge(df1, on=['ncodpers'], how='left', suffixes=('_l', ''))\n",
    "    dt.fillna(0.0, inplace=True)\n",
    "\n",
    "    dt.drop(['fecha_dato_l'], axis=1, inplace=True)\n",
    "    x = dt.iloc[:, 1:20].values-dt.iloc[:, 21:].values\n",
    "    x = pd.DataFrame(x, index=dt.ncodpers, columns=new_cols)\n",
    "    df1.drop('fecha_dato', axis=1, inplace=True)\n",
    "    df1.set_index('ncodpers', inplace=True)\n",
    "    x = df1.join(x, how='left')\n",
    "    du[m1] = x.copy()"
   ]
  },
  {
   "cell_type": "markdown",
   "metadata": {},
   "source": [
    "Calculate pattern of product in the first month. The pattern is considered as a binary number, then converted to decimal. Also count number of new products and indicator of buying new products."
   ]
  },
  {
   "cell_type": "code",
   "execution_count": 24,
   "metadata": {},
   "outputs": [],
   "source": [
    "du = pd.concat(du, ignore_index=True)\n",
    "du[du<0] = 0\n",
    "\n",
    "du['target_combine'] = np.sum(du.values[:, :19]*np.float_power(2, np.arange(0, 19)), axis=1, dtype=np.float64)\n",
    "du['target_count'] = du.loc[:, new_cols].sum(axis=1)\n",
    "du['target_indicator'] = du.loc[:, new_cols].max(axis=1)\n",
    "\n",
    "du.drop(target_cols, axis=1, inplace=True)"
   ]
  },
  {
   "cell_type": "markdown",
   "metadata": {},
   "source": [
    "Encode product pattern of the first month with mean of each new product, number of new products and indicator of buying new products."
   ]
  },
  {
   "cell_type": "code",
   "execution_count": 25,
   "metadata": {},
   "outputs": [
    {
     "data": {
      "application/vnd.jupyter.widget-view+json": {
       "model_id": "14344bc523ec4b3eb71f2aa9b55d3646",
       "version_major": 2,
       "version_minor": 0
      },
      "text/plain": [
       "HBox(children=(IntProgress(value=0, max=21), HTML(value='')))"
      ]
     },
     "metadata": {},
     "output_type": "display_data"
    },
    {
     "name": "stdout",
     "output_type": "stream",
     "text": [
      "\n"
     ]
    }
   ],
   "source": [
    "dg = collections.OrderedDict()\n",
    "new_cols = new_cols+['target_count', 'target_indicator']\n",
    "for c in tqdm.tqdm_notebook(new_cols):\n",
    "    dg[c] = du.groupby('target_combine')[c].mean()\n",
    "dg = pd.concat(dg, axis=1)\n",
    "dg.columns = new_cols"
   ]
  },
  {
   "cell_type": "code",
   "execution_count": 26,
   "metadata": {},
   "outputs": [
    {
     "data": {
      "text/plain": [
       "(9485, 21)"
      ]
     },
     "execution_count": 26,
     "metadata": {},
     "output_type": "execute_result"
    }
   ],
   "source": [
    "dg.shape"
   ]
  },
  {
   "cell_type": "code",
   "execution_count": 27,
   "metadata": {},
   "outputs": [],
   "source": [
    "dg.to_hdf('../input/target_mean_encoding_2.hdf', 'target_mean_encoding', complib='blosc:lz4', complevel=9, format='t')"
   ]
  }
 ],
 "metadata": {
  "kernelspec": {
   "display_name": "Python 3",
   "language": "python",
   "name": "python3"
  },
  "language_info": {
   "codemirror_mode": {
    "name": "ipython",
    "version": 3
   },
   "file_extension": ".py",
   "mimetype": "text/x-python",
   "name": "python",
   "nbconvert_exporter": "python",
   "pygments_lexer": "ipython3",
   "version": "3.6.6"
  }
 },
 "nbformat": 4,
 "nbformat_minor": 2
}
