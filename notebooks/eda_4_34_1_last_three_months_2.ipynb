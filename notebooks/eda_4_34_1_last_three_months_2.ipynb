{
 "cells": [
  {
   "cell_type": "markdown",
   "metadata": {},
   "source": [
    "## Feature Engineering and CV based on 5-th Place Solutions\n",
    "\n",
    "`param = {'objective': 'multi:softprob', \n",
    "         'eta': 0.05, \n",
    "         'max_depth': 8,\n",
    "         'silent': 1, \n",
    "         'num_class': len(target_cols),\n",
    "         'eval_metric': 'mlogloss',\n",
    "         'min_child_weight': 1,\n",
    "         'subsample': 0.7,\n",
    "         'colsample_bytree': 0.7,\n",
    "         'seed': 0}`\n",
    "         \n",
    "`n_repeats=2\n",
    "n_trees = 150`\n",
    "\n",
    "Train on the last three months\n",
    "\n",
    "New in this notebook:\n",
    "- Create training data for all months (2015-02-28 to 2016-04-28) and validate on 2016-05-28"
   ]
  },
  {
   "cell_type": "code",
   "execution_count": 1,
   "metadata": {},
   "outputs": [],
   "source": [
    "from santander_helper import *"
   ]
  },
  {
   "cell_type": "markdown",
   "metadata": {},
   "source": [
    "Load all months' data"
   ]
  },
  {
   "cell_type": "code",
   "execution_count": 2,
   "metadata": {},
   "outputs": [
    {
     "data": {
      "application/vnd.jupyter.widget-view+json": {
       "model_id": "7d3103f7eabe4c088feafce2fe1005d1",
       "version_major": 2,
       "version_minor": 0
      },
      "text/plain": [
       "HBox(children=(IntProgress(value=0, max=18), HTML(value='')))"
      ]
     },
     "metadata": {},
     "output_type": "display_data"
    },
    {
     "name": "stdout",
     "output_type": "stream",
     "text": [
      "\n"
     ]
    },
    {
     "data": {
      "text/plain": [
       "528"
      ]
     },
     "execution_count": 2,
     "metadata": {},
     "output_type": "execute_result"
    }
   ],
   "source": [
    "x_train_list = []\n",
    "y_train_list = []\n",
    "w_train_list = []\n",
    "fixed_lag = 6\n",
    "for i, m in tqdm.tqdm_notebook(enumerate(month_list), total=len(month_list)):\n",
    "    if m in ['2015-01-28', '2016-06-28']:\n",
    "        continue\n",
    "    x_tmp, y_tmp, w_tmp = create_train(m, max_lag=i, fixed_lag=fixed_lag, pattern_flag=True)\n",
    "    x_train_list.append(x_tmp)\n",
    "    y_train_list.append(y_tmp)\n",
    "    w_train_list.append(w_tmp)\n",
    "del x_tmp, y_tmp, w_tmp\n",
    "gc.collect()"
   ]
  },
  {
   "cell_type": "markdown",
   "metadata": {},
   "source": [
    "Prepare the last few months for train and validation"
   ]
  },
  {
   "cell_type": "code",
   "execution_count": 3,
   "metadata": {},
   "outputs": [
    {
     "data": {
      "text/plain": [
       "0"
      ]
     },
     "execution_count": 3,
     "metadata": {},
     "output_type": "execute_result"
    }
   ],
   "source": [
    "# Prepare for train and validation\n",
    "x_val = x_train_list[-1]\n",
    "y_val = y_train_list[-1]\n",
    "w_val = w_train_list[-1]\n",
    "\n",
    "x_train = pd.concat(x_train_list[-4:-1], axis=0, ignore_index=True, sort=False)\n",
    "y_train = pd.concat(y_train_list[-4:-1], axis=0, ignore_index=True, sort=False)\n",
    "w_train = pd.concat(w_train_list[-4:-1], axis=0, ignore_index=True, sort=False)\n",
    "\n",
    "gc.collect()"
   ]
  },
  {
   "cell_type": "code",
   "execution_count": null,
   "metadata": {
    "scrolled": true
   },
   "outputs": [
    {
     "name": "stdout",
     "output_type": "stream",
     "text": [
      "[0]\ttrain-merror:0.290378\tval-merror:0.289544\ttrain-MAP@7:0\tval-MAP@7:0.887711\n",
      "[1]\ttrain-merror:0.28353\tval-merror:0.279888\ttrain-MAP@7:0\tval-MAP@7:0.89762\n",
      "[2]\ttrain-merror:0.279146\tval-merror:0.276278\ttrain-MAP@7:0\tval-MAP@7:0.900547\n",
      "[3]\ttrain-merror:0.277536\tval-merror:0.274877\ttrain-MAP@7:0\tval-MAP@7:0.90182\n",
      "[4]\ttrain-merror:0.276755\tval-merror:0.274219\ttrain-MAP@7:0\tval-MAP@7:0.902457\n",
      "[5]\ttrain-merror:0.27557\tval-merror:0.274029\ttrain-MAP@7:0\tval-MAP@7:0.902932\n",
      "[6]\ttrain-merror:0.274406\tval-merror:0.273393\ttrain-MAP@7:0\tval-MAP@7:0.903545\n",
      "[7]\ttrain-merror:0.273747\tval-merror:0.273131\ttrain-MAP@7:0\tval-MAP@7:0.903849\n",
      "[8]\ttrain-merror:0.273323\tval-merror:0.272627\ttrain-MAP@7:0\tval-MAP@7:0.90427\n",
      "[9]\ttrain-merror:0.272805\tval-merror:0.272751\ttrain-MAP@7:0\tval-MAP@7:0.904227\n",
      "[10]\ttrain-merror:0.272084\tval-merror:0.27228\ttrain-MAP@7:0\tval-MAP@7:0.90481\n",
      "[11]\ttrain-merror:0.271625\tval-merror:0.271442\ttrain-MAP@7:0\tval-MAP@7:0.905328\n",
      "[12]\ttrain-merror:0.271124\tval-merror:0.271043\ttrain-MAP@7:0\tval-MAP@7:0.90567\n",
      "[13]\ttrain-merror:0.270601\tval-merror:0.270851\ttrain-MAP@7:0\tval-MAP@7:0.905747\n",
      "[14]\ttrain-merror:0.270177\tval-merror:0.270486\ttrain-MAP@7:0\tval-MAP@7:0.905975\n",
      "[15]\ttrain-merror:0.269833\tval-merror:0.270446\ttrain-MAP@7:0\tval-MAP@7:0.906094\n",
      "[16]\ttrain-merror:0.269177\tval-merror:0.270583\ttrain-MAP@7:0\tval-MAP@7:0.906153\n",
      "[17]\ttrain-merror:0.26894\tval-merror:0.269962\ttrain-MAP@7:0\tval-MAP@7:0.906558\n",
      "[18]\ttrain-merror:0.268596\tval-merror:0.269897\ttrain-MAP@7:0\tval-MAP@7:0.906623\n",
      "[19]\ttrain-merror:0.267999\tval-merror:0.269347\ttrain-MAP@7:0\tval-MAP@7:0.906984\n",
      "[20]\ttrain-merror:0.267325\tval-merror:0.269188\ttrain-MAP@7:0\tval-MAP@7:0.907196\n",
      "[21]\ttrain-merror:0.267127\tval-merror:0.269076\ttrain-MAP@7:0\tval-MAP@7:0.907318\n",
      "[22]\ttrain-merror:0.266738\tval-merror:0.268772\ttrain-MAP@7:0\tval-MAP@7:0.907517\n",
      "[23]\ttrain-merror:0.266378\tval-merror:0.268834\ttrain-MAP@7:0\tval-MAP@7:0.907523\n",
      "[24]\ttrain-merror:0.265953\tval-merror:0.268335\ttrain-MAP@7:0\tval-MAP@7:0.907821\n",
      "[25]\ttrain-merror:0.265738\tval-merror:0.268238\ttrain-MAP@7:0\tval-MAP@7:0.907888\n",
      "[26]\ttrain-merror:0.265569\tval-merror:0.268189\ttrain-MAP@7:0\tval-MAP@7:0.908003\n",
      "[27]\ttrain-merror:0.265387\tval-merror:0.268225\ttrain-MAP@7:0\tval-MAP@7:0.908044\n",
      "[28]\ttrain-merror:0.265198\tval-merror:0.268174\ttrain-MAP@7:0\tval-MAP@7:0.908123\n",
      "[29]\ttrain-merror:0.264735\tval-merror:0.268189\ttrain-MAP@7:0\tval-MAP@7:0.90811\n",
      "[30]\ttrain-merror:0.264469\tval-merror:0.268066\ttrain-MAP@7:0\tval-MAP@7:0.908178\n",
      "[31]\ttrain-merror:0.264153\tval-merror:0.267788\ttrain-MAP@7:0\tval-MAP@7:0.908299\n",
      "[32]\ttrain-merror:0.263911\tval-merror:0.267664\ttrain-MAP@7:0\tval-MAP@7:0.9085\n",
      "[33]\ttrain-merror:0.263583\tval-merror:0.267904\ttrain-MAP@7:0\tval-MAP@7:0.90834\n",
      "[34]\ttrain-merror:0.263364\tval-merror:0.267622\ttrain-MAP@7:0\tval-MAP@7:0.908544\n",
      "[35]\ttrain-merror:0.263158\tval-merror:0.267738\ttrain-MAP@7:0\tval-MAP@7:0.90854\n",
      "[36]\ttrain-merror:0.262782\tval-merror:0.267843\ttrain-MAP@7:0\tval-MAP@7:0.908485\n",
      "[37]\ttrain-merror:0.262411\tval-merror:0.267893\ttrain-MAP@7:0\tval-MAP@7:0.908482\n",
      "[38]\ttrain-merror:0.262162\tval-merror:0.267934\ttrain-MAP@7:0\tval-MAP@7:0.908492\n",
      "[39]\ttrain-merror:0.261949\tval-merror:0.268046\ttrain-MAP@7:0\tval-MAP@7:0.908427\n",
      "[40]\ttrain-merror:0.261641\tval-merror:0.267705\ttrain-MAP@7:0\tval-MAP@7:0.908556\n",
      "[41]\ttrain-merror:0.261348\tval-merror:0.267619\ttrain-MAP@7:0\tval-MAP@7:0.908648\n",
      "[42]\ttrain-merror:0.261147\tval-merror:0.267463\ttrain-MAP@7:0\tval-MAP@7:0.908719\n",
      "[43]\ttrain-merror:0.260774\tval-merror:0.267726\ttrain-MAP@7:0\tval-MAP@7:0.908644\n",
      "[44]\ttrain-merror:0.260608\tval-merror:0.267805\ttrain-MAP@7:0\tval-MAP@7:0.908659\n",
      "[45]\ttrain-merror:0.260241\tval-merror:0.267726\ttrain-MAP@7:0\tval-MAP@7:0.908782\n",
      "[46]\ttrain-merror:0.260245\tval-merror:0.267679\ttrain-MAP@7:0\tval-MAP@7:0.908814\n",
      "[47]\ttrain-merror:0.260114\tval-merror:0.267466\ttrain-MAP@7:0\tval-MAP@7:0.908931\n",
      "[48]\ttrain-merror:0.259837\tval-merror:0.26724\ttrain-MAP@7:0\tval-MAP@7:0.909073\n",
      "[49]\ttrain-merror:0.259667\tval-merror:0.266965\ttrain-MAP@7:0\tval-MAP@7:0.90925\n",
      "[50]\ttrain-merror:0.259447\tval-merror:0.266647\ttrain-MAP@7:0\tval-MAP@7:0.909362\n"
     ]
    }
   ],
   "source": [
    "param = {'objective': 'multi:softprob', \n",
    "         'eta': 0.1, \n",
    "         'max_depth': 8,\n",
    "         'silent': 1, \n",
    "         'num_class': len(target_cols),\n",
    "         'eval_metric': 'merror',\n",
    "         'min_child_weight': 10,\n",
    "         'lambda': 5,\n",
    "         'max_delta_step': 5,\n",
    "         'subsample': 0.7,\n",
    "         'colsample_bytree': 0.7,\n",
    "         'seed': 0}\n",
    "\n",
    "n_rows = None # number of rows in train dataset, to simplify testing, always set to None\n",
    "n_repeats = 3\n",
    "n_trees = 100\n",
    "train = {'x': x_train.iloc[:n_rows, :], 'y': y_train.iloc[:n_rows], 'w': w_train.iloc[:n_rows]}\n",
    "val = {'x': x_val.iloc[:n_rows, :], 'y': y_val.iloc[:n_rows], 'w': w_val.iloc[:n_rows]}\n",
    "df, clfs, running_time = cv_all_month(param, train, val, n_features=350, num_boost_round=n_trees, \n",
    "    n_repeats=n_repeats, random_state=0, verbose_eval=True)"
   ]
  },
  {
   "cell_type": "markdown",
   "metadata": {},
   "source": [
    "Train on 1603-1605"
   ]
  },
  {
   "cell_type": "code",
   "execution_count": null,
   "metadata": {},
   "outputs": [],
   "source": [
    "x_train = pd.concat(x_train_list[-3:], axis=0, ignore_index=True, sort=False)\n",
    "y_train = pd.concat(y_train_list[-3:], axis=0, ignore_index=True, sort=False)\n",
    "w_train = pd.concat(w_train_list[-3:], axis=0, ignore_index=True, sort=False)"
   ]
  },
  {
   "cell_type": "code",
   "execution_count": null,
   "metadata": {
    "scrolled": true
   },
   "outputs": [],
   "source": [
    "n_rows = None # number of rows in train dataset, to simplify testing, always set to None\n",
    "n_repeats = 1\n",
    "n_trees = 70\n",
    "train = {'x': x_train.iloc[:n_rows, :], 'y': y_train.iloc[:n_rows], 'w': w_train.iloc[:n_rows]}\n",
    "# val = {'x': x_val.iloc[:n_rows, :], 'y': y_val.iloc[:n_rows], 'w': w_val.iloc[:n_rows]}\n",
    "clfs, running_time = cv_all_month(param, train, n_features=350, num_boost_round=n_trees, \n",
    "    n_repeats=n_repeats, random_state=47, verbose_eval=True)"
   ]
  },
  {
   "cell_type": "markdown",
   "metadata": {},
   "source": [
    "Predict "
   ]
  },
  {
   "cell_type": "code",
   "execution_count": null,
   "metadata": {},
   "outputs": [],
   "source": [
    "x_test = create_test(month='2016-06-28', max_lag=17, fixed_lag=6, pattern_flag=True)"
   ]
  },
  {
   "cell_type": "code",
   "execution_count": null,
   "metadata": {},
   "outputs": [],
   "source": [
    "simulation_name = 'p3'\n",
    "y_pred, y_sub = predict_all_month(model_dict=clfs, x_test=x_test, \n",
    "    sub_name='eda_4_34_{}.csv.gz'.format(simulation_name), n_features=350, n_trees=n_trees)\n",
    "save_pickle('eda_4_34_results_{}.pickle'.format(simulation_name), (clfs, running_time, y_pred, y_sub))"
   ]
  },
  {
   "cell_type": "code",
   "execution_count": null,
   "metadata": {},
   "outputs": [],
   "source": [
    "y_pred2 = load_pickle('parameter_tune_eda_4_32_p4.pickle')\n",
    "y_pred2 = y_pred2[-4]\n",
    "\n",
    "y_pred3 = load_pickle('eda_4_33_results_p2.pickle')\n",
    "y_pred3 = y_pred3[2]"
   ]
  },
  {
   "cell_type": "code",
   "execution_count": null,
   "metadata": {},
   "outputs": [],
   "source": [
    "y_pred_final = np.concatenate((y_pred, y_pred2, y_pred3))"
   ]
  },
  {
   "cell_type": "code",
   "execution_count": null,
   "metadata": {},
   "outputs": [],
   "source": [
    "y_pred_final = np.mean(y_pred_final, axis=0)"
   ]
  },
  {
   "cell_type": "code",
   "execution_count": null,
   "metadata": {},
   "outputs": [],
   "source": [
    "y_sub = np.argsort(y_pred_final, axis=1)\n",
    "y_sub = np.fliplr(y_sub)[:, :7]\n",
    "# Prepare submission\n",
    "test_id = x_test.loc[:, 'ncodpers'].values\n",
    "y_sub = [' '.join([target_cols[k] for k in pred]) for pred in y_sub]\n",
    "y_sub = pd.DataFrame({'ncodpers': test_id, 'added_products': y_sub})\n",
    "y_sub.to_csv('eda_4_34_{}+eda_4_33_p2+eda_4_32_p4.csv.gz'.format(simulation_name), compression='gzip', index=False)"
   ]
  }
 ],
 "metadata": {
  "kernelspec": {
   "display_name": "Python 3",
   "language": "python",
   "name": "python3"
  },
  "language_info": {
   "codemirror_mode": {
    "name": "ipython",
    "version": 3
   },
   "file_extension": ".py",
   "mimetype": "text/x-python",
   "name": "python",
   "nbconvert_exporter": "python",
   "pygments_lexer": "ipython3",
   "version": "3.6.7"
  }
 },
 "nbformat": 4,
 "nbformat_minor": 2
}
