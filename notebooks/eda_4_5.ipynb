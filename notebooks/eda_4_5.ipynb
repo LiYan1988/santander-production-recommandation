{
 "cells": [
  {
   "cell_type": "markdown",
   "metadata": {},
   "source": [
    "## Compare Preprocessing Results with [Kernel](https://www.kaggle.com/sudalairajkumar/when-less-is-more)"
   ]
  },
  {
   "cell_type": "code",
   "execution_count": 1,
   "metadata": {},
   "outputs": [],
   "source": [
    "import os\n",
    "if os.name=='nt':\n",
    "    try:\n",
    "        mingw_path = 'C:\\\\Program Files\\\\mingw-w64\\\\x86_64-8.1.0-posix-seh-rt_v6-rev0\\\\mingw64\\\\bin'\n",
    "        os.environ['PATH'] = mingw_path + ';' + os.environ['PATH']\n",
    "    except:\n",
    "        pass\n",
    "    \n",
    "import numpy as np\n",
    "import pandas as pd\n",
    "import seaborn as sns\n",
    "import matplotlib.pyplot as plt\n",
    "import tqdm\n",
    "import gc\n",
    "import xgboost as xgb\n",
    "from sklearn.preprocessing import LabelEncoder\n",
    "\n",
    "tqdm.tqdm.pandas()\n",
    "\n",
    "%matplotlib inline"
   ]
  },
  {
   "cell_type": "code",
   "execution_count": 2,
   "metadata": {},
   "outputs": [],
   "source": [
    "train = pd.read_hdf('../input/train_ver3.hdf', 'train_ver3')"
   ]
  },
  {
   "cell_type": "code",
   "execution_count": 3,
   "metadata": {},
   "outputs": [],
   "source": [
    "test = pd.read_hdf('../input/test_ver3.hdf', 'test_ver3')"
   ]
  },
  {
   "cell_type": "code",
   "execution_count": 4,
   "metadata": {},
   "outputs": [],
   "source": [
    "cat_cols = ['ncodpers',\n",
    " 'canal_entrada',\n",
    " 'conyuemp',\n",
    " 'ind_actividad_cliente',\n",
    " 'ind_empleado',\n",
    " 'ind_nuevo',\n",
    " 'indext',\n",
    " 'indfall',\n",
    " 'indrel',\n",
    " 'indrel_1mes',\n",
    " 'indresi',\n",
    " 'pais_residencia',\n",
    " 'segmento',\n",
    " 'sexo',\n",
    " 'tipodom',\n",
    " 'tiprel_1mes',\n",
    " 'age',\n",
    " 'antiguedad',\n",
    " 'renta']\n",
    "\n",
    "target_cols = ['ind_cco_fin_ult1',\n",
    " 'ind_cder_fin_ult1',\n",
    " 'ind_cno_fin_ult1',\n",
    " 'ind_ctju_fin_ult1',\n",
    " 'ind_ctma_fin_ult1',\n",
    " 'ind_ctop_fin_ult1',\n",
    " 'ind_ctpp_fin_ult1',\n",
    " 'ind_deco_fin_ult1',\n",
    " 'ind_dela_fin_ult1',\n",
    " 'ind_deme_fin_ult1',\n",
    " 'ind_ecue_fin_ult1',\n",
    " 'ind_fond_fin_ult1',\n",
    " 'ind_hip_fin_ult1',\n",
    " 'ind_nom_pens_ult1',\n",
    " 'ind_nomina_ult1',\n",
    " 'ind_plan_fin_ult1',\n",
    " 'ind_pres_fin_ult1',\n",
    " 'ind_reca_fin_ult1',\n",
    " 'ind_recibo_ult1',\n",
    " 'ind_tjcr_fin_ult1',\n",
    " 'ind_valo_fin_ult1',\n",
    " 'ind_viv_fin_ult1']"
   ]
  },
  {
   "cell_type": "markdown",
   "metadata": {},
   "source": [
    "## 2015-05-28 and 2015-06-28"
   ]
  },
  {
   "cell_type": "code",
   "execution_count": 5,
   "metadata": {},
   "outputs": [],
   "source": [
    "train1 = train.loc[train.fecha_dato=='2015-05-28']\n",
    "train2 = train.loc[train.fecha_dato=='2015-06-28']\n",
    "\n",
    "# products in 2015-06-28\n",
    "target = train2.loc[:, ['ncodpers']+target_cols].copy()\n",
    "target.set_index('ncodpers', inplace=True, drop=False)\n",
    "# a dataframe containing the ncodpers only\n",
    "target_ncodpers = pd.DataFrame(target.ncodpers)\n",
    "# drop ncodpers from target\n",
    "target.drop('ncodpers', axis=1, inplace=True)\n",
    "\n",
    "# products in 2015-05-28\n",
    "prev_target = train1.loc[:, ['ncodpers']+target_cols].copy()\n",
    "prev_target.set_index('ncodpers', inplace=True, drop=True)\n",
    "# join to target_ncodpers, so that prev_target includes all customers in 2015-05-28\n",
    "prev_target = target_ncodpers.join(prev_target, how='left')\n",
    "prev_target.fillna(0.0, inplace=True)\n",
    "prev_target.drop('ncodpers', axis=1, inplace=True)\n",
    "\n",
    "# new products in 2015-06-28\n",
    "target = target.subtract(prev_target)\n",
    "target[target<0] = 0\n",
    "\n",
    "# train set of 2015-06-28 includes customer features and products in 2015-05-28\n",
    "x_vars = train2[cat_cols].copy()\n",
    "x_vars.reset_index(inplace=True, drop=True)\n",
    "x_vars.reset_index(inplace=True, drop=False)\n",
    "x_vars_cols = x_vars.columns.tolist()\n",
    "x_vars_cols[0] = 'sample_order'\n",
    "x_vars.columns = x_vars_cols\n",
    "x_vars.set_index('ncodpers', drop=True, inplace=True)\n",
    "x_vars = x_vars.join(prev_target)\n",
    "\n",
    "# get samples for each new product\n",
    "\n",
    "# join target to x_vars\n",
    "x_vars_new = x_vars.join(target, rsuffix='_t')\n",
    "\n",
    "# set ncodpers as one column\n",
    "x_vars_new.reset_index(inplace=True)\n",
    "x_vars.reset_index(inplace=True)\n",
    "\n",
    "# melt\n",
    "x_vars_new = x_vars_new.melt(id_vars=x_vars.columns)\n",
    "# mapping from target_cols to index\n",
    "target_cols_mapping = {c+'_t': n for (n, c) in enumerate(target_cols)}\n",
    "# replace column name by index\n",
    "x_vars_new.variable.replace(target_cols_mapping, inplace=True)\n",
    "# reorder rows\n",
    "x_vars_new.sort_values(['sample_order', 'variable'], inplace=True)\n",
    "# keep new products\n",
    "x_vars_new = x_vars_new[x_vars_new.value>0]\n",
    "# drop value\n",
    "x_vars_new.drop(['sample_order', 'value'], inplace=True, axis=1)\n",
    "# keep the order of samples as in the original data set\n",
    "x_vars_new.reset_index(drop=True, inplace=True)\n",
    "\n",
    "# variables\n",
    "x_vars = x_vars_new.iloc[:, :-1].copy()\n",
    "# target\n",
    "target = x_vars_new.iloc[:, [0, -1]].copy()"
   ]
  },
  {
   "cell_type": "markdown",
   "metadata": {},
   "source": [
    "## 2016-05-28 and 2016-06-28"
   ]
  },
  {
   "cell_type": "code",
   "execution_count": 6,
   "metadata": {},
   "outputs": [],
   "source": [
    "train1 = train.loc[train.fecha_dato=='2016-05-28']\n",
    "train2 = test.loc[test.fecha_dato=='2016-06-28']\n",
    "\n",
    "# products in 2016-05-28\n",
    "prev_target = train1.loc[:, ['ncodpers']+target_cols].copy()\n",
    "prev_target.set_index('ncodpers', inplace=True, drop=True)\n",
    "\n",
    "prev_target = target_ncodpers.join(prev_target, how='left')\n",
    "prev_target.fillna(0.0, inplace=True)\n",
    "prev_target.drop('ncodpers', axis=1, inplace=True)\n",
    "\n",
    "# train set of 2016-06-28 includes customer features and products in 2016-05-28\n",
    "x_vars_test = train2[cat_cols].copy()\n",
    "x_vars_test.set_index('ncodpers', drop=False, inplace=True)\n",
    "x_vars_test = x_vars_test.join(prev_target)"
   ]
  },
  {
   "cell_type": "markdown",
   "metadata": {},
   "source": [
    "### Compare with kernel results"
   ]
  },
  {
   "cell_type": "code",
   "execution_count": 7,
   "metadata": {},
   "outputs": [],
   "source": [
    "train_X = np.load('train_X.npy')\n",
    "\n",
    "train_y = np.load('train_y.npy')\n",
    "\n",
    "test_X = np.load('test_X.npy')"
   ]
  },
  {
   "cell_type": "markdown",
   "metadata": {},
   "source": [
    "#### Compare train_X and x_vars"
   ]
  },
  {
   "cell_type": "code",
   "execution_count": 8,
   "metadata": {},
   "outputs": [],
   "source": [
    "train_X = pd.DataFrame(train_X, index=x_vars.index, columns=x_vars.columns)\n",
    "\n",
    "train_X.sort_values('ncodpers', inplace=True)\n",
    "train_X.reset_index(drop=True, inplace=True)\n",
    "\n",
    "x_vars.sort_values('ncodpers', inplace=True)\n",
    "x_vars.reset_index(drop=True, inplace=True)"
   ]
  },
  {
   "cell_type": "code",
   "execution_count": 9,
   "metadata": {},
   "outputs": [],
   "source": [
    "a = train_X.subtract(x_vars)"
   ]
  },
  {
   "cell_type": "code",
   "execution_count": 10,
   "metadata": {},
   "outputs": [
    {
     "data": {
      "text/plain": [
       "5.000000000000143e-05"
      ]
     },
     "execution_count": 10,
     "metadata": {},
     "output_type": "execute_result"
    }
   ],
   "source": [
    "np.abs(a).max().max()"
   ]
  },
  {
   "cell_type": "markdown",
   "metadata": {},
   "source": [
    "#### Compare train_y and target"
   ]
  },
  {
   "cell_type": "code",
   "execution_count": 11,
   "metadata": {},
   "outputs": [],
   "source": [
    "train_y = np.concatenate((x_vars_new.iloc[:, 0].values.reshape((train_y.shape[0], 1)), train_y.reshape((train_y.shape[0], 1))), axis=1)"
   ]
  },
  {
   "cell_type": "code",
   "execution_count": 12,
   "metadata": {},
   "outputs": [],
   "source": [
    "train_y = pd.DataFrame(train_y, index=target.index, columns=target.columns)\n",
    "\n",
    "train_y.sort_values('ncodpers', inplace=True)\n",
    "train_y.reset_index(drop=True, inplace=True)\n",
    "train_y.set_index('ncodpers', inplace=True)\n",
    "\n",
    "target.sort_values('ncodpers', inplace=True)\n",
    "target.reset_index(drop=True, inplace=True)\n",
    "target.set_index('ncodpers', inplace=True)"
   ]
  },
  {
   "cell_type": "code",
   "execution_count": 13,
   "metadata": {},
   "outputs": [],
   "source": [
    "a = train_y.subtract(target)"
   ]
  },
  {
   "cell_type": "code",
   "execution_count": 14,
   "metadata": {},
   "outputs": [
    {
     "data": {
      "text/plain": [
       "variable    0\n",
       "dtype: int64"
      ]
     },
     "execution_count": 14,
     "metadata": {},
     "output_type": "execute_result"
    }
   ],
   "source": [
    "np.abs(a).max()"
   ]
  },
  {
   "cell_type": "markdown",
   "metadata": {},
   "source": [
    "#### Compare test_X and x_vars_test"
   ]
  },
  {
   "cell_type": "code",
   "execution_count": 15,
   "metadata": {},
   "outputs": [
    {
     "name": "stderr",
     "output_type": "stream",
     "text": [
      "C:\\Users\\lyaa\\AppData\\Local\\Continuum\\miniconda3\\envs\\kaggle\\lib\\site-packages\\ipykernel_launcher.py:3: FutureWarning: 'ncodpers' is both an index level and a column label.\n",
      "Defaulting to column, but this will raise an ambiguity error in a future version\n",
      "  This is separate from the ipykernel package so we can avoid doing imports until\n",
      "C:\\Users\\lyaa\\AppData\\Local\\Continuum\\miniconda3\\envs\\kaggle\\lib\\site-packages\\ipykernel_launcher.py:6: FutureWarning: 'ncodpers' is both an index level and a column label.\n",
      "Defaulting to column, but this will raise an ambiguity error in a future version\n",
      "  \n"
     ]
    }
   ],
   "source": [
    "test_X = pd.DataFrame(test_X, index=x_vars_test.index, columns=x_vars_test.columns)\n",
    "\n",
    "test_X.sort_values('ncodpers', inplace=True)\n",
    "test_X.reset_index(drop=True, inplace=True)\n",
    "\n",
    "x_vars_test.sort_values('ncodpers', inplace=True)\n",
    "x_vars_test.reset_index(drop=True, inplace=True)"
   ]
  },
  {
   "cell_type": "code",
   "execution_count": 16,
   "metadata": {},
   "outputs": [],
   "source": [
    "a = test_X.subtract(x_vars_test)"
   ]
  },
  {
   "cell_type": "code",
   "execution_count": 17,
   "metadata": {},
   "outputs": [
    {
     "data": {
      "text/plain": [
       "5.000000000000143e-05"
      ]
     },
     "execution_count": 17,
     "metadata": {},
     "output_type": "execute_result"
    }
   ],
   "source": [
    "np.abs(a).max().max()"
   ]
  },
  {
   "cell_type": "code",
   "execution_count": null,
   "metadata": {},
   "outputs": [],
   "source": []
  }
 ],
 "metadata": {
  "kernelspec": {
   "display_name": "Python 3",
   "language": "python",
   "name": "python3"
  },
  "language_info": {
   "codemirror_mode": {
    "name": "ipython",
    "version": 3
   },
   "file_extension": ".py",
   "mimetype": "text/x-python",
   "name": "python",
   "nbconvert_exporter": "python",
   "pygments_lexer": "ipython3",
   "version": "3.6.6"
  }
 },
 "nbformat": 4,
 "nbformat_minor": 2
}
