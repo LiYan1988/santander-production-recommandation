{
 "cells": [
  {
   "cell_type": "code",
   "execution_count": 2,
   "metadata": {},
   "outputs": [],
   "source": [
    "import os\n",
    "if os.name=='nt':\n",
    "    try:\n",
    "        mingw_path = 'C:\\\\Program Files\\\\mingw-w64\\\\x86_64-8.1.0-posix-seh-rt_v6-rev0\\\\mingw64\\\\bin'\n",
    "        os.environ['PATH'] = mingw_path + ';' + os.environ['PATH']\n",
    "    except:\n",
    "        pass\n",
    "    \n",
    "import numpy as np\n",
    "import pandas as pd\n",
    "import seaborn as sns\n",
    "import matplotlib.pyplot as plt\n",
    "import tqdm\n",
    "import gc\n",
    "import xgboost as xgb\n",
    "from sklearn.preprocessing import LabelEncoder\n",
    "\n",
    "tqdm.tqdm.pandas()\n",
    "\n",
    "%matplotlib inline"
   ]
  },
  {
   "cell_type": "code",
   "execution_count": 3,
   "metadata": {},
   "outputs": [],
   "source": [
    "train = pd.read_hdf('../input/train_ver3.hdf', 'train_ver3')"
   ]
  },
  {
   "cell_type": "code",
   "execution_count": 4,
   "metadata": {},
   "outputs": [],
   "source": [
    "test = pd.read_hdf('../input/test_ver3.hdf', 'test_ver3')"
   ]
  },
  {
   "cell_type": "code",
   "execution_count": 18,
   "metadata": {},
   "outputs": [],
   "source": [
    "cat_cols = ['ncodpers',\n",
    " 'canal_entrada',\n",
    " 'conyuemp',\n",
    " 'ind_actividad_cliente',\n",
    " 'ind_empleado',\n",
    " 'ind_nuevo',\n",
    " 'indext',\n",
    " 'indfall',\n",
    " 'indrel',\n",
    " 'indrel_1mes',\n",
    " 'indresi',\n",
    " 'pais_residencia',\n",
    " 'segmento',\n",
    " 'sexo',\n",
    " 'tipodom',\n",
    " 'tiprel_1mes',\n",
    " 'age',\n",
    " 'antiguedad',\n",
    " 'renta']\n",
    "\n",
    "target_cols = ['ind_cco_fin_ult1',\n",
    " 'ind_cder_fin_ult1',\n",
    " 'ind_cno_fin_ult1',\n",
    " 'ind_ctju_fin_ult1',\n",
    " 'ind_ctma_fin_ult1',\n",
    " 'ind_ctop_fin_ult1',\n",
    " 'ind_ctpp_fin_ult1',\n",
    " 'ind_deco_fin_ult1',\n",
    " 'ind_dela_fin_ult1',\n",
    " 'ind_deme_fin_ult1',\n",
    " 'ind_ecue_fin_ult1',\n",
    " 'ind_fond_fin_ult1',\n",
    " 'ind_hip_fin_ult1',\n",
    " 'ind_nom_pens_ult1',\n",
    " 'ind_nomina_ult1',\n",
    " 'ind_plan_fin_ult1',\n",
    " 'ind_pres_fin_ult1',\n",
    " 'ind_reca_fin_ult1',\n",
    " 'ind_recibo_ult1',\n",
    " 'ind_tjcr_fin_ult1',\n",
    " 'ind_valo_fin_ult1',\n",
    " 'ind_viv_fin_ult1']"
   ]
  },
  {
   "cell_type": "code",
   "execution_count": 19,
   "metadata": {},
   "outputs": [],
   "source": [
    "df_train = train.loc[:, cat_cols+target_cols]\n",
    "df_test = test.loc[:, cat_cols]"
   ]
  },
  {
   "cell_type": "code",
   "execution_count": 6,
   "metadata": {},
   "outputs": [],
   "source": [
    "train_X = np.load('train_X.npy')"
   ]
  },
  {
   "cell_type": "code",
   "execution_count": 7,
   "metadata": {},
   "outputs": [],
   "source": [
    "train_y = np.load('train_y.npy')"
   ]
  },
  {
   "cell_type": "code",
   "execution_count": 8,
   "metadata": {},
   "outputs": [],
   "source": [
    "test_X = np.load('test_X.npy')"
   ]
  },
  {
   "cell_type": "code",
   "execution_count": 25,
   "metadata": {},
   "outputs": [
    {
     "data": {
      "text/plain": [
       "Index(['ncodpers', 'canal_entrada', 'conyuemp', 'ind_actividad_cliente',\n",
       "       'ind_empleado', 'ind_nuevo', 'indext', 'indfall', 'indrel',\n",
       "       'indrel_1mes', 'indresi', 'pais_residencia', 'segmento', 'sexo',\n",
       "       'tipodom', 'tiprel_1mes', 'age', 'antiguedad', 'renta',\n",
       "       'ind_cco_fin_ult1', 'ind_cder_fin_ult1', 'ind_cno_fin_ult1',\n",
       "       'ind_ctju_fin_ult1', 'ind_ctma_fin_ult1', 'ind_ctop_fin_ult1',\n",
       "       'ind_ctpp_fin_ult1', 'ind_deco_fin_ult1', 'ind_dela_fin_ult1',\n",
       "       'ind_deme_fin_ult1', 'ind_ecue_fin_ult1', 'ind_fond_fin_ult1',\n",
       "       'ind_hip_fin_ult1', 'ind_nom_pens_ult1', 'ind_nomina_ult1',\n",
       "       'ind_plan_fin_ult1', 'ind_pres_fin_ult1', 'ind_reca_fin_ult1',\n",
       "       'ind_recibo_ult1', 'ind_tjcr_fin_ult1', 'ind_valo_fin_ult1',\n",
       "       'ind_viv_fin_ult1'],\n",
       "      dtype='object')"
      ]
     },
     "execution_count": 25,
     "metadata": {},
     "output_type": "execute_result"
    }
   ],
   "source": [
    "df_train.columns"
   ]
  },
  {
   "cell_type": "code",
   "execution_count": 32,
   "metadata": {},
   "outputs": [],
   "source": [
    "train1 = train.loc[train.fecha_dato=='2015-05-28']\n",
    "train2 = train.loc[train.fecha_dato=='2015-06-28']"
   ]
  },
  {
   "cell_type": "code",
   "execution_count": 37,
   "metadata": {},
   "outputs": [],
   "source": [
    "train_X = train2.loc[:, cat_cols].copy()"
   ]
  },
  {
   "cell_type": "code",
   "execution_count": 99,
   "metadata": {},
   "outputs": [],
   "source": [
    "# products in 2015-06-28\n",
    "target = train2.loc[:, ['ncodpers']+target_cols].copy()\n",
    "target.set_index('ncodpers', inplace=True, drop=False)\n",
    "\n",
    "target_ncodpers = pd.DataFrame(target.ncodpers)\n",
    "\n",
    "target.drop('ncodpers', axis=1, inplace=True)\n",
    "\n",
    "# products in 2015-05-28\n",
    "prev_target = train1.loc[:, ['ncodpers']+target_cols].copy()\n",
    "prev_target.set_index('ncodpers', inplace=True, drop=True)\n",
    "\n",
    "prev_target = target_ncodpers.join(prev_target, how='left')\n",
    "prev_target.fillna(0.0, inplace=True)\n",
    "prev_target.drop('ncodpers', axis=1, inplace=True)\n",
    "\n",
    "# new products in 2015-06-28\n",
    "target = target.subtract(prev_target)\n",
    "target[target<0] = 0"
   ]
  },
  {
   "cell_type": "code",
   "execution_count": 109,
   "metadata": {},
   "outputs": [],
   "source": [
    "# train set of 2015-06-28 includes customer features and products in 2015-05-28\n",
    "x_vars = train2[cat_cols].copy()\n",
    "x_vars.set_index('ncodpers', drop=True, inplace=True)\n",
    "x_vars = x_vars.join(prev_target)"
   ]
  },
  {
   "cell_type": "code",
   "execution_count": 120,
   "metadata": {},
   "outputs": [],
   "source": [
    "# get samples for each new product\n",
    "\n",
    "# join target to x_vars\n",
    "x_vars_new = x_vars.join(target, rsuffix='_t')\n",
    "# melt\n",
    "x_vars_new = x_vars_new.melt(id_vars=x_vars.columns)\n",
    "# mapping from target_cols to index\n",
    "target_cols_mapping = {c+'_t': n for (n, c) in enumerate(target_cols)}\n",
    "# replace column name by index\n",
    "x_vars_new.variable.replace(target_cols_mapping, inplace=True)\n",
    "# keep new products\n",
    "x_vars_new = x_vars_new[x_vars_new.value>0]\n",
    "# drop value\n",
    "x_vars_new.drop('value', inplace=True, axis=1)\n",
    "\n",
    "# variables\n",
    "x_vars = x_vars_new.iloc[:, :-1].copy()\n",
    "# target\n",
    "target = x_vars_new.iloc[:, -1].copy()"
   ]
  }
 ],
 "metadata": {
  "kernelspec": {
   "display_name": "Python 3",
   "language": "python",
   "name": "python3"
  },
  "language_info": {
   "codemirror_mode": {
    "name": "ipython",
    "version": 3
   },
   "file_extension": ".py",
   "mimetype": "text/x-python",
   "name": "python",
   "nbconvert_exporter": "python",
   "pygments_lexer": "ipython3",
   "version": "3.6.6"
  }
 },
 "nbformat": 4,
 "nbformat_minor": 2
}
