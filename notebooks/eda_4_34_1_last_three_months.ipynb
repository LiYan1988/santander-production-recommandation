{
 "cells": [
  {
   "cell_type": "markdown",
   "metadata": {},
   "source": [
    "## Feature Engineering and CV based on 5-th Place Solutions\n",
    "\n",
    "`param = {'objective': 'multi:softprob', \n",
    "         'eta': 0.05, \n",
    "         'max_depth': 8,\n",
    "         'silent': 1, \n",
    "         'num_class': len(target_cols),\n",
    "         'eval_metric': 'mlogloss',\n",
    "         'min_child_weight': 1,\n",
    "         'subsample': 0.7,\n",
    "         'colsample_bytree': 0.7,\n",
    "         'seed': 0}`\n",
    "         \n",
    "`n_repeats=2\n",
    "n_trees = 150`\n",
    "\n",
    "Train on the last three months\n",
    "\n",
    "New in this notebook:\n",
    "- Create training data for all months (2015-02-28 to 2016-04-28) and validate on 2016-05-28"
   ]
  },
  {
   "cell_type": "code",
   "execution_count": 1,
   "metadata": {},
   "outputs": [],
   "source": [
    "from santander_helper import *"
   ]
  },
  {
   "cell_type": "markdown",
   "metadata": {},
   "source": [
    "Load all months' data"
   ]
  },
  {
   "cell_type": "code",
   "execution_count": 2,
   "metadata": {},
   "outputs": [
    {
     "data": {
      "application/vnd.jupyter.widget-view+json": {
       "model_id": "47e7bab517074154980e6db68189aec3",
       "version_major": 2,
       "version_minor": 0
      },
      "text/plain": [
       "HBox(children=(IntProgress(value=0, max=18), HTML(value='')))"
      ]
     },
     "metadata": {},
     "output_type": "display_data"
    },
    {
     "name": "stdout",
     "output_type": "stream",
     "text": [
      "\n"
     ]
    },
    {
     "data": {
      "text/plain": [
       "528"
      ]
     },
     "execution_count": 2,
     "metadata": {},
     "output_type": "execute_result"
    }
   ],
   "source": [
    "x_train_list = []\n",
    "y_train_list = []\n",
    "w_train_list = []\n",
    "fixed_lag = 6\n",
    "for i, m in tqdm.tqdm_notebook(enumerate(month_list), total=len(month_list)):\n",
    "    if m in ['2015-01-28', '2016-06-28']:\n",
    "        continue\n",
    "    x_tmp, y_tmp, w_tmp = create_train(m, max_lag=i, fixed_lag=fixed_lag, pattern_flag=True)\n",
    "    x_train_list.append(x_tmp)\n",
    "    y_train_list.append(y_tmp)\n",
    "    w_train_list.append(w_tmp)\n",
    "del x_tmp, y_tmp, w_tmp\n",
    "gc.collect()"
   ]
  },
  {
   "cell_type": "markdown",
   "metadata": {},
   "source": [
    "Prepare the last few months for train and validation"
   ]
  },
  {
   "cell_type": "code",
   "execution_count": 3,
   "metadata": {},
   "outputs": [
    {
     "data": {
      "text/plain": [
       "0"
      ]
     },
     "execution_count": 3,
     "metadata": {},
     "output_type": "execute_result"
    }
   ],
   "source": [
    "# Prepare for train and validation\n",
    "x_val = x_train_list[-1]\n",
    "y_val = y_train_list[-1]\n",
    "w_val = w_train_list[-1]\n",
    "\n",
    "x_train = pd.concat(x_train_list[-4:-1], axis=0, ignore_index=True, sort=False)\n",
    "y_train = pd.concat(y_train_list[-4:-1], axis=0, ignore_index=True, sort=False)\n",
    "w_train = pd.concat(w_train_list[-4:-1], axis=0, ignore_index=True, sort=False)\n",
    "\n",
    "gc.collect()"
   ]
  },
  {
   "cell_type": "code",
   "execution_count": null,
   "metadata": {
    "scrolled": true
   },
   "outputs": [
    {
     "name": "stdout",
     "output_type": "stream",
     "text": [
      "[0]\ttrain-merror:0.285485\tval-merror:0.283159\ttrain-MAP@7:0\tval-MAP@7:0.893973\n",
      "[1]\ttrain-merror:0.281807\tval-merror:0.279465\ttrain-MAP@7:0\tval-MAP@7:0.897743\n",
      "[2]\ttrain-merror:0.279786\tval-merror:0.275982\ttrain-MAP@7:0\tval-MAP@7:0.900998\n",
      "[3]\ttrain-merror:0.278102\tval-merror:0.274748\ttrain-MAP@7:0\tval-MAP@7:0.902293\n",
      "[4]\ttrain-merror:0.276841\tval-merror:0.273686\ttrain-MAP@7:0\tval-MAP@7:0.903141\n",
      "[5]\ttrain-merror:0.276152\tval-merror:0.273113\ttrain-MAP@7:0\tval-MAP@7:0.903613\n",
      "[6]\ttrain-merror:0.275092\tval-merror:0.272508\ttrain-MAP@7:0\tval-MAP@7:0.90405\n",
      "[7]\ttrain-merror:0.274167\tval-merror:0.271913\ttrain-MAP@7:0\tval-MAP@7:0.90456\n",
      "[8]\ttrain-merror:0.273757\tval-merror:0.2711\ttrain-MAP@7:0\tval-MAP@7:0.905123\n",
      "[9]\ttrain-merror:0.273272\tval-merror:0.270642\ttrain-MAP@7:0\tval-MAP@7:0.905572\n",
      "[10]\ttrain-merror:0.272696\tval-merror:0.270626\ttrain-MAP@7:0\tval-MAP@7:0.905756\n",
      "[11]\ttrain-merror:0.272252\tval-merror:0.270759\ttrain-MAP@7:0\tval-MAP@7:0.905786\n",
      "[12]\ttrain-merror:0.271783\tval-merror:0.270383\ttrain-MAP@7:0\tval-MAP@7:0.906033\n",
      "[13]\ttrain-merror:0.271299\tval-merror:0.27017\ttrain-MAP@7:0\tval-MAP@7:0.906256\n",
      "[14]\ttrain-merror:0.270895\tval-merror:0.269928\ttrain-MAP@7:0\tval-MAP@7:0.906421\n",
      "[15]\ttrain-merror:0.270124\tval-merror:0.26956\ttrain-MAP@7:0\tval-MAP@7:0.906639\n",
      "[16]\ttrain-merror:0.269698\tval-merror:0.26927\ttrain-MAP@7:0\tval-MAP@7:0.90683\n",
      "[17]\ttrain-merror:0.269148\tval-merror:0.269081\ttrain-MAP@7:0\tval-MAP@7:0.907031\n",
      "[18]\ttrain-merror:0.268628\tval-merror:0.268967\ttrain-MAP@7:0\tval-MAP@7:0.907152\n",
      "[19]\ttrain-merror:0.268402\tval-merror:0.268945\ttrain-MAP@7:0\tval-MAP@7:0.907222\n",
      "[20]\ttrain-merror:0.26779\tval-merror:0.268892\ttrain-MAP@7:0\tval-MAP@7:0.907216\n",
      "[21]\ttrain-merror:0.26754\tval-merror:0.269087\ttrain-MAP@7:0\tval-MAP@7:0.907083\n",
      "[22]\ttrain-merror:0.266989\tval-merror:0.26925\ttrain-MAP@7:0\tval-MAP@7:0.907063\n",
      "[23]\ttrain-merror:0.266598\tval-merror:0.268911\ttrain-MAP@7:0\tval-MAP@7:0.907217\n",
      "[24]\ttrain-merror:0.26638\tval-merror:0.268602\ttrain-MAP@7:0\tval-MAP@7:0.907466\n",
      "[25]\ttrain-merror:0.265843\tval-merror:0.268419\ttrain-MAP@7:0\tval-MAP@7:0.907587\n",
      "[26]\ttrain-merror:0.265735\tval-merror:0.268191\ttrain-MAP@7:0\tval-MAP@7:0.907745\n",
      "[27]\ttrain-merror:0.265405\tval-merror:0.268\ttrain-MAP@7:0\tval-MAP@7:0.9079\n",
      "[28]\ttrain-merror:0.26503\tval-merror:0.267908\ttrain-MAP@7:0\tval-MAP@7:0.907936\n",
      "[29]\ttrain-merror:0.264704\tval-merror:0.267797\ttrain-MAP@7:0\tval-MAP@7:0.907988\n",
      "[30]\ttrain-merror:0.264467\tval-merror:0.267803\ttrain-MAP@7:0\tval-MAP@7:0.908067\n",
      "[31]\ttrain-merror:0.264272\tval-merror:0.268003\ttrain-MAP@7:0\tval-MAP@7:0.908055\n",
      "[32]\ttrain-merror:0.263966\tval-merror:0.267728\ttrain-MAP@7:0\tval-MAP@7:0.90822\n",
      "[33]\ttrain-merror:0.263746\tval-merror:0.267503\ttrain-MAP@7:0\tval-MAP@7:0.908375\n",
      "[34]\ttrain-merror:0.263408\tval-merror:0.267559\ttrain-MAP@7:0\tval-MAP@7:0.908414\n",
      "[35]\ttrain-merror:0.263093\tval-merror:0.267421\ttrain-MAP@7:0\tval-MAP@7:0.90851\n",
      "[36]\ttrain-merror:0.26284\tval-merror:0.267293\ttrain-MAP@7:0\tval-MAP@7:0.90863\n",
      "[37]\ttrain-merror:0.262663\tval-merror:0.267454\ttrain-MAP@7:0\tval-MAP@7:0.908509\n",
      "[38]\ttrain-merror:0.262352\tval-merror:0.26769\ttrain-MAP@7:0\tval-MAP@7:0.908384\n",
      "[39]\ttrain-merror:0.262207\tval-merror:0.267617\ttrain-MAP@7:0\tval-MAP@7:0.908468\n",
      "[40]\ttrain-merror:0.261946\tval-merror:0.267945\ttrain-MAP@7:0\tval-MAP@7:0.908293\n",
      "[41]\ttrain-merror:0.261694\tval-merror:0.267714\ttrain-MAP@7:0\tval-MAP@7:0.908445\n",
      "[42]\ttrain-merror:0.261484\tval-merror:0.267847\ttrain-MAP@7:0\tval-MAP@7:0.908418\n",
      "[43]\ttrain-merror:0.261327\tval-merror:0.267798\ttrain-MAP@7:0\tval-MAP@7:0.908459\n",
      "[44]\ttrain-merror:0.260993\tval-merror:0.26775\ttrain-MAP@7:0\tval-MAP@7:0.9085\n",
      "[45]\ttrain-merror:0.260683\tval-merror:0.267785\ttrain-MAP@7:0\tval-MAP@7:0.908488\n",
      "[46]\ttrain-merror:0.260392\tval-merror:0.267453\ttrain-MAP@7:0\tval-MAP@7:0.908638\n",
      "[47]\ttrain-merror:0.2601\tval-merror:0.267474\ttrain-MAP@7:0\tval-MAP@7:0.908651\n",
      "[48]\ttrain-merror:0.25995\tval-merror:0.267382\ttrain-MAP@7:0\tval-MAP@7:0.908768\n",
      "[49]\ttrain-merror:0.259844\tval-merror:0.267293\ttrain-MAP@7:0\tval-MAP@7:0.908839\n",
      "[50]\ttrain-merror:0.259572\tval-merror:0.266942\ttrain-MAP@7:0\tval-MAP@7:0.908958\n",
      "[51]\ttrain-merror:0.259396\tval-merror:0.266857\ttrain-MAP@7:0\tval-MAP@7:0.909065\n",
      "[52]\ttrain-merror:0.259189\tval-merror:0.267087\ttrain-MAP@7:0\tval-MAP@7:0.90891\n",
      "[53]\ttrain-merror:0.259075\tval-merror:0.266887\ttrain-MAP@7:0\tval-MAP@7:0.90905\n",
      "[54]\ttrain-merror:0.258779\tval-merror:0.267159\ttrain-MAP@7:0\tval-MAP@7:0.908941\n",
      "[55]\ttrain-merror:0.258491\tval-merror:0.266911\ttrain-MAP@7:0\tval-MAP@7:0.909086\n",
      "[56]\ttrain-merror:0.25842\tval-merror:0.267054\ttrain-MAP@7:0\tval-MAP@7:0.909083\n",
      "[57]\ttrain-merror:0.258322\tval-merror:0.266955\ttrain-MAP@7:0\tval-MAP@7:0.909113\n",
      "[58]\ttrain-merror:0.258157\tval-merror:0.266974\ttrain-MAP@7:0\tval-MAP@7:0.909103\n",
      "[59]\ttrain-merror:0.2579\tval-merror:0.266862\ttrain-MAP@7:0\tval-MAP@7:0.909189\n",
      "[60]\ttrain-merror:0.257733\tval-merror:0.26703\ttrain-MAP@7:0\tval-MAP@7:0.909106\n",
      "[61]\ttrain-merror:0.25767\tval-merror:0.267153\ttrain-MAP@7:0\tval-MAP@7:0.909019\n",
      "[62]\ttrain-merror:0.257462\tval-merror:0.267134\ttrain-MAP@7:0\tval-MAP@7:0.909015\n",
      "[63]\ttrain-merror:0.257423\tval-merror:0.267042\ttrain-MAP@7:0\tval-MAP@7:0.909071\n",
      "[64]\ttrain-merror:0.257232\tval-merror:0.267068\ttrain-MAP@7:0\tval-MAP@7:0.909063\n",
      "[65]\ttrain-merror:0.257058\tval-merror:0.266944\ttrain-MAP@7:0\tval-MAP@7:0.90913\n",
      "[66]\ttrain-merror:0.256937\tval-merror:0.267244\ttrain-MAP@7:0\tval-MAP@7:0.908991\n",
      "[67]\ttrain-merror:0.256876\tval-merror:0.267143\ttrain-MAP@7:0\tval-MAP@7:0.909091\n",
      "[68]\ttrain-merror:0.256622\tval-merror:0.267227\ttrain-MAP@7:0\tval-MAP@7:0.90906\n",
      "[69]\ttrain-merror:0.256437\tval-merror:0.267183\ttrain-MAP@7:0\tval-MAP@7:0.909089\n",
      "[70]\ttrain-merror:0.256283\tval-merror:0.266958\ttrain-MAP@7:0\tval-MAP@7:0.909204\n",
      "[71]\ttrain-merror:0.256057\tval-merror:0.266785\ttrain-MAP@7:0\tval-MAP@7:0.909304\n",
      "[72]\ttrain-merror:0.255952\tval-merror:0.26669\ttrain-MAP@7:0\tval-MAP@7:0.909286\n",
      "[73]\ttrain-merror:0.255898\tval-merror:0.266839\ttrain-MAP@7:0\tval-MAP@7:0.909236\n",
      "[74]\ttrain-merror:0.255715\tval-merror:0.266902\ttrain-MAP@7:0\tval-MAP@7:0.909241\n",
      "[75]\ttrain-merror:0.255681\tval-merror:0.266899\ttrain-MAP@7:0\tval-MAP@7:0.909227\n",
      "[76]\ttrain-merror:0.255631\tval-merror:0.266981\ttrain-MAP@7:0\tval-MAP@7:0.909178\n",
      "[77]\ttrain-merror:0.255434\tval-merror:0.266866\ttrain-MAP@7:0\tval-MAP@7:0.909194\n",
      "[78]\ttrain-merror:0.255258\tval-merror:0.267018\ttrain-MAP@7:0\tval-MAP@7:0.909122\n",
      "[79]\ttrain-merror:0.255129\tval-merror:0.267183\ttrain-MAP@7:0\tval-MAP@7:0.90909\n",
      "[80]\ttrain-merror:0.254968\tval-merror:0.267237\ttrain-MAP@7:0\tval-MAP@7:0.909079\n",
      "[81]\ttrain-merror:0.254695\tval-merror:0.267561\ttrain-MAP@7:0\tval-MAP@7:0.90891\n",
      "[82]\ttrain-merror:0.254609\tval-merror:0.267585\ttrain-MAP@7:0\tval-MAP@7:0.908909\n",
      "[83]\ttrain-merror:0.254478\tval-merror:0.267609\ttrain-MAP@7:0\tval-MAP@7:0.908914\n",
      "[84]\ttrain-merror:0.254275\tval-merror:0.267432\ttrain-MAP@7:0\tval-MAP@7:0.90899\n",
      "[85]\ttrain-merror:0.254223\tval-merror:0.267444\ttrain-MAP@7:0\tval-MAP@7:0.908979\n",
      "[86]\ttrain-merror:0.254048\tval-merror:0.267125\ttrain-MAP@7:0\tval-MAP@7:0.909163\n",
      "[87]\ttrain-merror:0.253755\tval-merror:0.267028\ttrain-MAP@7:0\tval-MAP@7:0.909209\n",
      "[88]\ttrain-merror:0.253691\tval-merror:0.266978\ttrain-MAP@7:0\tval-MAP@7:0.909236\n",
      "[89]\ttrain-merror:0.253522\tval-merror:0.267089\ttrain-MAP@7:0\tval-MAP@7:0.909165\n",
      "[90]\ttrain-merror:0.253381\tval-merror:0.267152\ttrain-MAP@7:0\tval-MAP@7:0.909114\n",
      "[91]\ttrain-merror:0.253243\tval-merror:0.266978\ttrain-MAP@7:0\tval-MAP@7:0.909265\n",
      "[92]\ttrain-merror:0.25298\tval-merror:0.267186\ttrain-MAP@7:0\tval-MAP@7:0.909163\n",
      "[93]\ttrain-merror:0.252792\tval-merror:0.267109\ttrain-MAP@7:0\tval-MAP@7:0.909182\n",
      "[94]\ttrain-merror:0.252652\tval-merror:0.267083\ttrain-MAP@7:0\tval-MAP@7:0.909188\n",
      "[95]\ttrain-merror:0.252555\tval-merror:0.267248\ttrain-MAP@7:0\tval-MAP@7:0.909105\n",
      "[96]\ttrain-merror:0.252532\tval-merror:0.267036\ttrain-MAP@7:0\tval-MAP@7:0.909168\n",
      "[97]\ttrain-merror:0.252216\tval-merror:0.26689\ttrain-MAP@7:0\tval-MAP@7:0.909237\n",
      "[98]\ttrain-merror:0.252165\tval-merror:0.266994\ttrain-MAP@7:0\tval-MAP@7:0.909186\n",
      "[99]\ttrain-merror:0.252144\tval-merror:0.267224\ttrain-MAP@7:0\tval-MAP@7:0.909077\n",
      "Repeat 0, validate score = 0.267, running time = 13.722 min\n",
      "[0]\ttrain-merror:0.285689\tval-merror:0.285992\ttrain-MAP@7:0\tval-MAP@7:0.891313\n",
      "[1]\ttrain-merror:0.281803\tval-merror:0.278501\ttrain-MAP@7:0\tval-MAP@7:0.898791\n",
      "[2]\ttrain-merror:0.2792\tval-merror:0.27708\ttrain-MAP@7:0\tval-MAP@7:0.900071\n"
     ]
    },
    {
     "name": "stdout",
     "output_type": "stream",
     "text": [
      "[3]\ttrain-merror:0.27787\tval-merror:0.275673\ttrain-MAP@7:0\tval-MAP@7:0.901483\n",
      "[4]\ttrain-merror:0.27665\tval-merror:0.274959\ttrain-MAP@7:0\tval-MAP@7:0.902071\n",
      "[5]\ttrain-merror:0.275521\tval-merror:0.273831\ttrain-MAP@7:0\tval-MAP@7:0.902784\n",
      "[6]\ttrain-merror:0.274922\tval-merror:0.273092\ttrain-MAP@7:0\tval-MAP@7:0.903489\n",
      "[7]\ttrain-merror:0.274181\tval-merror:0.272784\ttrain-MAP@7:0\tval-MAP@7:0.903837\n",
      "[8]\ttrain-merror:0.273649\tval-merror:0.272304\ttrain-MAP@7:0\tval-MAP@7:0.904237\n",
      "[9]\ttrain-merror:0.27309\tval-merror:0.271359\ttrain-MAP@7:0\tval-MAP@7:0.904928\n",
      "[10]\ttrain-merror:0.272444\tval-merror:0.271606\ttrain-MAP@7:0\tval-MAP@7:0.904902\n",
      "[11]\ttrain-merror:0.271952\tval-merror:0.271264\ttrain-MAP@7:0\tval-MAP@7:0.905186\n",
      "[12]\ttrain-merror:0.271075\tval-merror:0.271319\ttrain-MAP@7:0\tval-MAP@7:0.905401\n",
      "[13]\ttrain-merror:0.270516\tval-merror:0.271276\ttrain-MAP@7:0\tval-MAP@7:0.905492\n",
      "[14]\ttrain-merror:0.270192\tval-merror:0.271263\ttrain-MAP@7:0\tval-MAP@7:0.905532\n",
      "[15]\ttrain-merror:0.269642\tval-merror:0.271104\ttrain-MAP@7:0\tval-MAP@7:0.905687\n",
      "[16]\ttrain-merror:0.269089\tval-merror:0.270754\ttrain-MAP@7:0\tval-MAP@7:0.905876\n",
      "[17]\ttrain-merror:0.268738\tval-merror:0.270493\ttrain-MAP@7:0\tval-MAP@7:0.906048\n",
      "[18]\ttrain-merror:0.268432\tval-merror:0.270878\ttrain-MAP@7:0\tval-MAP@7:0.905839\n",
      "[19]\ttrain-merror:0.268128\tval-merror:0.270464\ttrain-MAP@7:0\tval-MAP@7:0.906234\n",
      "[20]\ttrain-merror:0.267636\tval-merror:0.270075\ttrain-MAP@7:0\tval-MAP@7:0.906527\n",
      "[21]\ttrain-merror:0.267068\tval-merror:0.26988\ttrain-MAP@7:0\tval-MAP@7:0.906691\n",
      "[22]\ttrain-merror:0.266604\tval-merror:0.269814\ttrain-MAP@7:0\tval-MAP@7:0.906798\n",
      "[23]\ttrain-merror:0.266452\tval-merror:0.269742\ttrain-MAP@7:0\tval-MAP@7:0.906874\n",
      "[24]\ttrain-merror:0.265929\tval-merror:0.269542\ttrain-MAP@7:0\tval-MAP@7:0.907102\n",
      "[25]\ttrain-merror:0.265745\tval-merror:0.269433\ttrain-MAP@7:0\tval-MAP@7:0.907205\n",
      "[26]\ttrain-merror:0.265418\tval-merror:0.269444\ttrain-MAP@7:0\tval-MAP@7:0.907255\n",
      "[27]\ttrain-merror:0.26517\tval-merror:0.269326\ttrain-MAP@7:0\tval-MAP@7:0.907335\n",
      "[28]\ttrain-merror:0.264742\tval-merror:0.26905\ttrain-MAP@7:0\tval-MAP@7:0.907505\n",
      "[29]\ttrain-merror:0.264453\tval-merror:0.26893\ttrain-MAP@7:0\tval-MAP@7:0.9076\n",
      "[30]\ttrain-merror:0.264082\tval-merror:0.26879\ttrain-MAP@7:0\tval-MAP@7:0.907801\n",
      "[31]\ttrain-merror:0.263819\tval-merror:0.26888\ttrain-MAP@7:0\tval-MAP@7:0.907726\n",
      "[32]\ttrain-merror:0.263512\tval-merror:0.268539\ttrain-MAP@7:0\tval-MAP@7:0.907969\n",
      "[33]\ttrain-merror:0.263226\tval-merror:0.268713\ttrain-MAP@7:0\tval-MAP@7:0.907843\n",
      "[34]\ttrain-merror:0.262877\tval-merror:0.268663\ttrain-MAP@7:0\tval-MAP@7:0.907911\n",
      "[35]\ttrain-merror:0.262743\tval-merror:0.268547\ttrain-MAP@7:0\tval-MAP@7:0.907916\n",
      "[36]\ttrain-merror:0.26254\tval-merror:0.268299\ttrain-MAP@7:0\tval-MAP@7:0.908038\n",
      "[37]\ttrain-merror:0.262324\tval-merror:0.267993\ttrain-MAP@7:0\tval-MAP@7:0.908231\n",
      "[38]\ttrain-merror:0.26197\tval-merror:0.267918\ttrain-MAP@7:0\tval-MAP@7:0.908411\n",
      "[39]\ttrain-merror:0.261629\tval-merror:0.267877\ttrain-MAP@7:0\tval-MAP@7:0.908426\n",
      "[40]\ttrain-merror:0.261315\tval-merror:0.267565\ttrain-MAP@7:0\tval-MAP@7:0.908613\n",
      "[41]\ttrain-merror:0.261094\tval-merror:0.26747\ttrain-MAP@7:0\tval-MAP@7:0.908704\n",
      "[42]\ttrain-merror:0.260942\tval-merror:0.26729\ttrain-MAP@7:0\tval-MAP@7:0.908836\n",
      "[43]\ttrain-merror:0.260689\tval-merror:0.267467\ttrain-MAP@7:0\tval-MAP@7:0.908748\n",
      "[44]\ttrain-merror:0.260293\tval-merror:0.267288\ttrain-MAP@7:0\tval-MAP@7:0.908867\n",
      "[45]\ttrain-merror:0.260064\tval-merror:0.26728\ttrain-MAP@7:0\tval-MAP@7:0.908846\n",
      "[46]\ttrain-merror:0.259922\tval-merror:0.267111\ttrain-MAP@7:0\tval-MAP@7:0.908974\n",
      "[47]\ttrain-merror:0.259587\tval-merror:0.266988\ttrain-MAP@7:0\tval-MAP@7:0.909034\n",
      "[48]\ttrain-merror:0.259456\tval-merror:0.267069\ttrain-MAP@7:0\tval-MAP@7:0.908993\n",
      "[49]\ttrain-merror:0.259275\tval-merror:0.266822\ttrain-MAP@7:0\tval-MAP@7:0.909185\n",
      "[50]\ttrain-merror:0.25908\tval-merror:0.267058\ttrain-MAP@7:0\tval-MAP@7:0.90907\n",
      "[51]\ttrain-merror:0.258739\tval-merror:0.267182\ttrain-MAP@7:0\tval-MAP@7:0.909027\n",
      "[52]\ttrain-merror:0.258309\tval-merror:0.267216\ttrain-MAP@7:0\tval-MAP@7:0.908969\n",
      "[53]\ttrain-merror:0.258354\tval-merror:0.267535\ttrain-MAP@7:0\tval-MAP@7:0.908866\n",
      "[54]\ttrain-merror:0.258213\tval-merror:0.267528\ttrain-MAP@7:0\tval-MAP@7:0.908849\n",
      "[55]\ttrain-merror:0.257984\tval-merror:0.267467\ttrain-MAP@7:0\tval-MAP@7:0.908912\n",
      "[56]\ttrain-merror:0.257718\tval-merror:0.267337\ttrain-MAP@7:0\tval-MAP@7:0.908976\n",
      "[57]\ttrain-merror:0.257747\tval-merror:0.267261\ttrain-MAP@7:0\tval-MAP@7:0.90905\n"
     ]
    }
   ],
   "source": [
    "param = {'objective': 'multi:softprob', \n",
    "         'eta': 0.1, \n",
    "         'max_depth': 8,\n",
    "         'silent': 1, \n",
    "         'num_class': len(target_cols),\n",
    "         'eval_metric': 'merror',\n",
    "         'min_child_weight': 10,\n",
    "         'lambda': 5,\n",
    "         'subsample': 0.7,\n",
    "         'colsample_bytree': 0.7,\n",
    "         'seed': 0}\n",
    "\n",
    "n_rows = None # number of rows in train dataset, to simplify testing, always set to None\n",
    "n_repeats = 3\n",
    "n_trees = 100\n",
    "train = {'x': x_train.iloc[:n_rows, :], 'y': y_train.iloc[:n_rows], 'w': w_train.iloc[:n_rows]}\n",
    "val = {'x': x_val.iloc[:n_rows, :], 'y': y_val.iloc[:n_rows], 'w': w_val.iloc[:n_rows]}\n",
    "df, clfs, running_time = cv_all_month(param, train, val, n_features=350, num_boost_round=n_trees, \n",
    "    n_repeats=n_repeats, random_state=0, verbose_eval=True)"
   ]
  },
  {
   "cell_type": "markdown",
   "metadata": {},
   "source": [
    "Train on 1603-1605"
   ]
  },
  {
   "cell_type": "code",
   "execution_count": null,
   "metadata": {},
   "outputs": [],
   "source": [
    "x_train = pd.concat(x_train_list[-3:], axis=0, ignore_index=True, sort=False)\n",
    "y_train = pd.concat(y_train_list[-3:], axis=0, ignore_index=True, sort=False)\n",
    "w_train = pd.concat(w_train_list[-3:], axis=0, ignore_index=True, sort=False)"
   ]
  },
  {
   "cell_type": "code",
   "execution_count": null,
   "metadata": {},
   "outputs": [],
   "source": [
    "n_rows = None # number of rows in train dataset, to simplify testing, always set to None\n",
    "n_repeats = 1\n",
    "n_trees = 70\n",
    "train = {'x': x_train.iloc[:n_rows, :], 'y': y_train.iloc[:n_rows], 'w': w_train.iloc[:n_rows]}\n",
    "# val = {'x': x_val.iloc[:n_rows, :], 'y': y_val.iloc[:n_rows], 'w': w_val.iloc[:n_rows]}\n",
    "clfs, running_time = cv_all_month(param, train, n_features=350, num_boost_round=n_trees, \n",
    "    n_repeats=n_repeats, random_state=47, verbose_eval=True)"
   ]
  },
  {
   "cell_type": "markdown",
   "metadata": {},
   "source": [
    "Predict "
   ]
  },
  {
   "cell_type": "code",
   "execution_count": null,
   "metadata": {},
   "outputs": [],
   "source": [
    "x_test = create_test(month='2016-06-28', max_lag=17, fixed_lag=6, pattern_flag=True)"
   ]
  },
  {
   "cell_type": "code",
   "execution_count": null,
   "metadata": {},
   "outputs": [],
   "source": [
    "simulation_name = 'p1'\n",
    "y_pred, y_sub = predict_all_month(model_dict=clfs, x_test=x_test, \n",
    "    sub_name='eda_4_34_{}.csv.gz'.format(simulation_name), n_features=350, n_trees=n_trees)\n",
    "save_pickle('eda_4_34_results_{}.pickle'.format(simulation_name), (clfs, running_time, y_pred, y_sub))"
   ]
  },
  {
   "cell_type": "code",
   "execution_count": null,
   "metadata": {},
   "outputs": [],
   "source": [
    "y_pred2 = load_pickle('parameter_tune_eda_4_32_p4.pickle')\n",
    "y_pred2 = y_pred2[-4]\n",
    "\n",
    "y_pred3 = load_pickle('eda_4_33_results_p2.pickle')\n",
    "y_pred3 = y_pred3[2]"
   ]
  },
  {
   "cell_type": "code",
   "execution_count": null,
   "metadata": {},
   "outputs": [],
   "source": [
    "y_pred_final = np.concatenate((y_pred, y_pred2, y_pred3))"
   ]
  },
  {
   "cell_type": "code",
   "execution_count": null,
   "metadata": {},
   "outputs": [],
   "source": [
    "y_pred_final = np.mean(y_pred_final, axis=0)"
   ]
  },
  {
   "cell_type": "code",
   "execution_count": null,
   "metadata": {},
   "outputs": [],
   "source": [
    "y_sub = np.argsort(y_pred_final, axis=1)\n",
    "y_sub = np.fliplr(y_sub)[:, :7]\n",
    "# Prepare submission\n",
    "test_id = x_test.loc[:, 'ncodpers'].values\n",
    "y_sub = [' '.join([target_cols[k] for k in pred]) for pred in y_sub]\n",
    "y_sub = pd.DataFrame({'ncodpers': test_id, 'added_products': y_sub})\n",
    "y_sub.to_csv('eda_4_34_p1+eda_4_33_p1+eda_4_32_p4.csv.gz', compression='gzip', index=False)"
   ]
  }
 ],
 "metadata": {
  "kernelspec": {
   "display_name": "Python 3",
   "language": "python",
   "name": "python3"
  },
  "language_info": {
   "codemirror_mode": {
    "name": "ipython",
    "version": 3
   },
   "file_extension": ".py",
   "mimetype": "text/x-python",
   "name": "python",
   "nbconvert_exporter": "python",
   "pygments_lexer": "ipython3",
   "version": "3.6.7"
  }
 },
 "nbformat": 4,
 "nbformat_minor": 2
}
