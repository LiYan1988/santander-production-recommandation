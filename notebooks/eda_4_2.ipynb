{
 "cells": [
  {
   "cell_type": "code",
   "execution_count": 1,
   "metadata": {},
   "outputs": [],
   "source": [
    "import os\n",
    "if os.name=='nt':\n",
    "    try:\n",
    "        mingw_path = 'C:\\\\Program Files\\\\mingw-w64\\\\x86_64-8.1.0-posix-seh-rt_v6-rev0\\\\mingw64\\\\bin'\n",
    "        os.environ['PATH'] = mingw_path + ';' + os.environ['PATH']\n",
    "    except:\n",
    "        pass\n",
    "    \n",
    "import numpy as np\n",
    "import pandas as pd\n",
    "import seaborn as sns\n",
    "import matplotlib.pyplot as plt\n",
    "import tqdm\n",
    "import gc\n",
    "import xgboost as xgb\n",
    "from sklearn.preprocessing import LabelEncoder\n",
    "\n",
    "tqdm.tqdm.pandas()\n",
    "\n",
    "%matplotlib inline"
   ]
  },
  {
   "cell_type": "code",
   "execution_count": 2,
   "metadata": {},
   "outputs": [],
   "source": [
    "df = pd.read_hdf('../input/data_all.hdf', 'train_test_converted')"
   ]
  },
  {
   "cell_type": "markdown",
   "metadata": {},
   "source": [
    "Use 2015-05 and 2015-06 data to train a model, and predict on 2016-05 for 2016-06\n",
    "\n",
    "1. Use two months data to create one dataset\n",
    "    1. For each user in 2015-06, extract all the history data"
   ]
  },
  {
   "cell_type": "code",
   "execution_count": 3,
   "metadata": {},
   "outputs": [],
   "source": [
    "target_cols = [\n",
    "               #'ind_ahor_fin_ult1','ind_aval_fin_ult1',\n",
    "               'ind_cco_fin_ult1','ind_cder_fin_ult1',\n",
    "               'ind_cno_fin_ult1','ind_ctju_fin_ult1',\n",
    "               'ind_ctma_fin_ult1','ind_ctop_fin_ult1',\n",
    "               'ind_ctpp_fin_ult1',\n",
    "               #'ind_deco_fin_ult1',\n",
    "               #'ind_deme_fin_ult1',\n",
    "               'ind_dela_fin_ult1',\n",
    "               'ind_ecue_fin_ult1','ind_fond_fin_ult1',\n",
    "               'ind_hip_fin_ult1','ind_plan_fin_ult1',\n",
    "               'ind_pres_fin_ult1','ind_reca_fin_ult1',\n",
    "               'ind_tjcr_fin_ult1','ind_valo_fin_ult1',\n",
    "               #'ind_viv_fin_ult1',\n",
    "               'ind_nomina_ult1',\n",
    "               'ind_nom_pens_ult1','ind_recibo_ult1']\n",
    "target_cols = sorted(target_cols)"
   ]
  },
  {
   "cell_type": "code",
   "execution_count": 20,
   "metadata": {},
   "outputs": [],
   "source": [
    "target_cols_map = {c+'_t':n for n, c in enumerate(target_cols)}"
   ]
  },
  {
   "cell_type": "code",
   "execution_count": 5,
   "metadata": {},
   "outputs": [],
   "source": [
    "feature_cols = ['fecha_dato', 'ncodpers', 'ind_empleado', 'pais_residencia', 'sexo',\n",
    "                'age', 'fecha_alta', 'ind_nuevo', 'antiguedad', 'indrel',\n",
    "                'ult_fec_cli_1t', 'indrel_1mes', 'tiprel_1mes', 'indresi', 'indext',\n",
    "                'conyuemp', 'canal_entrada', 'indfall', 'tipodom', 'cod_prov',\n",
    "                'nomprov', 'ind_actividad_cliente', 'renta', 'segmento']\n",
    "feature_cols = sorted(feature_cols)"
   ]
  },
  {
   "cell_type": "code",
   "execution_count": 6,
   "metadata": {},
   "outputs": [],
   "source": [
    "month_cols = df.fecha_dato.unique()"
   ]
  },
  {
   "cell_type": "code",
   "execution_count": 7,
   "metadata": {},
   "outputs": [],
   "source": [
    "july = month_cols[6]\n",
    "june = month_cols[5]\n",
    "may = month_cols[4]\n",
    "\n",
    "customer_june = df.loc[df.fecha_dato==june, 'ncodpers'].values.tolist()\n",
    "customer_june = sorted(customer_june)\n",
    "\n",
    "customer_july = df.loc[df.fecha_dato==july, 'ncodpers'].values.tolist()\n",
    "customer_july = sorted(customer_july)"
   ]
  },
  {
   "cell_type": "markdown",
   "metadata": {},
   "source": [
    "Prepare train data for predicting new products in 2015-06"
   ]
  },
  {
   "cell_type": "code",
   "execution_count": 34,
   "metadata": {},
   "outputs": [
    {
     "data": {
      "text/plain": [
       "91"
      ]
     },
     "execution_count": 34,
     "metadata": {},
     "output_type": "execute_result"
    }
   ],
   "source": [
    "sales_may = df.loc[(df.fecha_dato==may) & \n",
    "                   (df.ncodpers.isin(customer_june)), \n",
    "                   ['ncodpers']+target_cols]\n",
    "sales_may.set_index('ncodpers', drop=True, inplace=True)\n",
    "sales_may.sort_index(inplace=True)\n",
    "\n",
    "feature_june = df.loc[df.fecha_dato==june, feature_cols].copy()\n",
    "feature_june.set_index('ncodpers', drop=False, inplace=True)\n",
    "feature_june.sort_index(inplace=True)\n",
    "\n",
    "u = feature_june.join(sales_may)\n",
    "u[target_cols] = u[target_cols].fillna(0.0)\n",
    "\n",
    "x_train_june = u.copy()\n",
    "\n",
    "del u, feature_june\n",
    "gc.collect()\n",
    "\n",
    "# sales in june\n",
    "target_june = df.loc[df.fecha_dato==june, ['ncodpers']+target_cols].copy()\n",
    "target_june.fillna(0.0, inplace=True)\n",
    "target_june.set_index('ncodpers', inplace=True)\n",
    "target_june.sort_index(inplace=True)\n",
    "\n",
    "# sales in may\n",
    "n = target_june.copy()\n",
    "n.loc[n.index.isin(sales_may.index), target_cols] = sales_may\n",
    "n.loc[~n.index.isin(sales_may.index), target_cols] = np.zeros(n.loc[~n.index.isin(sales_may.index), target_cols].shape)\n",
    "n.fillna(0.0, inplace=True)\n",
    "\n",
    "# new products from may to june\n",
    "target_june = target_june.subtract(n)\n",
    "\n",
    "n = x_train_june.join(target_june, rsuffix='_t')\n",
    "n = n.melt(id_vars=x_train_june.columns)\n",
    "\n",
    "n.variable.replace(target_cols_map, inplace=True)\n",
    "\n",
    "n = n.loc[n.value>0].copy()\n",
    "\n",
    "n.drop('value', axis=1, inplace=True)\n",
    "n.reset_index(inplace=True, drop=True)\n",
    "\n",
    "x_train_june = n.iloc[:, :-1].copy()\n",
    "y_train_june = n.iloc[:, -1].copy()\n",
    "\n",
    "del n\n",
    "gc.collect()"
   ]
  },
  {
   "cell_type": "code",
   "execution_count": null,
   "metadata": {},
   "outputs": [],
   "source": []
  },
  {
   "cell_type": "code",
   "execution_count": null,
   "metadata": {},
   "outputs": [],
   "source": [
    "param = {'objective': 'multi:softprob', \n",
    "         'eta': 0.05, \n",
    "         'max_depth': 8, \n",
    "         'silent': 0, \n",
    "         'num_class': len(target_cols),\n",
    "         'eval_metric': 'mlogloss',\n",
    "         'min_child_weight': 1,\n",
    "         'subsample': 0.7,\n",
    "         'colsample_bytree': 0.7,\n",
    "         'seed': 1}\n",
    "num_rounds = 50\n",
    "\n",
    "dtrain = xgb.DMatrix(x_train_june.values, y_train_june.values)\n",
    "model = xgb.train(param, dtrain, num_rounds, evals=[(dtrain, 'train')], verbose_eval=True)"
   ]
  },
  {
   "cell_type": "markdown",
   "metadata": {},
   "source": [
    "Prepare train data for predicting new products in 2015-07"
   ]
  },
  {
   "cell_type": "markdown",
   "metadata": {},
   "source": [
    "sales_june = df.loc[(df.fecha_dato==june) & \n",
    "                   (df.ncodpers.isin(customer_july)), \n",
    "                   ['ncodpers']+target_cols]\n",
    "sales_june.set_index('ncodpers', drop=True, inplace=True)\n",
    "sales_june.sort_index(inplace=True)\n",
    "\n",
    "feature_july = df.loc[df.fecha_dato==july, feature_cols].copy()\n",
    "feature_july.set_index('ncodpers', drop=False, inplace=True)\n",
    "feature_july.sort_index(inplace=True)\n",
    "\n",
    "u = feature_july.join(sales_june)\n",
    "u[target_cols] = u[target_cols].fillna(0.0)\n",
    "\n",
    "x_train_july = u.copy()\n",
    "\n",
    "del u\n",
    "gc.collect()"
   ]
  }
 ],
 "metadata": {
  "kernelspec": {
   "display_name": "Python 3",
   "language": "python",
   "name": "python3"
  },
  "language_info": {
   "codemirror_mode": {
    "name": "ipython",
    "version": 3
   },
   "file_extension": ".py",
   "mimetype": "text/x-python",
   "name": "python",
   "nbconvert_exporter": "python",
   "pygments_lexer": "ipython3",
   "version": "3.6.6"
  }
 },
 "nbformat": 4,
 "nbformat_minor": 2
}
