{
 "cells": [
  {
   "cell_type": "markdown",
   "metadata": {},
   "source": [
    "## Feature Engineering and CV, continued from eda_4_23\n",
    "\n",
    "New train and test generation, features include:\n",
    "- customer info in the second month\n",
    "- products in the first month\n",
    "- combination of first and second month `ind_actividad_cliente`\n",
    "- combination of first and second month `tiprel_1mes`\n",
    "- combination of first month product by using binary number (`target_combine`)\n",
    "- encoding `target_combine` with \n",
    "    - mean number of new products\n",
    "    - mean number of customers with new products\n",
    "    - mean number of customers with each new products\n",
    "- Count patterns in the last `max_lag` months\n",
    "- Number of month to the last time the customer purchase each product\n",
    "\n",
    "\n",
    "#### CV@2015-12-28:\n",
    "- benchmark: val = 1.62857\n",
    "- with only `ind_actividad_client_combine`, `tiprel_1mes_combine`, `target_combine`, mlogloss=1.57141\n",
    "- with `ind_actividad_client_combine`, `tiprel_1mes_combine`, `target_combine`, `n_products` and patterns: val = 1.31122\n",
    "- Private score: 0.0302475, public score: 0.0299266"
   ]
  },
  {
   "cell_type": "code",
   "execution_count": 1,
   "metadata": {},
   "outputs": [],
   "source": [
    "from santander_helper import *"
   ]
  },
  {
   "cell_type": "code",
   "execution_count": 50,
   "metadata": {},
   "outputs": [],
   "source": [
    "def count_zeros(month1, max_lag):\n",
    "    if os.path.exists('../input/count_zeros_{}_{}.hdf'.format(month1, max_lag)):\n",
    "        df = pd.read_hdf('../input/count_zeros_{}_{}.hdf'.format(month1, max_lag), \n",
    "            'count_zeros')\n",
    "        \n",
    "        return df\n",
    "    else:\n",
    "        month_new = month_list.index(month1)+1\n",
    "        month_end = month_list.index(month1)\n",
    "        month_start = month_end-max_lag+1\n",
    "        \n",
    "        # Check if month_new is the last month\n",
    "        if month_new<len(month_list)-1:\n",
    "            # Customers with new products in month_new\n",
    "            customer_product_pair = pd.read_hdf('../input/customer_product_pair.hdf', 'customer_product_pair')\n",
    "            ncodpers_list = customer_product_pair.loc[customer_product_pair.fecha_dato==month_list[month_new], \n",
    "                'ncodpers'].unique().tolist()\n",
    "\n",
    "        # Load data for all the lag related months\n",
    "        df = []\n",
    "        for m in range(month_start, month_end+1):\n",
    "            df.append(pd.read_hdf('../input/data_month_{}.hdf'.format(month_list[m]), 'data_month'))\n",
    "\n",
    "        # concatenate data\n",
    "        df = pd.concat(df, ignore_index=True)\n",
    "        df = df.loc[:, ['ncodpers', 'fecha_dato']+target_cols]\n",
    "        if month_new<len(month_list)-1:\n",
    "            # select customers if this is not test set\n",
    "            df = df.loc[df.ncodpers.isin(ncodpers_list), :]\n",
    "        # set ncodpers and fecha_dato as index\n",
    "        df.set_index(['ncodpers', 'fecha_dato'], inplace=True)\n",
    "        # unstack to make month as columns\n",
    "        df = df.unstack(level=-1, fill_value=0)\n",
    "\n",
    "        # count number of concatenating zeros before the second/current month\n",
    "        df = df.groupby(level=0, axis=1).progress_apply(lambda x: (1-x).iloc[:, ::-1].cummin(axis=1).sum(axis=1))\n",
    "        df.columns = [k+'_zc' for k in df.columns]\n",
    "        \n",
    "        gc.collect()\n",
    "        \n",
    "        df.to_hdf('../input/count_zeros_{}_{}.hdf'.format(month1, max_lag), 'count_zeros')\n",
    "        \n",
    "        return df"
   ]
  },
  {
   "cell_type": "markdown",
   "metadata": {},
   "source": [
    "### Zero couting function\n",
    "\n",
    "For each (customer, product) pair, count how many concatenating months before the current month the target is zero. This zero counting consider `max_lag` months before the current month.\n",
    "\n",
    "The function is moved to santander_helper.py"
   ]
  },
  {
   "cell_type": "code",
   "execution_count": 2,
   "metadata": {},
   "outputs": [
    {
     "name": "stderr",
     "output_type": "stream",
     "text": [
      "100%|██████████████████████████████████████████████████████████████████████████████████| 19/19 [00:00<00:00, 87.23it/s]\n"
     ]
    },
    {
     "name": "stdout",
     "output_type": "stream",
     "text": [
      "\n",
      "Start counting patterns:\n"
     ]
    }
   ],
   "source": [
    "x_train, y_train = create_train('2015-06-28', pattern_flag=True)"
   ]
  },
  {
   "cell_type": "code",
   "execution_count": 3,
   "metadata": {},
   "outputs": [
    {
     "name": "stderr",
     "output_type": "stream",
     "text": [
      "100%|█████████████████████████████████████████████████████████████████████████████████| 19/19 [00:00<00:00, 108.87it/s]\n"
     ]
    },
    {
     "name": "stdout",
     "output_type": "stream",
     "text": [
      "\n",
      "Start counting patterns:\n"
     ]
    }
   ],
   "source": [
    "x_val, y_val = create_train('2015-12-28', pattern_flag=True)"
   ]
  },
  {
   "cell_type": "code",
   "execution_count": 4,
   "metadata": {},
   "outputs": [
    {
     "name": "stderr",
     "output_type": "stream",
     "text": [
      "100%|██████████████████████████████████████████████████████████████████████████████████| 19/19 [00:03<00:00,  5.51it/s]\n"
     ]
    },
    {
     "name": "stdout",
     "output_type": "stream",
     "text": [
      "\n",
      "Start counting patterns:\n"
     ]
    }
   ],
   "source": [
    "x_test = create_test(pattern_flag=True)"
   ]
  },
  {
   "cell_type": "code",
   "execution_count": 5,
   "metadata": {},
   "outputs": [
    {
     "data": {
      "text/plain": [
       "(929615, 158)"
      ]
     },
     "execution_count": 5,
     "metadata": {},
     "output_type": "execute_result"
    }
   ],
   "source": [
    "x_test.shape"
   ]
  },
  {
   "cell_type": "code",
   "execution_count": 6,
   "metadata": {},
   "outputs": [
    {
     "data": {
      "text/plain": [
       "(46148, 158)"
      ]
     },
     "execution_count": 6,
     "metadata": {},
     "output_type": "execute_result"
    }
   ],
   "source": [
    "x_val.shape"
   ]
  },
  {
   "cell_type": "code",
   "execution_count": 7,
   "metadata": {},
   "outputs": [
    {
     "data": {
      "text/plain": [
       "(45140, 158)"
      ]
     },
     "execution_count": 7,
     "metadata": {},
     "output_type": "execute_result"
    }
   ],
   "source": [
    "x_train.shape"
   ]
  },
  {
   "cell_type": "code",
   "execution_count": 8,
   "metadata": {},
   "outputs": [
    {
     "data": {
      "text/plain": [
       "(45140,)"
      ]
     },
     "execution_count": 8,
     "metadata": {},
     "output_type": "execute_result"
    }
   ],
   "source": [
    "y_train.shape"
   ]
  },
  {
   "cell_type": "code",
   "execution_count": 9,
   "metadata": {},
   "outputs": [
    {
     "data": {
      "text/plain": [
       "(46148,)"
      ]
     },
     "execution_count": 9,
     "metadata": {},
     "output_type": "execute_result"
    }
   ],
   "source": [
    "y_val.shape"
   ]
  },
  {
   "cell_type": "markdown",
   "metadata": {},
   "source": [
    "### Train model"
   ]
  },
  {
   "cell_type": "code",
   "execution_count": 10,
   "metadata": {
    "scrolled": true
   },
   "outputs": [
    {
     "name": "stdout",
     "output_type": "stream",
     "text": [
      "[0]\ttrain-mlogloss:2.70803\tval-mlogloss:2.73915\n",
      "[1]\ttrain-mlogloss:2.53512\tval-mlogloss:2.58417\n",
      "[2]\ttrain-mlogloss:2.39652\tval-mlogloss:2.45986\n",
      "[3]\ttrain-mlogloss:2.28028\tval-mlogloss:2.35618\n",
      "[4]\ttrain-mlogloss:2.18082\tval-mlogloss:2.27307\n",
      "[5]\ttrain-mlogloss:2.09362\tval-mlogloss:2.19459\n",
      "[6]\ttrain-mlogloss:2.01652\tval-mlogloss:2.13468\n",
      "[7]\ttrain-mlogloss:1.94695\tval-mlogloss:2.07281\n",
      "[8]\ttrain-mlogloss:1.88421\tval-mlogloss:2.01761\n",
      "[9]\ttrain-mlogloss:1.82663\tval-mlogloss:1.97114\n",
      "[10]\ttrain-mlogloss:1.7733\tval-mlogloss:1.9244\n",
      "[11]\ttrain-mlogloss:1.72421\tval-mlogloss:1.8813\n",
      "[12]\ttrain-mlogloss:1.67889\tval-mlogloss:1.84189\n",
      "[13]\ttrain-mlogloss:1.63697\tval-mlogloss:1.80524\n",
      "[14]\ttrain-mlogloss:1.59767\tval-mlogloss:1.77159\n",
      "[15]\ttrain-mlogloss:1.56079\tval-mlogloss:1.73956\n",
      "[16]\ttrain-mlogloss:1.52615\tval-mlogloss:1.70966\n",
      "[17]\ttrain-mlogloss:1.49356\tval-mlogloss:1.68121\n",
      "[18]\ttrain-mlogloss:1.46311\tval-mlogloss:1.65567\n",
      "[19]\ttrain-mlogloss:1.43435\tval-mlogloss:1.63111\n",
      "[20]\ttrain-mlogloss:1.40701\tval-mlogloss:1.60829\n",
      "[21]\ttrain-mlogloss:1.3816\tval-mlogloss:1.58684\n",
      "[22]\ttrain-mlogloss:1.35743\tval-mlogloss:1.567\n",
      "[23]\ttrain-mlogloss:1.33408\tval-mlogloss:1.54949\n",
      "[24]\ttrain-mlogloss:1.31217\tval-mlogloss:1.53095\n",
      "[25]\ttrain-mlogloss:1.29147\tval-mlogloss:1.51457\n",
      "[26]\ttrain-mlogloss:1.27184\tval-mlogloss:1.49808\n",
      "[27]\ttrain-mlogloss:1.25279\tval-mlogloss:1.483\n",
      "[28]\ttrain-mlogloss:1.23481\tval-mlogloss:1.46763\n",
      "[29]\ttrain-mlogloss:1.2176\tval-mlogloss:1.45424\n",
      "[30]\ttrain-mlogloss:1.20121\tval-mlogloss:1.44155\n",
      "[31]\ttrain-mlogloss:1.18538\tval-mlogloss:1.42929\n",
      "[32]\ttrain-mlogloss:1.17036\tval-mlogloss:1.41718\n",
      "[33]\ttrain-mlogloss:1.15626\tval-mlogloss:1.40533\n",
      "[34]\ttrain-mlogloss:1.14247\tval-mlogloss:1.39458\n",
      "[35]\ttrain-mlogloss:1.12945\tval-mlogloss:1.38373\n",
      "[36]\ttrain-mlogloss:1.11709\tval-mlogloss:1.37448\n",
      "[37]\ttrain-mlogloss:1.10504\tval-mlogloss:1.36529\n",
      "[38]\ttrain-mlogloss:1.09368\tval-mlogloss:1.35762\n",
      "[39]\ttrain-mlogloss:1.08269\tval-mlogloss:1.34928\n",
      "[40]\ttrain-mlogloss:1.07196\tval-mlogloss:1.34099\n",
      "[41]\ttrain-mlogloss:1.06166\tval-mlogloss:1.3341\n",
      "[42]\ttrain-mlogloss:1.05217\tval-mlogloss:1.32724\n",
      "[43]\ttrain-mlogloss:1.04275\tval-mlogloss:1.31963\n",
      "[44]\ttrain-mlogloss:1.03381\tval-mlogloss:1.31231\n",
      "[45]\ttrain-mlogloss:1.02529\tval-mlogloss:1.30553\n",
      "[46]\ttrain-mlogloss:1.01702\tval-mlogloss:1.29951\n",
      "[47]\ttrain-mlogloss:1.009\tval-mlogloss:1.29327\n",
      "[48]\ttrain-mlogloss:1.00118\tval-mlogloss:1.28859\n",
      "[49]\ttrain-mlogloss:0.993706\tval-mlogloss:1.28282\n"
     ]
    }
   ],
   "source": [
    "param = {'objective': 'multi:softprob', \n",
    "         'eta': 0.05, \n",
    "         'max_depth': 8, \n",
    "         'silent': 1, \n",
    "         'num_class': len(target_cols),\n",
    "         'eval_metric': 'mlogloss',\n",
    "         'min_child_weight': 1,\n",
    "         'subsample': 0.7,\n",
    "         'colsample_bytree': 0.7,\n",
    "         'seed': 0}\n",
    "num_rounds = 50\n",
    "\n",
    "dtrain = xgb.DMatrix(x_train.values, y_train.values)\n",
    "dval = xgb.DMatrix(x_val.values, y_val.values)\n",
    "model = xgb.train(param, dtrain, num_rounds, evals=[(dtrain, 'train'), (dval, 'val')], verbose_eval=True)"
   ]
  },
  {
   "cell_type": "code",
   "execution_count": 11,
   "metadata": {},
   "outputs": [],
   "source": [
    "preds = model.predict(xgb.DMatrix(x_test.values))\n",
    "\n",
    "df_preds = pd.DataFrame(preds, index=x_test.index, columns=target_cols)\n",
    "# Remove already bought products \n",
    "df_preds[x_test[target_cols]==1] = 0 \n",
    "preds = df_preds.values\n",
    "preds = np.argsort(preds, axis=1)\n",
    "preds = np.fliplr(preds)[:, :7]"
   ]
  },
  {
   "cell_type": "code",
   "execution_count": 12,
   "metadata": {},
   "outputs": [],
   "source": [
    "test_id = x_test.loc[:, 'ncodpers'].values\n",
    "final_preds = [' '.join([target_cols[k] for k in pred]) for pred in preds]\n",
    "\n",
    "out_df = pd.DataFrame({'ncodpers': test_id, 'added_products': final_preds})\n",
    "out_df.to_csv('eda_4_24.csv.gz', compression='gzip', index=False)"
   ]
  },
  {
   "cell_type": "code",
   "execution_count": null,
   "metadata": {},
   "outputs": [],
   "source": []
  }
 ],
 "metadata": {
  "kernelspec": {
   "display_name": "Python 3",
   "language": "python",
   "name": "python3"
  },
  "language_info": {
   "codemirror_mode": {
    "name": "ipython",
    "version": 3
   },
   "file_extension": ".py",
   "mimetype": "text/x-python",
   "name": "python",
   "nbconvert_exporter": "python",
   "pygments_lexer": "ipython3",
   "version": "3.6.6"
  }
 },
 "nbformat": 4,
 "nbformat_minor": 2
}
