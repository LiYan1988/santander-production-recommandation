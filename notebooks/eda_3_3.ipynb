{
 "cells": [
  {
   "cell_type": "markdown",
   "metadata": {},
   "source": [
    "# Combine the two kernels"
   ]
  },
  {
   "cell_type": "markdown",
   "metadata": {},
   "source": [
    "## Clean Data"
   ]
  },
  {
   "cell_type": "code",
   "execution_count": null,
   "metadata": {},
   "outputs": [],
   "source": [
    "import os\n",
    "if os.name=='nt':\n",
    "    try:\n",
    "        mingw_path = 'C:\\\\Program Files\\\\mingw-w64\\\\x86_64-8.1.0-posix-seh-rt_v6-rev0\\\\mingw64\\\\bin'\n",
    "        os.environ['PATH'] = mingw_path + ';' + os.environ['PATH']\n",
    "    except:\n",
    "        pass\n",
    "    \n",
    "import numpy as np\n",
    "import pandas as pd\n",
    "import seaborn as sns\n",
    "import matplotlib.pyplot as plt\n",
    "import tqdm\n",
    "\n",
    "tqdm.tqdm.pandas()\n",
    "\n",
    "%matplotlib inline"
   ]
  },
  {
   "cell_type": "code",
   "execution_count": 2,
   "metadata": {},
   "outputs": [
    {
     "name": "stderr",
     "output_type": "stream",
     "text": [
      "C:\\Users\\home\\Anaconda3\\envs\\kaggle\\lib\\site-packages\\IPython\\core\\interactiveshell.py:2785: DtypeWarning: Columns (5,8,11,15) have mixed types. Specify dtype option on import or set low_memory=False.\n",
      "  interactivity=interactivity, compiler=compiler, result=result)\n"
     ]
    }
   ],
   "source": [
    "df = pd.read_csv('../input/train_ver2.csv')\n",
    "df2 = df.copy()"
   ]
  },
  {
   "cell_type": "code",
   "execution_count": null,
   "metadata": {},
   "outputs": [],
   "source": [
    "df.to_hdf('../input/data.hdf', 'train_ver2', complib='blosc:lz4', complevel=9, format='t')"
   ]
  },
  {
   "cell_type": "code",
   "execution_count": 3,
   "metadata": {},
   "outputs": [
    {
     "data": {
      "text/plain": [
       "15.323746562935412"
      ]
     },
     "execution_count": 3,
     "metadata": {},
     "output_type": "execute_result"
    }
   ],
   "source": [
    "df.memory_usage(deep=True).sum()/2**30"
   ]
  },
  {
   "cell_type": "markdown",
   "metadata": {},
   "source": [
    "Some columns have the same number of nulls, these are the same samples. Nulls are filled with 'unknown'"
   ]
  },
  {
   "cell_type": "code",
   "execution_count": 5,
   "metadata": {},
   "outputs": [],
   "source": [
    "column_fillna_with_unkonwn = [c for c in dfnull.index if dfnull[c]==27734] # columns that NA is filled by 'unknown'\n",
    "column_fillna_with_unkonwn.remove('fecha_alta')"
   ]
  },
  {
   "cell_type": "code",
   "execution_count": 7,
   "metadata": {},
   "outputs": [],
   "source": [
    "for c in column_fillna_with_unkonwn:\n",
    "    df.loc[df[c].isnull(), c] = 'unknown'"
   ]
  },
  {
   "cell_type": "markdown",
   "metadata": {},
   "source": [
    "`sexo`: nulls are filled with 'unknown'"
   ]
  },
  {
   "cell_type": "code",
   "execution_count": 8,
   "metadata": {},
   "outputs": [],
   "source": [
    "df.loc[df.sexo.isnull(), 'sexo'] = 'unknown'"
   ]
  },
  {
   "cell_type": "markdown",
   "metadata": {},
   "source": [
    "### `ult_fec_cli_1t` \n",
    "\n",
    "Last date as primary customer (if he isn't at the end of the month)\n",
    "\n",
    "Only very few samples in `ult_fec_cli_1t` is not NA, 24793 out of 13,647,309 samples have `ult_fec_cli_1t` not NA.\n",
    "\n",
    "1. If the sample is not NA\n",
    "    - `indrel_1mes==1`: the customer was primary at the beginning of the month, but left\n",
    "    - But `indrel_1mes` can be values other than 1, following possibilities\n",
    "        - The customer became primary at some time of the month and then left immediately in the same month\n",
    "        - OR, `ult_fec_cli_1t` also records other changes of customer types\n",
    "        - OR, the data is not consistent for a few samples\n",
    "2. A customer can become and leave primary multiple times, `ult_fec_cli_1t` only records the change of the current primary membership\n",
    "    - `df.ult_fec_cli_1t-df.fecha_dato<=-30 days`\n",
    "    - `df.ult_fec_cli_1t-df.fecha_dato` can be positive, meaning the current membership changes in a future date\n",
    "3. If the sample is NA\n",
    "    - The customer is not primary up to the end of the month\n",
    "    - The customer is still primary at the end of the month    \n",
    "\n",
    "#### Findings in data analysis\n",
    "1. `ult_fec_cli_1t` is defined a posteriori, it defines the termination of primary of each primary period\n",
    "2. The definition of `indrel` does not match with data. It simply indicates if `ult_fec_cli_1t` is NA or not.\n",
    "    - `ult_fec_cli_1t` is NA, `indrel==1`\n",
    "    - `ult_fec_cli_1t` is not NA, `indrel==99`\n",
    "3. "
   ]
  },
  {
   "cell_type": "code",
   "execution_count": 9,
   "metadata": {},
   "outputs": [],
   "source": [
    "a = df.loc[df.ult_fec_cli_1t.notnull(), ['ncodpers', 'fecha_dato', 'fecha_alta', 'ult_fec_cli_1t', 'indrel', 'indrel_1mes']]\n",
    "a.fecha_dato = pd.to_datetime(a.fecha_dato)\n",
    "a.fecha_alta = pd.to_datetime(a.fecha_alta)\n",
    "a.ult_fec_cli_1t = pd.to_datetime(a.ult_fec_cli_1t)"
   ]
  },
  {
   "cell_type": "markdown",
   "metadata": {},
   "source": [
    "#### `ult_fec_cli_1t` and `fecha_dato`\n",
    "\n",
    "- `ult_fec_cli_1t-fecha_dato>=-27 days`\n",
    "- `ult_fec_cli_1t-fecha_dato<=183 days`\n",
    "\n",
    "`ult_fec_cli_1t` is always in the current or a future month. So it tells when this current primary membership is terminated **a posteriori**."
   ]
  },
  {
   "cell_type": "code",
   "execution_count": 10,
   "metadata": {},
   "outputs": [],
   "source": [
    "b = (a.ult_fec_cli_1t - a.fecha_dato).value_counts().sort_index()\n",
    "c = b.copy()\n",
    "c.index = c.index.astype('timedelta64[M]')\n",
    "c = c.groupby(by=c.index).sum()"
   ]
  },
  {
   "cell_type": "code",
   "execution_count": 11,
   "metadata": {},
   "outputs": [
    {
     "data": {
      "text/plain": [
       "-27 days    769\n",
       "-26 days    725\n",
       "-25 days    571\n",
       "-24 days    686\n",
       "-23 days    644\n",
       "dtype: int64"
      ]
     },
     "execution_count": 11,
     "metadata": {},
     "output_type": "execute_result"
    }
   ],
   "source": [
    "b.head()"
   ]
  },
  {
   "cell_type": "code",
   "execution_count": 12,
   "metadata": {},
   "outputs": [
    {
     "data": {
      "text/plain": [
       "177 days    37\n",
       "180 days    24\n",
       "181 days    37\n",
       "182 days    26\n",
       "183 days    25\n",
       "dtype: int64"
      ]
     },
     "execution_count": 12,
     "metadata": {},
     "output_type": "execute_result"
    }
   ],
   "source": [
    "b.tail()"
   ]
  },
  {
   "cell_type": "markdown",
   "metadata": {},
   "source": [
    "`fecha_dato` is no later than `ult_fec_cli_1t`, the -1 below means that they are in the same month."
   ]
  },
  {
   "cell_type": "code",
   "execution_count": 13,
   "metadata": {},
   "outputs": [
    {
     "data": {
      "text/plain": [
       "-1    18236\n",
       " 0     2557\n",
       " 1      747\n",
       " 2      829\n",
       " 3      774\n",
       " 4      887\n",
       " 5      738\n",
       " 6       25\n",
       "dtype: int64"
      ]
     },
     "execution_count": 13,
     "metadata": {},
     "output_type": "execute_result"
    }
   ],
   "source": [
    "c"
   ]
  },
  {
   "cell_type": "markdown",
   "metadata": {},
   "source": [
    "Conversely, if `ult_fec_cli_1t` is NA, change from primary to non-primary should never happen. If we compare `indrel_1mes` of this month with that of the next month for the same customer, it should never change from 1 to not 1."
   ]
  },
  {
   "cell_type": "markdown",
   "metadata": {},
   "source": [
    "### So there are three types of customers\n",
    "1. `ult_fec_cli_1t` is always NA\n",
    "    - Customer type should always be primary or not primary, never change between primary and not primary\n",
    "    - 925932 customers\n",
    "2. For customers with `ult_fec_cli_1t` always NA, 921072 have an unchanged `indrel_1mes`\n",
    "    - Most of them have `indrel_1mes==1` \n",
    "\n",
    "|`indrel_1mes`|count     |\n",
    "|-------------|----------|\n",
    "|1            |920638    |\n",
    "|2            |117       |\n",
    "|3            |218       |\n",
    "|4            |23        |\n",
    "|P            |76        |\n",
    "\n",
    "2. 4860 Customers with `ult_fec_cli_1t` always NA, and two `indrel_1mes` values\n",
    "    - How about the other customers whose `indrel_1mes!=1`? Their `indrel_1mes` should change from other types to 1 and **do not change back**\n",
    "        - **exceptions, `ult_fec_cli_1t` missing, but should have a number**\n",
    "            - 23 customers whose `indrel_1mes` changes from 1 to 3 then to 1 again\n",
    "            - 4 customers whose `indrel_1mes` changes from 1 to 3, 3 all occur at 2016-05, the last month\n",
    "            - 1 customer's `indrel_1mes` changes from 3 to 1 to 3 to 1, `ncodpers==693087`\n",
    "        - **others, become primary and stay**\n",
    "            - 2741 customers' `indrel_1mes` changes from 3 to 1\n",
    "            - 1120 customers `indrel_1mes` changes from 2 to 1\n",
    "            - 730 customers `indrel_1mes` changes from 'P' to 1\n",
    "            - 241 customers `indrel_1mes` changes from 4 to 1\n",
    "4. `ult_fec_cli_1t` is always not NA\n",
    "    - 3481 customers, all the them have been primary once and then changed types\n",
    "    - 13 customers have two types of `indrel_1mes`, which change between 1 and other types (usually 3 indicating former primary or P, potential customer)\n",
    "    - 3468 customers have only one  type of `indrel_1mes`, but they may have multiple samples. This indicates\n",
    "        - either the data is wrong\n",
    "        - or, they change to primary and then change back within the same month, so `indrel_1mes` do not change in the next month. \n",
    "        - For those customers fullfill the following condition, are they on purpose for some temporary discount/benefit?\n",
    "            - with multiple samples \n",
    "            - `indrel_1mes` are the same \n",
    "            - `ult_fec_cli_1t` are different\n",
    "    - we can count the unique values of `ult_fec_cli_1i` to determine how many times \n",
    "3. `ult_fec_cli_1t` changes between NA and not NA\n",
    "    - 12546 customers\n",
    "    - for these customers, first sort by `ncodpers` and `fecha_dato`, then fillna `ult_fec_cli_1t` with bfill\n",
    "3. __Possible features for `ult_fec_cli_1t`__\n",
    "    - If `ult_fec_cli_1t` is always NA, always not NA, or others\n",
    "    - Number of records up to now\n",
    "    - Number of unique `indrel_1mes` values\n",
    "        - The customers can be classified by `indrel_1mes` into {1, 2, 3, 4, P, 21, 31, 41, P1}\n",
    "            - If 1 `indrel_1mes` value, what is it\n",
    "            - If 2 `indrel_1mes` value, what is the value other than 1\n",
    "            - why not replace P with 0 in `indrel_1mes`?\n",
    "            - the exception cases for those 28 customers that change `indrel_1mes` multiple times\n",
    "        - When does the change of `indrel_1mes` happen\n",
    "    - Number of unique `ult_fec_cli_1t` up to now\n",
    "    - Mean encode within customers having the same `indrel_1mes` type in the same month\n",
    "    - If primary is terminated/added in the month\n",
    "    - Type of customer type changes in the month"
   ]
  },
  {
   "cell_type": "code",
   "execution_count": 14,
   "metadata": {},
   "outputs": [],
   "source": [
    "d = df.loc[:, ['ncodpers', 'indrel_1mes', 'fecha_dato', 'ult_fec_cli_1t']]\n",
    "d.fecha_dato = pd.to_datetime(d.fecha_dato)\n",
    "d.ult_fec_cli_1t = pd.to_datetime(d.ult_fec_cli_1t)\n",
    "d.sort_values(by=['ncodpers', 'fecha_dato'], ascending=[True, True], inplace=True)\n",
    "d = d.loc[d.indrel_1mes.notnull(), :] # drop samples without indrel_1mes\n",
    "d.indrel_1mes.unique()\n",
    "indrel_map = {1.0: 1, '1': 1, '2': 2, 2.0: 2, '1.0': 1, '2.0': 2, 4.0: 4, '3.0': 3, 3.0: 3, '4.0': 4, 'P': 'P', '3': 3,\n",
    "       '4': 4}\n",
    "d.loc[:, 'indrel_1mes'] = d.indrel_1mes.map(indrel_map)"
   ]
  },
  {
   "cell_type": "code",
   "execution_count": 15,
   "metadata": {},
   "outputs": [],
   "source": [
    "def count_null(x):\n",
    "    return x.isnull().sum()\n",
    "\n",
    "def count_all(x):\n",
    "    return len(x)\n",
    "\n",
    "e = d.groupby(['ncodpers'])['ult_fec_cli_1t'].agg([count_null, count_all])\n",
    "e['diff'] = e.count_all-e.count_null\n",
    "e.sort_values(by=['diff', 'count_all'], axis=0, ascending=[True, False], inplace=True)"
   ]
  },
  {
   "cell_type": "markdown",
   "metadata": {},
   "source": [
    "Number of customers whose `ult_fec_cli_1t` is always NA is 925932"
   ]
  },
  {
   "cell_type": "code",
   "execution_count": 17,
   "metadata": {},
   "outputs": [
    {
     "data": {
      "text/plain": [
       "(925932, 3)"
      ]
     },
     "execution_count": 17,
     "metadata": {},
     "output_type": "execute_result"
    }
   ],
   "source": [
    "e.loc[(e['diff']==0) & (e['count_null']>0)].shape"
   ]
  },
  {
   "cell_type": "markdown",
   "metadata": {},
   "source": [
    "Number of customers whose `ult_fec_cli_1t` is always not NA is 3481"
   ]
  },
  {
   "cell_type": "code",
   "execution_count": 18,
   "metadata": {},
   "outputs": [
    {
     "data": {
      "text/plain": [
       "3481"
      ]
     },
     "execution_count": 18,
     "metadata": {},
     "output_type": "execute_result"
    }
   ],
   "source": [
    "e.count_null.value_counts().sort_index().iloc[0]"
   ]
  },
  {
   "cell_type": "markdown",
   "metadata": {},
   "source": [
    "Number of customers whose `ult_fec_cli_1t` changes between NA and not NA"
   ]
  },
  {
   "cell_type": "code",
   "execution_count": 19,
   "metadata": {},
   "outputs": [
    {
     "data": {
      "text/plain": [
       "(12546, 3)"
      ]
     },
     "execution_count": 19,
     "metadata": {},
     "output_type": "execute_result"
    }
   ],
   "source": [
    "e.loc[(e['diff']>0) & (e.count_null>0)].shape"
   ]
  },
  {
   "cell_type": "markdown",
   "metadata": {},
   "source": [
    "All the cases are searched"
   ]
  },
  {
   "cell_type": "code",
   "execution_count": 20,
   "metadata": {},
   "outputs": [
    {
     "data": {
      "text/plain": [
       "0"
      ]
     },
     "execution_count": 20,
     "metadata": {},
     "output_type": "execute_result"
    }
   ],
   "source": [
    "12546+3481+925932-e.shape[0]"
   ]
  },
  {
   "cell_type": "markdown",
   "metadata": {},
   "source": [
    "Save for future use"
   ]
  },
  {
   "cell_type": "code",
   "execution_count": 22,
   "metadata": {},
   "outputs": [],
   "source": [
    "e.columns = ['count_ult_null', 'count_sample', 'count_ult_notnull']\n",
    "e.to_hdf('../input/data.hdf', 'train_ult_null_count', complib='blosc:lz4', complevel=9, format='t')"
   ]
  },
  {
   "cell_type": "markdown",
   "metadata": {},
   "source": [
    "##### Customers whose `ult_fec_cli_1t` is always NA\n",
    "\n",
    "How their `indrel_1mes` change through different months?"
   ]
  },
  {
   "cell_type": "code",
   "execution_count": 28,
   "metadata": {},
   "outputs": [],
   "source": [
    "e1 = e.loc[(e['count_ult_notnull']==0) & (e['count_ult_null']>0)].index.tolist() # list of costumer id with ult_fec_cli_1t always NA"
   ]
  },
  {
   "cell_type": "code",
   "execution_count": 29,
   "metadata": {},
   "outputs": [
    {
     "data": {
      "text/plain": [
       "Index(['ncodpers', 'indrel_1mes', 'fecha_dato', 'ult_fec_cli_1t'], dtype='object')"
      ]
     },
     "execution_count": 29,
     "metadata": {},
     "output_type": "execute_result"
    }
   ],
   "source": [
    "d.columns"
   ]
  },
  {
   "cell_type": "code",
   "execution_count": 30,
   "metadata": {},
   "outputs": [],
   "source": [
    "d1 = d.loc[d.ncodpers.isin(e1), ['ncodpers', 'indrel_1mes', 'fecha_dato']]\n",
    "d1.sort_values(['ncodpers', 'fecha_dato'], inplace=True)"
   ]
  },
  {
   "cell_type": "code",
   "execution_count": 31,
   "metadata": {},
   "outputs": [
    {
     "data": {
      "text/html": [
       "<div>\n",
       "<style scoped>\n",
       "    .dataframe tbody tr th:only-of-type {\n",
       "        vertical-align: middle;\n",
       "    }\n",
       "\n",
       "    .dataframe tbody tr th {\n",
       "        vertical-align: top;\n",
       "    }\n",
       "\n",
       "    .dataframe thead th {\n",
       "        text-align: right;\n",
       "    }\n",
       "</style>\n",
       "<table border=\"1\" class=\"dataframe\">\n",
       "  <thead>\n",
       "    <tr style=\"text-align: right;\">\n",
       "      <th></th>\n",
       "      <th>ncodpers</th>\n",
       "      <th>indrel_1mes</th>\n",
       "      <th>fecha_dato</th>\n",
       "    </tr>\n",
       "  </thead>\n",
       "  <tbody>\n",
       "    <tr>\n",
       "      <th>416965</th>\n",
       "      <td>15889</td>\n",
       "      <td>1</td>\n",
       "      <td>2015-01-28</td>\n",
       "    </tr>\n",
       "  </tbody>\n",
       "</table>\n",
       "</div>"
      ],
      "text/plain": [
       "        ncodpers indrel_1mes fecha_dato\n",
       "416965     15889           1 2015-01-28"
      ]
     },
     "execution_count": 31,
     "metadata": {},
     "output_type": "execute_result"
    }
   ],
   "source": [
    "d1.head(1)"
   ]
  },
  {
   "cell_type": "code",
   "execution_count": 32,
   "metadata": {},
   "outputs": [],
   "source": [
    "d1_group = d1.groupby('ncodpers')\n",
    "a = d1_group.get_group(15889)"
   ]
  },
  {
   "cell_type": "code",
   "execution_count": 46,
   "metadata": {},
   "outputs": [],
   "source": [
    "def count_types(x):\n",
    "    return len(x.unique())\n",
    "\n",
    "def condense_types(x):\n",
    "    return x.value_counts().index.tolist()"
   ]
  },
  {
   "cell_type": "code",
   "execution_count": 49,
   "metadata": {},
   "outputs": [
    {
     "name": "stderr",
     "output_type": "stream",
     "text": [
      "\n",
      "\n",
      "\n",
      "\n",
      "  6%|████▏                                                                    | 52631/925932 [00:32<02:45, 5281.95it/s]"
     ]
    }
   ],
   "source": [
    "d1_count_types = d1_group['indrel_1mes'].apply(count_types) # count number of types for each customer"
   ]
  },
  {
   "cell_type": "code",
   "execution_count": 50,
   "metadata": {},
   "outputs": [
    {
     "data": {
      "text/plain": [
       "1    921072\n",
       "2      4860\n",
       "Name: indrel_1mes, dtype: int64"
      ]
     },
     "execution_count": 50,
     "metadata": {},
     "output_type": "execute_result"
    }
   ],
   "source": [
    "d1_count_types.value_counts()"
   ]
  },
  {
   "cell_type": "code",
   "execution_count": 236,
   "metadata": {},
   "outputs": [
    {
     "data": {
      "text/plain": [
       "0"
      ]
     },
     "execution_count": 236,
     "metadata": {},
     "output_type": "execute_result"
    }
   ],
   "source": [
    "4860+921072-925932"
   ]
  },
  {
   "cell_type": "markdown",
   "metadata": {},
   "source": [
    "Most of the customers whose `ult_fec_cli_1t` is always NA and `indrel_1mes` unchanged have `indrel_1mes==1`"
   ]
  },
  {
   "cell_type": "code",
   "execution_count": 51,
   "metadata": {},
   "outputs": [],
   "source": [
    "d1_uniuque_type = d.loc[d.ncodpers.isin(d1_count_types.loc[d1_count_types==1].index)].groupby('ncodpers')['indrel_1mes'].apply(lambda x: x.iloc[0])"
   ]
  },
  {
   "cell_type": "code",
   "execution_count": 53,
   "metadata": {},
   "outputs": [
    {
     "data": {
      "text/plain": [
       "1    920638\n",
       "3       218\n",
       "2       117\n",
       "P        76\n",
       "4        23\n",
       "Name: indrel_1mes, dtype: int64"
      ]
     },
     "execution_count": 53,
     "metadata": {},
     "output_type": "execute_result"
    }
   ],
   "source": [
    "d1_uniuque_type.value_counts()"
   ]
  },
  {
   "cell_type": "code",
   "execution_count": 245,
   "metadata": {},
   "outputs": [
    {
     "data": {
      "text/plain": [
       "1    13343385\n",
       "3         218\n",
       "2         117\n",
       "P          76\n",
       "4          23\n",
       "Name: indrel_1mes, dtype: int64"
      ]
     },
     "execution_count": 245,
     "metadata": {},
     "output_type": "execute_result"
    }
   ],
   "source": [
    "d.loc[d.ncodpers.isin(d1_count_types.loc[d1_count_types==1].index), 'indrel_1mes'].value_counts()"
   ]
  },
  {
   "cell_type": "markdown",
   "metadata": {},
   "source": [
    "Customers whose `ult_fec_cli_1t` is always NA and `indrel_1mes` changes"
   ]
  },
  {
   "cell_type": "code",
   "execution_count": 255,
   "metadata": {},
   "outputs": [],
   "source": [
    "d1_changed = d1_count_types.loc[d1_count_types==2].index.tolist() # customers whose indrel_1mes changes\n",
    "d1_changed = d1.loc[d1.ncodpers.isin(d1_changed)]"
   ]
  },
  {
   "cell_type": "code",
   "execution_count": 260,
   "metadata": {},
   "outputs": [],
   "source": [
    "d1_changed_head_tail = d1_changed.groupby('ncodpers')['indrel_1mes'].apply(lambda x: (x.iloc[0], x.iloc[-1]))"
   ]
  },
  {
   "cell_type": "code",
   "execution_count": 261,
   "metadata": {},
   "outputs": [
    {
     "data": {
      "text/plain": [
       "(3, 1)    2742\n",
       "(2, 1)    1120\n",
       "(P, 1)     730\n",
       "(4, 1)     241\n",
       "(1, 1)      23\n",
       "(1, 3)       4\n",
       "Name: indrel_1mes, dtype: int64"
      ]
     },
     "execution_count": 261,
     "metadata": {},
     "output_type": "execute_result"
    }
   ],
   "source": [
    "d1_changed_head_tail.value_counts()"
   ]
  },
  {
   "cell_type": "markdown",
   "metadata": {},
   "source": [
    "Customers whose \n",
    "- `ult_fec_cli_1t` is always NA\n",
    "- `indrel_1mes` changes from 1 to 3 then to 1 again\n",
    "- 23 customers"
   ]
  },
  {
   "cell_type": "code",
   "execution_count": 265,
   "metadata": {},
   "outputs": [],
   "source": [
    "d11 = d1_changed_head_tail.loc[d1_changed_head_tail==(1,1)].index.tolist()\n",
    "d1_changed.loc[d1_changed.ncodpers.isin(d11)].groupby('ncodpers').indrel_1mes.apply(lambda x: x.unique())"
   ]
  },
  {
   "cell_type": "markdown",
   "metadata": {},
   "source": [
    "Customers whose\n",
    "- `ult_fec_cli_1t` is always NA\n",
    "- `indrel_1mes` changes from 1 to 3\n",
    "- `indrel_1mes` changes to 3 at the last month in 2016 May\n",
    "- 4 customers"
   ]
  },
  {
   "cell_type": "code",
   "execution_count": 282,
   "metadata": {},
   "outputs": [],
   "source": [
    "d13 = d1_changed_head_tail.loc[d1_changed_head_tail==(1, 3)].index.tolist()\n",
    "# d1_changed.loc[d1_changed.ncodpers.isin(d13)]"
   ]
  },
  {
   "cell_type": "markdown",
   "metadata": {},
   "source": [
    "Customers whose \n",
    "- `ult_fec_cli_1t` is always NA\n",
    "- `indrel_1mes` changes from other types to 1"
   ]
  },
  {
   "cell_type": "code",
   "execution_count": 284,
   "metadata": {},
   "outputs": [],
   "source": [
    "d31 = d1_changed_head_tail.loc[d1_changed_head_tail==(3, 1)].index.tolist()\n",
    "d31 = d1_changed.loc[d1_changed.ncodpers.isin(d31)].groupby('ncodpers').indrel_1mes.apply(lambda x: sum(x.diff().fillna(0)!=0))"
   ]
  },
  {
   "cell_type": "code",
   "execution_count": 290,
   "metadata": {},
   "outputs": [],
   "source": [
    "d21 = d1_changed_head_tail.loc[d1_changed_head_tail==(2, 1)].index.tolist()\n",
    "d21 = d1_changed.loc[d1_changed.ncodpers.isin(d21)].groupby('ncodpers').indrel_1mes.apply(lambda x: sum(x.diff().fillna(0)!=0))"
   ]
  },
  {
   "cell_type": "code",
   "execution_count": 302,
   "metadata": {},
   "outputs": [
    {
     "data": {
      "text/plain": [
       "ncodpers\n",
       "1540160    1\n",
       "1540903    1\n",
       "1541123    1\n",
       "1542164    1\n",
       "1542842    1\n",
       "Name: indrel_1mes, dtype: int64"
      ]
     },
     "execution_count": 302,
     "metadata": {},
     "output_type": "execute_result"
    }
   ],
   "source": [
    "d21.tail()"
   ]
  },
  {
   "cell_type": "code",
   "execution_count": 304,
   "metadata": {},
   "outputs": [
    {
     "data": {
      "text/html": [
       "<div>\n",
       "<style scoped>\n",
       "    .dataframe tbody tr th:only-of-type {\n",
       "        vertical-align: middle;\n",
       "    }\n",
       "\n",
       "    .dataframe tbody tr th {\n",
       "        vertical-align: top;\n",
       "    }\n",
       "\n",
       "    .dataframe thead th {\n",
       "        text-align: right;\n",
       "    }\n",
       "</style>\n",
       "<table border=\"1\" class=\"dataframe\">\n",
       "  <thead>\n",
       "    <tr style=\"text-align: right;\">\n",
       "      <th></th>\n",
       "      <th>ncodpers</th>\n",
       "      <th>indrel_1mes</th>\n",
       "      <th>fecha_dato</th>\n",
       "    </tr>\n",
       "  </thead>\n",
       "  <tbody>\n",
       "    <tr>\n",
       "      <th>11929417</th>\n",
       "      <td>1540160</td>\n",
       "      <td>2</td>\n",
       "      <td>2016-04-28</td>\n",
       "    </tr>\n",
       "    <tr>\n",
       "      <th>13327362</th>\n",
       "      <td>1540160</td>\n",
       "      <td>1</td>\n",
       "      <td>2016-05-28</td>\n",
       "    </tr>\n",
       "  </tbody>\n",
       "</table>\n",
       "</div>"
      ],
      "text/plain": [
       "          ncodpers indrel_1mes fecha_dato\n",
       "11929417   1540160           2 2016-04-28\n",
       "13327362   1540160           1 2016-05-28"
      ]
     },
     "execution_count": 304,
     "metadata": {},
     "output_type": "execute_result"
    }
   ],
   "source": [
    "d1.loc[d1.ncodpers==1540160]"
   ]
  },
  {
   "cell_type": "code",
   "execution_count": 307,
   "metadata": {},
   "outputs": [
    {
     "data": {
      "text/plain": [
       "('P', 1)"
      ]
     },
     "execution_count": 307,
     "metadata": {},
     "output_type": "execute_result"
    }
   ],
   "source": [
    "d1_changed_head_tail.value_counts().index.tolist()[2]"
   ]
  },
  {
   "cell_type": "code",
   "execution_count": 309,
   "metadata": {},
   "outputs": [],
   "source": [
    "dp1 = d1_changed_head_tail.loc[d1_changed_head_tail==('P', 1)].index.tolist()"
   ]
  },
  {
   "cell_type": "code",
   "execution_count": 310,
   "metadata": {},
   "outputs": [],
   "source": [
    "def p1(x):\n",
    "    x = x.map({'P': 0, 1: 1})\n",
    "    return sum(x.diff().fillna(0)!=0)"
   ]
  },
  {
   "cell_type": "code",
   "execution_count": 311,
   "metadata": {},
   "outputs": [],
   "source": [
    "dp1 = d1_changed.loc[d1_changed.ncodpers.isin(dp1)].groupby('ncodpers').indrel_1mes.apply(p1)"
   ]
  },
  {
   "cell_type": "code",
   "execution_count": 312,
   "metadata": {},
   "outputs": [
    {
     "data": {
      "text/plain": [
       "1    730\n",
       "Name: indrel_1mes, dtype: int64"
      ]
     },
     "execution_count": 312,
     "metadata": {},
     "output_type": "execute_result"
    }
   ],
   "source": [
    "dp1.value_counts()"
   ]
  },
  {
   "cell_type": "code",
   "execution_count": 314,
   "metadata": {},
   "outputs": [
    {
     "data": {
      "text/plain": [
       "ncodpers\n",
       "42865    1\n",
       "43521    1\n",
       "46374    1\n",
       "46507    1\n",
       "46732    1\n",
       "Name: indrel_1mes, dtype: int64"
      ]
     },
     "execution_count": 314,
     "metadata": {},
     "output_type": "execute_result"
    }
   ],
   "source": [
    "dp1.head()"
   ]
  },
  {
   "cell_type": "code",
   "execution_count": 318,
   "metadata": {},
   "outputs": [
    {
     "data": {
      "text/html": [
       "<div>\n",
       "<style scoped>\n",
       "    .dataframe tbody tr th:only-of-type {\n",
       "        vertical-align: middle;\n",
       "    }\n",
       "\n",
       "    .dataframe tbody tr th {\n",
       "        vertical-align: top;\n",
       "    }\n",
       "\n",
       "    .dataframe thead th {\n",
       "        text-align: right;\n",
       "    }\n",
       "</style>\n",
       "<table border=\"1\" class=\"dataframe\">\n",
       "  <thead>\n",
       "    <tr style=\"text-align: right;\">\n",
       "      <th></th>\n",
       "      <th>ncodpers</th>\n",
       "      <th>indrel_1mes</th>\n",
       "      <th>fecha_dato</th>\n",
       "    </tr>\n",
       "  </thead>\n",
       "  <tbody>\n",
       "    <tr>\n",
       "      <th>4064552</th>\n",
       "      <td>46374</td>\n",
       "      <td>P</td>\n",
       "      <td>2015-07-28</td>\n",
       "    </tr>\n",
       "    <tr>\n",
       "      <th>5308797</th>\n",
       "      <td>46374</td>\n",
       "      <td>1</td>\n",
       "      <td>2015-08-28</td>\n",
       "    </tr>\n",
       "    <tr>\n",
       "      <th>5693723</th>\n",
       "      <td>46374</td>\n",
       "      <td>1</td>\n",
       "      <td>2015-09-28</td>\n",
       "    </tr>\n",
       "    <tr>\n",
       "      <th>6923255</th>\n",
       "      <td>46374</td>\n",
       "      <td>1</td>\n",
       "      <td>2015-10-28</td>\n",
       "    </tr>\n",
       "    <tr>\n",
       "      <th>7493046</th>\n",
       "      <td>46374</td>\n",
       "      <td>1</td>\n",
       "      <td>2015-11-28</td>\n",
       "    </tr>\n",
       "    <tr>\n",
       "      <th>8628757</th>\n",
       "      <td>46374</td>\n",
       "      <td>1</td>\n",
       "      <td>2015-12-28</td>\n",
       "    </tr>\n",
       "    <tr>\n",
       "      <th>9100545</th>\n",
       "      <td>46374</td>\n",
       "      <td>1</td>\n",
       "      <td>2016-01-28</td>\n",
       "    </tr>\n",
       "    <tr>\n",
       "      <th>10414974</th>\n",
       "      <td>46374</td>\n",
       "      <td>1</td>\n",
       "      <td>2016-02-28</td>\n",
       "    </tr>\n",
       "    <tr>\n",
       "      <th>11156395</th>\n",
       "      <td>46374</td>\n",
       "      <td>1</td>\n",
       "      <td>2016-03-28</td>\n",
       "    </tr>\n",
       "    <tr>\n",
       "      <th>12061700</th>\n",
       "      <td>46374</td>\n",
       "      <td>1</td>\n",
       "      <td>2016-04-28</td>\n",
       "    </tr>\n",
       "    <tr>\n",
       "      <th>13031216</th>\n",
       "      <td>46374</td>\n",
       "      <td>1</td>\n",
       "      <td>2016-05-28</td>\n",
       "    </tr>\n",
       "  </tbody>\n",
       "</table>\n",
       "</div>"
      ],
      "text/plain": [
       "          ncodpers indrel_1mes fecha_dato\n",
       "4064552      46374           P 2015-07-28\n",
       "5308797      46374           1 2015-08-28\n",
       "5693723      46374           1 2015-09-28\n",
       "6923255      46374           1 2015-10-28\n",
       "7493046      46374           1 2015-11-28\n",
       "8628757      46374           1 2015-12-28\n",
       "9100545      46374           1 2016-01-28\n",
       "10414974     46374           1 2016-02-28\n",
       "11156395     46374           1 2016-03-28\n",
       "12061700     46374           1 2016-04-28\n",
       "13031216     46374           1 2016-05-28"
      ]
     },
     "execution_count": 318,
     "metadata": {},
     "output_type": "execute_result"
    }
   ],
   "source": [
    "d1.loc[d1.ncodpers==46374]"
   ]
  },
  {
   "cell_type": "code",
   "execution_count": 319,
   "metadata": {},
   "outputs": [],
   "source": [
    "d41 = d1_changed_head_tail.loc[d1_changed_head_tail==(4, 1)].index.tolist()\n",
    "d41 = d1_changed.loc[d1_changed.ncodpers.isin(d41)].groupby('ncodpers').indrel_1mes.apply(lambda x: sum(x.diff().fillna(0)!=0))"
   ]
  },
  {
   "cell_type": "code",
   "execution_count": 320,
   "metadata": {},
   "outputs": [
    {
     "data": {
      "text/plain": [
       "1    241\n",
       "Name: indrel_1mes, dtype: int64"
      ]
     },
     "execution_count": 320,
     "metadata": {},
     "output_type": "execute_result"
    }
   ],
   "source": [
    "d41.value_counts()"
   ]
  },
  {
   "cell_type": "markdown",
   "metadata": {},
   "source": [
    "##### Customers whose `ult_fec_cli_1t` is always not NA"
   ]
  },
  {
   "cell_type": "code",
   "execution_count": 54,
   "metadata": {},
   "outputs": [],
   "source": [
    "e2 = e.loc[e.count_ult_null==0].index.tolist() # customer ids whose ult_fec_cli_1t is always not NA\n",
    "\n",
    "d2 = d.loc[d.ncodpers.isin(e2), ['ncodpers', 'indrel_1mes', 'fecha_dato', 'ult_fec_cli_1t']]\n",
    "d2.sort_values(['ncodpers', 'fecha_dato'], inplace=True)"
   ]
  },
  {
   "cell_type": "code",
   "execution_count": 58,
   "metadata": {},
   "outputs": [],
   "source": [
    "d2_group = d2.groupby('ncodpers')\n",
    "a = d2_group.get_group(16817)"
   ]
  },
  {
   "cell_type": "code",
   "execution_count": 59,
   "metadata": {},
   "outputs": [
    {
     "data": {
      "text/html": [
       "<div>\n",
       "<style scoped>\n",
       "    .dataframe tbody tr th:only-of-type {\n",
       "        vertical-align: middle;\n",
       "    }\n",
       "\n",
       "    .dataframe tbody tr th {\n",
       "        vertical-align: top;\n",
       "    }\n",
       "\n",
       "    .dataframe thead th {\n",
       "        text-align: right;\n",
       "    }\n",
       "</style>\n",
       "<table border=\"1\" class=\"dataframe\">\n",
       "  <thead>\n",
       "    <tr style=\"text-align: right;\">\n",
       "      <th></th>\n",
       "      <th>ncodpers</th>\n",
       "      <th>indrel_1mes</th>\n",
       "      <th>fecha_dato</th>\n",
       "      <th>ult_fec_cli_1t</th>\n",
       "    </tr>\n",
       "  </thead>\n",
       "  <tbody>\n",
       "    <tr>\n",
       "      <th>416600</th>\n",
       "      <td>16817</td>\n",
       "      <td>1</td>\n",
       "      <td>2015-01-28</td>\n",
       "      <td>2015-07-15</td>\n",
       "    </tr>\n",
       "    <tr>\n",
       "      <th>836621</th>\n",
       "      <td>16817</td>\n",
       "      <td>1</td>\n",
       "      <td>2015-02-28</td>\n",
       "      <td>2015-07-15</td>\n",
       "    </tr>\n",
       "    <tr>\n",
       "      <th>1674354</th>\n",
       "      <td>16817</td>\n",
       "      <td>1</td>\n",
       "      <td>2015-03-28</td>\n",
       "      <td>2015-07-15</td>\n",
       "    </tr>\n",
       "    <tr>\n",
       "      <th>2092577</th>\n",
       "      <td>16817</td>\n",
       "      <td>1</td>\n",
       "      <td>2015-04-28</td>\n",
       "      <td>2015-07-15</td>\n",
       "    </tr>\n",
       "    <tr>\n",
       "      <th>2933327</th>\n",
       "      <td>16817</td>\n",
       "      <td>1</td>\n",
       "      <td>2015-05-28</td>\n",
       "      <td>2015-07-15</td>\n",
       "    </tr>\n",
       "    <tr>\n",
       "      <th>3565387</th>\n",
       "      <td>16817</td>\n",
       "      <td>1</td>\n",
       "      <td>2015-06-28</td>\n",
       "      <td>2015-07-15</td>\n",
       "    </tr>\n",
       "    <tr>\n",
       "      <th>4079375</th>\n",
       "      <td>16817</td>\n",
       "      <td>1</td>\n",
       "      <td>2015-07-28</td>\n",
       "      <td>2015-07-15</td>\n",
       "    </tr>\n",
       "  </tbody>\n",
       "</table>\n",
       "</div>"
      ],
      "text/plain": [
       "         ncodpers indrel_1mes fecha_dato ult_fec_cli_1t\n",
       "416600      16817           1 2015-01-28     2015-07-15\n",
       "836621      16817           1 2015-02-28     2015-07-15\n",
       "1674354     16817           1 2015-03-28     2015-07-15\n",
       "2092577     16817           1 2015-04-28     2015-07-15\n",
       "2933327     16817           1 2015-05-28     2015-07-15\n",
       "3565387     16817           1 2015-06-28     2015-07-15\n",
       "4079375     16817           1 2015-07-28     2015-07-15"
      ]
     },
     "execution_count": 59,
     "metadata": {},
     "output_type": "execute_result"
    }
   ],
   "source": [
    "a"
   ]
  },
  {
   "cell_type": "code",
   "execution_count": 62,
   "metadata": {},
   "outputs": [],
   "source": [
    "d2_count_types = d2_group['indrel_1mes'].apply(count_types) # number of indrel_1mes types of each customer"
   ]
  },
  {
   "cell_type": "code",
   "execution_count": 63,
   "metadata": {},
   "outputs": [
    {
     "data": {
      "text/plain": [
       "1    3468\n",
       "2      13\n",
       "Name: indrel_1mes, dtype: int64"
      ]
     },
     "execution_count": 63,
     "metadata": {},
     "output_type": "execute_result"
    }
   ],
   "source": [
    "d2_count_types.value_counts()"
   ]
  },
  {
   "cell_type": "markdown",
   "metadata": {},
   "source": [
    "13 customers \n",
    "- `ult_fec_cli_1t` is always not NA\n",
    "- change between two customer types"
   ]
  },
  {
   "cell_type": "code",
   "execution_count": null,
   "metadata": {},
   "outputs": [],
   "source": [
    "for c in d2_count_types.loc[d2_count_types==2].index.tolist():\n",
    "    print(d2_group.get_group(c))\n",
    "    print()"
   ]
  },
  {
   "cell_type": "code",
   "execution_count": 83,
   "metadata": {},
   "outputs": [
    {
     "data": {
      "text/html": [
       "<div>\n",
       "<style scoped>\n",
       "    .dataframe tbody tr th:only-of-type {\n",
       "        vertical-align: middle;\n",
       "    }\n",
       "\n",
       "    .dataframe tbody tr th {\n",
       "        vertical-align: top;\n",
       "    }\n",
       "\n",
       "    .dataframe thead th {\n",
       "        text-align: right;\n",
       "    }\n",
       "</style>\n",
       "<table border=\"1\" class=\"dataframe\">\n",
       "  <thead>\n",
       "    <tr style=\"text-align: right;\">\n",
       "      <th></th>\n",
       "      <th>ncodpers</th>\n",
       "      <th>indrel_1mes</th>\n",
       "      <th>fecha_dato</th>\n",
       "      <th>ult_fec_cli_1t</th>\n",
       "    </tr>\n",
       "  </thead>\n",
       "  <tbody>\n",
       "    <tr>\n",
       "      <th>416600</th>\n",
       "      <td>16817</td>\n",
       "      <td>1</td>\n",
       "      <td>2015-01-28</td>\n",
       "      <td>2015-07-15</td>\n",
       "    </tr>\n",
       "    <tr>\n",
       "      <th>836621</th>\n",
       "      <td>16817</td>\n",
       "      <td>1</td>\n",
       "      <td>2015-02-28</td>\n",
       "      <td>2015-07-15</td>\n",
       "    </tr>\n",
       "    <tr>\n",
       "      <th>1674354</th>\n",
       "      <td>16817</td>\n",
       "      <td>1</td>\n",
       "      <td>2015-03-28</td>\n",
       "      <td>2015-07-15</td>\n",
       "    </tr>\n",
       "    <tr>\n",
       "      <th>2092577</th>\n",
       "      <td>16817</td>\n",
       "      <td>1</td>\n",
       "      <td>2015-04-28</td>\n",
       "      <td>2015-07-15</td>\n",
       "    </tr>\n",
       "    <tr>\n",
       "      <th>2933327</th>\n",
       "      <td>16817</td>\n",
       "      <td>1</td>\n",
       "      <td>2015-05-28</td>\n",
       "      <td>2015-07-15</td>\n",
       "    </tr>\n",
       "  </tbody>\n",
       "</table>\n",
       "</div>"
      ],
      "text/plain": [
       "         ncodpers indrel_1mes fecha_dato ult_fec_cli_1t\n",
       "416600      16817           1 2015-01-28     2015-07-15\n",
       "836621      16817           1 2015-02-28     2015-07-15\n",
       "1674354     16817           1 2015-03-28     2015-07-15\n",
       "2092577     16817           1 2015-04-28     2015-07-15\n",
       "2933327     16817           1 2015-05-28     2015-07-15"
      ]
     },
     "execution_count": 83,
     "metadata": {},
     "output_type": "execute_result"
    }
   ],
   "source": [
    "d2.head()"
   ]
  },
  {
   "cell_type": "code",
   "execution_count": 99,
   "metadata": {},
   "outputs": [],
   "source": [
    "d2_one_type = d2_count_types.loc[d2_count_types==1].index.tolist() # list of ncodpers whose have only one type\n",
    "d2_one_type_1 = d2.loc[d2.ncodpers.isin(d2_one_type)].groupby('ncodpers').indrel_1mes.agg({'count', lambda x: x.iloc[0]}) # customer types for customers only have one type\n",
    "d2_one_type_2 = d2.loc[d2.ncodpers.isin(d2_one_type)].groupby('ncodpers').ult_fec_cli_1t.agg(lambda x: len(x.unique()))"
   ]
  },
  {
   "cell_type": "code",
   "execution_count": 100,
   "metadata": {},
   "outputs": [],
   "source": [
    "d2_one_type_1.columns = ['indrel_1mes', 'count_sample']\n",
    "d2_one_type_2 = pd.DataFrame(d2_one_type_2)"
   ]
  },
  {
   "cell_type": "code",
   "execution_count": 101,
   "metadata": {},
   "outputs": [],
   "source": [
    "d2_one_type = d2_one_type_1.join(d2_one_type_2)"
   ]
  },
  {
   "cell_type": "markdown",
   "metadata": {},
   "source": [
    "customers whose `ult_fec_cli_1t` is always not NA, and `indrel_1mes` has one value"
   ]
  },
  {
   "cell_type": "code",
   "execution_count": 102,
   "metadata": {},
   "outputs": [],
   "source": [
    "d2_one_type.columns = ['indrel_1mes', 'count_sample', 'count_unique_ult']"
   ]
  },
  {
   "cell_type": "code",
   "execution_count": 103,
   "metadata": {},
   "outputs": [
    {
     "data": {
      "text/plain": [
       "indrel_1mes  count_sample  count_unique_ult\n",
       "1            1             1                   2170\n",
       "             2             1                     22\n",
       "             3             1                     23\n",
       "             4             1                     51\n",
       "             5             1                     38\n",
       "             6             1                     44\n",
       "             7             1                    649\n",
       "2            1             1                      9\n",
       "             4             1                      1\n",
       "3            1             1                    401\n",
       "             2             2                     19\n",
       "             3             3                      1\n",
       "             5             5                      1\n",
       "4            1             1                     14\n",
       "P            1             1                     25\n",
       "Name: count_sample, dtype: int64"
      ]
     },
     "execution_count": 103,
     "metadata": {},
     "output_type": "execute_result"
    }
   ],
   "source": [
    "d2_one_type.groupby(['indrel_1mes', 'count_sample', 'count_unique_ult']).count_sample.count()"
   ]
  },
  {
   "cell_type": "code",
   "execution_count": 96,
   "metadata": {},
   "outputs": [
    {
     "data": {
      "text/html": [
       "<div>\n",
       "<style scoped>\n",
       "    .dataframe tbody tr th:only-of-type {\n",
       "        vertical-align: middle;\n",
       "    }\n",
       "\n",
       "    .dataframe tbody tr th {\n",
       "        vertical-align: top;\n",
       "    }\n",
       "\n",
       "    .dataframe thead th {\n",
       "        text-align: right;\n",
       "    }\n",
       "</style>\n",
       "<table border=\"1\" class=\"dataframe\">\n",
       "  <thead>\n",
       "    <tr style=\"text-align: right;\">\n",
       "      <th></th>\n",
       "      <th>indrel_1mes</th>\n",
       "      <th>count_sample</th>\n",
       "      <th>count_unique_ult</th>\n",
       "    </tr>\n",
       "    <tr>\n",
       "      <th>ncodpers</th>\n",
       "      <th></th>\n",
       "      <th></th>\n",
       "      <th></th>\n",
       "    </tr>\n",
       "  </thead>\n",
       "  <tbody>\n",
       "    <tr>\n",
       "      <th>16817</th>\n",
       "      <td>1</td>\n",
       "      <td>7</td>\n",
       "      <td>7</td>\n",
       "    </tr>\n",
       "    <tr>\n",
       "      <th>18352</th>\n",
       "      <td>1</td>\n",
       "      <td>7</td>\n",
       "      <td>7</td>\n",
       "    </tr>\n",
       "    <tr>\n",
       "      <th>21382</th>\n",
       "      <td>1</td>\n",
       "      <td>7</td>\n",
       "      <td>7</td>\n",
       "    </tr>\n",
       "    <tr>\n",
       "      <th>23638</th>\n",
       "      <td>1</td>\n",
       "      <td>7</td>\n",
       "      <td>7</td>\n",
       "    </tr>\n",
       "    <tr>\n",
       "      <th>26036</th>\n",
       "      <td>1</td>\n",
       "      <td>7</td>\n",
       "      <td>7</td>\n",
       "    </tr>\n",
       "  </tbody>\n",
       "</table>\n",
       "</div>"
      ],
      "text/plain": [
       "         indrel_1mes  count_sample  count_unique_ult\n",
       "ncodpers                                            \n",
       "16817              1             7                 7\n",
       "18352              1             7                 7\n",
       "21382              1             7                 7\n",
       "23638              1             7                 7\n",
       "26036              1             7                 7"
      ]
     },
     "execution_count": 96,
     "metadata": {},
     "output_type": "execute_result"
    }
   ],
   "source": [
    "d2_one_type.loc[(d2_one_type.indrel_1mes==1) & (d2_one_type.count_sample==7)].head()"
   ]
  },
  {
   "cell_type": "code",
   "execution_count": 98,
   "metadata": {},
   "outputs": [
    {
     "data": {
      "text/html": [
       "<div>\n",
       "<style scoped>\n",
       "    .dataframe tbody tr th:only-of-type {\n",
       "        vertical-align: middle;\n",
       "    }\n",
       "\n",
       "    .dataframe tbody tr th {\n",
       "        vertical-align: top;\n",
       "    }\n",
       "\n",
       "    .dataframe thead th {\n",
       "        text-align: right;\n",
       "    }\n",
       "</style>\n",
       "<table border=\"1\" class=\"dataframe\">\n",
       "  <thead>\n",
       "    <tr style=\"text-align: right;\">\n",
       "      <th></th>\n",
       "      <th>ncodpers</th>\n",
       "      <th>indrel_1mes</th>\n",
       "      <th>fecha_dato</th>\n",
       "      <th>ult_fec_cli_1t</th>\n",
       "    </tr>\n",
       "  </thead>\n",
       "  <tbody>\n",
       "    <tr>\n",
       "      <th>416600</th>\n",
       "      <td>16817</td>\n",
       "      <td>1</td>\n",
       "      <td>2015-01-28</td>\n",
       "      <td>2015-07-15</td>\n",
       "    </tr>\n",
       "    <tr>\n",
       "      <th>836621</th>\n",
       "      <td>16817</td>\n",
       "      <td>1</td>\n",
       "      <td>2015-02-28</td>\n",
       "      <td>2015-07-15</td>\n",
       "    </tr>\n",
       "    <tr>\n",
       "      <th>1674354</th>\n",
       "      <td>16817</td>\n",
       "      <td>1</td>\n",
       "      <td>2015-03-28</td>\n",
       "      <td>2015-07-15</td>\n",
       "    </tr>\n",
       "    <tr>\n",
       "      <th>2092577</th>\n",
       "      <td>16817</td>\n",
       "      <td>1</td>\n",
       "      <td>2015-04-28</td>\n",
       "      <td>2015-07-15</td>\n",
       "    </tr>\n",
       "    <tr>\n",
       "      <th>2933327</th>\n",
       "      <td>16817</td>\n",
       "      <td>1</td>\n",
       "      <td>2015-05-28</td>\n",
       "      <td>2015-07-15</td>\n",
       "    </tr>\n",
       "    <tr>\n",
       "      <th>3565387</th>\n",
       "      <td>16817</td>\n",
       "      <td>1</td>\n",
       "      <td>2015-06-28</td>\n",
       "      <td>2015-07-15</td>\n",
       "    </tr>\n",
       "    <tr>\n",
       "      <th>4079375</th>\n",
       "      <td>16817</td>\n",
       "      <td>1</td>\n",
       "      <td>2015-07-28</td>\n",
       "      <td>2015-07-15</td>\n",
       "    </tr>\n",
       "  </tbody>\n",
       "</table>\n",
       "</div>"
      ],
      "text/plain": [
       "         ncodpers indrel_1mes fecha_dato ult_fec_cli_1t\n",
       "416600      16817           1 2015-01-28     2015-07-15\n",
       "836621      16817           1 2015-02-28     2015-07-15\n",
       "1674354     16817           1 2015-03-28     2015-07-15\n",
       "2092577     16817           1 2015-04-28     2015-07-15\n",
       "2933327     16817           1 2015-05-28     2015-07-15\n",
       "3565387     16817           1 2015-06-28     2015-07-15\n",
       "4079375     16817           1 2015-07-28     2015-07-15"
      ]
     },
     "execution_count": 98,
     "metadata": {},
     "output_type": "execute_result"
    }
   ],
   "source": [
    "d2.loc[d2.ncodpers==16817]"
   ]
  },
  {
   "cell_type": "code",
   "execution_count": 393,
   "metadata": {},
   "outputs": [
    {
     "data": {
      "text/html": [
       "<div>\n",
       "<style scoped>\n",
       "    .dataframe tbody tr th:only-of-type {\n",
       "        vertical-align: middle;\n",
       "    }\n",
       "\n",
       "    .dataframe tbody tr th {\n",
       "        vertical-align: top;\n",
       "    }\n",
       "\n",
       "    .dataframe thead th {\n",
       "        text-align: right;\n",
       "    }\n",
       "</style>\n",
       "<table border=\"1\" class=\"dataframe\">\n",
       "  <thead>\n",
       "    <tr style=\"text-align: right;\">\n",
       "      <th></th>\n",
       "      <th>ncodpers</th>\n",
       "      <th>indrel_1mes</th>\n",
       "      <th>fecha_dato</th>\n",
       "      <th>ult_fec_cli_1t</th>\n",
       "    </tr>\n",
       "  </thead>\n",
       "  <tbody>\n",
       "    <tr>\n",
       "      <th>417413</th>\n",
       "      <td>18352</td>\n",
       "      <td>1</td>\n",
       "      <td>2015-01-28</td>\n",
       "      <td>2015-07-03</td>\n",
       "    </tr>\n",
       "    <tr>\n",
       "      <th>835764</th>\n",
       "      <td>18352</td>\n",
       "      <td>1</td>\n",
       "      <td>2015-02-28</td>\n",
       "      <td>2015-07-03</td>\n",
       "    </tr>\n",
       "    <tr>\n",
       "      <th>1673520</th>\n",
       "      <td>18352</td>\n",
       "      <td>1</td>\n",
       "      <td>2015-03-28</td>\n",
       "      <td>2015-07-03</td>\n",
       "    </tr>\n",
       "    <tr>\n",
       "      <th>2091741</th>\n",
       "      <td>18352</td>\n",
       "      <td>1</td>\n",
       "      <td>2015-04-28</td>\n",
       "      <td>2015-07-03</td>\n",
       "    </tr>\n",
       "    <tr>\n",
       "      <th>2934199</th>\n",
       "      <td>18352</td>\n",
       "      <td>1</td>\n",
       "      <td>2015-05-28</td>\n",
       "      <td>2015-07-03</td>\n",
       "    </tr>\n",
       "    <tr>\n",
       "      <th>3566258</th>\n",
       "      <td>18352</td>\n",
       "      <td>1</td>\n",
       "      <td>2015-06-28</td>\n",
       "      <td>2015-07-03</td>\n",
       "    </tr>\n",
       "    <tr>\n",
       "      <th>4078578</th>\n",
       "      <td>18352</td>\n",
       "      <td>1</td>\n",
       "      <td>2015-07-28</td>\n",
       "      <td>2015-07-03</td>\n",
       "    </tr>\n",
       "  </tbody>\n",
       "</table>\n",
       "</div>"
      ],
      "text/plain": [
       "         ncodpers indrel_1mes fecha_dato ult_fec_cli_1t\n",
       "417413      18352           1 2015-01-28     2015-07-03\n",
       "835764      18352           1 2015-02-28     2015-07-03\n",
       "1673520     18352           1 2015-03-28     2015-07-03\n",
       "2091741     18352           1 2015-04-28     2015-07-03\n",
       "2934199     18352           1 2015-05-28     2015-07-03\n",
       "3566258     18352           1 2015-06-28     2015-07-03\n",
       "4078578     18352           1 2015-07-28     2015-07-03"
      ]
     },
     "execution_count": 393,
     "metadata": {},
     "output_type": "execute_result"
    }
   ],
   "source": [
    "d2.loc[d2.ncodpers==18352]"
   ]
  },
  {
   "cell_type": "code",
   "execution_count": 359,
   "metadata": {},
   "outputs": [
    {
     "data": {
      "text/html": [
       "<div>\n",
       "<style scoped>\n",
       "    .dataframe tbody tr th:only-of-type {\n",
       "        vertical-align: middle;\n",
       "    }\n",
       "\n",
       "    .dataframe tbody tr th {\n",
       "        vertical-align: top;\n",
       "    }\n",
       "\n",
       "    .dataframe thead th {\n",
       "        text-align: right;\n",
       "    }\n",
       "</style>\n",
       "<table border=\"1\" class=\"dataframe\">\n",
       "  <thead>\n",
       "    <tr style=\"text-align: right;\">\n",
       "      <th></th>\n",
       "      <th>ncodpers</th>\n",
       "      <th>indrel_1mes</th>\n",
       "      <th>fecha_dato</th>\n",
       "      <th>ult_fec_cli_1t</th>\n",
       "    </tr>\n",
       "  </thead>\n",
       "  <tbody>\n",
       "    <tr>\n",
       "      <th>5315823</th>\n",
       "      <td>24170</td>\n",
       "      <td>3</td>\n",
       "      <td>2015-08-28</td>\n",
       "      <td>2015-08-19</td>\n",
       "    </tr>\n",
       "  </tbody>\n",
       "</table>\n",
       "</div>"
      ],
      "text/plain": [
       "         ncodpers indrel_1mes fecha_dato ult_fec_cli_1t\n",
       "5315823     24170           3 2015-08-28     2015-08-19"
      ]
     },
     "execution_count": 359,
     "metadata": {},
     "output_type": "execute_result"
    }
   ],
   "source": [
    "d2.loc[d2.ncodpers==24170]"
   ]
  },
  {
   "cell_type": "code",
   "execution_count": 360,
   "metadata": {},
   "outputs": [
    {
     "data": {
      "text/html": [
       "<div>\n",
       "<style scoped>\n",
       "    .dataframe tbody tr th:only-of-type {\n",
       "        vertical-align: middle;\n",
       "    }\n",
       "\n",
       "    .dataframe tbody tr th {\n",
       "        vertical-align: top;\n",
       "    }\n",
       "\n",
       "    .dataframe thead th {\n",
       "        text-align: right;\n",
       "    }\n",
       "</style>\n",
       "<table border=\"1\" class=\"dataframe\">\n",
       "  <thead>\n",
       "    <tr style=\"text-align: right;\">\n",
       "      <th></th>\n",
       "      <th>ncodpers</th>\n",
       "      <th>indrel_1mes</th>\n",
       "      <th>fecha_dato</th>\n",
       "      <th>ult_fec_cli_1t</th>\n",
       "    </tr>\n",
       "  </thead>\n",
       "  <tbody>\n",
       "    <tr>\n",
       "      <th>8620173</th>\n",
       "      <td>26652</td>\n",
       "      <td>3</td>\n",
       "      <td>2015-12-28</td>\n",
       "      <td>2015-12-02</td>\n",
       "    </tr>\n",
       "  </tbody>\n",
       "</table>\n",
       "</div>"
      ],
      "text/plain": [
       "         ncodpers indrel_1mes fecha_dato ult_fec_cli_1t\n",
       "8620173     26652           3 2015-12-28     2015-12-02"
      ]
     },
     "execution_count": 360,
     "metadata": {},
     "output_type": "execute_result"
    }
   ],
   "source": [
    "d2.loc[d2.ncodpers==26652]"
   ]
  },
  {
   "cell_type": "code",
   "execution_count": 396,
   "metadata": {},
   "outputs": [],
   "source": [
    "k3 = k2.loc[k2!=1].index.tolist() # customers who have only one customer type and the type is not 1"
   ]
  },
  {
   "cell_type": "code",
   "execution_count": 397,
   "metadata": {},
   "outputs": [
    {
     "data": {
      "text/plain": [
       "471"
      ]
     },
     "execution_count": 397,
     "metadata": {},
     "output_type": "execute_result"
    }
   ],
   "source": [
    "len(k3)"
   ]
  },
  {
   "cell_type": "markdown",
   "metadata": {},
   "source": [
    "22 customers \n",
    "- have only one customer type but multiple rows\n",
    "- either `indrel_1mes` wrong, or `indrel_1mes==2` include `indrel_1mes==1`\n",
    "- some record are missing\n",
    "- become primary and then leave multiple times"
   ]
  },
  {
   "cell_type": "markdown",
   "metadata": {},
   "source": [
    "##### `ult_fec_cli_1t` is not always NA"
   ]
  },
  {
   "cell_type": "code",
   "execution_count": 104,
   "metadata": {},
   "outputs": [],
   "source": [
    "e3 = e.loc[(e.count_ult_null>0) & (e.count_ult_notnull>0)].index.tolist() # customer ids whose ult_fec_cli_1t is not always NA"
   ]
  },
  {
   "cell_type": "code",
   "execution_count": 107,
   "metadata": {},
   "outputs": [
    {
     "data": {
      "text/plain": [
       "12546"
      ]
     },
     "execution_count": 107,
     "metadata": {},
     "output_type": "execute_result"
    }
   ],
   "source": [
    "len(e3)"
   ]
  },
  {
   "cell_type": "code",
   "execution_count": 108,
   "metadata": {},
   "outputs": [],
   "source": [
    "d3 = d.loc[d.ncodpers.isin(e3), ['ncodpers', 'indrel_1mes', 'fecha_dato', 'ult_fec_cli_1t']]\n",
    "d3.sort_values(['ncodpers', 'fecha_dato'], inplace=True)"
   ]
  },
  {
   "cell_type": "code",
   "execution_count": 109,
   "metadata": {},
   "outputs": [
    {
     "data": {
      "text/plain": [
       "(113965, 4)"
      ]
     },
     "execution_count": 109,
     "metadata": {},
     "output_type": "execute_result"
    }
   ],
   "source": [
    "d3.shape"
   ]
  },
  {
   "cell_type": "code",
   "execution_count": 111,
   "metadata": {},
   "outputs": [
    {
     "data": {
      "text/html": [
       "<div>\n",
       "<style scoped>\n",
       "    .dataframe tbody tr th:only-of-type {\n",
       "        vertical-align: middle;\n",
       "    }\n",
       "\n",
       "    .dataframe tbody tr th {\n",
       "        vertical-align: top;\n",
       "    }\n",
       "\n",
       "    .dataframe thead th {\n",
       "        text-align: right;\n",
       "    }\n",
       "</style>\n",
       "<table border=\"1\" class=\"dataframe\">\n",
       "  <thead>\n",
       "    <tr style=\"text-align: right;\">\n",
       "      <th></th>\n",
       "      <th>ncodpers</th>\n",
       "      <th>indrel_1mes</th>\n",
       "      <th>fecha_dato</th>\n",
       "      <th>ult_fec_cli_1t</th>\n",
       "    </tr>\n",
       "  </thead>\n",
       "  <tbody>\n",
       "    <tr>\n",
       "      <th>4078994</th>\n",
       "      <td>15891</td>\n",
       "      <td>2</td>\n",
       "      <td>2015-07-28</td>\n",
       "      <td>NaT</td>\n",
       "    </tr>\n",
       "    <tr>\n",
       "      <th>5319232</th>\n",
       "      <td>15891</td>\n",
       "      <td>1</td>\n",
       "      <td>2015-08-28</td>\n",
       "      <td>2015-08-05</td>\n",
       "    </tr>\n",
       "    <tr>\n",
       "      <th>4079035</th>\n",
       "      <td>16136</td>\n",
       "      <td>1</td>\n",
       "      <td>2015-07-28</td>\n",
       "      <td>NaT</td>\n",
       "    </tr>\n",
       "    <tr>\n",
       "      <th>5319290</th>\n",
       "      <td>16136</td>\n",
       "      <td>1</td>\n",
       "      <td>2015-08-28</td>\n",
       "      <td>NaT</td>\n",
       "    </tr>\n",
       "    <tr>\n",
       "      <th>5705240</th>\n",
       "      <td>16136</td>\n",
       "      <td>1</td>\n",
       "      <td>2015-09-28</td>\n",
       "      <td>NaT</td>\n",
       "    </tr>\n",
       "  </tbody>\n",
       "</table>\n",
       "</div>"
      ],
      "text/plain": [
       "         ncodpers indrel_1mes fecha_dato ult_fec_cli_1t\n",
       "4078994     15891           2 2015-07-28            NaT\n",
       "5319232     15891           1 2015-08-28     2015-08-05\n",
       "4079035     16136           1 2015-07-28            NaT\n",
       "5319290     16136           1 2015-08-28            NaT\n",
       "5705240     16136           1 2015-09-28            NaT"
      ]
     },
     "execution_count": 111,
     "metadata": {},
     "output_type": "execute_result"
    }
   ],
   "source": [
    "d3.head(5)"
   ]
  },
  {
   "cell_type": "code",
   "execution_count": 120,
   "metadata": {},
   "outputs": [],
   "source": [
    "d3_count = d3.groupby('ncodpers').agg({'indrel_1mes': lambda x: len(x.unique()), 'ult_fec_cli_1t': lambda x: len(x.unique())})"
   ]
  },
  {
   "cell_type": "code",
   "execution_count": 121,
   "metadata": {},
   "outputs": [
    {
     "data": {
      "text/html": [
       "<div>\n",
       "<style scoped>\n",
       "    .dataframe tbody tr th:only-of-type {\n",
       "        vertical-align: middle;\n",
       "    }\n",
       "\n",
       "    .dataframe tbody tr th {\n",
       "        vertical-align: top;\n",
       "    }\n",
       "\n",
       "    .dataframe thead th {\n",
       "        text-align: right;\n",
       "    }\n",
       "</style>\n",
       "<table border=\"1\" class=\"dataframe\">\n",
       "  <thead>\n",
       "    <tr style=\"text-align: right;\">\n",
       "      <th></th>\n",
       "      <th>indrel_1mes</th>\n",
       "      <th>ult_fec_cli_1t</th>\n",
       "    </tr>\n",
       "    <tr>\n",
       "      <th>ncodpers</th>\n",
       "      <th></th>\n",
       "      <th></th>\n",
       "    </tr>\n",
       "  </thead>\n",
       "  <tbody>\n",
       "    <tr>\n",
       "      <th>15891</th>\n",
       "      <td>2</td>\n",
       "      <td>2</td>\n",
       "    </tr>\n",
       "    <tr>\n",
       "      <th>16136</th>\n",
       "      <td>1</td>\n",
       "      <td>2</td>\n",
       "    </tr>\n",
       "    <tr>\n",
       "      <th>16137</th>\n",
       "      <td>1</td>\n",
       "      <td>2</td>\n",
       "    </tr>\n",
       "    <tr>\n",
       "      <th>16254</th>\n",
       "      <td>1</td>\n",
       "      <td>2</td>\n",
       "    </tr>\n",
       "    <tr>\n",
       "      <th>16283</th>\n",
       "      <td>2</td>\n",
       "      <td>2</td>\n",
       "    </tr>\n",
       "  </tbody>\n",
       "</table>\n",
       "</div>"
      ],
      "text/plain": [
       "          indrel_1mes  ult_fec_cli_1t\n",
       "ncodpers                             \n",
       "15891               2               2\n",
       "16136               1               2\n",
       "16137               1               2\n",
       "16254               1               2\n",
       "16283               2               2"
      ]
     },
     "execution_count": 121,
     "metadata": {},
     "output_type": "execute_result"
    }
   ],
   "source": [
    "d3_count.head()"
   ]
  },
  {
   "cell_type": "code",
   "execution_count": 122,
   "metadata": {},
   "outputs": [
    {
     "data": {
      "text/plain": [
       "indrel_1mes  ult_fec_cli_1t\n",
       "1            2                 11664\n",
       "             3                     5\n",
       "2            2                   787\n",
       "             3                    74\n",
       "             4                     1\n",
       "             5                     3\n",
       "3            2                    10\n",
       "             3                     1\n",
       "             4                     1\n",
       "Name: indrel_1mes, dtype: int64"
      ]
     },
     "execution_count": 122,
     "metadata": {},
     "output_type": "execute_result"
    }
   ],
   "source": [
    "d3_count.groupby(['indrel_1mes', 'ult_fec_cli_1t']).indrel_1mes.count()"
   ]
  },
  {
   "cell_type": "code",
   "execution_count": 126,
   "metadata": {},
   "outputs": [],
   "source": [
    "d3.ult_fec_cli_1t = d3.ult_fec_cli_1t.fillna(method='bfill')"
   ]
  },
  {
   "cell_type": "code",
   "execution_count": 127,
   "metadata": {},
   "outputs": [
    {
     "data": {
      "text/html": [
       "<div>\n",
       "<style scoped>\n",
       "    .dataframe tbody tr th:only-of-type {\n",
       "        vertical-align: middle;\n",
       "    }\n",
       "\n",
       "    .dataframe tbody tr th {\n",
       "        vertical-align: top;\n",
       "    }\n",
       "\n",
       "    .dataframe thead th {\n",
       "        text-align: right;\n",
       "    }\n",
       "</style>\n",
       "<table border=\"1\" class=\"dataframe\">\n",
       "  <thead>\n",
       "    <tr style=\"text-align: right;\">\n",
       "      <th></th>\n",
       "      <th>ncodpers</th>\n",
       "      <th>indrel_1mes</th>\n",
       "      <th>fecha_dato</th>\n",
       "      <th>ult_fec_cli_1t</th>\n",
       "    </tr>\n",
       "  </thead>\n",
       "  <tbody>\n",
       "    <tr>\n",
       "      <th>4078994</th>\n",
       "      <td>15891</td>\n",
       "      <td>2</td>\n",
       "      <td>2015-07-28</td>\n",
       "      <td>2015-08-05</td>\n",
       "    </tr>\n",
       "    <tr>\n",
       "      <th>5319232</th>\n",
       "      <td>15891</td>\n",
       "      <td>1</td>\n",
       "      <td>2015-08-28</td>\n",
       "      <td>2015-08-05</td>\n",
       "    </tr>\n",
       "    <tr>\n",
       "      <th>4079035</th>\n",
       "      <td>16136</td>\n",
       "      <td>1</td>\n",
       "      <td>2015-07-28</td>\n",
       "      <td>2016-03-17</td>\n",
       "    </tr>\n",
       "    <tr>\n",
       "      <th>5319290</th>\n",
       "      <td>16136</td>\n",
       "      <td>1</td>\n",
       "      <td>2015-08-28</td>\n",
       "      <td>2016-03-17</td>\n",
       "    </tr>\n",
       "    <tr>\n",
       "      <th>5705240</th>\n",
       "      <td>16136</td>\n",
       "      <td>1</td>\n",
       "      <td>2015-09-28</td>\n",
       "      <td>2016-03-17</td>\n",
       "    </tr>\n",
       "    <tr>\n",
       "      <th>6909741</th>\n",
       "      <td>16136</td>\n",
       "      <td>1</td>\n",
       "      <td>2015-10-28</td>\n",
       "      <td>2016-03-17</td>\n",
       "    </tr>\n",
       "    <tr>\n",
       "      <th>7451203</th>\n",
       "      <td>16136</td>\n",
       "      <td>1</td>\n",
       "      <td>2015-11-28</td>\n",
       "      <td>2016-03-17</td>\n",
       "    </tr>\n",
       "    <tr>\n",
       "      <th>8618232</th>\n",
       "      <td>16136</td>\n",
       "      <td>1</td>\n",
       "      <td>2015-12-28</td>\n",
       "      <td>2016-03-17</td>\n",
       "    </tr>\n",
       "    <tr>\n",
       "      <th>9401330</th>\n",
       "      <td>16136</td>\n",
       "      <td>1</td>\n",
       "      <td>2016-01-28</td>\n",
       "      <td>2016-03-17</td>\n",
       "    </tr>\n",
       "    <tr>\n",
       "      <th>10425949</th>\n",
       "      <td>16136</td>\n",
       "      <td>1</td>\n",
       "      <td>2016-02-28</td>\n",
       "      <td>2016-03-17</td>\n",
       "    </tr>\n",
       "    <tr>\n",
       "      <th>11170915</th>\n",
       "      <td>16136</td>\n",
       "      <td>1</td>\n",
       "      <td>2016-03-28</td>\n",
       "      <td>2016-03-17</td>\n",
       "    </tr>\n",
       "    <tr>\n",
       "      <th>417119</th>\n",
       "      <td>16137</td>\n",
       "      <td>1</td>\n",
       "      <td>2015-01-28</td>\n",
       "      <td>2016-03-17</td>\n",
       "    </tr>\n",
       "    <tr>\n",
       "      <th>836093</th>\n",
       "      <td>16137</td>\n",
       "      <td>1</td>\n",
       "      <td>2015-02-28</td>\n",
       "      <td>2016-03-17</td>\n",
       "    </tr>\n",
       "    <tr>\n",
       "      <th>1673809</th>\n",
       "      <td>16137</td>\n",
       "      <td>1</td>\n",
       "      <td>2015-03-28</td>\n",
       "      <td>2016-03-17</td>\n",
       "    </tr>\n",
       "    <tr>\n",
       "      <th>2092052</th>\n",
       "      <td>16137</td>\n",
       "      <td>1</td>\n",
       "      <td>2015-04-28</td>\n",
       "      <td>2016-03-17</td>\n",
       "    </tr>\n",
       "    <tr>\n",
       "      <th>2933778</th>\n",
       "      <td>16137</td>\n",
       "      <td>1</td>\n",
       "      <td>2015-05-28</td>\n",
       "      <td>2016-03-17</td>\n",
       "    </tr>\n",
       "    <tr>\n",
       "      <th>3565839</th>\n",
       "      <td>16137</td>\n",
       "      <td>1</td>\n",
       "      <td>2015-06-28</td>\n",
       "      <td>2016-03-17</td>\n",
       "    </tr>\n",
       "    <tr>\n",
       "      <th>4079034</th>\n",
       "      <td>16137</td>\n",
       "      <td>1</td>\n",
       "      <td>2015-07-28</td>\n",
       "      <td>2016-03-17</td>\n",
       "    </tr>\n",
       "    <tr>\n",
       "      <th>5319289</th>\n",
       "      <td>16137</td>\n",
       "      <td>1</td>\n",
       "      <td>2015-08-28</td>\n",
       "      <td>2016-03-17</td>\n",
       "    </tr>\n",
       "    <tr>\n",
       "      <th>5705123</th>\n",
       "      <td>16137</td>\n",
       "      <td>1</td>\n",
       "      <td>2015-09-28</td>\n",
       "      <td>2016-03-17</td>\n",
       "    </tr>\n",
       "    <tr>\n",
       "      <th>6909742</th>\n",
       "      <td>16137</td>\n",
       "      <td>1</td>\n",
       "      <td>2015-10-28</td>\n",
       "      <td>2016-03-17</td>\n",
       "    </tr>\n",
       "    <tr>\n",
       "      <th>7451201</th>\n",
       "      <td>16137</td>\n",
       "      <td>1</td>\n",
       "      <td>2015-11-28</td>\n",
       "      <td>2016-03-17</td>\n",
       "    </tr>\n",
       "    <tr>\n",
       "      <th>8618061</th>\n",
       "      <td>16137</td>\n",
       "      <td>1</td>\n",
       "      <td>2015-12-28</td>\n",
       "      <td>2016-03-17</td>\n",
       "    </tr>\n",
       "    <tr>\n",
       "      <th>9401329</th>\n",
       "      <td>16137</td>\n",
       "      <td>1</td>\n",
       "      <td>2016-01-28</td>\n",
       "      <td>2016-03-17</td>\n",
       "    </tr>\n",
       "    <tr>\n",
       "      <th>10425948</th>\n",
       "      <td>16137</td>\n",
       "      <td>1</td>\n",
       "      <td>2016-02-28</td>\n",
       "      <td>2016-03-17</td>\n",
       "    </tr>\n",
       "    <tr>\n",
       "      <th>11170914</th>\n",
       "      <td>16137</td>\n",
       "      <td>1</td>\n",
       "      <td>2016-03-28</td>\n",
       "      <td>2016-03-17</td>\n",
       "    </tr>\n",
       "    <tr>\n",
       "      <th>836053</th>\n",
       "      <td>16254</td>\n",
       "      <td>1</td>\n",
       "      <td>2015-02-28</td>\n",
       "      <td>2015-12-04</td>\n",
       "    </tr>\n",
       "    <tr>\n",
       "      <th>1673790</th>\n",
       "      <td>16254</td>\n",
       "      <td>1</td>\n",
       "      <td>2015-03-28</td>\n",
       "      <td>2015-12-04</td>\n",
       "    </tr>\n",
       "    <tr>\n",
       "      <th>2092012</th>\n",
       "      <td>16254</td>\n",
       "      <td>1</td>\n",
       "      <td>2015-04-28</td>\n",
       "      <td>2015-12-04</td>\n",
       "    </tr>\n",
       "    <tr>\n",
       "      <th>2933914</th>\n",
       "      <td>16254</td>\n",
       "      <td>1</td>\n",
       "      <td>2015-05-28</td>\n",
       "      <td>2015-12-04</td>\n",
       "    </tr>\n",
       "    <tr>\n",
       "      <th>...</th>\n",
       "      <td>...</td>\n",
       "      <td>...</td>\n",
       "      <td>...</td>\n",
       "      <td>...</td>\n",
       "    </tr>\n",
       "    <tr>\n",
       "      <th>11930079</th>\n",
       "      <td>1541077</td>\n",
       "      <td>1</td>\n",
       "      <td>2016-04-28</td>\n",
       "      <td>2016-05-09</td>\n",
       "    </tr>\n",
       "    <tr>\n",
       "      <th>13327684</th>\n",
       "      <td>1541077</td>\n",
       "      <td>1</td>\n",
       "      <td>2016-05-28</td>\n",
       "      <td>2016-05-09</td>\n",
       "    </tr>\n",
       "    <tr>\n",
       "      <th>11930259</th>\n",
       "      <td>1541337</td>\n",
       "      <td>1</td>\n",
       "      <td>2016-04-28</td>\n",
       "      <td>2016-05-30</td>\n",
       "    </tr>\n",
       "    <tr>\n",
       "      <th>13327717</th>\n",
       "      <td>1541337</td>\n",
       "      <td>1</td>\n",
       "      <td>2016-05-28</td>\n",
       "      <td>2016-05-30</td>\n",
       "    </tr>\n",
       "    <tr>\n",
       "      <th>11930208</th>\n",
       "      <td>1541541</td>\n",
       "      <td>1</td>\n",
       "      <td>2016-04-28</td>\n",
       "      <td>2016-05-30</td>\n",
       "    </tr>\n",
       "    <tr>\n",
       "      <th>13330301</th>\n",
       "      <td>1541541</td>\n",
       "      <td>1</td>\n",
       "      <td>2016-05-28</td>\n",
       "      <td>2016-05-30</td>\n",
       "    </tr>\n",
       "    <tr>\n",
       "      <th>11927194</th>\n",
       "      <td>1542368</td>\n",
       "      <td>1</td>\n",
       "      <td>2016-04-28</td>\n",
       "      <td>2016-05-10</td>\n",
       "    </tr>\n",
       "    <tr>\n",
       "      <th>13330412</th>\n",
       "      <td>1542368</td>\n",
       "      <td>1</td>\n",
       "      <td>2016-05-28</td>\n",
       "      <td>2016-05-10</td>\n",
       "    </tr>\n",
       "    <tr>\n",
       "      <th>11927527</th>\n",
       "      <td>1542510</td>\n",
       "      <td>1</td>\n",
       "      <td>2016-04-28</td>\n",
       "      <td>2016-05-04</td>\n",
       "    </tr>\n",
       "    <tr>\n",
       "      <th>13330478</th>\n",
       "      <td>1542510</td>\n",
       "      <td>1</td>\n",
       "      <td>2016-05-28</td>\n",
       "      <td>2016-05-04</td>\n",
       "    </tr>\n",
       "    <tr>\n",
       "      <th>11927533</th>\n",
       "      <td>1542517</td>\n",
       "      <td>1</td>\n",
       "      <td>2016-04-28</td>\n",
       "      <td>2016-05-10</td>\n",
       "    </tr>\n",
       "    <tr>\n",
       "      <th>13330503</th>\n",
       "      <td>1542517</td>\n",
       "      <td>1</td>\n",
       "      <td>2016-05-28</td>\n",
       "      <td>2016-05-10</td>\n",
       "    </tr>\n",
       "    <tr>\n",
       "      <th>11927628</th>\n",
       "      <td>1542578</td>\n",
       "      <td>1</td>\n",
       "      <td>2016-04-28</td>\n",
       "      <td>2016-05-10</td>\n",
       "    </tr>\n",
       "    <tr>\n",
       "      <th>13330436</th>\n",
       "      <td>1542578</td>\n",
       "      <td>1</td>\n",
       "      <td>2016-05-28</td>\n",
       "      <td>2016-05-10</td>\n",
       "    </tr>\n",
       "    <tr>\n",
       "      <th>11927597</th>\n",
       "      <td>1542608</td>\n",
       "      <td>1</td>\n",
       "      <td>2016-04-28</td>\n",
       "      <td>2016-05-10</td>\n",
       "    </tr>\n",
       "    <tr>\n",
       "      <th>13330469</th>\n",
       "      <td>1542608</td>\n",
       "      <td>1</td>\n",
       "      <td>2016-05-28</td>\n",
       "      <td>2016-05-10</td>\n",
       "    </tr>\n",
       "    <tr>\n",
       "      <th>11927605</th>\n",
       "      <td>1542617</td>\n",
       "      <td>1</td>\n",
       "      <td>2016-04-28</td>\n",
       "      <td>2016-05-10</td>\n",
       "    </tr>\n",
       "    <tr>\n",
       "      <th>13330461</th>\n",
       "      <td>1542617</td>\n",
       "      <td>1</td>\n",
       "      <td>2016-05-28</td>\n",
       "      <td>2016-05-10</td>\n",
       "    </tr>\n",
       "    <tr>\n",
       "      <th>11927436</th>\n",
       "      <td>1542682</td>\n",
       "      <td>1</td>\n",
       "      <td>2016-04-28</td>\n",
       "      <td>2016-05-19</td>\n",
       "    </tr>\n",
       "    <tr>\n",
       "      <th>13329270</th>\n",
       "      <td>1542682</td>\n",
       "      <td>1</td>\n",
       "      <td>2016-05-28</td>\n",
       "      <td>2016-05-19</td>\n",
       "    </tr>\n",
       "    <tr>\n",
       "      <th>11927510</th>\n",
       "      <td>1542702</td>\n",
       "      <td>1</td>\n",
       "      <td>2016-04-28</td>\n",
       "      <td>2016-05-20</td>\n",
       "    </tr>\n",
       "    <tr>\n",
       "      <th>13329253</th>\n",
       "      <td>1542702</td>\n",
       "      <td>1</td>\n",
       "      <td>2016-05-28</td>\n",
       "      <td>2016-05-20</td>\n",
       "    </tr>\n",
       "    <tr>\n",
       "      <th>11927486</th>\n",
       "      <td>1542743</td>\n",
       "      <td>1</td>\n",
       "      <td>2016-04-28</td>\n",
       "      <td>2016-05-13</td>\n",
       "    </tr>\n",
       "    <tr>\n",
       "      <th>13329208</th>\n",
       "      <td>1542743</td>\n",
       "      <td>1</td>\n",
       "      <td>2016-05-28</td>\n",
       "      <td>2016-05-13</td>\n",
       "    </tr>\n",
       "    <tr>\n",
       "      <th>11926881</th>\n",
       "      <td>1542759</td>\n",
       "      <td>1</td>\n",
       "      <td>2016-04-28</td>\n",
       "      <td>2016-05-04</td>\n",
       "    </tr>\n",
       "    <tr>\n",
       "      <th>13329221</th>\n",
       "      <td>1542759</td>\n",
       "      <td>1</td>\n",
       "      <td>2016-05-28</td>\n",
       "      <td>2016-05-04</td>\n",
       "    </tr>\n",
       "    <tr>\n",
       "      <th>11926861</th>\n",
       "      <td>1542801</td>\n",
       "      <td>1</td>\n",
       "      <td>2016-04-28</td>\n",
       "      <td>2016-05-09</td>\n",
       "    </tr>\n",
       "    <tr>\n",
       "      <th>13329347</th>\n",
       "      <td>1542801</td>\n",
       "      <td>1</td>\n",
       "      <td>2016-05-28</td>\n",
       "      <td>2016-05-09</td>\n",
       "    </tr>\n",
       "    <tr>\n",
       "      <th>11926765</th>\n",
       "      <td>1542899</td>\n",
       "      <td>1</td>\n",
       "      <td>2016-04-28</td>\n",
       "      <td>2016-05-13</td>\n",
       "    </tr>\n",
       "    <tr>\n",
       "      <th>13329333</th>\n",
       "      <td>1542899</td>\n",
       "      <td>1</td>\n",
       "      <td>2016-05-28</td>\n",
       "      <td>2016-05-13</td>\n",
       "    </tr>\n",
       "  </tbody>\n",
       "</table>\n",
       "<p>113965 rows × 4 columns</p>\n",
       "</div>"
      ],
      "text/plain": [
       "          ncodpers indrel_1mes fecha_dato ult_fec_cli_1t\n",
       "4078994      15891           2 2015-07-28     2015-08-05\n",
       "5319232      15891           1 2015-08-28     2015-08-05\n",
       "4079035      16136           1 2015-07-28     2016-03-17\n",
       "5319290      16136           1 2015-08-28     2016-03-17\n",
       "5705240      16136           1 2015-09-28     2016-03-17\n",
       "6909741      16136           1 2015-10-28     2016-03-17\n",
       "7451203      16136           1 2015-11-28     2016-03-17\n",
       "8618232      16136           1 2015-12-28     2016-03-17\n",
       "9401330      16136           1 2016-01-28     2016-03-17\n",
       "10425949     16136           1 2016-02-28     2016-03-17\n",
       "11170915     16136           1 2016-03-28     2016-03-17\n",
       "417119       16137           1 2015-01-28     2016-03-17\n",
       "836093       16137           1 2015-02-28     2016-03-17\n",
       "1673809      16137           1 2015-03-28     2016-03-17\n",
       "2092052      16137           1 2015-04-28     2016-03-17\n",
       "2933778      16137           1 2015-05-28     2016-03-17\n",
       "3565839      16137           1 2015-06-28     2016-03-17\n",
       "4079034      16137           1 2015-07-28     2016-03-17\n",
       "5319289      16137           1 2015-08-28     2016-03-17\n",
       "5705123      16137           1 2015-09-28     2016-03-17\n",
       "6909742      16137           1 2015-10-28     2016-03-17\n",
       "7451201      16137           1 2015-11-28     2016-03-17\n",
       "8618061      16137           1 2015-12-28     2016-03-17\n",
       "9401329      16137           1 2016-01-28     2016-03-17\n",
       "10425948     16137           1 2016-02-28     2016-03-17\n",
       "11170914     16137           1 2016-03-28     2016-03-17\n",
       "836053       16254           1 2015-02-28     2015-12-04\n",
       "1673790      16254           1 2015-03-28     2015-12-04\n",
       "2092012      16254           1 2015-04-28     2015-12-04\n",
       "2933914      16254           1 2015-05-28     2015-12-04\n",
       "...            ...         ...        ...            ...\n",
       "11930079   1541077           1 2016-04-28     2016-05-09\n",
       "13327684   1541077           1 2016-05-28     2016-05-09\n",
       "11930259   1541337           1 2016-04-28     2016-05-30\n",
       "13327717   1541337           1 2016-05-28     2016-05-30\n",
       "11930208   1541541           1 2016-04-28     2016-05-30\n",
       "13330301   1541541           1 2016-05-28     2016-05-30\n",
       "11927194   1542368           1 2016-04-28     2016-05-10\n",
       "13330412   1542368           1 2016-05-28     2016-05-10\n",
       "11927527   1542510           1 2016-04-28     2016-05-04\n",
       "13330478   1542510           1 2016-05-28     2016-05-04\n",
       "11927533   1542517           1 2016-04-28     2016-05-10\n",
       "13330503   1542517           1 2016-05-28     2016-05-10\n",
       "11927628   1542578           1 2016-04-28     2016-05-10\n",
       "13330436   1542578           1 2016-05-28     2016-05-10\n",
       "11927597   1542608           1 2016-04-28     2016-05-10\n",
       "13330469   1542608           1 2016-05-28     2016-05-10\n",
       "11927605   1542617           1 2016-04-28     2016-05-10\n",
       "13330461   1542617           1 2016-05-28     2016-05-10\n",
       "11927436   1542682           1 2016-04-28     2016-05-19\n",
       "13329270   1542682           1 2016-05-28     2016-05-19\n",
       "11927510   1542702           1 2016-04-28     2016-05-20\n",
       "13329253   1542702           1 2016-05-28     2016-05-20\n",
       "11927486   1542743           1 2016-04-28     2016-05-13\n",
       "13329208   1542743           1 2016-05-28     2016-05-13\n",
       "11926881   1542759           1 2016-04-28     2016-05-04\n",
       "13329221   1542759           1 2016-05-28     2016-05-04\n",
       "11926861   1542801           1 2016-04-28     2016-05-09\n",
       "13329347   1542801           1 2016-05-28     2016-05-09\n",
       "11926765   1542899           1 2016-04-28     2016-05-13\n",
       "13329333   1542899           1 2016-05-28     2016-05-13\n",
       "\n",
       "[113965 rows x 4 columns]"
      ]
     },
     "execution_count": 127,
     "metadata": {},
     "output_type": "execute_result"
    }
   ],
   "source": [
    "d3"
   ]
  },
  {
   "cell_type": "markdown",
   "metadata": {},
   "source": [
    "#### `ult_fec_cli_1t` and `indrel`\n",
    "\n",
    "`indrel`: 1 (First/Primary), 99 (Primary customer during the month but not at the end of the month)\n",
    "\n",
    "1. `indrel` depends on `ult_fec_cli_1t`:\n",
    "    - `ult_fec_cli_1t` not NA, `indrel==99`\n",
    "    - `ult_fec_cli_1t` is NA, `indrel==1` or `indrel=='unknown'`\n",
    "2. What is the definition of primary customer?\n",
    "    - Almost all the customers are primary?\n",
    "    - How about types indicated by `indrel_1mes`, like co-owner, potential, former primary, former co-owner?\n",
    "3. `indrel` only indicates if `ult_fec_cli_1t` of the same row is NA or not\n",
    "    - `ult_fec_cli_1t` is NA, `indrel==1`\n",
    "    - `ult_fec_cli_1t` is not NA, `indrel==99`"
   ]
  },
  {
   "cell_type": "markdown",
   "metadata": {},
   "source": [
    "However, `indrel==99` for all samples with `ult_fec_cli_1t` not NA, this is not consistent with the definition of `ult_fec_cli_1t`"
   ]
  },
  {
   "cell_type": "code",
   "execution_count": 136,
   "metadata": {},
   "outputs": [
    {
     "data": {
      "text/plain": [
       "99.0    24793\n",
       "Name: indrel, dtype: int64"
      ]
     },
     "execution_count": 136,
     "metadata": {},
     "output_type": "execute_result"
    }
   ],
   "source": [
    "a.indrel.value_counts()"
   ]
  },
  {
   "cell_type": "markdown",
   "metadata": {},
   "source": [
    "And for samples with `ult_fec_cli_1t` is NA, `indrel` is either 1 or 'unknown'"
   ]
  },
  {
   "cell_type": "code",
   "execution_count": 137,
   "metadata": {},
   "outputs": [
    {
     "data": {
      "text/plain": [
       "1.0        13594782\n",
       "unknown       27734\n",
       "Name: indrel, dtype: int64"
      ]
     },
     "execution_count": 137,
     "metadata": {},
     "output_type": "execute_result"
    }
   ],
   "source": [
    "df.loc[df.ult_fec_cli_1t.isnull(), 'indrel'].value_counts()"
   ]
  },
  {
   "cell_type": "markdown",
   "metadata": {},
   "source": [
    "So, `indrel` is not very informative, or we can set `indrel=='unknown'` to `indrel=1`"
   ]
  },
  {
   "cell_type": "code",
   "execution_count": 134,
   "metadata": {},
   "outputs": [
    {
     "data": {
      "text/plain": [
       "99.0    24793\n",
       "Name: indrel, dtype: int64"
      ]
     },
     "execution_count": 134,
     "metadata": {},
     "output_type": "execute_result"
    }
   ],
   "source": [
    "a.indrel.value_counts()"
   ]
  },
  {
   "cell_type": "markdown",
   "metadata": {},
   "source": [
    "If a customer has both `ult_fec_cli_1t` NA and not NA, what is `indrel`?"
   ]
  },
  {
   "cell_type": "code",
   "execution_count": 154,
   "metadata": {},
   "outputs": [],
   "source": [
    "a = df.loc[:, ['ncodpers', 'ult_fec_cli_1t', 'indrel']].copy()\n",
    "a.ult_fec_cli_1t = a.ult_fec_cli_1t.isnull()"
   ]
  },
  {
   "cell_type": "code",
   "execution_count": 155,
   "metadata": {},
   "outputs": [
    {
     "data": {
      "text/plain": [
       "ult_fec_cli_1t  indrel \n",
       "False           99.0          24793\n",
       "True            1.0        13594782\n",
       "                unknown       27734\n",
       "Name: ncodpers, dtype: int64"
      ]
     },
     "execution_count": 155,
     "metadata": {},
     "output_type": "execute_result"
    }
   ],
   "source": [
    "a.groupby(['ult_fec_cli_1t', 'indrel']).ncodpers.count()"
   ]
  }
 ],
 "metadata": {
  "kernelspec": {
   "display_name": "Python 3",
   "language": "python",
   "name": "python3"
  },
  "language_info": {
   "codemirror_mode": {
    "name": "ipython",
    "version": 3
   },
   "file_extension": ".py",
   "mimetype": "text/x-python",
   "name": "python",
   "nbconvert_exporter": "python",
   "pygments_lexer": "ipython3",
   "version": "3.6.6"
  }
 },
 "nbformat": 4,
 "nbformat_minor": 2
}
